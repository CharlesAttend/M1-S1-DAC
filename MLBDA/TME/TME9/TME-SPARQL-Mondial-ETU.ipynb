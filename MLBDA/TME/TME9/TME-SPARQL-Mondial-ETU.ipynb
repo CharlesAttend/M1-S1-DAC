{
 "cells": [
  {
   "cell_type": "markdown",
   "metadata": {},
   "source": [
    "# Installation SPARQL Kernel"
   ]
  },
  {
   "cell_type": "markdown",
   "metadata": {},
   "source": [
    "https://github.com/paulovn/sparql-kernel"
   ]
  },
  {
   "cell_type": "code",
   "execution_count": 2,
   "metadata": {
    "vscode": {
     "languageId": "python"
    }
   },
   "outputs": [
    {
     "data": {
      "text/html": [
       "<div class=\"krn-spql\"><div class=\"magic-help\">Available magics:<br/>%auth  %display  %endpoint  %format  %graph  %header  %http_header  %lang  %load  %log  %lsmagics  %method  %outfile  %prefix  %qparam  %show<br/><br/>%auth (basic|digest|none) &lt;username&gt; &lt;passwd&gt; : send HTTP authentication (use env:&lt;var&gt; to get values from environment variables)<br/>%display raw | table [withtypes] | diagram [svg|png] [withliterals] : set display format<br/>%endpoint &lt;url&gt; : set SPARQL endpoint. **REQUIRED**<br/>%format JSON | N3 | XML | default | any | none : set requested result format<br/>%graph &lt;uri&gt; : set default graph for the queries<br/>%header &lt;string&gt; | OFF : add a persistent SPARQL header line before all queries, or delete all defined headers<br/>%http_header &lt;name&gt; [&lt;value&gt;] : add (or delete) an arbitrary HTTP header to all queries<br/>%lang &lt;lang&gt; [...] | default | all : language(s) preferred for labels<br/>%load &lt;filename&gt; : load a file with magic lines and process them<br/>%log critical | error | warning | info | debug : set logging level<br/>%lsmagics  : list all magics<br/>%method get | post : set HTTP method<br/>%outfile &lt;filename&gt; | off : save raw output to a file (use &quot;%d&quot; in name to add cell number, &quot;off&quot; to cancel saving)<br/>%prefix &lt;name&gt; [&lt;uri&gt;] : set (or delete) a persistent URI prefix for all queries<br/>%qparam &lt;name&gt; [&lt;value&gt;] : add (or delete) a persistent custom parameter to all queries<br/>%show &lt;n&gt; | all : maximum number of shown results</div></div>"
      ],
      "text/plain": [
       "Available magics:\n",
       "%auth  %display  %endpoint  %format  %graph  %header  %http_header  %lang  %load  %log  %lsmagics  %method  %outfile  %prefix  %qparam  %show\n",
       "\n",
       "%auth (basic|digest|none) <username> <passwd> : send HTTP authentication (use env:<var> to get values from environment variables)\n",
       "%display raw | table [withtypes] | diagram [svg|png] [withliterals] : set display format\n",
       "%endpoint <url> : set SPARQL endpoint. **REQUIRED**\n",
       "%format JSON | N3 | XML | default | any | none : set requested result format\n",
       "%graph <uri> : set default graph for the queries\n",
       "%header <string> | OFF : add a persistent SPARQL header line before all queries, or delete all defined headers\n",
       "%http_header <name> [<value>] : add (or delete) an arbitrary HTTP header to all queries\n",
       "%lang <lang> [...] | default | all : language(s) preferred for labels\n",
       "%load <filename> : load a file with magic lines and process them\n",
       "%log critical | error | warning | info | debug : set logging level\n",
       "%lsmagics  : list all magics\n",
       "%method get | post : set HTTP method\n",
       "%outfile <filename> | off : save raw output to a file (use \"%d\" in name to add cell number, \"off\" to cancel saving)\n",
       "%prefix <name> [<uri>] : set (or delete) a persistent URI prefix for all queries\n",
       "%qparam <name> [<value>] : add (or delete) a persistent custom parameter to all queries\n",
       "%show <n> | all : maximum number of shown results\n"
      ]
     },
     "metadata": {},
     "output_type": "display_data"
    }
   ],
   "source": [
    "%lsmagics"
   ]
  },
  {
   "cell_type": "markdown",
   "metadata": {},
   "source": [
    "# Requêtes MONDIAL"
   ]
  },
  {
   "cell_type": "code",
   "execution_count": 3,
   "metadata": {
    "vscode": {
     "languageId": "python"
    }
   },
   "outputs": [
    {
     "data": {
      "text/html": [
       "<div class=\"krn-spql\"><div class=\"magic\">Endpoint set to: http://www.semwebtech.org/mondial/10/sparql</div><div class=\"magic\">Label preferred languages: ['en']</div><div class=\"magic\">Logging set to DEBUG</div></div>"
      ],
      "text/plain": [
       "Endpoint set to: http://www.semwebtech.org/mondial/10/sparql\n",
       "Label preferred languages: ['en']\n",
       "Logging set to DEBUG\n"
      ]
     },
     "metadata": {},
     "output_type": "display_data"
    }
   ],
   "source": [
    "#%endpoint http://localhost:3030/mondial/sparql\n",
    "%endpoint http://www.semwebtech.org/mondial/10/sparql\n",
    "%lang en\n",
    "%log debug"
   ]
  },
  {
   "cell_type": "markdown",
   "metadata": {},
   "source": [
    "## Exploration du graphe "
   ]
  },
  {
   "cell_type": "markdown",
   "metadata": {},
   "source": [
    "### URI avec leur types"
   ]
  },
  {
   "cell_type": "code",
   "execution_count": 7,
   "metadata": {
    "vscode": {
     "languageId": "python"
    }
   },
   "outputs": [
    {
     "data": {
      "text/html": [
       "<div class=\"krn-spql\"><div class=\"magic\">Request format: ANY</div><div class=\"magic\">Display: table<br/>Show Types: on</div><div class=\"magic\">Result maximum size: 100</div></div>"
      ],
      "text/plain": [
       "Request format: ANY\n",
       "Display: table\n",
       "Show Types: on\n",
       "Result maximum size: 100\n"
      ]
     },
     "metadata": {},
     "output_type": "display_data"
    },
    {
     "data": {
      "text/html": [
       "<div class=\"krn-spql\"><table><tr class=hdr><th>t</th><th>type</th></tr><tr class=odd><td class=val><a href=\"http://www.semwebtech.org/mondial/10/meta#Archipelago\" target=\"_other\">http://www.semwebtech.org/mondial/10/meta#Archipelago</a></td><td class=typ>uri</td></tr><tr class=even><td class=val><a href=\"http://www.semwebtech.org/mondial/10/meta#BelievedBy\" target=\"_other\">http://www.semwebtech.org/mondial/10/meta#BelievedBy</a></td><td class=typ>uri</td></tr><tr class=odd><td class=val><a href=\"http://www.semwebtech.org/mondial/10/meta#Border\" target=\"_other\">http://www.semwebtech.org/mondial/10/meta#Border</a></td><td class=typ>uri</td></tr><tr class=even><td class=val><a href=\"http://www.semwebtech.org/mondial/10/meta#City\" target=\"_other\">http://www.semwebtech.org/mondial/10/meta#City</a></td><td class=typ>uri</td></tr><tr class=odd><td class=val><a href=\"http://www.semwebtech.org/mondial/10/meta#Continent\" target=\"_other\">http://www.semwebtech.org/mondial/10/meta#Continent</a></td><td class=typ>uri</td></tr><tr class=even><td class=val><a href=\"http://www.semwebtech.org/mondial/10/meta#Country\" target=\"_other\">http://www.semwebtech.org/mondial/10/meta#Country</a></td><td class=typ>uri</td></tr><tr class=odd><td class=val><a href=\"http://www.semwebtech.org/mondial/10/meta#Desert\" target=\"_other\">http://www.semwebtech.org/mondial/10/meta#Desert</a></td><td class=typ>uri</td></tr><tr class=even><td class=val><a href=\"http://www.semwebtech.org/mondial/10/meta#Encompassed\" target=\"_other\">http://www.semwebtech.org/mondial/10/meta#Encompassed</a></td><td class=typ>uri</td></tr><tr class=odd><td class=val><a href=\"http://www.semwebtech.org/mondial/10/meta#Estuary\" target=\"_other\">http://www.semwebtech.org/mondial/10/meta#Estuary</a></td><td class=typ>uri</td></tr><tr class=even><td class=val><a href=\"http://www.semwebtech.org/mondial/10/meta#EthnicGroup\" target=\"_other\">http://www.semwebtech.org/mondial/10/meta#EthnicGroup</a></td><td class=typ>uri</td></tr><tr class=odd><td class=val><a href=\"http://www.semwebtech.org/mondial/10/meta#EthnicProportion\" target=\"_other\">http://www.semwebtech.org/mondial/10/meta#EthnicProportion</a></td><td class=typ>uri</td></tr><tr class=even><td class=val><a href=\"http://www.semwebtech.org/mondial/10/meta#Island\" target=\"_other\">http://www.semwebtech.org/mondial/10/meta#Island</a></td><td class=typ>uri</td></tr><tr class=odd><td class=val><a href=\"http://www.semwebtech.org/mondial/10/meta#Lake\" target=\"_other\">http://www.semwebtech.org/mondial/10/meta#Lake</a></td><td class=typ>uri</td></tr><tr class=even><td class=val><a href=\"http://www.semwebtech.org/mondial/10/meta#Language\" target=\"_other\">http://www.semwebtech.org/mondial/10/meta#Language</a></td><td class=typ>uri</td></tr><tr class=odd><td class=val><a href=\"http://www.semwebtech.org/mondial/10/meta#Membership\" target=\"_other\">http://www.semwebtech.org/mondial/10/meta#Membership</a></td><td class=typ>uri</td></tr><tr class=even><td class=val><a href=\"http://www.semwebtech.org/mondial/10/meta#Mountain\" target=\"_other\">http://www.semwebtech.org/mondial/10/meta#Mountain</a></td><td class=typ>uri</td></tr><tr class=odd><td class=val><a href=\"http://www.semwebtech.org/mondial/10/meta#MountainRange\" target=\"_other\">http://www.semwebtech.org/mondial/10/meta#MountainRange</a></td><td class=typ>uri</td></tr><tr class=even><td class=val><a href=\"http://www.semwebtech.org/mondial/10/meta#Organization\" target=\"_other\">http://www.semwebtech.org/mondial/10/meta#Organization</a></td><td class=typ>uri</td></tr><tr class=odd><td class=val><a href=\"http://www.semwebtech.org/mondial/10/meta#PoliticalBody\" target=\"_other\">http://www.semwebtech.org/mondial/10/meta#PoliticalBody</a></td><td class=typ>uri</td></tr><tr class=even><td class=val><a href=\"http://www.semwebtech.org/mondial/10/meta#PopulationCount\" target=\"_other\">http://www.semwebtech.org/mondial/10/meta#PopulationCount</a></td><td class=typ>uri</td></tr><tr class=odd><td class=val><a href=\"http://www.semwebtech.org/mondial/10/meta#Province\" target=\"_other\">http://www.semwebtech.org/mondial/10/meta#Province</a></td><td class=typ>uri</td></tr><tr class=even><td class=val><a href=\"http://www.semwebtech.org/mondial/10/meta#Religion\" target=\"_other\">http://www.semwebtech.org/mondial/10/meta#Religion</a></td><td class=typ>uri</td></tr><tr class=odd><td class=val><a href=\"http://www.semwebtech.org/mondial/10/meta#River\" target=\"_other\">http://www.semwebtech.org/mondial/10/meta#River</a></td><td class=typ>uri</td></tr><tr class=even><td class=val><a href=\"http://www.semwebtech.org/mondial/10/meta#Sea\" target=\"_other\">http://www.semwebtech.org/mondial/10/meta#Sea</a></td><td class=typ>uri</td></tr><tr class=odd><td class=val><a href=\"http://www.semwebtech.org/mondial/10/meta#Source\" target=\"_other\">http://www.semwebtech.org/mondial/10/meta#Source</a></td><td class=typ>uri</td></tr><tr class=even><td class=val><a href=\"http://www.semwebtech.org/mondial/10/meta#SpokenBy\" target=\"_other\">http://www.semwebtech.org/mondial/10/meta#SpokenBy</a></td><td class=typ>uri</td></tr><tr class=odd><td class=val><a href=\"http://www.semwebtech.org/mondial/10/meta#Volcano\" target=\"_other\">http://www.semwebtech.org/mondial/10/meta#Volcano</a></td><td class=typ>uri</td></tr><tr class=even><td class=val><a href=\"http://www.w3.org/2002/07/owl#Class\" target=\"_other\">http://www.w3.org/2002/07/owl#Class</a></td><td class=typ>uri</td></tr><tr class=odd><td class=val><a href=\"http://www.w3.org/2002/07/owl#DatatypeProperty\" target=\"_other\">http://www.w3.org/2002/07/owl#DatatypeProperty</a></td><td class=typ>uri</td></tr><tr class=even><td class=val><a href=\"http://www.w3.org/2002/07/owl#FunctionalProperty\" target=\"_other\">http://www.w3.org/2002/07/owl#FunctionalProperty</a></td><td class=typ>uri</td></tr><tr class=odd><td class=val><a href=\"http://www.w3.org/2002/07/owl#InverseFunctionalProperty\" target=\"_other\">http://www.w3.org/2002/07/owl#InverseFunctionalProperty</a></td><td class=typ>uri</td></tr><tr class=even><td class=val><a href=\"http://www.w3.org/2002/07/owl#ObjectProperty\" target=\"_other\">http://www.w3.org/2002/07/owl#ObjectProperty</a></td><td class=typ>uri</td></tr><tr class=odd><td class=val><a href=\"http://www.w3.org/2002/07/owl#Restriction\" target=\"_other\">http://www.w3.org/2002/07/owl#Restriction</a></td><td class=typ>uri</td></tr><tr class=even><td class=val><a href=\"http://www.w3.org/2002/07/owl#SymmetricProperty\" target=\"_other\">http://www.w3.org/2002/07/owl#SymmetricProperty</a></td><td class=typ>uri</td></tr></table><div class=\"tinfo\">Total: 34, Shown: 34</div></div>"
      ]
     },
     "metadata": {},
     "output_type": "display_data"
    }
   ],
   "source": [
    "%format any\n",
    "%display table withtypes\n",
    "%show 100\n",
    "\n",
    "PREFIX prefix: <http://prefix.cc/>\n",
    "PREFIX co: <http://purl.org/ontology/co/core#>\n",
    "PREFIX coun: <http://www.daml.org/2001/09/countries/iso-3166-ont#>\n",
    "prefix rdfs: <http://www.w3.org/2000/01/rdf-schema#>\n",
    "prefix owl: <http://www.w3.org/2002/07/owl#>\n",
    "prefix mon: <http://www.semwebtech.org/mondial/10/meta#>\n",
    "prefix mondial: <http://www.semwebtech.org/mondial/10/>\n",
    "SELECT DISTINCT ?t\n",
    "WHERE {\n",
    "    ?a a ?t\n",
    "} ORDER BY ?t"
   ]
  },
  {
   "cell_type": "markdown",
   "metadata": {},
   "source": [
    "### Les propriétes liées à des sujets de type Country"
   ]
  },
  {
   "cell_type": "code",
   "execution_count": 27,
   "metadata": {
    "vscode": {
     "languageId": "python"
    }
   },
   "outputs": [
    {
     "data": {
      "text/html": [
       "<div class=\"krn-spql\"><div class=\"magic\">Request format: ANY</div><div class=\"magic\">Display: table</div><div class=\"magic\">Result maximum size: 100</div></div>"
      ],
      "text/plain": [
       "Request format: ANY\n",
       "Display: table\n",
       "Result maximum size: 100\n"
      ]
     },
     "metadata": {},
     "output_type": "display_data"
    },
    {
     "data": {
      "text/html": [
       "<div class=\"krn-spql\"><table><tr class=hdr><th>p</th></tr><tr class=odd><td class=val><a href=\"http://www.semwebtech.org/mondial/10/meta#isMember\" target=\"_other\">http://www.semwebtech.org/mondial/10/meta#isMember</a></td></tr><tr class=even><td class=val><a href=\"http://www.semwebtech.org/mondial/10/meta#hasCity\" target=\"_other\">http://www.semwebtech.org/mondial/10/meta#hasCity</a></td></tr><tr class=odd><td class=val><a href=\"http://www.semwebtech.org/mondial/10/meta#neighbor\" target=\"_other\">http://www.semwebtech.org/mondial/10/meta#neighbor</a></td></tr><tr class=even><td class=val><a href=\"http://www.w3.org/2002/07/owl#sameAs\" target=\"_other\">http://www.w3.org/2002/07/owl#sameAs</a></td></tr><tr class=odd><td class=val><a href=\"http://www.semwebtech.org/mondial/10/meta#unemployment\" target=\"_other\">http://www.semwebtech.org/mondial/10/meta#unemployment</a></td></tr><tr class=even><td class=val><a href=\"http://www.semwebtech.org/mondial/10/meta#inflation\" target=\"_other\">http://www.semwebtech.org/mondial/10/meta#inflation</a></td></tr><tr class=odd><td class=val><a href=\"http://www.semwebtech.org/mondial/10/meta#hadPopulation\" target=\"_other\">http://www.semwebtech.org/mondial/10/meta#hadPopulation</a></td></tr><tr class=even><td class=val><a href=\"http://www.semwebtech.org/mondial/10/meta#gdpTotal\" target=\"_other\">http://www.semwebtech.org/mondial/10/meta#gdpTotal</a></td></tr><tr class=odd><td class=val><a href=\"http://www.semwebtech.org/mondial/10/meta#hasProvince\" target=\"_other\">http://www.semwebtech.org/mondial/10/meta#hasProvince</a></td></tr><tr class=even><td class=val><a href=\"http://www.semwebtech.org/mondial/10/meta#localname\" target=\"_other\">http://www.semwebtech.org/mondial/10/meta#localname</a></td></tr><tr class=odd><td class=val><a href=\"http://www.semwebtech.org/mondial/10/meta#populationGrowth\" target=\"_other\">http://www.semwebtech.org/mondial/10/meta#populationGrowth</a></td></tr><tr class=even><td class=val><a href=\"http://www.semwebtech.org/mondial/10/meta#capital\" target=\"_other\">http://www.semwebtech.org/mondial/10/meta#capital</a></td></tr><tr class=odd><td class=val><a href=\"http://www.w3.org/1999/02/22-rdf-syntax-ns#type\" target=\"_other\">http://www.w3.org/1999/02/22-rdf-syntax-ns#type</a></td></tr><tr class=even><td class=val><a href=\"http://www.semwebtech.org/mondial/10/meta#independenceDate\" target=\"_other\">http://www.semwebtech.org/mondial/10/meta#independenceDate</a></td></tr><tr class=odd><td class=val><a href=\"http://www.semwebtech.org/mondial/10/meta#population\" target=\"_other\">http://www.semwebtech.org/mondial/10/meta#population</a></td></tr><tr class=even><td class=val><a href=\"http://www.semwebtech.org/mondial/10/meta#gdpServ\" target=\"_other\">http://www.semwebtech.org/mondial/10/meta#gdpServ</a></td></tr><tr class=odd><td class=val><a href=\"http://www.semwebtech.org/mondial/10/meta#carCode\" target=\"_other\">http://www.semwebtech.org/mondial/10/meta#carCode</a></td></tr><tr class=even><td class=val><a href=\"http://www.semwebtech.org/mondial/10/meta#area\" target=\"_other\">http://www.semwebtech.org/mondial/10/meta#area</a></td></tr><tr class=odd><td class=val><a href=\"http://www.semwebtech.org/mondial/10/meta#gdpInd\" target=\"_other\">http://www.semwebtech.org/mondial/10/meta#gdpInd</a></td></tr><tr class=even><td class=val><a href=\"http://www.semwebtech.org/mondial/10/meta#wasDependentOf\" target=\"_other\">http://www.semwebtech.org/mondial/10/meta#wasDependentOf</a></td></tr><tr class=odd><td class=val><a href=\"http://www.semwebtech.org/mondial/10/meta#gdpAgri\" target=\"_other\">http://www.semwebtech.org/mondial/10/meta#gdpAgri</a></td></tr><tr class=even><td class=val><a href=\"http://www.semwebtech.org/mondial/10/meta#government\" target=\"_other\">http://www.semwebtech.org/mondial/10/meta#government</a></td></tr><tr class=odd><td class=val><a href=\"http://www.semwebtech.org/mondial/10/meta#name\" target=\"_other\">http://www.semwebtech.org/mondial/10/meta#name</a></td></tr><tr class=even><td class=val><a href=\"http://www.semwebtech.org/mondial/10/meta#infantMortality\" target=\"_other\">http://www.semwebtech.org/mondial/10/meta#infantMortality</a></td></tr><tr class=odd><td class=val><a href=\"http://www.semwebtech.org/mondial/10/meta#encompassed\" target=\"_other\">http://www.semwebtech.org/mondial/10/meta#encompassed</a></td></tr><tr class=even><td class=val><a href=\"http://www.semwebtech.org/mondial/10/meta#dependentOf\" target=\"_other\">http://www.semwebtech.org/mondial/10/meta#dependentOf</a></td></tr><tr class=odd><td class=val><a href=\"http://www.semwebtech.org/mondial/10/meta#othername\" target=\"_other\">http://www.semwebtech.org/mondial/10/meta#othername</a></td></tr></table><div class=\"tinfo\">Total: 27, Shown: 27</div></div>"
      ]
     },
     "metadata": {},
     "output_type": "display_data"
    }
   ],
   "source": [
    "%format any\n",
    "%display table \n",
    "%show 100\n",
    "\n",
    "\n",
    "PREFIX prefix: <http://prefix.cc/>\n",
    "PREFIX co: <http://purl.org/ontology/co/core#>\n",
    "PREFIX coun: <http://www.daml.org/2001/09/countries/iso-3166-ont#>\n",
    "prefix rdfs: <http://www.w3.org/2000/01/rdf-schema#>\n",
    "prefix owl: <http://www.w3.org/2002/07/owl#>\n",
    "prefix : <http://www.semwebtech.org/mondial/10/meta#>\n",
    "prefix mondial: <http://www.semwebtech.org/mondial/10/>\n",
    "SELECT DISTINCT ?p\n",
    "WHERE {\n",
    "    ?a a :Country ;\n",
    "         ?p ?x \n",
    "} LIMIT 200"
   ]
  },
  {
   "cell_type": "markdown",
   "metadata": {},
   "source": [
    "### Les propriétes liées à des sujets de type River"
   ]
  },
  {
   "cell_type": "code",
   "execution_count": 9,
   "metadata": {
    "scrolled": true,
    "vscode": {
     "languageId": "python"
    }
   },
   "outputs": [
    {
     "data": {
      "text/html": [
       "<div class=\"krn-spql\"><div class=\"magic\">Request format: ANY</div><div class=\"magic\">Display: table</div><div class=\"magic\">Result maximum size: 100</div></div>"
      ],
      "text/plain": [
       "Request format: ANY\n",
       "Display: table\n",
       "Result maximum size: 100\n"
      ]
     },
     "metadata": {},
     "output_type": "display_data"
    },
    {
     "data": {
      "text/html": [
       "<div class=\"krn-spql\"><table><tr class=hdr><th>p</th></tr><tr class=odd><td class=val><a href=\"http://www.semwebtech.org/mondial/10/meta#locatedIn\" target=\"_other\">http://www.semwebtech.org/mondial/10/meta#locatedIn</a></td></tr><tr class=even><td class=val><a href=\"http://www.semwebtech.org/mondial/10/meta#area\" target=\"_other\">http://www.semwebtech.org/mondial/10/meta#area</a></td></tr><tr class=odd><td class=val><a href=\"http://www.semwebtech.org/mondial/10/meta#flowsInto\" target=\"_other\">http://www.semwebtech.org/mondial/10/meta#flowsInto</a></td></tr><tr class=even><td class=val><a href=\"http://www.semwebtech.org/mondial/10/meta#length\" target=\"_other\">http://www.semwebtech.org/mondial/10/meta#length</a></td></tr><tr class=odd><td class=val><a href=\"http://www.w3.org/1999/02/22-rdf-syntax-ns#type\" target=\"_other\">http://www.w3.org/1999/02/22-rdf-syntax-ns#type</a></td></tr><tr class=even><td class=val><a href=\"http://www.semwebtech.org/mondial/10/meta#name\" target=\"_other\">http://www.semwebtech.org/mondial/10/meta#name</a></td></tr><tr class=odd><td class=val><a href=\"http://www.semwebtech.org/mondial/10/meta#hasEstuary\" target=\"_other\">http://www.semwebtech.org/mondial/10/meta#hasEstuary</a></td></tr><tr class=even><td class=val><a href=\"http://www.semwebtech.org/mondial/10/meta#hasSource\" target=\"_other\">http://www.semwebtech.org/mondial/10/meta#hasSource</a></td></tr><tr class=odd><td class=val><a href=\"http://www.w3.org/2002/07/owl#sameAs\" target=\"_other\">http://www.w3.org/2002/07/owl#sameAs</a></td></tr><tr class=even><td class=val><a href=\"http://www.semwebtech.org/mondial/10/meta#locatedOnIsland\" target=\"_other\">http://www.semwebtech.org/mondial/10/meta#locatedOnIsland</a></td></tr><tr class=odd><td class=val><a href=\"http://www.semwebtech.org/mondial/10/meta#flowsThrough\" target=\"_other\">http://www.semwebtech.org/mondial/10/meta#flowsThrough</a></td></tr></table><div class=\"tinfo\">Total: 11, Shown: 11</div></div>"
      ]
     },
     "metadata": {},
     "output_type": "display_data"
    }
   ],
   "source": [
    "%format any\n",
    "%display table \n",
    "%show 100\n",
    "\n",
    "\n",
    "PREFIX prefix: <http://prefix.cc/>\n",
    "PREFIX co: <http://purl.org/ontology/co/core#>\n",
    "PREFIX coun: <http://www.daml.org/2001/09/countries/iso-3166-ont#>\n",
    "prefix rdfs: <http://www.w3.org/2000/01/rdf-schema#>\n",
    "prefix owl: <http://www.w3.org/2002/07/owl#>\n",
    "prefix : <http://www.semwebtech.org/mondial/10/meta#>\n",
    "prefix mondial: <http://www.semwebtech.org/mondial/10/>\n",
    "SELECT DISTINCT ?p\n",
    "WHERE {\n",
    "    ?a a :River ;\n",
    "         ?p ?x \n",
    "} LIMIT 200"
   ]
  },
  {
   "cell_type": "code",
   "execution_count": 29,
   "metadata": {
    "vscode": {
     "languageId": "python"
    }
   },
   "outputs": [
    {
     "data": {
      "text/html": [
       "<div class=\"krn-spql\"><div class=\"magic\">Request format: ANY</div><div class=\"magic\">Display: table</div><div class=\"magic\">Result maximum size: 100</div></div>"
      ],
      "text/plain": [
       "Request format: ANY\n",
       "Display: table\n",
       "Result maximum size: 100\n"
      ]
     },
     "metadata": {},
     "output_type": "display_data"
    },
    {
     "data": {
      "text/html": [
       "<div class=\"krn-spql\"><table><tr class=hdr><th>p</th></tr><tr class=odd><td class=val><a href=\"http://www.semwebtech.org/mondial/10/meta#hasHeadq\" target=\"_other\">http://www.semwebtech.org/mondial/10/meta#hasHeadq</a></td></tr><tr class=even><td class=val><a href=\"http://www.semwebtech.org/mondial/10/meta#established\" target=\"_other\">http://www.semwebtech.org/mondial/10/meta#established</a></td></tr><tr class=odd><td class=val><a href=\"http://www.semwebtech.org/mondial/10/meta#abbrev\" target=\"_other\">http://www.semwebtech.org/mondial/10/meta#abbrev</a></td></tr><tr class=even><td class=val><a href=\"http://www.semwebtech.org/mondial/10/meta#name\" target=\"_other\">http://www.semwebtech.org/mondial/10/meta#name</a></td></tr><tr class=odd><td class=val><a href=\"http://www.w3.org/1999/02/22-rdf-syntax-ns#type\" target=\"_other\">http://www.w3.org/1999/02/22-rdf-syntax-ns#type</a></td></tr><tr class=even><td class=val><a href=\"http://www.w3.org/2002/07/owl#sameAs\" target=\"_other\">http://www.w3.org/2002/07/owl#sameAs</a></td></tr></table><div class=\"tinfo\">Total: 6, Shown: 6</div></div>"
      ]
     },
     "metadata": {},
     "output_type": "display_data"
    }
   ],
   "source": [
    "%format any\n",
    "%display table \n",
    "%show 100\n",
    "\n",
    "\n",
    "PREFIX prefix: <http://prefix.cc/>\n",
    "PREFIX co: <http://purl.org/ontology/co/core#>\n",
    "PREFIX coun: <http://www.daml.org/2001/09/countries/iso-3166-ont#>\n",
    "prefix rdfs: <http://www.w3.org/2000/01/rdf-schema#>\n",
    "prefix owl: <http://www.w3.org/2002/07/owl#>\n",
    "prefix : <http://www.semwebtech.org/mondial/10/meta#>\n",
    "prefix mondial: <http://www.semwebtech.org/mondial/10/>\n",
    "SELECT DISTINCT ?p\n",
    "WHERE {\n",
    "    ?a a :Organization ;\n",
    "         ?p ?x \n",
    "} LIMIT 200"
   ]
  },
  {
   "cell_type": "markdown",
   "metadata": {},
   "source": [
    "Exprimer les requetes qui retournent les informations suivantes :"
   ]
  },
  {
   "cell_type": "markdown",
   "metadata": {},
   "source": [
    "## Requetes simples\n"
   ]
  },
  {
   "cell_type": "markdown",
   "metadata": {},
   "source": [
    "La liste des continents"
   ]
  },
  {
   "cell_type": "code",
   "execution_count": 16,
   "metadata": {
    "vscode": {
     "languageId": "python"
    }
   },
   "outputs": [
    {
     "data": {
      "text/html": [
       "<div class=\"krn-spql\"><div class=\"magic\">Request format: ANY</div><div class=\"magic\">Display: table</div><div class=\"magic\">Result maximum size: 100</div></div>"
      ],
      "text/plain": [
       "Request format: ANY\n",
       "Display: table\n",
       "Result maximum size: 100\n"
      ]
     },
     "metadata": {},
     "output_type": "display_data"
    },
    {
     "data": {
      "text/html": [
       "<div class=\"krn-spql\"><table><tr class=hdr><th>c</th></tr><tr class=odd><td class=val><a href=\"http://www.semwebtech.org/mondial/10/continents/South+America/\" target=\"_other\">http://www.semwebtech.org/mondial/10/continents/South+America/</a></td></tr><tr class=even><td class=val><a href=\"http://www.semwebtech.org/mondial/10/continents/Australia$Oceania/\" target=\"_other\">http://www.semwebtech.org/mondial/10/continents/Australia$Oceania/</a></td></tr><tr class=odd><td class=val><a href=\"http://www.semwebtech.org/mondial/10/continents/Asia/\" target=\"_other\">http://www.semwebtech.org/mondial/10/continents/Asia/</a></td></tr><tr class=even><td class=val><a href=\"http://www.semwebtech.org/mondial/10/continents/Europe/\" target=\"_other\">http://www.semwebtech.org/mondial/10/continents/Europe/</a></td></tr><tr class=odd><td class=val><a href=\"http://www.semwebtech.org/mondial/10/continents/North+America/\" target=\"_other\">http://www.semwebtech.org/mondial/10/continents/North+America/</a></td></tr><tr class=even><td class=val><a href=\"http://www.semwebtech.org/mondial/10/continents/Africa/\" target=\"_other\">http://www.semwebtech.org/mondial/10/continents/Africa/</a></td></tr></table><div class=\"tinfo\">Total: 6, Shown: 6</div></div>"
      ]
     },
     "metadata": {},
     "output_type": "display_data"
    }
   ],
   "source": [
    "%format any\n",
    "%display table \n",
    "%show 100\n",
    "\n",
    "\n",
    "PREFIX prefix: <http://prefix.cc/>\n",
    "PREFIX co: <http://purl.org/ontology/co/core#>\n",
    "PREFIX coun: <http://www.daml.org/2001/09/countries/iso-3166-ont#>\n",
    "prefix rdfs: <http://www.w3.org/2000/01/rdf-schema#>\n",
    "prefix owl: <http://www.w3.org/2002/07/owl#>\n",
    "prefix : <http://www.semwebtech.org/mondial/10/meta#>\n",
    "prefix mondial: <http://www.semwebtech.org/mondial/10/>\n",
    "SELECT ?c\n",
    "WHERE {\n",
    "    ?c a :Continent\n",
    "} "
   ]
  },
  {
   "cell_type": "markdown",
   "metadata": {},
   "source": [
    "La liste des pays avec leur continent "
   ]
  },
  {
   "cell_type": "code",
   "execution_count": 18,
   "metadata": {
    "vscode": {
     "languageId": "python"
    }
   },
   "outputs": [
    {
     "data": {
      "text/html": [
       "<div class=\"krn-spql\"><div class=\"magic\">Request format: ANY</div><div class=\"magic\">Display: table</div></div>"
      ],
      "text/plain": [
       "Request format: ANY\n",
       "Display: table\n"
      ]
     },
     "metadata": {},
     "output_type": "display_data"
    },
    {
     "data": {
      "text/html": [
       "<div class=\"krn-spql\"><table><tr class=hdr><th>c</th>\n",
       "<th>ct</th></tr><tr class=odd><td class=val><a href=\"http://www.semwebtech.org/mondial/10/countries/GR/\" target=\"_other\">http://www.semwebtech.org/mondial/10/countries/GR/</a></td>\n",
       "<td class=val><a href=\"http://www.semwebtech.org/mondial/10/continents/Europe/\" target=\"_other\">http://www.semwebtech.org/mondial/10/continents/Europe/</a></td></tr><tr class=even><td class=val><a href=\"http://www.semwebtech.org/mondial/10/countries/SX/\" target=\"_other\">http://www.semwebtech.org/mondial/10/countries/SX/</a></td>\n",
       "<td class=val><a href=\"http://www.semwebtech.org/mondial/10/continents/North+America/\" target=\"_other\">http://www.semwebtech.org/mondial/10/continents/North+America/</a></td></tr><tr class=odd><td class=val><a href=\"http://www.semwebtech.org/mondial/10/countries/RG/\" target=\"_other\">http://www.semwebtech.org/mondial/10/countries/RG/</a></td>\n",
       "<td class=val><a href=\"http://www.semwebtech.org/mondial/10/continents/Africa/\" target=\"_other\">http://www.semwebtech.org/mondial/10/continents/Africa/</a></td></tr><tr class=even><td class=val><a href=\"http://www.semwebtech.org/mondial/10/countries/BG/\" target=\"_other\">http://www.semwebtech.org/mondial/10/countries/BG/</a></td>\n",
       "<td class=val><a href=\"http://www.semwebtech.org/mondial/10/continents/Europe/\" target=\"_other\">http://www.semwebtech.org/mondial/10/continents/Europe/</a></td></tr><tr class=odd><td class=val><a href=\"http://www.semwebtech.org/mondial/10/countries/AL/\" target=\"_other\">http://www.semwebtech.org/mondial/10/countries/AL/</a></td>\n",
       "<td class=val><a href=\"http://www.semwebtech.org/mondial/10/continents/Europe/\" target=\"_other\">http://www.semwebtech.org/mondial/10/continents/Europe/</a></td></tr><tr class=even><td class=val><a href=\"http://www.semwebtech.org/mondial/10/countries/NEP/\" target=\"_other\">http://www.semwebtech.org/mondial/10/countries/NEP/</a></td>\n",
       "<td class=val><a href=\"http://www.semwebtech.org/mondial/10/continents/Asia/\" target=\"_other\">http://www.semwebtech.org/mondial/10/continents/Asia/</a></td></tr><tr class=odd><td class=val><a href=\"http://www.semwebtech.org/mondial/10/countries/GQ/\" target=\"_other\">http://www.semwebtech.org/mondial/10/countries/GQ/</a></td>\n",
       "<td class=val><a href=\"http://www.semwebtech.org/mondial/10/continents/Africa/\" target=\"_other\">http://www.semwebtech.org/mondial/10/continents/Africa/</a></td></tr><tr class=even><td class=val><a href=\"http://www.semwebtech.org/mondial/10/countries/MQ/\" target=\"_other\">http://www.semwebtech.org/mondial/10/countries/MQ/</a></td>\n",
       "<td class=val><a href=\"http://www.semwebtech.org/mondial/10/continents/North+America/\" target=\"_other\">http://www.semwebtech.org/mondial/10/continents/North+America/</a></td></tr><tr class=odd><td class=val><a href=\"http://www.semwebtech.org/mondial/10/countries/PA/\" target=\"_other\">http://www.semwebtech.org/mondial/10/countries/PA/</a></td>\n",
       "<td class=val><a href=\"http://www.semwebtech.org/mondial/10/continents/North+America/\" target=\"_other\">http://www.semwebtech.org/mondial/10/continents/North+America/</a></td></tr><tr class=even><td class=val><a href=\"http://www.semwebtech.org/mondial/10/countries/RB/\" target=\"_other\">http://www.semwebtech.org/mondial/10/countries/RB/</a></td>\n",
       "<td class=val><a href=\"http://www.semwebtech.org/mondial/10/continents/Africa/\" target=\"_other\">http://www.semwebtech.org/mondial/10/continents/Africa/</a></td></tr><tr class=odd><td class=val><a href=\"http://www.semwebtech.org/mondial/10/countries/BHT/\" target=\"_other\">http://www.semwebtech.org/mondial/10/countries/BHT/</a></td>\n",
       "<td class=val><a href=\"http://www.semwebtech.org/mondial/10/continents/Asia/\" target=\"_other\">http://www.semwebtech.org/mondial/10/continents/Asia/</a></td></tr><tr class=even><td class=val><a href=\"http://www.semwebtech.org/mondial/10/countries/SSD/\" target=\"_other\">http://www.semwebtech.org/mondial/10/countries/SSD/</a></td>\n",
       "<td class=val><a href=\"http://www.semwebtech.org/mondial/10/continents/Africa/\" target=\"_other\">http://www.semwebtech.org/mondial/10/continents/Africa/</a></td></tr><tr class=odd><td class=val><a href=\"http://www.semwebtech.org/mondial/10/countries/AFG/\" target=\"_other\">http://www.semwebtech.org/mondial/10/countries/AFG/</a></td>\n",
       "<td class=val><a href=\"http://www.semwebtech.org/mondial/10/continents/Asia/\" target=\"_other\">http://www.semwebtech.org/mondial/10/continents/Asia/</a></td></tr><tr class=even><td class=val><a href=\"http://www.semwebtech.org/mondial/10/countries/TN/\" target=\"_other\">http://www.semwebtech.org/mondial/10/countries/TN/</a></td>\n",
       "<td class=val><a href=\"http://www.semwebtech.org/mondial/10/continents/Africa/\" target=\"_other\">http://www.semwebtech.org/mondial/10/continents/Africa/</a></td></tr><tr class=odd><td class=val><a href=\"http://www.semwebtech.org/mondial/10/countries/RI/\" target=\"_other\">http://www.semwebtech.org/mondial/10/countries/RI/</a></td>\n",
       "<td class=val><a href=\"http://www.semwebtech.org/mondial/10/continents/Asia/\" target=\"_other\">http://www.semwebtech.org/mondial/10/continents/Asia/</a></td></tr><tr class=even><td class=val><a href=\"http://www.semwebtech.org/mondial/10/countries/RI/\" target=\"_other\">http://www.semwebtech.org/mondial/10/countries/RI/</a></td>\n",
       "<td class=val><a href=\"http://www.semwebtech.org/mondial/10/continents/Australia$Oceania/\" target=\"_other\">http://www.semwebtech.org/mondial/10/continents/Australia$Oceania/</a></td></tr><tr class=odd><td class=val><a href=\"http://www.semwebtech.org/mondial/10/countries/WV/\" target=\"_other\">http://www.semwebtech.org/mondial/10/countries/WV/</a></td>\n",
       "<td class=val><a href=\"http://www.semwebtech.org/mondial/10/continents/North+America/\" target=\"_other\">http://www.semwebtech.org/mondial/10/continents/North+America/</a></td></tr><tr class=even><td class=val><a href=\"http://www.semwebtech.org/mondial/10/countries/NIC/\" target=\"_other\">http://www.semwebtech.org/mondial/10/countries/NIC/</a></td>\n",
       "<td class=val><a href=\"http://www.semwebtech.org/mondial/10/continents/North+America/\" target=\"_other\">http://www.semwebtech.org/mondial/10/continents/North+America/</a></td></tr><tr class=odd><td class=val><a href=\"http://www.semwebtech.org/mondial/10/countries/MS/\" target=\"_other\">http://www.semwebtech.org/mondial/10/countries/MS/</a></td>\n",
       "<td class=val><a href=\"http://www.semwebtech.org/mondial/10/continents/Africa/\" target=\"_other\">http://www.semwebtech.org/mondial/10/continents/Africa/</a></td></tr><tr class=even><td class=val><a href=\"http://www.semwebtech.org/mondial/10/countries/DJI/\" target=\"_other\">http://www.semwebtech.org/mondial/10/countries/DJI/</a></td>\n",
       "<td class=val><a href=\"http://www.semwebtech.org/mondial/10/continents/Africa/\" target=\"_other\">http://www.semwebtech.org/mondial/10/continents/Africa/</a></td></tr><tr class=odd><td class=val><a href=\"http://www.semwebtech.org/mondial/10/countries/PK/\" target=\"_other\">http://www.semwebtech.org/mondial/10/countries/PK/</a></td>\n",
       "<td class=val><a href=\"http://www.semwebtech.org/mondial/10/continents/Asia/\" target=\"_other\">http://www.semwebtech.org/mondial/10/continents/Asia/</a></td></tr><tr class=even><td class=val><a href=\"http://www.semwebtech.org/mondial/10/countries/MK/\" target=\"_other\">http://www.semwebtech.org/mondial/10/countries/MK/</a></td>\n",
       "<td class=val><a href=\"http://www.semwebtech.org/mondial/10/continents/Europe/\" target=\"_other\">http://www.semwebtech.org/mondial/10/continents/Europe/</a></td></tr><tr class=odd><td class=val><a href=\"http://www.semwebtech.org/mondial/10/countries/A/\" target=\"_other\">http://www.semwebtech.org/mondial/10/countries/A/</a></td>\n",
       "<td class=val><a href=\"http://www.semwebtech.org/mondial/10/continents/Europe/\" target=\"_other\">http://www.semwebtech.org/mondial/10/continents/Europe/</a></td></tr><tr class=even><td class=val><a href=\"http://www.semwebtech.org/mondial/10/countries/FO/\" target=\"_other\">http://www.semwebtech.org/mondial/10/countries/FO/</a></td>\n",
       "<td class=val><a href=\"http://www.semwebtech.org/mondial/10/continents/Europe/\" target=\"_other\">http://www.semwebtech.org/mondial/10/continents/Europe/</a></td></tr><tr class=odd><td class=val><a href=\"http://www.semwebtech.org/mondial/10/countries/CEU/\" target=\"_other\">http://www.semwebtech.org/mondial/10/countries/CEU/</a></td>\n",
       "<td class=val><a href=\"http://www.semwebtech.org/mondial/10/continents/Africa/\" target=\"_other\">http://www.semwebtech.org/mondial/10/continents/Africa/</a></td></tr><tr class=even><td class=val><a href=\"http://www.semwebtech.org/mondial/10/countries/SMAR/\" target=\"_other\">http://www.semwebtech.org/mondial/10/countries/SMAR/</a></td>\n",
       "<td class=val><a href=\"http://www.semwebtech.org/mondial/10/continents/North+America/\" target=\"_other\">http://www.semwebtech.org/mondial/10/continents/North+America/</a></td></tr><tr class=odd><td class=val><a href=\"http://www.semwebtech.org/mondial/10/countries/SY/\" target=\"_other\">http://www.semwebtech.org/mondial/10/countries/SY/</a></td>\n",
       "<td class=val><a href=\"http://www.semwebtech.org/mondial/10/continents/Africa/\" target=\"_other\">http://www.semwebtech.org/mondial/10/continents/Africa/</a></td></tr><tr class=even><td class=val><a href=\"http://www.semwebtech.org/mondial/10/countries/LT/\" target=\"_other\">http://www.semwebtech.org/mondial/10/countries/LT/</a></td>\n",
       "<td class=val><a href=\"http://www.semwebtech.org/mondial/10/continents/Europe/\" target=\"_other\">http://www.semwebtech.org/mondial/10/continents/Europe/</a></td></tr><tr class=odd><td class=val><a href=\"http://www.semwebtech.org/mondial/10/countries/GU/\" target=\"_other\">http://www.semwebtech.org/mondial/10/countries/GU/</a></td>\n",
       "<td class=val><a href=\"http://www.semwebtech.org/mondial/10/continents/Australia$Oceania/\" target=\"_other\">http://www.semwebtech.org/mondial/10/continents/Australia$Oceania/</a></td></tr><tr class=even><td class=val><a href=\"http://www.semwebtech.org/mondial/10/countries/G/\" target=\"_other\">http://www.semwebtech.org/mondial/10/countries/G/</a></td>\n",
       "<td class=val><a href=\"http://www.semwebtech.org/mondial/10/continents/Africa/\" target=\"_other\">http://www.semwebtech.org/mondial/10/continents/Africa/</a></td></tr><tr class=odd><td class=val><a href=\"http://www.semwebtech.org/mondial/10/countries/RN/\" target=\"_other\">http://www.semwebtech.org/mondial/10/countries/RN/</a></td>\n",
       "<td class=val><a href=\"http://www.semwebtech.org/mondial/10/continents/Africa/\" target=\"_other\">http://www.semwebtech.org/mondial/10/continents/Africa/</a></td></tr><tr class=even><td class=val><a href=\"http://www.semwebtech.org/mondial/10/countries/SRB/\" target=\"_other\">http://www.semwebtech.org/mondial/10/countries/SRB/</a></td>\n",
       "<td class=val><a href=\"http://www.semwebtech.org/mondial/10/continents/Europe/\" target=\"_other\">http://www.semwebtech.org/mondial/10/continents/Europe/</a></td></tr><tr class=odd><td class=val><a href=\"http://www.semwebtech.org/mondial/10/countries/CGO/\" target=\"_other\">http://www.semwebtech.org/mondial/10/countries/CGO/</a></td>\n",
       "<td class=val><a href=\"http://www.semwebtech.org/mondial/10/continents/Africa/\" target=\"_other\">http://www.semwebtech.org/mondial/10/continents/Africa/</a></td></tr><tr class=even><td class=val><a href=\"http://www.semwebtech.org/mondial/10/countries/AZ/\" target=\"_other\">http://www.semwebtech.org/mondial/10/countries/AZ/</a></td>\n",
       "<td class=val><a href=\"http://www.semwebtech.org/mondial/10/continents/Asia/\" target=\"_other\">http://www.semwebtech.org/mondial/10/continents/Asia/</a></td></tr><tr class=odd><td class=val><a href=\"http://www.semwebtech.org/mondial/10/countries/SA/\" target=\"_other\">http://www.semwebtech.org/mondial/10/countries/SA/</a></td>\n",
       "<td class=val><a href=\"http://www.semwebtech.org/mondial/10/continents/Asia/\" target=\"_other\">http://www.semwebtech.org/mondial/10/continents/Asia/</a></td></tr><tr class=even><td class=val><a href=\"http://www.semwebtech.org/mondial/10/countries/GBG/\" target=\"_other\">http://www.semwebtech.org/mondial/10/countries/GBG/</a></td>\n",
       "<td class=val><a href=\"http://www.semwebtech.org/mondial/10/continents/Europe/\" target=\"_other\">http://www.semwebtech.org/mondial/10/continents/Europe/</a></td></tr><tr class=odd><td class=val><a href=\"http://www.semwebtech.org/mondial/10/countries/N/\" target=\"_other\">http://www.semwebtech.org/mondial/10/countries/N/</a></td>\n",
       "<td class=val><a href=\"http://www.semwebtech.org/mondial/10/continents/Europe/\" target=\"_other\">http://www.semwebtech.org/mondial/10/continents/Europe/</a></td></tr><tr class=even><td class=val><a href=\"http://www.semwebtech.org/mondial/10/countries/THA/\" target=\"_other\">http://www.semwebtech.org/mondial/10/countries/THA/</a></td>\n",
       "<td class=val><a href=\"http://www.semwebtech.org/mondial/10/continents/Asia/\" target=\"_other\">http://www.semwebtech.org/mondial/10/continents/Asia/</a></td></tr><tr class=odd><td class=val><a href=\"http://www.semwebtech.org/mondial/10/countries/PL/\" target=\"_other\">http://www.semwebtech.org/mondial/10/countries/PL/</a></td>\n",
       "<td class=val><a href=\"http://www.semwebtech.org/mondial/10/continents/Europe/\" target=\"_other\">http://www.semwebtech.org/mondial/10/continents/Europe/</a></td></tr><tr class=even><td class=val><a href=\"http://www.semwebtech.org/mondial/10/countries/F/\" target=\"_other\">http://www.semwebtech.org/mondial/10/countries/F/</a></td>\n",
       "<td class=val><a href=\"http://www.semwebtech.org/mondial/10/continents/Europe/\" target=\"_other\">http://www.semwebtech.org/mondial/10/continents/Europe/</a></td></tr><tr class=odd><td class=val><a href=\"http://www.semwebtech.org/mondial/10/countries/AS/\" target=\"_other\">http://www.semwebtech.org/mondial/10/countries/AS/</a></td>\n",
       "<td class=val><a href=\"http://www.semwebtech.org/mondial/10/continents/Australia$Oceania/\" target=\"_other\">http://www.semwebtech.org/mondial/10/continents/Australia$Oceania/</a></td></tr><tr class=even><td class=val><a href=\"http://www.semwebtech.org/mondial/10/countries/WB/\" target=\"_other\">http://www.semwebtech.org/mondial/10/countries/WB/</a></td>\n",
       "<td class=val><a href=\"http://www.semwebtech.org/mondial/10/continents/Asia/\" target=\"_other\">http://www.semwebtech.org/mondial/10/continents/Asia/</a></td></tr><tr class=odd><td class=val><a href=\"http://www.semwebtech.org/mondial/10/countries/TR/\" target=\"_other\">http://www.semwebtech.org/mondial/10/countries/TR/</a></td>\n",
       "<td class=val><a href=\"http://www.semwebtech.org/mondial/10/continents/Asia/\" target=\"_other\">http://www.semwebtech.org/mondial/10/continents/Asia/</a></td></tr><tr class=even><td class=val><a href=\"http://www.semwebtech.org/mondial/10/countries/TR/\" target=\"_other\">http://www.semwebtech.org/mondial/10/countries/TR/</a></td>\n",
       "<td class=val><a href=\"http://www.semwebtech.org/mondial/10/continents/Europe/\" target=\"_other\">http://www.semwebtech.org/mondial/10/continents/Europe/</a></td></tr><tr class=odd><td class=val><a href=\"http://www.semwebtech.org/mondial/10/countries/ARM/\" target=\"_other\">http://www.semwebtech.org/mondial/10/countries/ARM/</a></td>\n",
       "<td class=val><a href=\"http://www.semwebtech.org/mondial/10/continents/Asia/\" target=\"_other\">http://www.semwebtech.org/mondial/10/continents/Asia/</a></td></tr><tr class=even><td class=val><a href=\"http://www.semwebtech.org/mondial/10/countries/SLO/\" target=\"_other\">http://www.semwebtech.org/mondial/10/countries/SLO/</a></td>\n",
       "<td class=val><a href=\"http://www.semwebtech.org/mondial/10/continents/Europe/\" target=\"_other\">http://www.semwebtech.org/mondial/10/continents/Europe/</a></td></tr><tr class=odd><td class=val><a href=\"http://www.semwebtech.org/mondial/10/countries/FSM/\" target=\"_other\">http://www.semwebtech.org/mondial/10/countries/FSM/</a></td>\n",
       "<td class=val><a href=\"http://www.semwebtech.org/mondial/10/continents/Australia$Oceania/\" target=\"_other\">http://www.semwebtech.org/mondial/10/continents/Australia$Oceania/</a></td></tr><tr class=even><td class=val><a href=\"http://www.semwebtech.org/mondial/10/countries/BI/\" target=\"_other\">http://www.semwebtech.org/mondial/10/countries/BI/</a></td>\n",
       "<td class=val><a href=\"http://www.semwebtech.org/mondial/10/continents/Africa/\" target=\"_other\">http://www.semwebtech.org/mondial/10/continents/Africa/</a></td></tr><tr class=odd><td class=val><a href=\"http://www.semwebtech.org/mondial/10/countries/GH/\" target=\"_other\">http://www.semwebtech.org/mondial/10/countries/GH/</a></td>\n",
       "<td class=val><a href=\"http://www.semwebtech.org/mondial/10/continents/Africa/\" target=\"_other\">http://www.semwebtech.org/mondial/10/continents/Africa/</a></td></tr><tr class=even><td class=val><a href=\"http://www.semwebtech.org/mondial/10/countries/MW/\" target=\"_other\">http://www.semwebtech.org/mondial/10/countries/MW/</a></td>\n",
       "<td class=val><a href=\"http://www.semwebtech.org/mondial/10/continents/Africa/\" target=\"_other\">http://www.semwebtech.org/mondial/10/continents/Africa/</a></td></tr><tr class=odd><td class=val><a href=\"http://www.semwebtech.org/mondial/10/countries/MAC/\" target=\"_other\">http://www.semwebtech.org/mondial/10/countries/MAC/</a></td>\n",
       "<td class=val><a href=\"http://www.semwebtech.org/mondial/10/continents/Asia/\" target=\"_other\">http://www.semwebtech.org/mondial/10/continents/Asia/</a></td></tr><tr class=even><td class=val><a href=\"http://www.semwebtech.org/mondial/10/countries/CV/\" target=\"_other\">http://www.semwebtech.org/mondial/10/countries/CV/</a></td>\n",
       "<td class=val><a href=\"http://www.semwebtech.org/mondial/10/continents/Africa/\" target=\"_other\">http://www.semwebtech.org/mondial/10/continents/Africa/</a></td></tr><tr class=odd><td class=val><a href=\"http://www.semwebtech.org/mondial/10/countries/I/\" target=\"_other\">http://www.semwebtech.org/mondial/10/countries/I/</a></td>\n",
       "<td class=val><a href=\"http://www.semwebtech.org/mondial/10/continents/Europe/\" target=\"_other\">http://www.semwebtech.org/mondial/10/continents/Europe/</a></td></tr><tr class=even><td class=val><a href=\"http://www.semwebtech.org/mondial/10/countries/NCL/\" target=\"_other\">http://www.semwebtech.org/mondial/10/countries/NCL/</a></td>\n",
       "<td class=val><a href=\"http://www.semwebtech.org/mondial/10/continents/Australia$Oceania/\" target=\"_other\">http://www.semwebtech.org/mondial/10/continents/Australia$Oceania/</a></td></tr><tr class=odd><td class=val><a href=\"http://www.semwebtech.org/mondial/10/countries/SN/\" target=\"_other\">http://www.semwebtech.org/mondial/10/countries/SN/</a></td>\n",
       "<td class=val><a href=\"http://www.semwebtech.org/mondial/10/continents/Africa/\" target=\"_other\">http://www.semwebtech.org/mondial/10/continents/Africa/</a></td></tr><tr class=even><td class=val><a href=\"http://www.semwebtech.org/mondial/10/countries/WSA/\" target=\"_other\">http://www.semwebtech.org/mondial/10/countries/WSA/</a></td>\n",
       "<td class=val><a href=\"http://www.semwebtech.org/mondial/10/continents/Africa/\" target=\"_other\">http://www.semwebtech.org/mondial/10/continents/Africa/</a></td></tr><tr class=odd><td class=val><a href=\"http://www.semwebtech.org/mondial/10/countries/CN/\" target=\"_other\">http://www.semwebtech.org/mondial/10/countries/CN/</a></td>\n",
       "<td class=val><a href=\"http://www.semwebtech.org/mondial/10/continents/Asia/\" target=\"_other\">http://www.semwebtech.org/mondial/10/continents/Asia/</a></td></tr><tr class=even><td class=val><a href=\"http://www.semwebtech.org/mondial/10/countries/NGR/\" target=\"_other\">http://www.semwebtech.org/mondial/10/countries/NGR/</a></td>\n",
       "<td class=val><a href=\"http://www.semwebtech.org/mondial/10/continents/Africa/\" target=\"_other\">http://www.semwebtech.org/mondial/10/continents/Africa/</a></td></tr><tr class=odd><td class=val><a href=\"http://www.semwebtech.org/mondial/10/countries/PY/\" target=\"_other\">http://www.semwebtech.org/mondial/10/countries/PY/</a></td>\n",
       "<td class=val><a href=\"http://www.semwebtech.org/mondial/10/continents/South+America/\" target=\"_other\">http://www.semwebtech.org/mondial/10/continents/South+America/</a></td></tr><tr class=even><td class=val><a href=\"http://www.semwebtech.org/mondial/10/countries/KZ/\" target=\"_other\">http://www.semwebtech.org/mondial/10/countries/KZ/</a></td>\n",
       "<td class=val><a href=\"http://www.semwebtech.org/mondial/10/continents/Europe/\" target=\"_other\">http://www.semwebtech.org/mondial/10/continents/Europe/</a></td></tr><tr class=odd><td class=val><a href=\"http://www.semwebtech.org/mondial/10/countries/KZ/\" target=\"_other\">http://www.semwebtech.org/mondial/10/countries/KZ/</a></td>\n",
       "<td class=val><a href=\"http://www.semwebtech.org/mondial/10/continents/Asia/\" target=\"_other\">http://www.semwebtech.org/mondial/10/continents/Asia/</a></td></tr><tr class=even><td class=val><a href=\"http://www.semwebtech.org/mondial/10/countries/FL/\" target=\"_other\">http://www.semwebtech.org/mondial/10/countries/FL/</a></td>\n",
       "<td class=val><a href=\"http://www.semwebtech.org/mondial/10/continents/Europe/\" target=\"_other\">http://www.semwebtech.org/mondial/10/continents/Europe/</a></td></tr><tr class=odd><td class=val><a href=\"http://www.semwebtech.org/mondial/10/countries/RH/\" target=\"_other\">http://www.semwebtech.org/mondial/10/countries/RH/</a></td>\n",
       "<td class=val><a href=\"http://www.semwebtech.org/mondial/10/continents/North+America/\" target=\"_other\">http://www.semwebtech.org/mondial/10/continents/North+America/</a></td></tr><tr class=even><td class=val><a href=\"http://www.semwebtech.org/mondial/10/countries/H/\" target=\"_other\">http://www.semwebtech.org/mondial/10/countries/H/</a></td>\n",
       "<td class=val><a href=\"http://www.semwebtech.org/mondial/10/continents/Europe/\" target=\"_other\">http://www.semwebtech.org/mondial/10/continents/Europe/</a></td></tr><tr class=odd><td class=val><a href=\"http://www.semwebtech.org/mondial/10/countries/FJI/\" target=\"_other\">http://www.semwebtech.org/mondial/10/countries/FJI/</a></td>\n",
       "<td class=val><a href=\"http://www.semwebtech.org/mondial/10/continents/Australia$Oceania/\" target=\"_other\">http://www.semwebtech.org/mondial/10/continents/Australia$Oceania/</a></td></tr><tr class=even><td class=val><a href=\"http://www.semwebtech.org/mondial/10/countries/SGP/\" target=\"_other\">http://www.semwebtech.org/mondial/10/countries/SGP/</a></td>\n",
       "<td class=val><a href=\"http://www.semwebtech.org/mondial/10/continents/Asia/\" target=\"_other\">http://www.semwebtech.org/mondial/10/continents/Asia/</a></td></tr><tr class=odd><td class=val><a href=\"http://www.semwebtech.org/mondial/10/countries/AD/\" target=\"_other\">http://www.semwebtech.org/mondial/10/countries/AD/</a></td>\n",
       "<td class=val><a href=\"http://www.semwebtech.org/mondial/10/continents/Europe/\" target=\"_other\">http://www.semwebtech.org/mondial/10/continents/Europe/</a></td></tr><tr class=even><td class=val><a href=\"http://www.semwebtech.org/mondial/10/countries/GUB/\" target=\"_other\">http://www.semwebtech.org/mondial/10/countries/GUB/</a></td>\n",
       "<td class=val><a href=\"http://www.semwebtech.org/mondial/10/continents/Africa/\" target=\"_other\">http://www.semwebtech.org/mondial/10/continents/Africa/</a></td></tr><tr class=odd><td class=val><a href=\"http://www.semwebtech.org/mondial/10/countries/MEL/\" target=\"_other\">http://www.semwebtech.org/mondial/10/countries/MEL/</a></td>\n",
       "<td class=val><a href=\"http://www.semwebtech.org/mondial/10/continents/Africa/\" target=\"_other\">http://www.semwebtech.org/mondial/10/continents/Africa/</a></td></tr><tr class=even><td class=val><a href=\"http://www.semwebtech.org/mondial/10/countries/LAO/\" target=\"_other\">http://www.semwebtech.org/mondial/10/countries/LAO/</a></td>\n",
       "<td class=val><a href=\"http://www.semwebtech.org/mondial/10/continents/Asia/\" target=\"_other\">http://www.semwebtech.org/mondial/10/continents/Asia/</a></td></tr><tr class=odd><td class=val><a href=\"http://www.semwebtech.org/mondial/10/countries/OM/\" target=\"_other\">http://www.semwebtech.org/mondial/10/countries/OM/</a></td>\n",
       "<td class=val><a href=\"http://www.semwebtech.org/mondial/10/continents/Asia/\" target=\"_other\">http://www.semwebtech.org/mondial/10/continents/Asia/</a></td></tr><tr class=even><td class=val><a href=\"http://www.semwebtech.org/mondial/10/countries/BRN/\" target=\"_other\">http://www.semwebtech.org/mondial/10/countries/BRN/</a></td>\n",
       "<td class=val><a href=\"http://www.semwebtech.org/mondial/10/continents/Asia/\" target=\"_other\">http://www.semwebtech.org/mondial/10/continents/Asia/</a></td></tr><tr class=odd><td class=val><a href=\"http://www.semwebtech.org/mondial/10/countries/PNG/\" target=\"_other\">http://www.semwebtech.org/mondial/10/countries/PNG/</a></td>\n",
       "<td class=val><a href=\"http://www.semwebtech.org/mondial/10/continents/Australia$Oceania/\" target=\"_other\">http://www.semwebtech.org/mondial/10/continents/Australia$Oceania/</a></td></tr><tr class=even><td class=val><a href=\"http://www.semwebtech.org/mondial/10/countries/MYT/\" target=\"_other\">http://www.semwebtech.org/mondial/10/countries/MYT/</a></td>\n",
       "<td class=val><a href=\"http://www.semwebtech.org/mondial/10/continents/Africa/\" target=\"_other\">http://www.semwebtech.org/mondial/10/continents/Africa/</a></td></tr><tr class=odd><td class=val><a href=\"http://www.semwebtech.org/mondial/10/countries/IR/\" target=\"_other\">http://www.semwebtech.org/mondial/10/countries/IR/</a></td>\n",
       "<td class=val><a href=\"http://www.semwebtech.org/mondial/10/continents/Asia/\" target=\"_other\">http://www.semwebtech.org/mondial/10/continents/Asia/</a></td></tr><tr class=even><td class=val><a href=\"http://www.semwebtech.org/mondial/10/countries/MA/\" target=\"_other\">http://www.semwebtech.org/mondial/10/countries/MA/</a></td>\n",
       "<td class=val><a href=\"http://www.semwebtech.org/mondial/10/continents/Africa/\" target=\"_other\">http://www.semwebtech.org/mondial/10/continents/Africa/</a></td></tr><tr class=odd><td class=val><a href=\"http://www.semwebtech.org/mondial/10/countries/EAU/\" target=\"_other\">http://www.semwebtech.org/mondial/10/countries/EAU/</a></td>\n",
       "<td class=val><a href=\"http://www.semwebtech.org/mondial/10/continents/Africa/\" target=\"_other\">http://www.semwebtech.org/mondial/10/continents/Africa/</a></td></tr><tr class=even><td class=val><a href=\"http://www.semwebtech.org/mondial/10/countries/PN/\" target=\"_other\">http://www.semwebtech.org/mondial/10/countries/PN/</a></td>\n",
       "<td class=val><a href=\"http://www.semwebtech.org/mondial/10/continents/Australia$Oceania/\" target=\"_other\">http://www.semwebtech.org/mondial/10/continents/Australia$Oceania/</a></td></tr><tr class=odd><td class=val><a href=\"http://www.semwebtech.org/mondial/10/countries/RMM/\" target=\"_other\">http://www.semwebtech.org/mondial/10/countries/RMM/</a></td>\n",
       "<td class=val><a href=\"http://www.semwebtech.org/mondial/10/continents/Africa/\" target=\"_other\">http://www.semwebtech.org/mondial/10/continents/Africa/</a></td></tr><tr class=even><td class=val><a href=\"http://www.semwebtech.org/mondial/10/countries/CAM/\" target=\"_other\">http://www.semwebtech.org/mondial/10/countries/CAM/</a></td>\n",
       "<td class=val><a href=\"http://www.semwebtech.org/mondial/10/continents/Africa/\" target=\"_other\">http://www.semwebtech.org/mondial/10/continents/Africa/</a></td></tr><tr class=odd><td class=val><a href=\"http://www.semwebtech.org/mondial/10/countries/V/\" target=\"_other\">http://www.semwebtech.org/mondial/10/countries/V/</a></td>\n",
       "<td class=val><a href=\"http://www.semwebtech.org/mondial/10/continents/Europe/\" target=\"_other\">http://www.semwebtech.org/mondial/10/continents/Europe/</a></td></tr><tr class=even><td class=val><a href=\"http://www.semwebtech.org/mondial/10/countries/DZ/\" target=\"_other\">http://www.semwebtech.org/mondial/10/countries/DZ/</a></td>\n",
       "<td class=val><a href=\"http://www.semwebtech.org/mondial/10/continents/Africa/\" target=\"_other\">http://www.semwebtech.org/mondial/10/continents/Africa/</a></td></tr><tr class=odd><td class=val><a href=\"http://www.semwebtech.org/mondial/10/countries/BD/\" target=\"_other\">http://www.semwebtech.org/mondial/10/countries/BD/</a></td>\n",
       "<td class=val><a href=\"http://www.semwebtech.org/mondial/10/continents/Asia/\" target=\"_other\">http://www.semwebtech.org/mondial/10/continents/Asia/</a></td></tr><tr class=even><td class=val><a href=\"http://www.semwebtech.org/mondial/10/countries/GAZA/\" target=\"_other\">http://www.semwebtech.org/mondial/10/countries/GAZA/</a></td>\n",
       "<td class=val><a href=\"http://www.semwebtech.org/mondial/10/continents/Asia/\" target=\"_other\">http://www.semwebtech.org/mondial/10/continents/Asia/</a></td></tr><tr class=odd><td class=val><a href=\"http://www.semwebtech.org/mondial/10/countries/EAT/\" target=\"_other\">http://www.semwebtech.org/mondial/10/countries/EAT/</a></td>\n",
       "<td class=val><a href=\"http://www.semwebtech.org/mondial/10/continents/Africa/\" target=\"_other\">http://www.semwebtech.org/mondial/10/continents/Africa/</a></td></tr><tr class=even><td class=val><a href=\"http://www.semwebtech.org/mondial/10/countries/LB/\" target=\"_other\">http://www.semwebtech.org/mondial/10/countries/LB/</a></td>\n",
       "<td class=val><a href=\"http://www.semwebtech.org/mondial/10/continents/Africa/\" target=\"_other\">http://www.semwebtech.org/mondial/10/continents/Africa/</a></td></tr><tr class=odd><td class=val><a href=\"http://www.semwebtech.org/mondial/10/countries/RC/\" target=\"_other\">http://www.semwebtech.org/mondial/10/countries/RC/</a></td>\n",
       "<td class=val><a href=\"http://www.semwebtech.org/mondial/10/continents/Asia/\" target=\"_other\">http://www.semwebtech.org/mondial/10/continents/Asia/</a></td></tr><tr class=even><td class=val><a href=\"http://www.semwebtech.org/mondial/10/countries/MEX/\" target=\"_other\">http://www.semwebtech.org/mondial/10/countries/MEX/</a></td>\n",
       "<td class=val><a href=\"http://www.semwebtech.org/mondial/10/continents/North+America/\" target=\"_other\">http://www.semwebtech.org/mondial/10/continents/North+America/</a></td></tr><tr class=odd><td class=val><a href=\"http://www.semwebtech.org/mondial/10/countries/PE/\" target=\"_other\">http://www.semwebtech.org/mondial/10/countries/PE/</a></td>\n",
       "<td class=val><a href=\"http://www.semwebtech.org/mondial/10/continents/South+America/\" target=\"_other\">http://www.semwebtech.org/mondial/10/continents/South+America/</a></td></tr><tr class=even><td class=val><a href=\"http://www.semwebtech.org/mondial/10/countries/BY/\" target=\"_other\">http://www.semwebtech.org/mondial/10/countries/BY/</a></td>\n",
       "<td class=val><a href=\"http://www.semwebtech.org/mondial/10/continents/Europe/\" target=\"_other\">http://www.semwebtech.org/mondial/10/continents/Europe/</a></td></tr><tr class=odd><td class=val><a href=\"http://www.semwebtech.org/mondial/10/countries/KN/\" target=\"_other\">http://www.semwebtech.org/mondial/10/countries/KN/</a></td>\n",
       "<td class=val><a href=\"http://www.semwebtech.org/mondial/10/continents/North+America/\" target=\"_other\">http://www.semwebtech.org/mondial/10/continents/North+America/</a></td></tr><tr class=even><td class=val><a href=\"http://www.semwebtech.org/mondial/10/countries/IND/\" target=\"_other\">http://www.semwebtech.org/mondial/10/countries/IND/</a></td>\n",
       "<td class=val><a href=\"http://www.semwebtech.org/mondial/10/continents/Asia/\" target=\"_other\">http://www.semwebtech.org/mondial/10/continents/Asia/</a></td></tr><tr class=odd><td class=val><a href=\"http://www.semwebtech.org/mondial/10/countries/MOC/\" target=\"_other\">http://www.semwebtech.org/mondial/10/countries/MOC/</a></td>\n",
       "<td class=val><a href=\"http://www.semwebtech.org/mondial/10/continents/Africa/\" target=\"_other\">http://www.semwebtech.org/mondial/10/continents/Africa/</a></td></tr><tr class=even><td class=val><a href=\"http://www.semwebtech.org/mondial/10/countries/AG/\" target=\"_other\">http://www.semwebtech.org/mondial/10/countries/AG/</a></td>\n",
       "<td class=val><a href=\"http://www.semwebtech.org/mondial/10/continents/North+America/\" target=\"_other\">http://www.semwebtech.org/mondial/10/continents/North+America/</a></td></tr><tr class=odd><td class=val><a href=\"http://www.semwebtech.org/mondial/10/countries/GCA/\" target=\"_other\">http://www.semwebtech.org/mondial/10/countries/GCA/</a></td>\n",
       "<td class=val><a href=\"http://www.semwebtech.org/mondial/10/continents/North+America/\" target=\"_other\">http://www.semwebtech.org/mondial/10/continents/North+America/</a></td></tr><tr class=even><td class=val><a href=\"http://www.semwebtech.org/mondial/10/countries/SUD/\" target=\"_other\">http://www.semwebtech.org/mondial/10/countries/SUD/</a></td>\n",
       "<td class=val><a href=\"http://www.semwebtech.org/mondial/10/continents/Africa/\" target=\"_other\">http://www.semwebtech.org/mondial/10/continents/Africa/</a></td></tr><tr class=odd><td class=val><a href=\"http://www.semwebtech.org/mondial/10/countries/BF/\" target=\"_other\">http://www.semwebtech.org/mondial/10/countries/BF/</a></td>\n",
       "<td class=val><a href=\"http://www.semwebtech.org/mondial/10/continents/Africa/\" target=\"_other\">http://www.semwebtech.org/mondial/10/continents/Africa/</a></td></tr><tr class=even><td class=val><a href=\"http://www.semwebtech.org/mondial/10/countries/MAL/\" target=\"_other\">http://www.semwebtech.org/mondial/10/countries/MAL/</a></td>\n",
       "<td class=val><a href=\"http://www.semwebtech.org/mondial/10/continents/Asia/\" target=\"_other\">http://www.semwebtech.org/mondial/10/continents/Asia/</a></td></tr><tr class=odd><td class=val><a href=\"http://www.semwebtech.org/mondial/10/countries/VU/\" target=\"_other\">http://www.semwebtech.org/mondial/10/countries/VU/</a></td>\n",
       "<td class=val><a href=\"http://www.semwebtech.org/mondial/10/continents/Australia$Oceania/\" target=\"_other\">http://www.semwebtech.org/mondial/10/continents/Australia$Oceania/</a></td></tr><tr class=even><td class=val><a href=\"http://www.semwebtech.org/mondial/10/countries/CH/\" target=\"_other\">http://www.semwebtech.org/mondial/10/countries/CH/</a></td>\n",
       "<td class=val><a href=\"http://www.semwebtech.org/mondial/10/continents/Europe/\" target=\"_other\">http://www.semwebtech.org/mondial/10/continents/Europe/</a></td></tr></table><div class=\"tinfo\">Total: 251, Shown: 100</div></div>"
      ]
     },
     "metadata": {},
     "output_type": "display_data"
    }
   ],
   "source": [
    "%format any\n",
    "%display table \n",
    "\n",
    "\n",
    "PREFIX prefix: <http://prefix.cc/>\n",
    "PREFIX co: <http://purl.org/ontology/co/core#>\n",
    "PREFIX coun: <http://www.daml.org/2001/09/countries/iso-3166-ont#>\n",
    "prefix rdfs: <http://www.w3.org/2000/01/rdf-schema#>\n",
    "prefix owl: <http://www.w3.org/2002/07/owl#>\n",
    "prefix : <http://www.semwebtech.org/mondial/10/meta#>\n",
    "prefix mondial: <http://www.semwebtech.org/mondial/10/>\n",
    "SELECT ?c ?ct\n",
    "WHERE {\n",
    "    ?c a :Country.\n",
    "    $c :encompassed ?ct\n",
    "}"
   ]
  },
  {
   "cell_type": "markdown",
   "metadata": {},
   "source": [
    "La liste des noms des pays du continent européen triés par ordre alphabétique"
   ]
  },
  {
   "cell_type": "code",
   "execution_count": 26,
   "metadata": {
    "vscode": {
     "languageId": "python"
    }
   },
   "outputs": [
    {
     "data": {
      "text/html": [
       "<div class=\"krn-spql\"><div class=\"magic\">Request format: ANY</div><div class=\"magic\">Display: table</div><div class=\"magic\">Result maximum size: 20</div></div>"
      ],
      "text/plain": [
       "Request format: ANY\n",
       "Display: table\n",
       "Result maximum size: 20\n"
      ]
     },
     "metadata": {},
     "output_type": "display_data"
    },
    {
     "data": {
      "text/html": [
       "<div class=\"krn-spql\"><table><tr class=hdr><th>name</th></tr><tr class=odd><td class=val>Akrotiri and Dhekelia</td></tr><tr class=even><td class=val>Albania</td></tr><tr class=odd><td class=val>Andorra</td></tr><tr class=even><td class=val>Austria</td></tr><tr class=odd><td class=val>Belarus</td></tr><tr class=even><td class=val>Belgium</td></tr><tr class=odd><td class=val>Bosnia and Herzegovina</td></tr><tr class=even><td class=val>Bulgaria</td></tr><tr class=odd><td class=val>Croatia</td></tr><tr class=even><td class=val>Cyprus</td></tr><tr class=odd><td class=val>Czech Republic</td></tr><tr class=even><td class=val>Denmark</td></tr><tr class=odd><td class=val>Estonia</td></tr><tr class=even><td class=val>Faroe Islands</td></tr><tr class=odd><td class=val>Finland</td></tr><tr class=even><td class=val>France</td></tr><tr class=odd><td class=val>Germany</td></tr><tr class=even><td class=val>Gibraltar</td></tr><tr class=odd><td class=val>Greece</td></tr><tr class=even><td class=val>Guernsey</td></tr></table><div class=\"tinfo\">Total: 55, Shown: 20</div></div>"
      ]
     },
     "metadata": {},
     "output_type": "display_data"
    }
   ],
   "source": [
    "%format any\n",
    "%display table \n",
    "%show 20\n",
    "\n",
    "\n",
    "PREFIX prefix: <http://prefix.cc/>\n",
    "PREFIX co: <http://purl.org/ontology/co/core#>\n",
    "PREFIX coun: <http://www.daml.org/2001/09/countries/iso-3166-ont#>\n",
    "prefix rdfs: <http://www.w3.org/2000/01/rdf-schema#>\n",
    "prefix owl: <http://www.w3.org/2002/07/owl#>\n",
    "prefix : <http://www.semwebtech.org/mondial/10/meta#>\n",
    "prefix mondial: <http://www.semwebtech.org/mondial/10/>\n",
    "base <http://www.semwebtech.org/mondial/10/>\n",
    "\n",
    "SELECT ?name\n",
    "WHERE {\n",
    "    ?c a :Country.\n",
    "    $c :name $name.\n",
    "    $c :encompassed ?ct.\n",
    "    $ct :name $ctname\n",
    "    FILTER($ctname = \"Europe\")\n",
    "} ORDER BY ?name"
   ]
  },
  {
   "cell_type": "markdown",
   "metadata": {},
   "source": [
    "La liste des organisations dont le nom commence par 'U'. "
   ]
  },
  {
   "cell_type": "code",
   "execution_count": 33,
   "metadata": {
    "vscode": {
     "languageId": "python"
    }
   },
   "outputs": [
    {
     "data": {
      "text/html": [
       "<div class=\"krn-spql\"><div class=\"magic\">Request format: ANY</div><div class=\"magic\">Display: table</div><div class=\"magic\">Result maximum size: 25</div></div>"
      ],
      "text/plain": [
       "Request format: ANY\n",
       "Display: table\n",
       "Result maximum size: 25\n"
      ]
     },
     "metadata": {},
     "output_type": "display_data"
    },
    {
     "data": {
      "text/html": [
       "<div class=\"krn-spql\"><table><tr class=hdr><th>o</th>\n",
       "<th>name</th></tr><tr class=odd><td class=val><a href=\"http://www.semwebtech.org/mondial/10/organizations/UNASUR/\" target=\"_other\">http://www.semwebtech.org/mondial/10/organizations/UNASUR/</a></td>\n",
       "<td class=val>Union of South American Nations</td></tr><tr class=even><td class=val><a href=\"http://www.semwebtech.org/mondial/10/organizations/UN/\" target=\"_other\">http://www.semwebtech.org/mondial/10/organizations/UN/</a></td>\n",
       "<td class=val>United Nations</td></tr><tr class=odd><td class=val><a href=\"http://www.semwebtech.org/mondial/10/organizations/UNCTAD/\" target=\"_other\">http://www.semwebtech.org/mondial/10/organizations/UNCTAD/</a></td>\n",
       "<td class=val>United Nations Conference on Trade and Development</td></tr><tr class=even><td class=val><a href=\"http://www.semwebtech.org/mondial/10/organizations/UNDOF/\" target=\"_other\">http://www.semwebtech.org/mondial/10/organizations/UNDOF/</a></td>\n",
       "<td class=val>United Nations Disengagement Observer Force</td></tr><tr class=odd><td class=val><a href=\"http://www.semwebtech.org/mondial/10/organizations/UNESCO/\" target=\"_other\">http://www.semwebtech.org/mondial/10/organizations/UNESCO/</a></td>\n",
       "<td class=val>United Nations Educational, Scientific, and Cultural Organization</td></tr><tr class=even><td class=val><a href=\"http://www.semwebtech.org/mondial/10/organizations/UNHCR/\" target=\"_other\">http://www.semwebtech.org/mondial/10/organizations/UNHCR/</a></td>\n",
       "<td class=val>United Nations High Commissioner for Refugees</td></tr><tr class=odd><td class=val><a href=\"http://www.semwebtech.org/mondial/10/organizations/UNIDO/\" target=\"_other\">http://www.semwebtech.org/mondial/10/organizations/UNIDO/</a></td>\n",
       "<td class=val>United Nations Industrial Development Organization</td></tr><tr class=even><td class=val><a href=\"http://www.semwebtech.org/mondial/10/organizations/UNITAR/\" target=\"_other\">http://www.semwebtech.org/mondial/10/organizations/UNITAR/</a></td>\n",
       "<td class=val>United Nations Institute for Training and Research</td></tr><tr class=odd><td class=val><a href=\"http://www.semwebtech.org/mondial/10/organizations/UNMIT/\" target=\"_other\">http://www.semwebtech.org/mondial/10/organizations/UNMIT/</a></td>\n",
       "<td class=val>United Nations Integrated Mission in Timor-Leste</td></tr><tr class=even><td class=val><a href=\"http://www.semwebtech.org/mondial/10/organizations/UNIFIL/\" target=\"_other\">http://www.semwebtech.org/mondial/10/organizations/UNIFIL/</a></td>\n",
       "<td class=val>United Nations Interim Force in Lebanon</td></tr><tr class=odd><td class=val><a href=\"http://www.semwebtech.org/mondial/10/organizations/UNISFA/\" target=\"_other\">http://www.semwebtech.org/mondial/10/organizations/UNISFA/</a></td>\n",
       "<td class=val>United Nations Interim Security Force for Abyei</td></tr><tr class=even><td class=val><a href=\"http://www.semwebtech.org/mondial/10/organizations/UNMOGIP/\" target=\"_other\">http://www.semwebtech.org/mondial/10/organizations/UNMOGIP/</a></td>\n",
       "<td class=val>United Nations Military Observer Group in India and Pakistan</td></tr><tr class=odd><td class=val><a href=\"http://www.semwebtech.org/mondial/10/organizations/MINURSO/\" target=\"_other\">http://www.semwebtech.org/mondial/10/organizations/MINURSO/</a></td>\n",
       "<td class=val>United Nations Mission for the Referendum in Western Sahara</td></tr><tr class=even><td class=val><a href=\"http://www.semwebtech.org/mondial/10/organizations/UNMIL/\" target=\"_other\">http://www.semwebtech.org/mondial/10/organizations/UNMIL/</a></td>\n",
       "<td class=val>United Nations Mission in Liberia</td></tr><tr class=odd><td class=val><a href=\"http://www.semwebtech.org/mondial/10/organizations/UNMISS/\" target=\"_other\">http://www.semwebtech.org/mondial/10/organizations/UNMISS/</a></td>\n",
       "<td class=val>United Nations Mission in the Republic of South Sudan</td></tr><tr class=even><td class=val><a href=\"http://www.semwebtech.org/mondial/10/organizations/UNOCI/\" target=\"_other\">http://www.semwebtech.org/mondial/10/organizations/UNOCI/</a></td>\n",
       "<td class=val>United Nations Operation in Cote d'Ivoire</td></tr><tr class=odd><td class=val><a href=\"http://www.semwebtech.org/mondial/10/organizations/MONUSCO/\" target=\"_other\">http://www.semwebtech.org/mondial/10/organizations/MONUSCO/</a></td>\n",
       "<td class=val>United Nations Organization Stabilization Mission in the Democratic Republic of the Congo</td></tr><tr class=even><td class=val><a href=\"http://www.semwebtech.org/mondial/10/organizations/UNFICYP/\" target=\"_other\">http://www.semwebtech.org/mondial/10/organizations/UNFICYP/</a></td>\n",
       "<td class=val>United Nations Peacekeeping Force in Cyprus</td></tr><tr class=odd><td class=val><a href=\"http://www.semwebtech.org/mondial/10/organizations/UNRWA/\" target=\"_other\">http://www.semwebtech.org/mondial/10/organizations/UNRWA/</a></td>\n",
       "<td class=val>United Nations Relief and Works Agency for Palestine Refugees in the Near East</td></tr><tr class=even><td class=val><a href=\"http://www.semwebtech.org/mondial/10/organizations/UNSC/\" target=\"_other\">http://www.semwebtech.org/mondial/10/organizations/UNSC/</a></td>\n",
       "<td class=val>United Nations Security Council</td></tr><tr class=odd><td class=val><a href=\"http://www.semwebtech.org/mondial/10/organizations/UNTSO/\" target=\"_other\">http://www.semwebtech.org/mondial/10/organizations/UNTSO/</a></td>\n",
       "<td class=val>United Nations Truce Supervision Organization</td></tr><tr class=even><td class=val><a href=\"http://www.semwebtech.org/mondial/10/organizations/UPU/\" target=\"_other\">http://www.semwebtech.org/mondial/10/organizations/UPU/</a></td>\n",
       "<td class=val>Universal Postal Union</td></tr></table><div class=\"tinfo\">Total: 22, Shown: 22</div></div>"
      ]
     },
     "metadata": {},
     "output_type": "display_data"
    }
   ],
   "source": [
    "%format any\n",
    "%display table \n",
    "%show 25\n",
    "\n",
    "\n",
    "PREFIX prefix: <http://prefix.cc/>\n",
    "PREFIX co: <http://purl.org/ontology/co/core#>\n",
    "PREFIX coun: <http://www.daml.org/2001/09/countries/iso-3166-ont#>\n",
    "prefix rdfs: <http://www.w3.org/2000/01/rdf-schema#>\n",
    "prefix owl: <http://www.w3.org/2002/07/owl#>\n",
    "prefix : <http://www.semwebtech.org/mondial/10/meta#>\n",
    "prefix mondial: <http://www.semwebtech.org/mondial/10/>\n",
    "base <http://www.semwebtech.org/mondial/10/>\n",
    "\n",
    "SELECT ?o ?name\n",
    "WHERE {\n",
    "    ?o a :Organization,\n",
    "    ?o :name ?oname\n",
    "    FILTER()\n",
    "} ORDER BY ?name "
   ]
  },
  {
   "cell_type": "markdown",
   "metadata": {},
   "source": [
    "Les noms pays qui sont membres du conseil de sécurité des nations unis (UNSC) et dont le nom commence par 'A'"
   ]
  },
  {
   "cell_type": "code",
   "execution_count": 38,
   "metadata": {
    "vscode": {
     "languageId": "python"
    }
   },
   "outputs": [
    {
     "data": {
      "text/html": [
       "<div class=\"krn-spql\"><div class=\"magic\">Request format: ANY</div><div class=\"magic\">Display: table</div><div class=\"magic\">Result maximum size: 25</div></div>"
      ],
      "text/plain": [
       "Request format: ANY\n",
       "Display: table\n",
       "Result maximum size: 25\n"
      ]
     },
     "metadata": {},
     "output_type": "display_data"
    },
    {
     "data": {
      "text/html": [
       "<div class=\"krn-spql\"><table><tr class=hdr><th>name</th></tr><tr class=odd><td class=val>Argentina</td></tr><tr class=even><td class=val>Australia</td></tr></table><div class=\"tinfo\">Total: 2, Shown: 2</div></div>"
      ]
     },
     "metadata": {},
     "output_type": "display_data"
    }
   ],
   "source": [
    "%format any\n",
    "%display table \n",
    "%show 25\n",
    "\n",
    "\n",
    "PREFIX prefix: <http://prefix.cc/>\n",
    "PREFIX co: <http://purl.org/ontology/co/core#>\n",
    "PREFIX coun: <http://www.daml.org/2001/09/countries/iso-3166-ont#>\n",
    "prefix rdfs: <http://www.w3.org/2000/01/rdf-schema#>\n",
    "prefix owl: <http://www.w3.org/2002/07/owl#>\n",
    "prefix : <http://www.semwebtech.org/mondial/10/meta#>\n",
    "prefix mondial: <http://www.semwebtech.org/mondial/10/>\n",
    "base <http://www.semwebtech.org/mondial/10/>\n",
    "\n",
    "SELECT ?name\n",
    "WHERE {\n",
    "    \n",
    "} ORDER BY ?name \n"
   ]
  },
  {
   "cell_type": "raw",
   "metadata": {},
   "source": [
    "Les noms pays qui ne sont pas membres des nations unis (UN) triés par nom"
   ]
  },
  {
   "cell_type": "code",
   "execution_count": 39,
   "metadata": {
    "vscode": {
     "languageId": "python"
    }
   },
   "outputs": [
    {
     "data": {
      "text/html": [
       "<div class=\"krn-spql\"><div class=\"magic\">Request format: ANY</div><div class=\"magic\">Display: table</div><div class=\"magic\">Result maximum size: 25</div></div>"
      ],
      "text/plain": [
       "Request format: ANY\n",
       "Display: table\n",
       "Result maximum size: 25\n"
      ]
     },
     "metadata": {},
     "output_type": "display_data"
    },
    {
     "data": {
      "text/html": [
       "<div class=\"krn-spql\"><table><tr class=hdr><th>name</th></tr><tr class=odd><td class=val>American Samoa</td></tr><tr class=even><td class=val>Anguilla</td></tr><tr class=odd><td class=val>Aruba</td></tr><tr class=even><td class=val>Bermuda</td></tr><tr class=odd><td class=val>Bonaire</td></tr><tr class=even><td class=val>British Virgin Islands</td></tr><tr class=odd><td class=val>Cayman Islands</td></tr><tr class=even><td class=val>Ceuta</td></tr><tr class=odd><td class=val>Christmas Island</td></tr><tr class=even><td class=val>Cocos Islands</td></tr><tr class=odd><td class=val>Cook Islands</td></tr><tr class=even><td class=val>Curacao</td></tr><tr class=odd><td class=val>Falkland Islands</td></tr><tr class=even><td class=val>Faroe Islands</td></tr><tr class=odd><td class=val>French Guiana</td></tr><tr class=even><td class=val>French Polynesia</td></tr><tr class=odd><td class=val>Gaza Strip</td></tr><tr class=even><td class=val>Gibraltar</td></tr><tr class=odd><td class=val>Greenland</td></tr><tr class=even><td class=val>Guadeloupe</td></tr><tr class=odd><td class=val>Guam</td></tr><tr class=even><td class=val>Guernsey</td></tr><tr class=odd><td class=val>Hong Kong</td></tr><tr class=even><td class=val>Isle of Man</td></tr><tr class=odd><td class=val>Jersey</td></tr></table><div class=\"tinfo\">Total: 51, Shown: 25</div></div>"
      ]
     },
     "metadata": {},
     "output_type": "display_data"
    }
   ],
   "source": [
    "%format any\n",
    "%display table \n",
    "%show 25\n",
    "\n",
    "\n",
    "PREFIX prefix: <http://prefix.cc/>\n",
    "PREFIX co: <http://purl.org/ontology/co/core#>\n",
    "PREFIX coun: <http://www.daml.org/2001/09/countries/iso-3166-ont#>\n",
    "prefix rdfs: <http://www.w3.org/2000/01/rdf-schema#>\n",
    "prefix owl: <http://www.w3.org/2002/07/owl#>\n",
    "prefix : <http://www.semwebtech.org/mondial/10/meta#>\n",
    "prefix mondial: <http://www.semwebtech.org/mondial/10/>\n",
    "base <http://www.semwebtech.org/mondial/10/>\n",
    "\n",
    "SELECT ?name\n",
    "WHERE {\n",
    "    \n",
    "    \n",
    "} ORDER BY ?name \n"
   ]
  },
  {
   "cell_type": "raw",
   "metadata": {},
   "source": [
    "Les noms des pays avec une population de plus de 100 000 000 ainsi que leurs capitales"
   ]
  },
  {
   "cell_type": "code",
   "execution_count": 55,
   "metadata": {
    "vscode": {
     "languageId": "python"
    }
   },
   "outputs": [
    {
     "data": {
      "text/html": [
       "<div class=\"krn-spql\"><div class=\"magic\">Request format: ANY</div><div class=\"magic\">Display: table</div><div class=\"magic\">Result maximum size: 25</div></div>"
      ],
      "text/plain": [
       "Request format: ANY\n",
       "Display: table\n",
       "Result maximum size: 25\n"
      ]
     },
     "metadata": {},
     "output_type": "display_data"
    },
    {
     "data": {
      "text/html": [
       "<div class=\"krn-spql\"><table><tr class=hdr><th>name</th>\n",
       "<th>capital</th>\n",
       "<th>popn</th></tr><tr class=odd><td class=val>China</td>\n",
       "<td class=val><a href=\"http://www.semwebtech.org/mondial/10/countries/CN/provinces/Beijing/cities/Beijing/\" target=\"_other\">http://www.semwebtech.org/mondial/10/countries/CN/provinces/Beijing/cities/Beijing/</a></td>\n",
       "<td class=val>1427647786</td></tr><tr class=even><td class=val>India</td>\n",
       "<td class=val><a href=\"http://www.semwebtech.org/mondial/10/countries/IND/provinces/Delhi/cities/Delhi/\" target=\"_other\">http://www.semwebtech.org/mondial/10/countries/IND/provinces/Delhi/cities/Delhi/</a></td>\n",
       "<td class=val>1210854977</td></tr><tr class=odd><td class=val>United States</td>\n",
       "<td class=val><a href=\"http://www.semwebtech.org/mondial/10/countries/USA/provinces/District+of+Columbia/cities/Washington/\" target=\"_other\">http://www.semwebtech.org/mondial/10/countries/USA/provinces/District+of+Columbia/cities/Washington/</a></td>\n",
       "<td class=val>318857056</td></tr><tr class=even><td class=val>Indonesia</td>\n",
       "<td class=val><a href=\"http://www.semwebtech.org/mondial/10/countries/RI/provinces/DKI+Jakarta/cities/Jakarta/\" target=\"_other\">http://www.semwebtech.org/mondial/10/countries/RI/provinces/DKI+Jakarta/cities/Jakarta/</a></td>\n",
       "<td class=val>252124458</td></tr><tr class=odd><td class=val>Pakistan</td>\n",
       "<td class=val><a href=\"http://www.semwebtech.org/mondial/10/countries/PK/provinces/FCT+Islamabad/cities/Islamabad/\" target=\"_other\">http://www.semwebtech.org/mondial/10/countries/PK/provinces/FCT+Islamabad/cities/Islamabad/</a></td>\n",
       "<td class=val>207776954</td></tr><tr class=even><td class=val>Brazil</td>\n",
       "<td class=val><a href=\"http://www.semwebtech.org/mondial/10/countries/BR/provinces/Distrito+Federal/cities/Brasília/\" target=\"_other\">http://www.semwebtech.org/mondial/10/countries/BR/provinces/Distrito+Federal/cities/Brasília/</a></td>\n",
       "<td class=val>202768562</td></tr><tr class=odd><td class=val>Nigeria</td>\n",
       "<td class=val><a href=\"http://www.semwebtech.org/mondial/10/countries/NGR/provinces/Abuja/cities/Abuja/\" target=\"_other\">http://www.semwebtech.org/mondial/10/countries/NGR/provinces/Abuja/cities/Abuja/</a></td>\n",
       "<td class=val>193392500</td></tr><tr class=even><td class=val>Bangladesh</td>\n",
       "<td class=val><a href=\"http://www.semwebtech.org/mondial/10/countries/BD/provinces/Dhaka/cities/Dhaka/\" target=\"_other\">http://www.semwebtech.org/mondial/10/countries/BD/provinces/Dhaka/cities/Dhaka/</a></td>\n",
       "<td class=val>149772364</td></tr><tr class=odd><td class=val>Russia</td>\n",
       "<td class=val><a href=\"http://www.semwebtech.org/mondial/10/countries/R/provinces/Moscow/cities/Moskva/\" target=\"_other\">http://www.semwebtech.org/mondial/10/countries/R/provinces/Moscow/cities/Moskva/</a></td>\n",
       "<td class=val>143666931</td></tr><tr class=even><td class=val>Japan</td>\n",
       "<td class=val><a href=\"http://www.semwebtech.org/mondial/10/countries/J/provinces/Tokyo/cities/Tokyo/\" target=\"_other\">http://www.semwebtech.org/mondial/10/countries/J/provinces/Tokyo/cities/Tokyo/</a></td>\n",
       "<td class=val>127094745</td></tr><tr class=odd><td class=val>Mexico</td>\n",
       "<td class=val><a href=\"http://www.semwebtech.org/mondial/10/countries/MEX/provinces/Distrito+Federal/cities/Ciudad+de+México/\" target=\"_other\">http://www.semwebtech.org/mondial/10/countries/MEX/provinces/Distrito+Federal/cities/Ciudad+de+México/</a></td>\n",
       "<td class=val>112336538</td></tr><tr class=even><td class=val>Philippines</td>\n",
       "<td class=val><a href=\"http://www.semwebtech.org/mondial/10/countries/RP/provinces/Metro+Manila/cities/Manila/\" target=\"_other\">http://www.semwebtech.org/mondial/10/countries/RP/provinces/Metro+Manila/cities/Manila/</a></td>\n",
       "<td class=val>100981437</td></tr></table><div class=\"tinfo\">Total: 12, Shown: 12</div></div>"
      ]
     },
     "metadata": {},
     "output_type": "display_data"
    }
   ],
   "source": [
    "%format any\n",
    "%display table \n",
    "%show 25\n",
    "\n",
    "\n",
    "PREFIX prefix: <http://prefix.cc/>\n",
    "PREFIX co: <http://purl.org/ontology/co/core#>\n",
    "PREFIX coun: <http://www.daml.org/2001/09/countries/iso-3166-ont#>\n",
    "prefix rdfs: <http://www.w3.org/2000/01/rdf-schema#>\n",
    "prefix owl: <http://www.w3.org/2002/07/owl#>\n",
    "prefix : <http://www.semwebtech.org/mondial/10/meta#>\n",
    "prefix mondial: <http://www.semwebtech.org/mondial/10/>\n",
    "base <http://www.semwebtech.org/mondial/10/>\n",
    "\n",
    "SELECT ?name ?capital ?popn\n",
    "WHERE {\n",
    "   \n",
    "} ORDER BY  desc(?popn)\n"
   ]
  },
  {
   "cell_type": "raw",
   "metadata": {},
   "source": [
    "Les nom des pays avec leur gouvernement"
   ]
  },
  {
   "cell_type": "code",
   "execution_count": 57,
   "metadata": {
    "vscode": {
     "languageId": "python"
    }
   },
   "outputs": [
    {
     "data": {
      "text/html": [
       "<div class=\"krn-spql\"><div class=\"magic\">Request format: ANY</div><div class=\"magic\">Display: table</div><div class=\"magic\">Result maximum size: 25</div></div>"
      ],
      "text/plain": [
       "Request format: ANY\n",
       "Display: table\n",
       "Result maximum size: 25\n"
      ]
     },
     "metadata": {},
     "output_type": "display_data"
    },
    {
     "data": {
      "text/html": [
       "<div class=\"krn-spql\"><table><tr class=hdr><th>name</th>\n",
       "<th>government</th></tr><tr class=odd><td class=val>Afghanistan</td>\n",
       "<td class=val>Islamic republic</td></tr><tr class=even><td class=val>Albania</td>\n",
       "<td class=val>parliamentary democracy</td></tr><tr class=odd><td class=val>Algeria</td>\n",
       "<td class=val>republic</td></tr><tr class=even><td class=val>American Samoa</td>\n",
       "<td class=val>unincorporated and unorganized territory of the US</td></tr><tr class=odd><td class=val>Andorra</td>\n",
       "<td class=val>parliamentary democracy that retains as its chiefs of state a co-principality</td></tr><tr class=even><td class=val>Angola</td>\n",
       "<td class=val>republic; multiparty presidential regime</td></tr><tr class=odd><td class=val>Anguilla</td>\n",
       "<td class=val>British Overseas Territories</td></tr><tr class=even><td class=val>Antigua and Barbuda</td>\n",
       "<td class=val>constitutional monarchy with a parliamentary system of government and a Commonwealth realm</td></tr><tr class=odd><td class=val>Argentina</td>\n",
       "<td class=val>republic</td></tr><tr class=even><td class=val>Armenia</td>\n",
       "<td class=val>republic</td></tr><tr class=odd><td class=val>Aruba</td>\n",
       "<td class=val>parliamentary democracy</td></tr><tr class=even><td class=val>Australia</td>\n",
       "<td class=val>federal parliamentary democracy and a Commonwealth realm</td></tr><tr class=odd><td class=val>Austria</td>\n",
       "<td class=val>federal republic</td></tr><tr class=even><td class=val>Azerbaijan</td>\n",
       "<td class=val>republic</td></tr><tr class=odd><td class=val>Bahamas</td>\n",
       "<td class=val>constitutional parliamentary democracy and a Commonwealth realm</td></tr><tr class=even><td class=val>Bahrain</td>\n",
       "<td class=val>constitutional monarchy</td></tr><tr class=odd><td class=val>Bangladesh</td>\n",
       "<td class=val>parliamentary democracy</td></tr><tr class=even><td class=val>Barbados</td>\n",
       "<td class=val>parliamentary democracy and a Commonwealth realm</td></tr><tr class=odd><td class=val>Belarus</td>\n",
       "<td class=val>republic in name, although in fact a dictatorship</td></tr><tr class=even><td class=val>Belgium</td>\n",
       "<td class=val>federal parliamentary democracy under a constitutional monarchy</td></tr><tr class=odd><td class=val>Belize</td>\n",
       "<td class=val>parliamentary democracy and a Commonwealth realm</td></tr><tr class=even><td class=val>Benin</td>\n",
       "<td class=val>republic</td></tr><tr class=odd><td class=val>Bermuda</td>\n",
       "<td class=val>parliamentary; self-governing territory</td></tr><tr class=even><td class=val>Bhutan</td>\n",
       "<td class=val>constitutional monarchy</td></tr><tr class=odd><td class=val>Bolivia</td>\n",
       "<td class=val>republic; Social Unitarian State</td></tr></table><div class=\"tinfo\">Total: 242, Shown: 25</div></div>"
      ]
     },
     "metadata": {},
     "output_type": "display_data"
    }
   ],
   "source": [
    "%format any\n",
    "%display table \n",
    "%show 25\n",
    "\n",
    "\n",
    "PREFIX prefix: <http://prefix.cc/>\n",
    "PREFIX co: <http://purl.org/ontology/co/core#>\n",
    "PREFIX coun: <http://www.daml.org/2001/09/countries/iso-3166-ont#>\n",
    "prefix rdfs: <http://www.w3.org/2000/01/rdf-schema#>\n",
    "prefix owl: <http://www.w3.org/2002/07/owl#>\n",
    "prefix : <http://www.semwebtech.org/mondial/10/meta#>\n",
    "prefix mondial: <http://www.semwebtech.org/mondial/10/>\n",
    "base <http://www.semwebtech.org/mondial/10/>\n",
    "\n",
    "SELECT ?name ?government \n",
    "WHERE {\n",
    "   \n",
    "} ORDER BY  ?name\n"
   ]
  },
  {
   "cell_type": "raw",
   "metadata": {},
   "source": [
    "Les nom des pays avec leur gouvernement, s'ils en ont"
   ]
  },
  {
   "cell_type": "code",
   "execution_count": 58,
   "metadata": {
    "vscode": {
     "languageId": "python"
    }
   },
   "outputs": [
    {
     "data": {
      "text/html": [
       "<div class=\"krn-spql\"><div class=\"magic\">Request format: ANY</div><div class=\"magic\">Display: table</div><div class=\"magic\">Result maximum size: 25</div></div>"
      ],
      "text/plain": [
       "Request format: ANY\n",
       "Display: table\n",
       "Result maximum size: 25\n"
      ]
     },
     "metadata": {},
     "output_type": "display_data"
    },
    {
     "data": {
      "text/html": [
       "<div class=\"krn-spql\"><table><tr class=hdr><th>name</th>\n",
       "<th>government</th></tr><tr class=odd><td class=val>Afghanistan</td>\n",
       "<td class=val>Islamic republic</td></tr><tr class=even><td class=val>Albania</td>\n",
       "<td class=val>parliamentary democracy</td></tr><tr class=odd><td class=val>Algeria</td>\n",
       "<td class=val>republic</td></tr><tr class=even><td class=val>American Samoa</td>\n",
       "<td class=val>unincorporated and unorganized territory of the US</td></tr><tr class=odd><td class=val>Andorra</td>\n",
       "<td class=val>parliamentary democracy that retains as its chiefs of state a co-principality</td></tr><tr class=even><td class=val>Angola</td>\n",
       "<td class=val>republic; multiparty presidential regime</td></tr><tr class=odd><td class=val>Anguilla</td>\n",
       "<td class=val>British Overseas Territories</td></tr><tr class=even><td class=val>Antigua and Barbuda</td>\n",
       "<td class=val>constitutional monarchy with a parliamentary system of government and a Commonwealth realm</td></tr><tr class=odd><td class=val>Argentina</td>\n",
       "<td class=val>republic</td></tr><tr class=even><td class=val>Armenia</td>\n",
       "<td class=val>republic</td></tr><tr class=odd><td class=val>Aruba</td>\n",
       "<td class=val>parliamentary democracy</td></tr><tr class=even><td class=val>Australia</td>\n",
       "<td class=val>federal parliamentary democracy and a Commonwealth realm</td></tr><tr class=odd><td class=val>Austria</td>\n",
       "<td class=val>federal republic</td></tr><tr class=even><td class=val>Azerbaijan</td>\n",
       "<td class=val>republic</td></tr><tr class=odd><td class=val>Bahamas</td>\n",
       "<td class=val>constitutional parliamentary democracy and a Commonwealth realm</td></tr><tr class=even><td class=val>Bahrain</td>\n",
       "<td class=val>constitutional monarchy</td></tr><tr class=odd><td class=val>Bangladesh</td>\n",
       "<td class=val>parliamentary democracy</td></tr><tr class=even><td class=val>Barbados</td>\n",
       "<td class=val>parliamentary democracy and a Commonwealth realm</td></tr><tr class=odd><td class=val>Belarus</td>\n",
       "<td class=val>republic in name, although in fact a dictatorship</td></tr><tr class=even><td class=val>Belgium</td>\n",
       "<td class=val>federal parliamentary democracy under a constitutional monarchy</td></tr><tr class=odd><td class=val>Belize</td>\n",
       "<td class=val>parliamentary democracy and a Commonwealth realm</td></tr><tr class=even><td class=val>Benin</td>\n",
       "<td class=val>republic</td></tr><tr class=odd><td class=val>Bermuda</td>\n",
       "<td class=val>parliamentary; self-governing territory</td></tr><tr class=even><td class=val>Bhutan</td>\n",
       "<td class=val>constitutional monarchy</td></tr><tr class=odd><td class=val>Bolivia</td>\n",
       "<td class=val>republic; Social Unitarian State</td></tr></table><div class=\"tinfo\">Total: 245, Shown: 25</div></div>"
      ]
     },
     "metadata": {},
     "output_type": "display_data"
    }
   ],
   "source": [
    "%format any\n",
    "%display table \n",
    "%show 25\n",
    "\n",
    "\n",
    "PREFIX prefix: <http://prefix.cc/>\n",
    "PREFIX co: <http://purl.org/ontology/co/core#>\n",
    "PREFIX coun: <http://www.daml.org/2001/09/countries/iso-3166-ont#>\n",
    "prefix rdfs: <http://www.w3.org/2000/01/rdf-schema#>\n",
    "prefix owl: <http://www.w3.org/2002/07/owl#>\n",
    "prefix : <http://www.semwebtech.org/mondial/10/meta#>\n",
    "prefix mondial: <http://www.semwebtech.org/mondial/10/>\n",
    "base <http://www.semwebtech.org/mondial/10/>\n",
    "\n",
    "SELECT ?name ?government \n",
    "WHERE {\n",
    "   \n",
    "} ORDER BY  ?name\n"
   ]
  },
  {
   "cell_type": "raw",
   "metadata": {},
   "source": [
    "Les nom des pays sans gouvernement"
   ]
  },
  {
   "cell_type": "code",
   "execution_count": 60,
   "metadata": {
    "vscode": {
     "languageId": "python"
    }
   },
   "outputs": [
    {
     "data": {
      "text/html": [
       "<div class=\"krn-spql\"><div class=\"magic\">Request format: ANY</div><div class=\"magic\">Display: table</div><div class=\"magic\">Result maximum size: 25</div></div>"
      ],
      "text/plain": [
       "Request format: ANY\n",
       "Display: table\n",
       "Result maximum size: 25\n"
      ]
     },
     "metadata": {},
     "output_type": "display_data"
    },
    {
     "data": {
      "text/html": [
       "<div class=\"krn-spql\"><table><tr class=hdr><th>name</th></tr><tr class=odd><td class=val>Gaza Strip</td></tr><tr class=even><td class=val>Tokelau</td></tr><tr class=odd><td class=val>West Bank</td></tr></table><div class=\"tinfo\">Total: 3, Shown: 3</div></div>"
      ]
     },
     "metadata": {},
     "output_type": "display_data"
    }
   ],
   "source": [
    "%format any\n",
    "%display table \n",
    "%show 25\n",
    "\n",
    "\n",
    "PREFIX prefix: <http://prefix.cc/>\n",
    "PREFIX co: <http://purl.org/ontology/co/core#>\n",
    "PREFIX coun: <http://www.daml.org/2001/09/countries/iso-3166-ont#>\n",
    "prefix rdfs: <http://www.w3.org/2000/01/rdf-schema#>\n",
    "prefix owl: <http://www.w3.org/2002/07/owl#>\n",
    "prefix : <http://www.semwebtech.org/mondial/10/meta#>\n",
    "prefix mondial: <http://www.semwebtech.org/mondial/10/>\n",
    "base <http://www.semwebtech.org/mondial/10/>\n",
    "\n",
    "SELECT ?name \n",
    "WHERE {\n",
    "   \n",
    "} ORDER BY  ?name\n"
   ]
  },
  {
   "cell_type": "markdown",
   "metadata": {},
   "source": [
    "## Expressions de chemins"
   ]
  },
  {
   "cell_type": "markdown",
   "metadata": {},
   "source": [
    "Les affluents (:River) directs et indirects de la mer du nord"
   ]
  },
  {
   "cell_type": "code",
   "execution_count": null,
   "metadata": {
    "vscode": {
     "languageId": "python"
    }
   },
   "outputs": [],
   "source": []
  },
  {
   "cell_type": "code",
   "execution_count": 4,
   "metadata": {
    "scrolled": false,
    "vscode": {
     "languageId": "python"
    }
   },
   "outputs": [
    {
     "data": {
      "text/html": [
       "<div class=\"krn-spql\"><div class=\"magic\">Result maximum size: 20</div><div class=\"magic\">Request format: ANY</div></div>"
      ],
      "text/plain": [
       "Result maximum size: 20\n",
       "Request format: ANY\n"
      ]
     },
     "metadata": {},
     "output_type": "display_data"
    },
    {
     "data": {
      "text/html": [
       "<div class=\"krn-spql\"><table><tr class=hdr><th>c</th><th>type</th></tr><tr class=odd><td class=val><a href=\"http://www.semwebtech.org/mondial/10/rivers/Rhein/\" target=\"_other\">http://www.semwebtech.org/mondial/10/rivers/Rhein/</a></td><td class=typ>uri</td></tr><tr class=even><td class=val><a href=\"http://www.semwebtech.org/mondial/10/rivers/Thames/\" target=\"_other\">http://www.semwebtech.org/mondial/10/rivers/Thames/</a></td><td class=typ>uri</td></tr><tr class=odd><td class=val><a href=\"http://www.semwebtech.org/mondial/10/rivers/Ness/\" target=\"_other\">http://www.semwebtech.org/mondial/10/rivers/Ness/</a></td><td class=typ>uri</td></tr><tr class=even><td class=val><a href=\"http://www.semwebtech.org/mondial/10/rivers/Schelde/\" target=\"_other\">http://www.semwebtech.org/mondial/10/rivers/Schelde/</a></td><td class=typ>uri</td></tr><tr class=odd><td class=val><a href=\"http://www.semwebtech.org/mondial/10/rivers/Elbe/\" target=\"_other\">http://www.semwebtech.org/mondial/10/rivers/Elbe/</a></td><td class=typ>uri</td></tr><tr class=even><td class=val><a href=\"http://www.semwebtech.org/mondial/10/rivers/Trent/\" target=\"_other\">http://www.semwebtech.org/mondial/10/rivers/Trent/</a></td><td class=typ>uri</td></tr><tr class=odd><td class=val><a href=\"http://www.semwebtech.org/mondial/10/rivers/Weser/\" target=\"_other\">http://www.semwebtech.org/mondial/10/rivers/Weser/</a></td><td class=typ>uri</td></tr></table><div class=\"tinfo\">Total: 7, Shown: 7</div></div>"
      ]
     },
     "metadata": {},
     "output_type": "display_data"
    }
   ],
   "source": [
    "%show 20\n",
    "# %format n3\n",
    "%format ANY\n",
    "#%lang en\n",
    "#%display table\n",
    "#%display diagram svg\n",
    "PREFIX prefix: <http://prefix.cc/>\n",
    "PREFIX co: <http://purl.org/ontology/co/core#>\n",
    "PREFIX coun: <http://www.daml.org/2001/09/countries/iso-3166-ont#>\n",
    "prefix rdfs: <http://www.w3.org/2000/01/rdf-schema#>\n",
    "prefix owl: <http://www.w3.org/2002/07/owl#>\n",
    "prefix : <http://www.semwebtech.org/mondial/10/meta#>\n",
    "prefix mondial: <http://www.semwebtech.org/mondial/10/>\n",
    "base <http://www.semwebtech.org/mondial/10/>\n",
    "SELECT ?c\n",
    "WHERE { ?c :flowsInto <seas/North+Sea/> ; a :River . }\n"
   ]
  },
  {
   "cell_type": "markdown",
   "metadata": {},
   "source": [
    "le nombre d'affluents (:River) directs et indirects de la mer du nord"
   ]
  },
  {
   "cell_type": "code",
   "execution_count": 23,
   "metadata": {
    "vscode": {
     "languageId": "python"
    }
   },
   "outputs": [
    {
     "data": {
      "text/html": [
       "<div class=\"krn-spql\"><div class=\"magic\">Result maximum size: 20</div><div class=\"magic\">Request format: ANY</div></div>"
      ],
      "text/plain": [
       "Result maximum size: 20\n",
       "Request format: ANY\n"
      ]
     },
     "metadata": {},
     "output_type": "display_data"
    },
    {
     "data": {
      "text/html": [
       "<div class=\"krn-spql\"><table><tr class=hdr><th>nb</th></tr><tr class=odd><td class=val>42</td></tr></table><div class=\"tinfo\">Total: 1, Shown: 1</div></div>"
      ]
     },
     "metadata": {},
     "output_type": "display_data"
    }
   ],
   "source": [
    "%show 20\n",
    "# %format n3\n",
    "%format ANY\n",
    "#%lang en\n",
    "#%display table\n",
    "#%display diagram svg\n",
    "PREFIX prefix: <http://prefix.cc/>\n",
    "PREFIX co: <http://purl.org/ontology/co/core#>\n",
    "PREFIX coun: <http://www.daml.org/2001/09/countries/iso-3166-ont#>\n",
    "prefix rdfs: <http://www.w3.org/2000/01/rdf-schema#>\n",
    "prefix owl: <http://www.w3.org/2002/07/owl#>\n",
    "prefix : <http://www.semwebtech.org/mondial/10/meta#>\n",
    "prefix mondial: <http://www.semwebtech.org/mondial/10/>\n",
    "base <http://www.semwebtech.org/mondial/10/>\n",
    "SELECT ()\n",
    "WHERE { }"
   ]
  },
  {
   "cell_type": "markdown",
   "metadata": {},
   "source": [
    "Les affluents (:River) directs ou indirects de la mer du nord qui  passent  par le Rhin"
   ]
  },
  {
   "cell_type": "code",
   "execution_count": 16,
   "metadata": {
    "vscode": {
     "languageId": "python"
    }
   },
   "outputs": [
    {
     "data": {
      "text/html": [
       "<div class=\"krn-spql\"><div class=\"magic\">Result maximum size: 20</div><div class=\"magic\">Request format: ANY</div></div>"
      ],
      "text/plain": [
       "Result maximum size: 20\n",
       "Request format: ANY\n"
      ]
     },
     "metadata": {},
     "output_type": "display_data"
    },
    {
     "data": {
      "text/html": [
       "<div class=\"krn-spql\"><table><tr class=hdr><th>c</th><th>type</th></tr><tr class=odd><td class=val><a href=\"http://www.semwebtech.org/mondial/10/rivers/Hinterrhein/\" target=\"_other\">http://www.semwebtech.org/mondial/10/rivers/Hinterrhein/</a></td><td class=typ>uri</td></tr><tr class=even><td class=val><a href=\"http://www.semwebtech.org/mondial/10/rivers/Ruhr/\" target=\"_other\">http://www.semwebtech.org/mondial/10/rivers/Ruhr/</a></td><td class=typ>uri</td></tr><tr class=odd><td class=val><a href=\"http://www.semwebtech.org/mondial/10/rivers/Maas/\" target=\"_other\">http://www.semwebtech.org/mondial/10/rivers/Maas/</a></td><td class=typ>uri</td></tr><tr class=even><td class=val><a href=\"http://www.semwebtech.org/mondial/10/rivers/Lippe/\" target=\"_other\">http://www.semwebtech.org/mondial/10/rivers/Lippe/</a></td><td class=typ>uri</td></tr><tr class=odd><td class=val><a href=\"http://www.semwebtech.org/mondial/10/rivers/Lahn/\" target=\"_other\">http://www.semwebtech.org/mondial/10/rivers/Lahn/</a></td><td class=typ>uri</td></tr><tr class=even><td class=val><a href=\"http://www.semwebtech.org/mondial/10/rivers/Bregenzer+Ach/\" target=\"_other\">http://www.semwebtech.org/mondial/10/rivers/Bregenzer+Ach/</a></td><td class=typ>uri</td></tr><tr class=odd><td class=val><a href=\"http://www.semwebtech.org/mondial/10/rivers/Aare/\" target=\"_other\">http://www.semwebtech.org/mondial/10/rivers/Aare/</a></td><td class=typ>uri</td></tr><tr class=even><td class=val><a href=\"http://www.semwebtech.org/mondial/10/rivers/Limmat/\" target=\"_other\">http://www.semwebtech.org/mondial/10/rivers/Limmat/</a></td><td class=typ>uri</td></tr><tr class=odd><td class=val><a href=\"http://www.semwebtech.org/mondial/10/rivers/Reuss/\" target=\"_other\">http://www.semwebtech.org/mondial/10/rivers/Reuss/</a></td><td class=typ>uri</td></tr><tr class=even><td class=val><a href=\"http://www.semwebtech.org/mondial/10/rivers/Sieg/\" target=\"_other\">http://www.semwebtech.org/mondial/10/rivers/Sieg/</a></td><td class=typ>uri</td></tr><tr class=odd><td class=val><a href=\"http://www.semwebtech.org/mondial/10/rivers/Mosel/\" target=\"_other\">http://www.semwebtech.org/mondial/10/rivers/Mosel/</a></td><td class=typ>uri</td></tr><tr class=even><td class=val><a href=\"http://www.semwebtech.org/mondial/10/rivers/Saar/\" target=\"_other\">http://www.semwebtech.org/mondial/10/rivers/Saar/</a></td><td class=typ>uri</td></tr><tr class=odd><td class=val><a href=\"http://www.semwebtech.org/mondial/10/rivers/Sauer/\" target=\"_other\">http://www.semwebtech.org/mondial/10/rivers/Sauer/</a></td><td class=typ>uri</td></tr><tr class=even><td class=val><a href=\"http://www.semwebtech.org/mondial/10/rivers/Alzette/\" target=\"_other\">http://www.semwebtech.org/mondial/10/rivers/Alzette/</a></td><td class=typ>uri</td></tr><tr class=odd><td class=val><a href=\"http://www.semwebtech.org/mondial/10/rivers/Neckar/\" target=\"_other\">http://www.semwebtech.org/mondial/10/rivers/Neckar/</a></td><td class=typ>uri</td></tr><tr class=even><td class=val><a href=\"http://www.semwebtech.org/mondial/10/rivers/Enz/\" target=\"_other\">http://www.semwebtech.org/mondial/10/rivers/Enz/</a></td><td class=typ>uri</td></tr><tr class=odd><td class=val><a href=\"http://www.semwebtech.org/mondial/10/rivers/Ill/\" target=\"_other\">http://www.semwebtech.org/mondial/10/rivers/Ill/</a></td><td class=typ>uri</td></tr><tr class=even><td class=val><a href=\"http://www.semwebtech.org/mondial/10/rivers/Elz/\" target=\"_other\">http://www.semwebtech.org/mondial/10/rivers/Elz/</a></td><td class=typ>uri</td></tr><tr class=odd><td class=val><a href=\"http://www.semwebtech.org/mondial/10/rivers/Wupper/\" target=\"_other\">http://www.semwebtech.org/mondial/10/rivers/Wupper/</a></td><td class=typ>uri</td></tr><tr class=even><td class=val><a href=\"http://www.semwebtech.org/mondial/10/rivers/Main/\" target=\"_other\">http://www.semwebtech.org/mondial/10/rivers/Main/</a></td><td class=typ>uri</td></tr></table><div class=\"tinfo\">Total: 20, Shown: 20</div></div>"
      ]
     },
     "metadata": {},
     "output_type": "display_data"
    }
   ],
   "source": [
    "%show 20\n",
    "# %format n3\n",
    "%format ANY\n",
    "#%lang en\n",
    "#%display table\n",
    "#%display diagram svg\n",
    "PREFIX prefix: <http://prefix.cc/>\n",
    "PREFIX co: <http://purl.org/ontology/co/core#>\n",
    "PREFIX coun: <http://www.daml.org/2001/09/countries/iso-3166-ont#>\n",
    "prefix rdfs: <http://www.w3.org/2000/01/rdf-schema#>\n",
    "prefix owl: <http://www.w3.org/2002/07/owl#>\n",
    "prefix : <http://www.semwebtech.org/mondial/10/meta#>\n",
    "prefix mondial: <http://www.semwebtech.org/mondial/10/>\n",
    "base <http://www.semwebtech.org/mondial/10/>\n",
    "SELECT \n",
    "WHERE { \n",
    "       }"
   ]
  },
  {
   "cell_type": "markdown",
   "metadata": {},
   "source": [
    "Les affluents (:River) directs et indirects de la mer du nord qui ne passent pas par le Rhin\n"
   ]
  },
  {
   "cell_type": "code",
   "execution_count": 420,
   "metadata": {
    "scrolled": true,
    "vscode": {
     "languageId": "python"
    }
   },
   "outputs": [
    {
     "data": {
      "text/html": [
       "<div class=\"krn-spql\"><div class=\"magic\">Result maximum size: 20</div><div class=\"magic\">Request format: ANY</div></div>"
      ],
      "text/plain": [
       "Result maximum size: 20\n",
       "Request format: ANY\n"
      ]
     },
     "metadata": {},
     "output_type": "display_data"
    },
    {
     "data": {
      "text/html": [
       "<div class=\"krn-spql\"><table><tr class=hdr><th>c</th></tr><tr class=odd><td class=val><a href=\"http://www.semwebtech.org/mondial/10/rivers/Rhein/\" target=\"_other\">http://www.semwebtech.org/mondial/10/rivers/Rhein/</a></td></tr><tr class=even><td class=val><a href=\"http://www.semwebtech.org/mondial/10/rivers/Thames/\" target=\"_other\">http://www.semwebtech.org/mondial/10/rivers/Thames/</a></td></tr><tr class=odd><td class=val><a href=\"http://www.semwebtech.org/mondial/10/rivers/Ness/\" target=\"_other\">http://www.semwebtech.org/mondial/10/rivers/Ness/</a></td></tr><tr class=even><td class=val><a href=\"http://www.semwebtech.org/mondial/10/rivers/Schelde/\" target=\"_other\">http://www.semwebtech.org/mondial/10/rivers/Schelde/</a></td></tr><tr class=odd><td class=val><a href=\"http://www.semwebtech.org/mondial/10/rivers/Elbe/\" target=\"_other\">http://www.semwebtech.org/mondial/10/rivers/Elbe/</a></td></tr><tr class=even><td class=val><a href=\"http://www.semwebtech.org/mondial/10/rivers/Mulde/\" target=\"_other\">http://www.semwebtech.org/mondial/10/rivers/Mulde/</a></td></tr><tr class=odd><td class=val><a href=\"http://www.semwebtech.org/mondial/10/rivers/Moldau/\" target=\"_other\">http://www.semwebtech.org/mondial/10/rivers/Moldau/</a></td></tr><tr class=even><td class=val><a href=\"http://www.semwebtech.org/mondial/10/rivers/Havel/\" target=\"_other\">http://www.semwebtech.org/mondial/10/rivers/Havel/</a></td></tr><tr class=odd><td class=val><a href=\"http://www.semwebtech.org/mondial/10/rivers/Spree/\" target=\"_other\">http://www.semwebtech.org/mondial/10/rivers/Spree/</a></td></tr><tr class=even><td class=val><a href=\"http://www.semwebtech.org/mondial/10/rivers/Saale/\" target=\"_other\">http://www.semwebtech.org/mondial/10/rivers/Saale/</a></td></tr><tr class=odd><td class=val><a href=\"http://www.semwebtech.org/mondial/10/rivers/Weiße+Elster/\" target=\"_other\">http://www.semwebtech.org/mondial/10/rivers/Weiße+Elster/</a></td></tr><tr class=even><td class=val><a href=\"http://www.semwebtech.org/mondial/10/rivers/Trent/\" target=\"_other\">http://www.semwebtech.org/mondial/10/rivers/Trent/</a></td></tr><tr class=odd><td class=val><a href=\"http://www.semwebtech.org/mondial/10/rivers/Weser/\" target=\"_other\">http://www.semwebtech.org/mondial/10/rivers/Weser/</a></td></tr><tr class=even><td class=val><a href=\"http://www.semwebtech.org/mondial/10/rivers/Fulda/\" target=\"_other\">http://www.semwebtech.org/mondial/10/rivers/Fulda/</a></td></tr><tr class=odd><td class=val><a href=\"http://www.semwebtech.org/mondial/10/rivers/Werra/\" target=\"_other\">http://www.semwebtech.org/mondial/10/rivers/Werra/</a></td></tr><tr class=even><td class=val><a href=\"http://www.semwebtech.org/mondial/10/rivers/Aller/\" target=\"_other\">http://www.semwebtech.org/mondial/10/rivers/Aller/</a></td></tr><tr class=odd><td class=val><a href=\"http://www.semwebtech.org/mondial/10/rivers/Leine/\" target=\"_other\">http://www.semwebtech.org/mondial/10/rivers/Leine/</a></td></tr><tr class=even><td class=val><a href=\"http://www.semwebtech.org/mondial/10/rivers/Oker/\" target=\"_other\">http://www.semwebtech.org/mondial/10/rivers/Oker/</a></td></tr></table><div class=\"tinfo\">Total: 18, Shown: 18</div></div>"
      ]
     },
     "metadata": {},
     "output_type": "display_data"
    }
   ],
   "source": [
    "%show 20\n",
    "# %format n3\n",
    "%format ANY\n",
    "#%lang en\n",
    "#%display table\n",
    "#%display diagram svg\n",
    "PREFIX prefix: <http://prefix.cc/>\n",
    "PREFIX co: <http://purl.org/ontology/co/core#>\n",
    "PREFIX coun: <http://www.daml.org/2001/09/countries/iso-3166-ont#>\n",
    "prefix rdfs: <http://www.w3.org/2000/01/rdf-schema#>\n",
    "prefix owl: <http://www.w3.org/2002/07/owl#>\n",
    "prefix : <http://www.semwebtech.org/mondial/10/meta#>\n",
    "prefix mondial: <http://www.semwebtech.org/mondial/10/>\n",
    "base <http://www.semwebtech.org/mondial/10/>\n",
    "SELECT \n",
    "WHERE { \n",
    "       }\n"
   ]
  },
  {
   "cell_type": "markdown",
   "metadata": {},
   "source": [
    "Les rivières avec au moins vingt affluents."
   ]
  },
  {
   "cell_type": "code",
   "execution_count": 17,
   "metadata": {
    "scrolled": false,
    "vscode": {
     "languageId": "python"
    }
   },
   "outputs": [
    {
     "data": {
      "text/html": [
       "<div class=\"krn-spql\"><div class=\"magic\">Result maximum size: 20</div><div class=\"magic\">Request format: ANY</div></div>"
      ],
      "text/plain": [
       "Result maximum size: 20\n",
       "Request format: ANY\n"
      ]
     },
     "metadata": {},
     "output_type": "display_data"
    },
    {
     "data": {
      "text/html": [
       "<div class=\"krn-spql\"><table><tr class=hdr><th>r</th><th>type</th>\n",
       "<th>cp</th><th>type</th></tr><tr class=odd><td class=val><a href=\"http://www.semwebtech.org/mondial/10/rivers/Donau/\" target=\"_other\">http://www.semwebtech.org/mondial/10/rivers/Donau/</a></td><td class=typ>uri</td>\n",
       "<td class=val>21</td><td class=typ>literal, none</td></tr></table><div class=\"tinfo\">Total: 1, Shown: 1</div></div>"
      ]
     },
     "metadata": {},
     "output_type": "display_data"
    }
   ],
   "source": [
    "%show 20\n",
    "# %format n3\n",
    "%format ANY\n",
    "#%lang en\n",
    "#%display table\n",
    "#%display diagram svg\n",
    "PREFIX prefix: <http://prefix.cc/>\n",
    "PREFIX co: <http://purl.org/ontology/co/core#>\n",
    "PREFIX coun: <http://www.daml.org/2001/09/countries/iso-3166-ont#>\n",
    "prefix rdfs: <http://www.w3.org/2000/01/rdf-schema#>\n",
    "prefix owl: <http://www.w3.org/2002/07/owl#>\n",
    "prefix : <http://www.semwebtech.org/mondial/10/meta#>\n",
    "prefix mondial: <http://www.semwebtech.org/mondial/10/>\n",
    "base <http://www.semwebtech.org/mondial/10/>\n",
    "SELECT \n",
    "WHERE { }\n",
    "GROUP BY \n",
    "HAVING ()\n"
   ]
  },
  {
   "cell_type": "markdown",
   "metadata": {},
   "source": [
    "Les lacs traversés par le Rhone"
   ]
  },
  {
   "cell_type": "code",
   "execution_count": 18,
   "metadata": {
    "scrolled": false,
    "vscode": {
     "languageId": "python"
    }
   },
   "outputs": [
    {
     "data": {
      "text/html": [
       "<div class=\"krn-spql\"><div class=\"magic\">Result maximum size: 20</div><div class=\"magic\">Request format: ANY</div></div>"
      ],
      "text/plain": [
       "Result maximum size: 20\n",
       "Request format: ANY\n"
      ]
     },
     "metadata": {},
     "output_type": "display_data"
    },
    {
     "data": {
      "text/html": [
       "<div class=\"krn-spql\"><table><tr class=hdr><th>lake</th><th>type</th></tr><tr class=odd><td class=val><a href=\"http://www.semwebtech.org/mondial/10/lakes/Lac+Leman/\" target=\"_other\">http://www.semwebtech.org/mondial/10/lakes/Lac+Leman/</a></td><td class=typ>uri</td></tr></table><div class=\"tinfo\">Total: 1, Shown: 1</div></div>"
      ]
     },
     "metadata": {},
     "output_type": "display_data"
    }
   ],
   "source": [
    "%show 20\n",
    "# %format n3\n",
    "%format ANY\n",
    "#%lsmagics\n",
    "#%lang en\n",
    "#%display table\n",
    "#%display diagram svg\n",
    "PREFIX prefix: <http://prefix.cc/>\n",
    "PREFIX co: <http://purl.org/ontology/co/core#>\n",
    "PREFIX coun: <http://www.daml.org/2001/09/countries/iso-3166-ont#>\n",
    "prefix rdfs: <http://www.w3.org/2000/01/rdf-schema#>\n",
    "prefix owl: <http://www.w3.org/2002/07/owl#>\n",
    "prefix : <http://www.semwebtech.org/mondial/10/meta#>\n",
    "prefix mondial: <http://www.semwebtech.org/mondial/10/>\n",
    "prefix rivers: <http://www.semwebtech.org/mondial/10/rivers/> \n",
    "base <http://www.semwebtech.org/mondial/10/>\n",
    "SELECT \n",
    "WHERE { \n",
    "}\n"
   ]
  },
  {
   "cell_type": "markdown",
   "metadata": {},
   "source": [
    "Les pays avec plus que 10000000 habitants traversés par le Danube"
   ]
  },
  {
   "cell_type": "code",
   "execution_count": 423,
   "metadata": {
    "scrolled": false,
    "vscode": {
     "languageId": "python"
    }
   },
   "outputs": [
    {
     "data": {
      "text/html": [
       "<div class=\"krn-spql\"><div class=\"magic\">Result maximum size: 20</div><div class=\"magic\">Request format: ANY</div></div>"
      ],
      "text/plain": [
       "Result maximum size: 20\n",
       "Request format: ANY\n"
      ]
     },
     "metadata": {},
     "output_type": "display_data"
    },
    {
     "data": {
      "text/html": [
       "<div class=\"krn-spql\"><table><tr class=hdr><th>c</th>\n",
       "<th>p</th></tr><tr class=odd><td class=val><a href=\"http://www.semwebtech.org/mondial/10/countries/D/\" target=\"_other\">http://www.semwebtech.org/mondial/10/countries/D/</a></td>\n",
       "<td class=val>82521653</td></tr><tr class=even><td class=val><a href=\"http://www.semwebtech.org/mondial/10/countries/RO/\" target=\"_other\">http://www.semwebtech.org/mondial/10/countries/RO/</a></td>\n",
       "<td class=val>20121641</td></tr><tr class=odd><td class=val><a href=\"http://www.semwebtech.org/mondial/10/countries/UA/\" target=\"_other\">http://www.semwebtech.org/mondial/10/countries/UA/</a></td>\n",
       "<td class=val>45633637</td></tr></table><div class=\"tinfo\">Total: 3, Shown: 3</div></div>"
      ]
     },
     "metadata": {},
     "output_type": "display_data"
    }
   ],
   "source": [
    "%show 20\n",
    "# %format n3\n",
    "%format ANY\n",
    "#%lsmagics\n",
    "#%lang en\n",
    "#%display table\n",
    "#%display diagram svg\n",
    "PREFIX prefix: <http://prefix.cc/>\n",
    "PREFIX co: <http://purl.org/ontology/co/core#>\n",
    "PREFIX coun: <http://www.daml.org/2001/09/countries/iso-3166-ont#>\n",
    "prefix rdfs: <http://www.w3.org/2000/01/rdf-schema#>\n",
    "prefix owl: <http://www.w3.org/2002/07/owl#>\n",
    "prefix : <http://www.semwebtech.org/mondial/10/meta#>\n",
    "prefix mondial: <http://www.semwebtech.org/mondial/10/>\n",
    "prefix rivers: <http://www.semwebtech.org/mondial/10/rivers/> \n",
    "base <http://www.semwebtech.org/mondial/10/>\n",
    "SELECT \n",
    "WHERE { \n",
    "            }\n"
   ]
  },
  {
   "cell_type": "markdown",
   "metadata": {},
   "source": [
    "## Divison"
   ]
  },
  {
   "cell_type": "markdown",
   "metadata": {},
   "source": [
    "Les Pays qui appartiennent à toutes les organisations auxquelles appartient aussi le Liechtenstein"
   ]
  },
  {
   "cell_type": "code",
   "execution_count": 424,
   "metadata": {
    "scrolled": false,
    "vscode": {
     "languageId": "python"
    }
   },
   "outputs": [
    {
     "data": {
      "text/html": [
       "<div class=\"krn-spql\"><div class=\"magic\">Result maximum size: 200</div><div class=\"magic\">Request format: ANY</div></div>"
      ],
      "text/plain": [
       "Result maximum size: 200\n",
       "Request format: ANY\n"
      ]
     },
     "metadata": {},
     "output_type": "display_data"
    },
    {
     "data": {
      "text/html": [
       "<div class=\"krn-spql\"><table><tr class=hdr><th>c</th>\n",
       "<th>cn</th></tr><tr class=odd><td class=val><a href=\"http://www.semwebtech.org/mondial/10/countries/N/\" target=\"_other\">http://www.semwebtech.org/mondial/10/countries/N/</a></td>\n",
       "<td class=val>Norway</td></tr><tr class=even><td class=val><a href=\"http://www.semwebtech.org/mondial/10/countries/FL/\" target=\"_other\">http://www.semwebtech.org/mondial/10/countries/FL/</a></td>\n",
       "<td class=val>Liechtenstein</td></tr><tr class=odd><td class=val><a href=\"http://www.semwebtech.org/mondial/10/countries/CH/\" target=\"_other\">http://www.semwebtech.org/mondial/10/countries/CH/</a></td>\n",
       "<td class=val>Switzerland</td></tr></table><div class=\"tinfo\">Total: 3, Shown: 3</div></div>"
      ]
     },
     "metadata": {},
     "output_type": "display_data"
    }
   ],
   "source": [
    "%show 200\n",
    "# %format n3\n",
    "%format ANY\n",
    "#%lsmagics\n",
    "#%lang en\n",
    "#%display table\n",
    "#%display diagram svg\n",
    "PREFIX prefix: <http://prefix.cc/>\n",
    "PREFIX co: <http://purl.org/ontology/co/core#>\n",
    "PREFIX coun: <http://www.daml.org/2001/09/countries/iso-3166-ont#>\n",
    "prefix rdfs: <http://www.w3.org/2000/01/rdf-schema#>\n",
    "prefix owl: <http://www.w3.org/2002/07/owl#>\n",
    "prefix : <http://www.semwebtech.org/mondial/10/meta#>\n",
    "prefix mondial: <http://www.semwebtech.org/mondial/10/>\n",
    "prefix rivers: <http://www.semwebtech.org/mondial/10/rivers/> \n",
    "base <http://www.semwebtech.org/mondial/10/>\n",
    "SELECT \n",
    "WHERE { \n",
    "}\n"
   ]
  }
 ],
 "metadata": {
  "kernelspec": {
   "display_name": "SPARQL",
   "language": "sparql",
   "name": "sparql"
  },
  "language_info": {
   "codemirror_mode": {
    "name": "sparql"
   },
   "mimetype": "application/sparql-query",
   "name": "sparql",
   "pygments_lexer": "sparql-nb"
  },
  "vscode": {
   "interpreter": {
    "hash": "916dbcbb3f70747c44a77c7bcd40155683ae19c65e1c03b4aa3499c5328201f1"
   }
  }
 },
 "nbformat": 4,
 "nbformat_minor": 4
}
