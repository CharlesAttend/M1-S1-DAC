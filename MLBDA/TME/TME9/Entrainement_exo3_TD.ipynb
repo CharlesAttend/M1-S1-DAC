{
 "cells": [
  {
   "cell_type": "code",
   "execution_count": 3,
   "metadata": {
    "vscode": {
     "languageId": "plaintext"
    }
   },
   "outputs": [
    {
     "data": {
      "text/html": [
       "<div class=\"krn-spql\"><div class=\"magic\">Endpoint set to: https://api.triplydb.com/datasets/Charles/Familly/services/Familly/sparql</div><div class=\"magic\">Label preferred languages: ['en']</div><div class=\"magic\">Logging set to DEBUG</div><div class=\"magic\">Request format: ANY</div><div class=\"magic\">Display: table<br/>Show Types: on</div><div class=\"magic\">Result maximum size: 100</div></div>"
      ],
      "text/plain": [
       "Endpoint set to: https://api.triplydb.com/datasets/Charles/Familly/services/Familly/sparql\n",
       "Label preferred languages: ['en']\n",
       "Logging set to DEBUG\n",
       "Request format: ANY\n",
       "Display: table\n",
       "Show Types: on\n",
       "Result maximum size: 100\n"
      ]
     },
     "metadata": {},
     "output_type": "display_data"
    }
   ],
   "source": [
    "%endpoint https://api.triplydb.com/datasets/Charles/Familly/services/Familly/sparql\n",
    "%lang en\n",
    "%log debug\n",
    "%format any\n",
    "%display table withtypes\n",
    "%show 100"
   ]
  },
  {
   "cell_type": "code",
   "execution_count": 4,
   "metadata": {
    "vscode": {
     "languageId": "plaintext"
    }
   },
   "outputs": [
    {
     "data": {
      "text/html": [
       "<div class=\"krn-spql\"><table><tr class=hdr><th>t</th><th>type</th></tr><tr class=odd><td class=val><a href=\"http://example.org/Artist\" target=\"_other\">http://example.org/Artist</a></td><td class=typ>uri</td></tr><tr class=even><td class=val><a href=\"http://example.org/City\" target=\"_other\">http://example.org/City</a></td><td class=typ>uri</td></tr><tr class=odd><td class=val><a href=\"http://example.org/Person\" target=\"_other\">http://example.org/Person</a></td><td class=typ>uri</td></tr><tr class=even><td class=val><a href=\"http://example.org/Professor\" target=\"_other\">http://example.org/Professor</a></td><td class=typ>uri</td></tr><tr class=odd><td class=val><a href=\"http://example.org/institute\" target=\"_other\">http://example.org/institute</a></td><td class=typ>uri</td></tr><tr class=even><td class=val><a href=\"http://example.org/state\" target=\"_other\">http://example.org/state</a></td><td class=typ>uri</td></tr><tr class=odd><td class=val><a href=\"http://example.org/university\" target=\"_other\">http://example.org/university</a></td><td class=typ>uri</td></tr></table><div class=\"tinfo\">Total: 7, Shown: 7</div></div>"
      ]
     },
     "metadata": {},
     "output_type": "display_data"
    }
   ],
   "source": [
    "SELECT DISTINCT ?t\n",
    "WHERE {\n",
    "    ?a a ?t\n",
    "} ORDER BY ?t"
   ]
  },
  {
   "cell_type": "code",
   "execution_count": 13,
   "metadata": {
    "vscode": {
     "languageId": "plaintext"
    }
   },
   "outputs": [
    {
     "data": {
      "text/html": [
       "<div class=\"krn-spql\"><table><tr class=hdr><th>v</th><th>type</th></tr><tr class=odd><td class=val><a href=\"http://example.org/nyc\" target=\"_other\">http://example.org/nyc</a></td><td class=typ>uri</td></tr><tr class=even><td class=val><a href=\"http://example.org/pittsburgh\" target=\"_other\">http://example.org/pittsburgh</a></td><td class=typ>uri</td></tr><tr class=odd><td class=val><a href=\"http://example.org/nyc\" target=\"_other\">http://example.org/nyc</a></td><td class=typ>uri</td></tr><tr class=even><td class=val><a href=\"http://example.org/westLafayette\" target=\"_other\">http://example.org/westLafayette</a></td><td class=typ>uri</td></tr><tr class=odd><td class=val><a href=\"http://example.org/pittsburgh\" target=\"_other\">http://example.org/pittsburgh</a></td><td class=typ>uri</td></tr><tr class=even><td class=val><a href=\"http://example.org/santaBarbara\" target=\"_other\">http://example.org/santaBarbara</a></td><td class=typ>uri</td></tr></table><div class=\"tinfo\">Total: 6, Shown: 6</div></div>"
      ]
     },
     "metadata": {},
     "output_type": "display_data"
    }
   ],
   "source": [
    "PREFIX rdf: <http://www.w3.org/1999/02/22-rdf-syntax-ns#>\n",
    "PREFIX rdfs: <http://www.w3.org/2000/01/rdf-schema#>\n",
    "PREFIX foaf: <http://xmlns.com/foaf/0.1/>\n",
    "PREFIX rel: <http://www.perceive.net/schemas/relationship/>\n",
    "PREFIX : <http://example.org/>\n",
    "PREFIX rdf: <http://www.w3.org/1999/02/22-rdf-syntax-ns#>\n",
    "PREFIX univ: <http://www.faculty.ac>\n",
    "\n",
    "SELECT $v\n",
    "{\n",
    "    { $v a :City} UNION\n",
    "    {$p :livesIn $v} UNION\n",
    "    {$u :locatedAt $v}\n",
    "}"
   ]
  },
  {
   "cell_type": "code",
   "execution_count": 24,
   "metadata": {
    "vscode": {
     "languageId": "plaintext"
    }
   },
   "outputs": [
    {
     "data": {
      "text/html": [
       "<div class=\"krn-spql\"><table><tr class=hdr><th>p</th><th>type</th></tr><tr class=odd><td class=val><a href=\"http://example.org/liz\" target=\"_other\">http://example.org/liz</a></td><td class=typ>uri</td></tr><tr class=even><td class=val><a href=\"http://example.org/larry\" target=\"_other\">http://example.org/larry</a></td><td class=typ>uri</td></tr><tr class=odd><td class=val><a href=\"http://example.org/john\" target=\"_other\">http://example.org/john</a></td><td class=typ>uri</td></tr></table><div class=\"tinfo\">Total: 3, Shown: 3</div></div>"
      ]
     },
     "metadata": {},
     "output_type": "display_data"
    }
   ],
   "source": [
    "PREFIX rdf: <http://www.w3.org/1999/02/22-rdf-syntax-ns#>\n",
    "PREFIX rdfs: <http://www.w3.org/2000/01/rdf-schema#>\n",
    "PREFIX foaf: <http://xmlns.com/foaf/0.1/>\n",
    "PREFIX rel: <http://www.perceive.net/schemas/relationship/>\n",
    "PREFIX : <http://example.org/>\n",
    "PREFIX rdf: <http://www.w3.org/1999/02/22-rdf-syntax-ns#>\n",
    "PREFIX univ: <http://www.faculty.ac>\n",
    "\n",
    "SELECT DISTINCT $p\n",
    "{\n",
    "    {$p :studiedAt $u} .\n",
    "    {$p :hasFather $pere. $pere :studiedAt $u} \n",
    "    UNION \n",
    "    {$p :hasMother $mere. $mere :studiedAt $u}\n",
    "}"
   ]
  },
  {
   "cell_type": "code",
   "execution_count": 19,
   "metadata": {
    "vscode": {
     "languageId": "plaintext"
    }
   },
   "outputs": [
    {
     "data": {
      "text/html": [
       "<div class=\"krn-spql\"><table><tr class=hdr><th>p</th><th>type</th></tr><tr class=odd><td class=val><a href=\"http://example.org/liz\" target=\"_other\">http://example.org/liz</a></td><td class=typ>uri</td></tr><tr class=even><td class=val><a href=\"http://example.org/john\" target=\"_other\">http://example.org/john</a></td><td class=typ>uri</td></tr><tr class=odd><td class=val><a href=\"http://example.org/larry\" target=\"_other\">http://example.org/larry</a></td><td class=typ>uri</td></tr></table><div class=\"tinfo\">Total: 3, Shown: 3</div></div>"
      ]
     },
     "metadata": {},
     "output_type": "display_data"
    }
   ],
   "source": [
    "PREFIX rdf: <http://www.w3.org/1999/02/22-rdf-syntax-ns#>\n",
    "PREFIX rdfs: <http://www.w3.org/2000/01/rdf-schema#>\n",
    "PREFIX foaf: <http://xmlns.com/foaf/0.1/>\n",
    "PREFIX rel: <http://www.perceive.net/schemas/relationship/>\n",
    "PREFIX : <http://example.org/>\n",
    "PREFIX rdf: <http://www.w3.org/1999/02/22-rdf-syntax-ns#>\n",
    "PREFIX univ: <http://www.faculty.ac>\n",
    "SELECT DISTINCT ?p\n",
    "{\n",
    "    {?p :hasMother ?m. ?p :studiedAt ?u.?m :studiedAt ?u}\n",
    "    UNION\n",
    "    {?p :hasFather ?m. ?p :studiedAt ?u.?m :studiedAt ?u}\n",
    "    \n",
    "}"
   ]
  },
  {
   "cell_type": "code",
   "execution_count": 23,
   "metadata": {
    "vscode": {
     "languageId": "plaintext"
    }
   },
   "outputs": [
    {
     "data": {
      "text/html": [
       "<div class=\"krn-spql\"><table><tr class=hdr><th>p</th><th>type</th></tr><tr class=odd><td class=val><a href=\"http://example.org/liz\" target=\"_other\">http://example.org/liz</a></td><td class=typ>uri</td></tr></table><div class=\"tinfo\">Total: 1, Shown: 1</div></div>"
      ]
     },
     "metadata": {},
     "output_type": "display_data"
    }
   ],
   "source": [
    "PREFIX rdf: <http://www.w3.org/1999/02/22-rdf-syntax-ns#>\n",
    "PREFIX rdfs: <http://www.w3.org/2000/01/rdf-schema#>\n",
    "PREFIX foaf: <http://xmlns.com/foaf/0.1/>\n",
    "PREFIX rel: <http://www.perceive.net/schemas/relationship/>\n",
    "PREFIX : <http://example.org/>\n",
    "PREFIX rdf: <http://www.w3.org/1999/02/22-rdf-syntax-ns#>\n",
    "PREFIX univ: <http://www.faculty.ac>\n",
    "SELECT DISTINCT ?p\n",
    "{\n",
    "    {?p :studiedAt ?u}.\n",
    "    {?p :hasFather ?f} . {?f :studiedAt ?u}\n",
    "    {?p :hasMother ?m} . {?m :studiedAt ?u}\n",
    "}\n"
   ]
  },
  {
   "cell_type": "code",
   "execution_count": 35,
   "metadata": {
    "vscode": {
     "languageId": "plaintext"
    }
   },
   "outputs": [
    {
     "data": {
      "text/html": [
       "<div class=\"krn-spql\"><table><tr class=hdr><th>p</th><th>type</th></tr><tr class=odd><td class=val><a href=\"http://example.org/john\" target=\"_other\">http://example.org/john</a></td><td class=typ>uri</td></tr></table><div class=\"tinfo\">Total: 1, Shown: 1</div></div>"
      ]
     },
     "metadata": {},
     "output_type": "display_data"
    }
   ],
   "source": [
    "PREFIX rdf: <http://www.w3.org/1999/02/22-rdf-syntax-ns#>\n",
    "PREFIX rdfs: <http://www.w3.org/2000/01/rdf-schema#>\n",
    "PREFIX foaf: <http://xmlns.com/foaf/0.1/>\n",
    "PREFIX rel: <http://www.perceive.net/schemas/relationship/>\n",
    "PREFIX : <http://example.org/>\n",
    "PREFIX rdf: <http://www.w3.org/1999/02/22-rdf-syntax-ns#>\n",
    "PREFIX univ: <http://www.faculty.ac>\n",
    "\n",
    "SELECT DISTINCT ?p\n",
    "{\n",
    "    {?p a :Person}\n",
    "    MINUS\n",
    "    {?p :studiedAt ?u} .\n",
    "    {{?p :hasFather ?pere. ?pere :studiedAt ?u} \n",
    "    UNION \n",
    "    {?p :hasMother ?mere. ?mere :studiedAt ?u}}\n",
    "}"
   ]
  },
  {
   "cell_type": "code",
   "execution_count": 36,
   "metadata": {
    "vscode": {
     "languageId": "plaintext"
    }
   },
   "outputs": [
    {
     "data": {
      "text/html": [
       "<div class=\"krn-spql\"><table><tr class=hdr><th>p</th><th>type</th></tr><tr class=odd><td class=val><a href=\"http://example.org/dan\" target=\"_other\">http://example.org/dan</a></td><td class=typ>uri</td></tr><tr class=even><td class=val><a href=\"http://example.org/robert\" target=\"_other\">http://example.org/robert</a></td><td class=typ>uri</td></tr></table><div class=\"tinfo\">Total: 2, Shown: 2</div></div>"
      ]
     },
     "metadata": {},
     "output_type": "display_data"
    }
   ],
   "source": [
    "PREFIX rdf: <http://www.w3.org/1999/02/22-rdf-syntax-ns#>\n",
    "PREFIX rdfs: <http://www.w3.org/2000/01/rdf-schema#>\n",
    "PREFIX foaf: <http://xmlns.com/foaf/0.1/>\n",
    "PREFIX rel: <http://www.perceive.net/schemas/relationship/>\n",
    "PREFIX : <http://example.org/>\n",
    "PREFIX rdf: <http://www.w3.org/1999/02/22-rdf-syntax-ns#>\n",
    "PREFIX univ: <http://www.faculty.ac>\n",
    "\n",
    "SELECT DISTINCT ?p\n",
    "{\n",
    "    {?p a :Person}\n",
    "    MINUS\n",
    "    {\n",
    "        {?p :studiedAt ?u}.\n",
    "        \n",
    "            {?p :hasMother ?m. ?p :studiedAt ?u.?m :studiedAt ?u}\n",
    "            UNION\n",
    "            {?p :hasFather ?m. ?p :studiedAt ?u.?m :studiedAt ?u}\n",
    "        \n",
    "    }\n",
    "}"
   ]
  },
  {
   "cell_type": "code",
   "execution_count": 37,
   "metadata": {
    "vscode": {
     "languageId": "plaintext"
    }
   },
   "outputs": [
    {
     "data": {
      "text/html": [
       "<div class=\"krn-spql\"><table><tr class=hdr><th>p</th><th>type</th></tr></table><div class=\"tinfo\">Total: 0, Shown: 0</div></div>"
      ]
     },
     "metadata": {},
     "output_type": "display_data"
    }
   ],
   "source": [
    "PREFIX rdf: <http://www.w3.org/1999/02/22-rdf-syntax-ns#>\n",
    "PREFIX rdfs: <http://www.w3.org/2000/01/rdf-schema#>\n",
    "PREFIX foaf: <http://xmlns.com/foaf/0.1/>\n",
    "PREFIX rel: <http://www.perceive.net/schemas/relationship/>\n",
    "PREFIX : <http://example.org/>\n",
    "PREFIX rdf: <http://www.w3.org/1999/02/22-rdf-syntax-ns#>\n",
    "PREFIX univ: <http://www.faculty.ac>\n",
    "\n",
    "SELECT DISTINCT ?p\n",
    "{\n",
    "    {$p :studiedAt :u}.\n",
    "    {$p :hasBrother $frere}.{$frere :studiedAt :u}\n",
    "    UNION\n",
    "    {$p :hasSister $soeur}.{$soeur :studiedAd :u}\n",
    "}"
   ]
  },
  {
   "cell_type": "code",
   "execution_count": 78,
   "metadata": {
    "vscode": {
     "languageId": "plaintext"
    }
   },
   "outputs": [
    {
     "data": {
      "text/html": [
       "<div class=\"krn-spql\"><div class=\"krn-error\"><span class=\"title\">Error:</span> SPARQL error: QueryBadFormed: A bad request has been sent to the endpoint: probably the SPARQL query is badly formed. <br/><br/>Response:<br/>b'{&quot;message&quot;:&quot;Invalid SPARQL query: Parse error on line 15:\\\\n...    MINUS    {:liz}}\\\\n---------------------^\\\\nExpecting \\'IRIREF\\', \\'PNAME_NS\\', \\'VAR\\', \\'(\\', \\'a\\', \\'!\\', \\'^\\', \\'PNAME_LN\\', got \\'}\\'&quot;}'</div></div>"
      ],
      "text/plain": [
       "Error: SPARQL error: QueryBadFormed: A bad request has been sent to the endpoint: probably the SPARQL query is badly formed. \n",
       "\n",
       "Response:\n",
       "b'{\"message\":\"Invalid SPARQL query: Parse error on line 15:\\\\n...    MINUS    {:liz}}\\\\n---------------------^\\\\nExpecting \\'IRIREF\\', \\'PNAME_NS\\', \\'VAR\\', \\'(\\', \\'a\\', \\'!\\', \\'^\\', \\'PNAME_LN\\', got \\'}\\'\"}'"
      ]
     },
     "metadata": {},
     "output_type": "display_data"
    }
   ],
   "source": [
    "PREFIX rdf: <http://www.w3.org/1999/02/22-rdf-syntax-ns#>\n",
    "PREFIX rdfs: <http://www.w3.org/2000/01/rdf-schema#>\n",
    "PREFIX foaf: <http://xmlns.com/foaf/0.1/>\n",
    "PREFIX rel: <http://www.perceive.net/schemas/relationship/>\n",
    "PREFIX : <http://example.org/>\n",
    "PREFIX rdf: <http://www.w3.org/1999/02/22-rdf-syntax-ns#>\n",
    "PREFIX univ: <http://www.faculty.ac>\n",
    "\n",
    "SELECT DISTINCT ?aa\n",
    "{\n",
    "    {{:liz :friend ?a}.{?a :friend ?aa}}\n",
    "    MINUS\n",
    "    {:liz :friend ?aa}  z\n",
    "    MINUS\n",
    "    {:liz}\n",
    "\n",
    "}"
   ]
  },
  {
   "cell_type": "code",
   "execution_count": 73,
   "metadata": {
    "vscode": {
     "languageId": "python"
    }
   },
   "outputs": [
    {
     "data": {
      "text/html": [
       "<div class=\"krn-spql\"><table><tr class=hdr><th>a</th><th>type</th></tr><tr class=odd><td class=val><a href=\"http://example.org/dan\" target=\"_other\">http://example.org/dan</a></td><td class=typ>uri</td></tr><tr class=even><td class=val><a href=\"http://example.org/larry\" target=\"_other\">http://example.org/larry</a></td><td class=typ>uri</td></tr></table><div class=\"tinfo\">Total: 2, Shown: 2</div></div>"
      ]
     },
     "metadata": {},
     "output_type": "display_data"
    }
   ],
   "source": [
    "PREFIX rdf: <http://www.w3.org/1999/02/22-rdf-syntax-ns#>\n",
    "PREFIX rdfs: <http://www.w3.org/2000/01/rdf-schema#>\n",
    "PREFIX foaf: <http://xmlns.com/foaf/0.1/>\n",
    "PREFIX rel: <http://www.perceive.net/schemas/relationship/>\n",
    "PREFIX : <http://example.org/>\n",
    "PREFIX rdf: <http://www.w3.org/1999/02/22-rdf-syntax-ns#>\n",
    "PREFIX univ: <http://www.faculty.ac>\n",
    "\n",
    "SELECT DISTINCT ?a\n",
    "{\n",
    "    {:liz :friend ?a}\n",
    "}"
   ]
  }
 ],
 "metadata": {
  "kernelspec": {
   "display_name": "SPARQL",
   "language": "sparql",
   "name": "sparql"
  },
  "language_info": {
   "codemirror_mode": {
    "name": "sparql"
   },
   "mimetype": "application/sparql-query",
   "name": "sparql",
   "pygments_lexer": "sparql-nb"
  },
  "orig_nbformat": 4
 },
 "nbformat": 4,
 "nbformat_minor": 2
}
