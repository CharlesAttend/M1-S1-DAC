{
 "cells": [
  {
   "cell_type": "markdown",
   "metadata": {},
   "source": [
    "# TME sur la classification de lettres manuscrites\n",
    "## Format des données\n",
    "Nous travaillerons sur des lettres manuscrites.\n",
    "Les données sont fournies au format pickle (le standard de sérialisation python, particulièrement convivial). Pour les charger : "
   ]
  },
  {
   "cell_type": "code",
   "execution_count": 3,
   "metadata": {},
   "outputs": [
    {
     "name": "stderr",
     "output_type": "stream",
     "text": [
      "/tmp/ipykernel_1992/2439924595.py:7: VisibleDeprecationWarning: Creating an ndarray from ragged nested sequences (which is a list-or-tuple of lists-or-tuples-or ndarrays with different lengths or shapes) is deprecated. If you meant to do this, you must specify 'dtype=object' when creating the ndarray.\n",
      "  X = np.array(data.get('letters')) # récupération des données sur les lettres\n"
     ]
    }
   ],
   "source": [
    "import numpy as np\n",
    "import pickle as pkl\n",
    "import matplotlib.pyplot as plt\n",
    "\n",
    "with open('ressources/lettres.pkl', 'rb') as f:\n",
    "    data = pkl.load(f, encoding='latin1') \n",
    "X = np.array(data.get('letters')) # récupération des données sur les lettres\n",
    "Y = np.array(data.get('labels')) # récupération des étiquettes associées "
   ]
  },
  {
   "cell_type": "markdown",
   "metadata": {},
   "source": [
    "Les données sont dans un format original: une lettre est en fait une série d'angles (exprimés en degrés). Un exemple: "
   ]
  },
  {
   "cell_type": "code",
   "execution_count": 4,
   "metadata": {},
   "outputs": [
    {
     "data": {
      "text/plain": [
       "array([ 36.214493, 347.719116, 322.088898, 312.230957, 314.851013,\n",
       "       315.487213, 313.556702, 326.534973, 141.288971, 167.606689,\n",
       "       199.321594, 217.911087, 226.443298, 235.002472, 252.354492,\n",
       "       270.045654, 291.665161, 350.934723,  17.892815,  20.281025,\n",
       "        28.207161,  43.883423,  53.459026])"
      ]
     },
     "execution_count": 4,
     "metadata": {},
     "output_type": "execute_result"
    }
   ],
   "source": [
    "X[0]"
   ]
  },
  {
   "cell_type": "markdown",
   "metadata": {},
   "source": [
    "Lors de l'acquisition, un stylo intelligent a pris des mesures régulièrement dans le temps: chaque période correspond à un segment de droite et le stylo a calculé l'angle entre deux segments consécutifs... C'est l'information qui vous est fournie.\n",
    "\n",
    "Pour afficher une lettre, il faut reconstruire la trajectoire enregistrée... C'est ce que fait la méthode ci-dessous: "
   ]
  },
  {
   "cell_type": "code",
   "execution_count": 5,
   "metadata": {},
   "outputs": [],
   "source": [
    "# affichage d'une lettre\n",
    "def tracerLettre(let):\n",
    "    a = -let*np.pi/180; # conversion en rad\n",
    "    coord = np.array([[0, 0]]); # point initial\n",
    "    for i in range(len(a)):\n",
    "        x = np.array([[1, 0]]);\n",
    "        rot = np.array([[np.cos(a[i]), -np.sin(a[i])],[ np.sin(a[i]),np.cos(a[i])]])\n",
    "        xr = x.dot(rot) # application de la rotation\n",
    "        coord = np.vstack((coord,xr+coord[-1,:]))\n",
    "    plt.figure()\n",
    "    plt.plot(coord[:,0],coord[:,1])\n",
    "    #plt.savefig(\"exlettre.png\")\n",
    "    return"
   ]
  },
  {
   "cell_type": "code",
   "execution_count": 6,
   "metadata": {},
   "outputs": [
    {
     "name": "stdout",
     "output_type": "stream",
     "text": [
      "a\n"
     ]
    },
    {
     "data": {
      "image/png": "[encoded data removed]",
      "text/plain": [
       "<Figure size 432x288 with 1 Axes>"
      ]
     },
     "metadata": {
      "needs_background": "light"
     },
     "output_type": "display_data"
    }
   ],
   "source": [
    "# il s'agit d'un 'a'\n",
    "tracerLettre(X[0])\n",
    "print(Y[0]) # vérification de l'étiquette"
   ]
  },
  {
   "cell_type": "markdown",
   "metadata": {},
   "source": [
    "## A. Apprentissage d'un modèle CM (max de vraisemblance)\n",
    "### A1. Discrétisation\n",
    "\n",
    "**1 état = 1 angle**\n",
    "\n",
    "Il est nécessaire de regrouper les angles en un nombre fini d'états (par exemple 20)\n",
    "- définir un `intervalle = 360 / n_etats` (18° si on choisit 20 états)\n",
    "- discrétiser tous les signaux à l'aide de la formule `np.floor(x / intervalle)`\n",
    "    - si n_etats = 20 alors [0, 18[ => 0, [18, 36[ => 1, etc...\n",
    "\n",
    "Donner le code de la méthode `discretise(x, d)` qui prend la base des signaux et retourne une base de signaux discrétisés."
   ]
  },
  {
   "cell_type": "code",
   "execution_count": 7,
   "metadata": {},
   "outputs": [
    {
     "data": {
      "text/plain": [
       "array([0, 2, 2, 2, 2, 2, 2, 2, 1, 1, 1, 1, 1, 1, 2, 2, 2, 2, 0, 0, 0, 0,\n",
       "       0], dtype=object)"
      ]
     },
     "execution_count": 7,
     "metadata": {},
     "output_type": "execute_result"
    }
   ],
   "source": [
    "def discretise(x, d):\n",
    "    intervalle = 360 / d\n",
    "    bins = np.array([intervalle*i for i in range(d+1)])\n",
    "    l = []\n",
    "    for x_i in x:\n",
    "        l.append(np.digitize(x_i, bins, right=False) - 1)\n",
    "    return np.array(l, dtype='object')\n",
    "discretise(X[0], 3)"
   ]
  },
  {
   "cell_type": "markdown",
   "metadata": {},
   "source": [
    "**VALIDATION :** code du premier signal avec une discrétisation sur 3 états:\n",
    "```python\n",
    "array([ 0.,  2.,  2.,  2.,  2.,  2.,  2.,  2.,  1.,  1.,  1.,  1., 1., 1., 2., 2.,  2.,\n",
    "       2.,  0.,  0.,  0.,  0.,  0.])\n",
    "```"
   ]
  },
  {
   "cell_type": "markdown",
   "metadata": {},
   "source": [
    "### A2. Regrouper les indices des signaux par classe (pour faciliter l'apprentissage)"
   ]
  },
  {
   "cell_type": "code",
   "execution_count": 8,
   "metadata": {},
   "outputs": [
    {
     "data": {
      "text/plain": [
       "[array([ 0,  1,  2,  3,  4,  5,  6,  7,  8,  9, 10]),\n",
       " array([11, 12, 13, 14, 15, 16, 17, 18, 19, 20, 21]),\n",
       " array([22, 23, 24, 25, 26, 27, 28, 29, 30, 31, 32]),\n",
       " array([33, 34, 35, 36, 37, 38, 39, 40, 41, 42, 43]),\n",
       " array([44, 45, 46, 47, 48, 49, 50, 51, 52, 53, 54]),\n",
       " array([55, 56, 57, 58, 59, 60, 61, 62, 63, 64, 65])]"
      ]
     },
     "execution_count": 8,
     "metadata": {},
     "output_type": "execute_result"
    }
   ],
   "source": [
    "def groupByLabel(y):\n",
    "    index = []\n",
    "    for i in np.unique(y): # pour toutes les classes\n",
    "        ind, = np.where(y == i)\n",
    "        index.append(ind)\n",
    "    return index\n",
    "index = groupByLabel(Y)\n",
    "index[:6]"
   ]
  },
  {
   "cell_type": "markdown",
   "metadata": {},
   "source": [
    "Cette méthode produit simplement une structure type:\n",
    "```python\n",
    "[array([ 0,  1,  2,  3,  4,  5,  6,  7,  8,  9, 10]),\n",
    " array([11, 12, 13, 14, 15, 16, 17, 18, 19, 20, 21]),\n",
    " array([22, 23, 24, 25, 26, 27, 28, 29, 30, 31, 32]),\n",
    " array([33, 34, 35, 36, 37, 38, 39, 40, 41, 42, 43]),\n",
    " array([44, 45, 46, 47, 48, 49, 50, 51, 52, 53, 54]),\n",
    " array([55, 56, 57, 58, 59, 60, 61, 62, 63, 64, 65]),\n",
    " ...\n",
    "```\n",
    "Chaque ligne regroupe les indices de signaux correspondant à une classe. Il y a donc 11 exemples de 'a'."
   ]
  },
  {
   "cell_type": "markdown",
   "metadata": {},
   "source": [
    "### A3. Apprendre les modèles CM\n",
    "\n",
    "Soit {$X_C$} la base de signaux discrétisés correspondant à une classe {$C$} et {$d$} le nombre d'états. Donner le code de la fonction `learnMarkovModel(Xc, d)` qui retourne un tuple contenant Pi et A.\n",
    "\n",
    "Rappel:\n",
    "- Initialisation de \n",
    "```python\n",
    " A = np.zeros((d, d))\n",
    " Pi = np.zeros(d)\n",
    "```\n",
    "- Parcours de tous les signaux et incréments de A et Pi\n",
    "- Normalisation (un peu réfléchie pour éviter les divisions par 0)\n",
    "```python\n",
    "A = A / np.maximum(A.sum(1).reshape(d, 1), 1) # normalisation\n",
    "Pi = Pi / Pi.sum()\n",
    "```\n",
    "\n",
    "**Note** : la solution proposée pour gérer le cas des lignes entièrement à 0 est naïve et n'est pas totalement satisfaisante. Comprendre pourquoi. On proposera une solution améliorée plus loin dans le TME. "
   ]
  },
  {
   "cell_type": "code",
   "execution_count": 31,
   "metadata": {},
   "outputs": [
    {
     "data": {
      "text/plain": [
       "(array([0.36363636, 0.        , 0.63636364]),\n",
       " array([[0.84444444, 0.06666667, 0.08888889],\n",
       "        [0.        , 0.83333333, 0.16666667],\n",
       "        [0.11382114, 0.06504065, 0.82113821]]))"
      ]
     },
     "execution_count": 31,
     "metadata": {},
     "output_type": "execute_result"
    }
   ],
   "source": [
    "def learnMarkovModel(Xc, d):\n",
    "    A = np.zeros((d, d))\n",
    "    Pi = np.zeros(d)\n",
    "    for Xc_i in Xc:\n",
    "        Pi[Xc_i[0]] += 1\n",
    "        for i in range(1, len(Xc_i)):\n",
    "            prev_state = Xc_i[i-1]\n",
    "            current_state = Xc_i[i]\n",
    "            A[prev_state, current_state] += 1\n",
    "    A = A / np.maximum(A.sum(1).reshape(d, 1), 1) # normalisation\n",
    "    Pi = Pi / Pi.sum()\n",
    "    return Pi, A\n",
    "\n",
    "d = 3                    # paramètre de discrétisation\n",
    "Xd3 = discretise(X, d)    # application de la discrétisation\n",
    "index = groupByLabel(Y)  # groupement des signaux par classe\n",
    "models3 = []\n",
    "for cl in range(len(np.unique(Y))): # parcours de toutes les classes et optimisation des modèles\n",
    "    models3.append(learnMarkovModel(Xd3[index[cl]], d))\n",
    "models3[0]"
   ]
  },
  {
   "cell_type": "markdown",
   "metadata": {},
   "source": [
    "**Validation :** premier modèle avec une discrétisation sur 3 états :\n",
    "```python\n",
    "(array([ 0.36363636,  0.        ,  0.63636364]),\n",
    " array([[ 0.84444444,  0.06666667,  0.08888889],\n",
    "       [ 0.        ,  0.83333333,  0.16666667],\n",
    "       [ 0.11382114,  0.06504065,  0.82113821]]))\n",
    "```"
   ]
  },
  {
   "cell_type": "markdown",
   "metadata": {},
   "source": [
    "### A4. Stocker les modèles dans une liste\n",
    "\n",
    "Pour un usage ultérieur plus facile, on utilise le code suivant :"
   ]
  },
  {
   "cell_type": "code",
   "execution_count": 10,
   "metadata": {},
   "outputs": [],
   "source": [
    "d = 20                   # paramètre de discrétisation\n",
    "Xd = discretise(X, d)    # application de la discrétisation\n",
    "index = groupByLabel(Y)  # groupement des signaux par classe\n",
    "models = []\n",
    "for cl in range(len(np.unique(Y))): # parcours de toutes les classes et optimisation des modèles\n",
    "    models.append(learnMarkovModel(Xd[index[cl]], d))"
   ]
  },
  {
   "cell_type": "markdown",
   "metadata": {},
   "source": [
    "### A5. Distribution stationnaire\n",
    "\n",
    "La distribution stationnaire $\\mu$, pour un système ergodique, correspond à:\n",
    "\n",
    "- la distribution des états observés dans l'ensemble des données\n",
    "- la distribution obtenu après un grand nombre de passage dans $A$ à partir de n'importe quelle distribution ou état d'origine (une matrice de transition ergodique va nous permettre de converger)\n",
    "- la solution de l'équation de stabilité: $\\mu = \\mu A$\n",
    "\n",
    "Dans le cas de la lettre 'a' et d'une discrétisation en 3 états, calculer la distribution stationnaire par les deux première méthode et vérifier que vous obtenez des résultats similaires.\n",
    "\n",
    "**Note 1:** pour la marche aléatoire, vous construirez une boucle sur 100 iérations (borne sup) et vous sortirez dès que la somme des écarts (en absolu) entre $\\mu_t$ et $\\mu_{t+1}$ est inférieure à $10^{-3}$. Vous vérifierez ensuite que le système converge quelque soit l'état de départ (3 appel àla fonction) ou avec une initialisation aléatoire.\n",
    "\n",
    "**Note 2:** les deux approches, bien que reposant sur les mêmes données, vont donner des solutions différentes. En effet, il n'y a que peu d'observations et le premier calcul repose sur les états alors que le second repose sur les transitions. \n",
    "Afin de vérifier l'exactitude de votre code, vous pourrez revenir sur cette question en fin de sujet avec le protocole suivant:\n",
    "1. utiliser la matrice de transition de 'a' pour générer une séquence de longeur 100000\n",
    "1. faire les statistiques des états (à l'aide d'un ```Counter``` par exemple)\n",
    "1. vérifier la convergence sur de longues séquences"
   ]
  },
  {
   "cell_type": "markdown",
   "metadata": {},
   "source": [
    "**1ère méthode**"
   ]
  },
  {
   "cell_type": "code",
   "execution_count": 28,
   "metadata": {},
   "outputs": [
    {
     "name": "stdout",
     "output_type": "stream",
     "text": [
      "[0.09387755102040816, 0.08571428571428572, 0.02857142857142857, 0.00816326530612245, 0, 0, 0.0163265306122449, 0.012244897959183673, 0.0163265306122449, 0.024489795918367346, 0.053061224489795916, 0.06938775510204082, 0.0653061224489796, 0.04897959183673469, 0.0326530612244898, 0.0653061224489796, 0.08979591836734693, 0.1346938775510204, 0.09795918367346938, 0.05714285714285714]\n"
     ]
    }
   ],
   "source": [
    "l = []\n",
    "for Xd_i in Xd[index[0]]:\n",
    "    l += list(Xd_i) # On fait une grande liste avec tous les angles\n",
    "classes, count = np.unique(np.array(l), return_counts=True)\n",
    "den = count.sum()\n",
    "# Vérification d'une classe manquante, qui n’apparaît jamais\n",
    "# Pour corriger le count construit donc sans la classe manquante, on vas le reconstruire manuellement\n",
    "freq = []\n",
    "for i in range(d):\n",
    "    idx = np.argwhere(classes == i)\n",
    "    if list(idx) == []:\n",
    "        freq.append(0)\n",
    "    else:\n",
    "        idx = idx[0][0]\n",
    "        freq.append(count[idx]/den)\n",
    "print(freq)"
   ]
  },
  {
   "cell_type": "markdown",
   "metadata": {},
   "source": [
    "**2ère méthode**"
   ]
  },
  {
   "cell_type": "code",
   "execution_count": 32,
   "metadata": {},
   "outputs": [
    {
     "data": {
      "text/plain": [
       "array([0.31762754, 0.27785068, 0.40452177])"
      ]
     },
     "metadata": {},
     "output_type": "display_data"
    },
    {
     "data": {
      "text/plain": [
       "array([0.2877453, 0.2905919, 0.4216628])"
      ]
     },
     "metadata": {},
     "output_type": "display_data"
    },
    {
     "data": {
      "text/plain": [
       "array([0.31353509, 0.26718509, 0.41927983])"
      ]
     },
     "metadata": {},
     "output_type": "display_data"
    },
    {
     "data": {
      "text/plain": [
       "array([0.32479414, 0.26755036, 0.4076555 ])"
      ]
     },
     "metadata": {},
     "output_type": "display_data"
    }
   ],
   "source": [
    "def random_walk(mu_t, models):\n",
    "    for i in range(1000):\n",
    "        mu_tp1 = mu_t @ models[0][1]\n",
    "        if np.abs(mu_t - mu_tp1).sum() < 10e-3:\n",
    "            return mu_tp1\n",
    "        else:\n",
    "            mu_t = mu_tp1\n",
    "    else:\n",
    "        print(\"Non convergence\")\n",
    "        return np.array([])\n",
    "display(random_walk(np.array([1, 0, 0]), models3))\n",
    "display(random_walk(np.array([0, 1, 0]), models3))\n",
    "display(random_walk(np.array([0, 0, 1]), models3))\n",
    "display(random_walk(models3[0][0], models3))"
   ]
  },
  {
   "cell_type": "markdown",
   "metadata": {},
   "source": [
    "##  B. Test (affectation dans les classes sur critère MV)\n",
    "### B1. (log)Probabilité d'une séquence dans un modèle\n",
    "\n",
    "Donner le code de la méthode `probaSequence(s,Pi,A)` qui retourne la log-probabilité d'une séquence `s` dans le modèle {$\\lambda=\\{Pi,A\\}$} "
   ]
  },
  {
   "cell_type": "code",
   "execution_count": 11,
   "metadata": {},
   "outputs": [
    {
     "name": "stderr",
     "output_type": "stream",
     "text": [
      "/tmp/ipykernel_2018/2959815715.py:2: RuntimeWarning: divide by zero encountered in log\n",
      "  somme = np.log(Pi[s[0]])\n",
      "/tmp/ipykernel_2018/2959815715.py:4: RuntimeWarning: divide by zero encountered in log\n",
      "  somme += np.log(A[s[i-1], s[i]])\n"
     ]
    },
    {
     "data": {
      "text/plain": [
       "array([-13.491086  ,         -inf,         -inf,         -inf,\n",
       "               -inf,         -inf,         -inf,         -inf,\n",
       "               -inf,         -inf,         -inf,         -inf,\n",
       "               -inf,         -inf,         -inf,         -inf,\n",
       "               -inf,         -inf,         -inf,         -inf,\n",
       "               -inf,         -inf,         -inf,         -inf,\n",
       "               -inf, -12.48285678])"
      ]
     },
     "execution_count": 11,
     "metadata": {},
     "output_type": "execute_result"
    }
   ],
   "source": [
    "def probaSequence(s, Pi, A):\n",
    "    somme = np.log(Pi[s[0]])\n",
    "    for i in range(1, len(s)):\n",
    "        somme += np.log(A[s[i-1], s[i]])\n",
    "    return somme\n",
    "l = []\n",
    "for Pi, A in models3:\n",
    "    l.append(probaSequence(Xd3[0], Pi, A))\n",
    "np.array(l)"
   ]
  },
  {
   "cell_type": "markdown",
   "metadata": {},
   "source": [
    "**VALIDATION :** probabilité du premier signal dans les 26 modèles avec une discrétisation sur 3 états :\n",
    "```python\n",
    "array([-13.491086  ,         -inf,         -inf,         -inf,\n",
    "               -inf,         -inf,         -inf,         -inf,\n",
    "               -inf,         -inf,         -inf,         -inf,\n",
    "               -inf,         -inf,         -inf,         -inf,\n",
    "               -inf,         -inf,         -inf,         -inf,\n",
    "               -inf,         -inf,         -inf,         -inf,\n",
    "               -inf, -12.48285678])\n",
    "```\n",
    "\n",
    "- Ce signal est-il bien classé ? En prenant strictement le maximum de la vraissemblance, ce signal est classé comme un \"Z\". Pas de chance.\n",
    "- D'où viennent tous les `-inf` ? Probalement de proba proche de zéro envoyé dans le log."
   ]
  },
  {
   "cell_type": "markdown",
   "metadata": {},
   "source": [
    "### B2. Application de la méthode précédente pour tous les signaux et tous les modèles de lettres\n",
    "\n",
    "L'application se fait en une ligne de code si vous avez respecté les spécifications précédentes : "
   ]
  },
  {
   "cell_type": "code",
   "execution_count": 12,
   "metadata": {},
   "outputs": [
    {
     "name": "stderr",
     "output_type": "stream",
     "text": [
      "/tmp/ipykernel_2018/2959815715.py:2: RuntimeWarning: divide by zero encountered in log\n",
      "  somme = np.log(Pi[s[0]])\n",
      "/tmp/ipykernel_2018/2959815715.py:4: RuntimeWarning: divide by zero encountered in log\n",
      "  somme += np.log(A[s[i-1], s[i]])\n"
     ]
    }
   ],
   "source": [
    "proba = np.array([[probaSequence(Xd[i], models[cl][0], models[cl][1]) for i in range(len(Xd))]\n",
    "                  for cl in range(len(np.unique(Y)))])"
   ]
  },
  {
   "cell_type": "markdown",
   "metadata": {},
   "source": [
    "### B3. Evaluation des performances\n",
    "\n",
    "Pour l'évaluation, nous proposons l'approche suivante: "
   ]
  },
  {
   "cell_type": "code",
   "execution_count": 13,
   "metadata": {},
   "outputs": [
    {
     "data": {
      "text/plain": [
       "0.914179104477612"
      ]
     },
     "execution_count": 13,
     "metadata": {},
     "output_type": "execute_result"
    }
   ],
   "source": [
    "# calcul d'une version numérique des Y :\n",
    "Ynum = np.zeros(Y.shape)\n",
    "for num, char in enumerate(np.unique(Y)):\n",
    "    Ynum[Y == char] = num\n",
    "    \n",
    "# Calcul de la classe la plus probable :\n",
    "pred = proba.argmax(0) # max colonne par colonne\n",
    "\n",
    "# Calcul d'un pourcentage de bonne classification :\n",
    "np.where(pred != Ynum, 0.,1.).mean()"
   ]
  },
  {
   "cell_type": "code",
   "execution_count": 14,
   "metadata": {},
   "outputs": [
    {
     "name": "stderr",
     "output_type": "stream",
     "text": [
      "/tmp/ipykernel_2018/2959815715.py:2: RuntimeWarning: divide by zero encountered in log\n",
      "  somme = np.log(Pi[s[0]])\n",
      "/tmp/ipykernel_2018/2959815715.py:4: RuntimeWarning: divide by zero encountered in log\n",
      "  somme += np.log(A[s[i-1], s[i]])\n"
     ]
    },
    {
     "data": {
      "text/plain": [
       "0.6902985074626866"
      ]
     },
     "execution_count": 14,
     "metadata": {},
     "output_type": "execute_result"
    }
   ],
   "source": [
    "proba = np.array([[probaSequence(Xd3[i], models3[cl][0], models3[cl][1]) for i in range(len(Xd3))]\n",
    "                for cl in range(len(np.unique(Y)))])\n",
    "# calcul d'une version numérique des Y :\n",
    "Ynum = np.zeros(Y.shape)\n",
    "for num, char in enumerate(np.unique(Y)):\n",
    "    Ynum[Y == char] = num\n",
    "    \n",
    "# Calcul de la classe la plus probable :\n",
    "pred = proba.argmax(0) # max colonne par colonne\n",
    "\n",
    "# Calcul d'un pourcentage de bonne classification :\n",
    "np.where(pred != Ynum, 0.,1.).mean()"
   ]
  },
  {
   "cell_type": "markdown",
   "metadata": {},
   "source": [
    "**INDICE DE PERFORMANCE :** 91% de bonne classification avec 20 états, 69% avec 3 états"
   ]
  },
  {
   "cell_type": "markdown",
   "metadata": {},
   "source": [
    "## C. Biais d'évaluation, notion de sur-apprentissage\n",
    "\n",
    "Dans le protocole précédent, nous avons triché:\n",
    "- les données servent d'abord à apprendre les modèles...\n",
    "- puis nous nous servons des mêmes données pour tester les modèles ! Les performances sont forcément bonnes ! \n",
    "\n",
    "Afin de palier le problème, nous allons diviser en deux la base de données: une partie servira à l'apprentissage des modèles, l'autre à leur évaluation. Pour effectuer la division, nous fournissons le code suivant: "
   ]
  },
  {
   "cell_type": "code",
   "execution_count": 15,
   "metadata": {},
   "outputs": [],
   "source": [
    "# separation app/test, pc=ratio de points en apprentissage\n",
    "def separeTrainTest(y, pc):\n",
    "    indTrain = []\n",
    "    indTest = []\n",
    "    for i in np.unique(y): # pour toutes les classes\n",
    "        ind, = np.where(y == i)\n",
    "        n = len(ind)\n",
    "        indTrain.append(ind[np.random.permutation(n)][:int(np.floor(pc * n))])\n",
    "        indTest.append(np.setdiff1d(ind, indTrain[-1]))\n",
    "    return indTrain, indTest\n",
    "\n",
    "# exemple d'utilisation\n",
    "itrain, itest = separeTrainTest(Y, 0.8)"
   ]
  },
  {
   "cell_type": "markdown",
   "metadata": {},
   "source": [
    "dans `itrain`, nous obtenons les indices des signaux qui doivent servir en apprentissage pour chaque classe :"
   ]
  },
  {
   "cell_type": "code",
   "execution_count": 16,
   "metadata": {},
   "outputs": [
    {
     "data": {
      "text/plain": [
       "[array([ 6,  7,  1,  3,  8,  9, 10,  5]),\n",
       " array([18, 12, 14, 16, 19, 17, 21, 13]),\n",
       " array([24, 27, 22, 30, 23, 31, 28, 25]),\n",
       " array([35, 43, 38, 37, 33, 41, 34, 42]),\n",
       " array([54, 49, 51, 53, 52, 46, 50, 45]),\n",
       " array([55, 59, 63, 60, 58, 57, 61, 56]),\n",
       " array([68, 73, 66, 69, 76, 74, 71, 72]),\n",
       " array([84, 83, 82, 81, 79, 85, 77, 87]),\n",
       " array([96, 90, 95, 91, 97, 94, 89, 92]),\n",
       " array([100, 107, 106,  98, 103, 102, 101, 105]),\n",
       " array([114, 116, 112, 115, 113, 117, 111, 109]),\n",
       " array([122, 120, 127, 124, 118, 125, 121, 123]),\n",
       " array([137, 128, 130, 134, 132, 133, 135, 136]),\n",
       " array([142, 139, 146, 145, 147, 144, 138, 140]),\n",
       " array([148, 155, 150, 151, 149, 154, 157, 153]),\n",
       " array([159, 161, 164, 158, 162, 160, 163, 166]),\n",
       " array([170, 174, 172, 173, 169, 176, 168, 177]),\n",
       " array([182, 184, 183, 185, 187, 180, 181, 178]),\n",
       " array([188, 189, 194, 190, 191, 193, 192, 197]),\n",
       " array([198, 200, 201, 205, 204, 207, 202, 199]),\n",
       " array([213, 215, 214, 210, 216, 212, 209, 208]),\n",
       " array([220, 221, 219, 227, 224, 223, 225, 226]),\n",
       " array([230, 229, 231, 233, 236, 235, 234, 232]),\n",
       " array([243, 241, 245, 244, 239, 240, 242, 238]),\n",
       " array([257, 249, 255, 254, 251, 248, 252, 256]),\n",
       " array([258, 262, 263, 267, 259, 260, 261, 264])]"
      ]
     },
     "execution_count": 16,
     "metadata": {},
     "output_type": "execute_result"
    }
   ],
   "source": [
    "itrain"
   ]
  },
  {
   "cell_type": "markdown",
   "metadata": {},
   "source": [
    "**Note :** pour faciliter l'évaluation des modèles, vous aurez besoin de re-fusionner tous les indices d'apprentissage et de test. Cela se fait avec les lignes de code suivantes : "
   ]
  },
  {
   "cell_type": "code",
   "execution_count": 17,
   "metadata": {},
   "outputs": [],
   "source": [
    "ia = []\n",
    "for i in itrain:\n",
    "    ia += i.tolist()    \n",
    "it = []\n",
    "for i in itest:\n",
    "    it += i.tolist()"
   ]
  },
  {
   "cell_type": "markdown",
   "metadata": {},
   "source": [
    "**Note 2 :** Du fait de la permutation aléatoire, les résultats vont bouger (un peu) à chaque execution du programme. "
   ]
  },
  {
   "cell_type": "markdown",
   "metadata": {},
   "source": [
    "### C1. Questions importantes\n",
    "- Ré-utiliser les fonctions précédemment définies pour apprendre des modèles et les évaluer sans biais.\n",
    "- Calculer et analyser les résultats obtenus en apprentissage et en test\n",
    "- Etudier l'évolution des performances en fonction de la discrétisation"
   ]
  },
  {
   "cell_type": "markdown",
   "metadata": {},
   "source": [
    "<div style=\"color: red\">Je dois absolument factoriser mon code avec des fonctions qui prennent en paramètre `d` et le ration de test/train. J'ai préféré avancer un max, n'hésitez pas à consulter le dépôt de la semaine qui sera plus propre.</div>"
   ]
  },
  {
   "cell_type": "markdown",
   "metadata": {},
   "source": [
    "**d=3**"
   ]
  },
  {
   "cell_type": "code",
   "execution_count": 18,
   "metadata": {},
   "outputs": [
    {
     "name": "stderr",
     "output_type": "stream",
     "text": [
      "/tmp/ipykernel_2018/2959815715.py:2: RuntimeWarning: divide by zero encountered in log\n",
      "  somme = np.log(Pi[s[0]])\n",
      "/tmp/ipykernel_2018/2959815715.py:4: RuntimeWarning: divide by zero encountered in log\n",
      "  somme += np.log(A[s[i-1], s[i]])\n"
     ]
    },
    {
     "name": "stdout",
     "output_type": "stream",
     "text": [
      "train :  0.6778846153846154\n",
      "test :  0.6666666666666666\n"
     ]
    }
   ],
   "source": [
    "# Learning on training set\n",
    "d = 3\n",
    "Xd = discretise(X, d)\n",
    "models = []\n",
    "for cl in range(len(np.unique(Y))): \n",
    "    models.append(learnMarkovModel(Xd[itrain[cl]], d))\n",
    "\n",
    "# Calcul de la classe la plus probable pour le train et le test :\n",
    "proba_train = np.array([[probaSequence(Xd[i], models[cl][0], models[cl][1]) for i in ia]\n",
    "                for cl in range(len(np.unique(Y)))])\n",
    "proba_test = np.array([[probaSequence(Xd[i], models[cl][0], models[cl][1]) for i in it]\n",
    "                for cl in range(len(np.unique(Y)))])\n",
    "pred_train = proba_train.argmax(0)\n",
    "pred_test = proba_test.argmax(0)\n",
    "\n",
    "# Calcul d'un pourcentage de bonne classification :\n",
    "print(\"train : \", np.where(pred_train != Ynum[ia], 0.,1.).mean())\n",
    "print(\"test : \", np.where(pred_test != Ynum[it], 0.,1.).mean())"
   ]
  },
  {
   "cell_type": "markdown",
   "metadata": {},
   "source": [
    "**d=20**"
   ]
  },
  {
   "cell_type": "code",
   "execution_count": 19,
   "metadata": {},
   "outputs": [
    {
     "name": "stderr",
     "output_type": "stream",
     "text": [
      "/tmp/ipykernel_2018/2959815715.py:2: RuntimeWarning: divide by zero encountered in log\n",
      "  somme = np.log(Pi[s[0]])\n",
      "/tmp/ipykernel_2018/2959815715.py:4: RuntimeWarning: divide by zero encountered in log\n",
      "  somme += np.log(A[s[i-1], s[i]])\n"
     ]
    },
    {
     "name": "stdout",
     "output_type": "stream",
     "text": [
      "train :  0.9326923076923077\n",
      "test :  0.18333333333333332\n"
     ]
    }
   ],
   "source": [
    "# Learning on training set\n",
    "d = 20\n",
    "Xd = discretise(X, d)\n",
    "models = []\n",
    "for cl in range(len(np.unique(Y))): \n",
    "    models.append(learnMarkovModel(Xd[itrain[cl]], d))\n",
    "\n",
    "# Calcul de la classe la plus probable pour le train et le test :\n",
    "proba_train = np.array([[probaSequence(Xd[i], models[cl][0], models[cl][1]) for i in ia]\n",
    "                for cl in range(len(np.unique(Y)))])\n",
    "proba_test = np.array([[probaSequence(Xd[i], models[cl][0], models[cl][1]) for i in it]\n",
    "                for cl in range(len(np.unique(Y)))])\n",
    "pred_train = proba_train.argmax(0)\n",
    "pred_test = proba_test.argmax(0)\n",
    "\n",
    "# Calcul d'un pourcentage de bonne classification :\n",
    "print(\"train : \", np.where(pred_train != Ynum[ia], 0.,1.).mean())\n",
    "print(\"test : \", np.where(pred_test != Ynum[it], 0.,1.).mean())"
   ]
  },
  {
   "cell_type": "markdown",
   "metadata": {},
   "source": [
    "**Plot de l'évolution des performances en fonction de $d$**"
   ]
  },
  {
   "cell_type": "code",
   "execution_count": 21,
   "metadata": {},
   "outputs": [
    {
     "name": "stderr",
     "output_type": "stream",
     "text": [
      "/tmp/ipykernel_2018/2959815715.py:2: RuntimeWarning: divide by zero encountered in log\n",
      "  somme = np.log(Pi[s[0]])\n",
      "/tmp/ipykernel_2018/2959815715.py:4: RuntimeWarning: divide by zero encountered in log\n",
      "  somme += np.log(A[s[i-1], s[i]])\n"
     ]
    },
    {
     "data": {
      "text/plain": [
       "[<matplotlib.lines.Line2D at 0x7f26546aaa60>]"
      ]
     },
     "execution_count": 21,
     "metadata": {},
     "output_type": "execute_result"
    },
    {
     "data": {
      "image/png": "[encoded data removed]",
      "text/plain": [
       "<Figure size 432x288 with 1 Axes>"
      ]
     },
     "metadata": {
      "needs_background": "light"
     },
     "output_type": "display_data"
    }
   ],
   "source": [
    "import matplotlib.pyplot as plt\n",
    "acc_train = []\n",
    "acc_test = []\n",
    "for d in range(3,40):\n",
    "    # Learning on training set\n",
    "    Xd = discretise(X, d) \n",
    "    models = []\n",
    "    for cl in range(len(np.unique(Y))): \n",
    "        models.append(learnMarkovModel(Xd[itrain[cl]], d))\n",
    "\n",
    "    # Calcul de la classe la plus probable pour le train et le test :\n",
    "    proba_train = np.array([[probaSequence(Xd[i], models[cl][0], models[cl][1]) for i in ia]\n",
    "                    for cl in range(len(np.unique(Y)))])\n",
    "    proba_test = np.array([[probaSequence(Xd[i], models[cl][0], models[cl][1]) for i in it]\n",
    "                    for cl in range(len(np.unique(Y)))])\n",
    "    pred_train = proba_train.argmax(0)\n",
    "    pred_test = proba_test.argmax(0)\n",
    "\n",
    "    # Calcul d'un pourcentage de bonne classification :\n",
    "    acc_train.append(np.where(pred_train != Ynum[ia], 0.,1.).mean())\n",
    "    acc_test.append(np.where(pred_test != Ynum[it], 0.,1.).mean())\n",
    "plt.plot(acc_train)\n",
    "plt.plot(acc_test)"
   ]
  },
  {
   "cell_type": "markdown",
   "metadata": {},
   "source": [
    "**plot en variant le train**"
   ]
  },
  {
   "cell_type": "code",
   "execution_count": null,
   "metadata": {},
   "outputs": [],
   "source": [
    "np.Array()"
   ]
  },
  {
   "cell_type": "code",
   "execution_count": 68,
   "metadata": {},
   "outputs": [
    {
     "name": "stderr",
     "output_type": "stream",
     "text": [
      "/tmp/ipykernel_937/2959815715.py:2: RuntimeWarning: divide by zero encountered in log\n",
      "  somme = np.log(Pi[s[0]])\n",
      "/tmp/ipykernel_937/2959815715.py:4: RuntimeWarning: divide by zero encountered in log\n",
      "  somme += np.log(A[s[i-1], s[i]])\n"
     ]
    }
   ],
   "source": [
    "import seaborn as sns\n",
    "import pandas as pd\n",
    "import matplotlib.pyplot as plt\n",
    "acc = []\n",
    "train_test = []\n",
    "train_test_div = []\n",
    "d_list = []\n",
    "for div in [0.5, 0.6, 0.7, 0.8, 0.9]:\n",
    "    itrain, itest = separeTrainTest(Y, div)\n",
    "    ia = []\n",
    "    for i in itrain:\n",
    "        ia += i.tolist()    \n",
    "    it = []\n",
    "    for i in itest:\n",
    "        it += i.tolist()\n",
    "\n",
    "    for d in range(3,40):\n",
    "        # Learning on training set\n",
    "        Xd = discretise(X, d) \n",
    "        models = []\n",
    "        for cl in range(len(np.unique(Y))): \n",
    "            models.append(learnMarkovModel(Xd[itrain[cl]], d))\n",
    "\n",
    "        # Calcul de la classe la plus probable pour le train et le test :\n",
    "        proba_train = np.array([[probaSequence(Xd[i], models[cl][0], models[cl][1]) for i in ia]\n",
    "                        for cl in range(len(np.unique(Y)))])\n",
    "        proba_test = np.array([[probaSequence(Xd[i], models[cl][0], models[cl][1]) for i in it]\n",
    "                        for cl in range(len(np.unique(Y)))])\n",
    "        pred_train = proba_train.argmax(0)\n",
    "        pred_test = proba_test.argmax(0)\n",
    "\n",
    "        # Calcul d'un pourcentage de bonne classification :\n",
    "        acc.append(np.where(pred_train != Ynum[ia], 0.,1.).mean())\n",
    "        train_test.append('Train')\n",
    "        acc.append(np.where(pred_test != Ynum[it], 0.,1.).mean())\n",
    "        train_test.append('Test')\n",
    "        train_test_div.append(div)\n",
    "        train_test_div.append(div)\n",
    "        d_list.append(d)\n",
    "        d_list.append(d)"
   ]
  },
  {
   "cell_type": "code",
   "execution_count": 84,
   "metadata": {},
   "outputs": [
    {
     "data": {
      "text/plain": [
       "<AxesSubplot: title={'center': 'Le plot ultime : Accuracy sur le test'}, xlabel='Nombre de classe', ylabel='Accuracy'>"
      ]
     },
     "execution_count": 84,
     "metadata": {},
     "output_type": "execute_result"
    },
    {
     "data": {
      "image/png": "[encoded data removed]",
      "text/plain": [
       "<Figure size 432x288 with 1 Axes>"
      ]
     },
     "metadata": {
      "needs_background": "light"
     },
     "output_type": "display_data"
    }
   ],
   "source": [
    "d = {\n",
    "    'Accuracy' : acc, \n",
    "    'Set_type': train_test,\n",
    "    \"Ratio test/train\": train_test_div,\n",
    "    \"Nombre de classe\" : d_list\n",
    "}\n",
    "df = pd.DataFrame(d)\n",
    "plt.gca().set_title(\"Le plot ultime : Accuracy sur le train\")\n",
    "sns.lineplot(x='Nombre de classe', y='Accuracy', hue='Ratio test/train', data=df[df[\"Set_type\"] == 'Test'] )"
   ]
  },
  {
   "cell_type": "code",
   "execution_count": null,
   "metadata": {},
   "outputs": [],
   "source": [
    "plt.gca().set_title(\"Le plot ultime : Accuracy sur le test\")\n",
    "sns.lineplot(x='Nombre de classe', y='Accuracy', hue='Ratio test/train', data=df[df[\"Set_type\"] == 'Train'] )"
   ]
  },
  {
   "cell_type": "markdown",
   "metadata": {},
   "source": [
    "### C2. Lutter contre le sur-apprentissage\n",
    "Cette base de données met en lumière le phénomène de sur-apprentissage : il y a peu de données et dès que le nombre d'états augmente, il y a trop peu d'exemple pour estimer correctement les matrices {$A, \\pi$}. De nombreuses cases sont donc à 0, voire des lignes entières (d'où la sécurisation du code pour la normalisation des matrices stochastiques).\n",
    "\n",
    "Ces 0 sont particulièrement discriminants: considérant la classe {$c$}, ils permettent d'éliminer de cette classe tout signal présentant cette caractéristique. Cette règle est trop forte compte tenu de la taille de la base d'apprentissage. Nous proposons une astuce pour palier cette faiblesse : lors du comptage, initialiser les matrices {$A, \\pi$} avec ones au lieu de zeros . On fait semblant d'avoir observer une transition de chaque type avant même le début du comptage.\n",
    "\n",
    "Comparer les performances en test."
   ]
  },
  {
   "cell_type": "code",
   "execution_count": 76,
   "metadata": {},
   "outputs": [
    {
     "name": "stderr",
     "output_type": "stream",
     "text": [
      "/tmp/ipykernel_937/2959815715.py:2: RuntimeWarning: divide by zero encountered in log\n",
      "  somme = np.log(Pi[s[0]])\n",
      "/tmp/ipykernel_937/2959815715.py:4: RuntimeWarning: divide by zero encountered in log\n",
      "  somme += np.log(A[s[i-1], s[i]])\n"
     ]
    }
   ],
   "source": [
    "def learnMarkovModelOne(Xc, d):\n",
    "    A = np.zeros((d, d))\n",
    "    Pi = np.zeros(d)\n",
    "    for Xc_i in Xc:\n",
    "        Pi[Xc_i[0]] += 1\n",
    "        for i in range(1, len(Xc_i)):\n",
    "            prev_state = Xc_i[i-1]\n",
    "            current_state = Xc_i[i]\n",
    "            A[prev_state, current_state] += 1\n",
    "    A = A / np.maximum(A.sum(1).reshape(d, 1), 1) # normalisation\n",
    "    Pi = Pi / Pi.sum()\n",
    "    return Pi, A\n",
    "\n",
    "acc = []\n",
    "train_test = []\n",
    "train_test_div = []\n",
    "d_list = []\n",
    "for div in [0.5, 0.6, 0.7, 0.8, 0.9]:\n",
    "    itrain, itest = separeTrainTest(Y, div)\n",
    "    ia = []\n",
    "    for i in itrain:\n",
    "        ia += i.tolist()    \n",
    "    it = []\n",
    "    for i in itest:\n",
    "        it += i.tolist()\n",
    "\n",
    "    for d in range(3,40):\n",
    "        # Learning on training set\n",
    "        Xd = discretise(X, d) \n",
    "        models = []\n",
    "        for cl in range(len(np.unique(Y))): \n",
    "            models.append(learnMarkovModelOne(Xd[itrain[cl]], d))\n",
    "\n",
    "        # Calcul de la classe la plus probable pour le train et le test :\n",
    "        proba_train = np.array([[probaSequence(Xd[i], models[cl][0], models[cl][1]) for i in ia]\n",
    "                        for cl in range(len(np.unique(Y)))])\n",
    "        proba_test = np.array([[probaSequence(Xd[i], models[cl][0], models[cl][1]) for i in it]\n",
    "                        for cl in range(len(np.unique(Y)))])\n",
    "        pred_train = proba_train.argmax(0)\n",
    "        pred_test = proba_test.argmax(0)\n",
    "\n",
    "        # Calcul d'un pourcentage de bonne classification :\n",
    "        acc.append(np.where(pred_train != Ynum[ia], 0.,1.).mean())\n",
    "        train_test.append('Train')\n",
    "        acc.append(np.where(pred_test != Ynum[it], 0.,1.).mean())\n",
    "        train_test.append('Test')\n",
    "        train_test_div.append(div)\n",
    "        train_test_div.append(div)\n",
    "        d_list.append(d)\n",
    "        d_list.append(d)"
   ]
  },
  {
   "cell_type": "code",
   "execution_count": 83,
   "metadata": {},
   "outputs": [
    {
     "data": {
      "text/plain": [
       "<AxesSubplot: title={'center': 'Le plot ultime : Accuracy sur le train'}, xlabel='Nombre de classe', ylabel='Accuracy'>"
      ]
     },
     "execution_count": 83,
     "metadata": {},
     "output_type": "execute_result"
    },
    {
     "data": {
      "image/png": "[encoded data removed]",
      "text/plain": [
       "<Figure size 432x288 with 1 Axes>"
      ]
     },
     "metadata": {
      "needs_background": "light"
     },
     "output_type": "display_data"
    }
   ],
   "source": [
    "d = {\n",
    "    'Accuracy' : acc, \n",
    "    'Set_type': train_test,\n",
    "    \"Ratio test/train\": train_test_div,\n",
    "    \"Nombre de classe\" : d_list\n",
    "}\n",
    "df = pd.DataFrame(d)\n",
    "plt.gca().set_title(\"Le plot ultime : Accuracy sur le train avec anti \")\n",
    "sns.lineplot(x='Nombre de classe', y='Accuracy', hue='Ratio test/train', data=df[df[\"Set_type\"] == 'Test'] )"
   ]
  },
  {
   "cell_type": "code",
   "execution_count": 1,
   "metadata": {},
   "outputs": [
    {
     "ename": "NameError",
     "evalue": "name 'plt' is not defined",
     "output_type": "error",
     "traceback": [
      "\u001b[0;31m---------------------------------------------------------------------------\u001b[0m",
      "\u001b[0;31mNameError\u001b[0m                                 Traceback (most recent call last)",
      "\u001b[1;32m/home/charles/M1-S1-DAC/MAPSI/TME/tme6/tme6.ipynb Cell 54\u001b[0m in \u001b[0;36m<cell line: 1>\u001b[0;34m()\u001b[0m\n\u001b[0;32m----> <a href='vscode-notebook-cell://wsl%2Bubuntu/home/charles/M1-S1-DAC/MAPSI/TME/tme6/tme6.ipynb#Y104sdnNjb2RlLXJlbW90ZQ%3D%3D?line=0'>1</a>\u001b[0m plt\u001b[39m.\u001b[39mgca()\u001b[39m.\u001b[39mset_title(\u001b[39m\"\u001b[39m\u001b[39mLe plot ultime : Accuracy sur le test\u001b[39m\u001b[39m\"\u001b[39m)\n\u001b[1;32m      <a href='vscode-notebook-cell://wsl%2Bubuntu/home/charles/M1-S1-DAC/MAPSI/TME/tme6/tme6.ipynb#Y104sdnNjb2RlLXJlbW90ZQ%3D%3D?line=1'>2</a>\u001b[0m sns\u001b[39m.\u001b[39mlineplot(x\u001b[39m=\u001b[39m\u001b[39m'\u001b[39m\u001b[39mNombre de classe\u001b[39m\u001b[39m'\u001b[39m, y\u001b[39m=\u001b[39m\u001b[39m'\u001b[39m\u001b[39mAccuracy\u001b[39m\u001b[39m'\u001b[39m, hue\u001b[39m=\u001b[39m\u001b[39m'\u001b[39m\u001b[39mRatio test/train\u001b[39m\u001b[39m'\u001b[39m, data\u001b[39m=\u001b[39mdf[df[\u001b[39m\"\u001b[39m\u001b[39mSet_type\u001b[39m\u001b[39m\"\u001b[39m] \u001b[39m==\u001b[39m \u001b[39m'\u001b[39m\u001b[39mTrain\u001b[39m\u001b[39m'\u001b[39m] )\n",
      "\u001b[0;31mNameError\u001b[0m: name 'plt' is not defined"
     ]
    }
   ],
   "source": [
    "plt.gca().set_title(\"Le plot ultime : Accuracy sur le test\")\n",
    "sns.lineplot(x='Nombre de classe', y='Accuracy', hue='Ratio test/train', data=df[df[\"Set_type\"] == 'Train'] )"
   ]
  },
  {
   "cell_type": "markdown",
   "metadata": {},
   "source": [
    "## D. Evaluation qualitative\n",
    "\n",
    "Nous nous demandons maintenant où se trouvent les erreurs que nous avons commises...\n",
    "\n",
    "Calcul de la matrice de confusion: pour chaque échantillon de test, nous avons une prédiction (issue du modèle) et une vérité terrain (la vraie étiquette). En posant Nc le nombre de classes, la matrice de confusion est une matrice (Nc x Nc) où nous comptons le nombre d'échantillon de test dans chaque catégorie :\n",
    "\n",
    "- Initialisation à 0 : "
   ]
  },
  {
   "cell_type": "code",
   "execution_count": 81,
   "metadata": {},
   "outputs": [],
   "source": [
    "conf = np.zeros((26,26))"
   ]
  },
  {
   "cell_type": "markdown",
   "metadata": {},
   "source": [
    "- Pour chaque échantillon, incrément de la case (prediction, vérité)"
   ]
  },
  {
   "cell_type": "code",
   "execution_count": 33,
   "metadata": {},
   "outputs": [
    {
     "name": "stderr",
     "output_type": "stream",
     "text": [
      "/tmp/ipykernel_2808/2959815715.py:2: RuntimeWarning: divide by zero encountered in log\n",
      "  somme = np.log(Pi[s[0]])\n",
      "/tmp/ipykernel_2808/2959815715.py:4: RuntimeWarning: divide by zero encountered in log\n",
      "  somme += np.log(A[s[i-1], s[i]])\n"
     ]
    },
    {
     "name": "stdout",
     "output_type": "stream",
     "text": [
      "test :  0.6666666666666666\n"
     ]
    }
   ],
   "source": [
    "# Learning on training set\n",
    "d = 3\n",
    "itrain, itest = separeTrainTest(Y, 0.8)\n",
    "ia = []\n",
    "for i in itrain:\n",
    "    ia += i.tolist()    \n",
    "it = []\n",
    "for i in itest:\n",
    "    it += i.tolist()\n",
    "Xd = discretise(X, d)\n",
    "models = []\n",
    "for cl in range(len(np.unique(Y))): \n",
    "    models.append(learnMarkovModel(Xd[itrain[cl]], d))\n",
    "proba = np.array([[probaSequence(Xd[i], models[cl][0], models[cl][1]) for i in range(len(Y))]\n",
    "                for cl in range(len(np.unique(Y)))])\n",
    "pred = proba.argmax(0)\n",
    "print(\"test : \", np.where(pred[it] != Ynum[it], 0.,1.).mean())\n",
    "\n",
    "\n",
    "conf = np.zeros((26,26))\n",
    "for i in it:\n",
    "    y = int(Ynum[i])\n",
    "    y_hat = pred[i]\n",
    "    conf[y_hat,y] += 1"
   ]
  },
  {
   "cell_type": "markdown",
   "metadata": {},
   "source": [
    "- Tracé de la matrice : "
   ]
  },
  {
   "cell_type": "code",
   "execution_count": 34,
   "metadata": {},
   "outputs": [
    {
     "data": {
      "text/plain": [
       "Text(0, 0.5, 'Prédiction')"
      ]
     },
     "execution_count": 34,
     "metadata": {},
     "output_type": "execute_result"
    },
    {
     "data": {
      "image/png": "[encoded data removed]",
      "text/plain": [
       "<Figure size 1080x720 with 2 Axes>"
      ]
     },
     "metadata": {
      "needs_background": "light"
     },
     "output_type": "display_data"
    }
   ],
   "source": [
    "plt.figure(figsize=(15,10))\n",
    "plt.imshow(conf, interpolation = 'nearest')\n",
    "plt.colorbar()\n",
    "plt.xticks(np.arange(26), np.unique(Y))\n",
    "plt.yticks(np.arange(26), np.unique(Y))\n",
    "plt.xlabel(u'Vérité terrain')\n",
    "plt.ylabel(u'Prédiction')\n",
    "#plt.savefig(\"mat_conf_lettres.png\")"
   ]
  },
  {
   "cell_type": "markdown",
   "metadata": {},
   "source": [
    "## E. Modèle génératif\n",
    "\n",
    "Utiliser les modèles appris pour générer de nouvelles lettres manuscrites.\n",
    "\n",
    "### E1. Tirage selon une loi de probabilité discrète\n",
    "\n",
    "- faire la somme cumulée de la loi {$sc$}\n",
    "- tirer un nombre aléatoire {$t$} entre 0 et 1\n",
    "- trouver la première valeur de {$sc$} qui est supérieure à {$t$}\n",
    "- retourner cet état \n",
    "\n",
    "**Note :** comme vu en cours, tout repose sur la somme cumulée (notée ici `sc$`, calculable en appelant `np.cumsum`. Sur un exemple: la loi `V = [0.2, 0.4, 0.3, 0.1]` a pour somme cumulée `V.cumsum() == [0.2,  0.6,  0.9,  1.0]`\n",
    "\n",
    "### E2. Génération d'une séquence de longueur N\n",
    "\n",
    "- tirer un état {$s_0$} selon Pi\n",
    "- tant que la longueur n'est pas atteinte :\n",
    "  - tirer un état {$s_{t+1}$} selon {$A[s_{t}]$} "
   ]
  },
  {
   "cell_type": "code",
   "execution_count": 40,
   "metadata": {},
   "outputs": [
    {
     "data": {
      "text/plain": [
       "(array([0.5, 0. , 0.5]),\n",
       " array([[0.8       , 0.08571429, 0.11428571],\n",
       "        [0.        , 0.83673469, 0.16326531],\n",
       "        [0.12359551, 0.05617978, 0.82022472]]))"
      ]
     },
     "execution_count": 40,
     "metadata": {},
     "output_type": "execute_result"
    }
   ],
   "source": [
    "models[0]"
   ]
  },
  {
   "cell_type": "code",
   "execution_count": 177,
   "metadata": {},
   "outputs": [
    {
     "name": "stdout",
     "output_type": "stream",
     "text": [
      "2\n"
     ]
    },
    {
     "data": {
      "text/plain": [
       "[2, 2, 2, 2, 2, 2, 2, 2, 2, 2, 2, 2, 2, 2, 2, 2, 2, 2, 2, 2, 2]"
      ]
     },
     "execution_count": 177,
     "metadata": {},
     "output_type": "execute_result"
    }
   ],
   "source": [
    "def generate(pi, A, l):\n",
    "    pi_cumsum = pi.cumsum()\n",
    "    A = models[0][1]\n",
    "    t = np.random.random()\n",
    "    s_i = np.argwhere(pi_cumsum > t)[0][0]\n",
    "    chain = [s_i]\n",
    "    print(s_i)\n",
    "    for i in range(l):\n",
    "        pi_cumsum = A[s_i, :]\n",
    "        s_i = np.argwhere(pi_cumsum > t)[0][0]\n",
    "        chain.append(s_i)\n",
    "    return chain\n",
    "generate(models[0][0], models[0][1], 20)"
   ]
  },
  {
   "cell_type": "markdown",
   "metadata": {},
   "source": [
    "### E3. Affichage du résultat"
   ]
  },
  {
   "cell_type": "code",
   "execution_count": 171,
   "metadata": {},
   "outputs": [
    {
     "name": "stdout",
     "output_type": "stream",
     "text": [
      "2\n"
     ]
    },
    {
     "data": {
      "image/png": "[encoded data removed]",
      "text/plain": [
       "<Figure size 432x288 with 1 Axes>"
      ]
     },
     "metadata": {
      "needs_background": "light"
     },
     "output_type": "display_data"
    }
   ],
   "source": [
    "newa = generate(models[0][0], models[0][1], 20)       # generation d'une séquence d'états\n",
    "intervalle = 360. / d                                 # pour passer des états => valeur d'angles\n",
    "newa_continu = np.array([i * intervalle for i in newa]) # conv int => double\n",
    "tracerLettre(newa_continu)"
   ]
  },
  {
   "cell_type": "markdown",
   "metadata": {},
   "source": [
    "**Ne marche pas dommage**"
   ]
  }
 ],
 "metadata": {
  "kernelspec": {
   "display_name": "Python 3.8.10 64-bit",
   "language": "python",
   "name": "python3"
  },
  "language_info": {
   "codemirror_mode": {
    "name": "ipython",
    "version": 3
   },
   "file_extension": ".py",
   "mimetype": "text/x-python",
   "name": "python",
   "nbconvert_exporter": "python",
   "pygments_lexer": "ipython3",
   "version": "3.8.10"
  },
  "vscode": {
   "interpreter": {
    "hash": "31f2aee4e71d21fbe5cf8b01ff0e069b9275f58929596ceb00d14d90e3e16cd6"
   }
  }
 },
 "nbformat": 4,
 "nbformat_minor": 4
}
