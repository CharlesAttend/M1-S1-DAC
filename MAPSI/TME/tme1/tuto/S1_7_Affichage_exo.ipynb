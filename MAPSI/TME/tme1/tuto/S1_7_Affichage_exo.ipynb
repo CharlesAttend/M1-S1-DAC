{
 "metadata": {
  "language_info": {
   "codemirror_mode": {
    "name": "ipython",
    "version": 3
   },
   "file_extension": ".py",
   "mimetype": "text/x-python",
   "name": "python",
   "nbconvert_exporter": "python",
   "pygments_lexer": "ipython3",
   "version": "3.7.4"
  },
  "orig_nbformat": 2,
  "kernelspec": {
   "name": "python3",
   "display_name": "Python 3.7.4 64-bit ('base': conda)"
  },
  "interpreter": {
   "hash": "1d70b9e9a0a597785ebfe48bd302798f68e60adbd95160a68e6a198428d6c5db"
  }
 },
 "nbformat": 4,
 "nbformat_minor": 2,
 "cells": [
  {
   "cell_type": "markdown",
   "source": [
    "# Exercice d'application\n",
    "\n",
    "## Affichage sur des données INSEE sur le salaire en fonction du diplôme et du sexe\n",
    "\n",
    "Données brutes disponibles : http://www.insee.fr/\n",
    "Données mises en forme: http://mapsi.lip6.fr/uploads/Main/salaire2010INSEE.csv\n",
    "\n",
    "**Correspondances des lignes:**\n",
    " - Aucun ou Certificat d’études primaires\n",
    " - Brevet des collèges\n",
    " - CAP ou BEP\n",
    " - Baccalauréat\n",
    " - IUT, BTS, diplôme de 1er cycle universitaire (DEUG, L1, L2) ou diplôme équivalent\n",
    " - Diplôme supérieur à Baccalauréat +2\n",
    " - Diplôme de 2ème ou 3ème cycle universitaire\n",
    " - Diplôme d'une grande école (ingénieur, commerce)\n",
    " \n",
    "**Correspondances des colonnes:**\n",
    " - Moyenne des heures travaillées\n",
    " - Salaire horaire\n",
    "Les 2 colonnes sont répétées 3 fois: Ensemble de la population / Femmes / Homme\n",
    "\n",
    "Code de chargement des données:\n",
    "```python\n",
    "import numpy as np\n",
    "data = np.loadtxt(\"data/dataSalaire.csv\", delimiter=';')\n",
    "```\n",
    "\n",
    "### Questions\n",
    "\n",
    "A l'aide de la méthode scatter, tracer les salaires moyens en fonction des diplômes pour:\n",
    " - L'ensemble de la population (en vert)\n",
    " - Les femmes (en rose -n'ayons pas peur des clichés-)\n",
    " - Les hommes (en bleu)\n",
    " \n",
    "Ajouter des titres sur les axes (xlabel, ylabel)\n",
    "Modifier l'axe des x pour afficher le diplôme avec le vecteur de textes suivant:\n",
    "```python\n",
    "diplomes = [\"Aucun\", \"BEPC\", \"CAP/BEP\", \"Bac\", \"IUT, BTS, DEUG\", \">Bac+2\", \"Master/Phd\", \"Ecole Ing/com\"]\n",
    "```\n"
   ],
   "metadata": {}
  },
  {
   "cell_type": "code",
   "execution_count": 1,
   "source": [
    "import numpy as np\n",
    "\n",
    "# après avoir télécharger le fichier et l'avoir déplacé dans le répertoire data\n",
    "data = np.loadtxt(\"data/dataSalaire.csv\", delimiter=';')\n",
    "\n",
    "# premier affichage\n",
    "print(data)\n",
    "\n",
    "# second affichage... => A FAIRE !"
   ],
   "outputs": [
    {
     "output_type": "stream",
     "name": "stdout",
     "text": [
      "[[1473.     16.33 1423.     15.06 1505.     17.09]\n",
      " [1490.     18.01 1444.     16.68 1533.     19.19]\n",
      " [1509.     17.41 1456.     16.36 1545.     18.08]\n",
      " [1531.     20.21 1468.     18.43 1585.     21.64]\n",
      " [1539.     23.04 1462.     21.35 1631.     24.85]\n",
      " [1635.     33.71 1536.     28.36 1715.     37.6 ]\n",
      " [1594.     31.07 1516.     27.32 1677.     34.72]\n",
      " [1755.     40.74 1664.     34.35 1784.     42.64]]\n"
     ]
    }
   ],
   "metadata": {}
  },
  {
   "cell_type": "markdown",
   "source": [
    "## Histogramme amélioré\n",
    "\n",
    "L'objectif de cet exercice est de construire un histogramme très spécifique sur les données suivantes:\n",
    "- regrouper toutes les notes $<5$\n",
    "- regrouper les notes entre 5 et 8 inclus\n",
    "- regrouper les notes suivantes 2 par 2 entre 8 et 16\n",
    "- puis 1 par 1 au dessus.\n",
    "Faire l'affichage avec la commmande ```bar``` de matplotlib"
   ],
   "metadata": {}
  },
  {
   "cell_type": "code",
   "execution_count": 3,
   "source": [
    "# génération de notes => Arbitraire, pas besoin de comprendre le processus de génération\n",
    "N= 100\n",
    "notes = np.maximum(np.minimum(np.round(np.random.randn(N)*4+9,1),20),0)\n",
    "\n",
    "print(notes)\n",
    "\n",
    "# faire les affichages demandés"
   ],
   "outputs": [
    {
     "output_type": "stream",
     "name": "stdout",
     "text": [
      "[ 2.4  1.4 11.4  7.8  9.9  7.7  5.2 10.1  5.3  9.  10.4 10.6  7.9  8.3\n",
      "  8.2  0.  14.7 13.5  3.9 14.   9.6  8.2 10.4 13.9  4.5  4.5 11.5  9.2\n",
      "  8.7  4.   7.5 13.6  7.7  8.4 12.   4.9 14.7 12.7  8.1  8.6  5.   0.\n",
      "  2.6 10.7  8.6 12.6 11.  11.8 12.9 12.8  6.8 11.4  5.3 16.   7.4  9.\n",
      "  0.   4.2  9.1 12.   9.8  9.8  7.4 11.4 16.1 15.7 11.2  9.2  9.8 12.2\n",
      "  8.8  5.2  9.3  8.2  7.1  9.7  7.   2.7 14.1 14.8  7.2  8.5  7.3  5.5\n",
      "  8.9 10.2 11.6 12.6  7.  11.3  5.6 10.8 16.1 10.5  2.2  4.4 11.8  7.7\n",
      "  8.5  7.6]\n"
     ]
    }
   ],
   "metadata": {}
  },
  {
   "cell_type": "markdown",
   "source": [
    "## Scatter plot et code couleur\n",
    "\n",
    "Soit des données 2D (aléatoires)... Nous allons essayer de les colorer pour leur donner du sens\n",
    "\n",
    "1. Afficher un scatter plot où tous les points sont bleus\n",
    "1. Afficher un scatter plot où tous les points sont bleus \n",
    "    1. sauf ceux dont l'absisse est supérieure à 0.75 (à afficher en rouge)\n",
    "1. Afficher un scatter plot dont la couleur est *proportionnelle* à l'axe des ordonnées\n",
    "1. Afficher un scatter plot dont la couleur est *proportionnelle* à l'axe des ordonnées ET dont le rayon est proportionnel à l'axe des absisses\n",
    "\n",
    "** Documentation: ** https://matplotlib.org/stable/api/_as_gen/matplotlib.pyplot.scatter.html"
   ],
   "metadata": {}
  },
  {
   "cell_type": "code",
   "execution_count": 2,
   "source": [
    "X = np.random.rand(100,2)\n",
    "\n",
    "print(X)\n",
    "\n",
    "# faire les affichages\n"
   ],
   "outputs": [
    {
     "output_type": "stream",
     "name": "stdout",
     "text": [
      "[[0.34380919 0.09940023]\n",
      " [0.63667574 0.14886719]\n",
      " [0.17131159 0.10319421]\n",
      " [0.97768626 0.25931485]\n",
      " [0.82888366 0.35687838]\n",
      " [0.99408125 0.93610417]\n",
      " [0.90198952 0.07324714]\n",
      " [0.22976824 0.48417053]\n",
      " [0.93884791 0.43070095]\n",
      " [0.5032714  0.72239184]\n",
      " [0.99101539 0.48699754]\n",
      " [0.22408393 0.27345649]\n",
      " [0.70144444 0.74314382]\n",
      " [0.48327829 0.45030633]\n",
      " [0.98648722 0.6609687 ]\n",
      " [0.66327343 0.5994233 ]\n",
      " [0.38526345 0.27601899]\n",
      " [0.97775783 0.43326197]\n",
      " [0.65082205 0.64632128]\n",
      " [0.1390228  0.42540817]\n",
      " [0.70417589 0.27285549]\n",
      " [0.42109474 0.74693349]\n",
      " [0.19071999 0.52271145]\n",
      " [0.92948264 0.69137119]\n",
      " [0.81784705 0.2394114 ]\n",
      " [0.15701649 0.54642556]\n",
      " [0.53852581 0.78146541]\n",
      " [0.46735545 0.9632562 ]\n",
      " [0.77362557 0.47074144]\n",
      " [0.98673833 0.57376108]\n",
      " [0.26670571 0.36399008]\n",
      " [0.29112195 0.15172611]\n",
      " [0.38002    0.76953292]\n",
      " [0.7418801  0.73882115]\n",
      " [0.97526046 0.92355493]\n",
      " [0.03542787 0.7744015 ]\n",
      " [0.82178631 0.70583787]\n",
      " [0.99636118 0.14964511]\n",
      " [0.85878327 0.03192089]\n",
      " [0.22630185 0.0158044 ]\n",
      " [0.89691117 0.9523707 ]\n",
      " [0.01715142 0.4622275 ]\n",
      " [0.60417784 0.91081799]\n",
      " [0.3872736  0.71647975]\n",
      " [0.12933778 0.93012224]\n",
      " [0.94609261 0.05731732]\n",
      " [0.34015421 0.55714401]\n",
      " [0.46206806 0.76122955]\n",
      " [0.20172421 0.81058967]\n",
      " [0.75152183 0.60062138]\n",
      " [0.82401806 0.47838579]\n",
      " [0.04436957 0.77995258]\n",
      " [0.45137744 0.1897247 ]\n",
      " [0.08126726 0.98428284]\n",
      " [0.04218629 0.47653979]\n",
      " [0.2762149  0.88022527]\n",
      " [0.14717165 0.59691562]\n",
      " [0.21213537 0.86970906]\n",
      " [0.69216718 0.601874  ]\n",
      " [0.85601429 0.52248914]\n",
      " [0.59187072 0.61752453]\n",
      " [0.58268262 0.18648698]\n",
      " [0.89101777 0.89880758]\n",
      " [0.07443552 0.87790328]\n",
      " [0.32816402 0.75532227]\n",
      " [0.66737545 0.73537606]\n",
      " [0.76033785 0.56815033]\n",
      " [0.02391591 0.14325467]\n",
      " [0.62208742 0.66963927]\n",
      " [0.37819763 0.43910604]\n",
      " [0.3215363  0.14990282]\n",
      " [0.7289389  0.90489174]\n",
      " [0.09031747 0.75249768]\n",
      " [0.19425776 0.02569027]\n",
      " [0.29710514 0.9308374 ]\n",
      " [0.79941586 0.43060737]\n",
      " [0.30141147 0.79244177]\n",
      " [0.25242128 0.07581645]\n",
      " [0.17342156 0.2179385 ]\n",
      " [0.39118557 0.2401318 ]\n",
      " [0.88014398 0.13964997]\n",
      " [0.2610367  0.49319573]\n",
      " [0.3152774  0.92704377]\n",
      " [0.33513709 0.77865396]\n",
      " [0.04759595 0.35654096]\n",
      " [0.35671509 0.97842526]\n",
      " [0.91821116 0.91241848]\n",
      " [0.73040144 0.3473383 ]\n",
      " [0.59524847 0.02334738]\n",
      " [0.36157849 0.31263192]\n",
      " [0.83826842 0.93518038]\n",
      " [0.55834973 0.60357298]\n",
      " [0.62031397 0.0861705 ]\n",
      " [0.72195912 0.2511999 ]\n",
      " [0.45146447 0.99164577]\n",
      " [0.81358838 0.64635161]\n",
      " [0.32524401 0.02714367]\n",
      " [0.59468338 0.53681287]\n",
      " [0.41814649 0.05104456]\n",
      " [0.78798456 0.17470446]]\n"
     ]
    }
   ],
   "metadata": {}
  },
  {
   "cell_type": "markdown",
   "source": [
    "## Premier contact avec les données USPS\n",
    "\n",
    "Les données USPS sont très classiques en machine learning, il s'agit de chiffres de code postaux dont on souhaite automatiser la reconnaissance (pour du tri de lettres).\n",
    "\n",
    "Voici quelques exemples d'images de cette base : \n",
    "\n",
    "<img src=\"./data/usps.png\" title=\"Quelques exemples\">\n",
    "\n",
    "Y. LeCun, O. Matan, B. Boser, J. S. Denker, et al. (1990) *Handwritten zip code recognition with multilayer networks*. In ICPR, volume II, pages 35–40.\n",
    "\n",
    "Le code suivant permet de charger les données... Chaque ligne de $X$ correspond à une image *mise en ligne* (256 pixels).\n",
    "\n",
    "1. Tirer quelques images aléatoirement puis les remettre en forme (```reshape``` vers un carré de 16x16 pixels) puis les afficher\n",
    "1. Afficher l'image moyenne constituée de tous les ```3``` présents dans la base de données\n",
    "1. afficher l'image moyenne des ```3``` *moins* l'image moyenne des ```6```\n",
    "    1. Peut-on imaginer un algorithme simple qui trie les ```3``` par rapport aux ```6``` à partir de ce résultat graphique?\n",
    "1. afficher l'image moyenne des ```3``` *moins* l'image moyenne de tous les autres chiffres. En développant la question précédente, on aurait un algorithme de détection des 3... Et on pourrait faire de même pour chaque chiffre.\n"
   ],
   "metadata": {}
  },
  {
   "cell_type": "code",
   "execution_count": 4,
   "source": [
    "import pickle as pkl\n",
    "data = pkl.load(open(\"data/usps.pkl\",'rb')) \n",
    "# data est un dictionnaire contenant les champs explicites X_train, X_test, Y_train, Y_test\n",
    "X = np.array(data[\"X_test\"],dtype=float)    # contient 1 image par ligne (256 colonnes = 16x16 pixels)\n",
    "Y = data[\"Y_test\"]                          # contient les étiquettes associées aux images\n",
    "\n"
   ],
   "outputs": [],
   "metadata": {}
  },
  {
   "cell_type": "code",
   "execution_count": null,
   "source": [],
   "outputs": [],
   "metadata": {}
  }
 ]
}