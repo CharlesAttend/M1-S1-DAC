{
 "cells": [
  {
   "cell_type": "markdown",
   "metadata": {},
   "source": [
    "# Exercices d'applications\n",
    "\n",
    "Afin de vérifier que vous maitrisez les bases de python et avant de passer à numpy, nous allons vous demander de faire quelques petits exercices de validation.\n",
    "\n"
   ]
  },
  {
   "cell_type": "markdown",
   "metadata": {},
   "source": [
    "## Créer et afficher une liste contenant les entiers de 1 à 20"
   ]
  },
  {
   "cell_type": "code",
   "execution_count": null,
   "metadata": {},
   "outputs": [],
   "source": [
    "# 1. construction de la liste python\n",
    "\n",
    "# 2. affichage\n"
   ]
  },
  {
   "cell_type": "markdown",
   "metadata": {},
   "source": [
    "## Créer et afficher les 10 premiers termes de la série de Fibonacci\n",
    "    * Conditions initiles : u[0] = 1, u[1] = 1\n",
    "    *  u[n] = u[n-2] + u[n-1]\n",
    "Test sur l'usage de la boucle ```for``` et la réutilisation des variables\n",
    "\n",
    "Initialiser $u_t$ et $u_{t+1}$, faire les premiers affichages, rentrer dans la boucle et itérer le processus."
   ]
  },
  {
   "cell_type": "code",
   "execution_count": null,
   "metadata": {},
   "outputs": [],
   "source": [
    "# 1. Initialisation\n",
    "\n",
    "# 2. Itération du processus"
   ]
  },
  {
   "cell_type": "markdown",
   "metadata": {},
   "source": [
    "## Créer une fonction stochastique\n",
    "\n",
    "Vous devez créer une fonction (avec le mot-clé ```def```) qui ne prend pas d'argument.\n",
    "Cette fonction utilisera ```random``` pour afficher:\n",
    "    * \"Boujour\" une fois sur 3 \n",
    "    * \"Au revoir\" deux fois sur 3\n",
    "\n",
    "Tester 10 fois cette fonction\n"
   ]
  },
  {
   "cell_type": "code",
   "execution_count": 3,
   "metadata": {},
   "outputs": [],
   "source": [
    "# 0. import de la bibliothèque\n",
    "import random\n",
    "\n",
    "# 1. Définition de la fonction\n",
    "\n",
    "# 2. Appel à la fonction 10 fois dans une boucle"
   ]
  },
  {
   "cell_type": "markdown",
   "metadata": {},
   "source": [
    "## Créer une fonction avec des arguments par défaut\n",
    "\n",
    "C'est pratique d'avoir une fonction (avec le mot-clé ```def```) qui possède des arguments par défaut: si on ne les mentionne pas, ils prennent une valeur pré-définie.\n",
    "\n",
    "Définir la fonction ```affichage``` qui prend en argument ```nIter=10``` (argument ```nIter``` avec la valeur par défaut ```10```). Cette fonction affichera tous les entiers de $0$ à ```nIter```.\n"
   ]
  },
  {
   "cell_type": "code",
   "execution_count": null,
   "metadata": {},
   "outputs": [],
   "source": [
    "# 1. Définition de la fonction \n",
    "\n",
    "# 2. Invocations\n",
    "affichage(5) # résultat attendu: 0 1 2 3 4 5 \n",
    "affichage()  # résultat attendu: 0 1 2 3 4 5 6 7 8 9 10"
   ]
  },
  {
   "cell_type": "markdown",
   "metadata": {},
   "source": [
    "## Créer une fonction qui estime la valeur de la racine carrée de x en utilisant la suite de Newton:\n",
    "\n",
    "L'algorithme, assez proche de la suite de fibonacci, est défini comme suit:\n",
    "\n",
    "1. u_0 = x/2, u_t = (u_t−1 + x / u_t−1)/2\n",
    "1. cette fonction prendra en argument le nombre d'itérations à effectuer\n",
    "1. tester cette fonction sur plusieurs valeurs et vérifier vos résultats avec math.sqrt(x)\n"
   ]
  },
  {
   "cell_type": "code",
   "execution_count": null,
   "metadata": {},
   "outputs": [],
   "source": [
    "# 0. import de la bibliothèque nécessaire (une fois est suffisante pour tout le notebook)\n",
    "import math\n",
    "\n",
    "# 1. Définition de la fonction qui prend en argument le nombre d'itération à effectuer + implémentation de l'algorithme\n",
    "\n",
    "# 2. Appel à la fonction + comparaison avec la valeur calculée par la méthode python\n"
   ]
  },
  {
   "cell_type": "markdown",
   "metadata": {},
   "source": [
    "## Construction d'une liste de notes d'étudiants (50 notes entre 0 et 20):\n",
    "\n",
    "* Génération à l'aide de la fonction: ```random.randint(min, max)``` \n",
    "* Création d'une nouvelle liste comptant combien de note de chaque niveau apparaissent dans la liste (table de contingence)\n",
    "* Création d'une troisième liste contenant toutes les notes supérieures à 10\n",
    "    \n",
    "Affichage des deux listes et vérification\n",
    "\n",
    "Exercice sur la gestion des listes et des boucles."
   ]
  },
  {
   "cell_type": "code",
   "execution_count": null,
   "metadata": {},
   "outputs": [],
   "source": []
  }
 ],
 "metadata": {
  "interpreter": {
   "hash": "31f2aee4e71d21fbe5cf8b01ff0e069b9275f58929596ceb00d14d90e3e16cd6"
  },
  "kernelspec": {
   "display_name": "Python 3 (ipykernel)",
   "language": "python",
   "name": "python3"
  },
  "language_info": {
   "codemirror_mode": {
    "name": "ipython",
    "version": 3
   },
   "file_extension": ".py",
   "mimetype": "text/x-python",
   "name": "python",
   "nbconvert_exporter": "python",
   "pygments_lexer": "ipython3",
   "version": "3.9.13"
  }
 },
 "nbformat": 4,
 "nbformat_minor": 2
}
