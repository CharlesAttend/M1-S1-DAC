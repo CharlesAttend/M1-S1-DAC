{
 "cells": [
  {
   "cell_type": "markdown",
   "metadata": {},
   "source": [
    "# Tutoriel numpy pour la création et la manipulation de base des matrices\n",
    "\n",
    "Comme nous l'avons indiqué en préambule, l'UE L1 Datasciences va reposer essentiellement sur la bibliothèque ```numpy```. Ce choix a été fait pour deux raisons:\n",
    "\n",
    "1. La syntaxe est assez simple & spécifique: on se différentie ainsi très vite de l'UE L1 python et on évite de se *marcher sur les pieds*\n",
    "1. Beaucoup d'opérateurs de haut niveau existent (additions/soustraction de matrice, min, max, moyenne, etc...): cela permet de coder rapidement et lisiblement des algorithmes compliqués.\n",
    "\n",
    "Ce choix implique néanmoins plusieurs difficultés dont vous devez avoir conscience afin mieux les appréhender.\n",
    "\n",
    "1. Les opérateurs de haut niveau ont parfois un comportement *magique*: toute ligne de code doit impérativement être comprise en profondeur par tous, il n'est pas acceptable de *tatonner jusqu'à ce que la syntaxe soit correcte*\n",
    "1. Pour accéder à ```numpy```, il faut passer par python... Ce qui implique de maitriser les deux syntaxes (au moins a minima). \n",
    "1. En plus de la maitrise minimum, il faut éviter les confusions: les listes python sont très proches des vecteurs ```numpy```... Mais les fonctions disponibles dessus sont différentes.\n",
    "\n"
   ]
  },
  {
   "cell_type": "code",
   "execution_count": 5,
   "metadata": {},
   "outputs": [
    {
     "name": "stdout",
     "output_type": "stream",
     "text": [
      "Import OK\n"
     ]
    }
   ],
   "source": [
    "# gestion des bibliothèques externes\n",
    "import numpy as np\n",
    "print(\"Import OK\") # affichage en fin de boite pour visualiser que l'exécution a bien eu lieue\n",
    "\n",
    "# avec cette forme particulière d'import (`\u001d\n",
    "numpy`\u001d\n",
    " est renommée en `np`\u001c\n",
    "), il faudra taper \n",
    "# `np.fonction` pour invoquer une fonction de la bibliothèque numpy"
   ]
  },
  {
   "cell_type": "markdown",
   "metadata": {},
   "source": [
    "## Créations de matrice par différentes méthodes\n",
    "\n",
    "**Approche 1:** utiliser les méthodes de ```numpy``` pour créer des matrices spéciales:\n",
    "\n",
    "  * [1, 2, 3, ...] (=arange)\n",
    "  * [0, 0, 0, ...] (=zeros)\n",
    "  * [1, 1, 1, ...] (=ones)\n",
    "\n",
    "Le but n'est pas d'apprendre *par coeur* toutes les méthodes mais de comprendre la philosophie de l'outil et de savoir revenir chercher les informations quand c'est nécessaire.\n",
    "Vous allez petit à petit apprendre ces fonctions à force de les utiliser.\n",
    "\n",
    "**Approche 2:** travailler en python avec des listes puis passer dans ```numpy``` à l'aide d'un *constructeur* de matrice\n",
    "\n",
    "**Approche 3:** charger les valeurs numériques d'un fichier dans une matrice ```numpy```\n",
    "\n",
    "\n",
    "Dans toutes les boites suivantes:\n",
    "\n",
    "1. Exécuter les boites\n",
    "1. Jouer avec les arguments de construction pour comprendre l'impact en ré-exécutant les boites.\n",
    "\n"
   ]
  },
  {
   "cell_type": "code",
   "execution_count": 3,
   "metadata": {
    "collapsed": true
   },
   "outputs": [
    {
     "name": "stdout",
     "output_type": "stream",
     "text": [
      "[0 1 2 3 4 5 6 7 8 9]\n"
     ]
    }
   ],
   "source": [
    "# Approche 1\n",
    "# Création de vecteurs [0, 1, 2, ...]\n",
    "v1 = np.arange(0, 10, 1) # create a range\n",
    "                         # arguments: start, stop, step\n",
    "\n",
    "v1 = np.arange(0, 10)    # with default step=1\n",
    "v1 = np.arange(10)       # default start=0\n",
    "print(v1)"
   ]
  },
  {
   "cell_type": "code",
   "execution_count": 4,
   "metadata": {},
   "outputs": [
    {
     "name": "stdout",
     "output_type": "stream",
     "text": [
      "[ 0.          0.71428571  1.42857143  2.14285714  2.85714286  3.57142857\n",
      "  4.28571429  5.          5.71428571  6.42857143  7.14285714  7.85714286\n",
      "  8.57142857  9.28571429 10.        ]\n"
     ]
    }
   ],
   "source": [
    "# Approche 1\n",
    "# Vecteur de 15 dimensions dont les valeurs sont entre 0 et 10 inclus\n",
    "v2 = np.linspace(0, 10, 15) # avec linspace, le début et la fin SONT inclus\n",
    "print(v2)\n"
   ]
  },
  {
   "cell_type": "code",
   "execution_count": null,
   "metadata": {},
   "outputs": [],
   "source": [
    "# approche 1 (toujours)\n",
    "v3 = np.ones(5)\n",
    "print(v3)\n",
    "\n",
    "m1 = np.ones((10,2))  # matrice de 1, argument = nuplet avec les dimensions\n",
    "                      # ATTENTION np.ones(10,2) ne marche pas. \n",
    "                      # Philosophie = toujours 1 argument, qui peut être un tuple pour créer plusieurs dimensions\n",
    "print(m1)\n",
    "\n",
    "m2 = np.zeros((5,4))  # matrice de 0\n",
    "m3 = np.eye(4)        # matrice identité carrée, arg = dimension\n",
    "print(m3)\n",
    "\n",
    "m4 = np.random.rand(5,6)  # matrice de nombres aléatoires indépendants entre 0 et 1, args = dimensions\n",
    "                          # ATTENTION philosophie+syntaxe différentes de ones/zeros\n",
    "print(m4)"
   ]
  },
  {
   "cell_type": "code",
   "execution_count": 12,
   "metadata": {
    "scrolled": true
   },
   "outputs": [
    {
     "name": "stdout",
     "output_type": "stream",
     "text": [
      "matrice python:  [[1, 2], [3, 4]]\n",
      "matrice numpy: \n",
      " [[1 2]\n",
      " [3 4]]\n",
      "matrice numpy + 1: \n",
      " [[2 3]\n",
      " [4 5]]\n"
     ]
    }
   ],
   "source": [
    "# approche 2: passage de python classique à numpy\n",
    "\n",
    "# Création de matrices\n",
    "mpy = [[1, 2], [3, 4]]     # matrice python = liste de liste\n",
    "print(\"matrice python: \", mpy)                         \n",
    "# test naïf:\n",
    "print(mpy + 1) # => ERREUR, on ne peut pas additionner 1 sur une liste python\n",
    "# il faut commenter la ligne précédente pour pouvoir exécuter la suite\n",
    "\n",
    "# passage à numpy:\n",
    "mnp = np.array(mpy)\n",
    "print(\"matrice numpy: \\n\", mnp) # l'affichage est plus joli!\n",
    "\n",
    "# apercu des outils de haut niveau qui seront disponibles:\n",
    "print(\"matrice numpy + 1: \\n\",mnp + 1) # ca marche !\n"
   ]
  },
  {
   "cell_type": "code",
   "execution_count": 13,
   "metadata": {},
   "outputs": [
    {
     "name": "stdout",
     "output_type": "stream",
     "text": [
      "[[ 0  1  2  3  4]\n",
      " [10 11 12 13 14]\n",
      " [20 21 22 23 24]\n",
      " [30 31 32 33 34]\n",
      " [40 41 42 43 44]]\n"
     ]
    }
   ],
   "source": [
    "# approche 2: vers des matrices plus compliquées\n",
    "\n",
    "# syntaxe plus compliquée + matrice plus compliquée!\n",
    "# création de listes python en utilisant des boucles imbriquées:\n",
    "mpy2 = [[n+m*10 for n in range(5)] for m in range(5)]\n",
    "\n",
    "# création d'une structure numpy à partir d'une liste ou d'une liste de liste:\n",
    "mnp2 = np.array([[n+m*10 for n in range(5)] for m in range(5)]) # ou np.array(mp)\n",
    "print(mnp2)\n"
   ]
  },
  {
   "cell_type": "markdown",
   "metadata": {},
   "source": [
    "### Approche 3\n",
    "\n",
    "Afin de démontrer l'importation de valeurs depuis un fichier... Nous allons créer un fichier.\n",
    "\n",
    "1. Ouvrir un éditeur de texte (notepad, gedit, sublime, ...)\n",
    "1. Copier-coller le texte ci-dessous (les chiffres sont séparés par des tabulations):\n",
    "```\n",
    "1   2\n",
    "3   3\n",
    "4   2\n",
    "5   1\n",
    "```\n",
    "1. Sauver le fichier sous le nom: ```test.txt``` **dans le même répertoire que le notebook**\n",
    "1. Exécuter la boite ci-dessous qui doit lire le fichier\n",
    "\n",
    "La boite encore en dessous illustre la possibilité symétrique: le fait de sauver une matrice dans un fichier. Du point de vue de la programmation de bas niveau, ces opérations sont non triviales (ouverture/fermeture de fichier; lecture/écriture; ...) L'intérêt de numpy est justement de nous affranchir de ces difficultés opérationnelles pour nous concentrer sur les données elles-mêmes.\n"
   ]
  },
  {
   "cell_type": "code",
   "execution_count": 14,
   "metadata": {},
   "outputs": [
    {
     "name": "stdout",
     "output_type": "stream",
     "text": [
      "[[1. 2.]\n",
      " [3. 3.]\n",
      " [4. 2.]\n",
      " [5. 1.]]\n"
     ]
    }
   ],
   "source": [
    "# approche 3\n",
    "m5 = np.loadtxt(\"test.txt\")\n",
    "print(m5)\n",
    "# Vous pouvez modifier m5 à volonté, le fichier n'est pas impacté (ce qui est intuitif)"
   ]
  },
  {
   "cell_type": "code",
   "execution_count": 16,
   "metadata": {},
   "outputs": [],
   "source": [
    "mat = np.ones((5,3))\n",
    "mat[1, 2] = 2 # modification d'une case (cf boite ci-dessous)\n",
    "np.savetxt(\"test2.txt\", mat)\n",
    "\n",
    "# aller vérifier que le fichier a bien été créé et l'ouvrir pour vérifier le contenu."
   ]
  },
  {
   "cell_type": "markdown",
   "metadata": {},
   "source": [
    "## Récupération/affectation de valeurs\n",
    "\n",
    "La boite ci-dessous liste les opérations de lecture possible. Ajouter des ```print``` pour vérifier que vous avez compris les valeurs extraites.\n",
    "\n",
    "Sur les vecteurs, l'indicage est sans ambiguité:\n",
    "$$ A = [a_0, a_1, \\ldots, a_d] $$\n",
    "\n",
    "\n",
    "Sur les matrices, par contre, il faut comprendre la logique: le premier indice désigne les lignes, le second les colonnes.\n",
    "Lorsque que vous aurez initialisé une matrice de taille $(n,d)$, il faudra imaginer la structure de données suivante en faisant attention à l'ordre des arguments:\n",
    "\n",
    "$ M = \\begin{pmatrix}\n",
    "m_{11} & m_{12} & \\ldots & m_{1d} \\\\\n",
    "m_{21} & m_{22} & \\ldots & m_{2d} \\\\\n",
    "\\vdots &  \\vdots & \\ddots & \\vdots \\\\\n",
    "m_{n1} & m_{n2} & \\ldots & m_{nd} \\\\\n",
    "\\end{pmatrix} $\n",
    "\n",
    "Par exemple, pour accéder à la deuxième ligne-première colonne, il faut faire : ```M[1,0]```\n",
    "\n",
    "Dans tous les cas, il faut ensuite distinguer l'accès à une valeur et l'accès à un bloc (série de valeurs ou sous-matrice).\n"
   ]
  },
  {
   "cell_type": "code",
   "execution_count": null,
   "metadata": {
    "collapsed": true
   },
   "outputs": [],
   "source": [
    "# accès aux différentes valeurs dans un VECTEUR numpy\n",
    "\n",
    "A = np.array([1,2,3,4,5])\n",
    "A[1:3]  # array([2, 3])\n",
    "\n",
    "# On peut omettre n'importe lequel des argument dans A[start:stop:step]:\n",
    "A[::] # indices de début, fin, et pas avec leurs valeurs par défaut\n",
    "      # array([ 1, 2, 3,  4,  5])\n",
    "A[::2] # pas = 2, indices de début et de fin par défaut\n",
    "       # array([ 1, 3,  5])\n",
    "A[:3] # les trois premiers éléments (indices 0,1,2)\n",
    "      # array([ 1, 2, 3])\n",
    "A[3:] # à partir de l'indice 3\n",
    "      # array([4, 5])\n",
    "\n",
    "# On peut utiliser des indices négatifs :\n",
    "A[-1] # le dernier élément\n",
    "      # 5\n",
    "A[-3:] # les 3 derniers éléments\n",
    "       # array([3, 4, 5])\n",
    "\n"
   ]
  },
  {
   "cell_type": "code",
   "execution_count": null,
   "metadata": {},
   "outputs": [],
   "source": [
    "# accès aux différentes valeurs dans une MATRICE numpy\n",
    "# => Passage de 1 à 2 dimensions\n",
    "\n",
    "mat   = np.ones((5,6)) \n",
    "mat[0,0] # récupération de la première valeur\n",
    "mat[0,:] # récupération de la première ligne\n",
    "mat[0,0:2] # récupération des valeurs d'indice 0 et 1\n",
    "# petites astuces supplémentaires\n",
    "mat[0,1:] # toute la ligne sauf la première case\n",
    "mat[0,:-1] # toute la ligne sauf la dernière case\n",
    "mat[0,:-2] # toute la ligne sauf les deux dernières cases    \n"
   ]
  },
  {
   "cell_type": "markdown",
   "metadata": {},
   "source": [
    "### Passage à l'affectation de valeurs sur certaines cases\n",
    "\n",
    "La syntaxe est la même, l'approche est assez intuitive."
   ]
  },
  {
   "cell_type": "code",
   "execution_count": 20,
   "metadata": {},
   "outputs": [
    {
     "name": "stdout",
     "output_type": "stream",
     "text": [
      "[[2. 2. 0. 0. 1. 1.]\n",
      " [0. 1. 2. 3. 4. 5.]\n",
      " [1. 1. 1. 1. 1. 1.]\n",
      " [1. 1. 1. 1. 1. 1.]\n",
      " [1. 1. 1. 1. 1. 1.]]\n",
      "[[0.18840697 0.9909872  0.71001415]\n",
      " [0.64010783 0.87695546 0.86243315]\n",
      " [0.48108295 0.80380921 0.24652377]\n",
      " [0.22838323 0.46319595 0.80887773]\n",
      " [0.81030938 0.11450806 0.83283311]]\n",
      "[0.48108295 0.80380921 0.24652377]\n",
      "[[0.48108295 0.80380921 0.24652377]]\n"
     ]
    }
   ],
   "source": [
    "# Affectation de valeurs:\n",
    "# une matrice d'entier\n",
    "mat   = np.ones((5,6)) \n",
    "mat[0,0:2] = 2 # affectation en bloc\n",
    "mat[0,2:4] = np.zeros((1,2)) # affectation en bloc d'une autre matrice\n",
    "mat[1, :]  = np.arange(6)\n",
    "print(mat)\n",
    "\n",
    "# Matrice VS vecteur !!\n",
    "A = np.random.rand(5,3) # matrice 5x3\n",
    "print(A)\n",
    "B = A[2,:]              # extraction de la troisième ligne...\n",
    "                        # il s'agit d'un vecteur !!!\n",
    "print(B)\n",
    "B = A[2:3,:]            # extraction de la troisième ligne...\n",
    "                        # mais il s'agit d'une matrice (transposable) !!!\n",
    "print(B)"
   ]
  },
  {
   "cell_type": "markdown",
   "metadata": {},
   "source": [
    "## Opérateurs de haut niveau sur les matrices\n",
    "\n",
    "Le fait de passer dans l'univers numpy ouvre des possibilités: il est possible de faire les opérations suivantes sur les matrices: agrégation, addition, soustraction, recherche de min, max, moyenne -globale, par ligne ou par colonne-, etc..."
   ]
  },
  {
   "cell_type": "code",
   "execution_count": 22,
   "metadata": {
    "collapsed": true
   },
   "outputs": [
    {
     "name": "stdout",
     "output_type": "stream",
     "text": [
      "[[1. 2.]\n",
      " [3. 4.]\n",
      " [1. 1.]\n",
      " [1. 1.]\n",
      " [1. 1.]]\n",
      "[[1. 2. 3.]\n",
      " [1. 1. 0.]\n",
      " [1. 1. 0.]\n",
      " [1. 1. 0.]]\n"
     ]
    }
   ],
   "source": [
    "# concaténation de matrices:\n",
    "# ATTENTION: la logique est la même que pour ones/zeros\n",
    "# => un seul argument sous la forme d'un tuple contenant les matrices à fusionner\n",
    "\n",
    "# fusion verticale\n",
    "m6 = np.vstack((np.array([[1, 2], [3, 4]]), np.ones((3,2))))\n",
    "print(m6)\n",
    "\n",
    "# fusion verticale + fusion horizontale\n",
    "m7 = np.vstack((np.array([1, 2, 3]), np.hstack((np.ones((3,2)), np.zeros((3,1))))))\n",
    "print(m7)\n"
   ]
  },
  {
   "cell_type": "markdown",
   "metadata": {},
   "source": [
    "### Tailles des matrices\n",
    "\n",
    "Il est important de savoir accéder aux dimensions des matrices que l'on manipule. C'est une opération utile en générale... Mais surtout indispensable pour débugguer les programmes.\n",
    "\n",
    "Lorsque vous êtes face à une erreur, il faut comprendre d'où elle vient (évidemment !). On commence souvent par faire des ```print``` sur les matrices, ce qui est une bonne idée mais qui a des limites: dès que les matrices sont grandes, on ne voit plus rien...\n",
    "Il est alors bien plus pertinent de faire des vérifications sur les dimensions des matrices."
   ]
  },
  {
   "cell_type": "code",
   "execution_count": 23,
   "metadata": {
    "collapsed": true
   },
   "outputs": [],
   "source": [
    "# pour une variable:\n",
    "mat.shape # (5,6)\n",
    "mat.shape[0] # 5\n",
    "mat.shape[1] # 6 \n",
    "n, m = mat.shape # retours multiples"
   ]
  },
  {
   "cell_type": "code",
   "execution_count": 24,
   "metadata": {},
   "outputs": [
    {
     "ename": "ValueError",
     "evalue": "all the input array dimensions for the concatenation axis must match exactly, but along dimension 1, the array at index 0 has size 5 and the array at index 1 has size 4",
     "output_type": "error",
     "traceback": [
      "\u001b[0;31m---------------------------------------------------------------------------\u001b[0m",
      "\u001b[0;31mValueError\u001b[0m                                Traceback (most recent call last)",
      "\u001b[0;32m<ipython-input-24-ea25d9412f21>\u001b[0m in \u001b[0;36m<module>\u001b[0;34m\u001b[0m\n\u001b[1;32m      1\u001b[0m \u001b[0;31m# mini exercice de debuggage:\u001b[0m\u001b[0;34m\u001b[0m\u001b[0;34m\u001b[0m\u001b[0;34m\u001b[0m\u001b[0m\n\u001b[1;32m      2\u001b[0m \u001b[0;34m\u001b[0m\u001b[0m\n\u001b[0;32m----> 3\u001b[0;31m \u001b[0mmat\u001b[0m \u001b[0;34m=\u001b[0m \u001b[0mnp\u001b[0m\u001b[0;34m.\u001b[0m\u001b[0mvstack\u001b[0m\u001b[0;34m(\u001b[0m\u001b[0;34m(\u001b[0m\u001b[0mnp\u001b[0m\u001b[0;34m.\u001b[0m\u001b[0marange\u001b[0m\u001b[0;34m(\u001b[0m\u001b[0;36m5\u001b[0m\u001b[0;34m)\u001b[0m\u001b[0;34m,\u001b[0m \u001b[0mnp\u001b[0m\u001b[0;34m.\u001b[0m\u001b[0mhstack\u001b[0m\u001b[0;34m(\u001b[0m\u001b[0;34m(\u001b[0m\u001b[0mnp\u001b[0m\u001b[0;34m.\u001b[0m\u001b[0mones\u001b[0m\u001b[0;34m(\u001b[0m\u001b[0;34m(\u001b[0m\u001b[0;36m3\u001b[0m\u001b[0;34m,\u001b[0m\u001b[0;36m2\u001b[0m\u001b[0;34m)\u001b[0m\u001b[0;34m)\u001b[0m\u001b[0;34m,\u001b[0m \u001b[0mnp\u001b[0m\u001b[0;34m.\u001b[0m\u001b[0mzeros\u001b[0m\u001b[0;34m(\u001b[0m\u001b[0;34m(\u001b[0m\u001b[0;36m3\u001b[0m\u001b[0;34m,\u001b[0m\u001b[0;36m2\u001b[0m\u001b[0;34m)\u001b[0m\u001b[0;34m)\u001b[0m\u001b[0;34m)\u001b[0m\u001b[0;34m)\u001b[0m\u001b[0;34m)\u001b[0m\u001b[0;34m)\u001b[0m\u001b[0;34m\u001b[0m\u001b[0;34m\u001b[0m\u001b[0m\n\u001b[0m\u001b[1;32m      4\u001b[0m \u001b[0mmat\u001b[0m\u001b[0;34m[\u001b[0m\u001b[0;36m1\u001b[0m\u001b[0;34m,\u001b[0m \u001b[0;36m1\u001b[0m\u001b[0;34m]\u001b[0m \u001b[0;34m=\u001b[0m \u001b[0;36m12\u001b[0m\u001b[0;34m\u001b[0m\u001b[0;34m\u001b[0m\u001b[0m\n\u001b[1;32m      5\u001b[0m \u001b[0mprint\u001b[0m\u001b[0;34m(\u001b[0m\u001b[0mmat\u001b[0m\u001b[0;34m)\u001b[0m\u001b[0;34m\u001b[0m\u001b[0;34m\u001b[0m\u001b[0m\n",
      "\u001b[0;32m<__array_function__ internals>\u001b[0m in \u001b[0;36mvstack\u001b[0;34m(*args, **kwargs)\u001b[0m\n",
      "\u001b[0;32m~/opt/anaconda3/lib/python3.7/site-packages/numpy/core/shape_base.py\u001b[0m in \u001b[0;36mvstack\u001b[0;34m(tup)\u001b[0m\n\u001b[1;32m    281\u001b[0m     \u001b[0;32mif\u001b[0m \u001b[0;32mnot\u001b[0m \u001b[0misinstance\u001b[0m\u001b[0;34m(\u001b[0m\u001b[0marrs\u001b[0m\u001b[0;34m,\u001b[0m \u001b[0mlist\u001b[0m\u001b[0;34m)\u001b[0m\u001b[0;34m:\u001b[0m\u001b[0;34m\u001b[0m\u001b[0;34m\u001b[0m\u001b[0m\n\u001b[1;32m    282\u001b[0m         \u001b[0marrs\u001b[0m \u001b[0;34m=\u001b[0m \u001b[0;34m[\u001b[0m\u001b[0marrs\u001b[0m\u001b[0;34m]\u001b[0m\u001b[0;34m\u001b[0m\u001b[0;34m\u001b[0m\u001b[0m\n\u001b[0;32m--> 283\u001b[0;31m     \u001b[0;32mreturn\u001b[0m \u001b[0m_nx\u001b[0m\u001b[0;34m.\u001b[0m\u001b[0mconcatenate\u001b[0m\u001b[0;34m(\u001b[0m\u001b[0marrs\u001b[0m\u001b[0;34m,\u001b[0m \u001b[0;36m0\u001b[0m\u001b[0;34m)\u001b[0m\u001b[0;34m\u001b[0m\u001b[0;34m\u001b[0m\u001b[0m\n\u001b[0m\u001b[1;32m    284\u001b[0m \u001b[0;34m\u001b[0m\u001b[0m\n\u001b[1;32m    285\u001b[0m \u001b[0;34m\u001b[0m\u001b[0m\n",
      "\u001b[0;32m<__array_function__ internals>\u001b[0m in \u001b[0;36mconcatenate\u001b[0;34m(*args, **kwargs)\u001b[0m\n",
      "\u001b[0;31mValueError\u001b[0m: all the input array dimensions for the concatenation axis must match exactly, but along dimension 1, the array at index 0 has size 5 and the array at index 1 has size 4"
     ]
    }
   ],
   "source": [
    "# mini exercice de debuggage:\n",
    "# 1. Exécuter le code pour voir l'erreur\n",
    "# 2. Comprendre d'où vient le problème... En lisant le message puis en étudiant les dimensions des matrices de la ligne problématique\n",
    "\n",
    "mat = np.vstack((np.arange(5), np.hstack((np.ones((3,2)), np.zeros((3,2)))))) \n",
    "mat[1, 1] = 12\n",
    "print(mat)"
   ]
  },
  {
   "cell_type": "markdown",
   "metadata": {},
   "source": [
    "## Fonctions de base sur les matrices\n",
    "Additions, transposées etc..."
   ]
  },
  {
   "cell_type": "code",
   "execution_count": 9,
   "metadata": {
    "collapsed": true
   },
   "outputs": [],
   "source": [
    "ma = np.random.rand(5,6)     \n",
    "# Transposition\n",
    "mat = ma.T          # pour la transposée \n",
    "mat = ma.transpose();    # ou bien\n",
    "mat = np.transpose(ma);  # ou bien\n",
    "# la plupart des fonctions numpy acceptent la syntaxe objet et la syntaxe non-objet."
   ]
  },
  {
   "cell_type": "code",
   "execution_count": 25,
   "metadata": {
    "collapsed": true
   },
   "outputs": [],
   "source": [
    "# Addition / soustraction\n",
    "v1 = v1 + 3    # ou v1 += 3     % matrice + scalaire\n",
    "               # changement sur les toutes les valeurs de v1\n",
    "               # NB: le - fonctionne pareil\n",
    "\n",
    "# multiplication :\n",
    "# ATTENTION à *\n",
    "m1 = np.ones((10,1)) * np.array([1,2,3]) # Attention, produit matriciel [hors programme pour la semaine 1 de datascience]\n",
    "m2 = np.ones((10,3)) * 2                 # multiplication par un scalaire\n",
    "m3 = m1 * m2;                            # multiplication terme à terme   \n",
    "# usage de .dot => toujours matriciel\n",
    "m1 = np.ones((10,1)).dot(np.array([[1,2,3]])) # Bien mieux: moins d'ambiguité!"
   ]
  },
  {
   "cell_type": "markdown",
   "metadata": {},
   "source": [
    "Reflexion sur les recherches de valeurs et d'indices:\n",
    "\n",
    "Soit la matrice:\n",
    "\n",
    "$m =\\begin{pmatrix}\n",
    "5 & 2 & 1\\\\\n",
    "1 & 0.5 & 3\n",
    "\\end{pmatrix} $\n",
    "\n",
    "Il y a différente manière de s'intéresser au minimum, correspondant à différents usages dans différents algorithmes:\n",
    "\n",
    "1. Recherche de la plus petite valeur de la matrice: ```m.min()```\u001d\n",
    " $\\Rightarrow 0.5$\n",
    "1. Recherche des minima sur chaque colonne: ```m.min(0)``` ou ```m.min(axis=0)```\u001d\n",
    "\u001d\n",
    " $\\Rightarrow [1, 0.5, 1]$\n",
    "1. Recherche des indices sur lesquels sur trouvent les minima pour chaque colonne: ```m.argmin(0)``` ou ```m.argmin(axis=0)```\u001d\n",
    "\u001d\n",
    "$\\Rightarrow [1, 1, 0]$\n",
    "\n",
    "Nous utiliserons beaucoup ces fonctions, dans toutes leurs formes.\n"
   ]
  },
  {
   "cell_type": "code",
   "execution_count": 29,
   "metadata": {},
   "outputs": [
    {
     "name": "stdout",
     "output_type": "stream",
     "text": [
      "Soit la matrice m1:\n",
      " [[0.28728081 0.81529085 0.74651814 0.38491433]\n",
      " [0.18594303 0.26518733 0.42682403 0.35095094]\n",
      " [0.53767535 0.49095301 0.43529743 0.45359538]] \n",
      "\n",
      "[0.18594303 0.26518733 0.42682403 0.35095094]\n"
     ]
    }
   ],
   "source": [
    "# recherche du min dans une matrice\n",
    "# ajouter des print pour comprendre les méthodes\n",
    "\n",
    "print(\"Soit la matrice m1:\\n\",m1,\"\\n\")\n",
    "\n",
    "print(m1.min())   # syntaxe objet\n",
    "np.min(m1)        # autre syntaxe\n",
    "# recherche du minimum de chaque colonne:\n",
    "print(m1.min(axis=0)) # equivalent à m1.min(0)\n",
    "\n",
    "# recherche du minimum sur chaque ligne\n",
    "print(m1.min(1)) # equivalent à m1.min(axis=1)"
   ]
  },
  {
   "cell_type": "code",
   "execution_count": 30,
   "metadata": {},
   "outputs": [
    {
     "data": {
      "text/plain": [
       "array([0.37791759, 0.28919694, 0.61599582])"
      ]
     },
     "execution_count": 30,
     "metadata": {},
     "output_type": "execute_result"
    }
   ],
   "source": [
    "# distinction min/argmin\n",
    "\n",
    "# travail en ligne/colonne\n",
    "m1 = np.array([[ 0.77846102,  0.22597046,  0.217657  ,  0.28958186], \\\n",
    "               [ 0.02133707,  0.03258567,  0.81939161,  0.2834734 ], \\\n",
    "               [ 0.92120271,  0.68409416,  0.24285983,  0.61582659]])\n",
    "m1.argmin()  # 4\n",
    "m1.argmin(0) # array([1, 1, 0, 1])\n",
    "m1.argmin(1) # array([2, 0, 2])\n",
    "\n",
    "# arrondis\n",
    "np.round(m1) # au plus proche\n",
    "np.ceil(m1)  # au dessus\n",
    "np.floor(m1) # au dessous\n",
    "\n",
    "# tris\n",
    "np.sort(m1)   # ligne par ligne\n",
    "np.sort(m1,0) # colonne par colonne\n",
    "np.sort(m1,1) # ligne par ligne\n",
    "\n",
    "# statistique de base\n",
    "m1.mean() # 0.427  -> sur toute la matrice\n",
    "m1.mean(0) # array([ 0.57366693,  0.31421676,  0.42663615,  0.39629395]) \n",
    "            # colonne par colonne\n",
    "m1.mean(1) # ligne par ligne\n",
    "\n",
    "# m1.std...\n",
    "# m1.sum...\n",
    "# m1.prod...\n",
    "# m1.cumsum..."
   ]
  },
  {
   "cell_type": "markdown",
   "metadata": {},
   "source": [
    "### Jouons avec les minima\n",
    "\n",
    "Gestion particulière du minimum: on a souvent besoin de retourner la valeur minimum parmi 2. En C/JAVA/Matlab, cela est réalisé avec min... Pas en python! => minimum"
   ]
  },
  {
   "cell_type": "code",
   "execution_count": null,
   "metadata": {
    "collapsed": true
   },
   "outputs": [],
   "source": [
    "# entre 2 valeurs\n",
    "np.minimum(2,3) # 2\n",
    "# entre 2 matrices\n",
    "m1 = random.rand(3,4)\n",
    "m2 = random.rand(3,4)    \n",
    "np.minimum(m1,m2) # matrice 3x4 contenant les valeurs min d'une comparaison terme à terme\n",
    "# entre une matrice et un scalaire: pour seuiller\n",
    "np.minimum(m1,0.5)\n",
    "# array([[ 0.5       ,  0.22597046,  0.217657  ,  0.28958186],\n",
    "#        [ 0.02133707,  0.03258567,  0.5       ,  0.2834734 ],\n",
    "#        [ 0.5       ,  0.5       ,  0.24285983,  0.5       ]])"
   ]
  },
  {
   "cell_type": "markdown",
   "metadata": {},
   "source": [
    "## boucles avancées (bien pratiques)"
   ]
  },
  {
   "cell_type": "code",
   "execution_count": null,
   "metadata": {
    "collapsed": true
   },
   "outputs": [],
   "source": [
    "v0 =np.arange(10)\n",
    "v1 = np.random.rand(10)\n",
    "\n",
    "for val0, val1 in zip(v0, v1):\n",
    "    print('indice ',val0, ' et valeur associée ', val1)\n",
    "    \n",
    "# note: il était possible d'obtenir le même résultat avec enumerate:\n",
    "for i, val in enumerate(v1):\n",
    "    print('indice ',i, ' et valeur associée ', val)"
   ]
  },
  {
   "cell_type": "markdown",
   "metadata": {},
   "source": [
    "## Tests en bloc\n",
    "Exercice intéressant pour deux raisons\n",
    "\n",
    "1. connaitre cette syntaxe particulière\n",
    "1. comprendre les messages d'erreur lorsqu'on essaie de faire des tests sur une matrice sans ces instructions"
   ]
  },
  {
   "cell_type": "code",
   "execution_count": 32,
   "metadata": {
    "collapsed": true
   },
   "outputs": [
    {
     "name": "stdout",
     "output_type": "stream",
     "text": [
      "(1) NOT sup to 1\n",
      "(2) sup to 1\n"
     ]
    }
   ],
   "source": [
    "m = np.array([[1, 2], [3, 4]])\n",
    "\n",
    "if (m>1).all():\n",
    "    print(\"(1) sup to 1\")\n",
    "else:\n",
    "    print(\"(1) NOT sup to 1\")\n",
    "\n",
    "if (m>1).any():\n",
    "    print(\"(2) sup to 1\")\n",
    "else:\n",
    "    print(\"(2) NOT sup to 1\")"
   ]
  },
  {
   "cell_type": "code",
   "execution_count": 33,
   "metadata": {},
   "outputs": [
    {
     "ename": "ValueError",
     "evalue": "The truth value of an array with more than one element is ambiguous. Use a.any() or a.all()",
     "output_type": "error",
     "traceback": [
      "\u001b[0;31m---------------------------------------------------------------------------\u001b[0m",
      "\u001b[0;31mValueError\u001b[0m                                Traceback (most recent call last)",
      "\u001b[0;32m<ipython-input-33-d96d5c76712b>\u001b[0m in \u001b[0;36m<module>\u001b[0;34m\u001b[0m\n\u001b[1;32m      1\u001b[0m \u001b[0;31m# Une erreur très classique qu'il faut savoir comprendre (ie comprendre le message associé) puis corriger\u001b[0m\u001b[0;34m\u001b[0m\u001b[0;34m\u001b[0m\u001b[0;34m\u001b[0m\u001b[0m\n\u001b[1;32m      2\u001b[0m \u001b[0;34m\u001b[0m\u001b[0m\n\u001b[0;32m----> 3\u001b[0;31m \u001b[0;32mif\u001b[0m \u001b[0mm\u001b[0m \u001b[0;34m>\u001b[0m \u001b[0;36m0\u001b[0m\u001b[0;34m:\u001b[0m\u001b[0;34m\u001b[0m\u001b[0;34m\u001b[0m\u001b[0m\n\u001b[0m\u001b[1;32m      4\u001b[0m     \u001b[0mprint\u001b[0m\u001b[0;34m(\u001b[0m\u001b[0;34m\"les valeurs sont supérieures à 0\"\u001b[0m\u001b[0;34m)\u001b[0m\u001b[0;34m\u001b[0m\u001b[0;34m\u001b[0m\u001b[0m\n",
      "\u001b[0;31mValueError\u001b[0m: The truth value of an array with more than one element is ambiguous. Use a.any() or a.all()"
     ]
    }
   ],
   "source": [
    "# Une erreur très classique qu'il faut savoir comprendre (ie comprendre le message associé) puis corriger\n",
    "# (1) executer le bloc (2) lire le message d'erreur et le comprendre\n",
    "# (3) proposer une correction en accord avec le message du print\n",
    "\n",
    "if m > 0:\n",
    "    print(\"les valeurs sont supérieures à 0\")\n"
   ]
  },
  {
   "cell_type": "markdown",
   "metadata": {},
   "source": [
    "## Fonctions et vectorisation des fonctions de base\n",
    "Il est évidemment possible de définir des fonctions prenant des structures numpy en argument. Mais il est aussi possible de *vectoriser* une fonction qui n'était pas prévue pour fonctionner sur des matrices. Il s'agit d'une nouvelle manière d'éviter les boucles.\n",
    "\n",
    "1. On définit une fonction qui transforme UNE valeur\n",
    "1. On passe cette fonction dans ```np.vectorize```\n",
    "1. On peut appliquer cette fonction sur une matrice et chacune des cases sera traitée\n",
    "\n"
   ]
  },
  {
   "cell_type": "code",
   "execution_count": 6,
   "metadata": {},
   "outputs": [
    {
     "name": "stdout",
     "output_type": "stream",
     "text": [
      "[0 0 0 1 1 1 1]\n"
     ]
    }
   ],
   "source": [
    "def theta(x):           # signature classique \n",
    "    \"\"\"                  \n",
    "    Scalar implemenation of the Heaviside step function.\n",
    "    \"\"\"\n",
    "    if x >= 0:\n",
    "        return 1\n",
    "    else:\n",
    "        return 0\n",
    "    \n",
    "theta_vec = np.vectorize(theta)         # notation fonctionnelle (fonction sur des fonctions)\n",
    "res = theta_vec(np.array([-3,-2,-1,0,1,2,3]))\n",
    "print(res) # [0 0 0 1 1 1 1]"
   ]
  },
  {
   "cell_type": "markdown",
   "metadata": {},
   "source": [
    "## Vérification de l'état de la mémoire"
   ]
  },
  {
   "cell_type": "code",
   "execution_count": null,
   "metadata": {
    "collapsed": true
   },
   "outputs": [],
   "source": [
    "# dir() => donne aussi les variables d'environnement, il faut filter:\n",
    "print([s for s in dir() if '_' not in s])\n",
    "# pour connaitre le type:\n",
    "print([(s,eval('type({})'.format(s)))  for s in dir() if '_' not in s])\n",
    "# les commandes who et whos sont élégantes mais ne marchent qu'en ipython"
   ]
  },
  {
   "cell_type": "markdown",
   "metadata": {},
   "source": [
    "## Sauvegarde / chargement depuis numpy\n",
    "\n",
    "Ces fonctions ont déjà été présentées ci-dessus... Mais elles sont très utiles: on leur dédit une section ici.\n",
    "\n",
    "C'est la passerelle entre excel et numpy\n",
    "* Excel: save as csv\n",
    "* numpy : loadtxt\n",
    "* Ou l'inverse..."
   ]
  },
  {
   "cell_type": "code",
   "execution_count": null,
   "metadata": {
    "collapsed": true
   },
   "outputs": [],
   "source": [
    "np.savetxt(\"random-matrix.txt\", m5)\n",
    "# donne le fichier:\n",
    "# 1.000000000000000000e+00 2.000000000000000000e+00\n",
    "# 3.000000000000000000e+00 4.000000000000000000e+00\n",
    "np.savetxt(\"random-matrix.csv\", m5, fmt='%.5f', delimiter=',')\n",
    "# donne le fichier:\n",
    "# 1.00000,2.00000\n",
    "# 3.00000,4.00000"
   ]
  },
  {
   "cell_type": "code",
   "execution_count": null,
   "metadata": {
    "collapsed": true
   },
   "outputs": [],
   "source": [
    "# fonction symétrique de chargement\n",
    "m6 = np.loadtxt(\"ma-matrice.txt\", delimiter=',')"
   ]
  },
  {
   "cell_type": "markdown",
   "metadata": {},
   "source": [
    "## De numpy à python, usage de pickle\n",
    "\n",
    "[Intéressant mais hors du programme de la séance 1 datasciences]\n",
    "\n",
    "loadtxt/savetxt: idéal pour numpy...\n",
    "    * Chargement/sauvegarde des matrices, format lisible de l'extérieur si besoin\n",
    "    * Echanges possibles avec d'autres langages: matlab, JAVA...\n",
    "... Mais pour le python en général, on préfère pickle\n",
    "    * Serialization généralisé: pour les valeurs, les objets (dont les matrices), les listes, les dictionnaires...\n",
    "    * Très facile à utiliser\n",
    "    * Utilisé par tout le monde en python... Donc à connaitre\n"
   ]
  },
  {
   "cell_type": "code",
   "execution_count": null,
   "metadata": {
    "collapsed": true
   },
   "outputs": [],
   "source": [
    "import pickle as pkl     # obligatoire pour pouvoir l'utiliser\n",
    "# sauvegarde d'un dictionnaire\n",
    "pkl.dump({\"m1\":m1, \"m2\":m2}, open(\"deuxmatrices.pkl\",\"wb\"))\n",
    "# chargement de données\n",
    "data = pkl.load(open('deuxmatrices.pkl','rb')) # attention à donner un file + option lecture (pas juste un nom de fichier)\n",
    "print(data['m1']) # accès standard dans les dictionnaires"
   ]
  },
  {
   "cell_type": "markdown",
   "metadata": {},
   "source": [
    "## Matrice et type des données\n",
    "\n",
    "Toutes nos matrices étaient jusqu'ici des matrices de réels. Il est possible de définir (ou de transformer) des matrices qui contiennent des entiers voire des booléens en utilisant la syntaxe ci-dessous:"
   ]
  },
  {
   "cell_type": "code",
   "execution_count": null,
   "metadata": {
    "collapsed": true
   },
   "outputs": [],
   "source": [
    "# jouer avec les types des éléments internes aux matrices\n",
    "# une matrice d'entier\n",
    "matInt   = np.zeros((5,6), int) # matrice 5x6 de 0 (entiers)\n",
    "matBool  = np.zeros((5,6), bool) # matrice 5x6 de False (booléens)\n",
    "matBool2 = np.ones((5,6), bool) # matrice 5x6 de True (booléens)"
   ]
  },
  {
   "cell_type": "markdown",
   "metadata": {},
   "source": []
  }
 ],
 "metadata": {
  "kernelspec": {
   "display_name": "Python 3.8.10 64-bit",
   "language": "python",
   "name": "python3"
  },
  "language_info": {
   "codemirror_mode": {
    "name": "ipython",
    "version": 3
   },
   "file_extension": ".py",
   "mimetype": "text/x-python",
   "name": "python",
   "nbconvert_exporter": "python",
   "pygments_lexer": "ipython3",
   "version": "3.8.10"
  },
  "vscode": {
   "interpreter": {
    "hash": "916dbcbb3f70747c44a77c7bcd40155683ae19c65e1c03b4aa3499c5328201f1"
   }
  }
 },
 "nbformat": 4,
 "nbformat_minor": 2
}
