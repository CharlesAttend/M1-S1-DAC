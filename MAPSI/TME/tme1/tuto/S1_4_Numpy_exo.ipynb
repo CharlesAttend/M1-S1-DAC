{
 "cells": [
  {
   "cell_type": "markdown",
   "metadata": {},
   "source": [
    "# Exercices de synthèse\n",
    "## Génération de données et agrégation de matrices\n",
    "\n",
    "Nous souhaitons créer une matrice 10x3 dont la première colonne contient les indices 1 à 10 dans l'ordre. La seconde colonne contiendra des nombres aléatoires entre 0 et 1. La troisième colonne ne contiendra que des 0.\n",
    "Vous ajouterez ensuite une ligne en haut de la matrice contenant les indices de colonne 1 à 3.\n",
    "\n",
    "**NB:** vous pouvez créer des matrices dans des matrices, c'est-à-dire faire appel à des fonctions dans les []. \n",
    "\n",
    "**NB2:** à la fin du processus, on veut un ```np.array```, il faut soit travailler en numpy tout le temps, soit penser à convertir les listes python.\n",
    "\n",
    "Exemple de résultat possible:\n",
    "\n",
    "    1.00000    2.00000    3.00000\n",
    "    1.00000    0.03479    0.00000\n",
    "    2.00000    0.66074    0.00000\n",
    "    3.00000    0.15187    0.00000\n",
    "    4.00000    0.03640    0.00000\n",
    "    5.00000    0.62497    0.00000\n",
    "    6.00000    0.54774    0.00000\n",
    "    7.00000    0.68919    0.00000\n",
    "    8.00000    0.86146    0.00000\n",
    "    9.00000    0.72030    0.00000\n",
    "    10.0000    0.84590    0.00000\n"
   ]
  },
  {
   "cell_type": "code",
   "execution_count": 1,
   "metadata": {},
   "outputs": [],
   "source": [
    "import numpy as np\n"
   ]
  },
  {
   "cell_type": "markdown",
   "metadata": {},
   "source": [
    "## Calcul de moyennes, écarts-types (à la main *vs* fonction numpy)\n",
    "\n",
    "Soit la matrice de donnée suivante:\n",
    "```\n",
    "M = np.array([[8, 3, 7, 3, 2, 7, 9, 1, 2, 9],\n",
    "              [2, 1, 3, 7, 4, 2, 5, 4, 6, 0],\n",
    "              [5, 1, 4, 1, 1, 1, 0, 6, 5, 0]])\n",
    "```\n",
    "\n",
    "Construire la fonction ```stats``` qui prend en argument une matrice et retourne le vecteur contenant les moyennes des colonnes et un second vecteur contenant les écarts-types des colonnes.\n",
    "\n",
    "**Note:** vous ferez les calculs à la main, avec des boucles et vous comparerez les résultats avec les fonctions ```np.mean``` et ```np.std```.\n",
    "\n",
    "**Note 2:** une fonction définie par ```def mafonction(arg):``` peut retourner un tuple, c'est à dire plusieurs résultats agrégés dans une structure simple ```return vec1, vec2```. L'appel (le plus simple) à ma fonction sera de la forme: ```res1, res2 = mafonction(arg)```"
   ]
  },
  {
   "cell_type": "code",
   "execution_count": 6,
   "metadata": {},
   "outputs": [
    {
     "data": {
      "text/plain": [
       "array([[8, 3, 7, 3, 2, 7, 9, 1, 2, 9],\n",
       "       [2, 1, 3, 7, 4, 2, 5, 4, 6, 0],\n",
       "       [5, 1, 4, 1, 1, 1, 0, 6, 5, 0]])"
      ]
     },
     "execution_count": 6,
     "metadata": {},
     "output_type": "execute_result"
    }
   ],
   "source": [
    "M = np.array([[8, 3, 7, 3, 2, 7, 9, 1, 2, 9],\n",
    "              [2, 1, 3, 7, 4, 2, 5, 4, 6, 0],\n",
    "              [5, 1, 4, 1, 1, 1, 0, 6, 5, 0]])\n",
    "            "
   ]
  },
  {
   "cell_type": "markdown",
   "metadata": {},
   "source": [
    "## Table de contingence en numpy\n",
    "\n",
    "Construction d'une liste de notes d'étudiants (50 notes entre 0 et 20): l'exercice est le même que celui proposé dans la partie python, mais **à réaliser entièrement dans l'environnement numpy**.\n",
    "\n",
    "* Génération d'un vecteur de notes tirées aléatoirement à l'aide de la fonction: ```np.random.randint``` \n",
    "* Création d'une nouvelle liste comptant combien de note de chaque niveau apparaissent dans la liste (table de contingence)\n",
    "* Création d'une troisième liste contenant toutes les notes supérieures à 10\n",
    "    \n",
    "Affichage des deux listes et vérification\n",
    "\n",
    "Exercice sur la gestion des listes et des boucles."
   ]
  },
  {
   "cell_type": "code",
   "execution_count": null,
   "metadata": {},
   "outputs": [],
   "source": []
  },
  {
   "cell_type": "markdown",
   "metadata": {},
   "source": [
    "## Premier contact avec la documentation\n",
    "\n",
    "Vous allez générer la matrice suivante:\n",
    "```\n",
    "[[0 1 2 0 1 2]\n",
    " [0 1 2 0 1 2]\n",
    " [0 1 2 0 1 2]\n",
    " [0 1 2 0 1 2]\n",
    " [0 1 2 0 1 2]\n",
    " [0 1 2 0 1 2]\n",
    " [0 1 2 0 1 2]\n",
    " [0 1 2 0 1 2]\n",
    " [0 1 2 0 1 2]\n",
    " [0 1 2 0 1 2]]\n",
    "```\n",
    "Cette génération peut se faire en une ligne à condition d'utiliser la fonction ```np.tile``` dont la documentation se trouve : \n",
    "https://numpy.org/doc/stable/reference/generated/numpy.tile.html\n",
    "\n",
    "Au-delà de la question formelle, l'enjeu est d'apprendre à se servir de la documentation de numpy."
   ]
  },
  {
   "cell_type": "code",
   "execution_count": 5,
   "metadata": {},
   "outputs": [
    {
     "name": "stdout",
     "output_type": "stream",
     "text": [
      "[[0 1 2 0 1 2]\n",
      " [0 1 2 0 1 2]\n",
      " [0 1 2 0 1 2]\n",
      " [0 1 2 0 1 2]\n",
      " [0 1 2 0 1 2]\n",
      " [0 1 2 0 1 2]\n",
      " [0 1 2 0 1 2]\n",
      " [0 1 2 0 1 2]\n",
      " [0 1 2 0 1 2]\n",
      " [0 1 2 0 1 2]]\n"
     ]
    }
   ],
   "source": []
  },
  {
   "cell_type": "markdown",
   "metadata": {},
   "source": [
    "# Manipulation standard de matrices\n",
    "\n",
    "1. Générer une matrice ```10x3``` de valeurs distribuées selon une loi normale centrée réduite (```np.random.randn```)\n",
    "1. Faites en sorte que l'écart-type des données passe à 4 et vérifier que c'est le approximativement cas avec la fonction ```np.std```\n",
    "1. Centrer la première colonne sur 10, la seconde sur 12 et la troisième sur 14. Vérifier que les moyennes sont bonnes avec ```np.mean(axis=0)``` <BR> **NB:** il est impératif de travailler sur la dispersion avant le centrage (vérifiez cette affirmation en inversant les deux réponses si vous avez un doute)\n",
    "1. Seuiller toutes les valeurs inférieures à 5 avec ```np.maximum```\n",
    "1. Seuiller toutes les valeurs supérieures à 18\n",
    "1. Compter combien de valeurs se situent entre 8 et 12 (exclus)"
   ]
  },
  {
   "cell_type": "markdown",
   "metadata": {},
   "source": []
  },
  {
   "cell_type": "code",
   "execution_count": null,
   "metadata": {},
   "outputs": [],
   "source": []
  },
  {
   "cell_type": "markdown",
   "metadata": {},
   "source": [
    "# Travail en plus grande dimension\n",
    "\n",
    "numpy ne vous limite pas à 2 dimensions...\n",
    "1. Créer un cube ```C``` de dimension ```4x3x2``` (avec la fonction ```np.zeros``` par exemple). Dans la suite on choisira de voire cette structure de données comme 4 matrices ```3x2```. Vérifier que vous pouvez acceder à la matrice ```i``` par la commande ```C[i]```.\n",
    "1. Remplir ce cube avec 15 valeurs aléatoires tirées entre 0 et 10 et positionnées dans des cases aléatoires\n",
    "1. Diviser le cube par des facteurs de normalisation de sorte à ce que chaque matrice ```3x2``` ait une somme de ```1```. Afficher les matrices pour vérifier *à l'oeil* que les sommes sont bonnes.\n",
    "1. Remplacer la sous-matrice ```2``` par une matrice remplie de 1.\n",
    "\n"
   ]
  },
  {
   "cell_type": "code",
   "execution_count": null,
   "metadata": {},
   "outputs": [],
   "source": []
  },
  {
   "cell_type": "markdown",
   "metadata": {},
   "source": [
    "### Traduction de matrice\n",
    "* Générer une matrice aléatoire `m` de taille (15,2) contenant des indices aléatoires entre 0 et 3.\n",
    "* Construire le dictionnaire `dico` {1:'titi', 2:'toto', ...}\n",
    "* La méthode `get` du dictionnaire permet de traduire une valeur de `m`\n",
    "* Utiliser la commande `np.vectorize` pour traduire en une ligne et sans boucle toute la matrice `m` en une matrice `mtxt`"
   ]
  },
  {
   "cell_type": "code",
   "execution_count": null,
   "metadata": {
    "collapsed": true
   },
   "outputs": [],
   "source": []
  }
 ],
 "metadata": {
  "kernelspec": {
   "display_name": "Python 3 (ipykernel)",
   "language": "python",
   "name": "python3"
  },
  "language_info": {
   "codemirror_mode": {
    "name": "ipython",
    "version": 3
   },
   "file_extension": ".py",
   "mimetype": "text/x-python",
   "name": "python",
   "nbconvert_exporter": "python",
   "pygments_lexer": "ipython3",
   "version": "3.9.13"
  }
 },
 "nbformat": 4,
 "nbformat_minor": 2
}
