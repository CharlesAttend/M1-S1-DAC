{
 "cells": [
  {
   "cell_type": "markdown",
   "metadata": {},
   "source": [
    "# Tutoriel d'introduction à Python\n",
    "\n",
    "## Choix des outils\n",
    "\n",
    "Nous allons travailler en Jupyter-notebook au cours du semestre et nous reposer sur des packages scientifiques (numpy, matplotlib).\n",
    "\n",
    "### Etrangement, nous allons donc taper du code dans un navigateur web !!\n",
    "\n",
    "* C'est contre nature...\n",
    "* ... Mais c'est très simple à lancer et ça permet de se focaliser sur les algorithmes\n",
    "\n",
    "### Nous allons faire du python... Mais avec des outils de haut niveau.\n",
    "\n",
    "* Le fait d'exploiter très largement ```numpy``` permet d'avoir une syntaxe et une logique assez différentes de l'UE L1 *Eléments de programmation* que certains d'entre vous suivent en parallèle.\n",
    "* Il reste évidemmment une base python à connaitre (variable, clause, boucle, etc...) sur laquelle les messages entre les UE peuvent diverger. Les divergences nous semblent malgré tout minimes et acceptables par les étudiants avec la certitudes que les UEs suivantes de programmation leur permettront de tout faire rentrer dans l'ordre.\n",
    "\n",
    "## Pré-requis et lancement de l'UE.\n",
    "\n",
    "L'UE L1 Data-sciences est pensée pour les étudiants ayant déjà fait du python. Ainsi, l'usage des variables, la syntaxe des clauses et boucles est traitée rapidement pour la mise à niveau de ceux qui ont des lacunes ou qui ont passé une année sans pratique. Les prérequis de l'UE sont très légers mais néanmoins non négligeables pour quelqu'un qui n'aurait jamais programmé.\n",
    "\n",
    "Les consignes générales sont les suivantes:\n",
    "\n",
    "1. pour travailler dans de bonnes conditions, commencer par installer un environnement de développement python sur votre machine personnelle.\n",
    "    * Option simple, Anaconda https://www.anaconda.com/products/individual\n",
    "        * C'est lourd (~500Mo) mais tout est inclus (python, packages scientiques) et ça marche sur linux, mac ou windows\n",
    "        * Il y a plein de tutoriel pour lancer l'environnement, par exemple: https://openclassrooms.com/fr/courses/6204541-initiez-vous-a-python-pour-lanalyse-de-donnees/6204548-installez-python-et-anaconda\n",
    "    * Option -un peu- plus complexe: travailler dans un environnement plus riche type visual studio code: https://code.visualstudio.com/docs/datascience/jupyter-notebooks\n",
    "1. Travailler très sérieusement cette première séance pour pouvoir accéder à la suite de l'UE.\n",
    "1. Interroger votre chargé de TD et vos collègues de promotion pour dépasser cette étape technique.\n",
    "\n"
   ]
  },
  {
   "cell_type": "markdown",
   "metadata": {},
   "source": [
    "# Usage (basique) des notebooks\n",
    "\n",
    "Les notebooks sont composés de cellules de textes & images (comme celle-ci) et de cellule de code qui sont exécutables. Nous parlerons indifféremment de bloc, cellule ou boite dans la suite.\n",
    "\n",
    "**[Commande de base]** Dans l'environnement notebook, il faut taper SHIFT + RETURN pour exécuter le contenu d'une *boite*\n",
    "\n",
    "**[Autres commandes]** Les menus ci-dessus (associés à des raccourcis claviers) permettent de créer de nouvelles boites, d'en supprimer et de les inverser (flèches).\n",
    "\n",
    "* Tester ces différentes fonctionnalités: créer puis supprimer une boite, sélectionner une boite et la faire monter ou descendre.\n",
    "\n",
    "\n",
    "Vérifiez toujours que vous êtes en python **3** (en haut à droite) dans le cadre des TME"
   ]
  },
  {
   "cell_type": "markdown",
   "metadata": {},
   "source": [
    "## Types de base python et commande d'affichage\n",
    "Les variables ont un type (entier, réel, etc...), mais ce type est inféré par python et non déclaré\n",
    "\n",
    "Toutes les lignes ou fin de lignes commençant par # sont des commentaires qui ne sont pas interprétés par python"
   ]
  },
  {
   "cell_type": "code",
   "execution_count": 1,
   "metadata": {
    "collapsed": true
   },
   "outputs": [
    {
     "name": "stdout",
     "output_type": "stream",
     "text": [
      "1\n",
      "45\n"
     ]
    }
   ],
   "source": [
    "a = 1 # python sait qu'il s'agit d'un entier, la valeur est stockée dans a\n",
    "print(a) # affichage\n",
    "a = 45 # la valeur précédente est perdue, a vaut maintenant 45\n",
    "print(a)\n",
    "\n",
    "# Vérifier que vous êtes en mesure:\n",
    "#   (1) d'exécuter cette boite de code\n",
    "#   (2) de voir où s'affichent les résultats (1 et 45) => Normalement, immédiatement sous la boite"
   ]
  },
  {
   "cell_type": "code",
   "execution_count": 2,
   "metadata": {
    "collapsed": true
   },
   "outputs": [
    {
     "name": "stdout",
     "output_type": "stream",
     "text": [
      "63.5\n"
     ]
    }
   ],
   "source": [
    "b = 18.5 # création d'un réel\n",
    "b = b + a # récupération, manipulation, etc...\n",
    "print(b)"
   ]
  },
  {
   "cell_type": "code",
   "execution_count": null,
   "metadata": {
    "collapsed": true
   },
   "outputs": [],
   "source": [
    "# chaine de caractères: on peut utiliser les \" ou les '\n",
    "s  = \"Bonjour et bienvenu à la formation continue\"\n",
    "s2 = 'une autre chaine'\n",
    "print(s)\n",
    "# une chaine de caractères est un tableau...\n",
    "# récupération du 3ème caractère (Attention, les indices commencent à 0)\n",
    "print(\"Le 3ème caractère est : \", s[2])\n",
    "###\n",
    "message = \"tutoriel python\"\n",
    "# affichage formatté\n",
    "print(\"a = {}, mess = {}\".format(a,message))\n",
    "print(\"a \", a, \" \", message)"
   ]
  },
  {
   "cell_type": "markdown",
   "metadata": {},
   "source": [
    "### Principal risque avec les notebooks:\n",
    "\n",
    "La pile python dépend de l'ordre d'execution des boites... Garre aux mauvaises surprises.\n",
    "\n",
    "L'exemple ci-dessous illustre ce risque:\n",
    "\n",
    "1. exécution de A puis B puis C: affichage = 2\n",
    "1. exécution de B puis A puis C OU A puis B puis de nouveau A puis C: affichage = 1"
   ]
  },
  {
   "cell_type": "code",
   "execution_count": 5,
   "metadata": {
    "collapsed": true
   },
   "outputs": [],
   "source": [
    "# boite A\n",
    "v=1"
   ]
  },
  {
   "cell_type": "code",
   "execution_count": 3,
   "metadata": {
    "collapsed": true
   },
   "outputs": [],
   "source": [
    "# boite B\n",
    "v=2"
   ]
  },
  {
   "cell_type": "code",
   "execution_count": 6,
   "metadata": {},
   "outputs": [
    {
     "name": "stdout",
     "output_type": "stream",
     "text": [
      "1\n"
     ]
    }
   ],
   "source": [
    "# boite C\n",
    "print(v)"
   ]
  },
  {
   "cell_type": "markdown",
   "metadata": {},
   "source": [
    "### Les fonctions mathématiques avancées\n",
    "\n",
    "Pour plus d'informations:\n",
    "* https://docs.python.org/3/library/math.html\n",
    "* https://docs.python.org/3/library/random.html\n",
    "\n",
    "**ATTENTION:** ces fonctions sont très utiles... Mais très rapidement, nous allons travailler dans l'univers ```numpy``` où les fonctions mathématiques sont redéfinies.\n",
    "\n",
    "1. Passer rapidement sur la boite ci-dessous\n",
    "1. Noter dans un coin de votre tête l'usage de ces fonctions\n",
    "1. Se rappeler que dans la suite de l'UE, les fonctions random, cos, sin, ... seront celles de numpy et pas celles du python de base.\n",
    "\n",
    "Les tutoriels sont donc assez denses et demandent de la prise de recul pour ne pas s'emmêler entre les différentes bibliothèques."
   ]
  },
  {
   "cell_type": "code",
   "execution_count": 8,
   "metadata": {},
   "outputs": [
    {
     "name": "stdout",
     "output_type": "stream",
     "text": [
      "3.141592653589793\n",
      "0.5000000000000001\n",
      "0.7239620887242425\n",
      "16\n"
     ]
    }
   ],
   "source": [
    "# récupération de valeurs et opérateurs spécifiques\n",
    "# ... Pour lesquels il faut charger des bibliothèques spécifiques. \n",
    "import math \n",
    "\n",
    "print(math.pi)\n",
    "theta = math.pi/3 # une variable comme une autre, nous sommes libre du choix des variables\n",
    "print(math.cos(theta))\n",
    "\n",
    "# générer des nombres aléatoires\n",
    "import random\n",
    "r = random.random() # entre 0 et 1\n",
    "print(r)\n",
    "r2 = random.randint(2, 33)\n",
    "print(r2)\n",
    "\n",
    "# exécuter plusieurs fois cette boite pour vérifier que les tirages aléatoires sont bien différents à chaque fois."
   ]
  },
  {
   "cell_type": "markdown",
   "metadata": {},
   "source": [
    "### Les listes et les dictionnaires\n",
    "\n",
    "Les listes et dictionnaires jouent un role très important en python, nous allons étudier cela maintenant\n",
    "\n",
    "Toutes les informations sur: https://docs.python.org/3/tutorial/datastructures.html\n",
    "\n",
    "Note: comme dans l'immense majorité des langages de programmation, les indices de listes/tableaux démarrent à $0$ et se terminent à $longueur-1$. <BR>\n",
    "```\n",
    "maliste = [5, 6, 2]\n",
    "maliste[0] # =5\n",
    "maliste[1] # =6\n",
    "maliste[2] # =2\n",
    "maliste[3] # ERREUR: la case n'existe pas !\n",
    "```\n",
    "\n",
    "<font color='red'> **ATTENTION:**</font> comme pour la boite précédente, il faut maitriser les listes... mais nous allons rapidement passer à un usage des matrices ```numpy```. Il ne faudra pas confondre les objets listes et matrices !!!"
   ]
  },
  {
   "cell_type": "code",
   "execution_count": 3,
   "metadata": {
    "collapsed": true
   },
   "outputs": [
    {
     "name": "stdout",
     "output_type": "stream",
     "text": [
      "[]\n",
      "[12, 4, 6, 8]\n",
      "4\n",
      "[-1, 4, 6, 8]\n",
      "[-1, 6, 8]\n",
      "[-1, 6]\n"
     ]
    }
   ],
   "source": [
    "# création d'une liste:\n",
    "maliste = [] # equivalent de maliste = list()\n",
    "print(maliste)\n",
    "# ajout d'un élément\n",
    "maliste.append(12)\n",
    "# fusion de deux listes\n",
    "listefus = maliste + [4, 6, 8]\n",
    "print(listefus)\n",
    "# récupération de la longueur d'une liste:\n",
    "print(len(listefus))\n",
    "# modification d'une valeur dans la liste:\n",
    "listefus[0] = -1\n",
    "print(listefus)\n",
    "# suppression d'une valeur dans la liste (par indice)\n",
    "listefus.pop(1)\n",
    "print(listefus)\n",
    "# suppression d'une valeur dans la liste (par valeur)\n",
    "listefus.remove(8)\n",
    "print(listefus)"
   ]
  },
  {
   "cell_type": "code",
   "execution_count": null,
   "metadata": {
    "collapsed": true
   },
   "outputs": [],
   "source": [
    "# Opérateur sur les listes\n",
    "print(sum(listefus))\n",
    "# trouver tous les éléments uniques d'une liste => créer un set (= ensemble de valeur unique), cf les structures de données en L2\n",
    "print(set([2,15,3,9,2,15,15,15]))\n",
    "# ordonner\n",
    "li = [2,15,3,9,2,15,15,15]\n",
    "li.sort()\n",
    "print(li)\n",
    "# compter un élément d'une liste:\n",
    "print([2,15,3,9,2,15,15,15].count(15))"
   ]
  },
  {
   "cell_type": "markdown",
   "metadata": {},
   "source": [
    "### Type de base *vs* objets\n",
    "\n",
    "\n",
    "La programmation objet et les pointeurs sont des concepts avancés en programmation... On les utilise cependant implicitement dès qu'on commence à programmer. Les concepts suivants sont donc difficiles à appréhender et un peu hors du programme de l'UE: c'est un premier contact avec ce concept."
   ]
  },
  {
   "cell_type": "code",
   "execution_count": 5,
   "metadata": {
    "collapsed": true
   },
   "outputs": [
    {
     "name": "stdout",
     "output_type": "stream",
     "text": [
      "18 2\n",
      "li_a [2, 4, 6, 8, 12]\n",
      "li_b [2, 4, 6, 8, 12]\n",
      "li_a [2, 4, 6, 8, 12]\n",
      "li_c [2, 4, 6, 8, 12, 42]\n"
     ]
    }
   ],
   "source": [
    "# les types de base (entier, réel, etc) se comportent de manière intuitive:\n",
    "a = 2\n",
    "b = a\n",
    "a = 18 # aucun impact sur b\n",
    "print(a,b)\n",
    "\n",
    "# ATTENTION, les listes sont des objets != type de base:\n",
    "li_a = [2, 4, 6, 8]\n",
    "li_b = li_a # il n'y a qu'une liste... partagée entre deux variables li_a et li_b\n",
    "li_b.append(12) # modification de l'objet partagé\n",
    "print(\"li_a:\" , li_a) # on peut acceder à l'objet par la variable li_a...\n",
    "print(\"li_b:\" , li_b) # ... ou la variable li_b => C'est le même objet.\n",
    "\n",
    "# Pour eviter cela, on peut explicitement dupliquer l'objet\n",
    "li_c = li_a.copy() # li_c est alors complètement différent de li_a\n",
    "li_c.append(42)\n",
    "print(\"li_a:\" , li_a) # li_a inchangée\n",
    "print(\"li_c:\" , li_c) # li_c compte un élément de plus"
   ]
  },
  {
   "cell_type": "markdown",
   "metadata": {},
   "source": [
    "### Dictionnaire\n",
    "\n",
    "Le dictionnaire est une structure de données importante. En python, elle est même centrale. L'idée est d'associer une clé et une valeur\n",
    "```\n",
    "clé 1 => valeur 1\n",
    "clé 2 => valeur 2\n",
    "etc...\n",
    "```\n",
    "\n",
    "C'est une manière élégante de stocker des informations. On peut ajouter des clés (en écriture), modifier la valeur associée à une clé (toujours en écriture) ou lire la valeur associée à une clé (lecture)"
   ]
  },
  {
   "cell_type": "code",
   "execution_count": 9,
   "metadata": {
    "collapsed": true
   },
   "outputs": [
    {
     "name": "stdout",
     "output_type": "stream",
     "text": [
      "Accès à la valeur associée à 'champ' =>  23\n",
      "dictionnaire modifié: {'champ1': 23, 'champ2': [12, 9.5], 'champ3': 65}\n"
     ]
    }
   ],
   "source": [
    "# dictionnaire = table de hash\n",
    "# construction\n",
    "mondico = {'champ1': 23, 'champ2': [12, 9.5]}\n",
    "# Récupération d'une valeur\n",
    "print(\"Accès à la valeur associée à 'champ' => \" , mondico['champ1'])\n",
    "# ajout d'un champ\n",
    "mondico['champ3'] = 65\n",
    "print(\"dictionnaire modifié:\", mondico)"
   ]
  },
  {
   "cell_type": "markdown",
   "metadata": {},
   "source": [
    "## Boucles et tests\n",
    "\n",
    "Pour écrire des algorithmes, nous devons faire des boucles sur des structures de données et tester des grandeurs...\n",
    "\n",
    "Pas d'accolades en python: les blocs de code sont délimités par des tabulations (ou 4 espaces)."
   ]
  },
  {
   "cell_type": "code",
   "execution_count": null,
   "metadata": {
    "collapsed": true
   },
   "outputs": [],
   "source": [
    "# Comment marche un if\n",
    "i=0\n",
    "if i<30:\n",
    "    i = i + 10;\n",
    "    print(\"i est inferieur a trente\")\n",
    "else:                                 # le else est optionnel \n",
    "    print(\"i est superieur a trente\")\n",
    "\n",
    "i=0\n",
    "if i==1:\n",
    "    print(\"cas 1\")\n",
    "elif i==2:\n",
    "    print(\"cas 2\")\n",
    "\n",
    "# appartenance à une liste\n",
    "a = 12\n",
    "li = [8,10,12,14]\n",
    "if a in li:\n",
    "    print(\"trouvé !\")"
   ]
  },
  {
   "cell_type": "code",
   "execution_count": 15,
   "metadata": {},
   "outputs": [
    {
     "name": "stdout",
     "output_type": "stream",
     "text": [
      "l1 == l2 True\n",
      "l1 == l2 True\n"
     ]
    }
   ],
   "source": [
    "# Egalité entre objet \n",
    "# Notion objet = un peu hors programme... Mais néanmoins important car ça a un impact direct sur les tests d'égalité\n",
    "# Heureusement, en python avec les listes, ça se passe bien (= conforme à l'intuition)\n",
    "\n",
    "#Egalité référentielle (il n'y a qu'un objet)\n",
    "l1 = l2 = [1,2]\n",
    "# ou bien\n",
    "l1 = [1,2]\n",
    "l2 = l1\n",
    "\n",
    "print(\"l1 == l2\", l1 == l2) # True => Intuitif\n",
    "\n",
    "# cas DIFFICILE\n",
    "# Construction de deux objets distincts mais contenant les mêmes valeurs\n",
    "l1 = [1,2]\n",
    "l2 = [1,2]\n",
    "\n",
    "print(\"l1 == l2\", l1 == l2) # True => python fait bien un test pour vérifier si tous les éléments sont égaux\n"
   ]
  },
  {
   "cell_type": "code",
   "execution_count": 16,
   "metadata": {
    "collapsed": true
   },
   "outputs": [
    {
     "name": "stdout",
     "output_type": "stream",
     "text": [
      "0\n",
      "1\n",
      "2\n",
      "3\n",
      "4\n",
      "5\n",
      "6\n",
      "7\n",
      "8\n",
      "9\n",
      "===\n",
      "12\n",
      "43\n",
      "90\n",
      "1\n",
      "6\n"
     ]
    }
   ],
   "source": [
    "# Construction d'un boucle for:\n",
    "for i in range(10): # sol 1: range => i va prendre les valeurs entre 0 et 9\n",
    "    print(i) # ATTENTION: l'indentation donne la portée de la boucle\n",
    "print('===') # je suis sorti de la boucle (parce que mon code est revenu à gauche)\n",
    "# vous pouvez tester le décalage de cette dernière commande pour voir la différence\n",
    "\n",
    "li = [12, 43, 90, 1, 6] \n",
    "for i in li:        # sol 2: parcours des valeurs d'une liste\n",
    "    print(i)"
   ]
  },
  {
   "cell_type": "code",
   "execution_count": null,
   "metadata": {
    "collapsed": true
   },
   "outputs": [],
   "source": [
    "# les autres boucles\n",
    "i = 0\n",
    "while i<10: # tant que i inférieur à 10\n",
    "    i = i+1\n",
    "    print(i)"
   ]
  },
  {
   "cell_type": "markdown",
   "metadata": {},
   "source": [
    "## Opérateurs logiques\n",
    "\n",
    "Les principaux opérateurs sont ```and```, ```or``` et ```not```."
   ]
  },
  {
   "cell_type": "code",
   "execution_count": 17,
   "metadata": {
    "collapsed": true
   },
   "outputs": [
    {
     "data": {
      "text/plain": [
       "True"
      ]
     },
     "execution_count": 17,
     "metadata": {},
     "output_type": "execute_result"
    }
   ],
   "source": [
    "print(True and False)\n",
    "# False\n",
    "print(not False)\n",
    "# True\n",
    "print(True or False)\n",
    "# True"
   ]
  },
  {
   "cell_type": "markdown",
   "metadata": {},
   "source": [
    "## Les boucles de compréhension\n",
    "\n",
    "On peut s'amuser à créer des boucles directement dans les listes\n",
    "\n",
    "  (1) C'est assez illisible et pas recommandé dans un premier temps\n",
    "  \n",
    "  (2) C'est très rapide en python par rapport à une boucle traditionnelle: on s'en sert régulièrement ensuite."
   ]
  },
  {
   "cell_type": "code",
   "execution_count": 18,
   "metadata": {
    "collapsed": true
   },
   "outputs": [
    {
     "name": "stdout",
     "output_type": "stream",
     "text": [
      "[0, 1, 2, 3, 4, 5, 6, 7, 8, 9]\n",
      "[[0, 1, 2, 3, 4], [10, 11, 12, 13, 14], [20, 21, 22, 23, 24], [30, 31, 32, 33, 34], [40, 41, 42, 43, 44]]\n",
      "[1, 5, 7, 11, 13, 17, 19]\n"
     ]
    }
   ],
   "source": [
    "# création de listes en utilisant des boucles imbriquées:\n",
    "a = [n for n in range(10)]\n",
    "m = [[n+m*10 for n in range(5)] for m in range(5)]\n",
    "print(a)\n",
    "print(m)\n",
    "\n",
    "# les creations complexes... Par exemple: tous les entiers jusqu'à 20 sauf ceux qui divisent 2 ou 3\n",
    "a = [n for n in range(20) if n%2 != 0 and n%3 !=0]\n",
    "print(a)"
   ]
  },
  {
   "cell_type": "markdown",
   "metadata": {},
   "source": [
    "## Définition de nouvelle fonction\n",
    "\n",
    "Pour pouvoir refaire plusieurs fois des opérations complexes, il faut factoriser le code dans une fonction puis faire appel à cette fonction plusieurs fois.\n",
    "\n",
    "Par exemple, le calcul d'un angle entre 2 vecteurs en 2 dimensions:\n",
    "$$ \\widehat{\\vec{u},\\vec{v}} = \\text{acos}\\left (\\frac{\\vec{u}\\cdot \\vec{v}}{\\|\\vec{u}\\|\\|\\vec{v}\\|}\\right), \\qquad \\vec{u}\\cdot \\vec{v} = u_{x}v_{x} + u_{y}v_{y}, \\qquad \\|\\vec{u}\\| = \\sqrt{u_{x}u_{x} + u_{y}u_{y}}$$"
   ]
  },
  {
   "cell_type": "code",
   "execution_count": 9,
   "metadata": {},
   "outputs": [
    {
     "name": "stdout",
     "output_type": "stream",
     "text": [
      "1.5707963267948966\n",
      "Help on function calcul_angle in module __main__:\n",
      "\n",
      "calcul_angle(u, v)\n",
      "    Manuel de la fonction\n",
      "    Calcul de l'angle entre le vecteur u et le vecteur v\n",
      "\n"
     ]
    }
   ],
   "source": [
    "# travail amont : bien identifier les entrées et les sorties\n",
    "# je veux travailler sur deux vecteurs (qui seront ici des listes de 2 valeurs)\n",
    "def calcul_angle(u, v):\n",
    "    \"\"\"                  \n",
    "    Manuel de la fonction\n",
    "    Calcul de l'angle entre le vecteur u et le vecteur v. u et v dans R^2\n",
    "    \"\"\"\n",
    "    return math.acos( (u[0]*v[0]+u[1]*v[1]) / (math.sqrt(u[0]*u[0]+u[1]*u[1]) * math.sqrt(v[0]*v[0]+v[1]*v[1])))\n",
    "\n",
    "# test de la nouvelle fonction (qui sera accessible partout dans la suite)\n",
    "print(calcul_angle([0,1], [2, 0]))\n",
    "\n",
    "# affichage de l'aide si vous avez mis les bons commentaires\n",
    "help(calcul_angle)"
   ]
  },
  {
   "cell_type": "markdown",
   "metadata": {},
   "source": [
    "## Usage de fonctions définies dans un fichier .py\n",
    "\n",
    "Note pour les séances ultérieures, NE PAS FAIRE DANS LA PREMIERE SEANCE\n",
    "\n",
    "Il est possible de mixer du python classique avec un usage notebook. Celà devient même essentiel quand les programmes se complexifient.\n",
    "\n",
    "1. Avec n'importe quel éditeur, créer le fichier `mesfonctions.py` contenant le code suivant:\n",
    "```python\n",
    "# fichier mesfonctions.py\n",
    "import numpy as np\n",
    "def gererate_ones(n):\n",
    "    return [1]*n # une liste de 1 de taille n\n",
    "```\n",
    "1. Sauver le fichier `mesfonctions.py dans le même répertoire que le notebook\n",
    "1. Exécuter le code de la boite ci-dessous"
   ]
  },
  {
   "cell_type": "code",
   "execution_count": 5,
   "metadata": {},
   "outputs": [
    {
     "name": "stdout",
     "output_type": "stream",
     "text": [
      "[1. 1. 1. 1. 1. 1. 1. 1. 1. 1. 1. 1.]\n"
     ]
    }
   ],
   "source": [
    "from mesfonctions import *\n",
    "\n",
    "a = gererate_ones(12)\n",
    "print(a)"
   ]
  }
 ],
 "metadata": {
  "kernelspec": {
   "display_name": "Python 3 (ipykernel)",
   "language": "python",
   "name": "python3"
  },
  "language_info": {
   "codemirror_mode": {
    "name": "ipython",
    "version": 3
   },
   "file_extension": ".py",
   "mimetype": "text/x-python",
   "name": "python",
   "nbconvert_exporter": "python",
   "pygments_lexer": "ipython3",
   "version": "3.9.13"
  }
 },
 "nbformat": 4,
 "nbformat_minor": 2
}
