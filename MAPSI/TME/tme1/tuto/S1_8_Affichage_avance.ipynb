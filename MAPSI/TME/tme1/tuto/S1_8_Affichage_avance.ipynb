{
 "cells": [
  {
   "cell_type": "markdown",
   "metadata": {},
   "source": [
    "# Contours, frontière de décision\n",
    "\n",
    "Afficher une frontière de décision est une opération assez complexe dédiée au problème jouet en 2D. C'est un outil important pour bien comprendre comment fonctionne un classifieur de données."
   ]
  },
  {
   "cell_type": "code",
   "execution_count": null,
   "metadata": {
    "collapsed": true
   },
   "outputs": [],
   "source": [
    "import numpy as np\n",
    "import matplotlib.pyplot as plt\n",
    "from mpl_toolkits.mplot3d import Axes3D\n",
    "%matplotlib inline # %matplotlib notebook"
   ]
  },
  {
   "cell_type": "code",
   "execution_count": null,
   "metadata": {
    "collapsed": true
   },
   "outputs": [],
   "source": [
    "# definition d'un dataset\n",
    "# Input = nb points, niveau de bruit\n",
    "# Out = points 2D dans dans deux classes (les classes sont dans Y)\n",
    "\n",
    "def dataset_gaussian( napp=500, sigma=0.5):\n",
    "    mu = 2\n",
    "    x = np.vstack((np.random.randn(napp,2)*sigma+mu, np.random.randn(napp,2)*sigma-mu));\n",
    "    y = np.vstack((np.ones((napp,1)), np.ones((napp,1))*-1));\n",
    "    return x,y \n",
    "\n",
    "# apprentissage d'une fonction de décision linéaire (Cours 9/10 MAPSI)\n",
    "# f(x) = w x\n",
    "# pour chaque x, f(x) est une bonne approximation du y associé\n",
    "# IN = x,y\n",
    "# OUT = w\n",
    "def linear_decision_mc(xapp, yapp):\n",
    "    return np.linalg.solve(xapp.T.dot(xapp), xapp.T.dot(yapp))"
   ]
  },
  {
   "cell_type": "markdown",
   "metadata": {},
   "source": [
    "## Génération d'un jeu de données et construction d'un classifieur (MAPSI séance 9/10)\n",
    "\n",
    "* Générer 2 gaussiennes correspondant à 2 classes\n",
    "* Afficher les points (distinguer les deux classes et choisir deux couleurs\n"
   ]
  },
  {
   "cell_type": "code",
   "execution_count": null,
   "metadata": {},
   "outputs": [],
   "source": [
    "# ATTENTION AUX NOTATIONS\n",
    "# x = points observés en 2D\n",
    "# y = étiquettes de classification +1/-1\n",
    "# w = paramètre d'un modèle de classification linéaire (MAPSI 9)\n",
    "x,y = dataset_gaussian( )\n",
    "\n",
    "# tracé classique\n",
    "plt.figure()\n",
    "plt.plot(x[y[:,0]>0,0], x[y[:,0]>0,1], 'r+')\n",
    "plt.plot(x[y[:,0]<0,0], x[y[:,0]<0,1], 'bo')\n"
   ]
  },
  {
   "cell_type": "code",
   "execution_count": null,
   "metadata": {},
   "outputs": [],
   "source": [
    "# apprentissage du modèle: f(x) = x w \n",
    "# tel que f(x) soit une bonne approximation de y (cours MAPSI 9/10)\n",
    "w = linear_decision_mc(x,y)\n",
    "print(\"modèle : \",w)"
   ]
  },
  {
   "cell_type": "markdown",
   "metadata": {},
   "source": [
    "## Tracé de la frontière de décision\n",
    "\n",
    "La frontière de décision repose sur une fonction de décision $f(x)$\n",
    "\n",
    "### Calcul du modèle sur une grille pour estimer la valeur de $f(x)$ sur tout l'espace\n",
    "\n",
    "1. Construction d'une grille régulière sur l'espace d'analyse\n",
    " - l'espace d'analyse sera déduit des valeurs min et max présents dans les données\n",
    "1. Evaluation de la fonction de décision sur tous les points de la grille\n",
    "1. Interpolation de l'ensemble des points pour lesquels $f(x) = \\alpha$\n",
    "1. Affichage de l'ensemble de ces points [les deux dernières opérations sont combinées]"
   ]
  },
  {
   "cell_type": "code",
   "execution_count": null,
   "metadata": {},
   "outputs": [],
   "source": [
    "# fonction de création d'une grille\n",
    "def mesh(x,n=30):\n",
    "    \"\"\"\n",
    "    Creation d'un maillage à partir d'un ensemble de points 2D\n",
    "    \"\"\"\n",
    "    mmin = x.min(0)   # recuperation du min de chaque colonne\n",
    "    mmax = x.max(0)   # recuperation du max de chaque colonne\n",
    "    xgrid1,xgrid2 = np.meshgrid(np.linspace(mmin[0],mmax[0],n), \n",
    "                        np.linspace(mmin[1],mmax[1],n) )\n",
    "    return np.hstack((np.reshape(xgrid1,(n*n,1)), np.reshape(xgrid2,(n*n,1))))\n",
    "\n",
    "\n",
    "# construction d'une grille réguliere de point sur l'espace 2D\n",
    "ngrid = 30               # finesse de la grille\n",
    "xgrid = mesh(x,ngrid)    # ou simplement xgrid = mesh(x)\n",
    "# affichage de la grille\n",
    "plt.figure()\n",
    "plt.plot(xgrid[:,0],xgrid[:,1],'+') # on voit que l'espace est entièrement couvert"
   ]
  },
  {
   "cell_type": "code",
   "execution_count": null,
   "metadata": {},
   "outputs": [],
   "source": [
    "# Evaluation de la fonction de décision sur tous les points\n",
    "ygrid = xgrid.dot(w);\n",
    "\n",
    "# affichage du nuage de points avec une altitude correspondant à la fonction d'évaluation\n",
    "fig = plt.figure()\n",
    "ax = fig.gca(projection='3d')                              # déclarer la 3D\n",
    "ax.scatter(xgrid[:,0],xgrid[:,1], ygrid)                   # fonction d'affichage d'un nuage de point\n",
    "\n",
    "ax.scatter(x[y[:,0]>0,0],x[y[:,0]>0,1], 0, color ='r')     # En 3D: coordz = 0\n",
    "ax.scatter(x[y[:,0]<0,0],x[y[:,0]<0,1], 0, color = 'b') \n",
    "\n",
    "# problème = l'affichage ne gère pas la profondeur... Pas de zbuffer !\n",
    "\n"
   ]
  },
  {
   "cell_type": "code",
   "execution_count": null,
   "metadata": {},
   "outputs": [],
   "source": [
    "# il reste à trouver les points pour lesquels f(x)=0 [=interpolation]\n",
    "print(xgrid.shape)\n",
    "\n",
    "n = int(np.sqrt(xgrid.shape[0]))       # hypothèse d'une grille carrée\n",
    "xgrid1 = xgrid[:,0].reshape((n,n));    # Dim1: retour à une forme de grille\n",
    "xgrid2 = xgrid[:,1].reshape((n,n));    # Dim2: retour à une forme de grille   \n",
    "ygridS = ygrid.reshape((n,n));         # Eval: retour à une forme de grille   \n",
    "\n",
    "fig = plt.figure()\n",
    "ax = fig.gca()    \n",
    "ax.contour(xgrid1,xgrid2, ygridS, [0]) # Isocontour d'intérêt = 0\n",
    "ax.scatter(x[y[:,0]>0,0],x[y[:,0]>0,1],s=10,color='r')   # pts classe 1\n",
    "ax.scatter(x[y[:,0]<0,0],x[y[:,0]<0,1],s=10,color='b') # pts classe -1\n",
    "\n",
    "plt.show()"
   ]
  },
  {
   "cell_type": "code",
   "execution_count": null,
   "metadata": {
    "collapsed": true
   },
   "outputs": [],
   "source": []
  }
 ],
 "metadata": {
  "kernelspec": {
   "display_name": "Python 3",
   "language": "python",
   "name": "python3"
  },
  "language_info": {
   "codemirror_mode": {
    "name": "ipython",
    "version": 3
   },
   "file_extension": ".py",
   "mimetype": "text/x-python",
   "name": "python",
   "nbconvert_exporter": "python",
   "pygments_lexer": "ipython3",
   "version": "3.7.4"
  }
 },
 "nbformat": 4,
 "nbformat_minor": 2
}
