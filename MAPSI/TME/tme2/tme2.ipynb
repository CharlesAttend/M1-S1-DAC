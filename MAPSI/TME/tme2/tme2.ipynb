{
 "cells": [
  {
   "cell_type": "code",
   "execution_count": 45,
   "metadata": {},
   "outputs": [],
   "source": [
    "import numpy as np\n",
    "import matplotlib.pyplot as plt"
   ]
  },
  {
   "cell_type": "markdown",
   "metadata": {},
   "source": [
    "# MAPSI - TME  - Rappels de Proba/stats"
   ]
  },
  {
   "cell_type": "markdown",
   "metadata": {},
   "source": [
    "## I- La planche de Galton (<font color=\"red\"> obligatoire</font>)"
   ]
  },
  {
   "cell_type": "markdown",
   "metadata": {},
   "source": [
    "### I.1- Loi de Bernoulli\n",
    "Écrire une fonction `bernoulli: float ->int` qui prend en argument la paramètre $p \\in [0,1]$ et qui renvoie aléatoirement $0$ (avec la probabilité $1-p$) ou $1$ (avec la probabilité $p$)."
   ]
  },
  {
   "cell_type": "code",
   "execution_count": 46,
   "metadata": {},
   "outputs": [],
   "source": [
    "def bernoulli(p):\n",
    "    r = np.random.random()\n",
    "    if r<p:\n",
    "        return 1\n",
    "    else:\n",
    "        return 0"
   ]
  },
  {
   "cell_type": "code",
   "execution_count": 47,
   "metadata": {},
   "outputs": [
    {
     "name": "stdout",
     "output_type": "stream",
     "text": [
      "0.30086666666666667\n",
      "0.5025666666666667\n",
      "1.0\n"
     ]
    }
   ],
   "source": [
    "# test de la méthode précédente (triviale pour Bernoulli mais utile en général)\n",
    "print(np.array([bernoulli(0.3) for i in range(30000)]).mean()) # moyenne de 300 tirages pour p = 0.3 => ~0.3\n",
    "print(np.array([bernoulli(0.5) for i in range(30000)]).mean()) # moyenne de 300 tirages pour p = 0.5 => ~0.5\n",
    "print(np.array([bernoulli(1) for i in range(30000)]).mean())   # moyenne de 300 tirages pour p = 1   => =1"
   ]
  },
  {
   "cell_type": "markdown",
   "metadata": {},
   "source": [
    "### I.2- Loi binomiale\n",
    "Écrire une fonction `binomiale: int , float -> int` qui prend en argument un entier $n$ et $p \\in [0,1]$ et qui renvoie aléatoirement un nimbre tiré selon la distribution ${\\cal B}(n,p)$."
   ]
  },
  {
   "cell_type": "code",
   "execution_count": 48,
   "metadata": {},
   "outputs": [],
   "source": [
    "def binomiale(n,p):\n",
    "    return np.array([bernoulli(p) for i in range(n)]).sum()"
   ]
  },
  {
   "cell_type": "code",
   "execution_count": 49,
   "metadata": {},
   "outputs": [
    {
     "name": "stdout",
     "output_type": "stream",
     "text": [
      "2.9233333333333333\n",
      "5.863333333333333\n",
      "8.133333333333333\n"
     ]
    }
   ],
   "source": [
    "# TEST\n",
    "# espérance = np\n",
    "print(np.array([binomiale(10,0.3) for i in range(300)]).mean()) # moyenne de 300 tirages pour n=10 p = 0.3 => 3\n",
    "print(np.array([binomiale(20,0.3) for i in range(300)]).mean()) # moyenne de 300 tirages pour n=20 p = 0.3 => 6\n",
    "print(np.array([binomiale(10,0.8) for i in range(300)]).mean()) # moyenne de 300 tirages pour n=10 p = 0.8 => 8"
   ]
  },
  {
   "cell_type": "markdown",
   "metadata": {},
   "source": [
    "### I.3- Histogramme de la loi binomiale\n",
    "<img src=\"tme2_Galton.jpg\" title=\"Planche de Galton\" style=\"float: right;\">\n",
    "\n",
    "Dans cette question, on considère une planche de Galton de hauteur $n$. On rappelle que des bâtons horizontaux (oranges) sont cloués à cette planche comme le montre la figure ci-contre. \n",
    "\n",
    " Des billes bleues tombent du haut de la planche et, à chaque niveau, se retrouvent à la verticale d'un des bâtons. Elles vont alors tomber soit à gauche, soit à droite du bâton, jusqu'à atteindre le bas de la planche. Ce dernier est constitué de petites boites dont les bords sont symbolisés par les lignes verticales grises. \n",
    " \n",
    "Chaque boite renferme des billes qui sont passées exactement le même nombre de fois à droite des bâtons oranges. Par exemple, la boite la plus à gauche renferme les billes qui ne sont jamais passées à droite d'un bâton, celle juste à sa droite renferme les billes passées une seule fois à droite d'un bâton et toutes les autres fois à gauche, et ainsi de suite. \n",
    "\n",
    "La répartition des billes dans les boites suit donc une loi binomiale ${\\cal B}(n,0.5)$. \n",
    "\n",
    "Écrire un script qui crée un tableau de $1000$ cases dont le contenu correspond à $1000$ instanciations de la loi binomiale ${\\cal B}(n,0.5)$. Afin de voir la répartition des billes dans la planche de Galton, tracer l'histogramme de ce tableau. Vous pourrez utiliser la fonction hist de matplotlib.pyplot: "
   ]
  },
  {
   "cell_type": "code",
   "execution_count": 50,
   "metadata": {},
   "outputs": [
    {
     "data": {
      "image/svg+xml": "<?xml version=\"1.0\" encoding=\"utf-8\" standalone=\"no\"?>\n<!DOCTYPE svg PUBLIC \"-//W3C//DTD SVG 1.1//EN\"\n  \"http://www.w3.org/Graphics/SVG/1.1/DTD/svg11.dtd\">\n<svg xmlns:xlink=\"http://www.w3.org/1999/xlink\" width=\"372.103125pt\" height=\"248.518125pt\" viewBox=\"0 0 372.103125 248.518125\" xmlns=\"http://www.w3.org/2000/svg\" version=\"1.1\">\n <metadata>\n  <rdf:RDF xmlns:dc=\"http://purl.org/dc/elements/1.1/\" xmlns:cc=\"http://creativecommons.org/ns#\" xmlns:rdf=\"http://www.w3.org/1999/02/22-rdf-syntax-ns#\">\n   <cc:Work>\n    <dc:type rdf:resource=\"http://purl.org/dc/dcmitype/StillImage\"/>\n    <dc:date>2022-09-28T16:57:47.073824</dc:date>\n    <dc:format>image/svg+xml</dc:format>\n    <dc:creator>\n     <cc:Agent>\n      <dc:title>Matplotlib v3.5.2, https://matplotlib.org/</dc:title>\n     </cc:Agent>\n    </dc:creator>\n   </cc:Work>\n  </rdf:RDF>\n </metadata>\n <defs>\n  <style type=\"text/css\">*{stroke-linejoin: round; stroke-linecap: butt}</style>\n </defs>\n <g id=\"figure_1\">\n  <g id=\"patch_1\">\n   <path d=\"M 0 248.518125 \nL 372.103125 248.518125 \nL 372.103125 0 \nL 0 0 \nz\n\" style=\"fill: #e0e0e0\"/>\n  </g>\n  <g id=\"axes_1\">\n   <g id=\"patch_2\">\n    <path d=\"M 30.103125 224.64 \nL 364.903125 224.64 \nL 364.903125 7.2 \nL 30.103125 7.2 \nz\n\" style=\"fill: #ffffff\"/>\n   </g>\n   <g id=\"patch_3\">\n    <path d=\"M 45.321307 224.64 \nL 121.412216 224.64 \nL 121.412216 172.868571 \nL 45.321307 172.868571 \nz\n\" clip-path=\"url(#pa945872135)\" style=\"fill: #1f77b4\"/>\n   </g>\n   <g id=\"patch_4\">\n    <path d=\"M 121.412216 224.64 \nL 197.503125 224.64 \nL 197.503125 17.554286 \nL 121.412216 17.554286 \nz\n\" clip-path=\"url(#pa945872135)\" style=\"fill: #1f77b4\"/>\n   </g>\n   <g id=\"patch_5\">\n    <path d=\"M 197.503125 224.64 \nL 273.594034 224.64 \nL 273.594034 121.097143 \nL 197.503125 121.097143 \nz\n\" clip-path=\"url(#pa945872135)\" style=\"fill: #1f77b4\"/>\n   </g>\n   <g id=\"patch_6\">\n    <path d=\"M 273.594034 224.64 \nL 349.684943 224.64 \nL 349.684943 172.868571 \nL 273.594034 172.868571 \nz\n\" clip-path=\"url(#pa945872135)\" style=\"fill: #1f77b4\"/>\n   </g>\n   <g id=\"matplotlib.axis_1\">\n    <g id=\"xtick_1\">\n     <g id=\"line2d_1\">\n      <defs>\n       <path id=\"m403075ba91\" d=\"M 0 0 \nL 0 3.5 \n\" style=\"stroke: #000000; stroke-width: 0.8\"/>\n      </defs>\n      <g>\n       <use xlink:href=\"#m403075ba91\" x=\"45.321307\" y=\"224.64\" style=\"stroke: #000000; stroke-width: 0.8\"/>\n      </g>\n     </g>\n     <g id=\"text_1\">\n      <!-- 0.0 -->\n      <g transform=\"translate(37.369744 239.238437)scale(0.1 -0.1)\">\n       <defs>\n        <path id=\"DejaVuSans-30\" d=\"M 2034 4250 \nQ 1547 4250 1301 3770 \nQ 1056 3291 1056 2328 \nQ 1056 1369 1301 889 \nQ 1547 409 2034 409 \nQ 2525 409 2770 889 \nQ 3016 1369 3016 2328 \nQ 3016 3291 2770 3770 \nQ 2525 4250 2034 4250 \nz\nM 2034 4750 \nQ 2819 4750 3233 4129 \nQ 3647 3509 3647 2328 \nQ 3647 1150 3233 529 \nQ 2819 -91 2034 -91 \nQ 1250 -91 836 529 \nQ 422 1150 422 2328 \nQ 422 3509 836 4129 \nQ 1250 4750 2034 4750 \nz\n\" transform=\"scale(0.015625)\"/>\n        <path id=\"DejaVuSans-2e\" d=\"M 684 794 \nL 1344 794 \nL 1344 0 \nL 684 0 \nL 684 794 \nz\n\" transform=\"scale(0.015625)\"/>\n       </defs>\n       <use xlink:href=\"#DejaVuSans-30\"/>\n       <use xlink:href=\"#DejaVuSans-2e\" x=\"63.623047\"/>\n       <use xlink:href=\"#DejaVuSans-30\" x=\"95.410156\"/>\n      </g>\n     </g>\n    </g>\n    <g id=\"xtick_2\">\n     <g id=\"line2d_2\">\n      <g>\n       <use xlink:href=\"#m403075ba91\" x=\"83.366761\" y=\"224.64\" style=\"stroke: #000000; stroke-width: 0.8\"/>\n      </g>\n     </g>\n     <g id=\"text_2\">\n      <!-- 0.5 -->\n      <g transform=\"translate(75.415199 239.238437)scale(0.1 -0.1)\">\n       <defs>\n        <path id=\"DejaVuSans-35\" d=\"M 691 4666 \nL 3169 4666 \nL 3169 4134 \nL 1269 4134 \nL 1269 2991 \nQ 1406 3038 1543 3061 \nQ 1681 3084 1819 3084 \nQ 2600 3084 3056 2656 \nQ 3513 2228 3513 1497 \nQ 3513 744 3044 326 \nQ 2575 -91 1722 -91 \nQ 1428 -91 1123 -41 \nQ 819 9 494 109 \nL 494 744 \nQ 775 591 1075 516 \nQ 1375 441 1709 441 \nQ 2250 441 2565 725 \nQ 2881 1009 2881 1497 \nQ 2881 1984 2565 2268 \nQ 2250 2553 1709 2553 \nQ 1456 2553 1204 2497 \nQ 953 2441 691 2322 \nL 691 4666 \nz\n\" transform=\"scale(0.015625)\"/>\n       </defs>\n       <use xlink:href=\"#DejaVuSans-30\"/>\n       <use xlink:href=\"#DejaVuSans-2e\" x=\"63.623047\"/>\n       <use xlink:href=\"#DejaVuSans-35\" x=\"95.410156\"/>\n      </g>\n     </g>\n    </g>\n    <g id=\"xtick_3\">\n     <g id=\"line2d_3\">\n      <g>\n       <use xlink:href=\"#m403075ba91\" x=\"121.412216\" y=\"224.64\" style=\"stroke: #000000; stroke-width: 0.8\"/>\n      </g>\n     </g>\n     <g id=\"text_3\">\n      <!-- 1.0 -->\n      <g transform=\"translate(113.460653 239.238437)scale(0.1 -0.1)\">\n       <defs>\n        <path id=\"DejaVuSans-31\" d=\"M 794 531 \nL 1825 531 \nL 1825 4091 \nL 703 3866 \nL 703 4441 \nL 1819 4666 \nL 2450 4666 \nL 2450 531 \nL 3481 531 \nL 3481 0 \nL 794 0 \nL 794 531 \nz\n\" transform=\"scale(0.015625)\"/>\n       </defs>\n       <use xlink:href=\"#DejaVuSans-31\"/>\n       <use xlink:href=\"#DejaVuSans-2e\" x=\"63.623047\"/>\n       <use xlink:href=\"#DejaVuSans-30\" x=\"95.410156\"/>\n      </g>\n     </g>\n    </g>\n    <g id=\"xtick_4\">\n     <g id=\"line2d_4\">\n      <g>\n       <use xlink:href=\"#m403075ba91\" x=\"159.45767\" y=\"224.64\" style=\"stroke: #000000; stroke-width: 0.8\"/>\n      </g>\n     </g>\n     <g id=\"text_4\">\n      <!-- 1.5 -->\n      <g transform=\"translate(151.506108 239.238437)scale(0.1 -0.1)\">\n       <use xlink:href=\"#DejaVuSans-31\"/>\n       <use xlink:href=\"#DejaVuSans-2e\" x=\"63.623047\"/>\n       <use xlink:href=\"#DejaVuSans-35\" x=\"95.410156\"/>\n      </g>\n     </g>\n    </g>\n    <g id=\"xtick_5\">\n     <g id=\"line2d_5\">\n      <g>\n       <use xlink:href=\"#m403075ba91\" x=\"197.503125\" y=\"224.64\" style=\"stroke: #000000; stroke-width: 0.8\"/>\n      </g>\n     </g>\n     <g id=\"text_5\">\n      <!-- 2.0 -->\n      <g transform=\"translate(189.551563 239.238437)scale(0.1 -0.1)\">\n       <defs>\n        <path id=\"DejaVuSans-32\" d=\"M 1228 531 \nL 3431 531 \nL 3431 0 \nL 469 0 \nL 469 531 \nQ 828 903 1448 1529 \nQ 2069 2156 2228 2338 \nQ 2531 2678 2651 2914 \nQ 2772 3150 2772 3378 \nQ 2772 3750 2511 3984 \nQ 2250 4219 1831 4219 \nQ 1534 4219 1204 4116 \nQ 875 4013 500 3803 \nL 500 4441 \nQ 881 4594 1212 4672 \nQ 1544 4750 1819 4750 \nQ 2544 4750 2975 4387 \nQ 3406 4025 3406 3419 \nQ 3406 3131 3298 2873 \nQ 3191 2616 2906 2266 \nQ 2828 2175 2409 1742 \nQ 1991 1309 1228 531 \nz\n\" transform=\"scale(0.015625)\"/>\n       </defs>\n       <use xlink:href=\"#DejaVuSans-32\"/>\n       <use xlink:href=\"#DejaVuSans-2e\" x=\"63.623047\"/>\n       <use xlink:href=\"#DejaVuSans-30\" x=\"95.410156\"/>\n      </g>\n     </g>\n    </g>\n    <g id=\"xtick_6\">\n     <g id=\"line2d_6\">\n      <g>\n       <use xlink:href=\"#m403075ba91\" x=\"235.54858\" y=\"224.64\" style=\"stroke: #000000; stroke-width: 0.8\"/>\n      </g>\n     </g>\n     <g id=\"text_6\">\n      <!-- 2.5 -->\n      <g transform=\"translate(227.597017 239.238437)scale(0.1 -0.1)\">\n       <use xlink:href=\"#DejaVuSans-32\"/>\n       <use xlink:href=\"#DejaVuSans-2e\" x=\"63.623047\"/>\n       <use xlink:href=\"#DejaVuSans-35\" x=\"95.410156\"/>\n      </g>\n     </g>\n    </g>\n    <g id=\"xtick_7\">\n     <g id=\"line2d_7\">\n      <g>\n       <use xlink:href=\"#m403075ba91\" x=\"273.594034\" y=\"224.64\" style=\"stroke: #000000; stroke-width: 0.8\"/>\n      </g>\n     </g>\n     <g id=\"text_7\">\n      <!-- 3.0 -->\n      <g transform=\"translate(265.642472 239.238437)scale(0.1 -0.1)\">\n       <defs>\n        <path id=\"DejaVuSans-33\" d=\"M 2597 2516 \nQ 3050 2419 3304 2112 \nQ 3559 1806 3559 1356 \nQ 3559 666 3084 287 \nQ 2609 -91 1734 -91 \nQ 1441 -91 1130 -33 \nQ 819 25 488 141 \nL 488 750 \nQ 750 597 1062 519 \nQ 1375 441 1716 441 \nQ 2309 441 2620 675 \nQ 2931 909 2931 1356 \nQ 2931 1769 2642 2001 \nQ 2353 2234 1838 2234 \nL 1294 2234 \nL 1294 2753 \nL 1863 2753 \nQ 2328 2753 2575 2939 \nQ 2822 3125 2822 3475 \nQ 2822 3834 2567 4026 \nQ 2313 4219 1838 4219 \nQ 1578 4219 1281 4162 \nQ 984 4106 628 3988 \nL 628 4550 \nQ 988 4650 1302 4700 \nQ 1616 4750 1894 4750 \nQ 2613 4750 3031 4423 \nQ 3450 4097 3450 3541 \nQ 3450 3153 3228 2886 \nQ 3006 2619 2597 2516 \nz\n\" transform=\"scale(0.015625)\"/>\n       </defs>\n       <use xlink:href=\"#DejaVuSans-33\"/>\n       <use xlink:href=\"#DejaVuSans-2e\" x=\"63.623047\"/>\n       <use xlink:href=\"#DejaVuSans-30\" x=\"95.410156\"/>\n      </g>\n     </g>\n    </g>\n    <g id=\"xtick_8\">\n     <g id=\"line2d_8\">\n      <g>\n       <use xlink:href=\"#m403075ba91\" x=\"311.639489\" y=\"224.64\" style=\"stroke: #000000; stroke-width: 0.8\"/>\n      </g>\n     </g>\n     <g id=\"text_8\">\n      <!-- 3.5 -->\n      <g transform=\"translate(303.687926 239.238437)scale(0.1 -0.1)\">\n       <use xlink:href=\"#DejaVuSans-33\"/>\n       <use xlink:href=\"#DejaVuSans-2e\" x=\"63.623047\"/>\n       <use xlink:href=\"#DejaVuSans-35\" x=\"95.410156\"/>\n      </g>\n     </g>\n    </g>\n    <g id=\"xtick_9\">\n     <g id=\"line2d_9\">\n      <g>\n       <use xlink:href=\"#m403075ba91\" x=\"349.684943\" y=\"224.64\" style=\"stroke: #000000; stroke-width: 0.8\"/>\n      </g>\n     </g>\n     <g id=\"text_9\">\n      <!-- 4.0 -->\n      <g transform=\"translate(341.733381 239.238437)scale(0.1 -0.1)\">\n       <defs>\n        <path id=\"DejaVuSans-34\" d=\"M 2419 4116 \nL 825 1625 \nL 2419 1625 \nL 2419 4116 \nz\nM 2253 4666 \nL 3047 4666 \nL 3047 1625 \nL 3713 1625 \nL 3713 1100 \nL 3047 1100 \nL 3047 0 \nL 2419 0 \nL 2419 1100 \nL 313 1100 \nL 313 1709 \nL 2253 4666 \nz\n\" transform=\"scale(0.015625)\"/>\n       </defs>\n       <use xlink:href=\"#DejaVuSans-34\"/>\n       <use xlink:href=\"#DejaVuSans-2e\" x=\"63.623047\"/>\n       <use xlink:href=\"#DejaVuSans-30\" x=\"95.410156\"/>\n      </g>\n     </g>\n    </g>\n   </g>\n   <g id=\"matplotlib.axis_2\">\n    <g id=\"ytick_1\">\n     <g id=\"line2d_10\">\n      <defs>\n       <path id=\"m2495106476\" d=\"M 0 0 \nL -3.5 0 \n\" style=\"stroke: #000000; stroke-width: 0.8\"/>\n      </defs>\n      <g>\n       <use xlink:href=\"#m2495106476\" x=\"30.103125\" y=\"224.64\" style=\"stroke: #000000; stroke-width: 0.8\"/>\n      </g>\n     </g>\n     <g id=\"text_10\">\n      <!-- 0.0 -->\n      <g transform=\"translate(7.2 228.439219)scale(0.1 -0.1)\">\n       <use xlink:href=\"#DejaVuSans-30\"/>\n       <use xlink:href=\"#DejaVuSans-2e\" x=\"63.623047\"/>\n       <use xlink:href=\"#DejaVuSans-30\" x=\"95.410156\"/>\n      </g>\n     </g>\n    </g>\n    <g id=\"ytick_2\">\n     <g id=\"line2d_11\">\n      <g>\n       <use xlink:href=\"#m2495106476\" x=\"30.103125\" y=\"198.754286\" style=\"stroke: #000000; stroke-width: 0.8\"/>\n      </g>\n     </g>\n     <g id=\"text_11\">\n      <!-- 0.5 -->\n      <g transform=\"translate(7.2 202.553504)scale(0.1 -0.1)\">\n       <use xlink:href=\"#DejaVuSans-30\"/>\n       <use xlink:href=\"#DejaVuSans-2e\" x=\"63.623047\"/>\n       <use xlink:href=\"#DejaVuSans-35\" x=\"95.410156\"/>\n      </g>\n     </g>\n    </g>\n    <g id=\"ytick_3\">\n     <g id=\"line2d_12\">\n      <g>\n       <use xlink:href=\"#m2495106476\" x=\"30.103125\" y=\"172.868571\" style=\"stroke: #000000; stroke-width: 0.8\"/>\n      </g>\n     </g>\n     <g id=\"text_12\">\n      <!-- 1.0 -->\n      <g transform=\"translate(7.2 176.66779)scale(0.1 -0.1)\">\n       <use xlink:href=\"#DejaVuSans-31\"/>\n       <use xlink:href=\"#DejaVuSans-2e\" x=\"63.623047\"/>\n       <use xlink:href=\"#DejaVuSans-30\" x=\"95.410156\"/>\n      </g>\n     </g>\n    </g>\n    <g id=\"ytick_4\">\n     <g id=\"line2d_13\">\n      <g>\n       <use xlink:href=\"#m2495106476\" x=\"30.103125\" y=\"146.982857\" style=\"stroke: #000000; stroke-width: 0.8\"/>\n      </g>\n     </g>\n     <g id=\"text_13\">\n      <!-- 1.5 -->\n      <g transform=\"translate(7.2 150.782076)scale(0.1 -0.1)\">\n       <use xlink:href=\"#DejaVuSans-31\"/>\n       <use xlink:href=\"#DejaVuSans-2e\" x=\"63.623047\"/>\n       <use xlink:href=\"#DejaVuSans-35\" x=\"95.410156\"/>\n      </g>\n     </g>\n    </g>\n    <g id=\"ytick_5\">\n     <g id=\"line2d_14\">\n      <g>\n       <use xlink:href=\"#m2495106476\" x=\"30.103125\" y=\"121.097143\" style=\"stroke: #000000; stroke-width: 0.8\"/>\n      </g>\n     </g>\n     <g id=\"text_14\">\n      <!-- 2.0 -->\n      <g transform=\"translate(7.2 124.896362)scale(0.1 -0.1)\">\n       <use xlink:href=\"#DejaVuSans-32\"/>\n       <use xlink:href=\"#DejaVuSans-2e\" x=\"63.623047\"/>\n       <use xlink:href=\"#DejaVuSans-30\" x=\"95.410156\"/>\n      </g>\n     </g>\n    </g>\n    <g id=\"ytick_6\">\n     <g id=\"line2d_15\">\n      <g>\n       <use xlink:href=\"#m2495106476\" x=\"30.103125\" y=\"95.211429\" style=\"stroke: #000000; stroke-width: 0.8\"/>\n      </g>\n     </g>\n     <g id=\"text_15\">\n      <!-- 2.5 -->\n      <g transform=\"translate(7.2 99.010647)scale(0.1 -0.1)\">\n       <use xlink:href=\"#DejaVuSans-32\"/>\n       <use xlink:href=\"#DejaVuSans-2e\" x=\"63.623047\"/>\n       <use xlink:href=\"#DejaVuSans-35\" x=\"95.410156\"/>\n      </g>\n     </g>\n    </g>\n    <g id=\"ytick_7\">\n     <g id=\"line2d_16\">\n      <g>\n       <use xlink:href=\"#m2495106476\" x=\"30.103125\" y=\"69.325714\" style=\"stroke: #000000; stroke-width: 0.8\"/>\n      </g>\n     </g>\n     <g id=\"text_16\">\n      <!-- 3.0 -->\n      <g transform=\"translate(7.2 73.124933)scale(0.1 -0.1)\">\n       <use xlink:href=\"#DejaVuSans-33\"/>\n       <use xlink:href=\"#DejaVuSans-2e\" x=\"63.623047\"/>\n       <use xlink:href=\"#DejaVuSans-30\" x=\"95.410156\"/>\n      </g>\n     </g>\n    </g>\n    <g id=\"ytick_8\">\n     <g id=\"line2d_17\">\n      <g>\n       <use xlink:href=\"#m2495106476\" x=\"30.103125\" y=\"43.44\" style=\"stroke: #000000; stroke-width: 0.8\"/>\n      </g>\n     </g>\n     <g id=\"text_17\">\n      <!-- 3.5 -->\n      <g transform=\"translate(7.2 47.239219)scale(0.1 -0.1)\">\n       <use xlink:href=\"#DejaVuSans-33\"/>\n       <use xlink:href=\"#DejaVuSans-2e\" x=\"63.623047\"/>\n       <use xlink:href=\"#DejaVuSans-35\" x=\"95.410156\"/>\n      </g>\n     </g>\n    </g>\n    <g id=\"ytick_9\">\n     <g id=\"line2d_18\">\n      <g>\n       <use xlink:href=\"#m2495106476\" x=\"30.103125\" y=\"17.554286\" style=\"stroke: #000000; stroke-width: 0.8\"/>\n      </g>\n     </g>\n     <g id=\"text_18\">\n      <!-- 4.0 -->\n      <g transform=\"translate(7.2 21.353504)scale(0.1 -0.1)\">\n       <use xlink:href=\"#DejaVuSans-34\"/>\n       <use xlink:href=\"#DejaVuSans-2e\" x=\"63.623047\"/>\n       <use xlink:href=\"#DejaVuSans-30\" x=\"95.410156\"/>\n      </g>\n     </g>\n    </g>\n   </g>\n   <g id=\"patch_7\">\n    <path d=\"M 30.103125 224.64 \nL 30.103125 7.2 \n\" style=\"fill: none; stroke: #000000; stroke-width: 0.8; stroke-linejoin: miter; stroke-linecap: square\"/>\n   </g>\n   <g id=\"patch_8\">\n    <path d=\"M 364.903125 224.64 \nL 364.903125 7.2 \n\" style=\"fill: none; stroke: #000000; stroke-width: 0.8; stroke-linejoin: miter; stroke-linecap: square\"/>\n   </g>\n   <g id=\"patch_9\">\n    <path d=\"M 30.103125 224.64 \nL 364.903125 224.64 \n\" style=\"fill: none; stroke: #000000; stroke-width: 0.8; stroke-linejoin: miter; stroke-linecap: square\"/>\n   </g>\n   <g id=\"patch_10\">\n    <path d=\"M 30.103125 7.2 \nL 364.903125 7.2 \n\" style=\"fill: none; stroke: #000000; stroke-width: 0.8; stroke-linejoin: miter; stroke-linecap: square\"/>\n   </g>\n  </g>\n </g>\n <defs>\n  <clipPath id=\"pa945872135\">\n   <rect x=\"30.103125\" y=\"7.2\" width=\"334.8\" height=\"217.44\"/>\n  </clipPath>\n </defs>\n</svg>\n",
      "text/plain": [
       "<Figure size 432x288 with 1 Axes>"
      ]
     },
     "metadata": {},
     "output_type": "display_data"
    }
   ],
   "source": [
    "import matplotlib.pyplot as plt\n",
    "\n",
    "plt.hist ([0,1,2,1,2,4,1,1], 4);"
   ]
  },
  {
   "cell_type": "markdown",
   "metadata": {},
   "source": [
    "Pour le nombre de bins, calculez le nombre de valeurs différentes dans votre tableau."
   ]
  },
  {
   "cell_type": "code",
   "execution_count": 51,
   "metadata": {},
   "outputs": [
    {
     "data": {
      "text/plain": [
       "(array([  3.,  17.,  36.,  89., 173., 193., 192., 155.,  86.,  41.,   9.,\n",
       "          4.,   2.]),\n",
       " array([ 2.        ,  2.92307692,  3.84615385,  4.76923077,  5.69230769,\n",
       "         6.61538462,  7.53846154,  8.46153846,  9.38461538, 10.30769231,\n",
       "        11.23076923, 12.15384615, 13.07692308, 14.        ]),\n",
       " <BarContainer object of 13 artists>)"
      ]
     },
     "execution_count": 51,
     "metadata": {},
     "output_type": "execute_result"
    },
    {
     "data": {
      "image/svg+xml": "<?xml version=\"1.0\" encoding=\"utf-8\" standalone=\"no\"?>\n<!DOCTYPE svg PUBLIC \"-//W3C//DTD SVG 1.1//EN\"\n  \"http://www.w3.org/Graphics/SVG/1.1/DTD/svg11.dtd\">\n<svg xmlns:xlink=\"http://www.w3.org/1999/xlink\" width=\"375.2875pt\" height=\"249.473939pt\" viewBox=\"0 0 375.2875 249.473939\" xmlns=\"http://www.w3.org/2000/svg\" version=\"1.1\">\n <metadata>\n  <rdf:RDF xmlns:dc=\"http://purl.org/dc/elements/1.1/\" xmlns:cc=\"http://creativecommons.org/ns#\" xmlns:rdf=\"http://www.w3.org/1999/02/22-rdf-syntax-ns#\">\n   <cc:Work>\n    <dc:type rdf:resource=\"http://purl.org/dc/dcmitype/StillImage\"/>\n    <dc:date>2022-09-28T16:57:47.380539</dc:date>\n    <dc:format>image/svg+xml</dc:format>\n    <dc:creator>\n     <cc:Agent>\n      <dc:title>Matplotlib v3.5.2, https://matplotlib.org/</dc:title>\n     </cc:Agent>\n    </dc:creator>\n   </cc:Work>\n  </rdf:RDF>\n </metadata>\n <defs>\n  <style type=\"text/css\">*{stroke-linejoin: round; stroke-linecap: butt}</style>\n </defs>\n <g id=\"figure_1\">\n  <g id=\"patch_1\">\n   <path d=\"M 0 249.473939 \nL 375.2875 249.473939 \nL 375.2875 0 \nL 0 0 \nz\n\" style=\"fill: #e0e0e0\"/>\n  </g>\n  <g id=\"axes_1\">\n   <g id=\"patch_2\">\n    <path d=\"M 33.2875 225.595814 \nL 368.0875 225.595814 \nL 368.0875 8.155814 \nL 33.2875 8.155814 \nz\n\" style=\"fill: #ffffff\"/>\n   </g>\n   <g id=\"patch_3\">\n    <path d=\"M 48.505682 225.595814 \nL 71.918269 225.595814 \nL 71.918269 222.376865 \nL 48.505682 222.376865 \nz\n\" clip-path=\"url(#pbb35da7cd9)\" style=\"fill: #1f77b4\"/>\n   </g>\n   <g id=\"patch_4\">\n    <path d=\"M 71.918269 225.595814 \nL 95.330857 225.595814 \nL 95.330857 207.355103 \nL 71.918269 207.355103 \nz\n\" clip-path=\"url(#pbb35da7cd9)\" style=\"fill: #1f77b4\"/>\n   </g>\n   <g id=\"patch_5\">\n    <path d=\"M 95.330857 225.595814 \nL 118.743444 225.595814 \nL 118.743444 186.968427 \nL 95.330857 186.968427 \nz\n\" clip-path=\"url(#pbb35da7cd9)\" style=\"fill: #1f77b4\"/>\n   </g>\n   <g id=\"patch_6\">\n    <path d=\"M 118.743444 225.595814 \nL 142.156031 225.595814 \nL 142.156031 130.100329 \nL 118.743444 130.100329 \nz\n\" clip-path=\"url(#pbb35da7cd9)\" style=\"fill: #1f77b4\"/>\n   </g>\n   <g id=\"patch_7\">\n    <path d=\"M 142.156031 225.595814 \nL 165.568619 225.595814 \nL 165.568619 39.969759 \nL 142.156031 39.969759 \nz\n\" clip-path=\"url(#pbb35da7cd9)\" style=\"fill: #1f77b4\"/>\n   </g>\n   <g id=\"patch_8\">\n    <path d=\"M 165.568619 225.595814 \nL 188.981206 225.595814 \nL 188.981206 18.5101 \nL 165.568619 18.5101 \nz\n\" clip-path=\"url(#pbb35da7cd9)\" style=\"fill: #1f77b4\"/>\n   </g>\n   <g id=\"patch_9\">\n    <path d=\"M 188.981206 225.595814 \nL 212.393794 225.595814 \nL 212.393794 19.583083 \nL 188.981206 19.583083 \nz\n\" clip-path=\"url(#pbb35da7cd9)\" style=\"fill: #1f77b4\"/>\n   </g>\n   <g id=\"patch_10\">\n    <path d=\"M 212.393794 225.595814 \nL 235.806381 225.595814 \nL 235.806381 59.283453 \nL 212.393794 59.283453 \nz\n\" clip-path=\"url(#pbb35da7cd9)\" style=\"fill: #1f77b4\"/>\n   </g>\n   <g id=\"patch_11\">\n    <path d=\"M 235.806381 225.595814 \nL 259.218969 225.595814 \nL 259.218969 133.319278 \nL 235.806381 133.319278 \nz\n\" clip-path=\"url(#pbb35da7cd9)\" style=\"fill: #1f77b4\"/>\n   </g>\n   <g id=\"patch_12\">\n    <path d=\"M 259.218969 225.595814 \nL 282.631556 225.595814 \nL 282.631556 181.603512 \nL 259.218969 181.603512 \nz\n\" clip-path=\"url(#pbb35da7cd9)\" style=\"fill: #1f77b4\"/>\n   </g>\n   <g id=\"patch_13\">\n    <path d=\"M 282.631556 225.595814 \nL 306.044143 225.595814 \nL 306.044143 215.938967 \nL 282.631556 215.938967 \nz\n\" clip-path=\"url(#pbb35da7cd9)\" style=\"fill: #1f77b4\"/>\n   </g>\n   <g id=\"patch_14\">\n    <path d=\"M 306.044143 225.595814 \nL 329.456731 225.595814 \nL 329.456731 221.303882 \nL 306.044143 221.303882 \nz\n\" clip-path=\"url(#pbb35da7cd9)\" style=\"fill: #1f77b4\"/>\n   </g>\n   <g id=\"patch_15\">\n    <path d=\"M 329.456731 225.595814 \nL 352.869318 225.595814 \nL 352.869318 223.449848 \nL 329.456731 223.449848 \nz\n\" clip-path=\"url(#pbb35da7cd9)\" style=\"fill: #1f77b4\"/>\n   </g>\n   <g id=\"matplotlib.axis_1\">\n    <g id=\"xtick_1\">\n     <g id=\"line2d_1\">\n      <defs>\n       <path id=\"m970b7791ce\" d=\"M 0 0 \nL 0 3.5 \n\" style=\"stroke: #000000; stroke-width: 0.8\"/>\n      </defs>\n      <g>\n       <use xlink:href=\"#m970b7791ce\" x=\"48.505682\" y=\"225.595814\" style=\"stroke: #000000; stroke-width: 0.8\"/>\n      </g>\n     </g>\n     <g id=\"text_1\">\n      <!-- 2 -->\n      <g transform=\"translate(45.324432 240.194251)scale(0.1 -0.1)\">\n       <defs>\n        <path id=\"DejaVuSans-32\" d=\"M 1228 531 \nL 3431 531 \nL 3431 0 \nL 469 0 \nL 469 531 \nQ 828 903 1448 1529 \nQ 2069 2156 2228 2338 \nQ 2531 2678 2651 2914 \nQ 2772 3150 2772 3378 \nQ 2772 3750 2511 3984 \nQ 2250 4219 1831 4219 \nQ 1534 4219 1204 4116 \nQ 875 4013 500 3803 \nL 500 4441 \nQ 881 4594 1212 4672 \nQ 1544 4750 1819 4750 \nQ 2544 4750 2975 4387 \nQ 3406 4025 3406 3419 \nQ 3406 3131 3298 2873 \nQ 3191 2616 2906 2266 \nQ 2828 2175 2409 1742 \nQ 1991 1309 1228 531 \nz\n\" transform=\"scale(0.015625)\"/>\n       </defs>\n       <use xlink:href=\"#DejaVuSans-32\"/>\n      </g>\n     </g>\n    </g>\n    <g id=\"xtick_2\">\n     <g id=\"line2d_2\">\n      <g>\n       <use xlink:href=\"#m970b7791ce\" x=\"99.232955\" y=\"225.595814\" style=\"stroke: #000000; stroke-width: 0.8\"/>\n      </g>\n     </g>\n     <g id=\"text_2\">\n      <!-- 4 -->\n      <g transform=\"translate(96.051705 240.194251)scale(0.1 -0.1)\">\n       <defs>\n        <path id=\"DejaVuSans-34\" d=\"M 2419 4116 \nL 825 1625 \nL 2419 1625 \nL 2419 4116 \nz\nM 2253 4666 \nL 3047 4666 \nL 3047 1625 \nL 3713 1625 \nL 3713 1100 \nL 3047 1100 \nL 3047 0 \nL 2419 0 \nL 2419 1100 \nL 313 1100 \nL 313 1709 \nL 2253 4666 \nz\n\" transform=\"scale(0.015625)\"/>\n       </defs>\n       <use xlink:href=\"#DejaVuSans-34\"/>\n      </g>\n     </g>\n    </g>\n    <g id=\"xtick_3\">\n     <g id=\"line2d_3\">\n      <g>\n       <use xlink:href=\"#m970b7791ce\" x=\"149.960227\" y=\"225.595814\" style=\"stroke: #000000; stroke-width: 0.8\"/>\n      </g>\n     </g>\n     <g id=\"text_3\">\n      <!-- 6 -->\n      <g transform=\"translate(146.778977 240.194251)scale(0.1 -0.1)\">\n       <defs>\n        <path id=\"DejaVuSans-36\" d=\"M 2113 2584 \nQ 1688 2584 1439 2293 \nQ 1191 2003 1191 1497 \nQ 1191 994 1439 701 \nQ 1688 409 2113 409 \nQ 2538 409 2786 701 \nQ 3034 994 3034 1497 \nQ 3034 2003 2786 2293 \nQ 2538 2584 2113 2584 \nz\nM 3366 4563 \nL 3366 3988 \nQ 3128 4100 2886 4159 \nQ 2644 4219 2406 4219 \nQ 1781 4219 1451 3797 \nQ 1122 3375 1075 2522 \nQ 1259 2794 1537 2939 \nQ 1816 3084 2150 3084 \nQ 2853 3084 3261 2657 \nQ 3669 2231 3669 1497 \nQ 3669 778 3244 343 \nQ 2819 -91 2113 -91 \nQ 1303 -91 875 529 \nQ 447 1150 447 2328 \nQ 447 3434 972 4092 \nQ 1497 4750 2381 4750 \nQ 2619 4750 2861 4703 \nQ 3103 4656 3366 4563 \nz\n\" transform=\"scale(0.015625)\"/>\n       </defs>\n       <use xlink:href=\"#DejaVuSans-36\"/>\n      </g>\n     </g>\n    </g>\n    <g id=\"xtick_4\">\n     <g id=\"line2d_4\">\n      <g>\n       <use xlink:href=\"#m970b7791ce\" x=\"200.6875\" y=\"225.595814\" style=\"stroke: #000000; stroke-width: 0.8\"/>\n      </g>\n     </g>\n     <g id=\"text_4\">\n      <!-- 8 -->\n      <g transform=\"translate(197.50625 240.194251)scale(0.1 -0.1)\">\n       <defs>\n        <path id=\"DejaVuSans-38\" d=\"M 2034 2216 \nQ 1584 2216 1326 1975 \nQ 1069 1734 1069 1313 \nQ 1069 891 1326 650 \nQ 1584 409 2034 409 \nQ 2484 409 2743 651 \nQ 3003 894 3003 1313 \nQ 3003 1734 2745 1975 \nQ 2488 2216 2034 2216 \nz\nM 1403 2484 \nQ 997 2584 770 2862 \nQ 544 3141 544 3541 \nQ 544 4100 942 4425 \nQ 1341 4750 2034 4750 \nQ 2731 4750 3128 4425 \nQ 3525 4100 3525 3541 \nQ 3525 3141 3298 2862 \nQ 3072 2584 2669 2484 \nQ 3125 2378 3379 2068 \nQ 3634 1759 3634 1313 \nQ 3634 634 3220 271 \nQ 2806 -91 2034 -91 \nQ 1263 -91 848 271 \nQ 434 634 434 1313 \nQ 434 1759 690 2068 \nQ 947 2378 1403 2484 \nz\nM 1172 3481 \nQ 1172 3119 1398 2916 \nQ 1625 2713 2034 2713 \nQ 2441 2713 2670 2916 \nQ 2900 3119 2900 3481 \nQ 2900 3844 2670 4047 \nQ 2441 4250 2034 4250 \nQ 1625 4250 1398 4047 \nQ 1172 3844 1172 3481 \nz\n\" transform=\"scale(0.015625)\"/>\n       </defs>\n       <use xlink:href=\"#DejaVuSans-38\"/>\n      </g>\n     </g>\n    </g>\n    <g id=\"xtick_5\">\n     <g id=\"line2d_5\">\n      <g>\n       <use xlink:href=\"#m970b7791ce\" x=\"251.414773\" y=\"225.595814\" style=\"stroke: #000000; stroke-width: 0.8\"/>\n      </g>\n     </g>\n     <g id=\"text_5\">\n      <!-- 10 -->\n      <g transform=\"translate(245.052273 240.194251)scale(0.1 -0.1)\">\n       <defs>\n        <path id=\"DejaVuSans-31\" d=\"M 794 531 \nL 1825 531 \nL 1825 4091 \nL 703 3866 \nL 703 4441 \nL 1819 4666 \nL 2450 4666 \nL 2450 531 \nL 3481 531 \nL 3481 0 \nL 794 0 \nL 794 531 \nz\n\" transform=\"scale(0.015625)\"/>\n        <path id=\"DejaVuSans-30\" d=\"M 2034 4250 \nQ 1547 4250 1301 3770 \nQ 1056 3291 1056 2328 \nQ 1056 1369 1301 889 \nQ 1547 409 2034 409 \nQ 2525 409 2770 889 \nQ 3016 1369 3016 2328 \nQ 3016 3291 2770 3770 \nQ 2525 4250 2034 4250 \nz\nM 2034 4750 \nQ 2819 4750 3233 4129 \nQ 3647 3509 3647 2328 \nQ 3647 1150 3233 529 \nQ 2819 -91 2034 -91 \nQ 1250 -91 836 529 \nQ 422 1150 422 2328 \nQ 422 3509 836 4129 \nQ 1250 4750 2034 4750 \nz\n\" transform=\"scale(0.015625)\"/>\n       </defs>\n       <use xlink:href=\"#DejaVuSans-31\"/>\n       <use xlink:href=\"#DejaVuSans-30\" x=\"63.623047\"/>\n      </g>\n     </g>\n    </g>\n    <g id=\"xtick_6\">\n     <g id=\"line2d_6\">\n      <g>\n       <use xlink:href=\"#m970b7791ce\" x=\"302.142045\" y=\"225.595814\" style=\"stroke: #000000; stroke-width: 0.8\"/>\n      </g>\n     </g>\n     <g id=\"text_6\">\n      <!-- 12 -->\n      <g transform=\"translate(295.779545 240.194251)scale(0.1 -0.1)\">\n       <use xlink:href=\"#DejaVuSans-31\"/>\n       <use xlink:href=\"#DejaVuSans-32\" x=\"63.623047\"/>\n      </g>\n     </g>\n    </g>\n    <g id=\"xtick_7\">\n     <g id=\"line2d_7\">\n      <g>\n       <use xlink:href=\"#m970b7791ce\" x=\"352.869318\" y=\"225.595814\" style=\"stroke: #000000; stroke-width: 0.8\"/>\n      </g>\n     </g>\n     <g id=\"text_7\">\n      <!-- 14 -->\n      <g transform=\"translate(346.506818 240.194251)scale(0.1 -0.1)\">\n       <use xlink:href=\"#DejaVuSans-31\"/>\n       <use xlink:href=\"#DejaVuSans-34\" x=\"63.623047\"/>\n      </g>\n     </g>\n    </g>\n   </g>\n   <g id=\"matplotlib.axis_2\">\n    <g id=\"ytick_1\">\n     <g id=\"line2d_8\">\n      <defs>\n       <path id=\"m63ad9fffd3\" d=\"M 0 0 \nL -3.5 0 \n\" style=\"stroke: #000000; stroke-width: 0.8\"/>\n      </defs>\n      <g>\n       <use xlink:href=\"#m63ad9fffd3\" x=\"33.2875\" y=\"225.595814\" style=\"stroke: #000000; stroke-width: 0.8\"/>\n      </g>\n     </g>\n     <g id=\"text_8\">\n      <!-- 0 -->\n      <g transform=\"translate(19.925 229.395033)scale(0.1 -0.1)\">\n       <use xlink:href=\"#DejaVuSans-30\"/>\n      </g>\n     </g>\n    </g>\n    <g id=\"ytick_2\">\n     <g id=\"line2d_9\">\n      <g>\n       <use xlink:href=\"#m63ad9fffd3\" x=\"33.2875\" y=\"198.771239\" style=\"stroke: #000000; stroke-width: 0.8\"/>\n      </g>\n     </g>\n     <g id=\"text_9\">\n      <!-- 25 -->\n      <g transform=\"translate(13.5625 202.570458)scale(0.1 -0.1)\">\n       <defs>\n        <path id=\"DejaVuSans-35\" d=\"M 691 4666 \nL 3169 4666 \nL 3169 4134 \nL 1269 4134 \nL 1269 2991 \nQ 1406 3038 1543 3061 \nQ 1681 3084 1819 3084 \nQ 2600 3084 3056 2656 \nQ 3513 2228 3513 1497 \nQ 3513 744 3044 326 \nQ 2575 -91 1722 -91 \nQ 1428 -91 1123 -41 \nQ 819 9 494 109 \nL 494 744 \nQ 775 591 1075 516 \nQ 1375 441 1709 441 \nQ 2250 441 2565 725 \nQ 2881 1009 2881 1497 \nQ 2881 1984 2565 2268 \nQ 2250 2553 1709 2553 \nQ 1456 2553 1204 2497 \nQ 953 2441 691 2322 \nL 691 4666 \nz\n\" transform=\"scale(0.015625)\"/>\n       </defs>\n       <use xlink:href=\"#DejaVuSans-32\"/>\n       <use xlink:href=\"#DejaVuSans-35\" x=\"63.623047\"/>\n      </g>\n     </g>\n    </g>\n    <g id=\"ytick_3\">\n     <g id=\"line2d_10\">\n      <g>\n       <use xlink:href=\"#m63ad9fffd3\" x=\"33.2875\" y=\"171.946665\" style=\"stroke: #000000; stroke-width: 0.8\"/>\n      </g>\n     </g>\n     <g id=\"text_10\">\n      <!-- 50 -->\n      <g transform=\"translate(13.5625 175.745884)scale(0.1 -0.1)\">\n       <use xlink:href=\"#DejaVuSans-35\"/>\n       <use xlink:href=\"#DejaVuSans-30\" x=\"63.623047\"/>\n      </g>\n     </g>\n    </g>\n    <g id=\"ytick_4\">\n     <g id=\"line2d_11\">\n      <g>\n       <use xlink:href=\"#m63ad9fffd3\" x=\"33.2875\" y=\"145.122091\" style=\"stroke: #000000; stroke-width: 0.8\"/>\n      </g>\n     </g>\n     <g id=\"text_11\">\n      <!-- 75 -->\n      <g transform=\"translate(13.5625 148.921309)scale(0.1 -0.1)\">\n       <defs>\n        <path id=\"DejaVuSans-37\" d=\"M 525 4666 \nL 3525 4666 \nL 3525 4397 \nL 1831 0 \nL 1172 0 \nL 2766 4134 \nL 525 4134 \nL 525 4666 \nz\n\" transform=\"scale(0.015625)\"/>\n       </defs>\n       <use xlink:href=\"#DejaVuSans-37\"/>\n       <use xlink:href=\"#DejaVuSans-35\" x=\"63.623047\"/>\n      </g>\n     </g>\n    </g>\n    <g id=\"ytick_5\">\n     <g id=\"line2d_12\">\n      <g>\n       <use xlink:href=\"#m63ad9fffd3\" x=\"33.2875\" y=\"118.297516\" style=\"stroke: #000000; stroke-width: 0.8\"/>\n      </g>\n     </g>\n     <g id=\"text_12\">\n      <!-- 100 -->\n      <g transform=\"translate(7.2 122.096735)scale(0.1 -0.1)\">\n       <use xlink:href=\"#DejaVuSans-31\"/>\n       <use xlink:href=\"#DejaVuSans-30\" x=\"63.623047\"/>\n       <use xlink:href=\"#DejaVuSans-30\" x=\"127.246094\"/>\n      </g>\n     </g>\n    </g>\n    <g id=\"ytick_6\">\n     <g id=\"line2d_13\">\n      <g>\n       <use xlink:href=\"#m63ad9fffd3\" x=\"33.2875\" y=\"91.472942\" style=\"stroke: #000000; stroke-width: 0.8\"/>\n      </g>\n     </g>\n     <g id=\"text_13\">\n      <!-- 125 -->\n      <g transform=\"translate(7.2 95.272161)scale(0.1 -0.1)\">\n       <use xlink:href=\"#DejaVuSans-31\"/>\n       <use xlink:href=\"#DejaVuSans-32\" x=\"63.623047\"/>\n       <use xlink:href=\"#DejaVuSans-35\" x=\"127.246094\"/>\n      </g>\n     </g>\n    </g>\n    <g id=\"ytick_7\">\n     <g id=\"line2d_14\">\n      <g>\n       <use xlink:href=\"#m63ad9fffd3\" x=\"33.2875\" y=\"64.648368\" style=\"stroke: #000000; stroke-width: 0.8\"/>\n      </g>\n     </g>\n     <g id=\"text_14\">\n      <!-- 150 -->\n      <g transform=\"translate(7.2 68.447586)scale(0.1 -0.1)\">\n       <use xlink:href=\"#DejaVuSans-31\"/>\n       <use xlink:href=\"#DejaVuSans-35\" x=\"63.623047\"/>\n       <use xlink:href=\"#DejaVuSans-30\" x=\"127.246094\"/>\n      </g>\n     </g>\n    </g>\n    <g id=\"ytick_8\">\n     <g id=\"line2d_15\">\n      <g>\n       <use xlink:href=\"#m63ad9fffd3\" x=\"33.2875\" y=\"37.823793\" style=\"stroke: #000000; stroke-width: 0.8\"/>\n      </g>\n     </g>\n     <g id=\"text_15\">\n      <!-- 175 -->\n      <g transform=\"translate(7.2 41.623012)scale(0.1 -0.1)\">\n       <use xlink:href=\"#DejaVuSans-31\"/>\n       <use xlink:href=\"#DejaVuSans-37\" x=\"63.623047\"/>\n       <use xlink:href=\"#DejaVuSans-35\" x=\"127.246094\"/>\n      </g>\n     </g>\n    </g>\n    <g id=\"ytick_9\">\n     <g id=\"line2d_16\">\n      <g>\n       <use xlink:href=\"#m63ad9fffd3\" x=\"33.2875\" y=\"10.999219\" style=\"stroke: #000000; stroke-width: 0.8\"/>\n      </g>\n     </g>\n     <g id=\"text_16\">\n      <!-- 200 -->\n      <g transform=\"translate(7.2 14.798437)scale(0.1 -0.1)\">\n       <use xlink:href=\"#DejaVuSans-32\"/>\n       <use xlink:href=\"#DejaVuSans-30\" x=\"63.623047\"/>\n       <use xlink:href=\"#DejaVuSans-30\" x=\"127.246094\"/>\n      </g>\n     </g>\n    </g>\n   </g>\n   <g id=\"patch_16\">\n    <path d=\"M 33.2875 225.595814 \nL 33.2875 8.155814 \n\" style=\"fill: none; stroke: #000000; stroke-width: 0.8; stroke-linejoin: miter; stroke-linecap: square\"/>\n   </g>\n   <g id=\"patch_17\">\n    <path d=\"M 368.0875 225.595814 \nL 368.0875 8.155814 \n\" style=\"fill: none; stroke: #000000; stroke-width: 0.8; stroke-linejoin: miter; stroke-linecap: square\"/>\n   </g>\n   <g id=\"patch_18\">\n    <path d=\"M 33.2875 225.595814 \nL 368.0875 225.595814 \n\" style=\"fill: none; stroke: #000000; stroke-width: 0.8; stroke-linejoin: miter; stroke-linecap: square\"/>\n   </g>\n   <g id=\"patch_19\">\n    <path d=\"M 33.2875 8.155814 \nL 368.0875 8.155814 \n\" style=\"fill: none; stroke: #000000; stroke-width: 0.8; stroke-linejoin: miter; stroke-linecap: square\"/>\n   </g>\n  </g>\n </g>\n <defs>\n  <clipPath id=\"pbb35da7cd9\">\n   <rect x=\"33.2875\" y=\"8.155814\" width=\"334.8\" height=\"217.44\"/>\n  </clipPath>\n </defs>\n</svg>\n",
      "text/plain": [
       "<Figure size 432x288 with 1 Axes>"
      ]
     },
     "metadata": {},
     "output_type": "display_data"
    }
   ],
   "source": [
    "n= 15\n",
    "a = [binomiale(n, 0.5) for i in range(1000)]\n",
    "plt.hist(a, len(np.unique(a)))"
   ]
  },
  {
   "cell_type": "markdown",
   "metadata": {},
   "source": [
    "## II- Visualisation d'indépendances (<font color=\"red\"> obligatoire</font>)"
   ]
  },
  {
   "cell_type": "markdown",
   "metadata": {},
   "source": [
    "### II.1- Loi normale centrée réduite\n",
    "<img src=\"tme2_normale.jpg\" title=\"Planche de Galton\" style=\"float: right;\">\n",
    "\n",
    "On souhaite visualiser la fonction de densité de la loi normale. Pour cela, on va créer un ensemble de $k$ points $(x_i,y_i$), pour des $x_i$ équi-espacés variant de $-2σ$ à $2σ$, les $y_i$ correspondant à la valeur de la fonction de densité de la loi normale centrée de variance $σ^2$, autrement dit ${\\cal N}(0,σ^2)$.\n",
    "\n",
    "Écrire une fonction `normale : int , float -> float np.array` qui, étant donné un paramètre entier `k` impair et un paramètre réel `sigma` renvoie l'`array numpy` des $k$ valeurs $y_i$. Afin que l'`array numpy` soit bien symmétrique, on lèvera une exception si $k$ est pair."
   ]
  },
  {
   "cell_type": "code",
   "execution_count": 52,
   "metadata": {},
   "outputs": [],
   "source": [
    "def normale ( k, sigma, mu=0):\n",
    "    assert k%2 == 1, \"k doit être pair\"\n",
    "    inter = (4*sigma)/k\n",
    "    x = np.array([-2*sigma+i*inter for i in range(k)])\n",
    "    print(x)\n",
    "    return (1/(sigma*np.sqrt(2*np.pi)))*np.exp(-0.5*((x/sigma)**2))\n"
   ]
  },
  {
   "cell_type": "markdown",
   "metadata": {},
   "source": [
    "Vérfier la validité de votre fonction en affichant grâce à la fonction plot les points générés dans une figure. "
   ]
  },
  {
   "cell_type": "code",
   "execution_count": 53,
   "metadata": {},
   "outputs": [
    {
     "name": "stdout",
     "output_type": "stream",
     "text": [
      "[-2.         -1.996004   -1.99200799 ...  1.98801199  1.99200799\n",
      "  1.996004  ]\n"
     ]
    },
    {
     "data": {
      "text/plain": [
       "[<matplotlib.lines.Line2D at 0x7f24e27d2370>]"
      ]
     },
     "execution_count": 53,
     "metadata": {},
     "output_type": "execute_result"
    },
    {
     "data": {
      "image/svg+xml": "<?xml version=\"1.0\" encoding=\"utf-8\" standalone=\"no\"?>\n<!DOCTYPE svg PUBLIC \"-//W3C//DTD SVG 1.1//EN\"\n  \"http://www.w3.org/Graphics/SVG/1.1/DTD/svg11.dtd\">\n<svg xmlns:xlink=\"http://www.w3.org/1999/xlink\" width=\"378.465625pt\" height=\"248.518125pt\" viewBox=\"0 0 378.465625 248.518125\" xmlns=\"http://www.w3.org/2000/svg\" version=\"1.1\">\n <metadata>\n  <rdf:RDF xmlns:dc=\"http://purl.org/dc/elements/1.1/\" xmlns:cc=\"http://creativecommons.org/ns#\" xmlns:rdf=\"http://www.w3.org/1999/02/22-rdf-syntax-ns#\">\n   <cc:Work>\n    <dc:type rdf:resource=\"http://purl.org/dc/dcmitype/StillImage\"/>\n    <dc:date>2022-09-28T16:57:47.773240</dc:date>\n    <dc:format>image/svg+xml</dc:format>\n    <dc:creator>\n     <cc:Agent>\n      <dc:title>Matplotlib v3.5.2, https://matplotlib.org/</dc:title>\n     </cc:Agent>\n    </dc:creator>\n   </cc:Work>\n  </rdf:RDF>\n </metadata>\n <defs>\n  <style type=\"text/css\">*{stroke-linejoin: round; stroke-linecap: butt}</style>\n </defs>\n <g id=\"figure_1\">\n  <g id=\"patch_1\">\n   <path d=\"M 0 248.518125 \nL 378.465625 248.518125 \nL 378.465625 0 \nL 0 0 \nz\n\" style=\"fill: #e0e0e0\"/>\n  </g>\n  <g id=\"axes_1\">\n   <g id=\"patch_2\">\n    <path d=\"M 36.465625 224.64 \nL 371.265625 224.64 \nL 371.265625 7.2 \nL 36.465625 7.2 \nz\n\" style=\"fill: #ffffff\"/>\n   </g>\n   <g id=\"matplotlib.axis_1\">\n    <g id=\"xtick_1\">\n     <g id=\"line2d_1\">\n      <defs>\n       <path id=\"mc7fa80adeb\" d=\"M 0 0 \nL 0 3.5 \n\" style=\"stroke: #000000; stroke-width: 0.8\"/>\n      </defs>\n      <g>\n       <use xlink:href=\"#mc7fa80adeb\" x=\"51.683807\" y=\"224.64\" style=\"stroke: #000000; stroke-width: 0.8\"/>\n      </g>\n     </g>\n     <g id=\"text_1\">\n      <!-- 0 -->\n      <g transform=\"translate(48.502557 239.238438)scale(0.1 -0.1)\">\n       <defs>\n        <path id=\"DejaVuSans-30\" d=\"M 2034 4250 \nQ 1547 4250 1301 3770 \nQ 1056 3291 1056 2328 \nQ 1056 1369 1301 889 \nQ 1547 409 2034 409 \nQ 2525 409 2770 889 \nQ 3016 1369 3016 2328 \nQ 3016 3291 2770 3770 \nQ 2525 4250 2034 4250 \nz\nM 2034 4750 \nQ 2819 4750 3233 4129 \nQ 3647 3509 3647 2328 \nQ 3647 1150 3233 529 \nQ 2819 -91 2034 -91 \nQ 1250 -91 836 529 \nQ 422 1150 422 2328 \nQ 422 3509 836 4129 \nQ 1250 4750 2034 4750 \nz\n\" transform=\"scale(0.015625)\"/>\n       </defs>\n       <use xlink:href=\"#DejaVuSans-30\"/>\n      </g>\n     </g>\n    </g>\n    <g id=\"xtick_2\">\n     <g id=\"line2d_2\">\n      <g>\n       <use xlink:href=\"#mc7fa80adeb\" x=\"112.556534\" y=\"224.64\" style=\"stroke: #000000; stroke-width: 0.8\"/>\n      </g>\n     </g>\n     <g id=\"text_2\">\n      <!-- 200 -->\n      <g transform=\"translate(103.012784 239.238438)scale(0.1 -0.1)\">\n       <defs>\n        <path id=\"DejaVuSans-32\" d=\"M 1228 531 \nL 3431 531 \nL 3431 0 \nL 469 0 \nL 469 531 \nQ 828 903 1448 1529 \nQ 2069 2156 2228 2338 \nQ 2531 2678 2651 2914 \nQ 2772 3150 2772 3378 \nQ 2772 3750 2511 3984 \nQ 2250 4219 1831 4219 \nQ 1534 4219 1204 4116 \nQ 875 4013 500 3803 \nL 500 4441 \nQ 881 4594 1212 4672 \nQ 1544 4750 1819 4750 \nQ 2544 4750 2975 4387 \nQ 3406 4025 3406 3419 \nQ 3406 3131 3298 2873 \nQ 3191 2616 2906 2266 \nQ 2828 2175 2409 1742 \nQ 1991 1309 1228 531 \nz\n\" transform=\"scale(0.015625)\"/>\n       </defs>\n       <use xlink:href=\"#DejaVuSans-32\"/>\n       <use xlink:href=\"#DejaVuSans-30\" x=\"63.623047\"/>\n       <use xlink:href=\"#DejaVuSans-30\" x=\"127.246094\"/>\n      </g>\n     </g>\n    </g>\n    <g id=\"xtick_3\">\n     <g id=\"line2d_3\">\n      <g>\n       <use xlink:href=\"#mc7fa80adeb\" x=\"173.429261\" y=\"224.64\" style=\"stroke: #000000; stroke-width: 0.8\"/>\n      </g>\n     </g>\n     <g id=\"text_3\">\n      <!-- 400 -->\n      <g transform=\"translate(163.885511 239.238438)scale(0.1 -0.1)\">\n       <defs>\n        <path id=\"DejaVuSans-34\" d=\"M 2419 4116 \nL 825 1625 \nL 2419 1625 \nL 2419 4116 \nz\nM 2253 4666 \nL 3047 4666 \nL 3047 1625 \nL 3713 1625 \nL 3713 1100 \nL 3047 1100 \nL 3047 0 \nL 2419 0 \nL 2419 1100 \nL 313 1100 \nL 313 1709 \nL 2253 4666 \nz\n\" transform=\"scale(0.015625)\"/>\n       </defs>\n       <use xlink:href=\"#DejaVuSans-34\"/>\n       <use xlink:href=\"#DejaVuSans-30\" x=\"63.623047\"/>\n       <use xlink:href=\"#DejaVuSans-30\" x=\"127.246094\"/>\n      </g>\n     </g>\n    </g>\n    <g id=\"xtick_4\">\n     <g id=\"line2d_4\">\n      <g>\n       <use xlink:href=\"#mc7fa80adeb\" x=\"234.301989\" y=\"224.64\" style=\"stroke: #000000; stroke-width: 0.8\"/>\n      </g>\n     </g>\n     <g id=\"text_4\">\n      <!-- 600 -->\n      <g transform=\"translate(224.758239 239.238438)scale(0.1 -0.1)\">\n       <defs>\n        <path id=\"DejaVuSans-36\" d=\"M 2113 2584 \nQ 1688 2584 1439 2293 \nQ 1191 2003 1191 1497 \nQ 1191 994 1439 701 \nQ 1688 409 2113 409 \nQ 2538 409 2786 701 \nQ 3034 994 3034 1497 \nQ 3034 2003 2786 2293 \nQ 2538 2584 2113 2584 \nz\nM 3366 4563 \nL 3366 3988 \nQ 3128 4100 2886 4159 \nQ 2644 4219 2406 4219 \nQ 1781 4219 1451 3797 \nQ 1122 3375 1075 2522 \nQ 1259 2794 1537 2939 \nQ 1816 3084 2150 3084 \nQ 2853 3084 3261 2657 \nQ 3669 2231 3669 1497 \nQ 3669 778 3244 343 \nQ 2819 -91 2113 -91 \nQ 1303 -91 875 529 \nQ 447 1150 447 2328 \nQ 447 3434 972 4092 \nQ 1497 4750 2381 4750 \nQ 2619 4750 2861 4703 \nQ 3103 4656 3366 4563 \nz\n\" transform=\"scale(0.015625)\"/>\n       </defs>\n       <use xlink:href=\"#DejaVuSans-36\"/>\n       <use xlink:href=\"#DejaVuSans-30\" x=\"63.623047\"/>\n       <use xlink:href=\"#DejaVuSans-30\" x=\"127.246094\"/>\n      </g>\n     </g>\n    </g>\n    <g id=\"xtick_5\">\n     <g id=\"line2d_5\">\n      <g>\n       <use xlink:href=\"#mc7fa80adeb\" x=\"295.174716\" y=\"224.64\" style=\"stroke: #000000; stroke-width: 0.8\"/>\n      </g>\n     </g>\n     <g id=\"text_5\">\n      <!-- 800 -->\n      <g transform=\"translate(285.630966 239.238438)scale(0.1 -0.1)\">\n       <defs>\n        <path id=\"DejaVuSans-38\" d=\"M 2034 2216 \nQ 1584 2216 1326 1975 \nQ 1069 1734 1069 1313 \nQ 1069 891 1326 650 \nQ 1584 409 2034 409 \nQ 2484 409 2743 651 \nQ 3003 894 3003 1313 \nQ 3003 1734 2745 1975 \nQ 2488 2216 2034 2216 \nz\nM 1403 2484 \nQ 997 2584 770 2862 \nQ 544 3141 544 3541 \nQ 544 4100 942 4425 \nQ 1341 4750 2034 4750 \nQ 2731 4750 3128 4425 \nQ 3525 4100 3525 3541 \nQ 3525 3141 3298 2862 \nQ 3072 2584 2669 2484 \nQ 3125 2378 3379 2068 \nQ 3634 1759 3634 1313 \nQ 3634 634 3220 271 \nQ 2806 -91 2034 -91 \nQ 1263 -91 848 271 \nQ 434 634 434 1313 \nQ 434 1759 690 2068 \nQ 947 2378 1403 2484 \nz\nM 1172 3481 \nQ 1172 3119 1398 2916 \nQ 1625 2713 2034 2713 \nQ 2441 2713 2670 2916 \nQ 2900 3119 2900 3481 \nQ 2900 3844 2670 4047 \nQ 2441 4250 2034 4250 \nQ 1625 4250 1398 4047 \nQ 1172 3844 1172 3481 \nz\n\" transform=\"scale(0.015625)\"/>\n       </defs>\n       <use xlink:href=\"#DejaVuSans-38\"/>\n       <use xlink:href=\"#DejaVuSans-30\" x=\"63.623047\"/>\n       <use xlink:href=\"#DejaVuSans-30\" x=\"127.246094\"/>\n      </g>\n     </g>\n    </g>\n    <g id=\"xtick_6\">\n     <g id=\"line2d_6\">\n      <g>\n       <use xlink:href=\"#mc7fa80adeb\" x=\"356.047443\" y=\"224.64\" style=\"stroke: #000000; stroke-width: 0.8\"/>\n      </g>\n     </g>\n     <g id=\"text_6\">\n      <!-- 1000 -->\n      <g transform=\"translate(343.322443 239.238438)scale(0.1 -0.1)\">\n       <defs>\n        <path id=\"DejaVuSans-31\" d=\"M 794 531 \nL 1825 531 \nL 1825 4091 \nL 703 3866 \nL 703 4441 \nL 1819 4666 \nL 2450 4666 \nL 2450 531 \nL 3481 531 \nL 3481 0 \nL 794 0 \nL 794 531 \nz\n\" transform=\"scale(0.015625)\"/>\n       </defs>\n       <use xlink:href=\"#DejaVuSans-31\"/>\n       <use xlink:href=\"#DejaVuSans-30\" x=\"63.623047\"/>\n       <use xlink:href=\"#DejaVuSans-30\" x=\"127.246094\"/>\n       <use xlink:href=\"#DejaVuSans-30\" x=\"190.869141\"/>\n      </g>\n     </g>\n    </g>\n   </g>\n   <g id=\"matplotlib.axis_2\">\n    <g id=\"ytick_1\">\n     <g id=\"line2d_7\">\n      <defs>\n       <path id=\"mf033c00f27\" d=\"M 0 0 \nL -3.5 0 \n\" style=\"stroke: #000000; stroke-width: 0.8\"/>\n      </defs>\n      <g>\n       <use xlink:href=\"#mf033c00f27\" x=\"36.465625\" y=\"217.043373\" style=\"stroke: #000000; stroke-width: 0.8\"/>\n      </g>\n     </g>\n     <g id=\"text_7\">\n      <!-- 0.05 -->\n      <g transform=\"translate(7.2 220.842592)scale(0.1 -0.1)\">\n       <defs>\n        <path id=\"DejaVuSans-2e\" d=\"M 684 794 \nL 1344 794 \nL 1344 0 \nL 684 0 \nL 684 794 \nz\n\" transform=\"scale(0.015625)\"/>\n        <path id=\"DejaVuSans-35\" d=\"M 691 4666 \nL 3169 4666 \nL 3169 4134 \nL 1269 4134 \nL 1269 2991 \nQ 1406 3038 1543 3061 \nQ 1681 3084 1819 3084 \nQ 2600 3084 3056 2656 \nQ 3513 2228 3513 1497 \nQ 3513 744 3044 326 \nQ 2575 -91 1722 -91 \nQ 1428 -91 1123 -41 \nQ 819 9 494 109 \nL 494 744 \nQ 775 591 1075 516 \nQ 1375 441 1709 441 \nQ 2250 441 2565 725 \nQ 2881 1009 2881 1497 \nQ 2881 1984 2565 2268 \nQ 2250 2553 1709 2553 \nQ 1456 2553 1204 2497 \nQ 953 2441 691 2322 \nL 691 4666 \nz\n\" transform=\"scale(0.015625)\"/>\n       </defs>\n       <use xlink:href=\"#DejaVuSans-30\"/>\n       <use xlink:href=\"#DejaVuSans-2e\" x=\"63.623047\"/>\n       <use xlink:href=\"#DejaVuSans-30\" x=\"95.410156\"/>\n       <use xlink:href=\"#DejaVuSans-35\" x=\"159.033203\"/>\n      </g>\n     </g>\n    </g>\n    <g id=\"ytick_2\">\n     <g id=\"line2d_8\">\n      <g>\n       <use xlink:href=\"#mf033c00f27\" x=\"36.465625\" y=\"188.391043\" style=\"stroke: #000000; stroke-width: 0.8\"/>\n      </g>\n     </g>\n     <g id=\"text_8\">\n      <!-- 0.10 -->\n      <g transform=\"translate(7.2 192.190261)scale(0.1 -0.1)\">\n       <use xlink:href=\"#DejaVuSans-30\"/>\n       <use xlink:href=\"#DejaVuSans-2e\" x=\"63.623047\"/>\n       <use xlink:href=\"#DejaVuSans-31\" x=\"95.410156\"/>\n       <use xlink:href=\"#DejaVuSans-30\" x=\"159.033203\"/>\n      </g>\n     </g>\n    </g>\n    <g id=\"ytick_3\">\n     <g id=\"line2d_9\">\n      <g>\n       <use xlink:href=\"#mf033c00f27\" x=\"36.465625\" y=\"159.738712\" style=\"stroke: #000000; stroke-width: 0.8\"/>\n      </g>\n     </g>\n     <g id=\"text_9\">\n      <!-- 0.15 -->\n      <g transform=\"translate(7.2 163.537931)scale(0.1 -0.1)\">\n       <use xlink:href=\"#DejaVuSans-30\"/>\n       <use xlink:href=\"#DejaVuSans-2e\" x=\"63.623047\"/>\n       <use xlink:href=\"#DejaVuSans-31\" x=\"95.410156\"/>\n       <use xlink:href=\"#DejaVuSans-35\" x=\"159.033203\"/>\n      </g>\n     </g>\n    </g>\n    <g id=\"ytick_4\">\n     <g id=\"line2d_10\">\n      <g>\n       <use xlink:href=\"#mf033c00f27\" x=\"36.465625\" y=\"131.086381\" style=\"stroke: #000000; stroke-width: 0.8\"/>\n      </g>\n     </g>\n     <g id=\"text_10\">\n      <!-- 0.20 -->\n      <g transform=\"translate(7.2 134.8856)scale(0.1 -0.1)\">\n       <use xlink:href=\"#DejaVuSans-30\"/>\n       <use xlink:href=\"#DejaVuSans-2e\" x=\"63.623047\"/>\n       <use xlink:href=\"#DejaVuSans-32\" x=\"95.410156\"/>\n       <use xlink:href=\"#DejaVuSans-30\" x=\"159.033203\"/>\n      </g>\n     </g>\n    </g>\n    <g id=\"ytick_5\">\n     <g id=\"line2d_11\">\n      <g>\n       <use xlink:href=\"#mf033c00f27\" x=\"36.465625\" y=\"102.43405\" style=\"stroke: #000000; stroke-width: 0.8\"/>\n      </g>\n     </g>\n     <g id=\"text_11\">\n      <!-- 0.25 -->\n      <g transform=\"translate(7.2 106.233269)scale(0.1 -0.1)\">\n       <use xlink:href=\"#DejaVuSans-30\"/>\n       <use xlink:href=\"#DejaVuSans-2e\" x=\"63.623047\"/>\n       <use xlink:href=\"#DejaVuSans-32\" x=\"95.410156\"/>\n       <use xlink:href=\"#DejaVuSans-35\" x=\"159.033203\"/>\n      </g>\n     </g>\n    </g>\n    <g id=\"ytick_6\">\n     <g id=\"line2d_12\">\n      <g>\n       <use xlink:href=\"#mf033c00f27\" x=\"36.465625\" y=\"73.781719\" style=\"stroke: #000000; stroke-width: 0.8\"/>\n      </g>\n     </g>\n     <g id=\"text_12\">\n      <!-- 0.30 -->\n      <g transform=\"translate(7.2 77.580938)scale(0.1 -0.1)\">\n       <defs>\n        <path id=\"DejaVuSans-33\" d=\"M 2597 2516 \nQ 3050 2419 3304 2112 \nQ 3559 1806 3559 1356 \nQ 3559 666 3084 287 \nQ 2609 -91 1734 -91 \nQ 1441 -91 1130 -33 \nQ 819 25 488 141 \nL 488 750 \nQ 750 597 1062 519 \nQ 1375 441 1716 441 \nQ 2309 441 2620 675 \nQ 2931 909 2931 1356 \nQ 2931 1769 2642 2001 \nQ 2353 2234 1838 2234 \nL 1294 2234 \nL 1294 2753 \nL 1863 2753 \nQ 2328 2753 2575 2939 \nQ 2822 3125 2822 3475 \nQ 2822 3834 2567 4026 \nQ 2313 4219 1838 4219 \nQ 1578 4219 1281 4162 \nQ 984 4106 628 3988 \nL 628 4550 \nQ 988 4650 1302 4700 \nQ 1616 4750 1894 4750 \nQ 2613 4750 3031 4423 \nQ 3450 4097 3450 3541 \nQ 3450 3153 3228 2886 \nQ 3006 2619 2597 2516 \nz\n\" transform=\"scale(0.015625)\"/>\n       </defs>\n       <use xlink:href=\"#DejaVuSans-30\"/>\n       <use xlink:href=\"#DejaVuSans-2e\" x=\"63.623047\"/>\n       <use xlink:href=\"#DejaVuSans-33\" x=\"95.410156\"/>\n       <use xlink:href=\"#DejaVuSans-30\" x=\"159.033203\"/>\n      </g>\n     </g>\n    </g>\n    <g id=\"ytick_7\">\n     <g id=\"line2d_13\">\n      <g>\n       <use xlink:href=\"#mf033c00f27\" x=\"36.465625\" y=\"45.129388\" style=\"stroke: #000000; stroke-width: 0.8\"/>\n      </g>\n     </g>\n     <g id=\"text_13\">\n      <!-- 0.35 -->\n      <g transform=\"translate(7.2 48.928607)scale(0.1 -0.1)\">\n       <use xlink:href=\"#DejaVuSans-30\"/>\n       <use xlink:href=\"#DejaVuSans-2e\" x=\"63.623047\"/>\n       <use xlink:href=\"#DejaVuSans-33\" x=\"95.410156\"/>\n       <use xlink:href=\"#DejaVuSans-35\" x=\"159.033203\"/>\n      </g>\n     </g>\n    </g>\n    <g id=\"ytick_8\">\n     <g id=\"line2d_14\">\n      <g>\n       <use xlink:href=\"#mf033c00f27\" x=\"36.465625\" y=\"16.477057\" style=\"stroke: #000000; stroke-width: 0.8\"/>\n      </g>\n     </g>\n     <g id=\"text_14\">\n      <!-- 0.40 -->\n      <g transform=\"translate(7.2 20.276276)scale(0.1 -0.1)\">\n       <use xlink:href=\"#DejaVuSans-30\"/>\n       <use xlink:href=\"#DejaVuSans-2e\" x=\"63.623047\"/>\n       <use xlink:href=\"#DejaVuSans-34\" x=\"95.410156\"/>\n       <use xlink:href=\"#DejaVuSans-30\" x=\"159.033203\"/>\n      </g>\n     </g>\n    </g>\n   </g>\n   <g id=\"line2d_15\">\n    <path d=\"M 51.683807 214.756364 \nL 55.944898 211.147631 \nL 60.205989 207.238529 \nL 64.46708 203.020884 \nL 68.72817 198.488662 \nL 72.989261 193.638282 \nL 77.554716 188.08752 \nL 82.12017 182.173527 \nL 86.685625 175.90361 \nL 91.555443 168.837075 \nL 96.729625 160.923843 \nL 102.20817 152.127175 \nL 108.295443 141.910157 \nL 115.295807 129.693632 \nL 124.426716 113.264538 \nL 141.47108 82.514509 \nL 147.862716 71.487639 \nL 153.341261 62.47464 \nL 158.21108 54.902833 \nL 162.47217 48.683002 \nL 166.428898 43.294031 \nL 170.081261 38.685279 \nL 173.429261 34.794901 \nL 176.777261 31.246155 \nL 179.820898 28.332978 \nL 182.864534 25.731746 \nL 185.603807 23.667368 \nL 188.34308 21.873298 \nL 191.082352 20.356376 \nL 193.517261 19.245391 \nL 195.95217 18.361374 \nL 198.38708 17.707018 \nL 200.821989 17.284325 \nL 203.256898 17.094588 \nL 205.691807 17.138387 \nL 208.126716 17.41559 \nL 210.561625 17.925346 \nL 212.996534 18.666097 \nL 215.431443 19.635579 \nL 217.866352 20.830842 \nL 220.605625 22.440844 \nL 223.344898 24.325827 \nL 226.08417 26.478616 \nL 229.127807 29.174762 \nL 232.171443 32.178965 \nL 235.519443 35.822895 \nL 238.867443 39.802834 \nL 242.519807 44.502394 \nL 246.476534 49.981112 \nL 250.737625 56.287032 \nL 255.30308 63.452126 \nL 260.477261 72.001505 \nL 266.564534 82.514509 \nL 274.477989 96.665838 \nL 296.39217 136.121485 \nL 303.08817 147.582771 \nL 308.87108 157.064625 \nL 314.349625 165.627575 \nL 319.523807 173.29852 \nL 324.393625 180.122607 \nL 328.95908 186.156282 \nL 333.524534 191.828653 \nL 338.089989 197.135394 \nL 342.35108 201.758269 \nL 346.61217 206.065279 \nL 350.873261 210.061789 \nL 355.134352 213.755395 \nL 356.047443 214.508354 \nL 356.047443 214.508354 \n\" clip-path=\"url(#p585d4b2098)\" style=\"fill: none; stroke: #1f77b4; stroke-width: 1.5; stroke-linecap: square\"/>\n   </g>\n   <g id=\"patch_3\">\n    <path d=\"M 36.465625 224.64 \nL 36.465625 7.2 \n\" style=\"fill: none; stroke: #000000; stroke-width: 0.8; stroke-linejoin: miter; stroke-linecap: square\"/>\n   </g>\n   <g id=\"patch_4\">\n    <path d=\"M 371.265625 224.64 \nL 371.265625 7.2 \n\" style=\"fill: none; stroke: #000000; stroke-width: 0.8; stroke-linejoin: miter; stroke-linecap: square\"/>\n   </g>\n   <g id=\"patch_5\">\n    <path d=\"M 36.465625 224.64 \nL 371.265625 224.64 \n\" style=\"fill: none; stroke: #000000; stroke-width: 0.8; stroke-linejoin: miter; stroke-linecap: square\"/>\n   </g>\n   <g id=\"patch_6\">\n    <path d=\"M 36.465625 7.2 \nL 371.265625 7.2 \n\" style=\"fill: none; stroke: #000000; stroke-width: 0.8; stroke-linejoin: miter; stroke-linecap: square\"/>\n   </g>\n  </g>\n </g>\n <defs>\n  <clipPath id=\"p585d4b2098\">\n   <rect x=\"36.465625\" y=\"7.2\" width=\"334.8\" height=\"217.44\"/>\n  </clipPath>\n </defs>\n</svg>\n",
      "text/plain": [
       "<Figure size 432x288 with 1 Axes>"
      ]
     },
     "metadata": {},
     "output_type": "display_data"
    }
   ],
   "source": [
    "plt.plot(normale(1001, 1))"
   ]
  },
  {
   "cell_type": "markdown",
   "metadata": {},
   "source": [
    "### II.2- Distribution de probabilité affine\n",
    "<img src=\"tme2_lineaire.jpg\" title=\"Distribution affine\" style=\"float: right;\">\n",
    "\n",
    "Dans cette question, on considère une généralisation de la distribution uniforme: une distribution affine, c'est-à-dire que la fonction de densité est une droite, mais pas forcément horizontale, comme le montre la figure ci-contre. \n",
    "\n",
    "Écrire une fonction `proba_affine : int , float -> float np.array` qui, comme dans la question précédente, va générer un ensemble de $k$ points $y_i, i=0,...,k−1$, représentant cette distribution (paramétrée par sa pente `slope`). On vérifiera ici aussi que l'entier $k$ est impair. Si la pente est égale à $0$, c'est-à-dire si la distribution est uniforme, chaque point $y_i$ devrait être égal à $\\frac{1}{k}$ (afin que $\\sum y_i=1$). Si la pente est différente de $0$, il suffit de choisir, $\\forall i=0,...,k−1$,\n",
    "\n",
    "$$y_i=\\frac{1}{k}+(i−\\frac{k−1}{2})×slope$$\n",
    "\n",
    "Vous pourrez aisément vérifier que, ici aussi, $\\sum y_i=1$. Afin que la distribution soit toujours positive (c'est quand même un minimum pour une distribution de probabilité), il faut que la pente slope ne soit ni trop grande ni trop petite. Le bout de code ci-dessous lèvera une exception si la pente est trop élevée et indiquera la pente maximale possible. "
   ]
  },
  {
   "cell_type": "code",
   "execution_count": 54,
   "metadata": {},
   "outputs": [],
   "source": [
    "def proba_affine ( k, slope ):\n",
    "    if k % 2 == 0:\n",
    "        raise ValueError ( 'le nombre k doit etre impair' )\n",
    "    if abs ( slope  ) > 2. / ( k * k ):\n",
    "        raise ValueError ( 'la pente est trop raide : pente max = ' +\n",
    "        str ( 2. / ( k * k ) ) )\n",
    "    #votre code\n",
    "    x = np.arange(0, k)\n",
    "    y_i = lambda i: 1/k + (i-((k-1)/2)) * slope\n",
    "    return y_i(x)"
   ]
  },
  {
   "cell_type": "code",
   "execution_count": 55,
   "metadata": {},
   "outputs": [
    {
     "data": {
      "text/plain": [
       "[<matplotlib.lines.Line2D at 0x7f24e2735580>]"
      ]
     },
     "execution_count": 55,
     "metadata": {},
     "output_type": "execute_result"
    },
    {
     "data": {
      "image/svg+xml": "<?xml version=\"1.0\" encoding=\"utf-8\" standalone=\"no\"?>\n<!DOCTYPE svg PUBLIC \"-//W3C//DTD SVG 1.1//EN\"\n  \"http://www.w3.org/Graphics/SVG/1.1/DTD/svg11.dtd\">\n<svg xmlns:xlink=\"http://www.w3.org/1999/xlink\" width=\"391.190625pt\" height=\"248.518125pt\" viewBox=\"0 0 391.190625 248.518125\" xmlns=\"http://www.w3.org/2000/svg\" version=\"1.1\">\n <metadata>\n  <rdf:RDF xmlns:dc=\"http://purl.org/dc/elements/1.1/\" xmlns:cc=\"http://creativecommons.org/ns#\" xmlns:rdf=\"http://www.w3.org/1999/02/22-rdf-syntax-ns#\">\n   <cc:Work>\n    <dc:type rdf:resource=\"http://purl.org/dc/dcmitype/StillImage\"/>\n    <dc:date>2022-09-28T16:57:48.156059</dc:date>\n    <dc:format>image/svg+xml</dc:format>\n    <dc:creator>\n     <cc:Agent>\n      <dc:title>Matplotlib v3.5.2, https://matplotlib.org/</dc:title>\n     </cc:Agent>\n    </dc:creator>\n   </cc:Work>\n  </rdf:RDF>\n </metadata>\n <defs>\n  <style type=\"text/css\">*{stroke-linejoin: round; stroke-linecap: butt}</style>\n </defs>\n <g id=\"figure_1\">\n  <g id=\"patch_1\">\n   <path d=\"M 0 248.518125 \nL 391.190625 248.518125 \nL 391.190625 0 \nL 0 0 \nz\n\" style=\"fill: #e0e0e0\"/>\n  </g>\n  <g id=\"axes_1\">\n   <g id=\"patch_2\">\n    <path d=\"M 49.190625 224.64 \nL 383.990625 224.64 \nL 383.990625 7.2 \nL 49.190625 7.2 \nz\n\" style=\"fill: #ffffff\"/>\n   </g>\n   <g id=\"matplotlib.axis_1\">\n    <g id=\"xtick_1\">\n     <g id=\"line2d_1\">\n      <defs>\n       <path id=\"mcc0eaf7bd1\" d=\"M 0 0 \nL 0 3.5 \n\" style=\"stroke: #000000; stroke-width: 0.8\"/>\n      </defs>\n      <g>\n       <use xlink:href=\"#mcc0eaf7bd1\" x=\"64.408807\" y=\"224.64\" style=\"stroke: #000000; stroke-width: 0.8\"/>\n      </g>\n     </g>\n     <g id=\"text_1\">\n      <!-- 0 -->\n      <g transform=\"translate(61.227557 239.238438)scale(0.1 -0.1)\">\n       <defs>\n        <path id=\"DejaVuSans-30\" d=\"M 2034 4250 \nQ 1547 4250 1301 3770 \nQ 1056 3291 1056 2328 \nQ 1056 1369 1301 889 \nQ 1547 409 2034 409 \nQ 2525 409 2770 889 \nQ 3016 1369 3016 2328 \nQ 3016 3291 2770 3770 \nQ 2525 4250 2034 4250 \nz\nM 2034 4750 \nQ 2819 4750 3233 4129 \nQ 3647 3509 3647 2328 \nQ 3647 1150 3233 529 \nQ 2819 -91 2034 -91 \nQ 1250 -91 836 529 \nQ 422 1150 422 2328 \nQ 422 3509 836 4129 \nQ 1250 4750 2034 4750 \nz\n\" transform=\"scale(0.015625)\"/>\n       </defs>\n       <use xlink:href=\"#DejaVuSans-30\"/>\n      </g>\n     </g>\n    </g>\n    <g id=\"xtick_2\">\n     <g id=\"line2d_2\">\n      <g>\n       <use xlink:href=\"#mcc0eaf7bd1\" x=\"125.281534\" y=\"224.64\" style=\"stroke: #000000; stroke-width: 0.8\"/>\n      </g>\n     </g>\n     <g id=\"text_2\">\n      <!-- 20 -->\n      <g transform=\"translate(118.919034 239.238438)scale(0.1 -0.1)\">\n       <defs>\n        <path id=\"DejaVuSans-32\" d=\"M 1228 531 \nL 3431 531 \nL 3431 0 \nL 469 0 \nL 469 531 \nQ 828 903 1448 1529 \nQ 2069 2156 2228 2338 \nQ 2531 2678 2651 2914 \nQ 2772 3150 2772 3378 \nQ 2772 3750 2511 3984 \nQ 2250 4219 1831 4219 \nQ 1534 4219 1204 4116 \nQ 875 4013 500 3803 \nL 500 4441 \nQ 881 4594 1212 4672 \nQ 1544 4750 1819 4750 \nQ 2544 4750 2975 4387 \nQ 3406 4025 3406 3419 \nQ 3406 3131 3298 2873 \nQ 3191 2616 2906 2266 \nQ 2828 2175 2409 1742 \nQ 1991 1309 1228 531 \nz\n\" transform=\"scale(0.015625)\"/>\n       </defs>\n       <use xlink:href=\"#DejaVuSans-32\"/>\n       <use xlink:href=\"#DejaVuSans-30\" x=\"63.623047\"/>\n      </g>\n     </g>\n    </g>\n    <g id=\"xtick_3\">\n     <g id=\"line2d_3\">\n      <g>\n       <use xlink:href=\"#mcc0eaf7bd1\" x=\"186.154261\" y=\"224.64\" style=\"stroke: #000000; stroke-width: 0.8\"/>\n      </g>\n     </g>\n     <g id=\"text_3\">\n      <!-- 40 -->\n      <g transform=\"translate(179.791761 239.238438)scale(0.1 -0.1)\">\n       <defs>\n        <path id=\"DejaVuSans-34\" d=\"M 2419 4116 \nL 825 1625 \nL 2419 1625 \nL 2419 4116 \nz\nM 2253 4666 \nL 3047 4666 \nL 3047 1625 \nL 3713 1625 \nL 3713 1100 \nL 3047 1100 \nL 3047 0 \nL 2419 0 \nL 2419 1100 \nL 313 1100 \nL 313 1709 \nL 2253 4666 \nz\n\" transform=\"scale(0.015625)\"/>\n       </defs>\n       <use xlink:href=\"#DejaVuSans-34\"/>\n       <use xlink:href=\"#DejaVuSans-30\" x=\"63.623047\"/>\n      </g>\n     </g>\n    </g>\n    <g id=\"xtick_4\">\n     <g id=\"line2d_4\">\n      <g>\n       <use xlink:href=\"#mcc0eaf7bd1\" x=\"247.026989\" y=\"224.64\" style=\"stroke: #000000; stroke-width: 0.8\"/>\n      </g>\n     </g>\n     <g id=\"text_4\">\n      <!-- 60 -->\n      <g transform=\"translate(240.664489 239.238438)scale(0.1 -0.1)\">\n       <defs>\n        <path id=\"DejaVuSans-36\" d=\"M 2113 2584 \nQ 1688 2584 1439 2293 \nQ 1191 2003 1191 1497 \nQ 1191 994 1439 701 \nQ 1688 409 2113 409 \nQ 2538 409 2786 701 \nQ 3034 994 3034 1497 \nQ 3034 2003 2786 2293 \nQ 2538 2584 2113 2584 \nz\nM 3366 4563 \nL 3366 3988 \nQ 3128 4100 2886 4159 \nQ 2644 4219 2406 4219 \nQ 1781 4219 1451 3797 \nQ 1122 3375 1075 2522 \nQ 1259 2794 1537 2939 \nQ 1816 3084 2150 3084 \nQ 2853 3084 3261 2657 \nQ 3669 2231 3669 1497 \nQ 3669 778 3244 343 \nQ 2819 -91 2113 -91 \nQ 1303 -91 875 529 \nQ 447 1150 447 2328 \nQ 447 3434 972 4092 \nQ 1497 4750 2381 4750 \nQ 2619 4750 2861 4703 \nQ 3103 4656 3366 4563 \nz\n\" transform=\"scale(0.015625)\"/>\n       </defs>\n       <use xlink:href=\"#DejaVuSans-36\"/>\n       <use xlink:href=\"#DejaVuSans-30\" x=\"63.623047\"/>\n      </g>\n     </g>\n    </g>\n    <g id=\"xtick_5\">\n     <g id=\"line2d_5\">\n      <g>\n       <use xlink:href=\"#mcc0eaf7bd1\" x=\"307.899716\" y=\"224.64\" style=\"stroke: #000000; stroke-width: 0.8\"/>\n      </g>\n     </g>\n     <g id=\"text_5\">\n      <!-- 80 -->\n      <g transform=\"translate(301.537216 239.238438)scale(0.1 -0.1)\">\n       <defs>\n        <path id=\"DejaVuSans-38\" d=\"M 2034 2216 \nQ 1584 2216 1326 1975 \nQ 1069 1734 1069 1313 \nQ 1069 891 1326 650 \nQ 1584 409 2034 409 \nQ 2484 409 2743 651 \nQ 3003 894 3003 1313 \nQ 3003 1734 2745 1975 \nQ 2488 2216 2034 2216 \nz\nM 1403 2484 \nQ 997 2584 770 2862 \nQ 544 3141 544 3541 \nQ 544 4100 942 4425 \nQ 1341 4750 2034 4750 \nQ 2731 4750 3128 4425 \nQ 3525 4100 3525 3541 \nQ 3525 3141 3298 2862 \nQ 3072 2584 2669 2484 \nQ 3125 2378 3379 2068 \nQ 3634 1759 3634 1313 \nQ 3634 634 3220 271 \nQ 2806 -91 2034 -91 \nQ 1263 -91 848 271 \nQ 434 634 434 1313 \nQ 434 1759 690 2068 \nQ 947 2378 1403 2484 \nz\nM 1172 3481 \nQ 1172 3119 1398 2916 \nQ 1625 2713 2034 2713 \nQ 2441 2713 2670 2916 \nQ 2900 3119 2900 3481 \nQ 2900 3844 2670 4047 \nQ 2441 4250 2034 4250 \nQ 1625 4250 1398 4047 \nQ 1172 3844 1172 3481 \nz\n\" transform=\"scale(0.015625)\"/>\n       </defs>\n       <use xlink:href=\"#DejaVuSans-38\"/>\n       <use xlink:href=\"#DejaVuSans-30\" x=\"63.623047\"/>\n      </g>\n     </g>\n    </g>\n    <g id=\"xtick_6\">\n     <g id=\"line2d_6\">\n      <g>\n       <use xlink:href=\"#mcc0eaf7bd1\" x=\"368.772443\" y=\"224.64\" style=\"stroke: #000000; stroke-width: 0.8\"/>\n      </g>\n     </g>\n     <g id=\"text_6\">\n      <!-- 100 -->\n      <g transform=\"translate(359.228693 239.238438)scale(0.1 -0.1)\">\n       <defs>\n        <path id=\"DejaVuSans-31\" d=\"M 794 531 \nL 1825 531 \nL 1825 4091 \nL 703 3866 \nL 703 4441 \nL 1819 4666 \nL 2450 4666 \nL 2450 531 \nL 3481 531 \nL 3481 0 \nL 794 0 \nL 794 531 \nz\n\" transform=\"scale(0.015625)\"/>\n       </defs>\n       <use xlink:href=\"#DejaVuSans-31\"/>\n       <use xlink:href=\"#DejaVuSans-30\" x=\"63.623047\"/>\n       <use xlink:href=\"#DejaVuSans-30\" x=\"127.246094\"/>\n      </g>\n     </g>\n    </g>\n   </g>\n   <g id=\"matplotlib.axis_2\">\n    <g id=\"ytick_1\">\n     <g id=\"line2d_7\">\n      <defs>\n       <path id=\"m9e9caa64a2\" d=\"M 0 0 \nL -3.5 0 \n\" style=\"stroke: #000000; stroke-width: 0.8\"/>\n      </defs>\n      <g>\n       <use xlink:href=\"#m9e9caa64a2\" x=\"49.190625\" y=\"215.9424\" style=\"stroke: #000000; stroke-width: 0.8\"/>\n      </g>\n     </g>\n     <g id=\"text_7\">\n      <!-- 0.0094 -->\n      <g transform=\"translate(7.2 219.741619)scale(0.1 -0.1)\">\n       <defs>\n        <path id=\"DejaVuSans-2e\" d=\"M 684 794 \nL 1344 794 \nL 1344 0 \nL 684 0 \nL 684 794 \nz\n\" transform=\"scale(0.015625)\"/>\n        <path id=\"DejaVuSans-39\" d=\"M 703 97 \nL 703 672 \nQ 941 559 1184 500 \nQ 1428 441 1663 441 \nQ 2288 441 2617 861 \nQ 2947 1281 2994 2138 \nQ 2813 1869 2534 1725 \nQ 2256 1581 1919 1581 \nQ 1219 1581 811 2004 \nQ 403 2428 403 3163 \nQ 403 3881 828 4315 \nQ 1253 4750 1959 4750 \nQ 2769 4750 3195 4129 \nQ 3622 3509 3622 2328 \nQ 3622 1225 3098 567 \nQ 2575 -91 1691 -91 \nQ 1453 -91 1209 -44 \nQ 966 3 703 97 \nz\nM 1959 2075 \nQ 2384 2075 2632 2365 \nQ 2881 2656 2881 3163 \nQ 2881 3666 2632 3958 \nQ 2384 4250 1959 4250 \nQ 1534 4250 1286 3958 \nQ 1038 3666 1038 3163 \nQ 1038 2656 1286 2365 \nQ 1534 2075 1959 2075 \nz\n\" transform=\"scale(0.015625)\"/>\n       </defs>\n       <use xlink:href=\"#DejaVuSans-30\"/>\n       <use xlink:href=\"#DejaVuSans-2e\" x=\"63.623047\"/>\n       <use xlink:href=\"#DejaVuSans-30\" x=\"95.410156\"/>\n       <use xlink:href=\"#DejaVuSans-30\" x=\"159.033203\"/>\n       <use xlink:href=\"#DejaVuSans-39\" x=\"222.65625\"/>\n       <use xlink:href=\"#DejaVuSans-34\" x=\"286.279297\"/>\n      </g>\n     </g>\n    </g>\n    <g id=\"ytick_2\">\n     <g id=\"line2d_8\">\n      <g>\n       <use xlink:href=\"#m9e9caa64a2\" x=\"49.190625\" y=\"176.012509\" style=\"stroke: #000000; stroke-width: 0.8\"/>\n      </g>\n     </g>\n     <g id=\"text_8\">\n      <!-- 0.0096 -->\n      <g transform=\"translate(7.2 179.811728)scale(0.1 -0.1)\">\n       <use xlink:href=\"#DejaVuSans-30\"/>\n       <use xlink:href=\"#DejaVuSans-2e\" x=\"63.623047\"/>\n       <use xlink:href=\"#DejaVuSans-30\" x=\"95.410156\"/>\n       <use xlink:href=\"#DejaVuSans-30\" x=\"159.033203\"/>\n       <use xlink:href=\"#DejaVuSans-39\" x=\"222.65625\"/>\n       <use xlink:href=\"#DejaVuSans-36\" x=\"286.279297\"/>\n      </g>\n     </g>\n    </g>\n    <g id=\"ytick_3\">\n     <g id=\"line2d_9\">\n      <g>\n       <use xlink:href=\"#m9e9caa64a2\" x=\"49.190625\" y=\"136.082618\" style=\"stroke: #000000; stroke-width: 0.8\"/>\n      </g>\n     </g>\n     <g id=\"text_9\">\n      <!-- 0.0098 -->\n      <g transform=\"translate(7.2 139.881837)scale(0.1 -0.1)\">\n       <use xlink:href=\"#DejaVuSans-30\"/>\n       <use xlink:href=\"#DejaVuSans-2e\" x=\"63.623047\"/>\n       <use xlink:href=\"#DejaVuSans-30\" x=\"95.410156\"/>\n       <use xlink:href=\"#DejaVuSans-30\" x=\"159.033203\"/>\n       <use xlink:href=\"#DejaVuSans-39\" x=\"222.65625\"/>\n       <use xlink:href=\"#DejaVuSans-38\" x=\"286.279297\"/>\n      </g>\n     </g>\n    </g>\n    <g id=\"ytick_4\">\n     <g id=\"line2d_10\">\n      <g>\n       <use xlink:href=\"#m9e9caa64a2\" x=\"49.190625\" y=\"96.152727\" style=\"stroke: #000000; stroke-width: 0.8\"/>\n      </g>\n     </g>\n     <g id=\"text_10\">\n      <!-- 0.0100 -->\n      <g transform=\"translate(7.2 99.951946)scale(0.1 -0.1)\">\n       <use xlink:href=\"#DejaVuSans-30\"/>\n       <use xlink:href=\"#DejaVuSans-2e\" x=\"63.623047\"/>\n       <use xlink:href=\"#DejaVuSans-30\" x=\"95.410156\"/>\n       <use xlink:href=\"#DejaVuSans-31\" x=\"159.033203\"/>\n       <use xlink:href=\"#DejaVuSans-30\" x=\"222.65625\"/>\n       <use xlink:href=\"#DejaVuSans-30\" x=\"286.279297\"/>\n      </g>\n     </g>\n    </g>\n    <g id=\"ytick_5\">\n     <g id=\"line2d_11\">\n      <g>\n       <use xlink:href=\"#m9e9caa64a2\" x=\"49.190625\" y=\"56.222836\" style=\"stroke: #000000; stroke-width: 0.8\"/>\n      </g>\n     </g>\n     <g id=\"text_11\">\n      <!-- 0.0102 -->\n      <g transform=\"translate(7.2 60.022055)scale(0.1 -0.1)\">\n       <use xlink:href=\"#DejaVuSans-30\"/>\n       <use xlink:href=\"#DejaVuSans-2e\" x=\"63.623047\"/>\n       <use xlink:href=\"#DejaVuSans-30\" x=\"95.410156\"/>\n       <use xlink:href=\"#DejaVuSans-31\" x=\"159.033203\"/>\n       <use xlink:href=\"#DejaVuSans-30\" x=\"222.65625\"/>\n       <use xlink:href=\"#DejaVuSans-32\" x=\"286.279297\"/>\n      </g>\n     </g>\n    </g>\n    <g id=\"ytick_6\">\n     <g id=\"line2d_12\">\n      <g>\n       <use xlink:href=\"#m9e9caa64a2\" x=\"49.190625\" y=\"16.292945\" style=\"stroke: #000000; stroke-width: 0.8\"/>\n      </g>\n     </g>\n     <g id=\"text_12\">\n      <!-- 0.0104 -->\n      <g transform=\"translate(7.2 20.092164)scale(0.1 -0.1)\">\n       <use xlink:href=\"#DejaVuSans-30\"/>\n       <use xlink:href=\"#DejaVuSans-2e\" x=\"63.623047\"/>\n       <use xlink:href=\"#DejaVuSans-30\" x=\"95.410156\"/>\n       <use xlink:href=\"#DejaVuSans-31\" x=\"159.033203\"/>\n       <use xlink:href=\"#DejaVuSans-30\" x=\"222.65625\"/>\n       <use xlink:href=\"#DejaVuSans-34\" x=\"286.279297\"/>\n      </g>\n     </g>\n    </g>\n   </g>\n   <g id=\"line2d_13\">\n    <path d=\"M 64.408807 115.92 \nL 67.452443 115.92 \nL 70.49608 115.92 \nL 73.539716 115.92 \nL 76.583352 115.92 \nL 79.626989 115.92 \nL 82.670625 115.92 \nL 85.714261 115.92 \nL 88.757898 115.92 \nL 91.801534 115.92 \nL 94.84517 115.92 \nL 97.888807 115.92 \nL 100.932443 115.92 \nL 103.97608 115.92 \nL 107.019716 115.92 \nL 110.063352 115.92 \nL 113.106989 115.92 \nL 116.150625 115.92 \nL 119.194261 115.92 \nL 122.237898 115.92 \nL 125.281534 115.92 \nL 128.32517 115.92 \nL 131.368807 115.92 \nL 134.412443 115.92 \nL 137.45608 115.92 \nL 140.499716 115.92 \nL 143.543352 115.92 \nL 146.586989 115.92 \nL 149.630625 115.92 \nL 152.674261 115.92 \nL 155.717898 115.92 \nL 158.761534 115.92 \nL 161.80517 115.92 \nL 164.848807 115.92 \nL 167.892443 115.92 \nL 170.93608 115.92 \nL 173.979716 115.92 \nL 177.023352 115.92 \nL 180.066989 115.92 \nL 183.110625 115.92 \nL 186.154261 115.92 \nL 189.197898 115.92 \nL 192.241534 115.92 \nL 195.28517 115.92 \nL 198.328807 115.92 \nL 201.372443 115.92 \nL 204.41608 115.92 \nL 207.459716 115.92 \nL 210.503352 115.92 \nL 213.546989 115.92 \nL 216.590625 115.92 \nL 219.634261 115.92 \nL 222.677898 115.92 \nL 225.721534 115.92 \nL 228.76517 115.92 \nL 231.808807 115.92 \nL 234.852443 115.92 \nL 237.89608 115.92 \nL 240.939716 115.92 \nL 243.983352 115.92 \nL 247.026989 115.92 \nL 250.070625 115.92 \nL 253.114261 115.92 \nL 256.157898 115.92 \nL 259.201534 115.92 \nL 262.24517 115.92 \nL 265.288807 115.92 \nL 268.332443 115.92 \nL 271.37608 115.92 \nL 274.419716 115.92 \nL 277.463352 115.92 \nL 280.506989 115.92 \nL 283.550625 115.92 \nL 286.594261 115.92 \nL 289.637898 115.92 \nL 292.681534 115.92 \nL 295.72517 115.92 \nL 298.768807 115.92 \nL 301.812443 115.92 \nL 304.85608 115.92 \nL 307.899716 115.92 \nL 310.943352 115.92 \nL 313.986989 115.92 \nL 317.030625 115.92 \nL 320.074261 115.92 \nL 323.117898 115.92 \nL 326.161534 115.92 \nL 329.20517 115.92 \nL 332.248807 115.92 \nL 335.292443 115.92 \nL 338.33608 115.92 \nL 341.379716 115.92 \nL 344.423352 115.92 \nL 347.466989 115.92 \nL 350.510625 115.92 \nL 353.554261 115.92 \nL 356.597898 115.92 \nL 359.641534 115.92 \nL 362.68517 115.92 \nL 365.728807 115.92 \nL 368.772443 115.92 \n\" clip-path=\"url(#p3765ed13b0)\" style=\"fill: none; stroke: #1f77b4; stroke-width: 1.5; stroke-linecap: square\"/>\n   </g>\n   <g id=\"patch_3\">\n    <path d=\"M 49.190625 224.64 \nL 49.190625 7.2 \n\" style=\"fill: none; stroke: #000000; stroke-width: 0.8; stroke-linejoin: miter; stroke-linecap: square\"/>\n   </g>\n   <g id=\"patch_4\">\n    <path d=\"M 383.990625 224.64 \nL 383.990625 7.2 \n\" style=\"fill: none; stroke: #000000; stroke-width: 0.8; stroke-linejoin: miter; stroke-linecap: square\"/>\n   </g>\n   <g id=\"patch_5\">\n    <path d=\"M 49.190625 224.64 \nL 383.990625 224.64 \n\" style=\"fill: none; stroke: #000000; stroke-width: 0.8; stroke-linejoin: miter; stroke-linecap: square\"/>\n   </g>\n   <g id=\"patch_6\">\n    <path d=\"M 49.190625 7.2 \nL 383.990625 7.2 \n\" style=\"fill: none; stroke: #000000; stroke-width: 0.8; stroke-linejoin: miter; stroke-linecap: square\"/>\n   </g>\n  </g>\n </g>\n <defs>\n  <clipPath id=\"p3765ed13b0\">\n   <rect x=\"49.190625\" y=\"7.2\" width=\"334.8\" height=\"217.44\"/>\n  </clipPath>\n </defs>\n</svg>\n",
      "text/plain": [
       "<Figure size 432x288 with 1 Axes>"
      ]
     },
     "metadata": {},
     "output_type": "display_data"
    }
   ],
   "source": [
    "plt.plot(proba_affine(101, 0))"
   ]
  },
  {
   "cell_type": "code",
   "execution_count": 56,
   "metadata": {},
   "outputs": [
    {
     "data": {
      "text/plain": [
       "[<matplotlib.lines.Line2D at 0x7f24e2711df0>]"
      ]
     },
     "execution_count": 56,
     "metadata": {},
     "output_type": "execute_result"
    },
    {
     "data": {
      "image/svg+xml": "<?xml version=\"1.0\" encoding=\"utf-8\" standalone=\"no\"?>\n<!DOCTYPE svg PUBLIC \"-//W3C//DTD SVG 1.1//EN\"\n  \"http://www.w3.org/Graphics/SVG/1.1/DTD/svg11.dtd\">\n<svg xmlns:xlink=\"http://www.w3.org/1999/xlink\" width=\"378.465625pt\" height=\"248.518125pt\" viewBox=\"0 0 378.465625 248.518125\" xmlns=\"http://www.w3.org/2000/svg\" version=\"1.1\">\n <metadata>\n  <rdf:RDF xmlns:dc=\"http://purl.org/dc/elements/1.1/\" xmlns:cc=\"http://creativecommons.org/ns#\" xmlns:rdf=\"http://www.w3.org/1999/02/22-rdf-syntax-ns#\">\n   <cc:Work>\n    <dc:type rdf:resource=\"http://purl.org/dc/dcmitype/StillImage\"/>\n    <dc:date>2022-09-28T16:57:48.456243</dc:date>\n    <dc:format>image/svg+xml</dc:format>\n    <dc:creator>\n     <cc:Agent>\n      <dc:title>Matplotlib v3.5.2, https://matplotlib.org/</dc:title>\n     </cc:Agent>\n    </dc:creator>\n   </cc:Work>\n  </rdf:RDF>\n </metadata>\n <defs>\n  <style type=\"text/css\">*{stroke-linejoin: round; stroke-linecap: butt}</style>\n </defs>\n <g id=\"figure_1\">\n  <g id=\"patch_1\">\n   <path d=\"M 0 248.518125 \nL 378.465625 248.518125 \nL 378.465625 0 \nL 0 0 \nz\n\" style=\"fill: #e0e0e0\"/>\n  </g>\n  <g id=\"axes_1\">\n   <g id=\"patch_2\">\n    <path d=\"M 36.465625 224.64 \nL 371.265625 224.64 \nL 371.265625 7.2 \nL 36.465625 7.2 \nz\n\" style=\"fill: #ffffff\"/>\n   </g>\n   <g id=\"matplotlib.axis_1\">\n    <g id=\"xtick_1\">\n     <g id=\"line2d_1\">\n      <defs>\n       <path id=\"m910775808f\" d=\"M 0 0 \nL 0 3.5 \n\" style=\"stroke: #000000; stroke-width: 0.8\"/>\n      </defs>\n      <g>\n       <use xlink:href=\"#m910775808f\" x=\"51.683807\" y=\"224.64\" style=\"stroke: #000000; stroke-width: 0.8\"/>\n      </g>\n     </g>\n     <g id=\"text_1\">\n      <!-- 0 -->\n      <g transform=\"translate(48.502557 239.238437)scale(0.1 -0.1)\">\n       <defs>\n        <path id=\"DejaVuSans-30\" d=\"M 2034 4250 \nQ 1547 4250 1301 3770 \nQ 1056 3291 1056 2328 \nQ 1056 1369 1301 889 \nQ 1547 409 2034 409 \nQ 2525 409 2770 889 \nQ 3016 1369 3016 2328 \nQ 3016 3291 2770 3770 \nQ 2525 4250 2034 4250 \nz\nM 2034 4750 \nQ 2819 4750 3233 4129 \nQ 3647 3509 3647 2328 \nQ 3647 1150 3233 529 \nQ 2819 -91 2034 -91 \nQ 1250 -91 836 529 \nQ 422 1150 422 2328 \nQ 422 3509 836 4129 \nQ 1250 4750 2034 4750 \nz\n\" transform=\"scale(0.015625)\"/>\n       </defs>\n       <use xlink:href=\"#DejaVuSans-30\"/>\n      </g>\n     </g>\n    </g>\n    <g id=\"xtick_2\">\n     <g id=\"line2d_2\">\n      <g>\n       <use xlink:href=\"#m910775808f\" x=\"95.164326\" y=\"224.64\" style=\"stroke: #000000; stroke-width: 0.8\"/>\n      </g>\n     </g>\n     <g id=\"text_2\">\n      <!-- 2 -->\n      <g transform=\"translate(91.983076 239.238437)scale(0.1 -0.1)\">\n       <defs>\n        <path id=\"DejaVuSans-32\" d=\"M 1228 531 \nL 3431 531 \nL 3431 0 \nL 469 0 \nL 469 531 \nQ 828 903 1448 1529 \nQ 2069 2156 2228 2338 \nQ 2531 2678 2651 2914 \nQ 2772 3150 2772 3378 \nQ 2772 3750 2511 3984 \nQ 2250 4219 1831 4219 \nQ 1534 4219 1204 4116 \nQ 875 4013 500 3803 \nL 500 4441 \nQ 881 4594 1212 4672 \nQ 1544 4750 1819 4750 \nQ 2544 4750 2975 4387 \nQ 3406 4025 3406 3419 \nQ 3406 3131 3298 2873 \nQ 3191 2616 2906 2266 \nQ 2828 2175 2409 1742 \nQ 1991 1309 1228 531 \nz\n\" transform=\"scale(0.015625)\"/>\n       </defs>\n       <use xlink:href=\"#DejaVuSans-32\"/>\n      </g>\n     </g>\n    </g>\n    <g id=\"xtick_3\">\n     <g id=\"line2d_3\">\n      <g>\n       <use xlink:href=\"#m910775808f\" x=\"138.644846\" y=\"224.64\" style=\"stroke: #000000; stroke-width: 0.8\"/>\n      </g>\n     </g>\n     <g id=\"text_3\">\n      <!-- 4 -->\n      <g transform=\"translate(135.463596 239.238437)scale(0.1 -0.1)\">\n       <defs>\n        <path id=\"DejaVuSans-34\" d=\"M 2419 4116 \nL 825 1625 \nL 2419 1625 \nL 2419 4116 \nz\nM 2253 4666 \nL 3047 4666 \nL 3047 1625 \nL 3713 1625 \nL 3713 1100 \nL 3047 1100 \nL 3047 0 \nL 2419 0 \nL 2419 1100 \nL 313 1100 \nL 313 1709 \nL 2253 4666 \nz\n\" transform=\"scale(0.015625)\"/>\n       </defs>\n       <use xlink:href=\"#DejaVuSans-34\"/>\n      </g>\n     </g>\n    </g>\n    <g id=\"xtick_4\">\n     <g id=\"line2d_4\">\n      <g>\n       <use xlink:href=\"#m910775808f\" x=\"182.125365\" y=\"224.64\" style=\"stroke: #000000; stroke-width: 0.8\"/>\n      </g>\n     </g>\n     <g id=\"text_4\">\n      <!-- 6 -->\n      <g transform=\"translate(178.944115 239.238437)scale(0.1 -0.1)\">\n       <defs>\n        <path id=\"DejaVuSans-36\" d=\"M 2113 2584 \nQ 1688 2584 1439 2293 \nQ 1191 2003 1191 1497 \nQ 1191 994 1439 701 \nQ 1688 409 2113 409 \nQ 2538 409 2786 701 \nQ 3034 994 3034 1497 \nQ 3034 2003 2786 2293 \nQ 2538 2584 2113 2584 \nz\nM 3366 4563 \nL 3366 3988 \nQ 3128 4100 2886 4159 \nQ 2644 4219 2406 4219 \nQ 1781 4219 1451 3797 \nQ 1122 3375 1075 2522 \nQ 1259 2794 1537 2939 \nQ 1816 3084 2150 3084 \nQ 2853 3084 3261 2657 \nQ 3669 2231 3669 1497 \nQ 3669 778 3244 343 \nQ 2819 -91 2113 -91 \nQ 1303 -91 875 529 \nQ 447 1150 447 2328 \nQ 447 3434 972 4092 \nQ 1497 4750 2381 4750 \nQ 2619 4750 2861 4703 \nQ 3103 4656 3366 4563 \nz\n\" transform=\"scale(0.015625)\"/>\n       </defs>\n       <use xlink:href=\"#DejaVuSans-36\"/>\n      </g>\n     </g>\n    </g>\n    <g id=\"xtick_5\">\n     <g id=\"line2d_5\">\n      <g>\n       <use xlink:href=\"#m910775808f\" x=\"225.605885\" y=\"224.64\" style=\"stroke: #000000; stroke-width: 0.8\"/>\n      </g>\n     </g>\n     <g id=\"text_5\">\n      <!-- 8 -->\n      <g transform=\"translate(222.424635 239.238437)scale(0.1 -0.1)\">\n       <defs>\n        <path id=\"DejaVuSans-38\" d=\"M 2034 2216 \nQ 1584 2216 1326 1975 \nQ 1069 1734 1069 1313 \nQ 1069 891 1326 650 \nQ 1584 409 2034 409 \nQ 2484 409 2743 651 \nQ 3003 894 3003 1313 \nQ 3003 1734 2745 1975 \nQ 2488 2216 2034 2216 \nz\nM 1403 2484 \nQ 997 2584 770 2862 \nQ 544 3141 544 3541 \nQ 544 4100 942 4425 \nQ 1341 4750 2034 4750 \nQ 2731 4750 3128 4425 \nQ 3525 4100 3525 3541 \nQ 3525 3141 3298 2862 \nQ 3072 2584 2669 2484 \nQ 3125 2378 3379 2068 \nQ 3634 1759 3634 1313 \nQ 3634 634 3220 271 \nQ 2806 -91 2034 -91 \nQ 1263 -91 848 271 \nQ 434 634 434 1313 \nQ 434 1759 690 2068 \nQ 947 2378 1403 2484 \nz\nM 1172 3481 \nQ 1172 3119 1398 2916 \nQ 1625 2713 2034 2713 \nQ 2441 2713 2670 2916 \nQ 2900 3119 2900 3481 \nQ 2900 3844 2670 4047 \nQ 2441 4250 2034 4250 \nQ 1625 4250 1398 4047 \nQ 1172 3844 1172 3481 \nz\n\" transform=\"scale(0.015625)\"/>\n       </defs>\n       <use xlink:href=\"#DejaVuSans-38\"/>\n      </g>\n     </g>\n    </g>\n    <g id=\"xtick_6\">\n     <g id=\"line2d_6\">\n      <g>\n       <use xlink:href=\"#m910775808f\" x=\"269.086404\" y=\"224.64\" style=\"stroke: #000000; stroke-width: 0.8\"/>\n      </g>\n     </g>\n     <g id=\"text_6\">\n      <!-- 10 -->\n      <g transform=\"translate(262.723904 239.238437)scale(0.1 -0.1)\">\n       <defs>\n        <path id=\"DejaVuSans-31\" d=\"M 794 531 \nL 1825 531 \nL 1825 4091 \nL 703 3866 \nL 703 4441 \nL 1819 4666 \nL 2450 4666 \nL 2450 531 \nL 3481 531 \nL 3481 0 \nL 794 0 \nL 794 531 \nz\n\" transform=\"scale(0.015625)\"/>\n       </defs>\n       <use xlink:href=\"#DejaVuSans-31\"/>\n       <use xlink:href=\"#DejaVuSans-30\" x=\"63.623047\"/>\n      </g>\n     </g>\n    </g>\n    <g id=\"xtick_7\">\n     <g id=\"line2d_7\">\n      <g>\n       <use xlink:href=\"#m910775808f\" x=\"312.566924\" y=\"224.64\" style=\"stroke: #000000; stroke-width: 0.8\"/>\n      </g>\n     </g>\n     <g id=\"text_7\">\n      <!-- 12 -->\n      <g transform=\"translate(306.204424 239.238437)scale(0.1 -0.1)\">\n       <use xlink:href=\"#DejaVuSans-31\"/>\n       <use xlink:href=\"#DejaVuSans-32\" x=\"63.623047\"/>\n      </g>\n     </g>\n    </g>\n    <g id=\"xtick_8\">\n     <g id=\"line2d_8\">\n      <g>\n       <use xlink:href=\"#m910775808f\" x=\"356.047443\" y=\"224.64\" style=\"stroke: #000000; stroke-width: 0.8\"/>\n      </g>\n     </g>\n     <g id=\"text_8\">\n      <!-- 14 -->\n      <g transform=\"translate(349.684943 239.238437)scale(0.1 -0.1)\">\n       <use xlink:href=\"#DejaVuSans-31\"/>\n       <use xlink:href=\"#DejaVuSans-34\" x=\"63.623047\"/>\n      </g>\n     </g>\n    </g>\n   </g>\n   <g id=\"matplotlib.axis_2\">\n    <g id=\"ytick_1\">\n     <g id=\"line2d_9\">\n      <defs>\n       <path id=\"ma75d736448\" d=\"M 0 0 \nL -3.5 0 \n\" style=\"stroke: #000000; stroke-width: 0.8\"/>\n      </defs>\n      <g>\n       <use xlink:href=\"#ma75d736448\" x=\"36.465625\" y=\"219.462857\" style=\"stroke: #000000; stroke-width: 0.8\"/>\n      </g>\n     </g>\n     <g id=\"text_9\">\n      <!-- 0.03 -->\n      <g transform=\"translate(7.2 223.262076)scale(0.1 -0.1)\">\n       <defs>\n        <path id=\"DejaVuSans-2e\" d=\"M 684 794 \nL 1344 794 \nL 1344 0 \nL 684 0 \nL 684 794 \nz\n\" transform=\"scale(0.015625)\"/>\n        <path id=\"DejaVuSans-33\" d=\"M 2597 2516 \nQ 3050 2419 3304 2112 \nQ 3559 1806 3559 1356 \nQ 3559 666 3084 287 \nQ 2609 -91 1734 -91 \nQ 1441 -91 1130 -33 \nQ 819 25 488 141 \nL 488 750 \nQ 750 597 1062 519 \nQ 1375 441 1716 441 \nQ 2309 441 2620 675 \nQ 2931 909 2931 1356 \nQ 2931 1769 2642 2001 \nQ 2353 2234 1838 2234 \nL 1294 2234 \nL 1294 2753 \nL 1863 2753 \nQ 2328 2753 2575 2939 \nQ 2822 3125 2822 3475 \nQ 2822 3834 2567 4026 \nQ 2313 4219 1838 4219 \nQ 1578 4219 1281 4162 \nQ 984 4106 628 3988 \nL 628 4550 \nQ 988 4650 1302 4700 \nQ 1616 4750 1894 4750 \nQ 2613 4750 3031 4423 \nQ 3450 4097 3450 3541 \nQ 3450 3153 3228 2886 \nQ 3006 2619 2597 2516 \nz\n\" transform=\"scale(0.015625)\"/>\n       </defs>\n       <use xlink:href=\"#DejaVuSans-30\"/>\n       <use xlink:href=\"#DejaVuSans-2e\" x=\"63.623047\"/>\n       <use xlink:href=\"#DejaVuSans-30\" x=\"95.410156\"/>\n       <use xlink:href=\"#DejaVuSans-33\" x=\"159.033203\"/>\n      </g>\n     </g>\n    </g>\n    <g id=\"ytick_2\">\n     <g id=\"line2d_10\">\n      <g>\n       <use xlink:href=\"#ma75d736448\" x=\"36.465625\" y=\"191.223896\" style=\"stroke: #000000; stroke-width: 0.8\"/>\n      </g>\n     </g>\n     <g id=\"text_10\">\n      <!-- 0.04 -->\n      <g transform=\"translate(7.2 195.023115)scale(0.1 -0.1)\">\n       <use xlink:href=\"#DejaVuSans-30\"/>\n       <use xlink:href=\"#DejaVuSans-2e\" x=\"63.623047\"/>\n       <use xlink:href=\"#DejaVuSans-30\" x=\"95.410156\"/>\n       <use xlink:href=\"#DejaVuSans-34\" x=\"159.033203\"/>\n      </g>\n     </g>\n    </g>\n    <g id=\"ytick_3\">\n     <g id=\"line2d_11\">\n      <g>\n       <use xlink:href=\"#ma75d736448\" x=\"36.465625\" y=\"162.984935\" style=\"stroke: #000000; stroke-width: 0.8\"/>\n      </g>\n     </g>\n     <g id=\"text_11\">\n      <!-- 0.05 -->\n      <g transform=\"translate(7.2 166.784154)scale(0.1 -0.1)\">\n       <defs>\n        <path id=\"DejaVuSans-35\" d=\"M 691 4666 \nL 3169 4666 \nL 3169 4134 \nL 1269 4134 \nL 1269 2991 \nQ 1406 3038 1543 3061 \nQ 1681 3084 1819 3084 \nQ 2600 3084 3056 2656 \nQ 3513 2228 3513 1497 \nQ 3513 744 3044 326 \nQ 2575 -91 1722 -91 \nQ 1428 -91 1123 -41 \nQ 819 9 494 109 \nL 494 744 \nQ 775 591 1075 516 \nQ 1375 441 1709 441 \nQ 2250 441 2565 725 \nQ 2881 1009 2881 1497 \nQ 2881 1984 2565 2268 \nQ 2250 2553 1709 2553 \nQ 1456 2553 1204 2497 \nQ 953 2441 691 2322 \nL 691 4666 \nz\n\" transform=\"scale(0.015625)\"/>\n       </defs>\n       <use xlink:href=\"#DejaVuSans-30\"/>\n       <use xlink:href=\"#DejaVuSans-2e\" x=\"63.623047\"/>\n       <use xlink:href=\"#DejaVuSans-30\" x=\"95.410156\"/>\n       <use xlink:href=\"#DejaVuSans-35\" x=\"159.033203\"/>\n      </g>\n     </g>\n    </g>\n    <g id=\"ytick_4\">\n     <g id=\"line2d_12\">\n      <g>\n       <use xlink:href=\"#ma75d736448\" x=\"36.465625\" y=\"134.745974\" style=\"stroke: #000000; stroke-width: 0.8\"/>\n      </g>\n     </g>\n     <g id=\"text_12\">\n      <!-- 0.06 -->\n      <g transform=\"translate(7.2 138.545193)scale(0.1 -0.1)\">\n       <use xlink:href=\"#DejaVuSans-30\"/>\n       <use xlink:href=\"#DejaVuSans-2e\" x=\"63.623047\"/>\n       <use xlink:href=\"#DejaVuSans-30\" x=\"95.410156\"/>\n       <use xlink:href=\"#DejaVuSans-36\" x=\"159.033203\"/>\n      </g>\n     </g>\n    </g>\n    <g id=\"ytick_5\">\n     <g id=\"line2d_13\">\n      <g>\n       <use xlink:href=\"#ma75d736448\" x=\"36.465625\" y=\"106.507013\" style=\"stroke: #000000; stroke-width: 0.8\"/>\n      </g>\n     </g>\n     <g id=\"text_13\">\n      <!-- 0.07 -->\n      <g transform=\"translate(7.2 110.306232)scale(0.1 -0.1)\">\n       <defs>\n        <path id=\"DejaVuSans-37\" d=\"M 525 4666 \nL 3525 4666 \nL 3525 4397 \nL 1831 0 \nL 1172 0 \nL 2766 4134 \nL 525 4134 \nL 525 4666 \nz\n\" transform=\"scale(0.015625)\"/>\n       </defs>\n       <use xlink:href=\"#DejaVuSans-30\"/>\n       <use xlink:href=\"#DejaVuSans-2e\" x=\"63.623047\"/>\n       <use xlink:href=\"#DejaVuSans-30\" x=\"95.410156\"/>\n       <use xlink:href=\"#DejaVuSans-37\" x=\"159.033203\"/>\n      </g>\n     </g>\n    </g>\n    <g id=\"ytick_6\">\n     <g id=\"line2d_14\">\n      <g>\n       <use xlink:href=\"#ma75d736448\" x=\"36.465625\" y=\"78.268052\" style=\"stroke: #000000; stroke-width: 0.8\"/>\n      </g>\n     </g>\n     <g id=\"text_14\">\n      <!-- 0.08 -->\n      <g transform=\"translate(7.2 82.067271)scale(0.1 -0.1)\">\n       <use xlink:href=\"#DejaVuSans-30\"/>\n       <use xlink:href=\"#DejaVuSans-2e\" x=\"63.623047\"/>\n       <use xlink:href=\"#DejaVuSans-30\" x=\"95.410156\"/>\n       <use xlink:href=\"#DejaVuSans-38\" x=\"159.033203\"/>\n      </g>\n     </g>\n    </g>\n    <g id=\"ytick_7\">\n     <g id=\"line2d_15\">\n      <g>\n       <use xlink:href=\"#ma75d736448\" x=\"36.465625\" y=\"50.029091\" style=\"stroke: #000000; stroke-width: 0.8\"/>\n      </g>\n     </g>\n     <g id=\"text_15\">\n      <!-- 0.09 -->\n      <g transform=\"translate(7.2 53.82831)scale(0.1 -0.1)\">\n       <defs>\n        <path id=\"DejaVuSans-39\" d=\"M 703 97 \nL 703 672 \nQ 941 559 1184 500 \nQ 1428 441 1663 441 \nQ 2288 441 2617 861 \nQ 2947 1281 2994 2138 \nQ 2813 1869 2534 1725 \nQ 2256 1581 1919 1581 \nQ 1219 1581 811 2004 \nQ 403 2428 403 3163 \nQ 403 3881 828 4315 \nQ 1253 4750 1959 4750 \nQ 2769 4750 3195 4129 \nQ 3622 3509 3622 2328 \nQ 3622 1225 3098 567 \nQ 2575 -91 1691 -91 \nQ 1453 -91 1209 -44 \nQ 966 3 703 97 \nz\nM 1959 2075 \nQ 2384 2075 2632 2365 \nQ 2881 2656 2881 3163 \nQ 2881 3666 2632 3958 \nQ 2384 4250 1959 4250 \nQ 1534 4250 1286 3958 \nQ 1038 3666 1038 3163 \nQ 1038 2656 1286 2365 \nQ 1534 2075 1959 2075 \nz\n\" transform=\"scale(0.015625)\"/>\n       </defs>\n       <use xlink:href=\"#DejaVuSans-30\"/>\n       <use xlink:href=\"#DejaVuSans-2e\" x=\"63.623047\"/>\n       <use xlink:href=\"#DejaVuSans-30\" x=\"95.410156\"/>\n       <use xlink:href=\"#DejaVuSans-39\" x=\"159.033203\"/>\n      </g>\n     </g>\n    </g>\n    <g id=\"ytick_8\">\n     <g id=\"line2d_16\">\n      <g>\n       <use xlink:href=\"#ma75d736448\" x=\"36.465625\" y=\"21.79013\" style=\"stroke: #000000; stroke-width: 0.8\"/>\n      </g>\n     </g>\n     <g id=\"text_16\">\n      <!-- 0.10 -->\n      <g transform=\"translate(7.2 25.589349)scale(0.1 -0.1)\">\n       <use xlink:href=\"#DejaVuSans-30\"/>\n       <use xlink:href=\"#DejaVuSans-2e\" x=\"63.623047\"/>\n       <use xlink:href=\"#DejaVuSans-31\" x=\"95.410156\"/>\n       <use xlink:href=\"#DejaVuSans-30\" x=\"159.033203\"/>\n      </g>\n     </g>\n    </g>\n   </g>\n   <g id=\"line2d_17\">\n    <path d=\"M 51.683807 214.756364 \nL 73.424067 200.636883 \nL 95.164326 186.517403 \nL 116.904586 172.397922 \nL 138.644846 158.278442 \nL 160.385106 144.158961 \nL 182.125365 130.039481 \nL 203.865625 115.92 \nL 225.605885 101.800519 \nL 247.346144 87.681039 \nL 269.086404 73.561558 \nL 290.826664 59.442078 \nL 312.566924 45.322597 \nL 334.307183 31.203117 \nL 356.047443 17.083636 \n\" clip-path=\"url(#p027be76d15)\" style=\"fill: none; stroke: #1f77b4; stroke-width: 1.5; stroke-linecap: square\"/>\n   </g>\n   <g id=\"patch_3\">\n    <path d=\"M 36.465625 224.64 \nL 36.465625 7.2 \n\" style=\"fill: none; stroke: #000000; stroke-width: 0.8; stroke-linejoin: miter; stroke-linecap: square\"/>\n   </g>\n   <g id=\"patch_4\">\n    <path d=\"M 371.265625 224.64 \nL 371.265625 7.2 \n\" style=\"fill: none; stroke: #000000; stroke-width: 0.8; stroke-linejoin: miter; stroke-linecap: square\"/>\n   </g>\n   <g id=\"patch_5\">\n    <path d=\"M 36.465625 224.64 \nL 371.265625 224.64 \n\" style=\"fill: none; stroke: #000000; stroke-width: 0.8; stroke-linejoin: miter; stroke-linecap: square\"/>\n   </g>\n   <g id=\"patch_6\">\n    <path d=\"M 36.465625 7.2 \nL 371.265625 7.2 \n\" style=\"fill: none; stroke: #000000; stroke-width: 0.8; stroke-linejoin: miter; stroke-linecap: square\"/>\n   </g>\n  </g>\n </g>\n <defs>\n  <clipPath id=\"p027be76d15\">\n   <rect x=\"36.465625\" y=\"7.2\" width=\"334.8\" height=\"217.44\"/>\n  </clipPath>\n </defs>\n</svg>\n",
      "text/plain": [
       "<Figure size 432x288 with 1 Axes>"
      ]
     },
     "metadata": {},
     "output_type": "display_data"
    }
   ],
   "source": [
    "plt.plot(proba_affine(15, 0.005))"
   ]
  },
  {
   "cell_type": "markdown",
   "metadata": {},
   "source": [
    "### II.3- Distribution jointe\n",
    "Écrire une fonction `Pxy : float np.array , float np.array -> float np.2D-array` qui, étant donné deux tableaux numpy de nombres réels à $1$ dimension générés par les fonctions des questions précédentes et représentant deux distributions de probabilités $P(A)$ et $P(B)$, renvoie la distribution jointe $P(A,B)$ sous forme d'un tableau numpy à $2$ dimensions de nombres réels, en supposant que $A$ et $B$ sont des variables aléatoires indépendantes. Par exemple, si:"
   ]
  },
  {
   "cell_type": "code",
   "execution_count": 57,
   "metadata": {},
   "outputs": [],
   "source": [
    "PA = np.array ( [0.2, 0.7, 0.1] )\n",
    "PB = np.array ( [0.4, 0.4, 0.2] )"
   ]
  },
  {
   "cell_type": "markdown",
   "metadata": {},
   "source": [
    "alors `Pxy(A,B)` renverra le tableau :\n",
    "```\n",
    "np.array([[ 0.08,  0.08,  0.04],\n",
    "          [ 0.28,  0.28,  0.14],\n",
    "          [ 0.04,  0.04,  0.02]])\n",
    "```"
   ]
  },
  {
   "cell_type": "code",
   "execution_count": 58,
   "metadata": {},
   "outputs": [
    {
     "data": {
      "text/plain": [
       "array([[0.08, 0.08, 0.04],\n",
       "       [0.28, 0.28, 0.14],\n",
       "       [0.04, 0.04, 0.02]])"
      ]
     },
     "execution_count": 58,
     "metadata": {},
     "output_type": "execute_result"
    }
   ],
   "source": [
    "def Pxy(x,y):\n",
    "    return np.outer(x,y)\n",
    "Pxy(PA, PB)"
   ]
  },
  {
   "cell_type": "markdown",
   "metadata": {},
   "source": [
    "### II.4- Affichage de la distribution jointe\n",
    "<img src=\"tme2_jointe.jpg\" title=\"Distribution jointe\" style=\"float: right;\">\n",
    "\n",
    "Le code ci-dessous permet d'afficher en 3D une probabilité jointe générée par la fonction précédente. Exécutez-le avec une probabilité jointe résultant de la combinaison d'une loi normale et d'une distribution affine. \n",
    "\n",
    "Si la commande `%matplotlib notebook` fonctione, vous pouvez interagir avec la courbe. Si le contenu de la fenêtre est vide, redimensionnez celle-ci et le contenu devrait apparaître. Cliquez à la souris à l'intérieur de la fenêtre et bougez la souris en gardant le bouton appuyé afin de faire pivoter la courbe. Observez sous différents angles cette courbe. Refaites l'expérience avec une probaiblité jointe résultant de deux lois normales. Essayez de comprendre ce que signifie, visuellement, l'indépendance probabiliste. Vous pouvez également recommencer l'expérience avec le logarithme des lois jointes.\n"
   ]
  },
  {
   "cell_type": "code",
   "execution_count": 59,
   "metadata": {},
   "outputs": [],
   "source": [
    "from mpl_toolkits.mplot3d import Axes3D\n",
    "%matplotlib inline  \n",
    "# essayer `%matplotib notebook` pour interagir avec la visualisation 3D\n",
    "\n",
    "def dessine ( P_jointe ):\n",
    "    fig = plt.figure()\n",
    "    ax = fig.add_subplot(111, projection='3d')\n",
    "    x = np.linspace ( -3, 3, P_jointe.shape[0] )\n",
    "    y = np.linspace ( -3, 3, P_jointe.shape[1] )\n",
    "    X, Y = np.meshgrid(x, y)\n",
    "    ax.plot_surface(X, Y, P_jointe, rstride=1, cstride=1 )\n",
    "    ax.set_xlabel('A')\n",
    "    ax.set_ylabel('B')\n",
    "    ax.set_zlabel('P(A) * P(B)')\n",
    "    plt.show ()"
   ]
  },
  {
   "cell_type": "code",
   "execution_count": 60,
   "metadata": {},
   "outputs": [
    {
     "name": "stdout",
     "output_type": "stream",
     "text": [
      "[-2.         -1.73333333 -1.46666667 -1.2        -0.93333333 -0.66666667\n",
      " -0.4        -0.13333333  0.13333333  0.4         0.66666667  0.93333333\n",
      "  1.2         1.46666667  1.73333333]\n"
     ]
    },
    {
     "data": {
      "image/svg+xml": "<?xml version=\"1.0\" encoding=\"utf-8\" standalone=\"no\"?>\n<!DOCTYPE svg PUBLIC \"-//W3C//DTD SVG 1.1//EN\"\n  \"http://www.w3.org/Graphics/SVG/1.1/DTD/svg11.dtd\">\n<svg xmlns:xlink=\"http://www.w3.org/1999/xlink\" width=\"266.21341pt\" height=\"241.762917pt\" viewBox=\"0 0 266.21341 241.762917\" xmlns=\"http://www.w3.org/2000/svg\" version=\"1.1\">\n <metadata>\n  <rdf:RDF xmlns:dc=\"http://purl.org/dc/elements/1.1/\" xmlns:cc=\"http://creativecommons.org/ns#\" xmlns:rdf=\"http://www.w3.org/1999/02/22-rdf-syntax-ns#\">\n   <cc:Work>\n    <dc:type rdf:resource=\"http://purl.org/dc/dcmitype/StillImage\"/>\n    <dc:date>2022-09-28T16:57:49.072053</dc:date>\n    <dc:format>image/svg+xml</dc:format>\n    <dc:creator>\n     <cc:Agent>\n      <dc:title>Matplotlib v3.5.2, https://matplotlib.org/</dc:title>\n     </cc:Agent>\n    </dc:creator>\n   </cc:Work>\n  </rdf:RDF>\n </metadata>\n <defs>\n  <style type=\"text/css\">*{stroke-linejoin: round; stroke-linecap: butt}</style>\n </defs>\n <g id=\"figure_1\">\n  <g id=\"patch_1\">\n   <path d=\"M 0 241.762917 \nL 266.21341 241.762917 \nL 266.21341 0 \nL 0 0 \nL 0 241.762917 \nz\n\" style=\"fill: none\"/>\n  </g>\n  <g id=\"patch_2\">\n   <path d=\"M 7.2 224.64 \nL 224.64 224.64 \nL 224.64 7.2 \nL 7.2 7.2 \nz\n\" style=\"fill: #ffffff\"/>\n  </g>\n  <g id=\"pane3d_1\">\n   <g id=\"patch_3\">\n    <path d=\"M 23.61822 171.026264 \nL 95.424009 110.837228 \nL 94.42584 24.033878 \nL 19.183773 78.942111 \n\" style=\"fill: #f2f2f2; opacity: 0.5; stroke: #f2f2f2; stroke-linejoin: miter\"/>\n   </g>\n  </g>\n  <g id=\"pane3d_2\">\n   <g id=\"patch_4\">\n    <path d=\"M 95.424009 110.837228 \nL 210.64668 144.32791 \nL 214.758571 54.534718 \nL 94.42584 24.033878 \n\" style=\"fill: #e6e6e6; opacity: 0.5; stroke: #e6e6e6; stroke-linejoin: miter\"/>\n   </g>\n  </g>\n  <g id=\"pane3d_3\">\n   <g id=\"patch_5\">\n    <path d=\"M 23.61822 171.026264 \nL 145.759879 210.91773 \nL 210.64668 144.32791 \nL 95.424009 110.837228 \n\" style=\"fill: #ececec; opacity: 0.5; stroke: #ececec; stroke-linejoin: miter\"/>\n   </g>\n  </g>\n  <g id=\"axis3d_1\">\n   <g id=\"line2d_1\">\n    <path d=\"M 23.61822 171.026264 \nL 145.759879 210.91773 \n\" style=\"fill: none; stroke: #000000; stroke-width: 0.8; stroke-linecap: square\"/>\n   </g>\n   <g id=\"text_1\">\n    <!-- A -->\n    <g transform=\"translate(63.33693 228.543264)scale(0.1 -0.1)\">\n     <defs>\n      <path id=\"DejaVuSans-41\" d=\"M 2188 4044 \nL 1331 1722 \nL 3047 1722 \nL 2188 4044 \nz\nM 1831 4666 \nL 2547 4666 \nL 4325 0 \nL 3669 0 \nL 3244 1197 \nL 1141 1197 \nL 716 0 \nL 50 0 \nL 1831 4666 \nz\n\" transform=\"scale(0.015625)\"/>\n     </defs>\n     <use xlink:href=\"#DejaVuSans-41\"/>\n    </g>\n   </g>\n   <g id=\"Line3DCollection_1\">\n    <path d=\"M 31.015759 173.442301 \nL 102.431499 112.874029 \nL 101.729612 25.885171 \n\" style=\"fill: none; stroke: #b0b0b0; stroke-width: 0.8\"/>\n    <path d=\"M 48.108016 179.024632 \nL 118.608181 117.575952 \nL 118.597414 30.160667 \n\" style=\"fill: none; stroke: #b0b0b0; stroke-width: 0.8\"/>\n    <path d=\"M 65.460447 184.691936 \nL 135.010639 122.343499 \nL 135.710842 34.498423 \n\" style=\"fill: none; stroke: #b0b0b0; stroke-width: 0.8\"/>\n    <path d=\"M 83.079037 190.446167 \nL 151.643632 127.178053 \nL 153.075303 38.899807 \n\" style=\"fill: none; stroke: #b0b0b0; stroke-width: 0.8\"/>\n    <path d=\"M 100.969959 196.289342 \nL 168.512056 132.081038 \nL 170.696359 43.366231 \n\" style=\"fill: none; stroke: #b0b0b0; stroke-width: 0.8\"/>\n    <path d=\"M 119.139575 202.223539 \nL 185.620943 137.053916 \nL 188.579741 47.899147 \n\" style=\"fill: none; stroke: #b0b0b0; stroke-width: 0.8\"/>\n    <path d=\"M 137.594449 208.250901 \nL 202.975474 142.098193 \nL 206.73135 52.500051 \n\" style=\"fill: none; stroke: #b0b0b0; stroke-width: 0.8\"/>\n   </g>\n   <g id=\"xtick_1\">\n    <g id=\"line2d_2\">\n     <path d=\"M 31.637644 172.914876 \nL 29.769322 174.499414 \n\" style=\"fill: none; stroke: #000000; stroke-width: 0.8; stroke-linecap: square\"/>\n    </g>\n    <g id=\"text_2\">\n     <!-- −3 -->\n     <g transform=\"translate(16.109346 196.764533)scale(0.1 -0.1)\">\n      <defs>\n       <path id=\"DejaVuSans-2212\" d=\"M 678 2272 \nL 4684 2272 \nL 4684 1741 \nL 678 1741 \nL 678 2272 \nz\n\" transform=\"scale(0.015625)\"/>\n       <path id=\"DejaVuSans-33\" d=\"M 2597 2516 \nQ 3050 2419 3304 2112 \nQ 3559 1806 3559 1356 \nQ 3559 666 3084 287 \nQ 2609 -91 1734 -91 \nQ 1441 -91 1130 -33 \nQ 819 25 488 141 \nL 488 750 \nQ 750 597 1062 519 \nQ 1375 441 1716 441 \nQ 2309 441 2620 675 \nQ 2931 909 2931 1356 \nQ 2931 1769 2642 2001 \nQ 2353 2234 1838 2234 \nL 1294 2234 \nL 1294 2753 \nL 1863 2753 \nQ 2328 2753 2575 2939 \nQ 2822 3125 2822 3475 \nQ 2822 3834 2567 4026 \nQ 2313 4219 1838 4219 \nQ 1578 4219 1281 4162 \nQ 984 4106 628 3988 \nL 628 4550 \nQ 988 4650 1302 4700 \nQ 1616 4750 1894 4750 \nQ 2613 4750 3031 4423 \nQ 3450 4097 3450 3541 \nQ 3450 3153 3228 2886 \nQ 3006 2619 2597 2516 \nz\n\" transform=\"scale(0.015625)\"/>\n      </defs>\n      <use xlink:href=\"#DejaVuSans-2212\"/>\n      <use xlink:href=\"#DejaVuSans-33\" x=\"83.789062\"/>\n     </g>\n    </g>\n   </g>\n   <g id=\"xtick_2\">\n    <g id=\"line2d_3\">\n     <path d=\"M 48.722304 178.489212 \nL 46.876784 180.097787 \n\" style=\"fill: none; stroke: #000000; stroke-width: 0.8; stroke-linecap: square\"/>\n    </g>\n    <g id=\"text_3\">\n     <!-- −2 -->\n     <g transform=\"translate(33.222838 202.491787)scale(0.1 -0.1)\">\n      <defs>\n       <path id=\"DejaVuSans-32\" d=\"M 1228 531 \nL 3431 531 \nL 3431 0 \nL 469 0 \nL 469 531 \nQ 828 903 1448 1529 \nQ 2069 2156 2228 2338 \nQ 2531 2678 2651 2914 \nQ 2772 3150 2772 3378 \nQ 2772 3750 2511 3984 \nQ 2250 4219 1831 4219 \nQ 1534 4219 1204 4116 \nQ 875 4013 500 3803 \nL 500 4441 \nQ 881 4594 1212 4672 \nQ 1544 4750 1819 4750 \nQ 2544 4750 2975 4387 \nQ 3406 4025 3406 3419 \nQ 3406 3131 3298 2873 \nQ 3191 2616 2906 2266 \nQ 2828 2175 2409 1742 \nQ 1991 1309 1228 531 \nz\n\" transform=\"scale(0.015625)\"/>\n      </defs>\n      <use xlink:href=\"#DejaVuSans-2212\"/>\n      <use xlink:href=\"#DejaVuSans-32\" x=\"83.789062\"/>\n     </g>\n    </g>\n   </g>\n   <g id=\"xtick_3\">\n    <g id=\"line2d_4\">\n     <path d=\"M 66.066835 184.148338 \nL 64.245029 185.7815 \n\" style=\"fill: none; stroke: #000000; stroke-width: 0.8; stroke-linecap: square\"/>\n    </g>\n    <g id=\"text_4\">\n     <!-- −1 -->\n     <g transform=\"translate(50.598032 208.306622)scale(0.1 -0.1)\">\n      <defs>\n       <path id=\"DejaVuSans-31\" d=\"M 794 531 \nL 1825 531 \nL 1825 4091 \nL 703 3866 \nL 703 4441 \nL 1819 4666 \nL 2450 4666 \nL 2450 531 \nL 3481 531 \nL 3481 0 \nL 794 0 \nL 794 531 \nz\n\" transform=\"scale(0.015625)\"/>\n      </defs>\n      <use xlink:href=\"#DejaVuSans-2212\"/>\n      <use xlink:href=\"#DejaVuSans-31\" x=\"83.789062\"/>\n     </g>\n    </g>\n   </g>\n   <g id=\"xtick_4\">\n    <g id=\"line2d_5\">\n     <path d=\"M 83.67721 189.894202 \nL 81.880066 191.55252 \n\" style=\"fill: none; stroke: #000000; stroke-width: 0.8; stroke-linecap: square\"/>\n    </g>\n    <g id=\"text_5\">\n     <!-- 0 -->\n     <g transform=\"translate(72.43082 214.211064)scale(0.1 -0.1)\">\n      <defs>\n       <path id=\"DejaVuSans-30\" d=\"M 2034 4250 \nQ 1547 4250 1301 3770 \nQ 1056 3291 1056 2328 \nQ 1056 1369 1301 889 \nQ 1547 409 2034 409 \nQ 2525 409 2770 889 \nQ 3016 1369 3016 2328 \nQ 3016 3291 2770 3770 \nQ 2525 4250 2034 4250 \nz\nM 2034 4750 \nQ 2819 4750 3233 4129 \nQ 3647 3509 3647 2328 \nQ 3647 1150 3233 529 \nQ 2819 -91 2034 -91 \nQ 1250 -91 836 529 \nQ 422 1150 422 2328 \nQ 422 3509 836 4129 \nQ 1250 4750 2034 4750 \nz\n\" transform=\"scale(0.015625)\"/>\n      </defs>\n      <use xlink:href=\"#DejaVuSans-30\"/>\n     </g>\n    </g>\n   </g>\n   <g id=\"xtick_5\">\n    <g id=\"line2d_6\">\n     <path d=\"M 101.559589 195.728816 \nL 99.788091 197.412875 \n\" style=\"fill: none; stroke: #000000; stroke-width: 0.8; stroke-linecap: square\"/>\n    </g>\n    <g id=\"text_6\">\n     <!-- 1 -->\n     <g transform=\"translate(90.347752 220.2072)scale(0.1 -0.1)\">\n      <use xlink:href=\"#DejaVuSans-31\"/>\n     </g>\n    </g>\n   </g>\n   <g id=\"xtick_6\">\n    <g id=\"line2d_7\">\n     <path d=\"M 119.720323 201.65425 \nL 117.975491 203.364655 \n\" style=\"fill: none; stroke: #000000; stroke-width: 0.8; stroke-linecap: square\"/>\n    </g>\n    <g id=\"text_7\">\n     <!-- 2 -->\n     <g transform=\"translate(108.545104 226.297181)scale(0.1 -0.1)\">\n      <use xlink:href=\"#DejaVuSans-32\"/>\n     </g>\n    </g>\n   </g>\n   <g id=\"xtick_7\">\n    <g id=\"line2d_8\">\n     <path d=\"M 138.165962 207.672643 \nL 136.448856 209.410015 \n\" style=\"fill: none; stroke: #000000; stroke-width: 0.8; stroke-linecap: square\"/>\n    </g>\n    <g id=\"text_8\">\n     <!-- 3 -->\n     <g transform=\"translate(127.029511 232.48323)scale(0.1 -0.1)\">\n      <use xlink:href=\"#DejaVuSans-33\"/>\n     </g>\n    </g>\n   </g>\n  </g>\n  <g id=\"axis3d_2\">\n   <g id=\"line2d_9\">\n    <path d=\"M 210.64668 144.32791 \nL 145.759879 210.91773 \n\" style=\"fill: none; stroke: #000000; stroke-width: 0.8; stroke-linecap: square\"/>\n   </g>\n   <g id=\"text_9\">\n    <!-- B -->\n    <g transform=\"translate(203.202988 206.910788)scale(0.1 -0.1)\">\n     <defs>\n      <path id=\"DejaVuSans-42\" d=\"M 1259 2228 \nL 1259 519 \nL 2272 519 \nQ 2781 519 3026 730 \nQ 3272 941 3272 1375 \nQ 3272 1813 3026 2020 \nQ 2781 2228 2272 2228 \nL 1259 2228 \nz\nM 1259 4147 \nL 1259 2741 \nL 2194 2741 \nQ 2656 2741 2882 2914 \nQ 3109 3088 3109 3444 \nQ 3109 3797 2882 3972 \nQ 2656 4147 2194 4147 \nL 1259 4147 \nz\nM 628 4666 \nL 2241 4666 \nQ 2963 4666 3353 4366 \nQ 3744 4066 3744 3513 \nQ 3744 3084 3544 2831 \nQ 3344 2578 2956 2516 \nQ 3422 2416 3680 2098 \nQ 3938 1781 3938 1306 \nQ 3938 681 3513 340 \nQ 3088 0 2303 0 \nL 628 0 \nL 628 4666 \nz\n\" transform=\"scale(0.015625)\"/>\n     </defs>\n     <use xlink:href=\"#DejaVuSans-42\"/>\n    </g>\n   </g>\n   <g id=\"Line3DCollection_2\">\n    <path d=\"M 24.386948 75.145071 \nL 28.566245 166.878731 \nL 150.249543 206.31023 \n\" style=\"fill: none; stroke: #b0b0b0; stroke-width: 0.8\"/>\n    <path d=\"M 36.052777 66.63188 \nL 39.669448 157.571807 \nL 160.314244 195.981371 \n\" style=\"fill: none; stroke: #b0b0b0; stroke-width: 0.8\"/>\n    <path d=\"M 47.412681 58.34194 \nL 50.494037 148.498421 \nL 170.113154 185.925279 \n\" style=\"fill: none; stroke: #b0b0b0; stroke-width: 0.8\"/>\n    <path d=\"M 58.478537 50.266582 \nL 61.050371 139.649893 \nL 179.656664 176.131289 \n\" style=\"fill: none; stroke: #b0b0b0; stroke-width: 0.8\"/>\n    <path d=\"M 69.261618 42.397581 \nL 71.348298 131.017966 \nL 188.954633 166.589287 \n\" style=\"fill: none; stroke: #b0b0b0; stroke-width: 0.8\"/>\n    <path d=\"M 79.772624 34.727127 \nL 81.397192 122.594784 \nL 198.016415 157.289669 \n\" style=\"fill: none; stroke: #b0b0b0; stroke-width: 0.8\"/>\n    <path d=\"M 90.021727 27.247799 \nL 91.20598 114.372864 \nL 206.850896 148.223317 \n\" style=\"fill: none; stroke: #b0b0b0; stroke-width: 0.8\"/>\n   </g>\n   <g id=\"xtick_8\">\n    <g id=\"line2d_10\">\n     <path d=\"M 149.224115 205.977939 \nL 152.303053 206.97567 \n\" style=\"fill: none; stroke: #000000; stroke-width: 0.8; stroke-linecap: square\"/>\n    </g>\n    <g id=\"text_10\">\n     <!-- −3 -->\n     <g transform=\"translate(155.76081 227.333759)scale(0.1 -0.1)\">\n      <use xlink:href=\"#DejaVuSans-2212\"/>\n      <use xlink:href=\"#DejaVuSans-33\" x=\"83.789062\"/>\n     </g>\n    </g>\n   </g>\n   <g id=\"xtick_9\">\n    <g id=\"line2d_11\">\n     <path d=\"M 159.298255 195.657912 \nL 162.348812 196.629115 \n\" style=\"fill: none; stroke: #000000; stroke-width: 0.8; stroke-linecap: square\"/>\n    </g>\n    <g id=\"text_11\">\n     <!-- −2 -->\n     <g transform=\"translate(165.660288 216.817664)scale(0.1 -0.1)\">\n      <use xlink:href=\"#DejaVuSans-2212\"/>\n      <use xlink:href=\"#DejaVuSans-32\" x=\"83.789062\"/>\n     </g>\n    </g>\n   </g>\n   <g id=\"xtick_10\">\n    <g id=\"line2d_12\">\n     <path d=\"M 169.106468 185.610304 \nL 172.129059 186.556023 \n\" style=\"fill: none; stroke: #000000; stroke-width: 0.8; stroke-linecap: square\"/>\n    </g>\n    <g id=\"text_12\">\n     <!-- −1 -->\n     <g transform=\"translate(175.298151 206.579478)scale(0.1 -0.1)\">\n      <use xlink:href=\"#DejaVuSans-2212\"/>\n      <use xlink:href=\"#DejaVuSans-31\" x=\"83.789062\"/>\n     </g>\n    </g>\n   </g>\n   <g id=\"xtick_11\">\n    <g id=\"line2d_13\">\n     <path d=\"M 178.659145 175.824468 \nL 181.654182 176.745694 \n\" style=\"fill: none; stroke: #000000; stroke-width: 0.8; stroke-linecap: square\"/>\n    </g>\n    <g id=\"text_13\">\n     <!-- 0 -->\n     <g transform=\"translate(188.87448 196.608328)scale(0.1 -0.1)\">\n      <use xlink:href=\"#DejaVuSans-30\"/>\n     </g>\n    </g>\n   </g>\n   <g id=\"xtick_12\">\n    <g id=\"line2d_14\">\n     <path d=\"M 187.966144 166.290307 \nL 190.934035 167.187978 \n\" style=\"fill: none; stroke: #000000; stroke-width: 0.8; stroke-linecap: square\"/>\n    </g>\n    <g id=\"text_14\">\n     <!-- 1 -->\n     <g transform=\"translate(198.019295 186.893902)scale(0.1 -0.1)\">\n      <use xlink:href=\"#DejaVuSans-31\"/>\n     </g>\n    </g>\n   </g>\n   <g id=\"xtick_13\">\n    <g id=\"line2d_15\">\n     <path d=\"M 197.036822 156.998235 \nL 199.977972 157.873244 \n\" style=\"fill: none; stroke: #000000; stroke-width: 0.8; stroke-linecap: square\"/>\n    </g>\n    <g id=\"text_15\">\n     <!-- 2 -->\n     <g transform=\"translate(206.931655 177.42641)scale(0.1 -0.1)\">\n      <use xlink:href=\"#DejaVuSans-32\"/>\n     </g>\n    </g>\n   </g>\n   <g id=\"xtick_14\">\n    <g id=\"line2d_16\">\n     <path d=\"M 205.880068 147.939146 \nL 208.794875 148.79234 \n\" style=\"fill: none; stroke: #000000; stroke-width: 0.8; stroke-linecap: square\"/>\n    </g>\n    <g id=\"text_16\">\n     <!-- 3 -->\n     <g transform=\"translate(215.62031 168.196556)scale(0.1 -0.1)\">\n      <use xlink:href=\"#DejaVuSans-33\"/>\n     </g>\n    </g>\n   </g>\n  </g>\n  <g id=\"axis3d_3\">\n   <g id=\"line2d_17\">\n    <path d=\"M 210.64668 144.32791 \nL 214.758571 54.534718 \n\" style=\"fill: none; stroke: #000000; stroke-width: 0.8; stroke-linecap: square\"/>\n   </g>\n   <g id=\"text_17\">\n    <!-- P(A) * P(B) -->\n    <g transform=\"translate(254.524068 121.473952)rotate(-87.378092)scale(0.1 -0.1)\">\n     <defs>\n      <path id=\"DejaVuSans-50\" d=\"M 1259 4147 \nL 1259 2394 \nL 2053 2394 \nQ 2494 2394 2734 2622 \nQ 2975 2850 2975 3272 \nQ 2975 3691 2734 3919 \nQ 2494 4147 2053 4147 \nL 1259 4147 \nz\nM 628 4666 \nL 2053 4666 \nQ 2838 4666 3239 4311 \nQ 3641 3956 3641 3272 \nQ 3641 2581 3239 2228 \nQ 2838 1875 2053 1875 \nL 1259 1875 \nL 1259 0 \nL 628 0 \nL 628 4666 \nz\n\" transform=\"scale(0.015625)\"/>\n      <path id=\"DejaVuSans-28\" d=\"M 1984 4856 \nQ 1566 4138 1362 3434 \nQ 1159 2731 1159 2009 \nQ 1159 1288 1364 580 \nQ 1569 -128 1984 -844 \nL 1484 -844 \nQ 1016 -109 783 600 \nQ 550 1309 550 2009 \nQ 550 2706 781 3412 \nQ 1013 4119 1484 4856 \nL 1984 4856 \nz\n\" transform=\"scale(0.015625)\"/>\n      <path id=\"DejaVuSans-29\" d=\"M 513 4856 \nL 1013 4856 \nQ 1481 4119 1714 3412 \nQ 1947 2706 1947 2009 \nQ 1947 1309 1714 600 \nQ 1481 -109 1013 -844 \nL 513 -844 \nQ 928 -128 1133 580 \nQ 1338 1288 1338 2009 \nQ 1338 2731 1133 3434 \nQ 928 4138 513 4856 \nz\n\" transform=\"scale(0.015625)\"/>\n      <path id=\"DejaVuSans-20\" transform=\"scale(0.015625)\"/>\n      <path id=\"DejaVuSans-2a\" d=\"M 3009 3897 \nL 1888 3291 \nL 3009 2681 \nL 2828 2375 \nL 1778 3009 \nL 1778 1831 \nL 1422 1831 \nL 1422 3009 \nL 372 2375 \nL 191 2681 \nL 1313 3291 \nL 191 3897 \nL 372 4206 \nL 1422 3572 \nL 1422 4750 \nL 1778 4750 \nL 1778 3572 \nL 2828 4206 \nL 3009 3897 \nz\n\" transform=\"scale(0.015625)\"/>\n     </defs>\n     <use xlink:href=\"#DejaVuSans-50\"/>\n     <use xlink:href=\"#DejaVuSans-28\" x=\"60.302734\"/>\n     <use xlink:href=\"#DejaVuSans-41\" x=\"99.316406\"/>\n     <use xlink:href=\"#DejaVuSans-29\" x=\"167.724609\"/>\n     <use xlink:href=\"#DejaVuSans-20\" x=\"206.738281\"/>\n     <use xlink:href=\"#DejaVuSans-2a\" x=\"238.525391\"/>\n     <use xlink:href=\"#DejaVuSans-20\" x=\"288.525391\"/>\n     <use xlink:href=\"#DejaVuSans-50\" x=\"320.3125\"/>\n     <use xlink:href=\"#DejaVuSans-28\" x=\"380.615234\"/>\n     <use xlink:href=\"#DejaVuSans-42\" x=\"419.628906\"/>\n     <use xlink:href=\"#DejaVuSans-29\" x=\"488.232422\"/>\n    </g>\n   </g>\n   <g id=\"Line3DCollection_3\">\n    <path d=\"M 211.475715 126.223912 \nL 95.22242 93.306523 \nL 22.725355 152.485346 \n\" style=\"fill: none; stroke: #b0b0b0; stroke-width: 0.8\"/>\n    <path d=\"M 212.285336 108.543863 \nL 95.025717 76.200748 \nL 21.852812 134.366443 \n\" style=\"fill: none; stroke: #b0b0b0; stroke-width: 0.8\"/>\n    <path d=\"M 213.109236 90.551984 \nL 94.825713 58.807868 \nL 20.964286 115.915617 \n\" style=\"fill: none; stroke: #b0b0b0; stroke-width: 0.8\"/>\n    <path d=\"M 213.947797 72.239955 \nL 94.622323 41.120595 \nL 20.059332 97.123666 \n\" style=\"fill: none; stroke: #b0b0b0; stroke-width: 0.8\"/>\n   </g>\n   <g id=\"xtick_15\">\n    <g id=\"line2d_18\">\n     <path d=\"M 210.499617 125.947528 \nL 213.430252 126.777344 \n\" style=\"fill: none; stroke: #000000; stroke-width: 0.8; stroke-linecap: square\"/>\n    </g>\n    <g id=\"text_18\">\n     <!-- 0.01 -->\n     <g transform=\"translate(218.740338 131.262656)scale(0.1 -0.1)\">\n      <defs>\n       <path id=\"DejaVuSans-2e\" d=\"M 684 794 \nL 1344 794 \nL 1344 0 \nL 684 0 \nL 684 794 \nz\n\" transform=\"scale(0.015625)\"/>\n      </defs>\n      <use xlink:href=\"#DejaVuSans-30\"/>\n      <use xlink:href=\"#DejaVuSans-2e\" x=\"63.623047\"/>\n      <use xlink:href=\"#DejaVuSans-30\" x=\"95.410156\"/>\n      <use xlink:href=\"#DejaVuSans-31\" x=\"159.033203\"/>\n     </g>\n    </g>\n   </g>\n   <g id=\"xtick_16\">\n    <g id=\"line2d_19\">\n     <path d=\"M 211.300382 108.272188 \nL 214.257626 109.087869 \n\" style=\"fill: none; stroke: #000000; stroke-width: 0.8; stroke-linecap: square\"/>\n    </g>\n    <g id=\"text_19\">\n     <!-- 0.02 -->\n     <g transform=\"translate(219.707159 113.626298)scale(0.1 -0.1)\">\n      <use xlink:href=\"#DejaVuSans-30\"/>\n      <use xlink:href=\"#DejaVuSans-2e\" x=\"63.623047\"/>\n      <use xlink:href=\"#DejaVuSans-30\" x=\"95.410156\"/>\n      <use xlink:href=\"#DejaVuSans-32\" x=\"159.033203\"/>\n     </g>\n    </g>\n   </g>\n   <g id=\"xtick_17\">\n    <g id=\"line2d_20\">\n     <path d=\"M 212.115265 90.28523 \nL 215.099604 91.086146 \n\" style=\"fill: none; stroke: #000000; stroke-width: 0.8; stroke-linecap: square\"/>\n    </g>\n    <g id=\"text_20\">\n     <!-- 0.03 -->\n     <g transform=\"translate(220.690968 95.680053)scale(0.1 -0.1)\">\n      <use xlink:href=\"#DejaVuSans-30\"/>\n      <use xlink:href=\"#DejaVuSans-2e\" x=\"63.623047\"/>\n      <use xlink:href=\"#DejaVuSans-30\" x=\"95.410156\"/>\n      <use xlink:href=\"#DejaVuSans-33\" x=\"159.033203\"/>\n     </g>\n    </g>\n   </g>\n   <g id=\"xtick_18\">\n    <g id=\"line2d_21\">\n     <path d=\"M 212.944643 71.978338 \nL 215.956577 72.763832 \n\" style=\"fill: none; stroke: #000000; stroke-width: 0.8; stroke-linecap: square\"/>\n    </g>\n    <g id=\"text_21\">\n     <!-- 0.04 -->\n     <g transform=\"translate(221.692217 77.415682)scale(0.1 -0.1)\">\n      <defs>\n       <path id=\"DejaVuSans-34\" d=\"M 2419 4116 \nL 825 1625 \nL 2419 1625 \nL 2419 4116 \nz\nM 2253 4666 \nL 3047 4666 \nL 3047 1625 \nL 3713 1625 \nL 3713 1100 \nL 3047 1100 \nL 3047 0 \nL 2419 0 \nL 2419 1100 \nL 313 1100 \nL 313 1709 \nL 2253 4666 \nz\n\" transform=\"scale(0.015625)\"/>\n      </defs>\n      <use xlink:href=\"#DejaVuSans-30\"/>\n      <use xlink:href=\"#DejaVuSans-2e\" x=\"63.623047\"/>\n      <use xlink:href=\"#DejaVuSans-30\" x=\"95.410156\"/>\n      <use xlink:href=\"#DejaVuSans-34\" x=\"159.033203\"/>\n     </g>\n    </g>\n   </g>\n  </g>\n  <g id=\"axes_1\">\n   <g id=\"Poly3DCollection_1\">\n    <path d=\"M 94.047552 116.793559 \nL 100.994914 116.993865 \nL 105.143182 114.957736 \nL 98.214105 114.131214 \nz\n\" clip-path=\"url(#pdf43a4fa41)\" style=\"fill: #185b8a\"/>\n    <path d=\"M 100.994914 116.993865 \nL 107.996741 117.195741 \nL 112.121883 115.790176 \nL 105.143182 114.957736 \nz\n\" clip-path=\"url(#pdf43a4fa41)\" style=\"fill: #185b8a\"/>\n    <path d=\"M 89.831361 119.289828 \nL 96.793443 118.709712 \nL 100.994914 116.993865 \nL 94.047552 116.793559 \nz\n\" clip-path=\"url(#pdf43a4fa41)\" style=\"fill: #185b8a\"/>\n    <path d=\"M 107.996741 117.195741 \nL 115.053674 117.399206 \nL 119.150741 116.628599 \nL 112.121883 115.790176 \nz\n\" clip-path=\"url(#pdf43a4fa41)\" style=\"fill: #185b8a\"/>\n    <path d=\"M 96.793443 118.709712 \nL 103.815915 118.124564 \nL 107.996741 117.195741 \nL 100.994914 116.993865 \nz\n\" clip-path=\"url(#pdf43a4fa41)\" style=\"fill: #185b8a\"/>\n    <path d=\"M 115.053674 117.399206 \nL 122.166367 117.604278 \nL 126.230301 117.47307 \nL 119.150741 116.628599 \nz\n\" clip-path=\"url(#pdf43a4fa41)\" style=\"fill: #185b8a\"/>\n    <path d=\"M 85.564954 121.709657 \nL 92.537725 120.261718 \nL 96.793443 118.709712 \nL 89.831361 119.289828 \nz\n\" clip-path=\"url(#pdf43a4fa41)\" style=\"fill: #185b8a\"/>\n    <path d=\"M 103.815915 118.124564 \nL 110.899567 117.534318 \nL 115.053674 117.399206 \nL 107.996741 117.195741 \nz\n\" clip-path=\"url(#pdf43a4fa41)\" style=\"fill: #185b8a\"/>\n    <path d=\"M 122.166367 117.604278 \nL 129.335484 117.810978 \nL 133.361111 118.323655 \nL 126.230301 117.47307 \nz\n\" clip-path=\"url(#pdf43a4fa41)\" style=\"fill: #185b8a\"/>\n    <path d=\"M 92.537725 120.261718 \nL 99.577432 118.799879 \nL 103.815915 118.124564 \nL 96.793443 118.709712 \nz\n\" clip-path=\"url(#pdf43a4fa41)\" style=\"fill: #185b8a\"/>\n    <path d=\"M 81.249601 124.203752 \nL 88.229599 121.914333 \nL 92.537725 120.261718 \nL 85.564954 121.709657 \nz\n\" clip-path=\"url(#pdf43a4fa41)\" style=\"fill: #185b8a\"/>\n    <path d=\"M 110.899567 117.534318 \nL 118.045202 116.938908 \nL 122.166367 117.604278 \nL 115.053674 117.399206 \nz\n\" clip-path=\"url(#pdf43a4fa41)\" style=\"fill: #185b8a\"/>\n    <path d=\"M 129.335484 117.810978 \nL 136.561698 118.019323 \nL 140.543732 119.180419 \nL 133.361111 118.323655 \nz\n\" clip-path=\"url(#pdf43a4fa41)\" style=\"fill: #185b8a\"/>\n    <path d=\"M 99.577432 118.799879 \nL 106.685044 117.323939 \nL 110.899567 117.534318 \nL 103.815915 118.124564 \nz\n\" clip-path=\"url(#pdf43a4fa41)\" style=\"fill: #185b8a\"/>\n    <path d=\"M 118.045202 116.938908 \nL 125.253636 116.338264 \nL 129.335484 117.810978 \nL 122.166367 117.604278 \nz\n\" clip-path=\"url(#pdf43a4fa41)\" style=\"fill: #185b8a\"/>\n    <path d=\"M 136.561698 118.019323 \nL 143.845695 118.229335 \nL 147.778729 120.043431 \nL 140.543732 119.180419 \nz\n\" clip-path=\"url(#pdf43a4fa41)\" style=\"fill: #185b8a\"/>\n    <path d=\"M 88.229599 121.914333 \nL 95.282905 119.600868 \nL 99.577432 118.799879 \nL 92.537725 120.261718 \nz\n\" clip-path=\"url(#pdf43a4fa41)\" style=\"fill: #185b8a\"/>\n    <path d=\"M 76.888556 126.957047 \nL 83.874192 123.993204 \nL 88.229599 121.914333 \nL 81.249601 124.203752 \nz\n\" clip-path=\"url(#pdf43a4fa41)\" style=\"fill: #185b8a\"/>\n    <path d=\"M 106.685044 117.323939 \nL 113.861549 115.833694 \nL 118.045202 116.938908 \nL 110.899567 117.534318 \nz\n\" clip-path=\"url(#pdf43a4fa41)\" style=\"fill: #185b8a\"/>\n    <path d=\"M 143.845695 118.229335 \nL 151.18817 118.441032 \nL 155.066678 120.91276 \nL 147.778729 120.043431 \nz\n\" clip-path=\"url(#pdf43a4fa41)\" style=\"fill: #185b8a\"/>\n    <path d=\"M 125.253636 116.338264 \nL 132.525702 115.732319 \nL 136.561698 118.019323 \nL 129.335484 117.810978 \nz\n\" clip-path=\"url(#pdf43a4fa41)\" style=\"fill: #185b8a\"/>\n    <path d=\"M 95.282905 119.600868 \nL 102.410682 117.262977 \nL 106.685044 117.323939 \nL 99.577432 118.799879 \nz\n\" clip-path=\"url(#pdf43a4fa41)\" style=\"fill: #185b8a\"/>\n    <path d=\"M 83.874192 123.993204 \nL 90.938362 120.996041 \nL 95.282905 119.600868 \nL 88.229599 121.914333 \nz\n\" clip-path=\"url(#pdf43a4fa41)\" style=\"fill: #185b8a\"/>\n    <path d=\"M 72.486384 130.141156 \nL 79.479038 126.801273 \nL 83.874192 123.993204 \nL 76.888556 126.957047 \nz\n\" clip-path=\"url(#pdf43a4fa41)\" style=\"fill: #185b8a\"/>\n    <path d=\"M 113.861549 115.833694 \nL 121.107953 114.328933 \nL 125.253636 116.338264 \nL 118.045202 116.938908 \nz\n\" clip-path=\"url(#pdf43a4fa41)\" style=\"fill: #185b8a\"/>\n    <path d=\"M 151.18817 118.441032 \nL 158.58983 118.654436 \nL 162.408162 121.788474 \nL 155.066678 120.91276 \nz\n\" clip-path=\"url(#pdf43a4fa41)\" style=\"fill: #185b8a\"/>\n    <path d=\"M 132.525702 115.732319 \nL 139.862246 115.121001 \nL 143.845695 118.229335 \nL 136.561698 118.019323 \nz\n\" clip-path=\"url(#pdf43a4fa41)\" style=\"fill: #185b8a\"/>\n    <path d=\"M 102.410682 117.262977 \nL 109.614114 114.900271 \nL 113.861549 115.833694 \nL 106.685044 117.323939 \nz\n\" clip-path=\"url(#pdf43a4fa41)\" style=\"fill: #185b8a\"/>\n    <path d=\"M 158.58983 118.654436 \nL 166.051394 118.869568 \nL 169.803773 122.670644 \nL 162.408162 121.788474 \nz\n\" clip-path=\"url(#pdf43a4fa41)\" style=\"fill: #185b8a\"/>\n    <path d=\"M 90.938362 120.996041 \nL 98.082397 117.964993 \nL 102.410682 117.262977 \nL 95.282905 119.600868 \nz\n\" clip-path=\"url(#pdf43a4fa41)\" style=\"fill: #185b8a\"/>\n    <path d=\"M 121.107953 114.328933 \nL 128.425282 112.809444 \nL 132.525702 115.732319 \nL 125.253636 116.338264 \nz\n\" clip-path=\"url(#pdf43a4fa41)\" style=\"fill: #185b8a\"/>\n    <path d=\"M 139.862246 115.121001 \nL 147.264128 114.504238 \nL 151.18817 118.441032 \nL 143.845695 118.229335 \nz\n\" clip-path=\"url(#pdf43a4fa41)\" style=\"fill: #185b8a\"/>\n    <path d=\"M 68.047565 133.862275 \nL 75.051914 130.526156 \nL 79.479038 126.801273 \nL 72.486384 130.141156 \nz\n\" clip-path=\"url(#pdf43a4fa41)\" style=\"fill: #185b8a\"/>\n    <path d=\"M 79.479038 126.801273 \nL 86.553401 123.422363 \nL 90.938362 120.996041 \nL 83.874192 123.993204 \nz\n\" clip-path=\"url(#pdf43a4fa41)\" style=\"fill: #185b8a\"/>\n    <path d=\"M 109.614114 114.900271 \nL 116.894412 112.512353 \nL 121.107953 114.328933 \nL 113.861549 115.833694 \nz\n\" clip-path=\"url(#pdf43a4fa41)\" style=\"fill: #185b8a\"/>\n    <path d=\"M 166.051394 118.869568 \nL 173.573593 119.086447 \nL 177.254113 123.559343 \nL 169.803773 122.670644 \nz\n\" clip-path=\"url(#pdf43a4fa41)\" style=\"fill: #185b8a\"/>\n    <path d=\"M 147.264128 114.504238 \nL 154.732227 113.881958 \nL 158.58983 118.654436 \nL 151.18817 118.441032 \nz\n\" clip-path=\"url(#pdf43a4fa41)\" style=\"fill: #185b8a\"/>\n    <path d=\"M 128.425282 112.809444 \nL 135.814583 111.27501 \nL 139.862246 115.121001 \nL 132.525702 115.732319 \nz\n\" clip-path=\"url(#pdf43a4fa41)\" style=\"fill: #185b8a\"/>\n    <path d=\"M 98.082397 117.964993 \nL 105.307658 114.899483 \nL 109.614114 114.900271 \nL 102.410682 117.262977 \nz\n\" clip-path=\"url(#pdf43a4fa41)\" style=\"fill: #185b8a\"/>\n    <path d=\"M 63.574835 138.126274 \nL 70.598146 135.177805 \nL 75.051914 130.526156 \nL 68.047565 133.862275 \nz\n\" clip-path=\"url(#pdf43a4fa41)\" style=\"fill: #185b8a\"/>\n    <path d=\"M 75.051914 130.526156 \nL 82.138552 127.150842 \nL 86.553401 123.422363 \nL 79.479038 126.801273 \nz\n\" clip-path=\"url(#pdf43a4fa41)\" style=\"fill: #185b8a\"/>\n    <path d=\"M 86.553401 123.422363 \nL 93.710915 120.003737 \nL 98.082397 117.964993 \nL 90.938362 120.996041 \nz\n\" clip-path=\"url(#pdf43a4fa41)\" style=\"fill: #185b8a\"/>\n    <path d=\"M 173.573593 119.086447 \nL 181.157167 119.305096 \nL 184.759789 124.454643 \nL 177.254113 123.559343 \nz\n\" clip-path=\"url(#pdf43a4fa41)\" style=\"fill: #185b8a\"/>\n    <path d=\"M 116.894412 112.512353 \nL 124.252815 110.098818 \nL 128.425282 112.809444 \nL 121.107953 114.328933 \nz\n\" clip-path=\"url(#pdf43a4fa41)\" style=\"fill: #185b8a\"/>\n    <path d=\"M 154.732227 113.881958 \nL 162.267434 113.254087 \nL 166.051394 118.869568 \nL 158.58983 118.654436 \nz\n\" clip-path=\"url(#pdf43a4fa41)\" style=\"fill: #185b8a\"/>\n    <path d=\"M 135.814583 111.27501 \nL 143.276922 109.725409 \nL 147.264128 114.504238 \nL 139.862246 115.121001 \nz\n\" clip-path=\"url(#pdf43a4fa41)\" style=\"fill: #185b8a\"/>\n    <path d=\"M 59.068021 142.836913 \nL 66.118552 140.585301 \nL 70.598146 135.177805 \nL 63.574835 138.126274 \nz\n\" clip-path=\"url(#pdf43a4fa41)\" style=\"fill: #185b8a\"/>\n    <path d=\"M 105.307658 114.899483 \nL 112.61554 111.798919 \nL 116.894412 112.512353 \nL 109.614114 114.900271 \nz\n\" clip-path=\"url(#pdf43a4fa41)\" style=\"fill: #185b8a\"/>\n    <path d=\"M 181.157167 119.305096 \nL 188.802872 119.525536 \nL 192.321423 125.356617 \nL 184.759789 124.454643 \nz\n\" clip-path=\"url(#pdf43a4fa41)\" style=\"fill: #185b8a\"/>\n    <path d=\"M 70.598146 135.177805 \nL 77.701701 132.195648 \nL 82.138552 127.150842 \nL 75.051914 130.526156 \nz\n\" clip-path=\"url(#pdf43a4fa41)\" style=\"fill: #185b8a\"/>\n    <path d=\"M 82.138552 127.150842 \nL 89.308939 123.73564 \nL 93.710915 120.003737 \nL 86.553401 123.422363 \nz\n\" clip-path=\"url(#pdf43a4fa41)\" style=\"fill: #185b8a\"/>\n    <path d=\"M 93.710915 120.003737 \nL 100.953054 116.544693 \nL 105.307658 114.899483 \nL 98.082397 117.964993 \nz\n\" clip-path=\"url(#pdf43a4fa41)\" style=\"fill: #185b8a\"/>\n    <path d=\"M 162.267434 113.254087 \nL 169.870658 112.620547 \nL 173.573593 119.086447 \nL 166.051394 118.869568 \nz\n\" clip-path=\"url(#pdf43a4fa41)\" style=\"fill: #185b8a\"/>\n    <path d=\"M 124.252815 110.098818 \nL 131.690584 107.65925 \nL 135.814583 111.27501 \nL 128.425282 112.809444 \nz\n\" clip-path=\"url(#pdf43a4fa41)\" style=\"fill: #185b8a\"/>\n    <path d=\"M 143.276922 109.725409 \nL 150.813389 108.160415 \nL 154.732227 113.881958 \nL 147.264128 114.504238 \nz\n\" clip-path=\"url(#pdf43a4fa41)\" style=\"fill: #185b8a\"/>\n    <path d=\"M 188.802872 119.525536 \nL 196.511475 119.74779 \nL 199.93964 126.265341 \nL 192.321423 125.356617 \nz\n\" clip-path=\"url(#pdf43a4fa41)\" style=\"fill: #185b8a\"/>\n    <path d=\"M 54.523875 147.828025 \nL 61.608983 146.454321 \nL 66.118552 140.585301 \nL 59.068021 142.836913 \nz\n\" clip-path=\"url(#pdf43a4fa41)\" style=\"fill: #185b8a\"/>\n    <path d=\"M 66.118552 140.585301 \nL 73.245154 138.309396 \nL 77.701701 132.195648 \nL 70.598146 135.177805 \nz\n\" clip-path=\"url(#pdf43a4fa41)\" style=\"fill: #185b8a\"/>\n    <path d=\"M 112.61554 111.798919 \nL 120.007467 108.662696 \nL 124.252815 110.098818 \nL 116.894412 112.512353 \nz\n\" clip-path=\"url(#pdf43a4fa41)\" style=\"fill: #185b8a\"/>\n    <path d=\"M 77.701701 132.195648 \nL 84.886884 129.179223 \nL 89.308939 123.73564 \nL 82.138552 127.150842 \nz\n\" clip-path=\"url(#pdf43a4fa41)\" style=\"fill: #185b8a\"/>\n    <path d=\"M 169.870658 112.620547 \nL 177.542824 111.981264 \nL 181.157167 119.305096 \nL 173.573593 119.086447 \nz\n\" clip-path=\"url(#pdf43a4fa41)\" style=\"fill: #185b8a\"/>\n    <path d=\"M 100.953054 116.544693 \nL 108.281328 113.044508 \nL 112.61554 111.798919 \nL 105.307658 114.899483 \nz\n\" clip-path=\"url(#pdf43a4fa41)\" style=\"fill: #185b8a\"/>\n    <path d=\"M 89.308939 123.73564 \nL 96.564567 120.279838 \nL 100.953054 116.544693 \nL 93.710915 120.003737 \nz\n\" clip-path=\"url(#pdf43a4fa41)\" style=\"fill: #185b8a\"/>\n    <path d=\"M 131.690584 107.65925 \nL 139.209012 105.193226 \nL 143.276922 109.725409 \nL 135.814583 111.27501 \nz\n\" clip-path=\"url(#pdf43a4fa41)\" style=\"fill: #185b8a\"/>\n    <path d=\"M 150.813389 108.160415 \nL 158.425093 106.579798 \nL 162.267434 113.254087 \nL 154.732227 113.881958 \nz\n\" clip-path=\"url(#pdf43a4fa41)\" style=\"fill: #185b8a\"/>\n    <path d=\"M 49.936989 152.914912 \nL 57.061648 152.458553 \nL 61.608983 146.454321 \nL 54.523875 147.828025 \nz\n\" clip-path=\"url(#pdf43a4fa41)\" style=\"fill: #185b8a\"/>\n    <path d=\"M 61.608983 146.454321 \nL 68.764718 145.066924 \nL 73.245154 138.309396 \nL 66.118552 140.585301 \nz\n\" clip-path=\"url(#pdf43a4fa41)\" style=\"fill: #185b8a\"/>\n    <path d=\"M 73.245154 138.309396 \nL 80.449066 136.008801 \nL 84.886884 129.179223 \nL 77.701701 132.195648 \nz\n\" clip-path=\"url(#pdf43a4fa41)\" style=\"fill: #185c8a\"/>\n    <path d=\"M 177.542824 111.981264 \nL 185.284874 111.336157 \nL 188.802872 119.525536 \nL 181.157167 119.305096 \nz\n\" clip-path=\"url(#pdf43a4fa41)\" style=\"fill: #185b89\"/>\n    <path d=\"M 120.007467 108.662696 \nL 127.484898 105.490196 \nL 131.690584 107.65925 \nL 124.252815 110.098818 \nz\n\" clip-path=\"url(#pdf43a4fa41)\" style=\"fill: #185b8a\"/>\n    <path d=\"M 84.886884 129.179223 \nL 92.15511 126.127936 \nL 96.564567 120.279838 \nL 89.308939 123.73564 \nz\n\" clip-path=\"url(#pdf43a4fa41)\" style=\"fill: #185b8a\"/>\n    <path d=\"M 158.425093 106.579798 \nL 166.113166 104.983322 \nL 169.870658 112.620547 \nL 162.267434 113.254087 \nz\n\" clip-path=\"url(#pdf43a4fa41)\" style=\"fill: #185b8a\"/>\n    <path d=\"M 108.281328 113.044508 \nL 115.697283 109.502444 \nL 120.007467 108.662696 \nL 112.61554 111.798919 \nz\n\" clip-path=\"url(#pdf43a4fa41)\" style=\"fill: #185b8a\"/>\n    <path d=\"M 139.209012 105.193226 \nL 146.809417 102.700315 \nL 150.813389 108.160415 \nL 143.276922 109.725409 \nz\n\" clip-path=\"url(#pdf43a4fa41)\" style=\"fill: #185b8a\"/>\n    <path d=\"M 96.564567 120.279838 \nL 103.906966 116.782707 \nL 108.281328 113.044508 \nL 100.953054 116.544693 \nz\n\" clip-path=\"url(#pdf43a4fa41)\" style=\"fill: #185b8a\"/>\n    <path d=\"M 45.301323 157.943215 \nL 52.467503 158.326045 \nL 57.061648 152.458553 \nL 49.936989 152.914912 \nz\n\" clip-path=\"url(#pdf43a4fa41)\" style=\"fill: #185b8a\"/>\n    <path d=\"M 57.061648 152.458553 \nL 64.251169 151.99804 \nL 68.764718 145.066924 \nL 61.608983 146.454321 \nz\n\" clip-path=\"url(#pdf43a4fa41)\" style=\"fill: #185b8a\"/>\n    <path d=\"M 68.764718 145.066924 \nL 75.992139 143.665628 \nL 80.449066 136.008801 \nL 73.245154 138.309396 \nz\n\" clip-path=\"url(#pdf43a4fa41)\" style=\"fill: #185c8a\"/>\n    <path d=\"M 185.284874 111.336157 \nL 193.097767 110.685147 \nL 196.511475 119.74779 \nL 188.802872 119.525536 \nz\n\" clip-path=\"url(#pdf43a4fa41)\" style=\"fill: #185b89\"/>\n    <path d=\"M 80.449066 136.008801 \nL 87.731552 133.683114 \nL 92.15511 126.127936 \nL 84.886884 129.179223 \nz\n\" clip-path=\"url(#pdf43a4fa41)\" style=\"fill: #185c8a\"/>\n    <path d=\"M 127.484898 105.490196 \nL 135.049324 102.280786 \nL 139.209012 105.193226 \nL 131.690584 107.65925 \nz\n\" clip-path=\"url(#pdf43a4fa41)\" style=\"fill: #185b8a\"/>\n    <path d=\"M 166.113166 104.983322 \nL 173.878763 103.370747 \nL 177.542824 111.981264 \nL 169.870658 112.620547 \nz\n\" clip-path=\"url(#pdf43a4fa41)\" style=\"fill: #185b8a\"/>\n    <path d=\"M 92.15511 126.127936 \nL 99.507826 123.041178 \nL 103.906966 116.782707 \nL 96.564567 120.279838 \nz\n\" clip-path=\"url(#pdf43a4fa41)\" style=\"fill: #185c8a\"/>\n    <path d=\"M 52.467503 158.326045 \nL 59.693278 158.712059 \nL 64.251169 151.99804 \nL 57.061648 152.458553 \nz\n\" clip-path=\"url(#pdf43a4fa41)\" style=\"fill: #185b8a\"/>\n    <path d=\"M 146.809417 102.700315 \nL 154.493147 100.180072 \nL 158.425093 106.579798 \nL 150.813389 108.160415 \nz\n\" clip-path=\"url(#pdf43a4fa41)\" style=\"fill: #185b8a\"/>\n    <path d=\"M 40.611658 162.818175 \nL 47.818632 163.890329 \nL 52.467503 158.326045 \nL 45.301323 157.943215 \nz\n\" clip-path=\"url(#pdf43a4fa41)\" style=\"fill: #185b8a\"/>\n    <path d=\"M 64.251169 151.99804 \nL 71.506443 151.533314 \nL 75.992139 143.665628 \nL 68.764718 145.066924 \nz\n\" clip-path=\"url(#pdf43a4fa41)\" style=\"fill: #185b8a\"/>\n    <path d=\"M 115.697283 109.502444 \nL 123.202502 105.917745 \nL 127.484898 105.490196 \nL 120.007467 108.662696 \nz\n\" clip-path=\"url(#pdf43a4fa41)\" style=\"fill: #185b8a\"/>\n    <path d=\"M 103.906966 116.782707 \nL 111.337702 113.243503 \nL 115.697283 109.502444 \nL 108.281328 113.044508 \nz\n\" clip-path=\"url(#pdf43a4fa41)\" style=\"fill: #185b8a\"/>\n    <path d=\"M 75.992139 143.665628 \nL 83.292329 142.250223 \nL 87.731552 133.683114 \nL 80.449066 136.008801 \nz\n\" clip-path=\"url(#pdf43a4fa41)\" style=\"fill: #185c8a\"/>\n    <path d=\"M 87.731552 133.683114 \nL 95.093904 131.331921 \nL 99.507826 123.041178 \nL 92.15511 126.127936 \nz\n\" clip-path=\"url(#pdf43a4fa41)\" style=\"fill: #185c8a\"/>\n    <path d=\"M 173.878763 103.370747 \nL 181.723064 101.741829 \nL 185.284874 111.336157 \nL 177.542824 111.981264 \nz\n\" clip-path=\"url(#pdf43a4fa41)\" style=\"fill: #185b89\"/>\n    <path d=\"M 135.049324 102.280786 \nL 142.702274 99.033817 \nL 146.809417 102.700315 \nL 139.209012 105.193226 \nz\n\" clip-path=\"url(#pdf43a4fa41)\" style=\"fill: #185b8a\"/>\n    <path d=\"M 59.693278 158.712059 \nL 66.979394 159.101296 \nL 71.506443 151.533314 \nL 64.251169 151.99804 \nz\n\" clip-path=\"url(#pdf43a4fa41)\" style=\"fill: #185b8a\"/>\n    <path d=\"M 47.818632 163.890329 \nL 55.080944 164.970715 \nL 59.693278 158.712059 \nL 52.467503 158.326045 \nz\n\" clip-path=\"url(#pdf43a4fa41)\" style=\"fill: #185b8a\"/>\n    <path d=\"M 71.506443 151.533314 \nL 78.828375 151.064319 \nL 83.292329 142.250223 \nL 75.992139 143.665628 \nz\n\" clip-path=\"url(#pdf43a4fa41)\" style=\"fill: #185c8a\"/>\n    <path d=\"M 35.864465 167.508925 \nL 43.109716 169.097383 \nL 47.818632 163.890329 \nL 40.611658 162.818175 \nz\n\" clip-path=\"url(#pdf43a4fa41)\" style=\"fill: #185b8a\"/>\n    <path d=\"M 154.493147 100.180072 \nL 162.261581 97.632047 \nL 166.113166 104.983322 \nL 158.425093 106.579798 \nz\n\" clip-path=\"url(#pdf43a4fa41)\" style=\"fill: #185b8a\"/>\n    <path d=\"M 99.507826 123.041178 \nL 106.946515 119.918328 \nL 111.337702 113.243503 \nL 103.906966 116.782707 \nz\n\" clip-path=\"url(#pdf43a4fa41)\" style=\"fill: #185c8a\"/>\n    <path d=\"M 123.202502 105.917745 \nL 130.798607 102.289637 \nL 135.049324 102.280786 \nL 127.484898 105.490196 \nz\n\" clip-path=\"url(#pdf43a4fa41)\" style=\"fill: #185b8a\"/>\n    <path d=\"M 111.337702 113.243503 \nL 118.858378 109.66146 \nL 123.202502 105.917745 \nL 115.697283 109.502444 \nz\n\" clip-path=\"url(#pdf43a4fa41)\" style=\"fill: #185b8a\"/>\n    <path d=\"M 83.292329 142.250223 \nL 90.666394 140.820495 \nL 95.093904 131.331921 \nL 87.731552 133.683114 \nz\n\" clip-path=\"url(#pdf43a4fa41)\" style=\"fill: #185c8b\"/>\n    <path d=\"M 55.080944 164.970715 \nL 62.399235 166.059429 \nL 66.979394 159.101296 \nL 59.693278 158.712059 \nz\n\" clip-path=\"url(#pdf43a4fa41)\" style=\"fill: #185b8a\"/>\n    <path d=\"M 66.979394 159.101296 \nL 74.326612 159.493797 \nL 78.828375 151.064319 \nL 71.506443 151.533314 \nz\n\" clip-path=\"url(#pdf43a4fa41)\" style=\"fill: #185b8a\"/>\n    <path d=\"M 181.723064 101.741829 \nL 189.64727 100.096319 \nL 193.097767 110.685147 \nL 185.284874 111.336157 \nz\n\" clip-path=\"url(#pdf43a4fa41)\" style=\"fill: #185b89\"/>\n    <path d=\"M 43.109716 169.097383 \nL 50.407246 170.697303 \nL 55.080944 164.970715 \nL 47.818632 163.890329 \nz\n\" clip-path=\"url(#pdf43a4fa41)\" style=\"fill: #185b8a\"/>\n    <path d=\"M 95.093904 131.331921 \nL 102.537445 128.9548 \nL 106.946515 119.918328 \nL 99.507826 123.041178 \nz\n\" clip-path=\"url(#pdf43a4fa41)\" style=\"fill: #185c8b\"/>\n    <path d=\"M 142.702274 99.033817 \nL 150.44531 95.748628 \nL 154.493147 100.180072 \nL 146.809417 102.700315 \nz\n\" clip-path=\"url(#pdf43a4fa41)\" style=\"fill: #185b8a\"/>\n    <path d=\"M 78.828375 151.064319 \nL 86.217889 150.590996 \nL 90.666394 140.820495 \nL 83.292329 142.250223 \nz\n\" clip-path=\"url(#pdf43a4fa41)\" style=\"fill: #185c8a\"/>\n    <path d=\"M 162.261581 97.632047 \nL 170.116127 95.055778 \nL 173.878763 103.370747 \nL 166.113166 104.983322 \nz\n\" clip-path=\"url(#pdf43a4fa41)\" style=\"fill: #185b8a\"/>\n    <path d=\"M 106.946515 119.918328 \nL 114.472694 116.758749 \nL 118.858378 109.66146 \nL 111.337702 113.243503 \nz\n\" clip-path=\"url(#pdf43a4fa41)\" style=\"fill: #185c8a\"/>\n    <path d=\"M 90.666394 140.820495 \nL 98.11546 139.376225 \nL 102.537445 128.9548 \nL 95.093904 131.331921 \nz\n\" clip-path=\"url(#pdf43a4fa41)\" style=\"fill: #185c8b\"/>\n    <path d=\"M 62.399235 166.059429 \nL 69.774154 167.156567 \nL 74.326612 159.493797 \nL 66.979394 159.101296 \nz\n\" clip-path=\"url(#pdf43a4fa41)\" style=\"fill: #185b8a\"/>\n    <path d=\"M 130.798607 102.289637 \nL 138.487257 98.617327 \nL 142.702274 99.033817 \nL 135.049324 102.280786 \nz\n\" clip-path=\"url(#pdf43a4fa41)\" style=\"fill: #185b8a\"/>\n    <path d=\"M 50.407246 170.697303 \nL 57.757621 172.308809 \nL 62.399235 166.059429 \nL 55.080944 164.970715 \nz\n\" clip-path=\"url(#pdf43a4fa41)\" style=\"fill: #185b8a\"/>\n    <path d=\"M 118.858378 109.66146 \nL 126.470638 106.035797 \nL 130.798607 102.289637 \nL 123.202502 105.917745 \nz\n\" clip-path=\"url(#pdf43a4fa41)\" style=\"fill: #185b8a\"/>\n    <path d=\"M 74.326612 159.493797 \nL 81.735702 159.889604 \nL 86.217889 150.590996 \nL 78.828375 151.064319 \nz\n\" clip-path=\"url(#pdf43a4fa41)\" style=\"fill: #185b8a\"/>\n    <path d=\"M 86.217889 150.590996 \nL 93.675924 150.113283 \nL 98.11546 139.376225 \nL 90.666394 140.820495 \nz\n\" clip-path=\"url(#pdf43a4fa41)\" style=\"fill: #185c8b\"/>\n    <path d=\"M 102.537445 128.9548 \nL 110.063524 126.55132 \nL 114.472694 116.758749 \nL 106.946515 119.918328 \nz\n\" clip-path=\"url(#pdf43a4fa41)\" style=\"fill: #185c8b\"/>\n    <path d=\"M 150.44531 95.748628 \nL 158.280032 92.424537 \nL 162.261581 97.632047 \nL 154.493147 100.180072 \nz\n\" clip-path=\"url(#pdf43a4fa41)\" style=\"fill: #185b8a\"/>\n    <path d=\"M 170.116127 95.055778 \nL 178.058225 92.450792 \nL 181.723064 101.741829 \nL 173.878763 103.370747 \nz\n\" clip-path=\"url(#pdf43a4fa41)\" style=\"fill: #185b8a\"/>\n    <path d=\"M 69.774154 167.156567 \nL 77.206361 168.262227 \nL 81.735702 159.889604 \nL 74.326612 159.493797 \nz\n\" clip-path=\"url(#pdf43a4fa41)\" style=\"fill: #185b8a\"/>\n    <path d=\"M 57.757621 172.308809 \nL 65.161419 173.932027 \nL 69.774154 167.156567 \nL 62.399235 166.059429 \nz\n\" clip-path=\"url(#pdf43a4fa41)\" style=\"fill: #185b8a\"/>\n    <path d=\"M 81.735702 159.889604 \nL 89.20745 160.288757 \nL 93.675924 150.113283 \nL 86.217889 150.590996 \nz\n\" clip-path=\"url(#pdf43a4fa41)\" style=\"fill: #185c8a\"/>\n    <path d=\"M 98.11546 139.376225 \nL 105.640677 137.91719 \nL 110.063524 126.55132 \nL 102.537445 128.9548 \nz\n\" clip-path=\"url(#pdf43a4fa41)\" style=\"fill: #185c8b\"/>\n    <path d=\"M 114.472694 116.758749 \nL 122.087914 113.561789 \nL 126.470638 106.035797 \nL 118.858378 109.66146 \nz\n\" clip-path=\"url(#pdf43a4fa41)\" style=\"fill: #185c8a\"/>\n    <path d=\"M 138.487257 98.617327 \nL 146.270156 94.9 \nL 150.44531 95.748628 \nL 142.702274 99.033817 \nz\n\" clip-path=\"url(#pdf43a4fa41)\" style=\"fill: #185b8a\"/>\n    <path d=\"M 126.470638 106.035797 \nL 134.176164 102.365712 \nL 138.487257 98.617327 \nL 130.798607 102.289637 \nz\n\" clip-path=\"url(#pdf43a4fa41)\" style=\"fill: #185b8a\"/>\n    <path d=\"M 93.675924 150.113283 \nL 101.203438 149.63112 \nL 105.640677 137.91719 \nL 98.11546 139.376225 \nz\n\" clip-path=\"url(#pdf43a4fa41)\" style=\"fill: #185c8b\"/>\n    <path d=\"M 65.161419 173.932027 \nL 72.619223 175.567086 \nL 77.206361 168.262227 \nL 69.774154 167.156567 \nz\n\" clip-path=\"url(#pdf43a4fa41)\" style=\"fill: #185b8a\"/>\n    <path d=\"M 77.206361 168.262227 \nL 84.696525 169.37651 \nL 89.20745 160.288757 \nL 81.735702 159.889604 \nz\n\" clip-path=\"url(#pdf43a4fa41)\" style=\"fill: #185b8a\"/>\n    <path d=\"M 110.063524 126.55132 \nL 117.673522 124.121041 \nL 122.087914 113.561789 \nL 114.472694 116.758749 \nz\n\" clip-path=\"url(#pdf43a4fa41)\" style=\"fill: #185c8b\"/>\n    <path d=\"M 178.058225 92.450792 \nL 186.089345 89.816607 \nL 189.64727 100.096319 \nL 181.723064 101.741829 \nz\n\" clip-path=\"url(#pdf43a4fa41)\" style=\"fill: #185b8a\"/>\n    <path d=\"M 158.280032 92.424537 \nL 166.208078 89.060852 \nL 170.116127 95.055778 \nL 162.261581 97.632047 \nz\n\" clip-path=\"url(#pdf43a4fa41)\" style=\"fill: #185b8a\"/>\n    <path d=\"M 89.20745 160.288757 \nL 96.742653 160.691301 \nL 101.203438 149.63112 \nL 93.675924 150.113283 \nz\n\" clip-path=\"url(#pdf43a4fa41)\" style=\"fill: #185c8a\"/>\n    <path d=\"M 105.640677 137.91719 \nL 113.243219 136.443164 \nL 117.673522 124.121041 \nL 110.063524 126.55132 \nz\n\" clip-path=\"url(#pdf43a4fa41)\" style=\"fill: #185c8b\"/>\n    <path d=\"M 122.087914 113.561789 \nL 129.793766 110.326781 \nL 134.176164 102.365712 \nL 126.470638 106.035797 \nz\n\" clip-path=\"url(#pdf43a4fa41)\" style=\"fill: #185c8b\"/>\n    <path d=\"M 72.619223 175.567086 \nL 80.131627 177.214116 \nL 84.696525 169.37651 \nL 77.206361 168.262227 \nz\n\" clip-path=\"url(#pdf43a4fa41)\" style=\"fill: #185b8a\"/>\n    <path d=\"M 146.270156 94.9 \nL 154.149046 91.136826 \nL 158.280032 92.424537 \nL 150.44531 95.748628 \nz\n\" clip-path=\"url(#pdf43a4fa41)\" style=\"fill: #185b8a\"/>\n    <path d=\"M 84.696525 169.37651 \nL 92.245329 170.499517 \nL 96.742653 160.691301 \nL 89.20745 160.288757 \nz\n\" clip-path=\"url(#pdf43a4fa41)\" style=\"fill: #185b8a\"/>\n    <path d=\"M 101.203438 149.63112 \nL 108.801406 149.144444 \nL 113.243219 136.443164 \nL 105.640677 137.91719 \nz\n\" clip-path=\"url(#pdf43a4fa41)\" style=\"fill: #185c8b\"/>\n    <path d=\"M 134.176164 102.365712 \nL 141.976681 98.650383 \nL 146.270156 94.9 \nL 138.487257 98.617327 \nz\n\" clip-path=\"url(#pdf43a4fa41)\" style=\"fill: #185b8a\"/>\n    <path d=\"M 96.742653 160.691301 \nL 104.342123 161.097278 \nL 108.801406 149.144444 \nL 101.203438 149.63112 \nz\n\" clip-path=\"url(#pdf43a4fa41)\" style=\"fill: #185c8b\"/>\n    <path d=\"M 117.673522 124.121041 \nL 125.36885 121.663511 \nL 129.793766 110.326781 \nL 122.087914 113.561789 \nz\n\" clip-path=\"url(#pdf43a4fa41)\" style=\"fill: #185c8b\"/>\n    <path d=\"M 166.208078 89.060852 \nL 174.231126 85.656859 \nL 178.058225 92.450792 \nL 170.116127 95.055778 \nz\n\" clip-path=\"url(#pdf43a4fa41)\" style=\"fill: #185b8a\"/>\n    <path d=\"M 80.131627 177.214116 \nL 87.699233 178.873247 \nL 92.245329 170.499517 \nL 84.696525 169.37651 \nz\n\" clip-path=\"url(#pdf43a4fa41)\" style=\"fill: #185b8a\"/>\n    <path d=\"M 113.243219 136.443164 \nL 120.924284 134.953912 \nL 125.36885 121.663511 \nL 117.673522 124.121041 \nz\n\" clip-path=\"url(#pdf43a4fa41)\" style=\"fill: #185c8b\"/>\n    <path d=\"M 92.245329 170.499517 \nL 99.853462 171.631349 \nL 104.342123 161.097278 \nL 96.742653 160.691301 \nz\n\" clip-path=\"url(#pdf43a4fa41)\" style=\"fill: #185c8a\"/>\n    <path d=\"M 108.801406 149.144444 \nL 116.470822 148.653191 \nL 120.924284 134.953912 \nL 113.243219 136.443164 \nz\n\" clip-path=\"url(#pdf43a4fa41)\" style=\"fill: #185c8b\"/>\n    <path d=\"M 129.793766 110.326781 \nL 137.591878 107.053041 \nL 141.976681 98.650383 \nL 134.176164 102.365712 \nz\n\" clip-path=\"url(#pdf43a4fa41)\" style=\"fill: #185c8b\"/>\n    <path d=\"M 154.149046 91.136826 \nL 162.125715 87.32695 \nL 166.208078 89.060852 \nL 158.280032 92.424537 \nz\n\" clip-path=\"url(#pdf43a4fa41)\" style=\"fill: #185b8a\"/>\n    <path d=\"M 104.342123 161.097278 \nL 112.006687 161.506732 \nL 116.470822 148.653191 \nL 108.801406 149.144444 \nz\n\" clip-path=\"url(#pdf43a4fa41)\" style=\"fill: #185c8b\"/>\n    <path d=\"M 141.976681 98.650383 \nL 149.873957 94.888969 \nL 154.149046 91.136826 \nL 146.270156 94.9 \nz\n\" clip-path=\"url(#pdf43a4fa41)\" style=\"fill: #185b8a\"/>\n    <path d=\"M 87.699233 178.873247 \nL 95.322651 180.544616 \nL 99.853462 171.631349 \nL 92.245329 170.499517 \nz\n\" clip-path=\"url(#pdf43a4fa41)\" style=\"fill: #185b8a\"/>\n    <path d=\"M 125.36885 121.663511 \nL 133.150952 119.178269 \nL 137.591878 107.053041 \nL 129.793766 110.326781 \nz\n\" clip-path=\"url(#pdf43a4fa41)\" style=\"fill: #185c8b\"/>\n    <path d=\"M 99.853462 171.631349 \nL 107.521627 172.772112 \nL 112.006687 161.506732 \nL 104.342123 161.097278 \nz\n\" clip-path=\"url(#pdf43a4fa41)\" style=\"fill: #185c8a\"/>\n    <path d=\"M 174.231126 85.656859 \nL 182.350893 82.211831 \nL 186.089345 89.816607 \nL 178.058225 92.450792 \nz\n\" clip-path=\"url(#pdf43a4fa41)\" style=\"fill: #185b8a\"/>\n    <path d=\"M 120.924284 134.953912 \nL 128.685094 133.449199 \nL 133.150952 119.178269 \nL 125.36885 121.663511 \nz\n\" clip-path=\"url(#pdf43a4fa41)\" style=\"fill: #185c8b\"/>\n    <path d=\"M 116.470822 148.653191 \nL 124.2127 148.157298 \nL 128.685094 133.449199 \nL 120.924284 134.953912 \nz\n\" clip-path=\"url(#pdf43a4fa41)\" style=\"fill: #185c8b\"/>\n    <path d=\"M 112.006687 161.506732 \nL 119.737184 161.919709 \nL 124.2127 148.157298 \nL 116.470822 148.653191 \nz\n\" clip-path=\"url(#pdf43a4fa41)\" style=\"fill: #185c8b\"/>\n    <path d=\"M 95.322651 180.544616 \nL 103.002501 182.228356 \nL 107.521627 172.772112 \nL 99.853462 171.631349 \nz\n\" clip-path=\"url(#pdf43a4fa41)\" style=\"fill: #185b8a\"/>\n    <path d=\"M 137.591878 107.053041 \nL 145.483915 103.73987 \nL 149.873957 94.888969 \nL 141.976681 98.650383 \nz\n\" clip-path=\"url(#pdf43a4fa41)\" style=\"fill: #185c8b\"/>\n    <path d=\"M 162.125715 87.32695 \nL 170.201993 83.469498 \nL 174.231126 85.656859 \nL 166.208078 89.060852 \nz\n\" clip-path=\"url(#pdf43a4fa41)\" style=\"fill: #185b8a\"/>\n    <path d=\"M 107.521627 172.772112 \nL 115.250538 173.921913 \nL 119.737184 161.919709 \nL 112.006687 161.506732 \nz\n\" clip-path=\"url(#pdf43a4fa41)\" style=\"fill: #185c8a\"/>\n    <path d=\"M 149.873957 94.888969 \nL 157.869803 91.080606 \nL 162.125715 87.32695 \nL 154.149046 91.136826 \nz\n\" clip-path=\"url(#pdf43a4fa41)\" style=\"fill: #185b8a\"/>\n    <path d=\"M 133.150952 119.178269 \nL 141.021304 116.664845 \nL 145.483915 103.73987 \nL 137.591878 107.053041 \nz\n\" clip-path=\"url(#pdf43a4fa41)\" style=\"fill: #185c8b\"/>\n    <path d=\"M 128.685094 133.449199 \nL 136.526899 131.928783 \nL 141.021304 116.664845 \nL 133.150952 119.178269 \nz\n\" clip-path=\"url(#pdf43a4fa41)\" style=\"fill: #185c8b\"/>\n    <path d=\"M 103.002501 182.228356 \nL 110.739412 183.924606 \nL 115.250538 173.921913 \nL 107.521627 172.772112 \nz\n\" clip-path=\"url(#pdf43a4fa41)\" style=\"fill: #185b8a\"/>\n    <path d=\"M 124.2127 148.157298 \nL 132.028069 147.656696 \nL 136.526899 131.928783 \nL 128.685094 133.449199 \nz\n\" clip-path=\"url(#pdf43a4fa41)\" style=\"fill: #185c8b\"/>\n    <path d=\"M 119.737184 161.919709 \nL 127.534469 162.336254 \nL 132.028069 147.656696 \nL 124.2127 148.157298 \nz\n\" clip-path=\"url(#pdf43a4fa41)\" style=\"fill: #185c8b\"/>\n    <path d=\"M 115.250538 173.921913 \nL 123.04092 175.080858 \nL 127.534469 162.336254 \nL 119.737184 161.919709 \nz\n\" clip-path=\"url(#pdf43a4fa41)\" style=\"fill: #185c8b\"/>\n    <path d=\"M 145.483915 103.73987 \nL 153.471586 100.386551 \nL 157.869803 91.080606 \nL 149.873957 94.888969 \nz\n\" clip-path=\"url(#pdf43a4fa41)\" style=\"fill: #185c8b\"/>\n    <path d=\"M 170.201993 83.469498 \nL 178.37976 79.563572 \nL 182.350893 82.211831 \nL 174.231126 85.656859 \nz\n\" clip-path=\"url(#pdf43a4fa41)\" style=\"fill: #185b8a\"/>\n    <path d=\"M 110.739412 183.924606 \nL 118.534022 185.633507 \nL 123.04092 175.080858 \nL 115.250538 173.921913 \nz\n\" clip-path=\"url(#pdf43a4fa41)\" style=\"fill: #185b8a\"/>\n    <path d=\"M 157.869803 91.080606 \nL 165.966076 87.224411 \nL 170.201993 83.469498 \nL 162.125715 87.32695 \nz\n\" clip-path=\"url(#pdf43a4fa41)\" style=\"fill: #185b8a\"/>\n    <path d=\"M 141.021304 116.664845 \nL 148.981414 114.122756 \nL 153.471586 100.386551 \nL 145.483915 103.73987 \nz\n\" clip-path=\"url(#pdf43a4fa41)\" style=\"fill: #185c8b\"/>\n    <path d=\"M 127.534469 162.336254 \nL 135.39941 162.756413 \nL 139.917983 147.15132 \nL 132.028069 147.656696 \nz\n\" clip-path=\"url(#pdf43a4fa41)\" style=\"fill: #185c8b\"/>\n    <path d=\"M 132.028069 147.656696 \nL 139.917983 147.15132 \nL 144.450973 130.392416 \nL 136.526899 131.928783 \nz\n\" clip-path=\"url(#pdf43a4fa41)\" style=\"fill: #185c8b\"/>\n    <path d=\"M 136.526899 131.928783 \nL 144.450973 130.392416 \nL 148.981414 114.122756 \nL 141.021304 116.664845 \nz\n\" clip-path=\"url(#pdf43a4fa41)\" style=\"fill: #185c8b\"/>\n    <path d=\"M 123.04092 175.080858 \nL 130.893507 176.249057 \nL 135.39941 162.756413 \nL 127.534469 162.336254 \nz\n\" clip-path=\"url(#pdf43a4fa41)\" style=\"fill: #185c8b\"/>\n    <path d=\"M 118.534022 185.633507 \nL 126.386979 187.3552 \nL 130.893507 176.249057 \nL 123.04092 175.080858 \nz\n\" clip-path=\"url(#pdf43a4fa41)\" style=\"fill: #185c8a\"/>\n    <path d=\"M 153.471586 100.386551 \nL 161.556639 96.99235 \nL 165.966076 87.224411 \nL 157.869803 91.080606 \nz\n\" clip-path=\"url(#pdf43a4fa41)\" style=\"fill: #185c8b\"/>\n    <path d=\"M 135.39941 162.756413 \nL 143.332893 163.180233 \nL 147.883512 146.641101 \nL 139.917983 147.15132 \nz\n\" clip-path=\"url(#pdf43a4fa41)\" style=\"fill: #185c8b\"/>\n    <path d=\"M 130.893507 176.249057 \nL 138.809049 177.426621 \nL 143.332893 163.180233 \nL 135.39941 162.756413 \nz\n\" clip-path=\"url(#pdf43a4fa41)\" style=\"fill: #185c8b\"/>\n    <path d=\"M 139.917983 147.15132 \nL 147.883512 146.641101 \nL 152.458616 128.839845 \nL 144.450973 130.392416 \nz\n\" clip-path=\"url(#pdf43a4fa41)\" style=\"fill: #185c8b\"/>\n    <path d=\"M 148.981414 114.122756 \nL 157.032829 111.551509 \nL 161.556639 96.99235 \nL 153.471586 100.386551 \nz\n\" clip-path=\"url(#pdf43a4fa41)\" style=\"fill: #185c8b\"/>\n    <path d=\"M 165.966076 87.224411 \nL 174.16468 83.319477 \nL 178.37976 79.563572 \nL 170.201993 83.469498 \nz\n\" clip-path=\"url(#pdf43a4fa41)\" style=\"fill: #185b8a\"/>\n    <path d=\"M 144.450973 130.392416 \nL 152.458616 128.839845 \nL 157.032829 111.551509 \nL 148.981414 114.122756 \nz\n\" clip-path=\"url(#pdf43a4fa41)\" style=\"fill: #185c8b\"/>\n    <path d=\"M 126.386979 187.3552 \nL 134.298941 189.089829 \nL 138.809049 177.426621 \nL 130.893507 176.249057 \nz\n\" clip-path=\"url(#pdf43a4fa41)\" style=\"fill: #185c8a\"/>\n    <path d=\"M 138.809049 177.426621 \nL 146.788306 178.613664 \nL 151.335816 163.607763 \nL 143.332893 163.180233 \nz\n\" clip-path=\"url(#pdf43a4fa41)\" style=\"fill: #185c8b\"/>\n    <path d=\"M 143.332893 163.180233 \nL 151.335816 163.607763 \nL 155.92575 146.125968 \nL 147.883512 146.641101 \nz\n\" clip-path=\"url(#pdf43a4fa41)\" style=\"fill: #185c8b\"/>\n    <path d=\"M 161.556639 96.99235 \nL 169.740866 93.556514 \nL 174.16468 83.319477 \nL 165.966076 87.224411 \nz\n\" clip-path=\"url(#pdf43a4fa41)\" style=\"fill: #185c8b\"/>\n    <path d=\"M 147.883512 146.641101 \nL 155.92575 146.125968 \nL 160.551159 127.270814 \nL 152.458616 128.839845 \nz\n\" clip-path=\"url(#pdf43a4fa41)\" style=\"fill: #185c8b\"/>\n    <path d=\"M 134.298941 189.089829 \nL 142.270576 190.83754 \nL 146.788306 178.613664 \nL 138.809049 177.426621 \nz\n\" clip-path=\"url(#pdf43a4fa41)\" style=\"fill: #185c8a\"/>\n    <path d=\"M 152.458616 128.839845 \nL 160.551159 127.270814 \nL 165.177127 108.950599 \nL 157.032829 111.551509 \nz\n\" clip-path=\"url(#pdf43a4fa41)\" style=\"fill: #185c8b\"/>\n    <path d=\"M 157.032829 111.551509 \nL 165.177127 108.950599 \nL 169.740866 93.556514 \nL 161.556639 96.99235 \nz\n\" clip-path=\"url(#pdf43a4fa41)\" style=\"fill: #185c8b\"/>\n   </g>\n  </g>\n </g>\n <defs>\n  <clipPath id=\"pdf43a4fa41\">\n   <rect x=\"7.2\" y=\"7.2\" width=\"217.44\" height=\"217.44\"/>\n  </clipPath>\n </defs>\n</svg>\n",
      "text/plain": [
       "<Figure size 432x288 with 1 Axes>"
      ]
     },
     "metadata": {
      "needs_background": "light"
     },
     "output_type": "display_data"
    },
    {
     "name": "stdout",
     "output_type": "stream",
     "text": [
      "[-2.         -1.73333333 -1.46666667 -1.2        -0.93333333 -0.66666667\n",
      " -0.4        -0.13333333  0.13333333  0.4         0.66666667  0.93333333\n",
      "  1.2         1.46666667  1.73333333]\n"
     ]
    },
    {
     "data": {
      "image/svg+xml": "<?xml version=\"1.0\" encoding=\"utf-8\" standalone=\"no\"?>\n<!DOCTYPE svg PUBLIC \"-//W3C//DTD SVG 1.1//EN\"\n  \"http://www.w3.org/Graphics/SVG/1.1/DTD/svg11.dtd\">\n<svg xmlns:xlink=\"http://www.w3.org/1999/xlink\" width=\"266.21341pt\" height=\"241.762917pt\" viewBox=\"0 0 266.21341 241.762917\" xmlns=\"http://www.w3.org/2000/svg\" version=\"1.1\">\n <metadata>\n  <rdf:RDF xmlns:dc=\"http://purl.org/dc/elements/1.1/\" xmlns:cc=\"http://creativecommons.org/ns#\" xmlns:rdf=\"http://www.w3.org/1999/02/22-rdf-syntax-ns#\">\n   <cc:Work>\n    <dc:type rdf:resource=\"http://purl.org/dc/dcmitype/StillImage\"/>\n    <dc:date>2022-09-28T16:57:49.369301</dc:date>\n    <dc:format>image/svg+xml</dc:format>\n    <dc:creator>\n     <cc:Agent>\n      <dc:title>Matplotlib v3.5.2, https://matplotlib.org/</dc:title>\n     </cc:Agent>\n    </dc:creator>\n   </cc:Work>\n  </rdf:RDF>\n </metadata>\n <defs>\n  <style type=\"text/css\">*{stroke-linejoin: round; stroke-linecap: butt}</style>\n </defs>\n <g id=\"figure_1\">\n  <g id=\"patch_1\">\n   <path d=\"M 0 241.762917 \nL 266.21341 241.762917 \nL 266.21341 0 \nL 0 0 \nL 0 241.762917 \nz\n\" style=\"fill: none\"/>\n  </g>\n  <g id=\"patch_2\">\n   <path d=\"M 7.2 224.64 \nL 224.64 224.64 \nL 224.64 7.2 \nL 7.2 7.2 \nz\n\" style=\"fill: #ffffff\"/>\n  </g>\n  <g id=\"pane3d_1\">\n   <g id=\"patch_3\">\n    <path d=\"M 23.61822 171.026264 \nL 95.424009 110.837228 \nL 94.42584 24.033878 \nL 19.183773 78.942111 \n\" style=\"fill: #f2f2f2; opacity: 0.5; stroke: #f2f2f2; stroke-linejoin: miter\"/>\n   </g>\n  </g>\n  <g id=\"pane3d_2\">\n   <g id=\"patch_4\">\n    <path d=\"M 95.424009 110.837228 \nL 210.64668 144.32791 \nL 214.758571 54.534718 \nL 94.42584 24.033878 \n\" style=\"fill: #e6e6e6; opacity: 0.5; stroke: #e6e6e6; stroke-linejoin: miter\"/>\n   </g>\n  </g>\n  <g id=\"pane3d_3\">\n   <g id=\"patch_5\">\n    <path d=\"M 23.61822 171.026264 \nL 145.759879 210.91773 \nL 210.64668 144.32791 \nL 95.424009 110.837228 \n\" style=\"fill: #ececec; opacity: 0.5; stroke: #ececec; stroke-linejoin: miter\"/>\n   </g>\n  </g>\n  <g id=\"axis3d_1\">\n   <g id=\"line2d_1\">\n    <path d=\"M 23.61822 171.026264 \nL 145.759879 210.91773 \n\" style=\"fill: none; stroke: #000000; stroke-width: 0.8; stroke-linecap: square\"/>\n   </g>\n   <g id=\"text_1\">\n    <!-- A -->\n    <g transform=\"translate(63.33693 228.543264)scale(0.1 -0.1)\">\n     <defs>\n      <path id=\"DejaVuSans-41\" d=\"M 2188 4044 \nL 1331 1722 \nL 3047 1722 \nL 2188 4044 \nz\nM 1831 4666 \nL 2547 4666 \nL 4325 0 \nL 3669 0 \nL 3244 1197 \nL 1141 1197 \nL 716 0 \nL 50 0 \nL 1831 4666 \nz\n\" transform=\"scale(0.015625)\"/>\n     </defs>\n     <use xlink:href=\"#DejaVuSans-41\"/>\n    </g>\n   </g>\n   <g id=\"Line3DCollection_1\">\n    <path d=\"M 31.015759 173.442301 \nL 102.431499 112.874029 \nL 101.729612 25.885171 \n\" style=\"fill: none; stroke: #b0b0b0; stroke-width: 0.8\"/>\n    <path d=\"M 48.108016 179.024632 \nL 118.608181 117.575952 \nL 118.597414 30.160667 \n\" style=\"fill: none; stroke: #b0b0b0; stroke-width: 0.8\"/>\n    <path d=\"M 65.460447 184.691936 \nL 135.010639 122.343499 \nL 135.710842 34.498423 \n\" style=\"fill: none; stroke: #b0b0b0; stroke-width: 0.8\"/>\n    <path d=\"M 83.079037 190.446167 \nL 151.643632 127.178053 \nL 153.075303 38.899807 \n\" style=\"fill: none; stroke: #b0b0b0; stroke-width: 0.8\"/>\n    <path d=\"M 100.969959 196.289342 \nL 168.512056 132.081038 \nL 170.696359 43.366231 \n\" style=\"fill: none; stroke: #b0b0b0; stroke-width: 0.8\"/>\n    <path d=\"M 119.139575 202.223539 \nL 185.620943 137.053916 \nL 188.579741 47.899147 \n\" style=\"fill: none; stroke: #b0b0b0; stroke-width: 0.8\"/>\n    <path d=\"M 137.594449 208.250901 \nL 202.975474 142.098193 \nL 206.73135 52.500051 \n\" style=\"fill: none; stroke: #b0b0b0; stroke-width: 0.8\"/>\n   </g>\n   <g id=\"xtick_1\">\n    <g id=\"line2d_2\">\n     <path d=\"M 31.637644 172.914876 \nL 29.769322 174.499414 \n\" style=\"fill: none; stroke: #000000; stroke-width: 0.8; stroke-linecap: square\"/>\n    </g>\n    <g id=\"text_2\">\n     <!-- −3 -->\n     <g transform=\"translate(16.109346 196.764533)scale(0.1 -0.1)\">\n      <defs>\n       <path id=\"DejaVuSans-2212\" d=\"M 678 2272 \nL 4684 2272 \nL 4684 1741 \nL 678 1741 \nL 678 2272 \nz\n\" transform=\"scale(0.015625)\"/>\n       <path id=\"DejaVuSans-33\" d=\"M 2597 2516 \nQ 3050 2419 3304 2112 \nQ 3559 1806 3559 1356 \nQ 3559 666 3084 287 \nQ 2609 -91 1734 -91 \nQ 1441 -91 1130 -33 \nQ 819 25 488 141 \nL 488 750 \nQ 750 597 1062 519 \nQ 1375 441 1716 441 \nQ 2309 441 2620 675 \nQ 2931 909 2931 1356 \nQ 2931 1769 2642 2001 \nQ 2353 2234 1838 2234 \nL 1294 2234 \nL 1294 2753 \nL 1863 2753 \nQ 2328 2753 2575 2939 \nQ 2822 3125 2822 3475 \nQ 2822 3834 2567 4026 \nQ 2313 4219 1838 4219 \nQ 1578 4219 1281 4162 \nQ 984 4106 628 3988 \nL 628 4550 \nQ 988 4650 1302 4700 \nQ 1616 4750 1894 4750 \nQ 2613 4750 3031 4423 \nQ 3450 4097 3450 3541 \nQ 3450 3153 3228 2886 \nQ 3006 2619 2597 2516 \nz\n\" transform=\"scale(0.015625)\"/>\n      </defs>\n      <use xlink:href=\"#DejaVuSans-2212\"/>\n      <use xlink:href=\"#DejaVuSans-33\" x=\"83.789062\"/>\n     </g>\n    </g>\n   </g>\n   <g id=\"xtick_2\">\n    <g id=\"line2d_3\">\n     <path d=\"M 48.722304 178.489212 \nL 46.876784 180.097787 \n\" style=\"fill: none; stroke: #000000; stroke-width: 0.8; stroke-linecap: square\"/>\n    </g>\n    <g id=\"text_3\">\n     <!-- −2 -->\n     <g transform=\"translate(33.222838 202.491787)scale(0.1 -0.1)\">\n      <defs>\n       <path id=\"DejaVuSans-32\" d=\"M 1228 531 \nL 3431 531 \nL 3431 0 \nL 469 0 \nL 469 531 \nQ 828 903 1448 1529 \nQ 2069 2156 2228 2338 \nQ 2531 2678 2651 2914 \nQ 2772 3150 2772 3378 \nQ 2772 3750 2511 3984 \nQ 2250 4219 1831 4219 \nQ 1534 4219 1204 4116 \nQ 875 4013 500 3803 \nL 500 4441 \nQ 881 4594 1212 4672 \nQ 1544 4750 1819 4750 \nQ 2544 4750 2975 4387 \nQ 3406 4025 3406 3419 \nQ 3406 3131 3298 2873 \nQ 3191 2616 2906 2266 \nQ 2828 2175 2409 1742 \nQ 1991 1309 1228 531 \nz\n\" transform=\"scale(0.015625)\"/>\n      </defs>\n      <use xlink:href=\"#DejaVuSans-2212\"/>\n      <use xlink:href=\"#DejaVuSans-32\" x=\"83.789062\"/>\n     </g>\n    </g>\n   </g>\n   <g id=\"xtick_3\">\n    <g id=\"line2d_4\">\n     <path d=\"M 66.066835 184.148338 \nL 64.245029 185.7815 \n\" style=\"fill: none; stroke: #000000; stroke-width: 0.8; stroke-linecap: square\"/>\n    </g>\n    <g id=\"text_4\">\n     <!-- −1 -->\n     <g transform=\"translate(50.598032 208.306622)scale(0.1 -0.1)\">\n      <defs>\n       <path id=\"DejaVuSans-31\" d=\"M 794 531 \nL 1825 531 \nL 1825 4091 \nL 703 3866 \nL 703 4441 \nL 1819 4666 \nL 2450 4666 \nL 2450 531 \nL 3481 531 \nL 3481 0 \nL 794 0 \nL 794 531 \nz\n\" transform=\"scale(0.015625)\"/>\n      </defs>\n      <use xlink:href=\"#DejaVuSans-2212\"/>\n      <use xlink:href=\"#DejaVuSans-31\" x=\"83.789062\"/>\n     </g>\n    </g>\n   </g>\n   <g id=\"xtick_4\">\n    <g id=\"line2d_5\">\n     <path d=\"M 83.67721 189.894202 \nL 81.880066 191.55252 \n\" style=\"fill: none; stroke: #000000; stroke-width: 0.8; stroke-linecap: square\"/>\n    </g>\n    <g id=\"text_5\">\n     <!-- 0 -->\n     <g transform=\"translate(72.43082 214.211064)scale(0.1 -0.1)\">\n      <defs>\n       <path id=\"DejaVuSans-30\" d=\"M 2034 4250 \nQ 1547 4250 1301 3770 \nQ 1056 3291 1056 2328 \nQ 1056 1369 1301 889 \nQ 1547 409 2034 409 \nQ 2525 409 2770 889 \nQ 3016 1369 3016 2328 \nQ 3016 3291 2770 3770 \nQ 2525 4250 2034 4250 \nz\nM 2034 4750 \nQ 2819 4750 3233 4129 \nQ 3647 3509 3647 2328 \nQ 3647 1150 3233 529 \nQ 2819 -91 2034 -91 \nQ 1250 -91 836 529 \nQ 422 1150 422 2328 \nQ 422 3509 836 4129 \nQ 1250 4750 2034 4750 \nz\n\" transform=\"scale(0.015625)\"/>\n      </defs>\n      <use xlink:href=\"#DejaVuSans-30\"/>\n     </g>\n    </g>\n   </g>\n   <g id=\"xtick_5\">\n    <g id=\"line2d_6\">\n     <path d=\"M 101.559589 195.728816 \nL 99.788091 197.412875 \n\" style=\"fill: none; stroke: #000000; stroke-width: 0.8; stroke-linecap: square\"/>\n    </g>\n    <g id=\"text_6\">\n     <!-- 1 -->\n     <g transform=\"translate(90.347752 220.2072)scale(0.1 -0.1)\">\n      <use xlink:href=\"#DejaVuSans-31\"/>\n     </g>\n    </g>\n   </g>\n   <g id=\"xtick_6\">\n    <g id=\"line2d_7\">\n     <path d=\"M 119.720323 201.65425 \nL 117.975491 203.364655 \n\" style=\"fill: none; stroke: #000000; stroke-width: 0.8; stroke-linecap: square\"/>\n    </g>\n    <g id=\"text_7\">\n     <!-- 2 -->\n     <g transform=\"translate(108.545104 226.297181)scale(0.1 -0.1)\">\n      <use xlink:href=\"#DejaVuSans-32\"/>\n     </g>\n    </g>\n   </g>\n   <g id=\"xtick_7\">\n    <g id=\"line2d_8\">\n     <path d=\"M 138.165962 207.672643 \nL 136.448856 209.410015 \n\" style=\"fill: none; stroke: #000000; stroke-width: 0.8; stroke-linecap: square\"/>\n    </g>\n    <g id=\"text_8\">\n     <!-- 3 -->\n     <g transform=\"translate(127.029511 232.48323)scale(0.1 -0.1)\">\n      <use xlink:href=\"#DejaVuSans-33\"/>\n     </g>\n    </g>\n   </g>\n  </g>\n  <g id=\"axis3d_2\">\n   <g id=\"line2d_9\">\n    <path d=\"M 210.64668 144.32791 \nL 145.759879 210.91773 \n\" style=\"fill: none; stroke: #000000; stroke-width: 0.8; stroke-linecap: square\"/>\n   </g>\n   <g id=\"text_9\">\n    <!-- B -->\n    <g transform=\"translate(203.202988 206.910788)scale(0.1 -0.1)\">\n     <defs>\n      <path id=\"DejaVuSans-42\" d=\"M 1259 2228 \nL 1259 519 \nL 2272 519 \nQ 2781 519 3026 730 \nQ 3272 941 3272 1375 \nQ 3272 1813 3026 2020 \nQ 2781 2228 2272 2228 \nL 1259 2228 \nz\nM 1259 4147 \nL 1259 2741 \nL 2194 2741 \nQ 2656 2741 2882 2914 \nQ 3109 3088 3109 3444 \nQ 3109 3797 2882 3972 \nQ 2656 4147 2194 4147 \nL 1259 4147 \nz\nM 628 4666 \nL 2241 4666 \nQ 2963 4666 3353 4366 \nQ 3744 4066 3744 3513 \nQ 3744 3084 3544 2831 \nQ 3344 2578 2956 2516 \nQ 3422 2416 3680 2098 \nQ 3938 1781 3938 1306 \nQ 3938 681 3513 340 \nQ 3088 0 2303 0 \nL 628 0 \nL 628 4666 \nz\n\" transform=\"scale(0.015625)\"/>\n     </defs>\n     <use xlink:href=\"#DejaVuSans-42\"/>\n    </g>\n   </g>\n   <g id=\"Line3DCollection_2\">\n    <path d=\"M 24.386948 75.145071 \nL 28.566245 166.878731 \nL 150.249543 206.31023 \n\" style=\"fill: none; stroke: #b0b0b0; stroke-width: 0.8\"/>\n    <path d=\"M 36.052777 66.63188 \nL 39.669448 157.571807 \nL 160.314244 195.981371 \n\" style=\"fill: none; stroke: #b0b0b0; stroke-width: 0.8\"/>\n    <path d=\"M 47.412681 58.34194 \nL 50.494037 148.498421 \nL 170.113154 185.925279 \n\" style=\"fill: none; stroke: #b0b0b0; stroke-width: 0.8\"/>\n    <path d=\"M 58.478537 50.266582 \nL 61.050371 139.649893 \nL 179.656664 176.131289 \n\" style=\"fill: none; stroke: #b0b0b0; stroke-width: 0.8\"/>\n    <path d=\"M 69.261618 42.397581 \nL 71.348298 131.017966 \nL 188.954633 166.589287 \n\" style=\"fill: none; stroke: #b0b0b0; stroke-width: 0.8\"/>\n    <path d=\"M 79.772624 34.727127 \nL 81.397192 122.594784 \nL 198.016415 157.289669 \n\" style=\"fill: none; stroke: #b0b0b0; stroke-width: 0.8\"/>\n    <path d=\"M 90.021727 27.247799 \nL 91.20598 114.372864 \nL 206.850896 148.223317 \n\" style=\"fill: none; stroke: #b0b0b0; stroke-width: 0.8\"/>\n   </g>\n   <g id=\"xtick_8\">\n    <g id=\"line2d_10\">\n     <path d=\"M 149.224115 205.977939 \nL 152.303053 206.97567 \n\" style=\"fill: none; stroke: #000000; stroke-width: 0.8; stroke-linecap: square\"/>\n    </g>\n    <g id=\"text_10\">\n     <!-- −3 -->\n     <g transform=\"translate(155.76081 227.333759)scale(0.1 -0.1)\">\n      <use xlink:href=\"#DejaVuSans-2212\"/>\n      <use xlink:href=\"#DejaVuSans-33\" x=\"83.789062\"/>\n     </g>\n    </g>\n   </g>\n   <g id=\"xtick_9\">\n    <g id=\"line2d_11\">\n     <path d=\"M 159.298255 195.657912 \nL 162.348812 196.629115 \n\" style=\"fill: none; stroke: #000000; stroke-width: 0.8; stroke-linecap: square\"/>\n    </g>\n    <g id=\"text_11\">\n     <!-- −2 -->\n     <g transform=\"translate(165.660288 216.817664)scale(0.1 -0.1)\">\n      <use xlink:href=\"#DejaVuSans-2212\"/>\n      <use xlink:href=\"#DejaVuSans-32\" x=\"83.789062\"/>\n     </g>\n    </g>\n   </g>\n   <g id=\"xtick_10\">\n    <g id=\"line2d_12\">\n     <path d=\"M 169.106468 185.610304 \nL 172.129059 186.556023 \n\" style=\"fill: none; stroke: #000000; stroke-width: 0.8; stroke-linecap: square\"/>\n    </g>\n    <g id=\"text_12\">\n     <!-- −1 -->\n     <g transform=\"translate(175.298151 206.579478)scale(0.1 -0.1)\">\n      <use xlink:href=\"#DejaVuSans-2212\"/>\n      <use xlink:href=\"#DejaVuSans-31\" x=\"83.789062\"/>\n     </g>\n    </g>\n   </g>\n   <g id=\"xtick_11\">\n    <g id=\"line2d_13\">\n     <path d=\"M 178.659145 175.824468 \nL 181.654182 176.745694 \n\" style=\"fill: none; stroke: #000000; stroke-width: 0.8; stroke-linecap: square\"/>\n    </g>\n    <g id=\"text_13\">\n     <!-- 0 -->\n     <g transform=\"translate(188.87448 196.608328)scale(0.1 -0.1)\">\n      <use xlink:href=\"#DejaVuSans-30\"/>\n     </g>\n    </g>\n   </g>\n   <g id=\"xtick_12\">\n    <g id=\"line2d_14\">\n     <path d=\"M 187.966144 166.290307 \nL 190.934035 167.187978 \n\" style=\"fill: none; stroke: #000000; stroke-width: 0.8; stroke-linecap: square\"/>\n    </g>\n    <g id=\"text_14\">\n     <!-- 1 -->\n     <g transform=\"translate(198.019295 186.893902)scale(0.1 -0.1)\">\n      <use xlink:href=\"#DejaVuSans-31\"/>\n     </g>\n    </g>\n   </g>\n   <g id=\"xtick_13\">\n    <g id=\"line2d_15\">\n     <path d=\"M 197.036822 156.998235 \nL 199.977972 157.873244 \n\" style=\"fill: none; stroke: #000000; stroke-width: 0.8; stroke-linecap: square\"/>\n    </g>\n    <g id=\"text_15\">\n     <!-- 2 -->\n     <g transform=\"translate(206.931655 177.42641)scale(0.1 -0.1)\">\n      <use xlink:href=\"#DejaVuSans-32\"/>\n     </g>\n    </g>\n   </g>\n   <g id=\"xtick_14\">\n    <g id=\"line2d_16\">\n     <path d=\"M 205.880068 147.939146 \nL 208.794875 148.79234 \n\" style=\"fill: none; stroke: #000000; stroke-width: 0.8; stroke-linecap: square\"/>\n    </g>\n    <g id=\"text_16\">\n     <!-- 3 -->\n     <g transform=\"translate(215.62031 168.196556)scale(0.1 -0.1)\">\n      <use xlink:href=\"#DejaVuSans-33\"/>\n     </g>\n    </g>\n   </g>\n  </g>\n  <g id=\"axis3d_3\">\n   <g id=\"line2d_17\">\n    <path d=\"M 210.64668 144.32791 \nL 214.758571 54.534718 \n\" style=\"fill: none; stroke: #000000; stroke-width: 0.8; stroke-linecap: square\"/>\n   </g>\n   <g id=\"text_17\">\n    <!-- P(A) * P(B) -->\n    <g transform=\"translate(254.524068 121.473952)rotate(-87.378092)scale(0.1 -0.1)\">\n     <defs>\n      <path id=\"DejaVuSans-50\" d=\"M 1259 4147 \nL 1259 2394 \nL 2053 2394 \nQ 2494 2394 2734 2622 \nQ 2975 2850 2975 3272 \nQ 2975 3691 2734 3919 \nQ 2494 4147 2053 4147 \nL 1259 4147 \nz\nM 628 4666 \nL 2053 4666 \nQ 2838 4666 3239 4311 \nQ 3641 3956 3641 3272 \nQ 3641 2581 3239 2228 \nQ 2838 1875 2053 1875 \nL 1259 1875 \nL 1259 0 \nL 628 0 \nL 628 4666 \nz\n\" transform=\"scale(0.015625)\"/>\n      <path id=\"DejaVuSans-28\" d=\"M 1984 4856 \nQ 1566 4138 1362 3434 \nQ 1159 2731 1159 2009 \nQ 1159 1288 1364 580 \nQ 1569 -128 1984 -844 \nL 1484 -844 \nQ 1016 -109 783 600 \nQ 550 1309 550 2009 \nQ 550 2706 781 3412 \nQ 1013 4119 1484 4856 \nL 1984 4856 \nz\n\" transform=\"scale(0.015625)\"/>\n      <path id=\"DejaVuSans-29\" d=\"M 513 4856 \nL 1013 4856 \nQ 1481 4119 1714 3412 \nQ 1947 2706 1947 2009 \nQ 1947 1309 1714 600 \nQ 1481 -109 1013 -844 \nL 513 -844 \nQ 928 -128 1133 580 \nQ 1338 1288 1338 2009 \nQ 1338 2731 1133 3434 \nQ 928 4138 513 4856 \nz\n\" transform=\"scale(0.015625)\"/>\n      <path id=\"DejaVuSans-20\" transform=\"scale(0.015625)\"/>\n      <path id=\"DejaVuSans-2a\" d=\"M 3009 3897 \nL 1888 3291 \nL 3009 2681 \nL 2828 2375 \nL 1778 3009 \nL 1778 1831 \nL 1422 1831 \nL 1422 3009 \nL 372 2375 \nL 191 2681 \nL 1313 3291 \nL 191 3897 \nL 372 4206 \nL 1422 3572 \nL 1422 4750 \nL 1778 4750 \nL 1778 3572 \nL 2828 4206 \nL 3009 3897 \nz\n\" transform=\"scale(0.015625)\"/>\n     </defs>\n     <use xlink:href=\"#DejaVuSans-50\"/>\n     <use xlink:href=\"#DejaVuSans-28\" x=\"60.302734\"/>\n     <use xlink:href=\"#DejaVuSans-41\" x=\"99.316406\"/>\n     <use xlink:href=\"#DejaVuSans-29\" x=\"167.724609\"/>\n     <use xlink:href=\"#DejaVuSans-20\" x=\"206.738281\"/>\n     <use xlink:href=\"#DejaVuSans-2a\" x=\"238.525391\"/>\n     <use xlink:href=\"#DejaVuSans-20\" x=\"288.525391\"/>\n     <use xlink:href=\"#DejaVuSans-50\" x=\"320.3125\"/>\n     <use xlink:href=\"#DejaVuSans-28\" x=\"380.615234\"/>\n     <use xlink:href=\"#DejaVuSans-42\" x=\"419.628906\"/>\n     <use xlink:href=\"#DejaVuSans-29\" x=\"488.232422\"/>\n    </g>\n   </g>\n   <g id=\"Line3DCollection_3\">\n    <path d=\"M 210.958936 137.509029 \nL 95.34806 104.232525 \nL 23.281993 164.044296 \n\" style=\"fill: none; stroke: #b0b0b0; stroke-width: 0.8\"/>\n    <path d=\"M 211.802193 119.094451 \nL 95.14308 86.406926 \nL 22.373573 145.180364 \n\" style=\"fill: none; stroke: #b0b0b0; stroke-width: 0.8\"/>\n    <path d=\"M 212.661035 100.339555 \nL 94.934494 68.267759 \nL 21.447718 125.954401 \n\" style=\"fill: none; stroke: #b0b0b0; stroke-width: 0.8\"/>\n    <path d=\"M 213.535896 81.23482 \nL 94.722206 49.806678 \nL 20.503923 106.355884 \n\" style=\"fill: none; stroke: #b0b0b0; stroke-width: 0.8\"/>\n    <path d=\"M 214.42723 61.770365 \nL 94.506117 31.015036 \nL 19.541661 86.373878 \n\" style=\"fill: none; stroke: #b0b0b0; stroke-width: 0.8\"/>\n   </g>\n   <g id=\"xtick_15\">\n    <g id=\"line2d_18\">\n     <path d=\"M 209.988488 137.229703 \nL 212.902149 138.068348 \n\" style=\"fill: none; stroke: #000000; stroke-width: 0.8; stroke-linecap: square\"/>\n    </g>\n    <g id=\"text_18\">\n     <!-- 0.005 -->\n     <g transform=\"translate(214.941936 142.520482)scale(0.1 -0.1)\">\n      <defs>\n       <path id=\"DejaVuSans-2e\" d=\"M 684 794 \nL 1344 794 \nL 1344 0 \nL 684 0 \nL 684 794 \nz\n\" transform=\"scale(0.015625)\"/>\n       <path id=\"DejaVuSans-35\" d=\"M 691 4666 \nL 3169 4666 \nL 3169 4134 \nL 1269 4134 \nL 1269 2991 \nQ 1406 3038 1543 3061 \nQ 1681 3084 1819 3084 \nQ 2600 3084 3056 2656 \nQ 3513 2228 3513 1497 \nQ 3513 744 3044 326 \nQ 2575 -91 1722 -91 \nQ 1428 -91 1123 -41 \nQ 819 9 494 109 \nL 494 744 \nQ 775 591 1075 516 \nQ 1375 441 1709 441 \nQ 2250 441 2565 725 \nQ 2881 1009 2881 1497 \nQ 2881 1984 2565 2268 \nQ 2250 2553 1709 2553 \nQ 1456 2553 1204 2497 \nQ 953 2441 691 2322 \nL 691 4666 \nz\n\" transform=\"scale(0.015625)\"/>\n      </defs>\n      <use xlink:href=\"#DejaVuSans-30\"/>\n      <use xlink:href=\"#DejaVuSans-2e\" x=\"63.623047\"/>\n      <use xlink:href=\"#DejaVuSans-30\" x=\"95.410156\"/>\n      <use xlink:href=\"#DejaVuSans-30\" x=\"159.033203\"/>\n      <use xlink:href=\"#DejaVuSans-35\" x=\"222.65625\"/>\n     </g>\n    </g>\n   </g>\n   <g id=\"xtick_16\">\n    <g id=\"line2d_19\">\n     <path d=\"M 210.822526 118.819951 \nL 213.763889 119.644112 \n\" style=\"fill: none; stroke: #000000; stroke-width: 0.8; stroke-linecap: square\"/>\n    </g>\n    <g id=\"text_19\">\n     <!-- 0.010 -->\n     <g transform=\"translate(215.948965 124.150676)scale(0.1 -0.1)\">\n      <use xlink:href=\"#DejaVuSans-30\"/>\n      <use xlink:href=\"#DejaVuSans-2e\" x=\"63.623047\"/>\n      <use xlink:href=\"#DejaVuSans-30\" x=\"95.410156\"/>\n      <use xlink:href=\"#DejaVuSans-31\" x=\"159.033203\"/>\n      <use xlink:href=\"#DejaVuSans-30\" x=\"222.65625\"/>\n     </g>\n    </g>\n   </g>\n   <g id=\"xtick_17\">\n    <g id=\"line2d_20\">\n     <path d=\"M 211.67197 100.070108 \nL 214.641567 100.879104 \n\" style=\"fill: none; stroke: #000000; stroke-width: 0.8; stroke-linecap: square\"/>\n    </g>\n    <g id=\"text_20\">\n     <!-- 0.015 -->\n     <g transform=\"translate(216.974535 105.442653)scale(0.1 -0.1)\">\n      <use xlink:href=\"#DejaVuSans-30\"/>\n      <use xlink:href=\"#DejaVuSans-2e\" x=\"63.623047\"/>\n      <use xlink:href=\"#DejaVuSans-30\" x=\"95.410156\"/>\n      <use xlink:href=\"#DejaVuSans-31\" x=\"159.033203\"/>\n      <use xlink:href=\"#DejaVuSans-35\" x=\"222.65625\"/>\n     </g>\n    </g>\n   </g>\n   <g id=\"xtick_18\">\n    <g id=\"line2d_21\">\n     <path d=\"M 212.537253 80.970663 \nL 215.535631 81.763782 \n\" style=\"fill: none; stroke: #000000; stroke-width: 0.8; stroke-linecap: square\"/>\n    </g>\n    <g id=\"text_21\">\n     <!-- 0.020 -->\n     <g transform=\"translate(218.019162 86.386985)scale(0.1 -0.1)\">\n      <use xlink:href=\"#DejaVuSans-30\"/>\n      <use xlink:href=\"#DejaVuSans-2e\" x=\"63.623047\"/>\n      <use xlink:href=\"#DejaVuSans-30\" x=\"95.410156\"/>\n      <use xlink:href=\"#DejaVuSans-32\" x=\"159.033203\"/>\n      <use xlink:href=\"#DejaVuSans-30\" x=\"222.65625\"/>\n     </g>\n    </g>\n   </g>\n   <g id=\"xtick_19\">\n    <g id=\"line2d_22\">\n     <path d=\"M 213.418822 61.511746 \nL 216.446542 62.288244 \n\" style=\"fill: none; stroke: #000000; stroke-width: 0.8; stroke-linecap: square\"/>\n    </g>\n    <g id=\"text_22\">\n     <!-- 0.025 -->\n     <g transform=\"translate(219.083384 66.973889)scale(0.1 -0.1)\">\n      <use xlink:href=\"#DejaVuSans-30\"/>\n      <use xlink:href=\"#DejaVuSans-2e\" x=\"63.623047\"/>\n      <use xlink:href=\"#DejaVuSans-30\" x=\"95.410156\"/>\n      <use xlink:href=\"#DejaVuSans-32\" x=\"159.033203\"/>\n      <use xlink:href=\"#DejaVuSans-35\" x=\"222.65625\"/>\n     </g>\n    </g>\n   </g>\n  </g>\n  <g id=\"axes_1\">\n   <g id=\"Poly3DCollection_1\">\n    <path d=\"M 93.82615 98.66118 \nL 100.851373 100.667757 \nL 105.099763 108.519137 \nL 98.136782 106.51056 \nz\n\" clip-path=\"url(#pfd589e0d02)\" style=\"fill: #185b8a\"/>\n    <path d=\"M 100.851373 100.667757 \nL 107.919167 102.686494 \nL 112.104485 110.539756 \nL 105.099763 108.519137 \nz\n\" clip-path=\"url(#pfd589e0d02)\" style=\"fill: #185b8a\"/>\n    <path d=\"M 107.919167 102.686494 \nL 115.029921 104.717501 \nL 119.151325 112.572524 \nL 112.104485 110.539756 \nz\n\" clip-path=\"url(#pfd589e0d02)\" style=\"fill: #185b8a\"/>\n    <path d=\"M 115.029921 104.717501 \nL 122.184027 106.76089 \nL 126.240664 114.617551 \nL 119.151325 112.572524 \nz\n\" clip-path=\"url(#pfd589e0d02)\" style=\"fill: #185b8a\"/>\n    <path d=\"M 89.383604 87.984284 \nL 96.481204 89.982767 \nL 100.851373 100.667757 \nL 93.82615 98.66118 \nz\n\" clip-path=\"url(#pfd589e0d02)\" style=\"fill: #185b8a\"/>\n    <path d=\"M 122.184027 106.76089 \nL 129.381882 108.816776 \nL 133.372888 116.674949 \nL 126.240664 114.617551 \nz\n\" clip-path=\"url(#pfd589e0d02)\" style=\"fill: #185b8a\"/>\n    <path d=\"M 96.481204 89.982767 \nL 103.622341 91.993509 \nL 107.919167 102.686494 \nL 100.851373 100.667757 \nz\n\" clip-path=\"url(#pfd589e0d02)\" style=\"fill: #185b8a\"/>\n    <path d=\"M 129.381882 108.816776 \nL 136.62389 110.885272 \nL 140.548386 118.74483 \nL 133.372888 116.674949 \nz\n\" clip-path=\"url(#pfd589e0d02)\" style=\"fill: #185b8a\"/>\n    <path d=\"M 103.622341 91.993509 \nL 110.807419 94.016624 \nL 115.029921 104.717501 \nL 107.919167 102.686494 \nz\n\" clip-path=\"url(#pfd589e0d02)\" style=\"fill: #185b8a\"/>\n    <path d=\"M 136.62389 110.885272 \nL 143.910458 112.966496 \nL 147.767555 120.827309 \nL 140.548386 118.74483 \nz\n\" clip-path=\"url(#pfd589e0d02)\" style=\"fill: #185b8a\"/>\n    <path d=\"M 110.807419 94.016624 \nL 118.036842 96.052225 \nL 122.184027 106.76089 \nL 115.029921 104.717501 \nz\n\" clip-path=\"url(#pfd589e0d02)\" style=\"fill: #185b8a\"/>\n    <path d=\"M 143.910458 112.966496 \nL 151.241999 115.060565 \nL 155.030793 122.9225 \nL 147.767555 120.827309 \nz\n\" clip-path=\"url(#pfd589e0d02)\" style=\"fill: #185b8a\"/>\n    <path d=\"M 118.036842 96.052225 \nL 125.311024 98.100428 \nL 129.381882 108.816776 \nL 122.184027 106.76089 \nz\n\" clip-path=\"url(#pfd589e0d02)\" style=\"fill: #185b8a\"/>\n    <path d=\"M 84.807572 75.597129 \nL 91.983952 77.583414 \nL 96.481204 89.982767 \nL 89.383604 87.984284 \nz\n\" clip-path=\"url(#pfd589e0d02)\" style=\"fill: #185b8a\"/>\n    <path d=\"M 151.241999 115.060565 \nL 158.618929 117.167599 \nL 162.338506 125.03052 \nL 155.030793 122.9225 \nz\n\" clip-path=\"url(#pfd589e0d02)\" style=\"fill: #185b8a\"/>\n    <path d=\"M 125.311024 98.100428 \nL 132.630381 100.161352 \nL 136.62389 110.885272 \nL 129.381882 108.816776 \nz\n\" clip-path=\"url(#pfd589e0d02)\" style=\"fill: #185b8a\"/>\n    <path d=\"M 91.983952 77.583414 \nL 99.204931 79.582042 \nL 103.622341 91.993509 \nL 96.481204 89.982767 \nz\n\" clip-path=\"url(#pfd589e0d02)\" style=\"fill: #185b8a\"/>\n    <path d=\"M 158.618929 117.167599 \nL 166.041673 119.287718 \nL 169.691103 127.151488 \nL 162.338506 125.03052 \nz\n\" clip-path=\"url(#pfd589e0d02)\" style=\"fill: #185b8a\"/>\n    <path d=\"M 132.630381 100.161352 \nL 139.995335 102.235115 \nL 143.910458 112.966496 \nL 136.62389 110.885272 \nz\n\" clip-path=\"url(#pfd589e0d02)\" style=\"fill: #185b8a\"/>\n    <path d=\"M 99.204931 79.582042 \nL 106.470927 81.593131 \nL 110.807419 94.016624 \nL 103.622341 91.993509 \nz\n\" clip-path=\"url(#pfd589e0d02)\" style=\"fill: #185b8a\"/>\n    <path d=\"M 166.041673 119.287718 \nL 173.510657 121.421045 \nL 177.089 129.285524 \nL 169.691103 127.151488 \nz\n\" clip-path=\"url(#pfd589e0d02)\" style=\"fill: #185b8a\"/>\n    <path d=\"M 139.995335 102.235115 \nL 147.406313 104.321836 \nL 151.241999 115.060565 \nL 143.910458 112.966496 \nz\n\" clip-path=\"url(#pfd589e0d02)\" style=\"fill: #185b8a\"/>\n    <path d=\"M 106.470927 81.593131 \nL 113.782361 83.616796 \nL 118.036842 96.052225 \nL 110.807419 94.016624 \nz\n\" clip-path=\"url(#pfd589e0d02)\" style=\"fill: #185b8a\"/>\n    <path d=\"M 173.510657 121.421045 \nL 181.026316 123.567703 \nL 184.532615 131.432748 \nL 177.089 129.285524 \nz\n\" clip-path=\"url(#pfd589e0d02)\" style=\"fill: #185b8a\"/>\n    <path d=\"M 147.406313 104.321836 \nL 154.863749 106.421639 \nL 158.618929 117.167599 \nL 151.241999 115.060565 \nz\n\" clip-path=\"url(#pfd589e0d02)\" style=\"fill: #185b8a\"/>\n    <path d=\"M 113.782361 83.616796 \nL 121.139661 85.653156 \nL 125.311024 98.100428 \nL 118.036842 96.052225 \nz\n\" clip-path=\"url(#pfd589e0d02)\" style=\"fill: #185b8a\"/>\n    <path d=\"M 181.026316 123.567703 \nL 188.589089 125.727817 \nL 192.022375 133.593282 \nL 184.532615 131.432748 \nz\n\" clip-path=\"url(#pfd589e0d02)\" style=\"fill: #185b8a\"/>\n    <path d=\"M 80.122407 63.52492 \nL 87.377072 65.49906 \nL 91.983952 77.583414 \nL 84.807572 75.597129 \nz\n\" clip-path=\"url(#pfd589e0d02)\" style=\"fill: #185b8a\"/>\n    <path d=\"M 154.863749 106.421639 \nL 162.368081 108.534647 \nL 166.041673 119.287718 \nL 158.618929 117.167599 \nz\n\" clip-path=\"url(#pfd589e0d02)\" style=\"fill: #185b8a\"/>\n    <path d=\"M 121.139661 85.653156 \nL 128.54326 87.702331 \nL 132.630381 100.161352 \nL 125.311024 98.100428 \nz\n\" clip-path=\"url(#pfd589e0d02)\" style=\"fill: #185b8a\"/>\n    <path d=\"M 188.589089 125.727817 \nL 196.199419 127.901516 \nL 199.55871 135.767252 \nL 192.022375 133.593282 \nz\n\" clip-path=\"url(#pfd589e0d02)\" style=\"fill: #185b8a\"/>\n    <path d=\"M 87.377072 65.49906 \nL 94.677409 67.485629 \nL 99.204931 79.582042 \nL 91.983952 77.583414 \nz\n\" clip-path=\"url(#pfd589e0d02)\" style=\"fill: #185b8a\"/>\n    <path d=\"M 162.368081 108.534647 \nL 169.919752 110.660984 \nL 173.510657 121.421045 \nL 166.041673 119.287718 \nz\n\" clip-path=\"url(#pfd589e0d02)\" style=\"fill: #185b8a\"/>\n    <path d=\"M 128.54326 87.702331 \nL 135.993597 89.764441 \nL 139.995335 102.235115 \nL 132.630381 100.161352 \nz\n\" clip-path=\"url(#pfd589e0d02)\" style=\"fill: #185b8a\"/>\n    <path d=\"M 94.677409 67.485629 \nL 102.023851 69.484743 \nL 106.470927 81.593131 \nL 99.204931 79.582042 \nz\n\" clip-path=\"url(#pfd589e0d02)\" style=\"fill: #185b8a\"/>\n    <path d=\"M 169.919752 110.660984 \nL 177.519211 112.800776 \nL 181.026316 123.567703 \nL 173.510657 121.421045 \nz\n\" clip-path=\"url(#pfd589e0d02)\" style=\"fill: #185b8a\"/>\n    <path d=\"M 135.993597 89.764441 \nL 143.491115 91.839611 \nL 147.406313 104.321836 \nL 139.995335 102.235115 \nz\n\" clip-path=\"url(#pfd589e0d02)\" style=\"fill: #185b8a\"/>\n    <path d=\"M 102.023851 69.484743 \nL 109.416835 71.496523 \nL 113.782361 83.616796 \nL 106.470927 81.593131 \nz\n\" clip-path=\"url(#pfd589e0d02)\" style=\"fill: #185b8a\"/>\n    <path d=\"M 177.519211 112.800776 \nL 185.166915 114.954153 \nL 188.589089 125.727817 \nL 181.026316 123.567703 \nz\n\" clip-path=\"url(#pfd589e0d02)\" style=\"fill: #185b8a\"/>\n    <path d=\"M 143.491115 91.839611 \nL 151.036265 93.927964 \nL 154.863749 106.421639 \nL 147.406313 104.321836 \nz\n\" clip-path=\"url(#pfd589e0d02)\" style=\"fill: #185b8a\"/>\n    <path d=\"M 75.382156 54.389955 \nL 82.705575 56.357904 \nL 87.377072 65.49906 \nL 80.122407 63.52492 \nz\n\" clip-path=\"url(#pfd589e0d02)\" style=\"fill: #185b8a\"/>\n    <path d=\"M 109.416835 71.496523 \nL 116.856805 73.521089 \nL 121.139661 85.653156 \nL 113.782361 83.616796 \nz\n\" clip-path=\"url(#pfd589e0d02)\" style=\"fill: #185b8a\"/>\n    <path d=\"M 185.166915 114.954153 \nL 192.863323 117.121244 \nL 196.199419 127.901516 \nL 188.589089 125.727817 \nz\n\" clip-path=\"url(#pfd589e0d02)\" style=\"fill: #185b8a\"/>\n    <path d=\"M 151.036265 93.927964 \nL 158.6295 96.029626 \nL 162.368081 108.534647 \nL 154.863749 106.421639 \nz\n\" clip-path=\"url(#pfd589e0d02)\" style=\"fill: #185b8a\"/>\n    <path d=\"M 82.705575 56.357904 \nL 90.075633 58.338386 \nL 94.677409 67.485629 \nL 87.377072 65.49906 \nz\n\" clip-path=\"url(#pfd589e0d02)\" style=\"fill: #185b8a\"/>\n    <path d=\"M 116.856805 73.521089 \nL 124.344211 75.558563 \nL 128.54326 87.702331 \nL 121.139661 85.653156 \nz\n\" clip-path=\"url(#pfd589e0d02)\" style=\"fill: #185b8a\"/>\n    <path d=\"M 158.6295 96.029626 \nL 166.271284 98.144726 \nL 169.919752 110.660984 \nL 162.368081 108.534647 \nz\n\" clip-path=\"url(#pfd589e0d02)\" style=\"fill: #185b8a\"/>\n    <path d=\"M 90.075633 58.338386 \nL 97.492776 60.33152 \nL 102.023851 69.484743 \nL 94.677409 67.485629 \nz\n\" clip-path=\"url(#pfd589e0d02)\" style=\"fill: #185b8a\"/>\n    <path d=\"M 124.344211 75.558563 \nL 131.879508 77.609069 \nL 135.993597 89.764441 \nL 128.54326 87.702331 \nz\n\" clip-path=\"url(#pfd589e0d02)\" style=\"fill: #185b8a\"/>\n    <path d=\"M 166.271284 98.144726 \nL 173.962082 100.273391 \nL 177.519211 112.800776 \nL 169.919752 110.660984 \nz\n\" clip-path=\"url(#pfd589e0d02)\" style=\"fill: #185b8a\"/>\n    <path d=\"M 97.492776 60.33152 \nL 104.957459 62.337429 \nL 109.416835 71.496523 \nL 102.023851 69.484743 \nz\n\" clip-path=\"url(#pfd589e0d02)\" style=\"fill: #185b8a\"/>\n    <path d=\"M 131.879508 77.609069 \nL 139.463156 79.672733 \nL 143.491115 91.839611 \nL 135.993597 89.764441 \nz\n\" clip-path=\"url(#pfd589e0d02)\" style=\"fill: #185b8a\"/>\n    <path d=\"M 70.662122 50.729599 \nL 78.035913 52.703423 \nL 82.705575 56.357904 \nL 75.382156 54.389955 \nz\n\" clip-path=\"url(#pfd589e0d02)\" style=\"fill: #185b8a\"/>\n    <path d=\"M 173.962082 100.273391 \nL 181.702367 102.415755 \nL 185.166915 114.954153 \nL 177.519211 112.800776 \nz\n\" clip-path=\"url(#pfd589e0d02)\" style=\"fill: #185b8a\"/>\n    <path d=\"M 104.957459 62.337429 \nL 112.470138 64.356236 \nL 116.856805 73.521089 \nL 109.416835 71.496523 \nz\n\" clip-path=\"url(#pfd589e0d02)\" style=\"fill: #185b8a\"/>\n    <path d=\"M 139.463156 79.672733 \nL 147.095623 81.749681 \nL 151.036265 93.927964 \nL 143.491115 91.839611 \nz\n\" clip-path=\"url(#pfd589e0d02)\" style=\"fill: #185b8a\"/>\n    <path d=\"M 78.035913 52.703423 \nL 85.457085 54.68993 \nL 90.075633 58.338386 \nL 82.705575 56.357904 \nz\n\" clip-path=\"url(#pfd589e0d02)\" style=\"fill: #185b8a\"/>\n    <path d=\"M 40.297509 154.844963 \nL 47.577509 157.153312 \nL 51.901443 141.355352 \nL 44.604973 139.096635 \nz\n\" clip-path=\"url(#pfd589e0d02)\" style=\"fill: #185b8a\"/>\n    <path d=\"M 35.864465 167.508925 \nL 43.138921 169.860649 \nL 47.577509 157.153312 \nL 40.297509 154.844963 \nz\n\" clip-path=\"url(#pfd589e0d02)\" style=\"fill: #185b8a\"/>\n    <path d=\"M 181.702367 102.415755 \nL 189.49262 104.571947 \nL 192.863323 117.121244 \nL 185.166915 114.954153 \nz\n\" clip-path=\"url(#pfd589e0d02)\" style=\"fill: #185b8a\"/>\n    <path d=\"M 112.470138 64.356236 \nL 120.031278 66.388065 \nL 124.344211 75.558563 \nL 116.856805 73.521089 \nz\n\" clip-path=\"url(#pfd589e0d02)\" style=\"fill: #185b8a\"/>\n    <path d=\"M 147.095623 81.749681 \nL 154.777382 83.840042 \nL 158.6295 96.029626 \nL 151.036265 93.927964 \nz\n\" clip-path=\"url(#pfd589e0d02)\" style=\"fill: #185b8a\"/>\n    <path d=\"M 44.604973 139.096635 \nL 51.901443 141.355352 \nL 56.143399 122.795295 \nL 48.820798 120.592092 \nz\n\" clip-path=\"url(#pfd589e0d02)\" style=\"fill: #185b8a\"/>\n    <path d=\"M 85.457085 54.68993 \nL 92.926096 56.689243 \nL 97.492776 60.33152 \nL 90.075633 58.338386 \nz\n\" clip-path=\"url(#pfd589e0d02)\" style=\"fill: #185b8a\"/>\n    <path d=\"M 66.037566 54.156397 \nL 73.437594 56.152266 \nL 78.035913 52.703423 \nL 70.662122 50.729599 \nz\n\" clip-path=\"url(#pfd589e0d02)\" style=\"fill: #185b8a\"/>\n    <path d=\"M 48.820798 120.592092 \nL 56.143399 122.795295 \nL 60.357483 102.683134 \nL 53.003419 100.539058 \nz\n\" clip-path=\"url(#pfd589e0d02)\" style=\"fill: #185c8a\"/>\n    <path d=\"M 47.577509 157.153312 \nL 54.904308 159.4765 \nL 59.244837 143.628595 \nL 51.901443 141.355352 \nz\n\" clip-path=\"url(#pfd589e0d02)\" style=\"fill: #185b8a\"/>\n    <path d=\"M 43.138921 169.860649 \nL 50.460199 172.22751 \nL 54.904308 159.4765 \nL 47.577509 157.153312 \nz\n\" clip-path=\"url(#pfd589e0d02)\" style=\"fill: #185b8a\"/>\n    <path d=\"M 120.031278 66.388065 \nL 127.641351 68.433043 \nL 131.879508 77.609069 \nL 124.344211 75.558563 \nz\n\" clip-path=\"url(#pfd589e0d02)\" style=\"fill: #185b8a\"/>\n    <path d=\"M 154.777382 83.840042 \nL 162.508911 85.943947 \nL 166.271284 98.144726 \nL 158.6295 96.029626 \nz\n\" clip-path=\"url(#pfd589e0d02)\" style=\"fill: #185b8a\"/>\n    <path d=\"M 51.901443 141.355352 \nL 59.244837 143.628595 \nL 63.513173 125.012691 \nL 56.143399 122.795295 \nz\n\" clip-path=\"url(#pfd589e0d02)\" style=\"fill: #185b8a\"/>\n    <path d=\"M 92.926096 56.689243 \nL 100.44341 58.701486 \nL 104.957459 62.337429 \nL 97.492776 60.33152 \nz\n\" clip-path=\"url(#pfd589e0d02)\" style=\"fill: #185b8a\"/>\n    <path d=\"M 73.437594 56.152266 \nL 80.885438 58.161032 \nL 85.457085 54.68993 \nL 78.035913 52.703423 \nz\n\" clip-path=\"url(#pfd589e0d02)\" style=\"fill: #185b8a\"/>\n    <path d=\"M 53.003419 100.539058 \nL 60.357483 102.683134 \nL 64.609577 83.128338 \nL 57.226113 81.042548 \nz\n\" clip-path=\"url(#pfd589e0d02)\" style=\"fill: #185b8a\"/>\n    <path d=\"M 61.557405 64.753753 \nL 68.959019 66.788152 \nL 73.437594 56.152266 \nL 66.037566 54.156397 \nz\n\" clip-path=\"url(#pfd589e0d02)\" style=\"fill: #185b8a\"/>\n    <path d=\"M 56.143399 122.795295 \nL 63.513173 125.012691 \nL 67.759039 104.841056 \nL 60.357483 102.683134 \nz\n\" clip-path=\"url(#pfd589e0d02)\" style=\"fill: #185c8a\"/>\n    <path d=\"M 54.904308 159.4765 \nL 62.278361 161.814671 \nL 66.635608 145.916505 \nL 59.244837 143.628595 \nz\n\" clip-path=\"url(#pfd589e0d02)\" style=\"fill: #185b8a\"/>\n    <path d=\"M 57.226113 81.042548 \nL 64.609577 83.128338 \nL 68.959019 66.788152 \nL 61.557405 64.753753 \nz\n\" clip-path=\"url(#pfd589e0d02)\" style=\"fill: #185b8a\"/>\n    <path d=\"M 50.460199 172.22751 \nL 57.828751 174.609654 \nL 62.278361 161.814671 \nL 54.904308 159.4765 \nz\n\" clip-path=\"url(#pfd589e0d02)\" style=\"fill: #185b8a\"/>\n    <path d=\"M 127.641351 68.433043 \nL 135.300832 70.491298 \nL 139.463156 79.672733 \nL 131.879508 77.609069 \nz\n\" clip-path=\"url(#pfd589e0d02)\" style=\"fill: #185b8a\"/>\n    <path d=\"M 162.508911 85.943947 \nL 170.290695 88.061527 \nL 173.962082 100.273391 \nL 166.271284 98.144726 \nz\n\" clip-path=\"url(#pfd589e0d02)\" style=\"fill: #185b8a\"/>\n    <path d=\"M 59.244837 143.628595 \nL 66.635608 145.916505 \nL 70.930578 127.244418 \nL 63.513173 125.012691 \nz\n\" clip-path=\"url(#pfd589e0d02)\" style=\"fill: #185b8a\"/>\n    <path d=\"M 100.44341 58.701486 \nL 108.009498 60.726785 \nL 112.470138 64.356236 \nL 104.957459 62.337429 \nz\n\" clip-path=\"url(#pfd589e0d02)\" style=\"fill: #185b8a\"/>\n    <path d=\"M 80.885438 58.161032 \nL 88.381563 60.18282 \nL 92.926096 56.689243 \nL 85.457085 54.68993 \nz\n\" clip-path=\"url(#pfd589e0d02)\" style=\"fill: #185b8a\"/>\n    <path d=\"M 60.357483 102.683134 \nL 67.759039 104.841056 \nL 72.040826 85.227626 \nL 64.609577 83.128338 \nz\n\" clip-path=\"url(#pfd589e0d02)\" style=\"fill: #185b8a\"/>\n    <path d=\"M 68.959019 66.788152 \nL 76.408563 68.835724 \nL 80.885438 58.161032 \nL 73.437594 56.152266 \nz\n\" clip-path=\"url(#pfd589e0d02)\" style=\"fill: #185b8a\"/>\n    <path d=\"M 63.513173 125.012691 \nL 70.930578 127.244418 \nL 75.20855 107.012959 \nL 67.759039 104.841056 \nz\n\" clip-path=\"url(#pfd589e0d02)\" style=\"fill: #185c8a\"/>\n    <path d=\"M 62.278361 161.814671 \nL 69.700126 164.167971 \nL 74.074218 148.219223 \nL 66.635608 145.916505 \nz\n\" clip-path=\"url(#pfd589e0d02)\" style=\"fill: #185b8a\"/>\n    <path d=\"M 64.609577 83.128338 \nL 72.040826 85.227626 \nL 76.408563 68.835724 \nL 68.959019 66.788152 \nz\n\" clip-path=\"url(#pfd589e0d02)\" style=\"fill: #185b8a\"/>\n    <path d=\"M 57.828751 174.609654 \nL 65.245036 177.007229 \nL 69.700126 164.167971 \nL 62.278361 161.814671 \nz\n\" clip-path=\"url(#pfd589e0d02)\" style=\"fill: #185b8a\"/>\n    <path d=\"M 135.300832 70.491298 \nL 143.010204 72.56296 \nL 147.095623 81.749681 \nL 139.463156 79.672733 \nz\n\" clip-path=\"url(#pfd589e0d02)\" style=\"fill: #185b8a\"/>\n    <path d=\"M 170.290695 88.061527 \nL 178.123228 90.192917 \nL 181.702367 102.415755 \nL 173.962082 100.273391 \nz\n\" clip-path=\"url(#pfd589e0d02)\" style=\"fill: #185b8a\"/>\n    <path d=\"M 66.635608 145.916505 \nL 74.074218 148.219223 \nL 78.396077 129.490616 \nL 70.930578 127.244418 \nz\n\" clip-path=\"url(#pfd589e0d02)\" style=\"fill: #185b8a\"/>\n    <path d=\"M 108.009498 60.726785 \nL 115.624835 62.765266 \nL 120.031278 66.388065 \nL 112.470138 64.356236 \nz\n\" clip-path=\"url(#pfd589e0d02)\" style=\"fill: #185b8a\"/>\n    <path d=\"M 88.381563 60.18282 \nL 95.926438 62.217756 \nL 100.44341 58.701486 \nL 92.926096 56.689243 \nz\n\" clip-path=\"url(#pfd589e0d02)\" style=\"fill: #185b8a\"/>\n    <path d=\"M 67.759039 104.841056 \nL 75.20855 107.012959 \nL 79.520325 87.340545 \nL 72.040826 85.227626 \nz\n\" clip-path=\"url(#pfd589e0d02)\" style=\"fill: #185b8a\"/>\n    <path d=\"M 76.408563 68.835724 \nL 83.906504 70.896599 \nL 88.381563 60.18282 \nL 80.885438 58.161032 \nz\n\" clip-path=\"url(#pfd589e0d02)\" style=\"fill: #185b8a\"/>\n    <path d=\"M 70.930578 127.244418 \nL 78.396077 129.490616 \nL 82.706482 109.198979 \nL 75.20855 107.012959 \nz\n\" clip-path=\"url(#pfd589e0d02)\" style=\"fill: #185c8a\"/>\n    <path d=\"M 69.700126 164.167971 \nL 77.170067 166.536547 \nL 81.561131 150.536894 \nL 74.074218 148.219223 \nz\n\" clip-path=\"url(#pfd589e0d02)\" style=\"fill: #185b8a\"/>\n    <path d=\"M 72.040826 85.227626 \nL 79.520325 87.340545 \nL 83.906504 70.896599 \nL 76.408563 68.835724 \nz\n\" clip-path=\"url(#pfd589e0d02)\" style=\"fill: #185b8a\"/>\n    <path d=\"M 65.245036 177.007229 \nL 72.709521 179.420386 \nL 77.170067 166.536547 \nL 69.700126 164.167971 \nz\n\" clip-path=\"url(#pfd589e0d02)\" style=\"fill: #185b8a\"/>\n    <path d=\"M 143.010204 72.56296 \nL 150.769956 74.64816 \nL 154.777382 83.840042 \nL 147.095623 81.749681 \nz\n\" clip-path=\"url(#pfd589e0d02)\" style=\"fill: #185b8a\"/>\n    <path d=\"M 178.123228 90.192917 \nL 186.007005 92.338252 \nL 189.49262 104.571947 \nL 181.702367 102.415755 \nz\n\" clip-path=\"url(#pfd589e0d02)\" style=\"fill: #185b8a\"/>\n    <path d=\"M 74.074218 148.219223 \nL 81.561131 150.536894 \nL 85.910139 131.751425 \nL 78.396077 129.490616 \nz\n\" clip-path=\"url(#pfd589e0d02)\" style=\"fill: #185b8a\"/>\n    <path d=\"M 115.624835 62.765266 \nL 123.289904 64.81706 \nL 127.641351 68.433043 \nL 120.031278 66.388065 \nz\n\" clip-path=\"url(#pfd589e0d02)\" style=\"fill: #185b8a\"/>\n    <path d=\"M 95.926438 62.217756 \nL 103.520543 64.265971 \nL 108.009498 60.726785 \nL 100.44341 58.701486 \nz\n\" clip-path=\"url(#pfd589e0d02)\" style=\"fill: #185b8a\"/>\n    <path d=\"M 75.20855 107.012959 \nL 82.706482 109.198979 \nL 87.048547 89.467228 \nL 79.520325 87.340545 \nz\n\" clip-path=\"url(#pfd589e0d02)\" style=\"fill: #185b8a\"/>\n    <path d=\"M 83.906504 70.896599 \nL 91.453315 72.970906 \nL 95.926438 62.217756 \nL 88.381563 60.18282 \nz\n\" clip-path=\"url(#pfd589e0d02)\" style=\"fill: #185b8a\"/>\n    <path d=\"M 78.396077 129.490616 \nL 85.910139 131.751425 \nL 90.25331 111.399255 \nL 82.706482 109.198979 \nz\n\" clip-path=\"url(#pfd589e0d02)\" style=\"fill: #185c8a\"/>\n    <path d=\"M 77.170067 166.536547 \nL 84.688656 168.920548 \nL 89.09682 152.869664 \nL 81.561131 150.536894 \nz\n\" clip-path=\"url(#pfd589e0d02)\" style=\"fill: #185b8a\"/>\n    <path d=\"M 79.520325 87.340545 \nL 87.048547 89.467228 \nL 91.453315 72.970906 \nL 83.906504 70.896599 \nz\n\" clip-path=\"url(#pfd589e0d02)\" style=\"fill: #185b8a\"/>\n    <path d=\"M 72.709521 179.420386 \nL 80.222675 181.849278 \nL 84.688656 168.920548 \nL 77.170067 166.536547 \nz\n\" clip-path=\"url(#pfd589e0d02)\" style=\"fill: #185b8a\"/>\n    <path d=\"M 150.769956 74.64816 \nL 158.580584 76.747032 \nL 162.508911 85.943947 \nL 154.777382 83.840042 \nz\n\" clip-path=\"url(#pfd589e0d02)\" style=\"fill: #185b8a\"/>\n    <path d=\"M 81.561131 150.536894 \nL 89.09682 152.869664 \nL 93.473239 134.026989 \nL 85.910139 131.751425 \nz\n\" clip-path=\"url(#pfd589e0d02)\" style=\"fill: #185b8a\"/>\n    <path d=\"M 123.289904 64.81706 \nL 131.005194 66.882297 \nL 135.300832 70.491298 \nL 127.641351 68.433043 \nz\n\" clip-path=\"url(#pfd589e0d02)\" style=\"fill: #185b8a\"/>\n    <path d=\"M 103.520543 64.265971 \nL 111.16436 66.327593 \nL 115.624835 62.765266 \nL 108.009498 60.726785 \nz\n\" clip-path=\"url(#pfd589e0d02)\" style=\"fill: #185b8a\"/>\n    <path d=\"M 82.706482 109.198979 \nL 90.25331 111.399255 \nL 94.625968 91.60781 \nL 87.048547 89.467228 \nz\n\" clip-path=\"url(#pfd589e0d02)\" style=\"fill: #185b8a\"/>\n    <path d=\"M 91.453315 72.970906 \nL 99.049475 75.058777 \nL 103.520543 64.265971 \nL 95.926438 62.217756 \nz\n\" clip-path=\"url(#pfd589e0d02)\" style=\"fill: #185b8a\"/>\n    <path d=\"M 85.910139 131.751425 \nL 93.473239 134.026989 \nL 97.849514 113.613927 \nL 90.25331 111.399255 \nz\n\" clip-path=\"url(#pfd589e0d02)\" style=\"fill: #185c8a\"/>\n    <path d=\"M 84.688656 168.920548 \nL 92.256368 171.320125 \nL 96.681763 155.217682 \nL 89.09682 152.869664 \nz\n\" clip-path=\"url(#pfd589e0d02)\" style=\"fill: #185b8a\"/>\n    <path d=\"M 87.048547 89.467228 \nL 94.625968 91.60781 \nL 99.049475 75.058777 \nL 91.453315 72.970906 \nz\n\" clip-path=\"url(#pfd589e0d02)\" style=\"fill: #185b8a\"/>\n    <path d=\"M 80.222675 181.849278 \nL 87.784978 184.294059 \nL 92.256368 171.320125 \nL 84.688656 168.920548 \nz\n\" clip-path=\"url(#pfd589e0d02)\" style=\"fill: #185b8a\"/>\n    <path d=\"M 158.580584 76.747032 \nL 166.44259 78.859709 \nL 170.290695 88.061527 \nL 162.508911 85.943947 \nz\n\" clip-path=\"url(#pfd589e0d02)\" style=\"fill: #185b8a\"/>\n    <path d=\"M 89.09682 152.869664 \nL 96.681763 155.217682 \nL 101.08586 136.317452 \nL 93.473239 134.026989 \nz\n\" clip-path=\"url(#pfd589e0d02)\" style=\"fill: #185b8a\"/>\n    <path d=\"M 131.005194 66.882297 \nL 138.771199 68.96111 \nL 143.010204 72.56296 \nL 135.300832 70.491298 \nz\n\" clip-path=\"url(#pfd589e0d02)\" style=\"fill: #185b8a\"/>\n    <path d=\"M 111.16436 66.327593 \nL 118.858378 68.402755 \nL 123.289904 64.81706 \nL 115.624835 62.765266 \nz\n\" clip-path=\"url(#pfd589e0d02)\" style=\"fill: #185b8a\"/>\n    <path d=\"M 90.25331 111.399255 \nL 97.849514 113.613927 \nL 102.253074 93.762427 \nL 94.625968 91.60781 \nz\n\" clip-path=\"url(#pfd589e0d02)\" style=\"fill: #185b8a\"/>\n    <path d=\"M 99.049475 75.058777 \nL 106.695471 77.160346 \nL 111.16436 66.327593 \nL 103.520543 64.265971 \nz\n\" clip-path=\"url(#pfd589e0d02)\" style=\"fill: #185b8a\"/>\n    <path d=\"M 93.473239 134.026989 \nL 101.08586 136.317452 \nL 105.495578 115.843135 \nL 97.849514 113.613927 \nz\n\" clip-path=\"url(#pfd589e0d02)\" style=\"fill: #185c8a\"/>\n    <path d=\"M 92.256368 171.320125 \nL 99.873687 173.735431 \nL 104.316444 157.581097 \nL 96.681763 155.217682 \nz\n\" clip-path=\"url(#pfd589e0d02)\" style=\"fill: #185b8a\"/>\n    <path d=\"M 94.625968 91.60781 \nL 102.253074 93.762427 \nL 106.695471 77.160346 \nL 99.049475 75.058777 \nz\n\" clip-path=\"url(#pfd589e0d02)\" style=\"fill: #185b8a\"/>\n    <path d=\"M 87.784978 184.294059 \nL 95.396913 186.754885 \nL 99.873687 173.735431 \nL 92.256368 171.320125 \nz\n\" clip-path=\"url(#pfd589e0d02)\" style=\"fill: #185b8a\"/>\n    <path d=\"M 166.44259 78.859709 \nL 174.356481 80.98633 \nL 178.123228 90.192917 \nL 170.290695 88.061527 \nz\n\" clip-path=\"url(#pfd589e0d02)\" style=\"fill: #185b8a\"/>\n    <path d=\"M 96.681763 155.217682 \nL 104.316444 157.581097 \nL 108.748488 138.622961 \nL 101.08586 136.317452 \nz\n\" clip-path=\"url(#pfd589e0d02)\" style=\"fill: #185b8a\"/>\n    <path d=\"M 138.771199 68.96111 \nL 146.588422 71.053632 \nL 150.769956 74.64816 \nL 143.010204 72.56296 \nz\n\" clip-path=\"url(#pfd589e0d02)\" style=\"fill: #185b8a\"/>\n    <path d=\"M 118.858378 68.402755 \nL 126.603095 70.49159 \nL 131.005194 66.882297 \nL 123.289904 64.81706 \nz\n\" clip-path=\"url(#pfd589e0d02)\" style=\"fill: #185b8a\"/>\n    <path d=\"M 97.849514 113.613927 \nL 105.495578 115.843135 \nL 109.930353 95.931218 \nL 102.253074 93.762427 \nz\n\" clip-path=\"url(#pfd589e0d02)\" style=\"fill: #185b8a\"/>\n    <path d=\"M 106.695471 77.160346 \nL 114.391794 79.275748 \nL 118.858378 68.402755 \nL 111.16436 66.327593 \nz\n\" clip-path=\"url(#pfd589e0d02)\" style=\"fill: #185b8a\"/>\n    <path d=\"M 101.08586 136.317452 \nL 108.748488 138.622961 \nL 113.191998 118.087025 \nL 105.495578 115.843135 \nz\n\" clip-path=\"url(#pfd589e0d02)\" style=\"fill: #185c8a\"/>\n    <path d=\"M 99.873687 173.735431 \nL 107.541103 176.166622 \nL 112.001355 159.96006 \nL 104.316444 157.581097 \nz\n\" clip-path=\"url(#pfd589e0d02)\" style=\"fill: #185b8a\"/>\n    <path d=\"M 102.253074 93.762427 \nL 109.930353 95.931218 \nL 114.391794 79.275748 \nL 106.695471 77.160346 \nz\n\" clip-path=\"url(#pfd589e0d02)\" style=\"fill: #185b8a\"/>\n    <path d=\"M 95.396913 186.754885 \nL 103.05897 189.231915 \nL 107.541103 176.166622 \nL 99.873687 173.735431 \nz\n\" clip-path=\"url(#pfd589e0d02)\" style=\"fill: #185b8a\"/>\n    <path d=\"M 174.356481 80.98633 \nL 182.322775 83.127032 \nL 186.007005 92.338252 \nL 178.123228 90.192917 \nz\n\" clip-path=\"url(#pfd589e0d02)\" style=\"fill: #185b8a\"/>\n    <path d=\"M 104.316444 157.581097 \nL 112.001355 159.96006 \nL 116.461619 140.943665 \nL 108.748488 138.622961 \nz\n\" clip-path=\"url(#pfd589e0d02)\" style=\"fill: #185b8a\"/>\n    <path d=\"M 146.588422 71.053632 \nL 154.457371 73.160001 \nL 158.580584 76.747032 \nL 150.769956 74.64816 \nz\n\" clip-path=\"url(#pfd589e0d02)\" style=\"fill: #185b8a\"/>\n    <path d=\"M 126.603095 70.49159 \nL 134.399012 72.594236 \nL 138.771199 68.96111 \nL 131.005194 66.882297 \nz\n\" clip-path=\"url(#pfd589e0d02)\" style=\"fill: #185b8a\"/>\n    <path d=\"M 105.495578 115.843135 \nL 113.191998 118.087025 \nL 117.658302 98.114323 \nL 109.930353 95.931218 \nz\n\" clip-path=\"url(#pfd589e0d02)\" style=\"fill: #185b8a\"/>\n    <path d=\"M 114.391794 79.275748 \nL 122.138942 81.405119 \nL 126.603095 70.49159 \nL 118.858378 68.402755 \nz\n\" clip-path=\"url(#pfd589e0d02)\" style=\"fill: #185b8a\"/>\n    <path d=\"M 108.748488 138.622961 \nL 116.461619 140.943665 \nL 120.93927 120.34574 \nL 113.191998 118.087025 \nz\n\" clip-path=\"url(#pfd589e0d02)\" style=\"fill: #185c8a\"/>\n    <path d=\"M 107.541103 176.166622 \nL 115.25911 178.613855 \nL 119.736992 162.354727 \nL 112.001355 159.96006 \nz\n\" clip-path=\"url(#pfd589e0d02)\" style=\"fill: #185b8a\"/>\n    <path d=\"M 109.930353 95.931218 \nL 117.658302 98.114323 \nL 122.138942 81.405119 \nL 114.391794 79.275748 \nz\n\" clip-path=\"url(#pfd589e0d02)\" style=\"fill: #185b8a\"/>\n    <path d=\"M 103.05897 189.231915 \nL 110.771646 191.725309 \nL 115.25911 178.613855 \nL 107.541103 176.166622 \nz\n\" clip-path=\"url(#pfd589e0d02)\" style=\"fill: #185b8a\"/>\n    <path d=\"M 112.001355 159.96006 \nL 119.736992 162.354727 \nL 124.225754 143.279716 \nL 116.461619 140.943665 \nz\n\" clip-path=\"url(#pfd589e0d02)\" style=\"fill: #185b8a\"/>\n    <path d=\"M 154.457371 73.160001 \nL 162.378562 75.280354 \nL 166.44259 78.859709 \nL 158.580584 76.747032 \nz\n\" clip-path=\"url(#pfd589e0d02)\" style=\"fill: #185b8a\"/>\n    <path d=\"M 134.399012 72.594236 \nL 142.24664 74.710828 \nL 146.588422 71.053632 \nL 138.771199 68.96111 \nz\n\" clip-path=\"url(#pfd589e0d02)\" style=\"fill: #185b8a\"/>\n    <path d=\"M 113.191998 118.087025 \nL 120.93927 120.34574 \nL 125.437426 100.311885 \nL 117.658302 98.114323 \nz\n\" clip-path=\"url(#pfd589e0d02)\" style=\"fill: #185b8a\"/>\n    <path d=\"M 122.138942 81.405119 \nL 129.937421 83.5486 \nL 134.399012 72.594236 \nL 126.603095 70.49159 \nz\n\" clip-path=\"url(#pfd589e0d02)\" style=\"fill: #185b8a\"/>\n    <path d=\"M 116.461619 140.943665 \nL 124.225754 143.279716 \nL 128.737901 122.619429 \nL 120.93927 120.34574 \nz\n\" clip-path=\"url(#pfd589e0d02)\" style=\"fill: #185c8a\"/>\n    <path d=\"M 115.25911 178.613855 \nL 123.028212 181.077288 \nL 127.52386 164.765253 \nL 119.736992 162.354727 \nz\n\" clip-path=\"url(#pfd589e0d02)\" style=\"fill: #185b8a\"/>\n    <path d=\"M 117.658302 98.114323 \nL 125.437426 100.311885 \nL 129.937421 83.5486 \nL 122.138942 81.405119 \nz\n\" clip-path=\"url(#pfd589e0d02)\" style=\"fill: #185b8a\"/>\n    <path d=\"M 110.771646 191.725309 \nL 118.535443 194.23523 \nL 123.028212 181.077288 \nL 115.25911 178.613855 \nz\n\" clip-path=\"url(#pfd589e0d02)\" style=\"fill: #185b8a\"/>\n    <path d=\"M 119.736992 162.354727 \nL 127.52386 164.765253 \nL 132.041399 145.631264 \nL 124.225754 143.279716 \nz\n\" clip-path=\"url(#pfd589e0d02)\" style=\"fill: #185b8a\"/>\n    <path d=\"M 162.378562 75.280354 \nL 170.352515 77.41483 \nL 174.356481 80.98633 \nL 166.44259 78.859709 \nz\n\" clip-path=\"url(#pfd589e0d02)\" style=\"fill: #185b8a\"/>\n    <path d=\"M 142.24664 74.710828 \nL 150.146494 76.841506 \nL 154.457371 73.160001 \nL 146.588422 71.053632 \nz\n\" clip-path=\"url(#pfd589e0d02)\" style=\"fill: #185b8a\"/>\n    <path d=\"M 120.93927 120.34574 \nL 128.737901 122.619429 \nL 133.268234 102.524047 \nL 125.437426 100.311885 \nz\n\" clip-path=\"url(#pfd589e0d02)\" style=\"fill: #185b8a\"/>\n    <path d=\"M 129.937421 83.5486 \nL 137.787743 85.706329 \nL 142.24664 74.710828 \nL 134.399012 72.594236 \nz\n\" clip-path=\"url(#pfd589e0d02)\" style=\"fill: #185b8a\"/>\n    <path d=\"M 124.225754 143.279716 \nL 132.041399 145.631264 \nL 136.588403 124.908242 \nL 128.737901 122.619429 \nz\n\" clip-path=\"url(#pfd589e0d02)\" style=\"fill: #185c8a\"/>\n    <path d=\"M 123.028212 181.077288 \nL 130.848918 183.557085 \nL 135.362468 167.191796 \nL 127.52386 164.765253 \nz\n\" clip-path=\"url(#pfd589e0d02)\" style=\"fill: #185b8a\"/>\n    <path d=\"M 125.437426 100.311885 \nL 133.268234 102.524047 \nL 137.787743 85.706329 \nL 129.937421 83.5486 \nz\n\" clip-path=\"url(#pfd589e0d02)\" style=\"fill: #185b8a\"/>\n    <path d=\"M 118.535443 194.23523 \nL 126.350873 196.761843 \nL 130.848918 183.557085 \nL 123.028212 181.077288 \nz\n\" clip-path=\"url(#pfd589e0d02)\" style=\"fill: #185b8a\"/>\n    <path d=\"M 127.52386 164.765253 \nL 135.362468 167.191796 \nL 139.90907 147.998466 \nL 132.041399 145.631264 \nz\n\" clip-path=\"url(#pfd589e0d02)\" style=\"fill: #185b8a\"/>\n    <path d=\"M 170.352515 77.41483 \nL 178.37976 79.563572 \nL 182.322775 83.127032 \nL 174.356481 80.98633 \nz\n\" clip-path=\"url(#pfd589e0d02)\" style=\"fill: #185b8a\"/>\n    <path d=\"M 150.146494 76.841506 \nL 158.099097 78.986411 \nL 162.378562 75.280354 \nL 154.457371 73.160001 \nz\n\" clip-path=\"url(#pfd589e0d02)\" style=\"fill: #185b8a\"/>\n    <path d=\"M 128.737901 122.619429 \nL 136.588403 124.908242 \nL 141.151242 104.750955 \nL 133.268234 102.524047 \nz\n\" clip-path=\"url(#pfd589e0d02)\" style=\"fill: #185b8a\"/>\n    <path d=\"M 137.787743 85.706329 \nL 145.690427 87.878451 \nL 150.146494 76.841506 \nL 142.24664 74.710828 \nz\n\" clip-path=\"url(#pfd589e0d02)\" style=\"fill: #185b8a\"/>\n    <path d=\"M 132.041399 145.631264 \nL 139.90907 147.998466 \nL 144.491296 127.212328 \nL 136.588403 124.908242 \nz\n\" clip-path=\"url(#pfd589e0d02)\" style=\"fill: #185c8a\"/>\n    <path d=\"M 130.848918 183.557085 \nL 138.721742 186.053407 \nL 143.253336 169.634517 \nL 135.362468 167.191796 \nz\n\" clip-path=\"url(#pfd589e0d02)\" style=\"fill: #185b8a\"/>\n    <path d=\"M 133.268234 102.524047 \nL 141.151242 104.750955 \nL 145.690427 87.878451 \nL 137.787743 85.706329 \nz\n\" clip-path=\"url(#pfd589e0d02)\" style=\"fill: #185b8a\"/>\n    <path d=\"M 126.350873 196.761843 \nL 134.218452 199.305314 \nL 138.721742 186.053407 \nL 130.848918 183.557085 \nz\n\" clip-path=\"url(#pfd589e0d02)\" style=\"fill: #185b8a\"/>\n    <path d=\"M 135.362468 167.191796 \nL 143.253336 169.634517 \nL 147.829287 150.381478 \nL 139.90907 147.998466 \nz\n\" clip-path=\"url(#pfd589e0d02)\" style=\"fill: #185b8a\"/>\n    <path d=\"M 158.099097 78.986411 \nL 166.10498 81.145686 \nL 170.352515 77.41483 \nL 162.378562 75.280354 \nz\n\" clip-path=\"url(#pfd589e0d02)\" style=\"fill: #185b8a\"/>\n    <path d=\"M 136.588403 124.908242 \nL 144.491296 127.212328 \nL 149.086975 106.992758 \nL 141.151242 104.750955 \nz\n\" clip-path=\"url(#pfd589e0d02)\" style=\"fill: #185b8a\"/>\n    <path d=\"M 145.690427 87.878451 \nL 153.645997 90.065109 \nL 158.099097 78.986411 \nL 150.146494 76.841506 \nz\n\" clip-path=\"url(#pfd589e0d02)\" style=\"fill: #185b8a\"/>\n    <path d=\"M 139.90907 147.998466 \nL 147.829287 150.381478 \nL 152.447105 129.531843 \nL 144.491296 127.212328 \nz\n\" clip-path=\"url(#pfd589e0d02)\" style=\"fill: #185c8a\"/>\n    <path d=\"M 138.721742 186.053407 \nL 146.647209 188.566421 \nL 151.196986 172.093577 \nL 143.253336 169.634517 \nz\n\" clip-path=\"url(#pfd589e0d02)\" style=\"fill: #185b8a\"/>\n    <path d=\"M 141.151242 104.750955 \nL 149.086975 106.992758 \nL 153.645997 90.065109 \nL 145.690427 87.878451 \nz\n\" clip-path=\"url(#pfd589e0d02)\" style=\"fill: #185b8a\"/>\n    <path d=\"M 134.218452 199.305314 \nL 142.138703 201.865814 \nL 146.647209 188.566421 \nL 138.721742 186.053407 \nz\n\" clip-path=\"url(#pfd589e0d02)\" style=\"fill: #185b8a\"/>\n    <path d=\"M 143.253336 169.634517 \nL 151.196986 172.093577 \nL 155.802579 152.780459 \nL 147.829287 150.381478 \nz\n\" clip-path=\"url(#pfd589e0d02)\" style=\"fill: #185b8a\"/>\n    <path d=\"M 166.10498 81.145686 \nL 174.16468 83.319477 \nL 178.37976 79.563572 \nL 170.352515 77.41483 \nz\n\" clip-path=\"url(#pfd589e0d02)\" style=\"fill: #185b8a\"/>\n    <path d=\"M 144.491296 127.212328 \nL 152.447105 129.531843 \nL 157.075963 109.249605 \nL 149.086975 106.992758 \nz\n\" clip-path=\"url(#pfd589e0d02)\" style=\"fill: #185b8a\"/>\n    <path d=\"M 153.645997 90.065109 \nL 161.654988 92.26645 \nL 166.10498 81.145686 \nL 158.099097 78.986411 \nz\n\" clip-path=\"url(#pfd589e0d02)\" style=\"fill: #185b8a\"/>\n    <path d=\"M 147.829287 150.381478 \nL 155.802579 152.780459 \nL 160.456365 131.86694 \nL 152.447105 129.531843 \nz\n\" clip-path=\"url(#pfd589e0d02)\" style=\"fill: #185c8a\"/>\n    <path d=\"M 149.086975 106.992758 \nL 157.075963 109.249605 \nL 161.654988 92.26645 \nL 153.645997 90.065109 \nz\n\" clip-path=\"url(#pfd589e0d02)\" style=\"fill: #185b8a\"/>\n    <path d=\"M 152.447105 129.531843 \nL 160.456365 131.86694 \nL 165.118744 111.521648 \nL 157.075963 109.249605 \nz\n\" clip-path=\"url(#pfd589e0d02)\" style=\"fill: #185b8a\"/>\n    <path d=\"M 161.654988 92.26645 \nL 169.717937 94.482623 \nL 174.16468 83.319477 \nL 166.10498 81.145686 \nz\n\" clip-path=\"url(#pfd589e0d02)\" style=\"fill: #185b8a\"/>\n    <path d=\"M 157.075963 109.249605 \nL 165.118744 111.521648 \nL 169.717937 94.482623 \nL 161.654988 92.26645 \nz\n\" clip-path=\"url(#pfd589e0d02)\" style=\"fill: #185b8a\"/>\n   </g>\n  </g>\n </g>\n <defs>\n  <clipPath id=\"pfd589e0d02\">\n   <rect x=\"7.2\" y=\"7.2\" width=\"217.44\" height=\"217.44\"/>\n  </clipPath>\n </defs>\n</svg>\n",
      "text/plain": [
       "<Figure size 432x288 with 1 Axes>"
      ]
     },
     "metadata": {
      "needs_background": "light"
     },
     "output_type": "display_data"
    }
   ],
   "source": [
    "dessine(Pxy(normale(15, 1), proba_affine(15, 0.008)))\n",
    "dessine(Pxy(normale(15, 1), proba_affine(15, 0)))"
   ]
  },
  {
   "cell_type": "markdown",
   "metadata": {},
   "source": [
    "## III- Indépendances conditionnelles (<font color=\"red\"> obligatoire</font>)\n",
    "\n",
    "Dans cet exercice, on considère quatre variables aléatoires booléennes $X$, $Y$, $Z$ et $T$ ainsi que leur distribution jointe $P(X,Y,Z,T)$ encodée en python de la manière suivante : "
   ]
  },
  {
   "cell_type": "code",
   "execution_count": 61,
   "metadata": {},
   "outputs": [],
   "source": [
    "# creation de P(X,Y,Z,T)\n",
    "P_XYZT = np.array([[[[ 0.0192,  0.1728],\n",
    "                     [ 0.0384,  0.0096]],\n",
    "\n",
    "                    [[ 0.0768,  0.0512],\n",
    "                     [ 0.016 ,  0.016 ]]],\n",
    "\n",
    "                   [[[ 0.0144,  0.1296],\n",
    "                     [ 0.0288,  0.0072]],\n",
    "\n",
    "                    [[ 0.2016,  0.1344],\n",
    "                     [ 0.042 ,  0.042 ]]]])"
   ]
  },
  {
   "cell_type": "markdown",
   "metadata": {},
   "source": [
    "Ainsi, $\\forall (x,y,z,t) \\in \\{0,1\\}^4$, `P_XYZT[x][y][z][t]` correspond à $P(X=x,Y=y,Z=z,T=t)$ ou, en version abrégée, à $P(x,y,z,t)$. "
   ]
  },
  {
   "cell_type": "markdown",
   "metadata": {},
   "source": [
    "### III.1- Indépendance de X et T conditionnellement à (Y,Z)\n",
    "On souhaite tester si les variables aléatoires $X$ et $T$ sont indépendantes conditionnellement à $(Y,Z)$. Il s'agit donc de vérifer que dans la loi $P$, $$P(X,T|Y,Z)=P(X|Y,Z)\\cdot P(T|Y,Z)$$\n",
    "\n",
    "\n",
    "Pour cela, tout d'abord, calculer à partir de `P_XYZT` le tableau `P_YZ` représentant la distribution $P(Y,Z)$. On rappelle que $$P(Y,Z)=\\sum_{X,T} P(X,Y,Z,T)$$\n",
    "\n",
    "Le tableau `P_YZ` est donc un tableau à deux dimensions, dont la première correspond à $Y$ et la deuxième à $Z$. Si vous ne vous êtes pas trompé(e)s, vous devez obtenir le tableau suivant : \n",
    "```\n",
    "np.array([[ 0.336,  0.084],\n",
    "          [ 0.464,  0.116]])\n",
    "```\n",
    "\n",
    "Ainsi $P(Y=0,Z=1)=$ `P_YZ[0][1]` $=0.084$"
   ]
  },
  {
   "cell_type": "code",
   "execution_count": 62,
   "metadata": {},
   "outputs": [
    {
     "data": {
      "text/plain": [
       "array([[0.336, 0.084],\n",
       "       [0.464, 0.116]])"
      ]
     },
     "execution_count": 62,
     "metadata": {},
     "output_type": "execute_result"
    }
   ],
   "source": [
    "\"\"\"\n",
    "Habituellement, on interprète les axis comme :\n",
    "- 0 les lignes\n",
    "- 1 les colonnes \n",
    "Du coup sur plus de dimention, on peut continuer dans ce sens : \n",
    "- 0 -> X\n",
    "- 1 -> Y\n",
    "- 2 -> Z\n",
    "- 3 -> T\n",
    "\"\"\"\n",
    "P_YZ = np.sum(P_XYZT, axis=(0,3))\n",
    "P_YZ"
   ]
  },
  {
   "cell_type": "markdown",
   "metadata": {},
   "source": [
    "Ensuite, calculer le tableau `P_XTcondYZ` représentant la distribution $P(X,T|Y,Z)$. Ce tableau a donc 4 dimensions, chacune correspondant à une des variables aléatoires. De plus, les valeurs de `P_XTcondYZ` sont obtenues en utilisant la formule des probabilités conditionnelles: $$P(X,T|Y,Z)=\\frac{P(X,Y,Z,T)}{P(Y,Z)}$$\n",
    "\n",
    "Check: `P_XTcondYZ` =\n",
    "\n",
    "  `[[[[0.05714286 0.51428571]\n",
    "   [0.45714286 0.11428571]]\n",
    "  [[0.16551724 0.11034483]\n",
    "   [0.13793103 0.13793103]]`\n"
   ]
  },
  {
   "cell_type": "code",
   "execution_count": 63,
   "metadata": {},
   "outputs": [
    {
     "data": {
      "text/plain": [
       "array([[[[0.05714286, 0.51428571],\n",
       "         [0.45714286, 0.11428571]],\n",
       "\n",
       "        [[0.16551724, 0.11034483],\n",
       "         [0.13793103, 0.13793103]]],\n",
       "\n",
       "\n",
       "       [[[0.04285714, 0.38571429],\n",
       "         [0.34285714, 0.08571429]],\n",
       "\n",
       "        [[0.43448276, 0.28965517],\n",
       "         [0.36206897, 0.36206897]]]])"
      ]
     },
     "execution_count": 63,
     "metadata": {},
     "output_type": "execute_result"
    }
   ],
   "source": [
    "len_x, len_y, len_z, len_t = P_XYZT.shape\n",
    "P_XTcondYZ = np.zeros((2,2,2,2))\n",
    "for x in range(len_x):\n",
    "    for y in range(len_y):\n",
    "        for z in range(len_z):\n",
    "            for t in range(len_t):\n",
    "                P_XTcondYZ[x,y,z,t] = P_XYZT[x,y,z,t]/ P_YZ[y,z]\n",
    "P_XTcondYZ"
   ]
  },
  {
   "cell_type": "code",
   "execution_count": 64,
   "metadata": {},
   "outputs": [
    {
     "data": {
      "text/plain": [
       "array([[[[0.05714286, 0.51428571],\n",
       "         [0.45714286, 0.11428571]],\n",
       "\n",
       "        [[0.16551724, 0.11034483],\n",
       "         [0.13793103, 0.13793103]]],\n",
       "\n",
       "\n",
       "       [[[0.04285714, 0.38571429],\n",
       "         [0.34285714, 0.08571429]],\n",
       "\n",
       "        [[0.43448276, 0.28965517],\n",
       "         [0.36206897, 0.36206897]]]])"
      ]
     },
     "execution_count": 64,
     "metadata": {},
     "output_type": "execute_result"
    }
   ],
   "source": [
    "P_YZ = np.sum(P_XYZT, axis=(0,3), keepdims=1)\n",
    "P_XTcondYZ = P_XYZT/P_YZ\n",
    "P_XTcondYZ"
   ]
  },
  {
   "cell_type": "markdown",
   "metadata": {},
   "source": [
    "Calculer à partir de `P_XTcondYZ` les tableaux à 3 dimensions `P_XcondYZ` et `P_TcondYZ` représentant respectivement les distributions $P(X|Y,Z)$ et $P(T|Y,Z)$. On rappelle que $$P(X|Y,Z)=∑_Y P(X,T|Y,Z)$$\n",
    "Check:\n",
    "`P_XcondYZ=\n",
    "[[[0.57142857 0.57142857]\n",
    "  [0.27586207 0.27586207]]\n",
    " [[0.42857143 0.42857143]\n",
    "  [0.72413793 0.72413793]]]\n",
    "`"
   ]
  },
  {
   "cell_type": "code",
   "execution_count": 65,
   "metadata": {},
   "outputs": [
    {
     "data": {
      "text/plain": [
       "array([[[0.57142857, 0.57142857],\n",
       "        [0.27586207, 0.27586207]],\n",
       "\n",
       "       [[0.42857143, 0.42857143],\n",
       "        [0.72413793, 0.72413793]]])"
      ]
     },
     "execution_count": 65,
     "metadata": {},
     "output_type": "execute_result"
    }
   ],
   "source": [
    "#votre code\n",
    "P_XcondYZ = P_XTcondYZ.sum(axis=3)\n",
    "P_TcondYZ = P_XTcondYZ.sum(axis=0)\n",
    "P_XcondYZ"
   ]
  },
  {
   "cell_type": "markdown",
   "metadata": {},
   "source": [
    "Enfin, tester si $X$ et $T$ sont indépendantes conditionnellement à $(Y,Z)$: si c'est bien le cas, on doit avoir $$P(X,T|Y,Z)=P(X|Y,Z)×P(T|Y,Z)$$ "
   ]
  },
  {
   "cell_type": "code",
   "execution_count": 66,
   "metadata": {},
   "outputs": [
    {
     "data": {
      "text/plain": [
       "True"
      ]
     },
     "execution_count": 66,
     "metadata": {},
     "output_type": "execute_result"
    }
   ],
   "source": [
    "P_XcondYZ = P_XTcondYZ.sum(axis=3, keepdims=1)\n",
    "P_TcondYZ = P_XTcondYZ.sum(axis=0, keepdims=1)\n",
    "np.allclose(P_XTcondYZ, P_XcondYZ * P_TcondYZ)"
   ]
  },
  {
   "cell_type": "markdown",
   "metadata": {},
   "source": [
    "### III.2- Indépendance de X et (Y,Z)\n",
    "\n",
    "On souhaite maintenant déterminer si $X$ et $(Y,Z)$ sont indépendantes. Pour cela, commencer par calculer à partir de `P_XYZT` le tableau `P_XYZ` représentant la distribution $P(X,Y,Z)$. \n",
    "\n",
    "Ensuite, calculer à partir de `P_XYZ` les tableaux `P_X` et `P_YZ` représentant respectivement les distributions $P(X)$ et $P(Y,Z)$. On rappelle que $$P(X)=∑_Y∑_Z P(X,Y,Z)$$\n",
    "\n",
    "Si vous ne vous êtes pas trompé(e), P_X doit être égal au tableau suivant : \n",
    "```\n",
    "np.array([ 0.4,  0.6])\n",
    "```"
   ]
  },
  {
   "cell_type": "code",
   "execution_count": 67,
   "metadata": {},
   "outputs": [
    {
     "data": {
      "text/plain": [
       "array([0.4, 0.6])"
      ]
     },
     "execution_count": 67,
     "metadata": {},
     "output_type": "execute_result"
    }
   ],
   "source": [
    "P_XYZ = P_XYZT.sum(axis=3) # On sum sur T\n",
    "P_X = P_XYZ.sum(axis=2).sum(axis=1) # On sum sur Z puis Y\n",
    "P_X"
   ]
  },
  {
   "cell_type": "markdown",
   "metadata": {},
   "source": [
    "Enfin, si $X$ et $(Y,Z)$ sont bien indépendantes, on doit avoir $$P(X,Y,Z)=P(X)×P(Y,Z)$$\n",
    "\n",
    "Check : Non, ce n'est pas indépendant"
   ]
  },
  {
   "cell_type": "code",
   "execution_count": 68,
   "metadata": {},
   "outputs": [
    {
     "data": {
      "text/plain": [
       "False"
      ]
     },
     "execution_count": 68,
     "metadata": {},
     "output_type": "execute_result"
    }
   ],
   "source": [
    "P_XYZ = P_XYZT.sum(axis=3, keepdims=1) # On sum sur T\n",
    "P_X = P_XYZ.sum(axis=2, keepdims=1).sum(axis=1, keepdims=1) # On sum sur Z puis Y \n",
    "P_YZ = np.sum(P_XYZT, axis=(0,3), keepdims=1)\n",
    "np.allclose(P_XYZ, P_X, P_YZ)"
   ]
  },
  {
   "cell_type": "markdown",
   "metadata": {},
   "source": [
    "## IV- Indépendances conditionnelles et consommation mémoire  (<font color=\"red\"> obligatoire</font>)\n",
    "\n",
    "Le but de cet exercice est d'exploiter les probabilités conditionnelles et les indépendances conditionnelles afin de décomposer une probabilité jointe en un produit de \"petites probabilités conditionnelles\". Cela permet de stocker des probabilités jointes de grandes tailles sur des ordinateurs \"standards\". Au cours de l'exercice, vous allez donc partir d'une probabilité jointe et, progressivement, construire un programme qui identifie ces indépendances conditionnelles.\n",
    "\n",
    "Pour simplifier, dans la suite de cet exercice, nous allons considérer un ensemble $X_0,…,X_n$ de variables aléatoires binaires (elles ne peuvent prendre que 2 valeurs : 0 et 1). \n",
    "\n",
    "### Simplification du code : utilisation de pyAgrum\n",
    "\n",
    "Manipuler des probabilités et des opérations sur des probabilités complexes est difficiles avec les outils classiques. La difficulté principale est certainement le problème du mapping entre axe et variable aléatoire. `pyAgrum` propose une gestion de `Potential` qui sont des tableaux multidimensionnels dont les axes sont caractérisés par des variables et sont donc non ambigüs.\n",
    "\n",
    "Par exemple, après l'initiation du `Potential PABCD` :"
   ]
  },
  {
   "cell_type": "code",
   "execution_count": 69,
   "metadata": {},
   "outputs": [],
   "source": [
    "import pyAgrum as gum\n",
    "import pyAgrum.lib.notebook as gnb\n",
    "\n",
    "X,Y,Z,T=[gum.LabelizedVariable(x,x,2) for x in \"XYZT\"]\n",
    "pXYZT=gum.Potential().add(T).add(Z).add(Y).add(X)\n",
    "pXYZT[:]=[[[[ 0.0192,  0.1728],\n",
    "            [ 0.0384,  0.0096]],\n",
    "           [[ 0.0768,  0.0512],\n",
    "            [ 0.016 ,  0.016 ]]],\n",
    "          [[[ 0.0144,  0.1296],\n",
    "            [ 0.0288,  0.0072]],\n",
    "           [[ 0.2016,  0.1344],\n",
    "            [ 0.042 ,  0.042 ]]]]"
   ]
  },
  {
   "cell_type": "markdown",
   "metadata": {},
   "source": [
    "On peut alors utiliser la méthode `margSumOut` qui supprime les variables par sommations: `p.margSumOut(['X','Y'])` correspond à calculer $\\sum_{X,Y} p$\n",
    "\n",
    "La réponse a question III.1 se calcule donc ainsi :"
   ]
  },
  {
   "cell_type": "code",
   "execution_count": 70,
   "metadata": {},
   "outputs": [
    {
     "name": "stdout",
     "output_type": "stream",
     "text": [
      "=> X et T sont indépendants conditionnellemnt à Y et Z\n"
     ]
    }
   ],
   "source": [
    "pXT_YZ=pXYZT/pXYZT.margSumOut(['X','T'])\n",
    "pX_YZ=pXT_YZ.margSumOut(['T'])\n",
    "pT_YZ=pXT_YZ.margSumOut(['X'])\n",
    "\n",
    "if pXT_YZ==pX_YZ*pT_YZ:\n",
    "    print(\"=> X et T sont indépendants conditionnellemnt à Y et Z\")\n",
    "else:\n",
    "    print(\"=> pas d'indépendance trouvée\")\n"
   ]
  },
  {
   "cell_type": "markdown",
   "metadata": {},
   "source": [
    "La réponse à la question III.2 se calcule ainsi :"
   ]
  },
  {
   "cell_type": "code",
   "execution_count": 71,
   "metadata": {},
   "outputs": [
    {
     "name": "stdout",
     "output_type": "stream",
     "text": [
      "=> pas d'indépendance trouvée\n"
     ]
    }
   ],
   "source": [
    "pXYZ=pXYZT.margSumOut(\"T\")\n",
    "pYZ=pXYZ.margSumOut(\"X\")\n",
    "pX=pXYZ.margSumOut([\"Y\",\"Z\"])\n",
    "if pXYZ==pX*pYZ:\n",
    "    print(\"=> X et YZ sont indépendants\")\n",
    "else:\n",
    "    print(\"=> pas d'indépendance trouvée\")"
   ]
  },
  {
   "cell_type": "code",
   "execution_count": 72,
   "metadata": {},
   "outputs": [
    {
     "data": {
      "text/html": [
       "<table style=\"border-style: hidden; border-collapse: collapse;\" width=\"100%\"><tr><td style=\"border-top:hidden;border-bottom:hidden;vertical-align:middle;\"><div align=\"center\" style=\"vertical-align:middle;\"><table style=\"border:1px solid black;\">\n",
       "<tr><th colspan='2'></th>\n",
       "      <th colspan='2' style='border:1px solid black;color:black;background-color:#808080;'><center>Z</center>\n",
       "      </th></tr>\n",
       "<tr><th style='border:1px solid black;color:black;background-color:#808080'><center>X</center></th><th style='border:1px solid black;color:black;background-color:#808080'><center>Y</center></th><th style='border:1px solid black;border-bottom-style: double;color:black;background-color:#BBBBBB'>\n",
       "      <center>0</center></th><th style='border:1px solid black;border-bottom-style: double;color:black;background-color:#BBBBBB'>\n",
       "      <center>1</center></th></tr>\n",
       "<tr><th style='border:1px solid black;color:black;background-color:#BBBBBB;' rowspan = '2'>\n",
       "            <center>0</center></th><th style='border:1px solid black;color:black;background-color:#BBBBBB'><center>0</center></th><td style='color:black;background-color:#e69764;text-align:right;'>0.1920</td><td style='color:black;background-color:#f88564;text-align:right;'>0.0480</td></tr>\n",
       "<tr><th style='border:1px solid black;color:black;background-color:#BBBBBB'><center>1</center></th><td style='color:black;background-color:#ee8f64;text-align:right;'>0.1280</td><td style='color:black;background-color:#fa8364;text-align:right;'>0.0320</td></tr>\n",
       "<tr><th style='border:1px solid black;color:black;background-color:#BBBBBB;' rowspan = '2'>\n",
       "            <center>1</center></th><th style='border:1px solid black;color:black;background-color:#BBBBBB'><center>0</center></th><td style='color:black;background-color:#ec9164;text-align:right;'>0.1440</td><td style='color:black;background-color:#fa8364;text-align:right;'>0.0360</td></tr>\n",
       "<tr><th style='border:1px solid black;color:black;background-color:#BBBBBB'><center>1</center></th><td style='color:black;background-color:#d3aa64;text-align:right;'>0.3360</td><td style='color:black;background-color:#f48964;text-align:right;'>0.0840</td></tr>\n",
       "</table><br><small><i>$P(X,Y,Z)$</i></small></div></td><td style=\"border-top:hidden;border-bottom:hidden;vertical-align:middle;\"><div align=\"center\" style=\"vertical-align:middle;\"><table style=\"border:1px solid black;\">\n",
       "<tr style='border:1px solid black;color:black;background-color:#808080'>\n",
       "      <th colspan='2'><center>X</center></th></tr>\n",
       "<tr><th style='border:1px solid black;border-bottom-style: double;color:black;background-color:#BBBBBB'>\n",
       "      <center>0</center></th><th style='border:1px solid black;border-bottom-style: double;color:black;background-color:#BBBBBB'>\n",
       "      <center>1</center></th></tr>\n",
       "<tr><td style='color:black;background-color:#cbb264;text-align:right;'>0.4000</td><td style='color:black;background-color:#b2cb64;text-align:right;'>0.6000</td></tr>\n",
       "</table><br><small><i>$P(X)$</i></small></div></td><td style=\"border-top:hidden;border-bottom:hidden;vertical-align:middle;\"><div align=\"center\" style=\"vertical-align:middle;\"><table style=\"border:1px solid black;\">\n",
       "<tr><th colspan='1'></th>\n",
       "      <th colspan='2' style='border:1px solid black;color:black;background-color:#808080;'><center>Z</center>\n",
       "      </th></tr>\n",
       "<tr><th style='border:1px solid black;color:black;background-color:#808080'><center>Y</center></th><th style='border:1px solid black;border-bottom-style: double;color:black;background-color:#BBBBBB'>\n",
       "      <center>0</center></th><th style='border:1px solid black;border-bottom-style: double;color:black;background-color:#BBBBBB'>\n",
       "      <center>1</center></th></tr>\n",
       "<tr><th style='border:1px solid black;color:black;background-color:#BBBBBB'><center>0</center></th><td style='color:black;background-color:#d3aa64;text-align:right;'>0.3360</td><td style='color:black;background-color:#f48964;text-align:right;'>0.0840</td></tr>\n",
       "<tr><th style='border:1px solid black;color:black;background-color:#BBBBBB'><center>1</center></th><td style='color:black;background-color:#c3ba64;text-align:right;'>0.4640</td><td style='color:black;background-color:#f08d64;text-align:right;'>0.1160</td></tr>\n",
       "</table><br><small><i>$P(Y,Z)$</i></small></div></td><td style=\"border-top:hidden;border-bottom:hidden;vertical-align:middle;\"><div align=\"center\" style=\"vertical-align:middle;\"><table style=\"border:1px solid black;\">\n",
       "<tr><th colspan='2'></th>\n",
       "      <th colspan='2' style='border:1px solid black;color:black;background-color:#808080;'><center>Z</center>\n",
       "      </th></tr>\n",
       "<tr><th style='border:1px solid black;color:black;background-color:#808080'><center>X</center></th><th style='border:1px solid black;color:black;background-color:#808080'><center>Y</center></th><th style='border:1px solid black;border-bottom-style: double;color:black;background-color:#BBBBBB'>\n",
       "      <center>0</center></th><th style='border:1px solid black;border-bottom-style: double;color:black;background-color:#BBBBBB'>\n",
       "      <center>1</center></th></tr>\n",
       "<tr><th style='border:1px solid black;color:black;background-color:#BBBBBB;' rowspan = '2'>\n",
       "            <center>0</center></th><th style='border:1px solid black;color:black;background-color:#BBBBBB'><center>0</center></th><td style='color:black;background-color:#ed9064;text-align:right;'>0.1344</td><td style='color:black;background-color:#fa8364;text-align:right;'>0.0336</td></tr>\n",
       "<tr><th style='border:1px solid black;color:black;background-color:#BBBBBB'><center>1</center></th><td style='color:black;background-color:#e79664;text-align:right;'>0.1856</td><td style='color:black;background-color:#f98464;text-align:right;'>0.0464</td></tr>\n",
       "<tr><th style='border:1px solid black;color:black;background-color:#BBBBBB;' rowspan = '2'>\n",
       "            <center>1</center></th><th style='border:1px solid black;color:black;background-color:#BBBBBB'><center>0</center></th><td style='color:black;background-color:#e59864;text-align:right;'>0.2016</td><td style='color:black;background-color:#f88564;text-align:right;'>0.0504</td></tr>\n",
       "<tr><th style='border:1px solid black;color:black;background-color:#BBBBBB'><center>1</center></th><td style='color:black;background-color:#dba264;text-align:right;'>0.2784</td><td style='color:black;background-color:#f68764;text-align:right;'>0.0696</td></tr>\n",
       "</table><br><small><i>$P(X)\\cdot P(Y,Z)$</i></small></div></td></tr></table>"
      ],
      "text/plain": [
       "<IPython.core.display.HTML object>"
      ]
     },
     "metadata": {},
     "output_type": "display_data"
    }
   ],
   "source": [
    "gnb.sideBySide(pXYZ,pX,pYZ,pX*pYZ,\n",
    "               captions=['$P(X,Y,Z)$','$P(X)$','$P(Y,Z)$','$P(X)\\cdot P(Y,Z)$'])"
   ]
  },
  {
   "cell_type": "markdown",
   "metadata": {},
   "source": [
    "`asia.txt` contient la description d'une probabilité jointe sur un ensemble de $8$ variables aléatoires binaires (256 paramètres). Le fichier est produit à partir du site web suivant `http://www.bnlearn.com/bnrepository/`.\n",
    "\n",
    "Le code suivant permet de lire ce fichier et d'en récupérer la probabilité jointe (sous forme d'une `gum.Potential`) qu'il contient : "
   ]
  },
  {
   "cell_type": "code",
   "execution_count": 73,
   "metadata": {},
   "outputs": [
    {
     "name": "stdout",
     "output_type": "stream",
     "text": [
      "Les variables : ['visit_to_Asia?', 'tuberculosis?', 'smoking?', 'lung_cancer?', 'tuberculosis_or_lung_cancer?', 'bronchitis?', 'positive_Xray?', 'dyspnoea?']\n"
     ]
    }
   ],
   "source": [
    "def read_file ( filename ):\n",
    "    \"\"\"\n",
    "    Renvoie les variables aléatoires et la probabilité contenues dans le\n",
    "    fichier dont le nom est passé en argument.\n",
    "    \"\"\"\n",
    "    Pres = gum.Potential ()\n",
    "    vars=[]\n",
    "\n",
    "    with open ( filename, 'r' ) as fic:\n",
    "        # on rajoute les variables dans le potentiel\n",
    "        nb_vars = int ( fic.readline () )\n",
    "        for i in range ( nb_vars ):\n",
    "            name, domsize = fic.readline ().split ()\n",
    "            vars.append(name)\n",
    "            variable = gum.LabelizedVariable(name,name,int (domsize))\n",
    "            Pres.add(variable)\n",
    "\n",
    "        # on rajoute les valeurs de proba dans le potentiel\n",
    "        cpt = []\n",
    "        for line in fic:\n",
    "            cpt.append ( float(line) )\n",
    "        Pres.fillWith( cpt )\n",
    "    return vars,Pres\n",
    "\n",
    "vars,Pjointe=read_file('asia.txt')\n",
    "print('Les variables : '+str(vars))\n",
    "\n",
    "# afficher Pjointe est un peu délicat (retire le commentaire de la ligne suivante)\n",
    "# Pjointe"
   ]
  },
  {
   "cell_type": "code",
   "execution_count": 74,
   "metadata": {},
   "outputs": [
    {
     "data": {
      "text/html": [
       "<table style=\"border:1px solid black;\">\n",
       "<tr><th colspan='1'></th>\n",
       "      <th colspan='2' style='border:1px solid black;color:black;background-color:#808080;'><center>tuberculosis?</center>\n",
       "      </th></tr>\n",
       "<tr><th style='border:1px solid black;color:black;background-color:#808080'><center>lung_cancer?</center></th><th style='border:1px solid black;border-bottom-style: double;color:black;background-color:#BBBBBB'>\n",
       "      <center>0</center></th><th style='border:1px solid black;border-bottom-style: double;color:black;background-color:#BBBBBB'>\n",
       "      <center>1</center></th></tr>\n",
       "<tr><th style='border:1px solid black;color:black;background-color:#BBBBBB'><center>0</center></th><td style='color:black;background-color:#fe7f64;text-align:right;'>0.0006</td><td style='color:black;background-color:#f88564;text-align:right;'>0.0544</td></tr>\n",
       "<tr><th style='border:1px solid black;color:black;background-color:#BBBBBB'><center>1</center></th><td style='color:black;background-color:#fd8064;text-align:right;'>0.0098</td><td style='color:black;background-color:#87f664;text-align:right;'>0.9352</td></tr>\n",
       "</table>"
      ],
      "text/plain": [
       "(pyAgrum.Potential<double>@0x31061c0) \n",
       "      ||  tuberculosis?    |\n",
       "lung_c||0        |1        |\n",
       "------||---------|---------|\n",
       "0     || 0.0006  | 0.0544  |\n",
       "1     || 0.0098  | 0.9352  |"
      ]
     },
     "execution_count": 74,
     "metadata": {},
     "output_type": "execute_result"
    }
   ],
   "source": [
    "# Noter qu'il existe une fonction margSumIn qui, à l'inverse de MargSumOut, élimine \n",
    "# toutes les variables qui ne sont pas dans les arguments\n",
    "Pjointe.margSumIn(['tuberculosis?','lung_cancer?'])"
   ]
  },
  {
   "cell_type": "markdown",
   "metadata": {},
   "source": [
    "### IV.1- test d'indépendance conditionnelle\n",
    "\n",
    "En utilisant la méthode `margSumIn` (voir juste au dessus), écrire une fonction `conditional_indep: Potential,str,str,list[str]->bool` qui rend vrai si dans le `Potential`, on peut lire l'indépendance conditionnelle.\n",
    "\n",
    "Par exemple, l'appel\n",
    "\n",
    "`conditional_indep(Pjointe,'bronchitis?', 'positive_Xray?',['tuberculosis?','lung_cancer?'])` \n",
    "\n",
    "vérifie si bronchitis est indépendant de `posititve_Xray` conditionnellement à `tuberculosis?` et `lung_cancer?`\n",
    "\n",
    "D'un point de vue général, on vérifie que $X$ et $Y$ sont indépendants conditionnellement à $Z_1,\\cdots,Z_d$ par l'égalité :\n",
    "$$P(X,Y|Z_1,\\cdots,Z_d)=P(X|Z_1,\\cdot,Z_d)\\cdot P(Y|Z_1,\\cdots,Z_d)$$\n",
    "\n",
    "Ces trois probabilités sont calculables à partir de la loi jointe de $P(X,Y,Z_1,\\cdots,Z_d)$.\n",
    "\n",
    "<em>Remarque</em> Vérifier l'égalité `P==Q` de 2 `Potential` peut être problématique si les 2 sont des résultats de calcul : il peut exister une petite variation. Un meilleur test est de vérifier `(P-Q).abs().max()<epsilon` avec `epsilon` assez petit."
   ]
  },
  {
   "cell_type": "code",
   "execution_count": 75,
   "metadata": {},
   "outputs": [],
   "source": [
    "def conditional_indep(P,X,Y,Zs=[], epsilon=0.001):\n",
    "    if Zs == []: # Si pas de sachan que\n",
    "        # Il aurait été plus utile de faire un sumOut partout pour handle cette possibilité\n",
    "        return (P.margSumIn([X,Y]) - P.margSumIn(X)*P.margSumIn(Y)).abs().max() < epsilon \n",
    "    else:\n",
    "        P_XYZs = P.margSumIn([X, Y]+Zs)\n",
    "        P_XY_Zs = P_XYZs/P.margSumIn(Zs)\n",
    "        P_X_Zs = P.margSumIn([X]+Zs)/P.margSumIn(Zs)\n",
    "        P_Y_Zs = P.margSumIn([Y]+Zs)/P.margSumIn(Zs)\n",
    "    return (P_XY_Zs - P_X_Zs * P_Y_Zs).abs().max()<epsilon"
   ]
  },
  {
   "cell_type": "code",
   "execution_count": 76,
   "metadata": {},
   "outputs": [
    {
     "data": {
      "text/plain": [
       "True"
      ]
     },
     "execution_count": 76,
     "metadata": {},
     "output_type": "execute_result"
    }
   ],
   "source": [
    "conditional_indep(Pjointe,\n",
    "                  'bronchitis?', \n",
    "                  'positive_Xray?',\n",
    "                  ['tuberculosis?','lung_cancer?'])\n",
    "# Test : doit renvoyer True"
   ]
  },
  {
   "cell_type": "code",
   "execution_count": 77,
   "metadata": {},
   "outputs": [
    {
     "data": {
      "text/plain": [
       "True"
      ]
     },
     "execution_count": 77,
     "metadata": {},
     "output_type": "execute_result"
    }
   ],
   "source": [
    "conditional_indep(Pjointe,\n",
    "                  'bronchitis?', \n",
    "                  'visit_to_Asia?',\n",
    "                  [])\n",
    "# Test : doit renvoyer True"
   ]
  },
  {
   "cell_type": "markdown",
   "metadata": {},
   "source": [
    "### IV.2- Factorisation compacte de loi jointe\n",
    "\n",
    "On sait que si un ensemble de variables aléatoires ${\\cal S} = \\{X_{i_0},\\ldots,X_{i_{n-1}}\\}$ peut être partitionné en deux sous-ensembles $\\cal K$ et $\\cal L$ (c'est-à-dire tels que ${\\cal K} \\cap {\\cal L} = \\emptyset$ et ${\\cal K} \\cup {\\cal L} = \\{X_{i_0},\\ldots,X_{i_{n-1}}\\}$) tels qu'une variable $X_{i_n}$ est indépendante de ${\\cal L}$ conditionnellement à ${\\cal K}$, alors:\n",
    "\n",
    "$$P(X_{i_n}|X_{i_0},\\ldots,X_{i_{n-1}}) = P(X_{i_n} | {\\cal K},{\\cal L}) = P(X_{i_n} | {\\cal K})$$\n",
    "\n",
    "C'est ce que nous avons vu au cours n°2 (cf. définition des probabilités conditionnelles). Cette formule est intéressante car elle permet de réduire la taille mémoire consommée pour stocker $P(X_{i_n}|X_{i_0},\\ldots,X_{i_{n-1}})$: il suffit en effet de stocker uniquement $P(X_{i_n} | {\\cal K})$ pour obtenir la même information."
   ]
  },
  {
   "cell_type": "markdown",
   "metadata": {},
   "source": [
    "Écrire une fonction `compact_conditional_proba: Potential,str-> Potential` qui, étant donné une probabilité jointe $P(X_{i_0},\\ldots,X_{i_n})$, une variable aléatoire $X_{i_n}$, retourne cette probabilité conditionnelle $P(X_{i_n} | {\\cal K})$. Pour cela, nous vous proposons l'algorithme itératif suivant:\n",
    "\n",
    "```\n",
    "K=S\n",
    "Pour tout X in K:\n",
    "  Si X indépendante de Xin conditionnellement à K\\{X) alors\n",
    "    Supprimer X de K\n",
    "retourner P(Xin|K)$\n",
    "```\n",
    "\n",
    "Trois petites aides :\n",
    "\n",
    "1- La fonction precédente `conditional_indep` devrait vous servir...\n",
    "\n",
    "2- Obtenir la liste des noms des variables dans un `Potential` se fait par l'attribut  \n",
    "```\n",
    "P.var_names\n",
    "```\n",
    "\n",
    "3- Afin que l'affichage soit plus facile à comprendre, il peut être judicieux de placer la variable $X_{i_n}$ en premier dans la liste des variables du Potential, ce que l'on peut faire avec le code suivant : \n",
    "```\n",
    "proba = proba.putFirst(Xin)\n",
    "```\n",
    "\n"
   ]
  },
  {
   "cell_type": "code",
   "execution_count": 78,
   "metadata": {},
   "outputs": [],
   "source": [
    "def compact_conditional_proba(P,X, epsilon=0.001):\n",
    "    # P.putFirst(X)\n",
    "    K = list(P.names)\n",
    "    K.remove(X)\n",
    "    for var in K:\n",
    "        if conditional_indep(P, X, var, epsilon=epsilon):\n",
    "            K.remove(var)\n",
    "    return P.margSumIn(K+[X])"
   ]
  },
  {
   "cell_type": "markdown",
   "metadata": {},
   "source": [
    "Le compactage de la loi jointe par rapport à `visit_to_Asia?` doit donner:\n",
    "<img src=\"compact_asia.png\" title=\"Distribution compacte\">\n",
    "On voit bien que la cible ne dépend plus de toutes les autres variables"
   ]
  },
  {
   "cell_type": "code",
   "execution_count": 79,
   "metadata": {},
   "outputs": [
    {
     "data": {
      "text/html": [
       "<table style=\"border:1px solid black;\">\n",
       "<tr><th colspan='3'></th>\n",
       "      <th colspan='2' style='border:1px solid black;color:black;background-color:#808080;'><center>visit_to_Asia?</center>\n",
       "      </th></tr>\n",
       "<tr><th style='border:1px solid black;color:black;background-color:#808080'><center>positive_Xray?</center></th><th style='border:1px solid black;color:black;background-color:#808080'><center>tuberculosis_or_lung_cancer?</center></th><th style='border:1px solid black;color:black;background-color:#808080'><center>smoking?</center></th><th style='border:1px solid black;border-bottom-style: double;color:black;background-color:#BBBBBB'>\n",
       "      <center>0</center></th><th style='border:1px solid black;border-bottom-style: double;color:black;background-color:#BBBBBB'>\n",
       "      <center>1</center></th></tr>\n",
       "<tr><th style='border:1px solid black;color:black;background-color:#BBBBBB;' rowspan = '4'>\n",
       "            <center>0</center></th><th style='border:1px solid black;color:black;background-color:#BBBBBB;' rowspan = '2'>\n",
       "            <center>0</center></th><th style='border:1px solid black;color:black;background-color:#BBBBBB'><center>0</center></th><td style='color:black;background-color:#fe7f64;text-align:right;'>0.0007</td><td style='color:black;background-color:#f78664;text-align:right;'>0.0567</td></tr>\n",
       "<tr><th style='border:1px solid black;color:black;background-color:#BBBBBB'><center>1</center></th><td style='color:black;background-color:#fe7f64;text-align:right;'>0.0003</td><td style='color:black;background-color:#fd8064;text-align:right;'>0.0143</td></tr>\n",
       "<tr><th style='border:1px solid black;color:black;background-color:#BBBBBB;' rowspan = '2'>\n",
       "            <center>1</center></th><th style='border:1px solid black;color:black;background-color:#BBBBBB'><center>0</center></th><td style='color:black;background-color:#fe7f64;text-align:right;'>0.0002</td><td style='color:black;background-color:#fc8164;text-align:right;'>0.0219</td></tr>\n",
       "<tr><th style='border:1px solid black;color:black;background-color:#BBBBBB'><center>1</center></th><td style='color:black;background-color:#fe7f64;text-align:right;'>0.0002</td><td style='color:black;background-color:#fb8264;text-align:right;'>0.0240</td></tr>\n",
       "<tr><th style='border:1px solid black;color:black;background-color:#BBBBBB;' rowspan = '4'>\n",
       "            <center>1</center></th><th style='border:1px solid black;color:black;background-color:#BBBBBB;' rowspan = '2'>\n",
       "            <center>0</center></th><th style='border:1px solid black;color:black;background-color:#BBBBBB'><center>0</center></th><td style='color:black;background-color:#fe7f64;text-align:right;'>0.0000</td><td style='color:black;background-color:#fe7f64;text-align:right;'>0.0012</td></tr>\n",
       "<tr><th style='border:1px solid black;color:black;background-color:#BBBBBB'><center>1</center></th><td style='color:black;background-color:#fe7f64;text-align:right;'>0.0000</td><td style='color:black;background-color:#fe7f64;text-align:right;'>0.0003</td></tr>\n",
       "<tr><th style='border:1px solid black;color:black;background-color:#BBBBBB;' rowspan = '2'>\n",
       "            <center>1</center></th><th style='border:1px solid black;color:black;background-color:#BBBBBB'><center>0</center></th><td style='color:black;background-color:#fe7f64;text-align:right;'>0.0040</td><td style='color:black;background-color:#c9b464;text-align:right;'>0.4153</td></tr>\n",
       "<tr><th style='border:1px solid black;color:black;background-color:#BBBBBB'><center>1</center></th><td style='color:black;background-color:#fe7f64;text-align:right;'>0.0044</td><td style='color:black;background-color:#c4b964;text-align:right;'>0.4564</td></tr>\n",
       "</table>"
      ],
      "text/plain": [
       "(pyAgrum.Potential<double>@0x2cbece0) \n",
       "                    ||  visit_to_Asia?   |\n",
       "smokin|tuberc|positi||0        |1        |\n",
       "------|------|------||---------|---------|\n",
       "0     |0     |0     || 0.0007  | 0.0567  |\n",
       "1     |0     |0     || 0.0003  | 0.0143  |\n",
       "0     |1     |0     || 0.0002  | 0.0219  |\n",
       "1     |1     |0     || 0.0002  | 0.0240  |\n",
       "0     |0     |1     || 0.0000  | 0.0012  |\n",
       "1     |0     |1     || 0.0000  | 0.0003  |\n",
       "0     |1     |1     || 0.0040  | 0.4153  |\n",
       "1     |1     |1     || 0.0044  | 0.4564  |"
      ]
     },
     "execution_count": 79,
     "metadata": {},
     "output_type": "execute_result"
    }
   ],
   "source": [
    "compact_conditional_proba(Pjointe,\"visit_to_Asia?\")"
   ]
  },
  {
   "cell_type": "code",
   "execution_count": 80,
   "metadata": {},
   "outputs": [
    {
     "data": {
      "text/html": [
       "<table style=\"border:1px solid black;\">\n",
       "<tr><th colspan='6'></th>\n",
       "      <th colspan='2' style='border:1px solid black;color:black;background-color:#808080;'><center>tuberculosis?</center>\n",
       "      </th></tr>\n",
       "<tr><th style='border:1px solid black;color:black;background-color:#808080'><center>dyspnoea?</center></th><th style='border:1px solid black;color:black;background-color:#808080'><center>positive_Xray?</center></th><th style='border:1px solid black;color:black;background-color:#808080'><center>bronchitis?</center></th><th style='border:1px solid black;color:black;background-color:#808080'><center>tuberculosis_or_lung_cancer?</center></th><th style='border:1px solid black;color:black;background-color:#808080'><center>lung_cancer?</center></th><th style='border:1px solid black;color:black;background-color:#808080'><center>smoking?</center></th><th style='border:1px solid black;border-bottom-style: double;color:black;background-color:#BBBBBB'>\n",
       "      <center>0</center></th><th style='border:1px solid black;border-bottom-style: double;color:black;background-color:#BBBBBB'>\n",
       "      <center>1</center></th></tr>\n",
       "<tr><th style='border:1px solid black;color:black;background-color:#BBBBBB;' rowspan = '32'>\n",
       "            <center>0</center></th><th style='border:1px solid black;color:black;background-color:#BBBBBB;' rowspan = '16'>\n",
       "            <center>0</center></th><th style='border:1px solid black;color:black;background-color:#BBBBBB;' rowspan = '8'>\n",
       "            <center>0</center></th><th style='border:1px solid black;color:black;background-color:#BBBBBB;' rowspan = '4'>\n",
       "            <center>0</center></th><th style='border:1px solid black;color:black;background-color:#BBBBBB;' rowspan = '2'>\n",
       "            <center>0</center></th><th style='border:1px solid black;color:black;background-color:#BBBBBB'><center>0</center></th><td style='color:black;background-color:#fe7f64;text-align:right;'>0.0003</td><td style='color:black;background-color:#fb8264;text-align:right;'>0.0259</td></tr>\n",
       "<tr><th style='border:1px solid black;color:black;background-color:#BBBBBB'><center>1</center></th><td style='color:black;background-color:#fe7f64;text-align:right;'>0.0000</td><td style='color:black;background-color:#fe7f64;text-align:right;'>0.0013</td></tr>\n",
       "<tr><th style='border:1px solid black;color:black;background-color:#BBBBBB;' rowspan = '2'>\n",
       "            <center>1</center></th><th style='border:1px solid black;color:black;background-color:#BBBBBB'><center>0</center></th><td style='color:black;background-color:#fe7f64;text-align:right;'>0.0025</td><td style='color:black;background-color:#fe7f64;text-align:right;'>0.0024</td></tr>\n",
       "<tr><th style='border:1px solid black;color:black;background-color:#BBBBBB'><center>1</center></th><td style='color:black;background-color:#fe7f64;text-align:right;'>0.0013</td><td style='color:black;background-color:#fe7f64;text-align:right;'>0.0013</td></tr>\n",
       "<tr><th style='border:1px solid black;color:black;background-color:#BBBBBB;' rowspan = '4'>\n",
       "            <center>1</center></th><th style='border:1px solid black;color:black;background-color:#BBBBBB;' rowspan = '2'>\n",
       "            <center>0</center></th><th style='border:1px solid black;color:black;background-color:#BBBBBB'><center>0</center></th><td style='color:black;background-color:#fe7f64;text-align:right;'>0.0000</td><td style='color:black;background-color:#fe7f64;text-align:right;'>0.0000</td></tr>\n",
       "<tr><th style='border:1px solid black;color:black;background-color:#BBBBBB'><center>1</center></th><td style='color:black;background-color:#fe7f64;text-align:right;'>0.0000</td><td style='color:black;background-color:#fe7f64;text-align:right;'>0.0000</td></tr>\n",
       "<tr><th style='border:1px solid black;color:black;background-color:#BBBBBB;' rowspan = '2'>\n",
       "            <center>1</center></th><th style='border:1px solid black;color:black;background-color:#BBBBBB'><center>0</center></th><td style='color:black;background-color:#fe7f64;text-align:right;'>0.0000</td><td style='color:black;background-color:#fd8064;text-align:right;'>0.0093</td></tr>\n",
       "<tr><th style='border:1px solid black;color:black;background-color:#BBBBBB'><center>1</center></th><td style='color:black;background-color:#fe7f64;text-align:right;'>0.0000</td><td style='color:black;background-color:#fe7f64;text-align:right;'>0.0051</td></tr>\n",
       "<tr><th style='border:1px solid black;color:black;background-color:#BBBBBB;' rowspan = '8'>\n",
       "            <center>1</center></th><th style='border:1px solid black;color:black;background-color:#BBBBBB;' rowspan = '4'>\n",
       "            <center>0</center></th><th style='border:1px solid black;color:black;background-color:#BBBBBB;' rowspan = '2'>\n",
       "            <center>0</center></th><th style='border:1px solid black;color:black;background-color:#BBBBBB'><center>0</center></th><td style='color:black;background-color:#fe7f64;text-align:right;'>0.0002</td><td style='color:black;background-color:#fd8064;text-align:right;'>0.0154</td></tr>\n",
       "<tr><th style='border:1px solid black;color:black;background-color:#BBBBBB'><center>1</center></th><td style='color:black;background-color:#fe7f64;text-align:right;'>0.0000</td><td style='color:black;background-color:#fe7f64;text-align:right;'>0.0027</td></tr>\n",
       "<tr><th style='border:1px solid black;color:black;background-color:#BBBBBB;' rowspan = '2'>\n",
       "            <center>1</center></th><th style='border:1px solid black;color:black;background-color:#BBBBBB'><center>0</center></th><td style='color:black;background-color:#fe7f64;text-align:right;'>0.0015</td><td style='color:black;background-color:#fe7f64;text-align:right;'>0.0014</td></tr>\n",
       "<tr><th style='border:1px solid black;color:black;background-color:#BBBBBB'><center>1</center></th><td style='color:black;background-color:#fe7f64;text-align:right;'>0.0028</td><td style='color:black;background-color:#fe7f64;text-align:right;'>0.0027</td></tr>\n",
       "<tr><th style='border:1px solid black;color:black;background-color:#BBBBBB;' rowspan = '4'>\n",
       "            <center>1</center></th><th style='border:1px solid black;color:black;background-color:#BBBBBB;' rowspan = '2'>\n",
       "            <center>0</center></th><th style='border:1px solid black;color:black;background-color:#BBBBBB'><center>0</center></th><td style='color:black;background-color:#fe7f64;text-align:right;'>0.0000</td><td style='color:black;background-color:#fe7f64;text-align:right;'>0.0000</td></tr>\n",
       "<tr><th style='border:1px solid black;color:black;background-color:#BBBBBB'><center>1</center></th><td style='color:black;background-color:#fe7f64;text-align:right;'>0.0000</td><td style='color:black;background-color:#fe7f64;text-align:right;'>0.0000</td></tr>\n",
       "<tr><th style='border:1px solid black;color:black;background-color:#BBBBBB;' rowspan = '2'>\n",
       "            <center>1</center></th><th style='border:1px solid black;color:black;background-color:#BBBBBB'><center>0</center></th><td style='color:black;background-color:#fe7f64;text-align:right;'>0.0000</td><td style='color:black;background-color:#fe7f64;text-align:right;'>0.0009</td></tr>\n",
       "<tr><th style='border:1px solid black;color:black;background-color:#BBBBBB'><center>1</center></th><td style='color:black;background-color:#fe7f64;text-align:right;'>0.0000</td><td style='color:black;background-color:#fe7f64;text-align:right;'>0.0017</td></tr>\n",
       "<tr><th style='border:1px solid black;color:black;background-color:#BBBBBB;' rowspan = '16'>\n",
       "            <center>1</center></th><th style='border:1px solid black;color:black;background-color:#BBBBBB;' rowspan = '8'>\n",
       "            <center>0</center></th><th style='border:1px solid black;color:black;background-color:#BBBBBB;' rowspan = '4'>\n",
       "            <center>0</center></th><th style='border:1px solid black;color:black;background-color:#BBBBBB;' rowspan = '2'>\n",
       "            <center>0</center></th><th style='border:1px solid black;color:black;background-color:#BBBBBB'><center>0</center></th><td style='color:black;background-color:#fe7f64;text-align:right;'>0.0000</td><td style='color:black;background-color:#fe7f64;text-align:right;'>0.0005</td></tr>\n",
       "<tr><th style='border:1px solid black;color:black;background-color:#BBBBBB'><center>1</center></th><td style='color:black;background-color:#fe7f64;text-align:right;'>0.0000</td><td style='color:black;background-color:#fe7f64;text-align:right;'>0.0000</td></tr>\n",
       "<tr><th style='border:1px solid black;color:black;background-color:#BBBBBB;' rowspan = '2'>\n",
       "            <center>1</center></th><th style='border:1px solid black;color:black;background-color:#BBBBBB'><center>0</center></th><td style='color:black;background-color:#fe7f64;text-align:right;'>0.0001</td><td style='color:black;background-color:#fe7f64;text-align:right;'>0.0000</td></tr>\n",
       "<tr><th style='border:1px solid black;color:black;background-color:#BBBBBB'><center>1</center></th><td style='color:black;background-color:#fe7f64;text-align:right;'>0.0000</td><td style='color:black;background-color:#fe7f64;text-align:right;'>0.0000</td></tr>\n",
       "<tr><th style='border:1px solid black;color:black;background-color:#BBBBBB;' rowspan = '4'>\n",
       "            <center>1</center></th><th style='border:1px solid black;color:black;background-color:#BBBBBB;' rowspan = '2'>\n",
       "            <center>0</center></th><th style='border:1px solid black;color:black;background-color:#BBBBBB'><center>0</center></th><td style='color:black;background-color:#fe7f64;text-align:right;'>0.0000</td><td style='color:black;background-color:#fe7f64;text-align:right;'>0.0002</td></tr>\n",
       "<tr><th style='border:1px solid black;color:black;background-color:#BBBBBB'><center>1</center></th><td style='color:black;background-color:#fe7f64;text-align:right;'>0.0000</td><td style='color:black;background-color:#fe7f64;text-align:right;'>0.0000</td></tr>\n",
       "<tr><th style='border:1px solid black;color:black;background-color:#BBBBBB;' rowspan = '2'>\n",
       "            <center>1</center></th><th style='border:1px solid black;color:black;background-color:#BBBBBB'><center>0</center></th><td style='color:black;background-color:#fe7f64;text-align:right;'>0.0000</td><td style='color:black;background-color:#e89564;text-align:right;'>0.1759</td></tr>\n",
       "<tr><th style='border:1px solid black;color:black;background-color:#BBBBBB'><center>1</center></th><td style='color:black;background-color:#fe7f64;text-align:right;'>0.0000</td><td style='color:black;background-color:#f28b64;text-align:right;'>0.0967</td></tr>\n",
       "<tr><th style='border:1px solid black;color:black;background-color:#BBBBBB;' rowspan = '8'>\n",
       "            <center>1</center></th><th style='border:1px solid black;color:black;background-color:#BBBBBB;' rowspan = '4'>\n",
       "            <center>0</center></th><th style='border:1px solid black;color:black;background-color:#BBBBBB;' rowspan = '2'>\n",
       "            <center>0</center></th><th style='border:1px solid black;color:black;background-color:#BBBBBB'><center>0</center></th><td style='color:black;background-color:#fe7f64;text-align:right;'>0.0000</td><td style='color:black;background-color:#fe7f64;text-align:right;'>0.0003</td></tr>\n",
       "<tr><th style='border:1px solid black;color:black;background-color:#BBBBBB'><center>1</center></th><td style='color:black;background-color:#fe7f64;text-align:right;'>0.0000</td><td style='color:black;background-color:#fe7f64;text-align:right;'>0.0001</td></tr>\n",
       "<tr><th style='border:1px solid black;color:black;background-color:#BBBBBB;' rowspan = '2'>\n",
       "            <center>1</center></th><th style='border:1px solid black;color:black;background-color:#BBBBBB'><center>0</center></th><td style='color:black;background-color:#fe7f64;text-align:right;'>0.0000</td><td style='color:black;background-color:#fe7f64;text-align:right;'>0.0000</td></tr>\n",
       "<tr><th style='border:1px solid black;color:black;background-color:#BBBBBB'><center>1</center></th><td style='color:black;background-color:#fe7f64;text-align:right;'>0.0001</td><td style='color:black;background-color:#fe7f64;text-align:right;'>0.0001</td></tr>\n",
       "<tr><th style='border:1px solid black;color:black;background-color:#BBBBBB;' rowspan = '4'>\n",
       "            <center>1</center></th><th style='border:1px solid black;color:black;background-color:#BBBBBB;' rowspan = '2'>\n",
       "            <center>0</center></th><th style='border:1px solid black;color:black;background-color:#BBBBBB'><center>0</center></th><td style='color:black;background-color:#fe7f64;text-align:right;'>0.0000</td><td style='color:black;background-color:#fe7f64;text-align:right;'>0.0000</td></tr>\n",
       "<tr><th style='border:1px solid black;color:black;background-color:#BBBBBB'><center>1</center></th><td style='color:black;background-color:#fe7f64;text-align:right;'>0.0000</td><td style='color:black;background-color:#fe7f64;text-align:right;'>0.0000</td></tr>\n",
       "<tr><th style='border:1px solid black;color:black;background-color:#BBBBBB;' rowspan = '2'>\n",
       "            <center>1</center></th><th style='border:1px solid black;color:black;background-color:#BBBBBB'><center>0</center></th><td style='color:black;background-color:#fe7f64;text-align:right;'>0.0000</td><td style='color:black;background-color:#fc8164;text-align:right;'>0.0168</td></tr>\n",
       "<tr><th style='border:1px solid black;color:black;background-color:#BBBBBB'><center>1</center></th><td style='color:black;background-color:#fe7f64;text-align:right;'>0.0000</td><td style='color:black;background-color:#fa8364;text-align:right;'>0.0322</td></tr>\n",
       "<tr><th style='border:1px solid black;color:black;background-color:#BBBBBB;' rowspan = '32'>\n",
       "            <center>1</center></th><th style='border:1px solid black;color:black;background-color:#BBBBBB;' rowspan = '16'>\n",
       "            <center>0</center></th><th style='border:1px solid black;color:black;background-color:#BBBBBB;' rowspan = '8'>\n",
       "            <center>0</center></th><th style='border:1px solid black;color:black;background-color:#BBBBBB;' rowspan = '4'>\n",
       "            <center>0</center></th><th style='border:1px solid black;color:black;background-color:#BBBBBB;' rowspan = '2'>\n",
       "            <center>0</center></th><th style='border:1px solid black;color:black;background-color:#BBBBBB'><center>0</center></th><td style='color:black;background-color:#fe7f64;text-align:right;'>0.0000</td><td style='color:black;background-color:#fe7f64;text-align:right;'>0.0029</td></tr>\n",
       "<tr><th style='border:1px solid black;color:black;background-color:#BBBBBB'><center>1</center></th><td style='color:black;background-color:#fe7f64;text-align:right;'>0.0000</td><td style='color:black;background-color:#fe7f64;text-align:right;'>0.0001</td></tr>\n",
       "<tr><th style='border:1px solid black;color:black;background-color:#BBBBBB;' rowspan = '2'>\n",
       "            <center>1</center></th><th style='border:1px solid black;color:black;background-color:#BBBBBB'><center>0</center></th><td style='color:black;background-color:#fe7f64;text-align:right;'>0.0003</td><td style='color:black;background-color:#fe7f64;text-align:right;'>0.0003</td></tr>\n",
       "<tr><th style='border:1px solid black;color:black;background-color:#BBBBBB'><center>1</center></th><td style='color:black;background-color:#fe7f64;text-align:right;'>0.0001</td><td style='color:black;background-color:#fe7f64;text-align:right;'>0.0001</td></tr>\n",
       "<tr><th style='border:1px solid black;color:black;background-color:#BBBBBB;' rowspan = '4'>\n",
       "            <center>1</center></th><th style='border:1px solid black;color:black;background-color:#BBBBBB;' rowspan = '2'>\n",
       "            <center>0</center></th><th style='border:1px solid black;color:black;background-color:#BBBBBB'><center>0</center></th><td style='color:black;background-color:#fe7f64;text-align:right;'>0.0000</td><td style='color:black;background-color:#fe7f64;text-align:right;'>0.0000</td></tr>\n",
       "<tr><th style='border:1px solid black;color:black;background-color:#BBBBBB'><center>1</center></th><td style='color:black;background-color:#fe7f64;text-align:right;'>0.0000</td><td style='color:black;background-color:#fe7f64;text-align:right;'>0.0000</td></tr>\n",
       "<tr><th style='border:1px solid black;color:black;background-color:#BBBBBB;' rowspan = '2'>\n",
       "            <center>1</center></th><th style='border:1px solid black;color:black;background-color:#BBBBBB'><center>0</center></th><td style='color:black;background-color:#fe7f64;text-align:right;'>0.0000</td><td style='color:black;background-color:#fe7f64;text-align:right;'>0.0040</td></tr>\n",
       "<tr><th style='border:1px solid black;color:black;background-color:#BBBBBB'><center>1</center></th><td style='color:black;background-color:#fe7f64;text-align:right;'>0.0000</td><td style='color:black;background-color:#fe7f64;text-align:right;'>0.0022</td></tr>\n",
       "<tr><th style='border:1px solid black;color:black;background-color:#BBBBBB;' rowspan = '8'>\n",
       "            <center>1</center></th><th style='border:1px solid black;color:black;background-color:#BBBBBB;' rowspan = '4'>\n",
       "            <center>0</center></th><th style='border:1px solid black;color:black;background-color:#BBBBBB;' rowspan = '2'>\n",
       "            <center>0</center></th><th style='border:1px solid black;color:black;background-color:#BBBBBB'><center>0</center></th><td style='color:black;background-color:#fe7f64;text-align:right;'>0.0000</td><td style='color:black;background-color:#fe7f64;text-align:right;'>0.0038</td></tr>\n",
       "<tr><th style='border:1px solid black;color:black;background-color:#BBBBBB'><center>1</center></th><td style='color:black;background-color:#fe7f64;text-align:right;'>0.0000</td><td style='color:black;background-color:#fe7f64;text-align:right;'>0.0007</td></tr>\n",
       "<tr><th style='border:1px solid black;color:black;background-color:#BBBBBB;' rowspan = '2'>\n",
       "            <center>1</center></th><th style='border:1px solid black;color:black;background-color:#BBBBBB'><center>0</center></th><td style='color:black;background-color:#fe7f64;text-align:right;'>0.0004</td><td style='color:black;background-color:#fe7f64;text-align:right;'>0.0003</td></tr>\n",
       "<tr><th style='border:1px solid black;color:black;background-color:#BBBBBB'><center>1</center></th><td style='color:black;background-color:#fe7f64;text-align:right;'>0.0007</td><td style='color:black;background-color:#fe7f64;text-align:right;'>0.0007</td></tr>\n",
       "<tr><th style='border:1px solid black;color:black;background-color:#BBBBBB;' rowspan = '4'>\n",
       "            <center>1</center></th><th style='border:1px solid black;color:black;background-color:#BBBBBB;' rowspan = '2'>\n",
       "            <center>0</center></th><th style='border:1px solid black;color:black;background-color:#BBBBBB'><center>0</center></th><td style='color:black;background-color:#fe7f64;text-align:right;'>0.0000</td><td style='color:black;background-color:#fe7f64;text-align:right;'>0.0000</td></tr>\n",
       "<tr><th style='border:1px solid black;color:black;background-color:#BBBBBB'><center>1</center></th><td style='color:black;background-color:#fe7f64;text-align:right;'>0.0000</td><td style='color:black;background-color:#fe7f64;text-align:right;'>0.0000</td></tr>\n",
       "<tr><th style='border:1px solid black;color:black;background-color:#BBBBBB;' rowspan = '2'>\n",
       "            <center>1</center></th><th style='border:1px solid black;color:black;background-color:#BBBBBB'><center>0</center></th><td style='color:black;background-color:#fe7f64;text-align:right;'>0.0000</td><td style='color:black;background-color:#fd8064;text-align:right;'>0.0079</td></tr>\n",
       "<tr><th style='border:1px solid black;color:black;background-color:#BBBBBB'><center>1</center></th><td style='color:black;background-color:#fe7f64;text-align:right;'>0.0000</td><td style='color:black;background-color:#fd8064;text-align:right;'>0.0153</td></tr>\n",
       "<tr><th style='border:1px solid black;color:black;background-color:#BBBBBB;' rowspan = '16'>\n",
       "            <center>1</center></th><th style='border:1px solid black;color:black;background-color:#BBBBBB;' rowspan = '8'>\n",
       "            <center>0</center></th><th style='border:1px solid black;color:black;background-color:#BBBBBB;' rowspan = '4'>\n",
       "            <center>0</center></th><th style='border:1px solid black;color:black;background-color:#BBBBBB;' rowspan = '2'>\n",
       "            <center>0</center></th><th style='border:1px solid black;color:black;background-color:#BBBBBB'><center>0</center></th><td style='color:black;background-color:#fe7f64;text-align:right;'>0.0000</td><td style='color:black;background-color:#fe7f64;text-align:right;'>0.0001</td></tr>\n",
       "<tr><th style='border:1px solid black;color:black;background-color:#BBBBBB'><center>1</center></th><td style='color:black;background-color:#fe7f64;text-align:right;'>0.0000</td><td style='color:black;background-color:#fe7f64;text-align:right;'>0.0000</td></tr>\n",
       "<tr><th style='border:1px solid black;color:black;background-color:#BBBBBB;' rowspan = '2'>\n",
       "            <center>1</center></th><th style='border:1px solid black;color:black;background-color:#BBBBBB'><center>0</center></th><td style='color:black;background-color:#fe7f64;text-align:right;'>0.0000</td><td style='color:black;background-color:#fe7f64;text-align:right;'>0.0000</td></tr>\n",
       "<tr><th style='border:1px solid black;color:black;background-color:#BBBBBB'><center>1</center></th><td style='color:black;background-color:#fe7f64;text-align:right;'>0.0000</td><td style='color:black;background-color:#fe7f64;text-align:right;'>0.0000</td></tr>\n",
       "<tr><th style='border:1px solid black;color:black;background-color:#BBBBBB;' rowspan = '4'>\n",
       "            <center>1</center></th><th style='border:1px solid black;color:black;background-color:#BBBBBB;' rowspan = '2'>\n",
       "            <center>0</center></th><th style='border:1px solid black;color:black;background-color:#BBBBBB'><center>0</center></th><td style='color:black;background-color:#fe7f64;text-align:right;'>0.0000</td><td style='color:black;background-color:#fe7f64;text-align:right;'>0.0001</td></tr>\n",
       "<tr><th style='border:1px solid black;color:black;background-color:#BBBBBB'><center>1</center></th><td style='color:black;background-color:#fe7f64;text-align:right;'>0.0000</td><td style='color:black;background-color:#fe7f64;text-align:right;'>0.0000</td></tr>\n",
       "<tr><th style='border:1px solid black;color:black;background-color:#BBBBBB;' rowspan = '2'>\n",
       "            <center>1</center></th><th style='border:1px solid black;color:black;background-color:#BBBBBB'><center>0</center></th><td style='color:black;background-color:#fe7f64;text-align:right;'>0.0000</td><td style='color:black;background-color:#f58864;text-align:right;'>0.0754</td></tr>\n",
       "<tr><th style='border:1px solid black;color:black;background-color:#BBBBBB'><center>1</center></th><td style='color:black;background-color:#fe7f64;text-align:right;'>0.0000</td><td style='color:black;background-color:#f98464;text-align:right;'>0.0415</td></tr>\n",
       "<tr><th style='border:1px solid black;color:black;background-color:#BBBBBB;' rowspan = '8'>\n",
       "            <center>1</center></th><th style='border:1px solid black;color:black;background-color:#BBBBBB;' rowspan = '4'>\n",
       "            <center>0</center></th><th style='border:1px solid black;color:black;background-color:#BBBBBB;' rowspan = '2'>\n",
       "            <center>0</center></th><th style='border:1px solid black;color:black;background-color:#BBBBBB'><center>0</center></th><td style='color:black;background-color:#fe7f64;text-align:right;'>0.0000</td><td style='color:black;background-color:#fe7f64;text-align:right;'>0.0001</td></tr>\n",
       "<tr><th style='border:1px solid black;color:black;background-color:#BBBBBB'><center>1</center></th><td style='color:black;background-color:#fe7f64;text-align:right;'>0.0000</td><td style='color:black;background-color:#fe7f64;text-align:right;'>0.0000</td></tr>\n",
       "<tr><th style='border:1px solid black;color:black;background-color:#BBBBBB;' rowspan = '2'>\n",
       "            <center>1</center></th><th style='border:1px solid black;color:black;background-color:#BBBBBB'><center>0</center></th><td style='color:black;background-color:#fe7f64;text-align:right;'>0.0000</td><td style='color:black;background-color:#fe7f64;text-align:right;'>0.0000</td></tr>\n",
       "<tr><th style='border:1px solid black;color:black;background-color:#BBBBBB'><center>1</center></th><td style='color:black;background-color:#fe7f64;text-align:right;'>0.0000</td><td style='color:black;background-color:#fe7f64;text-align:right;'>0.0000</td></tr>\n",
       "<tr><th style='border:1px solid black;color:black;background-color:#BBBBBB;' rowspan = '4'>\n",
       "            <center>1</center></th><th style='border:1px solid black;color:black;background-color:#BBBBBB;' rowspan = '2'>\n",
       "            <center>0</center></th><th style='border:1px solid black;color:black;background-color:#BBBBBB'><center>0</center></th><td style='color:black;background-color:#fe7f64;text-align:right;'>0.0000</td><td style='color:black;background-color:#fe7f64;text-align:right;'>0.0002</td></tr>\n",
       "<tr><th style='border:1px solid black;color:black;background-color:#BBBBBB'><center>1</center></th><td style='color:black;background-color:#fe7f64;text-align:right;'>0.0000</td><td style='color:black;background-color:#fe7f64;text-align:right;'>0.0000</td></tr>\n",
       "<tr><th style='border:1px solid black;color:black;background-color:#BBBBBB;' rowspan = '2'>\n",
       "            <center>1</center></th><th style='border:1px solid black;color:black;background-color:#BBBBBB'><center>0</center></th><td style='color:black;background-color:#fe7f64;text-align:right;'>0.0000</td><td style='color:black;background-color:#eb9264;text-align:right;'>0.1508</td></tr>\n",
       "<tr><th style='border:1px solid black;color:black;background-color:#BBBBBB'><center>1</center></th><td style='color:black;background-color:#fe7f64;text-align:right;'>0.0000</td><td style='color:black;background-color:#d9a464;text-align:right;'>0.2902</td></tr>\n",
       "</table>"
      ],
      "text/plain": [
       "(pyAgrum.Potential<double>@0x3203650) \n",
       "                                         ||  tuberculosis?    |\n",
       "smokin|lung_c|tuberc|bronch|positi|dyspno||0        |1        |\n",
       "------|------|------|------|------|------||---------|---------|\n",
       "0     |0     |0     |0     |0     |0     || 0.0003  | 0.0259  |\n",
       "1     |0     |0     |0     |0     |0     || 0.0000  | 0.0013  |\n",
       "0     |1     |0     |0     |0     |0     || 0.0025  | 0.0024  |\n",
       "1     |1     |0     |0     |0     |0     || 0.0013  | 0.0013  |\n",
       "0     |0     |1     |0     |0     |0     || 0.0000  | 0.0000  |\n",
       "1     |0     |1     |0     |0     |0     || 0.0000  | 0.0000  |\n",
       "[...52 more line(s) ...]\n",
       "0     |1     |0     |1     |1     |1     || 0.0000  | 0.0000  |\n",
       "1     |1     |0     |1     |1     |1     || 0.0000  | 0.0000  |\n",
       "0     |0     |1     |1     |1     |1     || 0.0000  | 0.0002  |\n",
       "1     |0     |1     |1     |1     |1     || 0.0000  | 0.0000  |\n",
       "0     |1     |1     |1     |1     |1     || 0.0000  | 0.1508  |\n",
       "1     |1     |1     |1     |1     |1     || 0.0000  | 0.2902  |"
      ]
     },
     "execution_count": 80,
     "metadata": {},
     "output_type": "execute_result"
    }
   ],
   "source": [
    "compact_conditional_proba(Pjointe,\"dyspnoea?\")"
   ]
  },
  {
   "cell_type": "markdown",
   "metadata": {},
   "source": [
    "### IV.3- Création d'un réseau bayésien\n",
    "\n",
    "Un réseau bayésien est simplement la décomposition d'une distribution de probabilité jointe en un produit de probabilités conditionnelles: vous avez vu en cours que $P(A,B) = P(A|B)P(B)$, et ce quel que soient les ensembles de variables aléatoires disjoints $A$ et $B$. En posant $A = X_n$ et $B = \\{X_0,\\ldots,X_{n-1}\\}$, on obtient donc:\n",
    "\n",
    "$$P(X_0,\\ldots,X_n) = P(X_n | X_0,\\ldots,X_{n-1}) P(X_0,\\ldots,X_{n-1})$$\n",
    "\n",
    "On peut réitérer cette opération pour le terme de droite en posant $A = X_{n-1}$ et $B=\\{X_0,\\ldots,X_{n-2}\\}$, et ainsi de suite. Donc, par récurrence, on a:\n",
    "\n",
    "$$P(X_0,\\ldots,X_n) = P(X_0) \\times \\prod_{i=1}^n P(X_i | X_0,\\ldots,X_{i-1} )$$\n",
    "\n",
    "Si on applique à chaque terme $P(X_i | X_0,\\ldots,X_{i-1} )$ la fonction `compact_conditional_proba`, on obtient une décomposition:\n",
    "\n",
    "$$P(X_0,\\ldots,X_n) = P(X_0) \\times \\prod_{i=1}^n P(X_i | {\\cal K_i})$$\n",
    "\n",
    "avec $K_i \\subseteq \\{X_0,\\ldots,X_{i-1}\\}$}. Cette décomposition est dite ''compacte'' car son stockage nécessite en pratique beaucoup moins de mémoire que celui de la distribution jointe. C'est ce que l'on appelle un réseau bayésien.\n",
    "\n",
    "Écrire une fonction `create_bayesian_network : Potential -> Potential list` qui, étant donné une probabilité jointe, vous renvoie la liste des $P(X_i | {\\cal K_i})$. Pour cela, il vous suffit d'appliquer l'algorithme suivant:\n",
    "\n",
    "```\n",
    "liste = [] \n",
    "P = P(X_0,...,X_n)\n",
    "Pour i de n à 0 faire:\n",
    "  calculer Q = compact_conditional_proba(P,X_i)\n",
    "  afficher la liste des variables de Q\n",
    "  rajouter Q à liste\n",
    "  supprimer X_i de P par marginalisation\n",
    "\n",
    "retourner liste\n",
    "```\n",
    "\n",
    "Il est intéressant ici de noter les affichages des variables de Q: comme toutes les variables sont binaires, Q nécessite uniquement (2 puissance le nombre de ces variables) nombres réels. Ainsi une probabilité sur 3 variables ne nécessite que {$2^3=8$} nombres réels. \n"
   ]
  },
  {
   "cell_type": "code",
   "execution_count": 81,
   "metadata": {},
   "outputs": [],
   "source": [
    "def create_bayesian_network(P, epsilon=0.001, verbose=True):\n",
    "    l = []\n",
    "    X = list(P.names)\n",
    "    for X_i in X:\n",
    "        Q = compact_conditional_proba(P, X_i, epsilon)\n",
    "        if verbose:\n",
    "            print(Q.names)\n",
    "        l.append(Q)\n",
    "        P = P.margSumOut(X_i)\n",
    "    return l"
   ]
  },
  {
   "cell_type": "code",
   "execution_count": 82,
   "metadata": {},
   "outputs": [
    {
     "name": "stdout",
     "output_type": "stream",
     "text": [
      "('visit_to_Asia?', 'smoking?', 'tuberculosis_or_lung_cancer?', 'positive_Xray?')\n",
      "('tuberculosis?', 'lung_cancer?', 'tuberculosis_or_lung_cancer?', 'positive_Xray?', 'dyspnoea?')\n",
      "('smoking?', 'lung_cancer?', 'tuberculosis_or_lung_cancer?', 'bronchitis?', 'positive_Xray?', 'dyspnoea?')\n",
      "('lung_cancer?', 'tuberculosis_or_lung_cancer?', 'bronchitis?', 'positive_Xray?', 'dyspnoea?')\n",
      "('tuberculosis_or_lung_cancer?', 'bronchitis?', 'positive_Xray?', 'dyspnoea?')\n",
      "('bronchitis?', 'positive_Xray?', 'dyspnoea?')\n",
      "('positive_Xray?', 'dyspnoea?')\n",
      "('dyspnoea?',)\n"
     ]
    }
   ],
   "source": [
    "network = create_bayesian_network(Pjointe)"
   ]
  },
  {
   "cell_type": "markdown",
   "metadata": {},
   "source": [
    "### IV.4- Gain en compression\n",
    "\n",
    "On souhaite observer le gain en termes de consommation mémoire obtenu par votre décomposition. Si `P` est un `Potential`, alors `P.toarray().size` est égal à la taille (le nombre de paramètres) de la table `P`. Calculez donc le nombre de paramètres nécessaires pour stocker la probabilité jointe lue dans le fichier `asia.txt` ainsi que la somme des nombres de paramètres des tables que vous avez créées grâce à votre fonction `create_bayesian_network`. \n",
    "\n",
    "Check: le résultat attendu est : taille rb : 110   taille jointe : 256"
   ]
  },
  {
   "cell_type": "code",
   "execution_count": 86,
   "metadata": {},
   "outputs": [
    {
     "name": "stdout",
     "output_type": "stream",
     "text": [
      "\n",
      "Nombre de paramètre avant compression : 256\n",
      "Taille après compression : 60\n",
      "\n",
      "On peut largement faire varier la compression en modifiant le epsilon utilisé dans la fonction `conditional_indep`\n",
      "epsilon: 0.0001 => nb_compression 222\n",
      "epsilon: 0.0002 => nb_compression 190\n",
      "epsilon: 0.00030000000000000003 => nb_compression 190\n",
      "epsilon: 0.0004 => nb_compression 174\n",
      "epsilon: 0.0005 => nb_compression 174\n",
      "epsilon: 0.0006000000000000001 => nb_compression 174\n",
      "epsilon: 0.0007000000000000001 => nb_compression 174\n",
      "epsilon: 0.0008 => nb_compression 174\n",
      "epsilon: 0.0009000000000000001 => nb_compression 174\n",
      "epsilon: 0.001 => nb_compression 174\n",
      "epsilon: 0.0011 => nb_compression 174\n",
      "epsilon: 0.0012000000000000001 => nb_compression 174\n",
      "epsilon: 0.0013000000000000002 => nb_compression 174\n",
      "epsilon: 0.0014000000000000002 => nb_compression 174\n",
      "epsilon: 0.0015 => nb_compression 174\n",
      "epsilon: 0.0016 => nb_compression 174\n",
      "epsilon: 0.0017000000000000001 => nb_compression 174\n",
      "epsilon: 0.0018000000000000002 => nb_compression 174\n",
      "epsilon: 0.0019000000000000002 => nb_compression 174\n",
      "epsilon: 0.002 => nb_compression 174\n",
      "epsilon: 0.0021 => nb_compression 174\n",
      "epsilon: 0.0022 => nb_compression 174\n",
      "epsilon: 0.0023 => nb_compression 174\n",
      "epsilon: 0.0024 => nb_compression 174\n",
      "epsilon: 0.0025 => nb_compression 174\n",
      "epsilon: 0.0026 => nb_compression 174\n",
      "epsilon: 0.0027 => nb_compression 174\n",
      "epsilon: 0.0028 => nb_compression 174\n",
      "epsilon: 0.0029 => nb_compression 174\n",
      "epsilon: 0.003 => nb_compression 174\n",
      "epsilon: 0.0031 => nb_compression 174\n",
      "epsilon: 0.0032 => nb_compression 174\n",
      "epsilon: 0.0033 => nb_compression 174\n",
      "epsilon: 0.0034 => nb_compression 174\n",
      "epsilon: 0.0035 => nb_compression 174\n",
      "epsilon: 0.0036 => nb_compression 174\n",
      "epsilon: 0.0037 => nb_compression 174\n",
      "epsilon: 0.0038 => nb_compression 174\n",
      "epsilon: 0.0039 => nb_compression 174\n",
      "epsilon: 0.004 => nb_compression 174\n",
      "epsilon: 0.0041 => nb_compression 174\n",
      "epsilon: 0.004200000000000001 => nb_compression 174\n",
      "epsilon: 0.004300000000000001 => nb_compression 174\n",
      "epsilon: 0.0044 => nb_compression 174\n",
      "epsilon: 0.0045000000000000005 => nb_compression 174\n",
      "epsilon: 0.004600000000000001 => nb_compression 158\n",
      "epsilon: 0.0047 => nb_compression 158\n",
      "epsilon: 0.0048000000000000004 => nb_compression 158\n",
      "epsilon: 0.004900000000000001 => nb_compression 158\n",
      "epsilon: 0.005 => nb_compression 158\n",
      "epsilon: 0.0051 => nb_compression 158\n",
      "epsilon: 0.005200000000000001 => nb_compression 158\n",
      "epsilon: 0.005300000000000001 => nb_compression 158\n",
      "epsilon: 0.0054 => nb_compression 158\n",
      "epsilon: 0.0055000000000000005 => nb_compression 158\n",
      "epsilon: 0.005600000000000001 => nb_compression 158\n",
      "epsilon: 0.0057 => nb_compression 158\n",
      "epsilon: 0.0058000000000000005 => nb_compression 158\n",
      "epsilon: 0.005900000000000001 => nb_compression 158\n",
      "epsilon: 0.006 => nb_compression 158\n",
      "epsilon: 0.0061 => nb_compression 154\n",
      "epsilon: 0.006200000000000001 => nb_compression 154\n",
      "epsilon: 0.006300000000000001 => nb_compression 154\n",
      "epsilon: 0.0064 => nb_compression 154\n",
      "epsilon: 0.006500000000000001 => nb_compression 154\n",
      "epsilon: 0.006600000000000001 => nb_compression 146\n",
      "epsilon: 0.0067 => nb_compression 146\n",
      "epsilon: 0.0068000000000000005 => nb_compression 130\n",
      "epsilon: 0.006900000000000001 => nb_compression 130\n",
      "epsilon: 0.007000000000000001 => nb_compression 130\n",
      "epsilon: 0.0071 => nb_compression 130\n",
      "epsilon: 0.007200000000000001 => nb_compression 130\n",
      "epsilon: 0.007300000000000001 => nb_compression 130\n",
      "epsilon: 0.0074 => nb_compression 130\n",
      "epsilon: 0.007500000000000001 => nb_compression 130\n",
      "epsilon: 0.007600000000000001 => nb_compression 130\n",
      "epsilon: 0.0077 => nb_compression 130\n",
      "epsilon: 0.0078000000000000005 => nb_compression 130\n",
      "epsilon: 0.0079 => nb_compression 130\n",
      "epsilon: 0.008 => nb_compression 130\n",
      "epsilon: 0.0081 => nb_compression 130\n",
      "epsilon: 0.008199999999999999 => nb_compression 130\n",
      "epsilon: 0.0083 => nb_compression 130\n",
      "epsilon: 0.0084 => nb_compression 130\n",
      "epsilon: 0.0085 => nb_compression 130\n",
      "epsilon: 0.0086 => nb_compression 130\n",
      "epsilon: 0.0087 => nb_compression 130\n",
      "epsilon: 0.0088 => nb_compression 130\n",
      "epsilon: 0.0089 => nb_compression 130\n",
      "epsilon: 0.009 => nb_compression 130\n",
      "epsilon: 0.0091 => nb_compression 130\n",
      "epsilon: 0.0092 => nb_compression 130\n",
      "epsilon: 0.0093 => nb_compression 130\n",
      "epsilon: 0.0094 => nb_compression 130\n",
      "epsilon: 0.0095 => nb_compression 130\n",
      "epsilon: 0.0096 => nb_compression 130\n",
      "epsilon: 0.0097 => nb_compression 130\n",
      "epsilon: 0.0098 => nb_compression 130\n",
      "epsilon: 0.009899999999999999 => nb_compression 130\n",
      "epsilon: 0.01 => nb_compression 130\n",
      "epsilon: 0.0101 => nb_compression 130\n",
      "epsilon: 0.0102 => nb_compression 130\n",
      "epsilon: 0.0103 => nb_compression 130\n",
      "epsilon: 0.0104 => nb_compression 130\n",
      "epsilon: 0.0105 => nb_compression 130\n",
      "epsilon: 0.0106 => nb_compression 130\n",
      "epsilon: 0.0107 => nb_compression 130\n",
      "epsilon: 0.0108 => nb_compression 130\n",
      "epsilon: 0.0109 => nb_compression 130\n",
      "epsilon: 0.011 => nb_compression 130\n",
      "epsilon: 0.0111 => nb_compression 130\n",
      "epsilon: 0.0112 => nb_compression 130\n",
      "epsilon: 0.0113 => nb_compression 130\n",
      "epsilon: 0.0114 => nb_compression 130\n",
      "epsilon: 0.0115 => nb_compression 130\n",
      "epsilon: 0.0116 => nb_compression 130\n",
      "epsilon: 0.0117 => nb_compression 130\n",
      "epsilon: 0.0118 => nb_compression 130\n",
      "epsilon: 0.011899999999999999 => nb_compression 130\n",
      "epsilon: 0.012 => nb_compression 130\n",
      "epsilon: 0.0121 => nb_compression 130\n",
      "epsilon: 0.0122 => nb_compression 130\n",
      "epsilon: 0.0123 => nb_compression 130\n",
      "epsilon: 0.0124 => nb_compression 130\n",
      "epsilon: 0.0125 => nb_compression 130\n",
      "epsilon: 0.0126 => nb_compression 130\n",
      "epsilon: 0.0127 => nb_compression 130\n",
      "epsilon: 0.0128 => nb_compression 130\n",
      "epsilon: 0.0129 => nb_compression 130\n",
      "epsilon: 0.013 => nb_compression 130\n",
      "epsilon: 0.0131 => nb_compression 130\n",
      "epsilon: 0.0132 => nb_compression 130\n",
      "epsilon: 0.0133 => nb_compression 130\n",
      "epsilon: 0.0134 => nb_compression 130\n",
      "epsilon: 0.0135 => nb_compression 130\n",
      "epsilon: 0.0136 => nb_compression 130\n",
      "epsilon: 0.0137 => nb_compression 130\n",
      "epsilon: 0.0138 => nb_compression 130\n",
      "epsilon: 0.013900000000000001 => nb_compression 130\n",
      "epsilon: 0.014 => nb_compression 130\n",
      "epsilon: 0.0141 => nb_compression 130\n",
      "epsilon: 0.0142 => nb_compression 130\n",
      "epsilon: 0.0143 => nb_compression 130\n",
      "epsilon: 0.0144 => nb_compression 130\n",
      "epsilon: 0.0145 => nb_compression 130\n",
      "epsilon: 0.0146 => nb_compression 130\n",
      "epsilon: 0.0147 => nb_compression 130\n",
      "epsilon: 0.0148 => nb_compression 130\n",
      "epsilon: 0.0149 => nb_compression 130\n",
      "epsilon: 0.015 => nb_compression 130\n",
      "epsilon: 0.0151 => nb_compression 130\n",
      "epsilon: 0.0152 => nb_compression 130\n",
      "epsilon: 0.0153 => nb_compression 130\n",
      "epsilon: 0.0154 => nb_compression 130\n",
      "epsilon: 0.0155 => nb_compression 130\n",
      "epsilon: 0.0156 => nb_compression 130\n",
      "epsilon: 0.015700000000000002 => nb_compression 130\n",
      "epsilon: 0.0158 => nb_compression 130\n",
      "epsilon: 0.0159 => nb_compression 130\n",
      "epsilon: 0.016 => nb_compression 130\n",
      "epsilon: 0.0161 => nb_compression 130\n",
      "epsilon: 0.0162 => nb_compression 130\n",
      "epsilon: 0.0163 => nb_compression 130\n",
      "epsilon: 0.0164 => nb_compression 130\n",
      "epsilon: 0.0165 => nb_compression 130\n",
      "epsilon: 0.0166 => nb_compression 130\n",
      "epsilon: 0.0167 => nb_compression 130\n",
      "epsilon: 0.0168 => nb_compression 130\n",
      "epsilon: 0.016900000000000002 => nb_compression 130\n",
      "epsilon: 0.017 => nb_compression 130\n",
      "epsilon: 0.0171 => nb_compression 130\n",
      "epsilon: 0.0172 => nb_compression 130\n",
      "epsilon: 0.0173 => nb_compression 130\n",
      "epsilon: 0.0174 => nb_compression 130\n",
      "epsilon: 0.0175 => nb_compression 130\n",
      "epsilon: 0.0176 => nb_compression 130\n",
      "epsilon: 0.0177 => nb_compression 130\n",
      "epsilon: 0.0178 => nb_compression 130\n",
      "epsilon: 0.0179 => nb_compression 130\n",
      "epsilon: 0.018 => nb_compression 130\n",
      "epsilon: 0.0181 => nb_compression 130\n",
      "epsilon: 0.0182 => nb_compression 130\n",
      "epsilon: 0.0183 => nb_compression 130\n",
      "epsilon: 0.0184 => nb_compression 130\n",
      "epsilon: 0.0185 => nb_compression 130\n",
      "epsilon: 0.018600000000000002 => nb_compression 130\n",
      "epsilon: 0.0187 => nb_compression 130\n",
      "epsilon: 0.0188 => nb_compression 130\n",
      "epsilon: 0.0189 => nb_compression 130\n",
      "epsilon: 0.019 => nb_compression 130\n",
      "epsilon: 0.0191 => nb_compression 130\n",
      "epsilon: 0.019200000000000002 => nb_compression 130\n",
      "epsilon: 0.0193 => nb_compression 130\n",
      "epsilon: 0.0194 => nb_compression 130\n",
      "epsilon: 0.0195 => nb_compression 130\n",
      "epsilon: 0.0196 => nb_compression 130\n",
      "epsilon: 0.0197 => nb_compression 130\n",
      "epsilon: 0.0198 => nb_compression 130\n",
      "epsilon: 0.0199 => nb_compression 130\n",
      "epsilon: 0.02 => nb_compression 130\n",
      "epsilon: 0.0201 => nb_compression 130\n",
      "epsilon: 0.0202 => nb_compression 130\n",
      "epsilon: 0.020300000000000002 => nb_compression 98\n",
      "epsilon: 0.0204 => nb_compression 98\n",
      "epsilon: 0.0205 => nb_compression 98\n",
      "epsilon: 0.0206 => nb_compression 98\n",
      "epsilon: 0.0207 => nb_compression 98\n",
      "epsilon: 0.0208 => nb_compression 98\n",
      "epsilon: 0.020900000000000002 => nb_compression 98\n",
      "epsilon: 0.021 => nb_compression 98\n",
      "epsilon: 0.0211 => nb_compression 98\n",
      "epsilon: 0.0212 => nb_compression 98\n",
      "epsilon: 0.0213 => nb_compression 98\n",
      "epsilon: 0.0214 => nb_compression 98\n",
      "epsilon: 0.021500000000000002 => nb_compression 98\n",
      "epsilon: 0.0216 => nb_compression 98\n",
      "epsilon: 0.0217 => nb_compression 98\n",
      "epsilon: 0.0218 => nb_compression 98\n",
      "epsilon: 0.0219 => nb_compression 82\n",
      "epsilon: 0.022 => nb_compression 82\n",
      "epsilon: 0.0221 => nb_compression 82\n",
      "epsilon: 0.0222 => nb_compression 82\n",
      "epsilon: 0.0223 => nb_compression 82\n",
      "epsilon: 0.0224 => nb_compression 82\n",
      "epsilon: 0.0225 => nb_compression 82\n",
      "epsilon: 0.022600000000000002 => nb_compression 82\n",
      "epsilon: 0.0227 => nb_compression 82\n",
      "epsilon: 0.0228 => nb_compression 82\n",
      "epsilon: 0.0229 => nb_compression 82\n",
      "epsilon: 0.023 => nb_compression 82\n",
      "epsilon: 0.0231 => nb_compression 82\n",
      "epsilon: 0.023200000000000002 => nb_compression 82\n",
      "epsilon: 0.0233 => nb_compression 82\n",
      "epsilon: 0.0234 => nb_compression 82\n",
      "epsilon: 0.0235 => nb_compression 82\n",
      "epsilon: 0.0236 => nb_compression 82\n",
      "epsilon: 0.0237 => nb_compression 82\n",
      "epsilon: 0.0238 => nb_compression 82\n",
      "epsilon: 0.0239 => nb_compression 82\n",
      "epsilon: 0.024 => nb_compression 82\n",
      "epsilon: 0.0241 => nb_compression 82\n",
      "epsilon: 0.0242 => nb_compression 82\n",
      "epsilon: 0.024300000000000002 => nb_compression 82\n",
      "epsilon: 0.0244 => nb_compression 82\n",
      "epsilon: 0.0245 => nb_compression 82\n",
      "epsilon: 0.0246 => nb_compression 82\n",
      "epsilon: 0.0247 => nb_compression 82\n",
      "epsilon: 0.0248 => nb_compression 82\n",
      "epsilon: 0.024900000000000002 => nb_compression 74\n",
      "epsilon: 0.025 => nb_compression 74\n",
      "epsilon: 0.0251 => nb_compression 74\n",
      "epsilon: 0.0252 => nb_compression 74\n",
      "epsilon: 0.0253 => nb_compression 74\n",
      "epsilon: 0.0254 => nb_compression 74\n",
      "epsilon: 0.025500000000000002 => nb_compression 74\n",
      "epsilon: 0.0256 => nb_compression 74\n",
      "epsilon: 0.0257 => nb_compression 74\n",
      "epsilon: 0.0258 => nb_compression 74\n",
      "epsilon: 0.0259 => nb_compression 74\n",
      "epsilon: 0.026000000000000002 => nb_compression 74\n",
      "epsilon: 0.0261 => nb_compression 74\n",
      "epsilon: 0.0262 => nb_compression 74\n",
      "epsilon: 0.0263 => nb_compression 74\n",
      "epsilon: 0.0264 => nb_compression 74\n",
      "epsilon: 0.0265 => nb_compression 74\n",
      "epsilon: 0.026600000000000002 => nb_compression 74\n",
      "epsilon: 0.0267 => nb_compression 74\n",
      "epsilon: 0.0268 => nb_compression 74\n",
      "epsilon: 0.0269 => nb_compression 74\n",
      "epsilon: 0.027 => nb_compression 74\n",
      "epsilon: 0.0271 => nb_compression 74\n",
      "epsilon: 0.027200000000000002 => nb_compression 74\n",
      "epsilon: 0.0273 => nb_compression 74\n",
      "epsilon: 0.0274 => nb_compression 74\n",
      "epsilon: 0.0275 => nb_compression 74\n",
      "epsilon: 0.0276 => nb_compression 74\n",
      "epsilon: 0.027700000000000002 => nb_compression 74\n",
      "epsilon: 0.027800000000000002 => nb_compression 74\n",
      "epsilon: 0.0279 => nb_compression 74\n",
      "epsilon: 0.028 => nb_compression 74\n",
      "epsilon: 0.0281 => nb_compression 74\n",
      "epsilon: 0.0282 => nb_compression 74\n",
      "epsilon: 0.028300000000000002 => nb_compression 74\n",
      "epsilon: 0.0284 => nb_compression 74\n",
      "epsilon: 0.0285 => nb_compression 74\n",
      "epsilon: 0.0286 => nb_compression 74\n",
      "epsilon: 0.0287 => nb_compression 74\n",
      "epsilon: 0.0288 => nb_compression 74\n",
      "epsilon: 0.028900000000000002 => nb_compression 74\n",
      "epsilon: 0.029 => nb_compression 74\n",
      "epsilon: 0.0291 => nb_compression 74\n",
      "epsilon: 0.0292 => nb_compression 74\n",
      "epsilon: 0.0293 => nb_compression 74\n",
      "epsilon: 0.029400000000000003 => nb_compression 74\n",
      "epsilon: 0.029500000000000002 => nb_compression 74\n",
      "epsilon: 0.0296 => nb_compression 74\n",
      "epsilon: 0.0297 => nb_compression 74\n",
      "epsilon: 0.0298 => nb_compression 74\n",
      "epsilon: 0.0299 => nb_compression 74\n",
      "epsilon: 0.030000000000000002 => nb_compression 74\n",
      "epsilon: 0.030100000000000002 => nb_compression 74\n",
      "epsilon: 0.0302 => nb_compression 74\n",
      "epsilon: 0.0303 => nb_compression 74\n",
      "epsilon: 0.0304 => nb_compression 74\n",
      "epsilon: 0.0305 => nb_compression 74\n",
      "epsilon: 0.030600000000000002 => nb_compression 74\n",
      "epsilon: 0.0307 => nb_compression 74\n",
      "epsilon: 0.0308 => nb_compression 74\n",
      "epsilon: 0.0309 => nb_compression 74\n",
      "epsilon: 0.031 => nb_compression 72\n",
      "epsilon: 0.0311 => nb_compression 72\n",
      "epsilon: 0.031200000000000002 => nb_compression 72\n",
      "epsilon: 0.0313 => nb_compression 72\n",
      "epsilon: 0.031400000000000004 => nb_compression 72\n",
      "epsilon: 0.03150000000000001 => nb_compression 72\n",
      "epsilon: 0.0316 => nb_compression 72\n",
      "epsilon: 0.031700000000000006 => nb_compression 72\n",
      "epsilon: 0.0318 => nb_compression 72\n",
      "epsilon: 0.031900000000000005 => nb_compression 72\n",
      "epsilon: 0.03200000000000001 => nb_compression 72\n",
      "epsilon: 0.032100000000000004 => nb_compression 72\n",
      "epsilon: 0.032200000000000006 => nb_compression 72\n",
      "epsilon: 0.0323 => nb_compression 72\n",
      "epsilon: 0.032400000000000005 => nb_compression 72\n",
      "epsilon: 0.0325 => nb_compression 72\n",
      "epsilon: 0.032600000000000004 => nb_compression 72\n",
      "epsilon: 0.03270000000000001 => nb_compression 72\n",
      "epsilon: 0.0328 => nb_compression 72\n",
      "epsilon: 0.032900000000000006 => nb_compression 72\n",
      "epsilon: 0.033 => nb_compression 72\n",
      "epsilon: 0.033100000000000004 => nb_compression 72\n",
      "epsilon: 0.03320000000000001 => nb_compression 72\n",
      "epsilon: 0.0333 => nb_compression 68\n",
      "epsilon: 0.033400000000000006 => nb_compression 68\n",
      "epsilon: 0.0335 => nb_compression 68\n",
      "epsilon: 0.033600000000000005 => nb_compression 68\n",
      "epsilon: 0.03370000000000001 => nb_compression 68\n",
      "epsilon: 0.033800000000000004 => nb_compression 68\n",
      "epsilon: 0.033900000000000007 => nb_compression 68\n",
      "epsilon: 0.034 => nb_compression 68\n",
      "epsilon: 0.034100000000000005 => nb_compression 68\n",
      "epsilon: 0.0342 => nb_compression 68\n",
      "epsilon: 0.034300000000000004 => nb_compression 68\n",
      "epsilon: 0.03440000000000001 => nb_compression 68\n",
      "epsilon: 0.0345 => nb_compression 68\n",
      "epsilon: 0.034600000000000006 => nb_compression 68\n",
      "epsilon: 0.0347 => nb_compression 68\n",
      "epsilon: 0.034800000000000005 => nb_compression 68\n",
      "epsilon: 0.03490000000000001 => nb_compression 68\n",
      "epsilon: 0.035 => nb_compression 68\n",
      "epsilon: 0.035100000000000006 => nb_compression 68\n",
      "epsilon: 0.0352 => nb_compression 68\n",
      "epsilon: 0.035300000000000005 => nb_compression 68\n",
      "epsilon: 0.03540000000000001 => nb_compression 68\n",
      "epsilon: 0.035500000000000004 => nb_compression 68\n",
      "epsilon: 0.03560000000000001 => nb_compression 68\n",
      "epsilon: 0.0357 => nb_compression 68\n",
      "epsilon: 0.035800000000000005 => nb_compression 68\n",
      "epsilon: 0.0359 => nb_compression 68\n",
      "epsilon: 0.036000000000000004 => nb_compression 68\n",
      "epsilon: 0.03610000000000001 => nb_compression 68\n",
      "epsilon: 0.0362 => nb_compression 68\n",
      "epsilon: 0.036300000000000006 => nb_compression 68\n",
      "epsilon: 0.0364 => nb_compression 68\n",
      "epsilon: 0.036500000000000005 => nb_compression 68\n",
      "epsilon: 0.03660000000000001 => nb_compression 68\n",
      "epsilon: 0.0367 => nb_compression 68\n",
      "epsilon: 0.036800000000000006 => nb_compression 68\n",
      "epsilon: 0.0369 => nb_compression 68\n",
      "epsilon: 0.037000000000000005 => nb_compression 68\n",
      "epsilon: 0.03710000000000001 => nb_compression 68\n",
      "epsilon: 0.037200000000000004 => nb_compression 68\n",
      "epsilon: 0.03730000000000001 => nb_compression 68\n",
      "epsilon: 0.0374 => nb_compression 68\n",
      "epsilon: 0.037500000000000006 => nb_compression 68\n",
      "epsilon: 0.0376 => nb_compression 68\n",
      "epsilon: 0.037700000000000004 => nb_compression 68\n",
      "epsilon: 0.03780000000000001 => nb_compression 68\n",
      "epsilon: 0.0379 => nb_compression 68\n",
      "epsilon: 0.038000000000000006 => nb_compression 68\n",
      "epsilon: 0.0381 => nb_compression 68\n",
      "epsilon: 0.038200000000000005 => nb_compression 68\n",
      "epsilon: 0.03830000000000001 => nb_compression 68\n",
      "epsilon: 0.038400000000000004 => nb_compression 68\n",
      "epsilon: 0.038500000000000006 => nb_compression 68\n",
      "epsilon: 0.0386 => nb_compression 68\n",
      "epsilon: 0.038700000000000005 => nb_compression 68\n",
      "epsilon: 0.03880000000000001 => nb_compression 68\n",
      "epsilon: 0.038900000000000004 => nb_compression 68\n",
      "epsilon: 0.03900000000000001 => nb_compression 68\n",
      "epsilon: 0.0391 => nb_compression 68\n",
      "epsilon: 0.039200000000000006 => nb_compression 68\n",
      "epsilon: 0.0393 => nb_compression 68\n",
      "epsilon: 0.039400000000000004 => nb_compression 68\n",
      "epsilon: 0.03950000000000001 => nb_compression 68\n",
      "epsilon: 0.0396 => nb_compression 68\n",
      "epsilon: 0.039700000000000006 => nb_compression 68\n",
      "epsilon: 0.0398 => nb_compression 68\n",
      "epsilon: 0.039900000000000005 => nb_compression 68\n",
      "epsilon: 0.04000000000000001 => nb_compression 68\n",
      "epsilon: 0.040100000000000004 => nb_compression 68\n",
      "epsilon: 0.04020000000000001 => nb_compression 68\n",
      "epsilon: 0.0403 => nb_compression 68\n",
      "epsilon: 0.040400000000000005 => nb_compression 68\n",
      "epsilon: 0.04050000000000001 => nb_compression 68\n",
      "epsilon: 0.040600000000000004 => nb_compression 68\n",
      "epsilon: 0.04070000000000001 => nb_compression 68\n",
      "epsilon: 0.0408 => nb_compression 68\n",
      "epsilon: 0.040900000000000006 => nb_compression 68\n",
      "epsilon: 0.041 => nb_compression 68\n",
      "epsilon: 0.041100000000000005 => nb_compression 68\n",
      "epsilon: 0.04120000000000001 => nb_compression 68\n",
      "epsilon: 0.0413 => nb_compression 68\n",
      "epsilon: 0.041400000000000006 => nb_compression 68\n",
      "epsilon: 0.0415 => nb_compression 68\n",
      "epsilon: 0.041600000000000005 => nb_compression 68\n",
      "epsilon: 0.04170000000000001 => nb_compression 68\n",
      "epsilon: 0.041800000000000004 => nb_compression 68\n",
      "epsilon: 0.04190000000000001 => nb_compression 68\n",
      "epsilon: 0.042 => nb_compression 68\n",
      "epsilon: 0.042100000000000005 => nb_compression 68\n",
      "epsilon: 0.04220000000000001 => nb_compression 68\n",
      "epsilon: 0.042300000000000004 => nb_compression 68\n",
      "epsilon: 0.04240000000000001 => nb_compression 68\n",
      "epsilon: 0.0425 => nb_compression 68\n",
      "epsilon: 0.042600000000000006 => nb_compression 68\n",
      "epsilon: 0.0427 => nb_compression 68\n",
      "epsilon: 0.042800000000000005 => nb_compression 68\n",
      "epsilon: 0.04290000000000001 => nb_compression 68\n",
      "epsilon: 0.043000000000000003 => nb_compression 68\n",
      "epsilon: 0.043100000000000006 => nb_compression 68\n",
      "epsilon: 0.0432 => nb_compression 68\n",
      "epsilon: 0.043300000000000005 => nb_compression 68\n",
      "epsilon: 0.04340000000000001 => nb_compression 68\n",
      "epsilon: 0.043500000000000004 => nb_compression 68\n",
      "epsilon: 0.04360000000000001 => nb_compression 68\n",
      "epsilon: 0.0437 => nb_compression 68\n",
      "epsilon: 0.043800000000000006 => nb_compression 68\n",
      "epsilon: 0.0439 => nb_compression 68\n",
      "epsilon: 0.044000000000000004 => nb_compression 68\n",
      "epsilon: 0.04410000000000001 => nb_compression 68\n",
      "epsilon: 0.0442 => nb_compression 68\n",
      "epsilon: 0.044300000000000006 => nb_compression 68\n",
      "epsilon: 0.0444 => nb_compression 68\n",
      "epsilon: 0.044500000000000005 => nb_compression 68\n",
      "epsilon: 0.04460000000000001 => nb_compression 68\n",
      "epsilon: 0.044700000000000004 => nb_compression 68\n",
      "epsilon: 0.044800000000000006 => nb_compression 68\n",
      "epsilon: 0.0449 => nb_compression 68\n",
      "epsilon: 0.045000000000000005 => nb_compression 68\n",
      "epsilon: 0.04510000000000001 => nb_compression 68\n",
      "epsilon: 0.045200000000000004 => nb_compression 68\n",
      "epsilon: 0.04530000000000001 => nb_compression 68\n",
      "epsilon: 0.0454 => nb_compression 68\n",
      "epsilon: 0.045500000000000006 => nb_compression 68\n",
      "epsilon: 0.0456 => nb_compression 68\n",
      "epsilon: 0.045700000000000005 => nb_compression 68\n",
      "epsilon: 0.04580000000000001 => nb_compression 68\n",
      "epsilon: 0.0459 => nb_compression 68\n",
      "epsilon: 0.046000000000000006 => nb_compression 68\n",
      "epsilon: 0.0461 => nb_compression 68\n",
      "epsilon: 0.046200000000000005 => nb_compression 68\n",
      "epsilon: 0.04630000000000001 => nb_compression 68\n",
      "epsilon: 0.046400000000000004 => nb_compression 68\n",
      "epsilon: 0.04650000000000001 => nb_compression 68\n",
      "epsilon: 0.0466 => nb_compression 68\n",
      "epsilon: 0.046700000000000005 => nb_compression 68\n",
      "epsilon: 0.04680000000000001 => nb_compression 68\n",
      "epsilon: 0.046900000000000004 => nb_compression 68\n",
      "epsilon: 0.04700000000000001 => nb_compression 68\n",
      "epsilon: 0.0471 => nb_compression 68\n",
      "epsilon: 0.047200000000000006 => nb_compression 68\n",
      "epsilon: 0.0473 => nb_compression 68\n",
      "epsilon: 0.047400000000000005 => nb_compression 68\n",
      "epsilon: 0.04750000000000001 => nb_compression 68\n",
      "epsilon: 0.0476 => nb_compression 68\n",
      "epsilon: 0.047700000000000006 => nb_compression 68\n",
      "epsilon: 0.0478 => nb_compression 68\n",
      "epsilon: 0.047900000000000005 => nb_compression 68\n",
      "epsilon: 0.04800000000000001 => nb_compression 68\n",
      "epsilon: 0.048100000000000004 => nb_compression 68\n",
      "epsilon: 0.04820000000000001 => nb_compression 68\n",
      "epsilon: 0.0483 => nb_compression 68\n",
      "epsilon: 0.048400000000000006 => nb_compression 68\n",
      "epsilon: 0.04850000000000001 => nb_compression 68\n",
      "epsilon: 0.048600000000000004 => nb_compression 68\n",
      "epsilon: 0.04870000000000001 => nb_compression 68\n",
      "epsilon: 0.0488 => nb_compression 68\n",
      "epsilon: 0.048900000000000006 => nb_compression 68\n",
      "epsilon: 0.049 => nb_compression 68\n",
      "epsilon: 0.049100000000000005 => nb_compression 68\n",
      "epsilon: 0.04920000000000001 => nb_compression 68\n",
      "epsilon: 0.049300000000000004 => nb_compression 68\n",
      "epsilon: 0.049400000000000006 => nb_compression 68\n",
      "epsilon: 0.0495 => nb_compression 68\n",
      "epsilon: 0.049600000000000005 => nb_compression 68\n",
      "epsilon: 0.04970000000000001 => nb_compression 68\n",
      "epsilon: 0.049800000000000004 => nb_compression 68\n",
      "epsilon: 0.04990000000000001 => nb_compression 68\n",
      "epsilon: 0.05 => nb_compression 68\n",
      "epsilon: 0.050100000000000006 => nb_compression 68\n",
      "epsilon: 0.05020000000000001 => nb_compression 68\n",
      "epsilon: 0.050300000000000004 => nb_compression 68\n",
      "epsilon: 0.05040000000000001 => nb_compression 68\n",
      "epsilon: 0.0505 => nb_compression 68\n",
      "epsilon: 0.050600000000000006 => nb_compression 68\n",
      "epsilon: 0.0507 => nb_compression 68\n",
      "epsilon: 0.050800000000000005 => nb_compression 68\n",
      "epsilon: 0.05090000000000001 => nb_compression 68\n",
      "epsilon: 0.051000000000000004 => nb_compression 68\n",
      "epsilon: 0.051100000000000007 => nb_compression 68\n",
      "epsilon: 0.0512 => nb_compression 68\n",
      "epsilon: 0.051300000000000005 => nb_compression 68\n",
      "epsilon: 0.05140000000000001 => nb_compression 68\n",
      "epsilon: 0.051500000000000004 => nb_compression 68\n",
      "epsilon: 0.05160000000000001 => nb_compression 68\n",
      "epsilon: 0.0517 => nb_compression 68\n",
      "epsilon: 0.051800000000000006 => nb_compression 68\n",
      "epsilon: 0.05190000000000001 => nb_compression 68\n",
      "epsilon: 0.052000000000000005 => nb_compression 68\n",
      "epsilon: 0.05210000000000001 => nb_compression 68\n",
      "epsilon: 0.0522 => nb_compression 68\n",
      "epsilon: 0.052300000000000006 => nb_compression 68\n",
      "epsilon: 0.0524 => nb_compression 68\n",
      "epsilon: 0.052500000000000005 => nb_compression 68\n",
      "epsilon: 0.05260000000000001 => nb_compression 68\n",
      "epsilon: 0.052700000000000004 => nb_compression 68\n",
      "epsilon: 0.05280000000000001 => nb_compression 68\n",
      "epsilon: 0.0529 => nb_compression 68\n",
      "epsilon: 0.053000000000000005 => nb_compression 68\n",
      "epsilon: 0.05310000000000001 => nb_compression 68\n",
      "epsilon: 0.053200000000000004 => nb_compression 68\n",
      "epsilon: 0.05330000000000001 => nb_compression 68\n",
      "epsilon: 0.0534 => nb_compression 68\n",
      "epsilon: 0.053500000000000006 => nb_compression 68\n",
      "epsilon: 0.05360000000000001 => nb_compression 68\n",
      "epsilon: 0.053700000000000005 => nb_compression 68\n",
      "epsilon: 0.05380000000000001 => nb_compression 68\n",
      "epsilon: 0.0539 => nb_compression 68\n",
      "epsilon: 0.054000000000000006 => nb_compression 68\n",
      "epsilon: 0.0541 => nb_compression 68\n",
      "epsilon: 0.054200000000000005 => nb_compression 68\n",
      "epsilon: 0.05430000000000001 => nb_compression 68\n",
      "epsilon: 0.054400000000000004 => nb_compression 68\n",
      "epsilon: 0.05450000000000001 => nb_compression 68\n",
      "epsilon: 0.0546 => nb_compression 68\n",
      "epsilon: 0.054700000000000006 => nb_compression 68\n",
      "epsilon: 0.05480000000000001 => nb_compression 68\n",
      "epsilon: 0.054900000000000004 => nb_compression 68\n",
      "epsilon: 0.05500000000000001 => nb_compression 68\n",
      "epsilon: 0.0551 => nb_compression 68\n",
      "epsilon: 0.055200000000000006 => nb_compression 68\n",
      "epsilon: 0.05530000000000001 => nb_compression 68\n",
      "epsilon: 0.055400000000000005 => nb_compression 68\n",
      "epsilon: 0.05550000000000001 => nb_compression 68\n",
      "epsilon: 0.055600000000000004 => nb_compression 68\n",
      "epsilon: 0.055700000000000006 => nb_compression 68\n",
      "epsilon: 0.0558 => nb_compression 68\n",
      "epsilon: 0.055900000000000005 => nb_compression 68\n",
      "epsilon: 0.05600000000000001 => nb_compression 68\n",
      "epsilon: 0.056100000000000004 => nb_compression 68\n",
      "epsilon: 0.05620000000000001 => nb_compression 68\n",
      "epsilon: 0.0563 => nb_compression 68\n",
      "epsilon: 0.056400000000000006 => nb_compression 68\n",
      "epsilon: 0.05650000000000001 => nb_compression 68\n",
      "epsilon: 0.056600000000000004 => nb_compression 68\n",
      "epsilon: 0.05670000000000001 => nb_compression 68\n",
      "epsilon: 0.0568 => nb_compression 68\n",
      "epsilon: 0.056900000000000006 => nb_compression 68\n",
      "epsilon: 0.05700000000000001 => nb_compression 68\n",
      "epsilon: 0.057100000000000005 => nb_compression 68\n",
      "epsilon: 0.05720000000000001 => nb_compression 68\n",
      "epsilon: 0.057300000000000004 => nb_compression 68\n",
      "epsilon: 0.05740000000000001 => nb_compression 68\n",
      "epsilon: 0.0575 => nb_compression 68\n",
      "epsilon: 0.057600000000000005 => nb_compression 68\n",
      "epsilon: 0.05770000000000001 => nb_compression 68\n",
      "epsilon: 0.057800000000000004 => nb_compression 68\n",
      "epsilon: 0.05790000000000001 => nb_compression 68\n",
      "epsilon: 0.058 => nb_compression 68\n",
      "epsilon: 0.058100000000000006 => nb_compression 68\n",
      "epsilon: 0.05820000000000001 => nb_compression 68\n",
      "epsilon: 0.058300000000000005 => nb_compression 68\n",
      "epsilon: 0.05840000000000001 => nb_compression 68\n",
      "epsilon: 0.0585 => nb_compression 68\n",
      "epsilon: 0.058600000000000006 => nb_compression 68\n",
      "epsilon: 0.05870000000000001 => nb_compression 68\n",
      "epsilon: 0.058800000000000005 => nb_compression 68\n",
      "epsilon: 0.05890000000000001 => nb_compression 68\n",
      "epsilon: 0.059000000000000004 => nb_compression 68\n",
      "epsilon: 0.05910000000000001 => nb_compression 68\n",
      "epsilon: 0.0592 => nb_compression 68\n",
      "epsilon: 0.059300000000000005 => nb_compression 68\n",
      "epsilon: 0.05940000000000001 => nb_compression 68\n",
      "epsilon: 0.059500000000000004 => nb_compression 68\n",
      "epsilon: 0.05960000000000001 => nb_compression 68\n",
      "epsilon: 0.0597 => nb_compression 68\n",
      "epsilon: 0.059800000000000006 => nb_compression 68\n",
      "epsilon: 0.05990000000000001 => nb_compression 68\n",
      "epsilon: 0.060000000000000005 => nb_compression 68\n",
      "epsilon: 0.06010000000000001 => nb_compression 68\n",
      "epsilon: 0.060200000000000004 => nb_compression 68\n",
      "epsilon: 0.060300000000000006 => nb_compression 68\n",
      "epsilon: 0.0604 => nb_compression 68\n",
      "epsilon: 0.060500000000000005 => nb_compression 68\n",
      "epsilon: 0.06060000000000001 => nb_compression 68\n",
      "epsilon: 0.060700000000000004 => nb_compression 68\n",
      "epsilon: 0.06080000000000001 => nb_compression 68\n",
      "epsilon: 0.0609 => nb_compression 68\n",
      "epsilon: 0.061000000000000006 => nb_compression 68\n",
      "epsilon: 0.06110000000000001 => nb_compression 68\n",
      "epsilon: 0.061200000000000004 => nb_compression 68\n",
      "epsilon: 0.06130000000000001 => nb_compression 68\n",
      "epsilon: 0.0614 => nb_compression 68\n",
      "epsilon: 0.061500000000000006 => nb_compression 68\n",
      "epsilon: 0.06160000000000001 => nb_compression 68\n",
      "epsilon: 0.061700000000000005 => nb_compression 68\n",
      "epsilon: 0.06180000000000001 => nb_compression 68\n",
      "epsilon: 0.061900000000000004 => nb_compression 68\n",
      "epsilon: 0.062000000000000006 => nb_compression 68\n",
      "epsilon: 0.0621 => nb_compression 68\n",
      "epsilon: 0.062200000000000005 => nb_compression 68\n",
      "epsilon: 0.06230000000000001 => nb_compression 68\n",
      "epsilon: 0.062400000000000004 => nb_compression 68\n",
      "epsilon: 0.0625 => nb_compression 68\n",
      "epsilon: 0.0626 => nb_compression 68\n",
      "epsilon: 0.0627 => nb_compression 68\n",
      "epsilon: 0.06280000000000001 => nb_compression 68\n",
      "epsilon: 0.06290000000000001 => nb_compression 68\n",
      "epsilon: 0.063 => nb_compression 68\n",
      "epsilon: 0.0631 => nb_compression 68\n",
      "epsilon: 0.0632 => nb_compression 68\n",
      "epsilon: 0.06330000000000001 => nb_compression 68\n",
      "epsilon: 0.06340000000000001 => nb_compression 68\n",
      "epsilon: 0.0635 => nb_compression 68\n",
      "epsilon: 0.0636 => nb_compression 68\n",
      "epsilon: 0.0637 => nb_compression 68\n",
      "epsilon: 0.06380000000000001 => nb_compression 68\n",
      "epsilon: 0.06390000000000001 => nb_compression 68\n",
      "epsilon: 0.064 => nb_compression 68\n",
      "epsilon: 0.0641 => nb_compression 68\n",
      "epsilon: 0.06420000000000001 => nb_compression 68\n",
      "epsilon: 0.06430000000000001 => nb_compression 68\n",
      "epsilon: 0.06440000000000001 => nb_compression 68\n",
      "epsilon: 0.0645 => nb_compression 68\n",
      "epsilon: 0.0646 => nb_compression 68\n",
      "epsilon: 0.06470000000000001 => nb_compression 68\n",
      "epsilon: 0.06480000000000001 => nb_compression 68\n",
      "epsilon: 0.0649 => nb_compression 68\n",
      "epsilon: 0.065 => nb_compression 68\n",
      "epsilon: 0.0651 => nb_compression 68\n",
      "epsilon: 0.06520000000000001 => nb_compression 68\n",
      "epsilon: 0.06530000000000001 => nb_compression 68\n",
      "epsilon: 0.0654 => nb_compression 68\n",
      "epsilon: 0.0655 => nb_compression 68\n",
      "epsilon: 0.0656 => nb_compression 68\n",
      "epsilon: 0.06570000000000001 => nb_compression 68\n",
      "epsilon: 0.06580000000000001 => nb_compression 68\n",
      "epsilon: 0.0659 => nb_compression 68\n",
      "epsilon: 0.066 => nb_compression 68\n",
      "epsilon: 0.0661 => nb_compression 68\n",
      "epsilon: 0.06620000000000001 => nb_compression 68\n",
      "epsilon: 0.06630000000000001 => nb_compression 68\n",
      "epsilon: 0.0664 => nb_compression 68\n",
      "epsilon: 0.0665 => nb_compression 68\n",
      "epsilon: 0.0666 => nb_compression 68\n",
      "epsilon: 0.06670000000000001 => nb_compression 68\n",
      "epsilon: 0.06680000000000001 => nb_compression 68\n",
      "epsilon: 0.0669 => nb_compression 68\n",
      "epsilon: 0.067 => nb_compression 68\n",
      "epsilon: 0.0671 => nb_compression 68\n",
      "epsilon: 0.06720000000000001 => nb_compression 68\n",
      "epsilon: 0.06730000000000001 => nb_compression 68\n",
      "epsilon: 0.0674 => nb_compression 68\n",
      "epsilon: 0.0675 => nb_compression 68\n",
      "epsilon: 0.06760000000000001 => nb_compression 68\n",
      "epsilon: 0.06770000000000001 => nb_compression 68\n",
      "epsilon: 0.06780000000000001 => nb_compression 68\n",
      "epsilon: 0.0679 => nb_compression 68\n",
      "epsilon: 0.068 => nb_compression 68\n",
      "epsilon: 0.06810000000000001 => nb_compression 68\n",
      "epsilon: 0.06820000000000001 => nb_compression 68\n",
      "epsilon: 0.0683 => nb_compression 68\n",
      "epsilon: 0.0684 => nb_compression 68\n",
      "epsilon: 0.0685 => nb_compression 68\n",
      "epsilon: 0.06860000000000001 => nb_compression 68\n",
      "epsilon: 0.06870000000000001 => nb_compression 68\n",
      "epsilon: 0.0688 => nb_compression 68\n",
      "epsilon: 0.0689 => nb_compression 68\n",
      "epsilon: 0.069 => nb_compression 68\n",
      "epsilon: 0.06910000000000001 => nb_compression 68\n",
      "epsilon: 0.06920000000000001 => nb_compression 68\n",
      "epsilon: 0.0693 => nb_compression 68\n",
      "epsilon: 0.0694 => nb_compression 68\n",
      "epsilon: 0.0695 => nb_compression 68\n",
      "epsilon: 0.06960000000000001 => nb_compression 68\n",
      "epsilon: 0.06970000000000001 => nb_compression 68\n",
      "epsilon: 0.0698 => nb_compression 68\n",
      "epsilon: 0.0699 => nb_compression 68\n",
      "epsilon: 0.07 => nb_compression 68\n",
      "epsilon: 0.07010000000000001 => nb_compression 68\n",
      "epsilon: 0.07020000000000001 => nb_compression 68\n",
      "epsilon: 0.0703 => nb_compression 68\n",
      "epsilon: 0.0704 => nb_compression 68\n",
      "epsilon: 0.07050000000000001 => nb_compression 68\n",
      "epsilon: 0.07060000000000001 => nb_compression 68\n",
      "epsilon: 0.07070000000000001 => nb_compression 68\n",
      "epsilon: 0.0708 => nb_compression 68\n",
      "epsilon: 0.0709 => nb_compression 68\n",
      "epsilon: 0.07100000000000001 => nb_compression 68\n",
      "epsilon: 0.07110000000000001 => nb_compression 68\n",
      "epsilon: 0.0712 => nb_compression 68\n",
      "epsilon: 0.0713 => nb_compression 68\n",
      "epsilon: 0.0714 => nb_compression 68\n",
      "epsilon: 0.07150000000000001 => nb_compression 68\n",
      "epsilon: 0.07160000000000001 => nb_compression 68\n",
      "epsilon: 0.0717 => nb_compression 68\n",
      "epsilon: 0.0718 => nb_compression 68\n",
      "epsilon: 0.0719 => nb_compression 68\n",
      "epsilon: 0.07200000000000001 => nb_compression 68\n",
      "epsilon: 0.07210000000000001 => nb_compression 68\n",
      "epsilon: 0.0722 => nb_compression 68\n",
      "epsilon: 0.0723 => nb_compression 68\n",
      "epsilon: 0.0724 => nb_compression 68\n",
      "epsilon: 0.07250000000000001 => nb_compression 68\n",
      "epsilon: 0.07260000000000001 => nb_compression 68\n",
      "epsilon: 0.0727 => nb_compression 68\n",
      "epsilon: 0.0728 => nb_compression 68\n",
      "epsilon: 0.0729 => nb_compression 68\n",
      "epsilon: 0.07300000000000001 => nb_compression 68\n",
      "epsilon: 0.07310000000000001 => nb_compression 68\n",
      "epsilon: 0.0732 => nb_compression 68\n",
      "epsilon: 0.0733 => nb_compression 68\n",
      "epsilon: 0.0734 => nb_compression 68\n",
      "epsilon: 0.07350000000000001 => nb_compression 68\n",
      "epsilon: 0.07360000000000001 => nb_compression 68\n",
      "epsilon: 0.0737 => nb_compression 68\n",
      "epsilon: 0.0738 => nb_compression 68\n",
      "epsilon: 0.07390000000000001 => nb_compression 68\n",
      "epsilon: 0.07400000000000001 => nb_compression 68\n",
      "epsilon: 0.07410000000000001 => nb_compression 68\n",
      "epsilon: 0.0742 => nb_compression 68\n",
      "epsilon: 0.0743 => nb_compression 68\n",
      "epsilon: 0.07440000000000001 => nb_compression 68\n",
      "epsilon: 0.07450000000000001 => nb_compression 68\n",
      "epsilon: 0.0746 => nb_compression 68\n",
      "epsilon: 0.0747 => nb_compression 68\n",
      "epsilon: 0.0748 => nb_compression 68\n",
      "epsilon: 0.07490000000000001 => nb_compression 68\n",
      "epsilon: 0.07500000000000001 => nb_compression 68\n",
      "epsilon: 0.0751 => nb_compression 60\n",
      "epsilon: 0.0752 => nb_compression 60\n",
      "epsilon: 0.0753 => nb_compression 60\n",
      "epsilon: 0.07540000000000001 => nb_compression 60\n",
      "epsilon: 0.07550000000000001 => nb_compression 60\n",
      "epsilon: 0.0756 => nb_compression 60\n",
      "epsilon: 0.0757 => nb_compression 60\n",
      "epsilon: 0.0758 => nb_compression 60\n",
      "epsilon: 0.07590000000000001 => nb_compression 60\n",
      "epsilon: 0.07600000000000001 => nb_compression 60\n",
      "epsilon: 0.0761 => nb_compression 60\n",
      "epsilon: 0.0762 => nb_compression 60\n",
      "epsilon: 0.0763 => nb_compression 60\n",
      "epsilon: 0.07640000000000001 => nb_compression 60\n",
      "epsilon: 0.07650000000000001 => nb_compression 60\n",
      "epsilon: 0.0766 => nb_compression 60\n",
      "epsilon: 0.0767 => nb_compression 60\n",
      "epsilon: 0.07680000000000001 => nb_compression 60\n",
      "epsilon: 0.07690000000000001 => nb_compression 60\n",
      "epsilon: 0.07700000000000001 => nb_compression 60\n",
      "epsilon: 0.0771 => nb_compression 60\n",
      "epsilon: 0.0772 => nb_compression 60\n",
      "epsilon: 0.07730000000000001 => nb_compression 60\n",
      "epsilon: 0.07740000000000001 => nb_compression 60\n",
      "epsilon: 0.07750000000000001 => nb_compression 60\n",
      "epsilon: 0.0776 => nb_compression 60\n",
      "epsilon: 0.0777 => nb_compression 60\n",
      "epsilon: 0.07780000000000001 => nb_compression 60\n",
      "epsilon: 0.07790000000000001 => nb_compression 60\n",
      "epsilon: 0.078 => nb_compression 60\n",
      "epsilon: 0.0781 => nb_compression 60\n",
      "epsilon: 0.0782 => nb_compression 60\n",
      "epsilon: 0.07830000000000001 => nb_compression 60\n",
      "epsilon: 0.07840000000000001 => nb_compression 60\n",
      "epsilon: 0.0785 => nb_compression 60\n",
      "epsilon: 0.0786 => nb_compression 60\n",
      "epsilon: 0.0787 => nb_compression 60\n",
      "epsilon: 0.07880000000000001 => nb_compression 60\n",
      "epsilon: 0.07890000000000001 => nb_compression 60\n",
      "epsilon: 0.079 => nb_compression 60\n",
      "epsilon: 0.0791 => nb_compression 60\n",
      "epsilon: 0.0792 => nb_compression 60\n",
      "epsilon: 0.07930000000000001 => nb_compression 60\n",
      "epsilon: 0.07940000000000001 => nb_compression 60\n",
      "epsilon: 0.0795 => nb_compression 60\n",
      "epsilon: 0.0796 => nb_compression 60\n",
      "epsilon: 0.07970000000000001 => nb_compression 60\n",
      "epsilon: 0.07980000000000001 => nb_compression 60\n",
      "epsilon: 0.07990000000000001 => nb_compression 60\n",
      "epsilon: 0.08 => nb_compression 60\n",
      "epsilon: 0.0801 => nb_compression 60\n",
      "epsilon: 0.08020000000000001 => nb_compression 60\n",
      "epsilon: 0.08030000000000001 => nb_compression 60\n",
      "epsilon: 0.08040000000000001 => nb_compression 60\n",
      "epsilon: 0.0805 => nb_compression 60\n",
      "epsilon: 0.0806 => nb_compression 60\n",
      "epsilon: 0.08070000000000001 => nb_compression 60\n",
      "epsilon: 0.08080000000000001 => nb_compression 60\n",
      "epsilon: 0.08090000000000001 => nb_compression 60\n",
      "epsilon: 0.081 => nb_compression 60\n",
      "epsilon: 0.0811 => nb_compression 60\n",
      "epsilon: 0.08120000000000001 => nb_compression 60\n",
      "epsilon: 0.08130000000000001 => nb_compression 60\n",
      "epsilon: 0.0814 => nb_compression 60\n",
      "epsilon: 0.0815 => nb_compression 60\n",
      "epsilon: 0.0816 => nb_compression 60\n",
      "epsilon: 0.08170000000000001 => nb_compression 60\n",
      "epsilon: 0.08180000000000001 => nb_compression 60\n",
      "epsilon: 0.0819 => nb_compression 60\n",
      "epsilon: 0.082 => nb_compression 60\n",
      "epsilon: 0.0821 => nb_compression 60\n",
      "epsilon: 0.08220000000000001 => nb_compression 60\n",
      "epsilon: 0.08230000000000001 => nb_compression 60\n",
      "epsilon: 0.0824 => nb_compression 60\n",
      "epsilon: 0.0825 => nb_compression 60\n",
      "epsilon: 0.0826 => nb_compression 60\n",
      "epsilon: 0.08270000000000001 => nb_compression 60\n",
      "epsilon: 0.08280000000000001 => nb_compression 60\n",
      "epsilon: 0.0829 => nb_compression 60\n",
      "epsilon: 0.083 => nb_compression 60\n",
      "epsilon: 0.08310000000000001 => nb_compression 60\n",
      "epsilon: 0.08320000000000001 => nb_compression 60\n",
      "epsilon: 0.08330000000000001 => nb_compression 60\n",
      "epsilon: 0.0834 => nb_compression 60\n",
      "epsilon: 0.0835 => nb_compression 60\n",
      "epsilon: 0.08360000000000001 => nb_compression 60\n",
      "epsilon: 0.08370000000000001 => nb_compression 60\n",
      "epsilon: 0.08380000000000001 => nb_compression 60\n",
      "epsilon: 0.0839 => nb_compression 60\n",
      "epsilon: 0.084 => nb_compression 60\n",
      "epsilon: 0.08410000000000001 => nb_compression 60\n",
      "epsilon: 0.08420000000000001 => nb_compression 60\n",
      "epsilon: 0.08430000000000001 => nb_compression 60\n",
      "epsilon: 0.0844 => nb_compression 60\n",
      "epsilon: 0.0845 => nb_compression 60\n",
      "epsilon: 0.08460000000000001 => nb_compression 60\n",
      "epsilon: 0.08470000000000001 => nb_compression 60\n",
      "epsilon: 0.0848 => nb_compression 60\n",
      "epsilon: 0.0849 => nb_compression 60\n",
      "epsilon: 0.085 => nb_compression 60\n",
      "epsilon: 0.08510000000000001 => nb_compression 60\n",
      "epsilon: 0.08520000000000001 => nb_compression 60\n",
      "epsilon: 0.0853 => nb_compression 60\n",
      "epsilon: 0.0854 => nb_compression 60\n",
      "epsilon: 0.0855 => nb_compression 60\n",
      "epsilon: 0.08560000000000001 => nb_compression 60\n",
      "epsilon: 0.08570000000000001 => nb_compression 60\n",
      "epsilon: 0.0858 => nb_compression 60\n",
      "epsilon: 0.0859 => nb_compression 60\n",
      "epsilon: 0.08600000000000001 => nb_compression 60\n",
      "epsilon: 0.08610000000000001 => nb_compression 60\n",
      "epsilon: 0.08620000000000001 => nb_compression 60\n",
      "epsilon: 0.0863 => nb_compression 60\n",
      "epsilon: 0.0864 => nb_compression 60\n",
      "epsilon: 0.08650000000000001 => nb_compression 60\n",
      "epsilon: 0.08660000000000001 => nb_compression 60\n",
      "epsilon: 0.08670000000000001 => nb_compression 60\n",
      "epsilon: 0.0868 => nb_compression 60\n",
      "epsilon: 0.0869 => nb_compression 60\n",
      "epsilon: 0.08700000000000001 => nb_compression 60\n",
      "epsilon: 0.08710000000000001 => nb_compression 60\n",
      "epsilon: 0.08720000000000001 => nb_compression 60\n",
      "epsilon: 0.0873 => nb_compression 60\n",
      "epsilon: 0.0874 => nb_compression 60\n",
      "epsilon: 0.08750000000000001 => nb_compression 60\n",
      "epsilon: 0.08760000000000001 => nb_compression 60\n",
      "epsilon: 0.0877 => nb_compression 60\n",
      "epsilon: 0.0878 => nb_compression 60\n",
      "epsilon: 0.0879 => nb_compression 60\n",
      "epsilon: 0.08800000000000001 => nb_compression 60\n",
      "epsilon: 0.08810000000000001 => nb_compression 60\n",
      "epsilon: 0.0882 => nb_compression 60\n",
      "epsilon: 0.0883 => nb_compression 60\n",
      "epsilon: 0.0884 => nb_compression 60\n",
      "epsilon: 0.08850000000000001 => nb_compression 60\n",
      "epsilon: 0.08860000000000001 => nb_compression 60\n",
      "epsilon: 0.0887 => nb_compression 60\n",
      "epsilon: 0.0888 => nb_compression 60\n",
      "epsilon: 0.0889 => nb_compression 60\n",
      "epsilon: 0.08900000000000001 => nb_compression 60\n",
      "epsilon: 0.08910000000000001 => nb_compression 60\n",
      "epsilon: 0.0892 => nb_compression 60\n",
      "epsilon: 0.0893 => nb_compression 60\n",
      "epsilon: 0.08940000000000001 => nb_compression 60\n",
      "epsilon: 0.08950000000000001 => nb_compression 60\n",
      "epsilon: 0.08960000000000001 => nb_compression 60\n",
      "epsilon: 0.0897 => nb_compression 60\n",
      "epsilon: 0.0898 => nb_compression 60\n",
      "epsilon: 0.08990000000000001 => nb_compression 60\n",
      "epsilon: 0.09000000000000001 => nb_compression 60\n",
      "epsilon: 0.09010000000000001 => nb_compression 60\n",
      "epsilon: 0.0902 => nb_compression 60\n",
      "epsilon: 0.0903 => nb_compression 60\n",
      "epsilon: 0.09040000000000001 => nb_compression 60\n",
      "epsilon: 0.09050000000000001 => nb_compression 60\n",
      "epsilon: 0.09060000000000001 => nb_compression 60\n",
      "epsilon: 0.0907 => nb_compression 60\n",
      "epsilon: 0.0908 => nb_compression 60\n",
      "epsilon: 0.09090000000000001 => nb_compression 60\n",
      "epsilon: 0.09100000000000001 => nb_compression 60\n",
      "epsilon: 0.0911 => nb_compression 60\n",
      "epsilon: 0.0912 => nb_compression 60\n",
      "epsilon: 0.0913 => nb_compression 60\n",
      "epsilon: 0.09140000000000001 => nb_compression 60\n",
      "epsilon: 0.09150000000000001 => nb_compression 60\n",
      "epsilon: 0.0916 => nb_compression 60\n",
      "epsilon: 0.0917 => nb_compression 60\n",
      "epsilon: 0.0918 => nb_compression 60\n",
      "epsilon: 0.09190000000000001 => nb_compression 60\n",
      "epsilon: 0.09200000000000001 => nb_compression 60\n",
      "epsilon: 0.0921 => nb_compression 60\n",
      "epsilon: 0.0922 => nb_compression 60\n",
      "epsilon: 0.09230000000000001 => nb_compression 60\n",
      "epsilon: 0.09240000000000001 => nb_compression 60\n",
      "epsilon: 0.09250000000000001 => nb_compression 60\n",
      "epsilon: 0.0926 => nb_compression 60\n",
      "epsilon: 0.0927 => nb_compression 60\n",
      "epsilon: 0.09280000000000001 => nb_compression 60\n",
      "epsilon: 0.09290000000000001 => nb_compression 60\n",
      "epsilon: 0.09300000000000001 => nb_compression 60\n",
      "epsilon: 0.0931 => nb_compression 60\n",
      "epsilon: 0.0932 => nb_compression 60\n",
      "epsilon: 0.09330000000000001 => nb_compression 60\n",
      "epsilon: 0.09340000000000001 => nb_compression 60\n",
      "epsilon: 0.09350000000000001 => nb_compression 60\n",
      "epsilon: 0.0936 => nb_compression 60\n",
      "epsilon: 0.0937 => nb_compression 60\n",
      "epsilon: 0.09380000000000001 => nb_compression 60\n",
      "epsilon: 0.09390000000000001 => nb_compression 60\n",
      "epsilon: 0.09400000000000001 => nb_compression 60\n",
      "epsilon: 0.0941 => nb_compression 60\n",
      "epsilon: 0.0942 => nb_compression 60\n",
      "epsilon: 0.09430000000000001 => nb_compression 60\n",
      "epsilon: 0.09440000000000001 => nb_compression 60\n",
      "epsilon: 0.0945 => nb_compression 60\n",
      "epsilon: 0.0946 => nb_compression 60\n",
      "epsilon: 0.0947 => nb_compression 60\n",
      "epsilon: 0.09480000000000001 => nb_compression 60\n",
      "epsilon: 0.09490000000000001 => nb_compression 60\n",
      "epsilon: 0.095 => nb_compression 60\n",
      "epsilon: 0.0951 => nb_compression 60\n",
      "epsilon: 0.0952 => nb_compression 60\n",
      "epsilon: 0.09530000000000001 => nb_compression 60\n",
      "epsilon: 0.09540000000000001 => nb_compression 60\n",
      "epsilon: 0.0955 => nb_compression 60\n",
      "epsilon: 0.0956 => nb_compression 60\n",
      "epsilon: 0.09570000000000001 => nb_compression 60\n",
      "epsilon: 0.09580000000000001 => nb_compression 60\n",
      "epsilon: 0.09590000000000001 => nb_compression 60\n",
      "epsilon: 0.096 => nb_compression 60\n",
      "epsilon: 0.0961 => nb_compression 60\n",
      "epsilon: 0.09620000000000001 => nb_compression 60\n",
      "epsilon: 0.09630000000000001 => nb_compression 60\n",
      "epsilon: 0.09640000000000001 => nb_compression 60\n",
      "epsilon: 0.0965 => nb_compression 60\n",
      "epsilon: 0.0966 => nb_compression 60\n",
      "epsilon: 0.09670000000000001 => nb_compression 60\n",
      "epsilon: 0.09680000000000001 => nb_compression 60\n",
      "epsilon: 0.09690000000000001 => nb_compression 60\n",
      "epsilon: 0.097 => nb_compression 60\n",
      "epsilon: 0.0971 => nb_compression 60\n",
      "epsilon: 0.09720000000000001 => nb_compression 60\n",
      "epsilon: 0.09730000000000001 => nb_compression 60\n",
      "epsilon: 0.09740000000000001 => nb_compression 60\n",
      "epsilon: 0.0975 => nb_compression 60\n",
      "epsilon: 0.0976 => nb_compression 60\n",
      "epsilon: 0.09770000000000001 => nb_compression 60\n",
      "epsilon: 0.09780000000000001 => nb_compression 60\n",
      "epsilon: 0.0979 => nb_compression 60\n",
      "epsilon: 0.098 => nb_compression 60\n",
      "epsilon: 0.0981 => nb_compression 60\n",
      "epsilon: 0.09820000000000001 => nb_compression 60\n",
      "epsilon: 0.09830000000000001 => nb_compression 60\n",
      "epsilon: 0.0984 => nb_compression 60\n",
      "epsilon: 0.0985 => nb_compression 60\n",
      "epsilon: 0.09860000000000001 => nb_compression 60\n",
      "epsilon: 0.09870000000000001 => nb_compression 60\n",
      "epsilon: 0.09880000000000001 => nb_compression 60\n",
      "epsilon: 0.0989 => nb_compression 60\n",
      "epsilon: 0.099 => nb_compression 60\n",
      "epsilon: 0.09910000000000001 => nb_compression 60\n",
      "epsilon: 0.09920000000000001 => nb_compression 60\n",
      "epsilon: 0.09930000000000001 => nb_compression 60\n",
      "epsilon: 0.0994 => nb_compression 60\n",
      "epsilon: 0.0995 => nb_compression 60\n",
      "epsilon: 0.09960000000000001 => nb_compression 60\n",
      "epsilon: 0.09970000000000001 => nb_compression 60\n",
      "epsilon: 0.09980000000000001 => nb_compression 60\n",
      "epsilon: 0.0999 => nb_compression 60\n"
     ]
    }
   ],
   "source": [
    "s = 0\n",
    "for potential in network:\n",
    "    s += potential.toarray().size\n",
    "print(f\"\"\"\n",
    "Nombre de paramètre avant compression : {Pjointe.toarray().size}\n",
    "Taille après compression : {s}\n",
    "\"\"\")\n",
    "print(\"On peut largement faire varier la compression en modifiant le epsilon utilisé dans la fonction `conditional_indep`\")\n",
    "for eps in np.arange(0.0001, 0.1, 0.0001):\n",
    "    network = create_bayesian_network(Pjointe, epsilon=eps, verbose=False)\n",
    "    s = 0\n",
    "    for potential in network:\n",
    "        s += potential.toarray().size\n",
    "    print(f\"epsilon: {eps} => nb_compression {s}\")"
   ]
  },
  {
   "cell_type": "markdown",
   "metadata": {},
   "source": [
    "## V- Applications pratiques (optionnelle)"
   ]
  },
  {
   "cell_type": "markdown",
   "metadata": {},
   "source": [
    "La technique de décomposition que vous avez vue est effectivement utilisée en pratique. Vous pouvez voir le gain que l'on peut obtenir sur différentes distributions de probabilité du site :\n",
    "\n",
    "http://www.bnlearn.com/bnrepository/\n",
    "\n",
    "Cliquez sur le nom du dataset que vous voulez visualiser et téléchargez son .bif ou .dsl. Afin de visualiser le contenu du fichier, vous allez utiliser pyAgrum. Le code suivant vous permettra alors de visualiser votre dataset: la valeur indiquée après \"domainSize\" est la taille de la probabilité jointe d'origine (en nombre de paramètres) et celle après \"dim\" est la taille de la probabilité sous forme compacte (somme des tailles des probabilités conditionnelles compactes). "
   ]
  },
  {
   "cell_type": "code",
   "execution_count": 84,
   "metadata": {},
   "outputs": [
    {
     "name": "stdout",
     "output_type": "stream",
     "text": [
      "BN{nodes: 8, arcs: 8, domainSize: 256, dim: 36}\n",
      "On passe de 256 à 36 pour eux, c'est une belle compression\n"
     ]
    }
   ],
   "source": [
    "# chargement de pyAgrum\n",
    "import pyAgrum as gum\n",
    "import pyAgrum.lib.notebook as gnb\n",
    "\n",
    "# chargement du fichier bif ou dsl\n",
    "bn = gum.loadBN ( \"asia.bif\" )\n",
    "\n",
    "# affichage de la taille des probabilités jointes compacte et non compacte\n",
    "print(bn)\n",
    "\n",
    "# affichage graphique du réseau bayésien\n",
    "bn\n",
    "\n",
    "# On passe de 256 à 36 pour eux, c'est une belle compression\n",
    "print(\"On passe de 256 à 36 pour eux, c'est une belle compression\")"
   ]
  },
  {
   "cell_type": "code",
   "execution_count": null,
   "metadata": {},
   "outputs": [],
   "source": []
  }
 ],
 "metadata": {
  "kernelspec": {
   "display_name": "Python 3.8.10 64-bit",
   "language": "python",
   "name": "python3"
  },
  "language_info": {
   "codemirror_mode": {
    "name": "ipython",
    "version": 3
   },
   "file_extension": ".py",
   "mimetype": "text/x-python",
   "name": "python",
   "nbconvert_exporter": "python",
   "pygments_lexer": "ipython3",
   "version": "3.8.10"
  },
  "vscode": {
   "interpreter": {
    "hash": "916dbcbb3f70747c44a77c7bcd40155683ae19c65e1c03b4aa3499c5328201f1"
   }
  }
 },
 "nbformat": 4,
 "nbformat_minor": 4
}
