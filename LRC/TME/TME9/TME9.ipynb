{
 "cells": [
  {
   "cell_type": "markdown",
   "metadata": {},
   "source": [
    "# Exercice 1"
   ]
  },
  {
   "cell_type": "code",
   "execution_count": 5,
   "metadata": {},
   "outputs": [],
   "source": [
    "from LRC_TME9_definitions_Allen import *"
   ]
  },
  {
   "cell_type": "code",
   "execution_count": 2,
   "metadata": {},
   "outputs": [],
   "source": [
    "def transposeSet(S):\n",
    "    l = set()\n",
    "    for r in S:\n",
    "        l.add(transpose[r])\n",
    "    return l\n",
    "\n",
    "def symetrieSet(S):\n",
    "    l = set()\n",
    "    for r in S:\n",
    "        l.add(symetrie[r])\n",
    "    return l"
   ]
  },
  {
   "cell_type": "code",
   "execution_count": 6,
   "metadata": {},
   "outputs": [],
   "source": [
    "from icecream import ic\n",
    "def compose(r1, r2):\n",
    "    if r1 == '=':\n",
    "        return set(r2)\n",
    "    elif r2 == '=':\n",
    "        return set(r1)\n",
    "    S = set()\n",
    "    r1t = transpose[r1]\n",
    "    r2t = transpose[r2]\n",
    "\n",
    "    r1s = symetrie[r1]\n",
    "    r2s = symetrie[r2]\n",
    "    \n",
    "    r1st = transpose[r1s]\n",
    "    r2st = transpose[r2s]\n",
    "    if (r1, r2) in compositionBase.keys():\n",
    "        S.update(compositionBase[(r1, r2)])\n",
    "        return S\n",
    "    elif (r2t, r1t) in compositionBase.keys():\n",
    "        comp_t = compositionBase[(r2t, r1t)]\n",
    "        S.update(transposeSet(comp_t))\n",
    "        return S\n",
    "    elif (r1s, r2s) in compositionBase.keys():\n",
    "        comp_s = compositionBase[(r1s, r2s)]\n",
    "        S.update(symetrieSet(comp_s))\n",
    "        return S\n",
    "    elif (r2st, r1st) in compositionBase.keys():\n",
    "        tmp = transposeSet({r2st, r1st})\n",
    "        ic(tmp)\n",
    "        S.update(symetrieSet(tmp))\n",
    "        return S\n",
    "    else:\n",
    "        return False"
   ]
  },
  {
   "cell_type": "code",
   "execution_count": 7,
   "metadata": {},
   "outputs": [
    {
     "name": "stderr",
     "output_type": "stream",
     "text": [
      "ic| tmp: {'mt', 'o'}\n"
     ]
    },
    {
     "data": {
      "text/plain": [
       "{'m', 'ot'}"
      ]
     },
     "execution_count": 7,
     "metadata": {},
     "output_type": "execute_result"
    }
   ],
   "source": [
    "compose('ot', 'm')"
   ]
  },
  {
   "cell_type": "code",
   "execution_count": null,
   "metadata": {},
   "outputs": [],
   "source": [
    "for comp in [('=', 'd'), ('m', 'd'), ('ot', '>'), ('>', 'e'), ('ot', 'm')]:\n",
    "    display(compose(*comp))"
   ]
  },
  {
   "cell_type": "code",
   "execution_count": null,
   "metadata": {},
   "outputs": [],
   "source": [
    "def compositionSet(S):\n",
    "    l = set()\n",
    "    for r1 in S:\n",
    "        for r2 in S:\n",
    "            l.update(comp(r1, r2))\n",
    "    return l"
   ]
  },
  {
   "cell_type": "markdown",
   "metadata": {},
   "source": [
    "# Exercice 2"
   ]
  },
  {
   "cell_type": "code",
   "execution_count": 8,
   "metadata": {},
   "outputs": [],
   "source": [
    "noeuds = {'A', 'B'}\n",
    "relation = {('A', 'B'): {'o', 'e'}}"
   ]
  },
  {
   "cell_type": "code",
   "execution_count": 13,
   "metadata": {},
   "outputs": [],
   "source": [
    "tout = set(symetrie.keys())\n",
    "class Graphe:\n",
    "    def __init__(self, noeuds, relations) -> None:\n",
    "        self.noeuds = noeuds\n",
    "        self.relations = relations\n",
    "    \n",
    "    def getRelation(self, i, j):\n",
    "        if (i,j) in self.relations.keys():\n",
    "            return self.relation[(i,j)]\n",
    "        elif (j,i) in self.relations.keys():\n",
    "            return transposeSet(self.relations[(j,i)])\n",
    "        else:\n",
    "            return tout\n",
    "    \n",
    "def propagation(graph : Graphe, n1, n2):\n",
    "    pile = [(n1,n2)]\n",
    "    for R in pile:\n",
    "        I = R[0]\n",
    "        J = R[1]\n",
    "        for K in graph.noeuds:\n",
    "            if K == I or K == J:\n",
    "                continue\n",
    "            else:\n",
    "                nR_IK = compositionSet(\n",
    "                    graph.getRelation(I, K)\n",
    "                        .intersection(graph.getRelation(*R))\n",
    "                        .union(graph.getRelation(J, K))\n",
    "                    )\n",
    "                nR_KJ = compositionSet(\n",
    "                    graph.getRelation(K, J)\n",
    "                        .intersection(graph.getRelation(K, I))\n",
    "                        .union(graph.getRelation(I, K))\n",
    "                    )\n",
    "                if nR_IK == set() or nR_KJ == set():\n",
    "                    return False\n",
    "                if nR_IK != graph.getRelation(I, K):\n",
    "                    # UPDATE ?? graph.relations[()] = n\n",
    "                    pile.append((I, K))\n",
    "                if nR_KJ != graph.getRelation(K, J):\n",
    "                    # UPDATE ?? graph.\n",
    "                    pile.append((K, J))\n",
    "\n",
    "def ajouter(graph, n1, n2):\n",
    "    # si le noeud existe pas il ajoute \n",
    "    # Si elle existe dans le sens inverse il la mets à jours avec la transposé + vérification de la contradiction \n",
    "    # si pas de contradiction je propage\n"
   ]
  },
  {
   "cell_type": "code",
   "execution_count": null,
   "metadata": {},
   "outputs": [],
   "source": []
  }
 ],
 "metadata": {
  "kernelspec": {
   "display_name": "Python 3.8.10 64-bit",
   "language": "python",
   "name": "python3"
  },
  "language_info": {
   "codemirror_mode": {
    "name": "ipython",
    "version": 3
   },
   "file_extension": ".py",
   "mimetype": "text/x-python",
   "name": "python",
   "nbconvert_exporter": "python",
   "pygments_lexer": "ipython3",
   "version": "3.8.10"
  },
  "orig_nbformat": 4,
  "vscode": {
   "interpreter": {
    "hash": "916dbcbb3f70747c44a77c7bcd40155683ae19c65e1c03b4aa3499c5328201f1"
   }
  }
 },
 "nbformat": 4,
 "nbformat_minor": 2
}
