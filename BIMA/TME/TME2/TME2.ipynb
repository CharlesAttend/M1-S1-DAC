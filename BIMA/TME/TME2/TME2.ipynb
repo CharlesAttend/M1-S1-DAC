{
 "cells": [
  {
   "cell_type": "markdown",
   "metadata": {},
   "source": [
    "# Practical work 2 : Fourier transform\n",
    "\n",
    "This practial work is dedicated to the study of the discrete Fourier transform applied on the two following images:\n",
    "![son.png](./img/son.png)\n",
    "![sonrot.png](./img/sonrot.png)\n",
    "and analyze the properties of their spectrum. To this end, we make use of the following functions provided by the module `numpy.fft`:\n",
    "\n",
    "- `fft2()` to compute the Fourier transform on an image\n",
    "- `fftshift()` to center the low frequencies\n",
    "- `abs()` (from `numpy`) to compute the module of a complexe array\n",
    "\n",
    "In most of cases, high frequencies have lower energy compare to low frequencies. We will use a logarithmic scale by applying $\\log(1+abs(TF))$ to display the spectrum."
   ]
  },
  {
   "cell_type": "code",
   "execution_count": 1,
   "metadata": {},
   "outputs": [],
   "source": [
    "import numpy as np\n",
    "from numpy.fft import fft2,fftshift\n",
    "from PIL import Image\n",
    "\n",
    "son = np.array(Image.open('img/son.png'))\n",
    "sonrot = np.array(Image.open('img/sonrot.png'))"
   ]
  },
  {
   "cell_type": "markdown",
   "metadata": {},
   "source": [
    "## Exercice: properties of Fourier transform applied on natural images\n",
    "1. Write the following functions:\n",
    " - `computeFT(I)` returning the Fourier transform of image `I`,\n",
    " - `toVisualizeFT(If)` returning the centered module of a complex array `If` (the Fourier transform of an image),\n",
    " - `toVisualizeLogFT(If)` similar to the previous function but use a logarithmic scale."
   ]
  },
  {
   "cell_type": "code",
   "execution_count": null,
   "metadata": {},
   "outputs": [],
   "source": [
    "def computeFT(I):\n",
    "    \"\"\" Array -> Array[complex] \"\"\"\n",
    "\n",
    "def toVisualizeFT(If):\n",
    "    \"\"\" Array[complex] -> Array[float] \"\"\"\n",
    "\n",
    "def toVisualizeLogFT(If):\n",
    "    \"\"\" Array[complex] -> Array[float] \"\"\"\n",
    "\n"
   ]
  },
  {
   "cell_type": "markdown",
   "metadata": {},
   "source": [
    "2. Write a series of instructions that\n",
    " - compute the Fourier transform of `son` and `sonrot`,\n",
    " - compute and display the module using a logarithmic scale,\n",
    " - threshold the module with a parameter of $1.10^5$ (use the function of TME1)\n",
    " - display the thresholded spectrum"
   ]
  },
  {
   "cell_type": "code",
   "execution_count": null,
   "metadata": {},
   "outputs": [],
   "source": [
    "import matplotlib.pyplot as plt\n",
    "\n",
    "# your code below"
   ]
  },
  {
   "cell_type": "markdown",
   "metadata": {},
   "source": [
    "3. Interpretation: discuss the results obtained on thresholded FT module. What property of the Fourier transform is shown ?"
   ]
  },
  {
   "cell_type": "markdown",
   "metadata": {},
   "source": [
    "\n"
   ]
  },
  {
   "cell_type": "markdown",
   "metadata": {},
   "source": [
    "4. Write the function `blend()` getting two images, one float parameter $\\alpha\\in[0,1]$, calculating $\\alpha I_1+(1-\\alpha)I_2$ and returning the result. "
   ]
  },
  {
   "cell_type": "code",
   "execution_count": null,
   "metadata": {},
   "outputs": [],
   "source": [
    "def blend(I1,I2,alpha):\n",
    "    \"\"\" Array**2*float -> Array \"\"\"\n"
   ]
  },
  {
   "cell_type": "markdown",
   "metadata": {},
   "source": [
    "5. Apply the previous function on images `son` and `sonrot` and $\\alpha=\\frac12$, compute the Fourier transform, threshold the module and visualize the result. "
   ]
  },
  {
   "cell_type": "code",
   "execution_count": null,
   "metadata": {},
   "outputs": [],
   "source": []
  },
  {
   "cell_type": "markdown",
   "metadata": {},
   "source": [
    "6. Compare the latter result with those of question 2: what property of the Fourier transform is shown? What is the behaviour of $\\alpha$ in the resulting spectrum?"
   ]
  },
  {
   "cell_type": "markdown",
   "metadata": {},
   "source": []
  },
  {
   "cell_type": "markdown",
   "metadata": {},
   "source": [
    "7. We want to determine the text orientation in image `sonrot` and produce a new image with horizontal text. Write the function `rectifyOrientation()` that:\n",
    "\n",
    " + computes the FT module of image given in parameter and threshold it at $3\\times 10^{5}$,\n",
    " + from thresholded module determines the main orientation using the function `mainOrientation()` \n",
    " + produces the rectified image applying a rotation with a suitable angle using `rotateImage()`"
   ]
  },
  {
   "cell_type": "code",
   "execution_count": null,
   "metadata": {},
   "outputs": [],
   "source": [
    "def mainOrientation(I):\n",
    "    \"\"\" Array -> tuple[Iori,float]\n",
    "        return image of orientation (32 bins) and the main orientation (degree) from a Fourier transform module\n",
    "    \"\"\"\n",
    "    n, m = I.shape\n",
    "\n",
    "    size = 32\n",
    "    x = np.array(range(size))\n",
    "    ori = np.vstack((np.cos(np.pi*x/size), np.sin(np.pi*x/size))).T\n",
    "\n",
    "    Iori = np.zeros((n, m))\n",
    "    orients = np.zeros((size))\n",
    "\n",
    "    for i in range(1,n+1):\n",
    "        for j in range(1,m+1):\n",
    "            if I[i-1, j-1] > 0:\n",
    "                v = np.array([j-m/2, -i + n/2])\n",
    "                if i > n/2:\n",
    "                    v = -v\n",
    "                    prod = np.matmul(ori, v)\n",
    "                    maxi = prod.max()\n",
    "                    if maxi > 0:\n",
    "                        imax = np.nonzero(prod == maxi)\n",
    "                        Iori[i-1, j-1] = imax[0]\n",
    "                        orients[imax] += 1\n",
    "\n",
    "    maxori = np.nonzero(orients == orients.max())[0][0]\n",
    "    return (Iori, 180*maxori/size - 90)\n",
    "\n",
    "def rotateImage(I,a):\n",
    "    \"\"\" Array*float -> Array \n",
    "        return a rotation of angle a (degree) of image I\n",
    "    \"\"\"\n",
    "    return np.array(Image.fromarray(I).rotate(a, expand=True, fillcolor=127))\n",
    "\n",
    "####### your code below\n",
    "\n"
   ]
  },
  {
   "cell_type": "markdown",
   "metadata": {},
   "source": [
    "8. Experiment `rectifyOrientation()` on `sinrot`, and on a rotation of `img/port.jpg` (using `rotateImage()`) with various rotation angles.  "
   ]
  },
  {
   "cell_type": "code",
   "execution_count": null,
   "metadata": {},
   "outputs": [],
   "source": []
  }
 ],
 "metadata": {
  "kernelspec": {
   "display_name": "Python 3",
   "language": "python",
   "name": "python3"
  },
  "language_info": {
   "codemirror_mode": {
    "name": "ipython",
    "version": 3
   },
   "file_extension": ".py",
   "mimetype": "text/x-python",
   "name": "python",
   "nbconvert_exporter": "python",
   "pygments_lexer": "ipython3",
   "version": "3.8.0"
  }
 },
 "nbformat": 4,
 "nbformat_minor": 2
}
