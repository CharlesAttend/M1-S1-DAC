{
 "cells": [
  {
   "cell_type": "markdown",
   "metadata": {},
   "source": [
    "# Practical work 6 : Harris Corner Detector\n",
    "\n",
    "The goal of this pratical work is to implement the Harris-Stephen's corners detector (C. Harris and M. Stephens. A combined corner and edge detector. In Proc. Fourth Alvey Vision Conference, pages 147–151, 1988).\n",
    "\n",
    "Recall the Harris detector computes a map of corners from an image $I$:\n",
    "$$\n",
    "R(x,y) = \\operatorname{det}(M) - k (\\operatorname{trace}(M))^2, (x,y) \\text{pixels}\n",
    "$$\n",
    "with $k\\in[0.04, 0.06]$. $M$ is the auto-correlation of image $I$:\n",
    "$$\n",
    "M=\\begin{pmatrix}\n",
    "\\sum_{x,y \\in W} w(x,y)I_x^2 &\n",
    "\\sum_{x,y \\in W} w(x,y)I_xI_y \\\\\n",
    "\\sum_{x,y \\in W} w(x,y)I_xI_y &\n",
    "\\sum_{x,y \\in W} w(x,y)I_y^2 \n",
    "\\end{pmatrix}\n",
    "=\\begin{pmatrix}\n",
    "A & B \\\\ C & D\n",
    "\\end{pmatrix}\n",
    "$$\n",
    "with $w(x,y)=\\frac1{2\\pi \\sigma^2}e^{\\frac{(x-x_c)^2 + (y-y_c)^2}{2\\sigma^2}}$ a Gaussian mask centered on the window $W$. Partial derivatives $I_x$ and $I_y$ are estimated by one of the following kernels :\n",
    "- Gradient:  $G_x = \\begin{pmatrix} 0 & 0 & 0\\\\ 1 & 0 &-1 \\\\ 0 & 0 & 0 \\end{pmatrix}$,\n",
    " $G_y = G_x^T$\n",
    "- Prewitt: $G_x = \\begin{pmatrix} 1 & 0 & -1\\\\ 1 & 0 &-1 \\\\ 1 & 0 & -1 \\end{pmatrix}$,\n",
    " $G_y = G_x^T$\n",
    "- Sobel: $G_x = \\begin{pmatrix} 1 & 0 & -1\\\\ 2 & 0 &-2 \\\\ 1 & 0 & -1 \\end{pmatrix}$,\n",
    " $G_y = G_x^T$\n",
    " \n"
   ]
  },
  {
   "cell_type": "code",
   "execution_count": null,
   "metadata": {},
   "outputs": [],
   "source": [
    "# Load useful libraries\n",
    "from PIL import Image\n",
    "import matplotlib.pyplot as plt\n",
    "import numpy as np\n",
    "import scipy.signal\n",
    "\n",
    "# Useful functions \n",
    "def gaussianKernel(sigma):\n",
    "    \"\"\" double -> Array\n",
    "        return a gaussian kernel of standard deviation sigma\n",
    "    \"\"\"\n",
    "    n2 = np.int(np.ceil(3*sigma))\n",
    "    x,y = np.meshgrid(np.arange(-n2,n2+1),np.arange(-n2,n2+1))\n",
    "    kern = np.exp(-(x**2+y**2)/(2*sigma*sigma))\n",
    "    return  kern/kern.sum()"
   ]
  },
  {
   "cell_type": "markdown",
   "metadata": {},
   "source": [
    "## Exercise 1: Harris response calculation"
   ]
  },
  {
   "cell_type": "markdown",
   "metadata": {},
   "source": [
    "1) Write a function `computeR(I, scale, kappa)` that returns the Harris response $R$ from an image $I$ and a scale $scale$. You will use 5 steps:\n",
    "- Computation of the directionnal derivate $I_x$ and $I_y$. Use the Sobel kernel.\n",
    "- Computation of the products $I_x^2$, $I_y^2$, $I_x.I_y$.\n",
    "- Computation of the convolution of $I_x^2$, $I_y^2$ and $I_x.I_y$ by a gaussian kernel of size N (use given function `gaussianKernel()`)\n",
    "- Computation of $\\operatorname{det}(M(x,y))$ and $\\operatorname{trace}(M(x,y))$ for each pixel\n",
    "- Computation of $R(x,y) = \\operatorname{det}(M(x,y)) - k.(\\operatorname{trace}(M(x,y)))^2$. You can use $k = 0.04$.\n",
    "\n",
    " You can compute the convolutions by using the ```scipy.signal.convolve2d``` function. \n"
   ]
  },
  {
   "cell_type": "code",
   "execution_count": 6,
   "metadata": {},
   "outputs": [],
   "source": [
    "def computeR(image,scale,kappa):\n",
    "    \"\"\" Array[n, m]*float*float->Array[n, m]\n",
    "    \"\"\""
   ]
  },
  {
   "cell_type": "markdown",
   "metadata": {},
   "source": [
    "2) Write a script that displays the Harris response for the image ```img/house2.png``` along with the original image. Use a gaussian window of size $W=15$ pixels."
   ]
  },
  {
   "cell_type": "code",
   "execution_count": null,
   "metadata": {},
   "outputs": [],
   "source": []
  },
  {
   "cell_type": "markdown",
   "metadata": {},
   "source": [
    "3) Write in a few lines an interpretation of the results, explaining how the Harris response allows to detect and discriminate homogeneous areas, edges and corners."
   ]
  },
  {
   "cell_type": "markdown",
   "metadata": {},
   "source": [
    "Your answer..."
   ]
  },
  {
   "cell_type": "markdown",
   "metadata": {},
   "source": [
    "## Exercise 2 : Harris corner detector\n",
    "From the Harris response calculated at exercise 1, we will write all the functions needed for the Harris detector. Write the following functions: "
   ]
  },
  {
   "cell_type": "markdown",
   "metadata": {},
   "source": [
    "1) A function `thresholdR(R, thres)` that calculates and returns the binary thresholding $R_b$ of the response $R$ according to the threshold $thres$"
   ]
  },
  {
   "cell_type": "code",
   "execution_count": null,
   "metadata": {},
   "outputs": [],
   "source": [
    "def thresholdR(R, thres):\n",
    "    \"\"\" Array[n, m] * float -> Array[n, m]\n",
    "    \"\"\"\n",
    "    "
   ]
  },
  {
   "cell_type": "markdown",
   "metadata": {},
   "source": [
    "2) A function `Rnms(R, Rbin)` that performs a non-maximum supression from the response $R$ and the binarized response $R_{bin}$. It returns the image $R_{locmax}$ (same size as $R$) =1 where $R_{bin}=1$ and the pixel has a greater value $R$ than its 8 nearest neighbors.\n",
    "\n",
    "**Bonus**: Write a faster version of the script using Numpy function `np.roll()`."
   ]
  },
  {
   "cell_type": "code",
   "execution_count": 1,
   "metadata": {},
   "outputs": [],
   "source": [
    "def rnms(image_harris):\n",
    "    \"\"\" Array[n, m] -> Array[n, m] \n",
    "    \"\"\"\n"
   ]
  },
  {
   "cell_type": "markdown",
   "metadata": {},
   "source": [
    "3) Write a function ``cornerDetector(image, scale, kappa, thresh)`` that returns an array of the same size as the image. The array takes two values: 1 where a corner is detected and 0 elsewhere."
   ]
  },
  {
   "cell_type": "code",
   "execution_count": null,
   "metadata": {},
   "outputs": [],
   "source": [
    "def cornerDetector(image, sigma, kappa, thres):\n",
    "    \"\"\" Array[n, m]*float*float*float -> Array[n, m]\n",
    "    \"\"\""
   ]
  },
  {
   "cell_type": "markdown",
   "metadata": {},
   "source": [
    "4 ) Display the detected corners on the original image for the image ```img/house2.png```. Each detected corner will be displayed as a small red disk. You can use the functions ```np.nonzero()``` and ```plt.scatter()``` to that purpose."
   ]
  },
  {
   "cell_type": "code",
   "execution_count": null,
   "metadata": {},
   "outputs": [],
   "source": []
  },
  {
   "cell_type": "markdown",
   "metadata": {},
   "source": [
    "5) Evaluate the performances of the corner detector. Try to find good values for Sigma and Threshold."
   ]
  },
  {
   "cell_type": "markdown",
   "metadata": {},
   "source": []
  },
  {
   "cell_type": "markdown",
   "metadata": {},
   "source": [
    "## Exercise 3 : Properties of Harris corner detector\n",
    "\n",
    "The goal of this exercice is to study some invariance properties of Harris detector.\n",
    "\n",
    "1) Write a script that detects the corners on the images ```img/toyHorse1.png``` and ```img/toyHorse2.png``` with a scale of 15 and appropriate threshold value. Display the detected corners on the images."
   ]
  },
  {
   "cell_type": "code",
   "execution_count": null,
   "metadata": {},
   "outputs": [],
   "source": []
  },
  {
   "cell_type": "markdown",
   "metadata": {},
   "source": [
    "2) What are the dynamic ranges of these two images ?"
   ]
  },
  {
   "cell_type": "markdown",
   "metadata": {},
   "source": [
    "Your answer..."
   ]
  },
  {
   "cell_type": "markdown",
   "metadata": {},
   "source": [
    "3) What are the transformations beetween the two images ?"
   ]
  },
  {
   "cell_type": "markdown",
   "metadata": {},
   "source": [
    "Your answer..."
   ]
  },
  {
   "cell_type": "markdown",
   "metadata": {},
   "source": [
    "4) Using a fixed threshold, is the detection invariant to rotation ? To affine transformation of brightness ?"
   ]
  },
  {
   "cell_type": "markdown",
   "metadata": {},
   "source": [
    "Your Answer"
   ]
  }
 ],
 "metadata": {
  "kernelspec": {
   "display_name": "Python 3",
   "language": "python",
   "name": "python3"
  },
  "language_info": {
   "codemirror_mode": {
    "name": "ipython",
    "version": 3
   },
   "file_extension": ".py",
   "mimetype": "text/x-python",
   "name": "python",
   "nbconvert_exporter": "python",
   "pygments_lexer": "ipython3",
   "version": "3.8.0"
  }
 },
 "nbformat": 4,
 "nbformat_minor": 2
}
