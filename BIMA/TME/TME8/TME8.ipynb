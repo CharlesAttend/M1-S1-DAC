{
 "cells": [
  {
   "cell_type": "markdown",
   "metadata": {},
   "source": [
    "# Practical work 8: Color quantification and search by content\n",
    "\n",
    "\n",
    "In this practical work session, we will:\n",
    "\n",
    "- Develop a color based descriptor that can be applied to every image in a database\n",
    "- Use this color descriptor to create a method that searches images by content: the goal is to find the images that are the most similar to a query."
   ]
  },
  {
   "cell_type": "code",
   "execution_count": 3,
   "metadata": {},
   "outputs": [],
   "source": [
    "# Load useful library\n",
    "\n",
    "from PIL import Image\n",
    "import matplotlib.pyplot as plt\n",
    "import numpy as np\n",
    "import scipy.signal\n",
    "import scipy.ndimage\n",
    "from skimage.color import rgb2hsv, hsv2rgb\n",
    "\n",
    "# Usefull functions\n",
    "def setColors(nH, nS, nV):\n",
    "    \"\"\" int**3 -> Array[nH*nS*nV,3]*Array[nH,nS,nV,3]\n",
    "        computes an RGB palette from a sampling of HSV values\n",
    "    \"\"\"\n",
    "    pal1 = np.zeros((nH*nS*nV, 3))\n",
    "    pal2 = np.zeros((nH, nS, nV, 3))\n",
    "    tH, tS, tV = 1/(2*nH), 1/(2*nS), 1/(2*nV)\n",
    "\n",
    "    idx = 0\n",
    "    for i in range(nH):\n",
    "        for j in range(nS):\n",
    "            for k in range(nV):\n",
    "                HSVval = np.array([[[i/nH + tH, j/nS + tS, k/nV + tV]]])\n",
    "                pal1[idx, :] = hsv2rgb(HSVval)*255  \n",
    "                pal2[i, j, k, :] = hsv2rgb(HSVval)*255\n",
    "                idx += 1\n",
    "    return pal1, pal2\n",
    "\n",
    "def viewQuantizedImage(I,pal):\n",
    "    \"\"\" Array*Array -> Array\n",
    "        Display an indexed image with colors according to pal \n",
    "    \"\"\"\n",
    "    Iview = np.empty(I.shape)\n",
    "    n, m, c = I.shape\n",
    "    for i in range(n):\n",
    "        for j in range(m):\n",
    "            h, s, v = I[i, j, :]\n",
    "            Iview[i, j, :] = pal[ np.int(h), np.int(s), np.int(v), :]\n",
    "    print( Iview.max())\n",
    "    plt.imshow(Iview/255)\n",
    "    plt.show()\n",
    "\n",
    "def display5mainColors(histo, pal):\n",
    "    \"\"\" Array*Array -> NoneType\n",
    "        Display the 5 main colors in histo \n",
    "    \"\"\"\n",
    "    idx = np.argsort(histo)\n",
    "    idx = idx[::-1]\n",
    "    K = 5\n",
    "    for i in range (K):\n",
    "        Ia = np.zeros((1, 1, 3), dtype=np.uint8)\n",
    "        Ia[0,0,0] = pal[idx[i], 0]\n",
    "        Ia[0,0,1] = pal[idx[i], 1]\n",
    "        Ia[0,0,2] = pal[idx[i], 2]\n",
    "        plt.subplot(1, K, i+1)\n",
    "        plt.imshow(Ia)\n",
    "        plt.axis('off')\n",
    "    plt.show()\n",
    "\n",
    "def display20bestMatches(S, indexQuery):\n",
    "    \"\"\" Array*int -> NoneType \n",
    "    \"\"\"\n",
    "    L = S[indexQuery, :]\n",
    "    Idx = np.argsort(L)[::-1]\n",
    "    cpt = 1\n",
    "    plt.figure(figsize=(15, 10))\n",
    "    for idx in Idx[:20]:\n",
    "        plt.subplot(5, 4, cpt)\n",
    "        indexQuery = idx\n",
    "        imageName = (pathImage+NomImageBase[indexQuery]).strip()\n",
    "        plt.imshow(np.array(Image.open(imageName))/255.)\n",
    "        plt.title(NomImageBase[indexQuery])\n",
    "        plt.axis('off')\n",
    "        cpt += 1\n",
    "    plt.show()"
   ]
  },
  {
   "cell_type": "markdown",
   "metadata": {},
   "source": [
    "## Exercise 1: HSV histogram computation\n",
    "\n",
    "Each image of the base will be represented by its color histogram in the HSV representation. We use the HSV representation rather that the RGB representation because it is a perceptual color space: two colors that look similar will have close HSV vectors."
   ]
  },
  {
   "cell_type": "markdown",
   "metadata": {},
   "source": [
    "1) Write a function ```iv = quantize(v,K)``` that returns the quantize interval of `v` considering a uniform quantization of values over the range $[0,1]$ with `K` evenly spaced intervals. For a image value v=1, the function will return K-1."
   ]
  },
  {
   "cell_type": "code",
   "execution_count": null,
   "metadata": {},
   "outputs": [],
   "source": [
    "def quantize(I, k):\n",
    "    \"\"\" float*int -> int \n",
    "    \"\"\"\n",
    "\n",
    "\n",
    "# You can test your function with the following lines:\n",
    "h = np.zeros((8))\n",
    "for i in range(256):\n",
    "    h[quantize(i/255.,8)] += 1\n",
    "assert (h == 32*np.ones((8))).all()"
   ]
  },
  {
   "cell_type": "markdown",
   "metadata": {},
   "source": [
    "2) Write a function ```[Iq, histo] = quantizeImage(I,Nh,Ns,Nv)``` that takes as input one image I of size N x M x 3 in the HSV representation and the number of quantification interval needed for H, S and V. \n",
    "    Your function will return: \n",
    " *    ```Iq```: the quantified image for each channel, of size N x M x 3\n",
    " *   ```hist```: a 3D histogram of size Nh x Ns x Nv that counts the number of pixel for each quantification bin (iH, iS, iV)"
   ]
  },
  {
   "cell_type": "code",
   "execution_count": null,
   "metadata": {},
   "outputs": [],
   "source": [
    "def quantizeImage(I, nH, nS, nV):\n",
    "    \"\"\" Array*int -> Array*Array\n",
    "    \"\"\"\n"
   ]
  },
  {
   "cell_type": "markdown",
   "metadata": {},
   "source": [
    "3) Write a function ```normalized_histo = NormalizeHistL2(histo)``` that applies a normalization on the histogram ```histo``` according to the L2 norm.\n",
    "The L2 norm of x can be computed using the function ```numpy.linalg.norm(x,2)```\n",
    "\n"
   ]
  },
  {
   "cell_type": "code",
   "execution_count": null,
   "metadata": {},
   "outputs": [],
   "source": [
    "def normalize(H):\n",
    "    \"\"\" Array -> Array\"\"\""
   ]
  },
  {
   "cell_type": "markdown",
   "metadata": {},
   "source": [
    "4) Test of the HSV histogram on an image: Complete the following code with your functions in order to apply it on one of the images of the base. The code will follow the following steps:\n",
    "   1. Open the image and convert it into HSV representation.\n",
    "   2. Compute the color palette for the display using the given ```setColors(nH, nS, nV)``` function.\n",
    "   3. Compute the quantization of the image then visualize the quantized image using ```viewQuantizedImage(I,pal) ```.\n",
    "   4. Transform the 3D histogram into a 1D histogram, normalize it according to L2 norm then visualize it.\n",
    "   5. Display the 5 most prevalent colors on the image using ```display5mainColors(histo, pal)```.\n",
    "\n",
    "   You can try this on the image ```Paysages67.png```with ```nH = 12```, ```nS = 3```  and ```nV = 8``` and find a result similar to Figures 1, 2, 3, and 4.\n",
    "\n",
    "![figure1](./figs/Figure_1.png)\n",
    "<center>Figure 1: Paysage67.png</center>\n",
    "\n",
    "![figure2](./figs/Figure_2.png)\n",
    "<center>Figure 2: Paysage67.png quantized</center>\n",
    "\n",
    "![figure3](./figs/Figure_3.png)\n",
    "<center>Figure 3: Histogram of HSV image (288 bins)</center>\n",
    "\n",
    "![figure4](./figs/Figure_4.png)\n",
    "<center>Figure 4: 5 main colors</center>\n"
   ]
  },
  {
   "cell_type": "code",
   "execution_count": null,
   "metadata": {},
   "outputs": [],
   "source": [
    "\n",
    "PathImage = './Base/'  # to be completed\n",
    "nom = ''  # to be completed\n",
    "\n",
    "# quantization parameters\n",
    "nH = # to be completed\n",
    "nS = # to be completed\n",
    "nV = # to be completed\n",
    "\n",
    "\n",
    "filename= nom;\n",
    "I = np.array(Image.open(PathImage + filename))\n",
    "I = I / 255.  # I values range in [0,1]\n",
    "plt.figure();\n",
    "plt.imshow(I);\n",
    "plt.show()\n",
    "\n",
    "# conversion RGB->HSV\n",
    "J = rgb2hsv(I)\n",
    "\n",
    "# color palette computation\n",
    "palette, palette2 = setColors( nH, nS , nV );\n",
    "\n",
    "# Image quantization (your function)\n",
    "Iq, histo = quantizeImage(J, nH, nS, nV)\n",
    "\n",
    "# Visualisation of quantized image\n",
    "viewQuantizedImage(Iq , palette2)\n",
    "\n",
    "# flat a 3D histogram to 1D\n",
    "histo = histo.flat\n",
    "\n",
    "# Histogram normalization (your function)\n",
    "histo = normalize(histo)\n",
    "\n",
    "plt.figure()\n",
    "plt.plot(histo)\n",
    "plt.show()\n",
    "\n",
    "## Determine 5 more frequent colors\n",
    "idx_most_prevalent = (-histo).argsort()[:5]\n",
    "hsv_most_prevalent = [np.unravel_index(idx,( nH, nS , nV )) for idx in idx_most_prevalent]\n",
    "\n",
    "display5mainColors(histo, palette)\n",
    "\n",
    "print(hsv_most_prevalent)"
   ]
  },
  {
   "cell_type": "markdown",
   "metadata": {},
   "source": [
    "5) Change the values of ```nH```, ```nS```  and ```nV``` and analyze the results. You can try with other images in the base."
   ]
  },
  {
   "cell_type": "code",
   "execution_count": null,
   "metadata": {},
   "outputs": [],
   "source": []
  },
  {
   "cell_type": "markdown",
   "metadata": {},
   "source": [
    "6) What can you say about the results?"
   ]
  },
  {
   "cell_type": "markdown",
   "metadata": {},
   "source": [
    "Your answer: ............"
   ]
  },
  {
   "cell_type": "markdown",
   "metadata": {},
   "source": [
    "## Exercise 2: Similarity between images: \n",
    "\n",
    "In this exercice, we will compute a measure of similarity between two images from the normalized histogram. This measure of similarity will be used in order to find images that are the most similar to a given image."
   ]
  },
  {
   "cell_type": "markdown",
   "metadata": {},
   "source": [
    "### Question 2.1:  Computation of the histograms for the whole base\n",
    "\n",
    "Complete the following script to compute the histograms for every image in the base. As the computation can take a lot of time, we will do it only one time and store the result in ```ListHisto.mat```. The results will be stored as a ```N x M``` array ```listHisto``` with ```N = 1040``` and ```M = nH x nS x nV ```. We will also save the names of the images as ```listImage```\n",
    "\n",
    "Set ```bcomputed = False``` for the first run to compute the database histograms and then set it to 1.\n"
   ]
  },
  {
   "cell_type": "code",
   "execution_count": null,
   "metadata": {},
   "outputs": [],
   "source": [
    "import os\n",
    "from scipy.io.matlab.mio import loadmat, savemat\n",
    "\n",
    "#####\n",
    "\n",
    "pathImage = './Base/'\n",
    "pathDescriptors = './'\n",
    "\n",
    "# Quantization HSV\n",
    "nH = \n",
    "nS = \n",
    "nV = \n",
    "\n",
    "bcomputed = True # Set to False to compute the histogramm database\n",
    "\n",
    "if not bcomputed:\n",
    "    listImage = os.listdir(pathImage)\n",
    "    listHisto = []\n",
    "    print('Histogram database computation ... it may take a while ...')\n",
    "    for imageName in listImage:\n",
    "        if os.path.isfile(pathImage+imageName) and imageName[-4:] == '.png':\n",
    "            print( imageName)\n",
    "            # read image\n",
    "            I = np.array(Image.open(pathImage+imageName)) / 255.\n",
    "\n",
    "            # conversion RGB->HSV\n",
    "            J = rgb2hsv(I);\n",
    "            # Image quantization (your function tested in Exo 1)\n",
    "            _,histo = quantizeImage(J, nH, nS, nV)\n",
    "  \n",
    "            # flat a 3D histogram in 1D\n",
    "            histo = histo.flatten()\n",
    "            \n",
    "            # Normalize histogramme (your function tested in Exo 1)\n",
    "            listHisto.append(normalize(histo))\n",
    "\n",
    "    print(len(listHisto), \"histograms computed\")\n",
    "    nomList = pathDescriptors+'ListHisto.mat'\n",
    "    savemat(nomList, {'listHisto': np.array(listHisto),\n",
    "                      'listImage': np.array(listImage)})\n",
    "else:\n",
    "    print(\"Histogram database computation already done.\")"
   ]
  },
  {
   "cell_type": "markdown",
   "metadata": {},
   "source": [
    "### Question 2.2: Computation of the similarity between every images in the base.\n",
    "\n",
    "   1. Write a function ```similarityMatrix()``` or a script that performs the similarity computation for every pair of images in the base from the histograms stored in ```listHisto``` and store the result in a ```1024 x 1024``` matrix ```S```. It is possible to make the operation much faster by using only one matrix operation."
   ]
  },
  {
   "cell_type": "code",
   "execution_count": null,
   "metadata": {},
   "outputs": [],
   "source": [
    "mat = loadmat(pathDescriptors+'ListHisto.mat')\n",
    "listHisto = mat['listHisto']\n",
    "listImage = mat['listImage']\n",
    "\n",
    "### you code below"
   ]
  },
  {
   "cell_type": "markdown",
   "metadata": {},
   "source": [
    "2. Display the matrix `S`  as an image. What can we say about this it ?"
   ]
  },
  {
   "cell_type": "markdown",
   "metadata": {},
   "source": [
    "Your answer: .................."
   ]
  },
  {
   "cell_type": "code",
   "execution_count": null,
   "metadata": {},
   "outputs": [],
   "source": []
  },
  {
   "cell_type": "markdown",
   "metadata": {},
   "source": [
    "3. Assuming `S` is already computed and using function `display20bestMatches()`, test on the image `Liontigre1.png` (indexQuery = 349). You should obtain something similar to Figure 5.\n",
    "\n",
    "![figure5.png](./figs/Figure_5.png)\n",
    "<center>Figure 5: 20 best matches of image 'Liontigre1.png'</center>"
   ]
  },
  {
   "cell_type": "code",
   "execution_count": null,
   "metadata": {},
   "outputs": [],
   "source": [
    "# a supprimer je pense !!!!\n",
    "indexQuery = 349\n",
    "display20bestMatches(S, indexQuery)\n",
    "imageName = (pathImage+NomImageBase[indexQuery]).strip()\n"
   ]
  },
  {
   "cell_type": "markdown",
   "metadata": {},
   "source": [
    "4. Assuming `S` is already computed, generate a random query (an integer in range $[0, 1030]$), and display the 20 best matches.\n"
   ]
  },
  {
   "cell_type": "code",
   "execution_count": null,
   "metadata": {},
   "outputs": [],
   "source": [
    "import random\n"
   ]
  },
  {
   "cell_type": "markdown",
   "metadata": {},
   "source": [
    "5. What can you say about the results ? What are the limitations and the advantages of this method ?"
   ]
  },
  {
   "cell_type": "markdown",
   "metadata": {},
   "source": [
    "Your answer: .........."
   ]
  }
 ],
 "metadata": {
  "kernelspec": {
   "display_name": "Python 3.8.10 64-bit",
   "language": "python",
   "name": "python3"
  },
  "language_info": {
   "codemirror_mode": {
    "name": "ipython",
    "version": 3
   },
   "file_extension": ".py",
   "mimetype": "text/x-python",
   "name": "python",
   "nbconvert_exporter": "python",
   "pygments_lexer": "ipython3",
   "version": "3.8.10"
  },
  "vscode": {
   "interpreter": {
    "hash": "31f2aee4e71d21fbe5cf8b01ff0e069b9275f58929596ceb00d14d90e3e16cd6"
   }
  }
 },
 "nbformat": 4,
 "nbformat_minor": 2
}
