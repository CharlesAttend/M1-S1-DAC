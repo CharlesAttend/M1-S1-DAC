{
 "cells": [
  {
   "cell_type": "markdown",
   "metadata": {},
   "source": [
    "# Practical work 8: Split and Merge\n",
    "\n",
    "In this practical work, we implement and test the split and merge algorithm."
   ]
  },
  {
   "cell_type": "code",
   "execution_count": 1,
   "metadata": {},
   "outputs": [],
   "source": [
    "### Usefull libraries\n",
    "from PIL import Image\n",
    "import numpy as np\n",
    "import matplotlib.pyplot as plt\n",
    "\n",
    "### Data\n",
    "img_test = np.full((64,64),150,dtype=np.uint8)\n",
    "img_test[32:48,16:16+32] = 100\n",
    "img_test[8:24,40:56] = 50\n",
    "angio = np.array(Image.open('img/angiogra.png'))\n",
    "cam = np.array(Image.open('img/cameraman.png'))\n",
    "muscle = np.array(Image.open('img/muscle.png'))\n",
    "prisme = np.array(Image.open('img/prisme.png'))\n",
    "seiche = np.array(Image.open('img/seiche.png'))\n",
    "\n",
    "### Usefull functions\n",
    "def neighbors(b,K):\n",
    "    \"\"\" blockStat*list[blockStat]->list[blockStat]\n",
    "        returns the list of neighbors of b and elements of K \n",
    "    \"\"\"\n",
    "    def belongsTo(x,y,a):\n",
    "        \"\"\" int*int*BlockStat -> bool \n",
    "            Test if pixel (x,y) belongs to block a \n",
    "        \"\"\"\n",
    "        return x>=a[0] and y>=a[1] and x<a[0]+a[2] and y<a[1]+a[3]\n",
    "    def areNeighbors(a,b):\n",
    "        \"\"\" BlockStat**2 -> bool\n",
    "            Test if a and b are neighbors\n",
    "        \"\"\"\n",
    "        if a[2]>b[2] and a[3]>b[3]:\n",
    "            a,b=b,a\n",
    "        x,y = a[0]+a[2]//2,a[1]+a[3]//2\n",
    "        return belongsTo(x+a[2],y,b) or belongsTo(x-a[2],y,b) or belongsTo(x,y+a[3],b) or belongsTo(x,y-a[3],b)\n",
    "    N = []\n",
    "    for n in K:\n",
    "        if areNeighbors(b,n):\n",
    "            N.append(n)\n",
    "    return N\n"
   ]
  },
  {
   "cell_type": "markdown",
   "metadata": {},
   "source": [
    "## Exercise 1\n",
    "\n",
    "### Question 1\n",
    "Write the recursive function ``split()`` discussed in tutorial work. \n",
    "It takes as input the image, a region, a predicate, and a variable number of arguments. \n",
    "The region is a Python formal type ``Block`` defined by:\n",
    "```python\n",
    "type Block = tuple[int**4]\n",
    "```\n",
    "The function ``split()`` returns a quadtree, a Python formal type, recursivelly defined by:\n",
    "```python\n",
    "type QuadTree = list[(QuadTree**4|Block)] \n",
    "```\n",
    "\n",
    "The predicate is a Python function with the following signature:\n",
    "```python\n",
    "Array*Block*...->bool\n",
    "```\n",
    "It can take a variable number of parameters which correspond to the parameters required by the predicate."
   ]
  },
  {
   "cell_type": "code",
   "execution_count": 4,
   "metadata": {},
   "outputs": [],
   "source": [
    "# type Block = tuple[int**4]\n",
    "# type QuadTree = list[(QuadTree**4|Block)] \n",
    "\n",
    "def split(I,reg,pred,*args):\n",
    "    \"\"\" Array*Block*(Array*Block*...->bool)*... -> 4-aire\n",
    "        Performs a quadtree splitting of image I drived by a predicate\n",
    "    \"\"\"\n",
    "   "
   ]
  },
  {
   "cell_type": "markdown",
   "metadata": {},
   "source": [
    "### Question 2\n",
    "Write the function ```predsplit(I,B,*args)``` with signature:\n",
    "```python\n",
    "Array*Block*... -> bool\n",
    "```\n",
    "that returns True if the standard deviation of image ``I`` computed in region ``B`` is greater than the first value of argument ``*args`` (it can be accessed simply by ``*args[0]``)."
   ]
  },
  {
   "cell_type": "code",
   "execution_count": 1,
   "metadata": {},
   "outputs": [],
   "source": [
    "def predsplit(I,reg,*args):\n",
    "    \"\"\" Array*Block*... -> bool\n",
    "    \"\"\" \n",
    "   "
   ]
  },
  {
   "cell_type": "markdown",
   "metadata": {},
   "source": [
    "### Question 3\n",
    "Write the function ``listRegions()`` which applies a depth-first search on the quadtree given as parameter, and returns the list of the leaves of the quadtree. \n",
    "\n",
    "Some recalls about lists in Python;\n",
    " - Initialization: `L = []` (empty list)\n",
    " - Add a element `a` into a list `L`: `L.append(a)`"
   ]
  },
  {
   "cell_type": "code",
   "execution_count": null,
   "metadata": {},
   "outputs": [],
   "source": [
    "def listRegions(L):\n",
    "    \"\"\" QuadTree -> list[Block]\n",
    "    \"\"\"\n",
    "   "
   ]
  },
  {
   "cell_type": "markdown",
   "metadata": {},
   "source": [
    "### Question 4\n",
    "Test your codes on the synthetic image ``img_test`` seen in tutorial work. Print the value returned by ``split()`` as well as the one returned by ``listRegions()``. "
   ]
  },
  {
   "cell_type": "code",
   "execution_count": null,
   "metadata": {},
   "outputs": [],
   "source": []
  },
  {
   "cell_type": "markdown",
   "metadata": {},
   "source": [
    "### Question 5\n",
    "Write the function ```drawRegions(L,I)``` which takes as arguments a list of regions, an image, and returns an image  where the boundaries of each region have been traced with red color. Indication: the returned image is a hypermatrix of dimension 3, the third dimension is of size 3 and encodes the red, green and blue components of a RGB colorspace. Test the function on the previous example."
   ]
  },
  {
   "cell_type": "code",
   "execution_count": 5,
   "metadata": {},
   "outputs": [],
   "source": [
    "def drawRegions(LL,I):\n",
    "    \"\"\" list[Block]*Array -> Array\n",
    "        parcours de la liste dessin des régions \n",
    "    \"\"\""
   ]
  },
  {
   "cell_type": "markdown",
   "metadata": {},
   "source": [
    "### Question 6\n",
    "Add a Gaussian noise with standard deviation 5 to the image ``img_test``. \n",
    "Apply the quadtree splitting on the noisy image by adjusting the threshold to obtain the same result as in the previous question. \n",
    "Which threshold value should be chosen? Does this make sense to you?\n",
    "\n",
    "Hint: use the Numpy function ``random.randn()`` which generates random values according to a normal distribution (Gaussian distribution of null mean and variance 1). To obtain realizations of a Gaussian distribution of standard deviation $\\sigma$, it is sufficient to multiply by $\\sigma$ the realizations of a normal distribution. "
   ]
  },
  {
   "cell_type": "code",
   "execution_count": null,
   "metadata": {},
   "outputs": [],
   "source": [
    "from numpy import random\n"
   ]
  },
  {
   "cell_type": "markdown",
   "metadata": {},
   "source": [
    "## Exercise 2\n",
    "\n",
    "Experiment the split algorithm on the 4 natural images provided. For each image try to find the threshold that seems to you visually the best. Display the number of regions obtained after splitting."
   ]
  },
  {
   "cell_type": "code",
   "execution_count": null,
   "metadata": {},
   "outputs": [],
   "source": []
  },
  {
   "cell_type": "markdown",
   "metadata": {},
   "source": [
    "## Exercise 3\n",
    "### Question 1\n",
    "Modify the function ``listRegions(L)`` to make it a function ``listRegionsStat(L,I)`` which computes the list of leaves of the quadtree ``L``. Each element of this list will be enriched with three scalar values: the first being the size, the second the mean and the third the variance of pixel values of the block in the image ``I``. This function then returns a list whose elements have the following formal type:\n",
    "```python\n",
    "type BlockStat = tuple[int**4,int,float**2]\n",
    "```\n",
    "\n",
    "The first four values are those of the ``Block`` type, the fifth is the size of the block (in number of pixels) and the last two values are the mean and variance calculated over the region."
   ]
  },
  {
   "cell_type": "code",
   "execution_count": 3,
   "metadata": {},
   "outputs": [],
   "source": [
    "# type BlockStat = tuple[int**4,int,float**2]\n",
    "\n",
    "def listRegionsStat(L,I):\n",
    "    \"\"\" QuadTree*Array -> list[BlockStat] \"\"\"\n"
   ]
  },
  {
   "cell_type": "markdown",
   "metadata": {},
   "source": [
    "### Question 2\n",
    "In the remainder, the formal type is considered:\n",
    "```python\n",
    "type Region = list[BlocStats]\n",
    "```\n",
    "A region, as seen during the tutorial work, is therefore a list of blocks. Write the predicate ``predmerge(b,R,*args)`` as seen in tutorial work. This function returns ``True`` if the ``b`` block should merge into the ``R`` region. If a merge happens, then the first item of ``R`` will have its statistics updated to describe the statistics of the region ``R`` merged with `b`."
   ]
  },
  {
   "cell_type": "code",
   "execution_count": null,
   "metadata": {},
   "outputs": [],
   "source": [
    "def predmerge(b,R,*args):\n",
    "    \"\"\" BlocsStat*Region*... -> bool \n",
    "        If merge, R[0] is modified\n",
    "    \"\"\"\n"
   ]
  },
  {
   "cell_type": "markdown",
   "metadata": {},
   "source": [
    "### Question 3\n",
    "Using `predmerge()` and `neighbors()` functions, given at the beginning of the notebook, write the function ``merge()`` discussed in tutorial work (exercise 7.6).\n",
    "\n",
    "Recalls on Python lists:\n",
    "- Remove an element `a` from a list `L`: `L.remove(a)`\n",
    "- Test if `a` belongs to a list `L`: `a in L` \n",
    "- Iterate the elements of a list `L`: `for a in L:`\n",
    "- Access to an element of a list: as with numpy arrays"
   ]
  },
  {
   "cell_type": "code",
   "execution_count": 4,
   "metadata": {},
   "outputs": [],
   "source": [
    "def merge(S,I,pred,*args):\n",
    "    \"\"\" QuadTree*Array*(BlockStat*Region*...->bool) -> list[Region]\n",
    "        Merge the leaves of S in a list of regions\n",
    "    \"\"\"\n",
    "    "
   ]
  },
  {
   "cell_type": "markdown",
   "metadata": {},
   "source": [
    "### Question 4\n",
    "Test the previous functions using the synthetic image `img_test`. In particular, check that merge() returns a list of 3 elements (i.e. 3 regions)."
   ]
  },
  {
   "cell_type": "code",
   "execution_count": null,
   "metadata": {},
   "outputs": [],
   "source": [
    "QT = split(img_test, predsplit, ?)\n",
    "M = merge(QT,predmerge, ?)\n",
    "assert len(M) == 3"
   ]
  },
  {
   "cell_type": "markdown",
   "metadata": {},
   "source": [
    "### Question 5\n",
    "Write a function ``regions(LR,shape)`` that takes as arguments a list of regions (such as returned by the function ``merge()``) and an image size, and returns an image of the regions. Each region will be colored with the gray level corresponding to the average of the region. The ``shape`` parameter gives the size of the image to be produced. \n",
    "\n",
    "Test the function on the previous example."
   ]
  },
  {
   "cell_type": "code",
   "execution_count": null,
   "metadata": {},
   "outputs": [],
   "source": [
    "def regions(LR,shape):\n",
    "    \"\"\" list[Region]*tuple[int,int] -> Array \"\"\"\n"
   ]
  },
  {
   "cell_type": "markdown",
   "metadata": {},
   "source": [
    "## Exercise 4: experiments\n",
    "### Question 1\n",
    "Test the function ``merge()`` on the images ``angio``, ``cam``, ``muscle``, ``prisme`` and ``seiche``. Try to produce the best segmentations."
   ]
  },
  {
   "cell_type": "code",
   "execution_count": null,
   "metadata": {},
   "outputs": [],
   "source": []
  },
  {
   "cell_type": "markdown",
   "metadata": {},
   "source": [
    "### Question 2\n",
    "The result of the merge algorithm highly depends on how you visit the regions. One can then sort the leaves of the quadtree, for example, from the smallest to the largest blocks, or the opposite (use the Python function ``sorted()``). \n",
    "The same question arises when calculating the set of neighbors of the merged region. Should they be sorted? If yes, according to which criteria? their size? their proximity? \n",
    "Obviously there is no universal answer but it should be adapted to each type of problem. \n",
    "Do some tests to see the influence of these sortings on the result of the merger."
   ]
  },
  {
   "cell_type": "code",
   "execution_count": null,
   "metadata": {},
   "outputs": [],
   "source": []
  },
  {
   "cell_type": "markdown",
   "metadata": {},
   "source": [
    "### Question 3 (bonus)\n",
    "Imagine and experiment alternative predicates for both the split and the merge steps. It is possible to use edges-based predicates, and also to combine with variance-based predicates.\n"
   ]
  },
  {
   "cell_type": "code",
   "execution_count": null,
   "metadata": {},
   "outputs": [],
   "source": []
  }
 ],
 "metadata": {
  "kernelspec": {
   "display_name": "Python 3",
   "language": "python",
   "name": "python3"
  },
  "language_info": {
   "codemirror_mode": {
    "name": "ipython",
    "version": 3
   },
   "file_extension": ".py",
   "mimetype": "text/x-python",
   "name": "python",
   "nbconvert_exporter": "python",
   "pygments_lexer": "ipython3",
   "version": "3.8.0"
  }
 },
 "nbformat": 4,
 "nbformat_minor": 2
}
